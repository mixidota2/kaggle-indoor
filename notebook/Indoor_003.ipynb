{
  "nbformat": 4,
  "nbformat_minor": 0,
  "metadata": {
    "accelerator": "GPU",
    "colab": {
      "name": "Indoor_003.ipynb",
      "provenance": [],
      "collapsed_sections": [],
      "toc_visible": true,
      "machine_shape": "hm",
      "mount_file_id": "1BvR8HA789V1HCAAyMyi5cODGRAI0dADN",
      "authorship_tag": "ABX9TyPyBmVK8YEHCKrXmhIPcxNf",
      "include_colab_link": true
    },
    "kernelspec": {
      "display_name": "Python 3",
      "name": "python3"
    }
  },
  "cells": [
    {
      "cell_type": "markdown",
      "metadata": {
        "id": "view-in-github",
        "colab_type": "text"
      },
      "source": [
        "<a href=\"https://colab.research.google.com/github/mixidota2/kaggle-indoor/blob/main/notebook/Indoor_003.ipynb\" target=\"_parent\"><img src=\"https://colab.research.google.com/assets/colab-badge.svg\" alt=\"Open In Colab\"/></a>"
      ]
    },
    {
      "cell_type": "markdown",
      "metadata": {
        "id": "iByMsYwExpm5"
      },
      "source": [
        "## Overview\n",
        "- ベースはLSTM\n",
        "- EXP002で1ずらしでseqlen数のデータを与えていたところを、重複無しで与えるようにする\n",
        "- あと正しいCVが学習中に見れなくて不便なので99%accのデータを一緒に与えてみれるようにする\n",
        "\n",
        "\n"
      ]
    },
    {
      "cell_type": "code",
      "metadata": {
        "id": "sfydvjf5tZRS",
        "colab": {
          "base_uri": "https://localhost:8080/"
        },
        "outputId": "214d02a2-7464-4c7f-ac3b-37d12b76ba7a"
      },
      "source": [
        "!nvidia-smi"
      ],
      "execution_count": 1,
      "outputs": [
        {
          "output_type": "stream",
          "text": [
            "Fri Apr 23 15:03:19 2021       \n",
            "+-----------------------------------------------------------------------------+\n",
            "| NVIDIA-SMI 465.19.01    Driver Version: 460.32.03    CUDA Version: 11.2     |\n",
            "|-------------------------------+----------------------+----------------------+\n",
            "| GPU  Name        Persistence-M| Bus-Id        Disp.A | Volatile Uncorr. ECC |\n",
            "| Fan  Temp  Perf  Pwr:Usage/Cap|         Memory-Usage | GPU-Util  Compute M. |\n",
            "|                               |                      |               MIG M. |\n",
            "|===============================+======================+======================|\n",
            "|   0  Tesla V100-SXM2...  Off  | 00000000:00:04.0 Off |                    0 |\n",
            "| N/A   33C    P0    23W / 300W |      0MiB / 16160MiB |      0%      Default |\n",
            "|                               |                      |                  N/A |\n",
            "+-------------------------------+----------------------+----------------------+\n",
            "                                                                               \n",
            "+-----------------------------------------------------------------------------+\n",
            "| Processes:                                                                  |\n",
            "|  GPU   GI   CI        PID   Type   Process name                  GPU Memory |\n",
            "|        ID   ID                                                   Usage      |\n",
            "|=============================================================================|\n",
            "|  No running processes found                                                 |\n",
            "+-----------------------------------------------------------------------------+\n"
          ],
          "name": "stdout"
        }
      ]
    },
    {
      "cell_type": "code",
      "metadata": {
        "id": "Qv6OXDKnC4_C"
      },
      "source": [
        "import os\n",
        "filename = \"/root/.kaggle/kaggle.json\"\n",
        "os.makedirs(os.path.dirname(filename), exist_ok=True)\n",
        "!mkdir -p ~/.kaggle\n",
        "!mv kaggle.json ~/.kaggle/\n",
        "os.chmod(filename, 600)"
      ],
      "execution_count": 2,
      "outputs": []
    },
    {
      "cell_type": "code",
      "metadata": {
        "id": "OpzXfheXz8pn",
        "colab": {
          "base_uri": "https://localhost:8080/"
        },
        "outputId": "e7423671-4f22-4101-d363-f5c42cd5502c"
      },
      "source": [
        "!kaggle datasets download -d kokitanisaka/indoorunifiedwifids\n",
        "!unzip indoorunifiedwifids.zip > /dev/null"
      ],
      "execution_count": 3,
      "outputs": [
        {
          "output_type": "stream",
          "text": [
            "Downloading indoorunifiedwifids.zip to /content\n",
            " 98% 452M/463M [00:07<00:00, 34.7MB/s]\n",
            "100% 463M/463M [00:07<00:00, 61.6MB/s]\n"
          ],
          "name": "stdout"
        }
      ]
    },
    {
      "cell_type": "code",
      "metadata": {
        "id": "Xwcwo-NOq8wu",
        "colab": {
          "base_uri": "https://localhost:8080/"
        },
        "outputId": "a69f36f2-584b-4863-f231-9f26b7b79762"
      },
      "source": [
        "import os\n",
        "import gc\n",
        "import math\n",
        "import glob \n",
        "import copy\n",
        "import pickle\n",
        "import random\n",
        "\n",
        "import pandas as pd\n",
        "import numpy as np\n",
        "\n",
        "import yaml\n",
        "from tqdm import tqdm\n",
        "from joblib import Parallel, delayed\n",
        "\n",
        "import seaborn as sns\n",
        "import matplotlib.pyplot as plt\n",
        "\n",
        "import cv2\n",
        "\n",
        "import scipy.stats as stats\n",
        "\n",
        "from sklearn.model_selection import StratifiedKFold\n",
        "from sklearn.preprocessing import StandardScaler, LabelEncoder\n",
        "from sklearn.metrics import mean_squared_error\n",
        "from sklearn.decomposition import TruncatedSVD\n",
        "\n",
        "import torch\n",
        "import torch.nn as nn \n",
        "import torch.nn.functional as F\n",
        "from torch.utils.data import Dataset, DataLoader\n",
        "\n",
        "tqdm.pandas(position=0, leave=True)"
      ],
      "execution_count": 25,
      "outputs": [
        {
          "output_type": "stream",
          "text": [
            "/usr/local/lib/python3.7/dist-packages/tqdm/std.py:658: FutureWarning: The Panel class is removed from pandas. Accessing it from the top-level namespace will also be removed in the next version\n",
            "  from pandas import Panel\n"
          ],
          "name": "stderr"
        }
      ]
    },
    {
      "cell_type": "code",
      "metadata": {
        "id": "PLKBfnyNE_Wq"
      },
      "source": [
        "# consts\n",
        "N_SPLITS = 5\n",
        "\n",
        "SEED = 42\n",
        "\n",
        "NUM_FEATS = 20"
      ],
      "execution_count": 5,
      "outputs": []
    },
    {
      "cell_type": "code",
      "metadata": {
        "id": "2I9gH31gFKty"
      },
      "source": [
        "def seed_everything(seed=42):\n",
        "    random.seed(seed)\n",
        "    os.environ['PYTHONHASHSEED'] = str(seed)\n",
        "    np.random.seed(seed)\n",
        "    torch.backends.cudnn.deterministic = True\n",
        "    torch.backends.cudnn.benchmark = False\n",
        "    torch.manual_seed(seed)\n",
        "    torch.cuda.manual_seed_all(seed)\n",
        "def get_timestamp():\n",
        "    import time\n",
        "    timestamp = ''\n",
        "    for i, d in enumerate(time.localtime()):\n",
        "        if i == 3:\n",
        "            d += 8\n",
        "        timestamp += str(d) + '-'\n",
        "        if i == 4:\n",
        "            break\n",
        "    return timestamp[:-1]\n",
        "def comp_metric(xhat, yhat, fhat, x, y, f):\n",
        "    intermediate = np.sqrt((xhat-x)**2 + (yhat-y)**2) + 15 * np.abs(fhat-f)\n",
        "#     intermediate = np.sqrt((xhat-x)**2 + (yhat-y)**2)\n",
        "    return intermediate.sum()/xhat.shape[0]\n",
        "\n",
        "def comp_xy(xhat, yhat, x, y):\n",
        "    intermediate = np.sqrt((xhat-x)**2 + (yhat-y)**2)\n",
        "#     intermediate = np.sqrt((xhat-x)**2 + (yhat-y)**2)\n",
        "    return intermediate.sum()/xhat.shape[0]"
      ],
      "execution_count": 31,
      "outputs": []
    },
    {
      "cell_type": "markdown",
      "metadata": {
        "id": "LnJEEwLyIg_S"
      },
      "source": [
        "## Preprocess"
      ]
    },
    {
      "cell_type": "code",
      "metadata": {
        "id": "jS_j1O-QtYHr"
      },
      "source": [
        "with open(f'train_all.pkl', 'rb') as f:\n",
        "  data = pickle.load( f)\n",
        "with open(f'test_all.pkl', 'rb') as f:\n",
        "  test_data = pickle.load(f)"
      ],
      "execution_count": 7,
      "outputs": []
    },
    {
      "cell_type": "code",
      "metadata": {
        "id": "G4iftOvO25wE"
      },
      "source": [
        "# count n features\n",
        "BSSID_FEATS = [f'bssid_{i}' for i in range(NUM_FEATS)]\n",
        "RSSI_FEATS  = [f'rssi_{i}' for i in range(NUM_FEATS)]"
      ],
      "execution_count": 8,
      "outputs": []
    },
    {
      "cell_type": "code",
      "metadata": {
        "id": "c5VgTOkLFUrZ",
        "colab": {
          "base_uri": "https://localhost:8080/"
        },
        "outputId": "72a81e6a-515b-4c69-dad5-b834e04f0b74"
      },
      "source": [
        "# get unique wifi bssids\n",
        "wifi_bssids = []\n",
        "for i in range(100):\n",
        "    wifi_bssids.extend(data.iloc[:,i].values.tolist())\n",
        "wifi_bssids = list(set(wifi_bssids))\n",
        "\n",
        "wifi_bssids_size = len(wifi_bssids)\n",
        "print(f'BSSID TYPES: {wifi_bssids_size}')\n",
        "\n",
        "wifi_bssids_test = []\n",
        "for i in range(100):\n",
        "    wifi_bssids_test.extend(test_data.iloc[:,i].values.tolist())\n",
        "wifi_bssids_test = list(set(wifi_bssids_test))\n",
        "\n",
        "wifi_bssids_size = len(wifi_bssids_test)\n",
        "print(f'BSSID TYPES: {wifi_bssids_size}')\n",
        "\n",
        "wifi_bssids.extend(wifi_bssids_test)\n",
        "wifi_bssids_size = len(wifi_bssids)"
      ],
      "execution_count": 9,
      "outputs": [
        {
          "output_type": "stream",
          "text": [
            "BSSID TYPES: 61206\n",
            "BSSID TYPES: 33042\n"
          ],
          "name": "stdout"
        }
      ]
    },
    {
      "cell_type": "code",
      "metadata": {
        "id": "mhmlcJ-CF0hb",
        "colab": {
          "base_uri": "https://localhost:8080/"
        },
        "outputId": "3b4e9b76-4b2b-4331-d122-f3d96f106cf3"
      },
      "source": [
        "# preprocess\n",
        "\n",
        "le = LabelEncoder()\n",
        "le.fit(wifi_bssids)\n",
        "le_site = LabelEncoder()\n",
        "le_site.fit(data['site_id'])\n",
        "\n",
        "ss = StandardScaler()\n",
        "ss.fit(data.loc[:,RSSI_FEATS])"
      ],
      "execution_count": 10,
      "outputs": [
        {
          "output_type": "execute_result",
          "data": {
            "text/plain": [
              "StandardScaler(copy=True, with_mean=True, with_std=True)"
            ]
          },
          "metadata": {
            "tags": []
          },
          "execution_count": 10
        }
      ]
    },
    {
      "cell_type": "code",
      "metadata": {
        "id": "xdBSEoUuG8no"
      },
      "source": [
        "# apply transforms\n",
        "\n",
        "data.loc[:,RSSI_FEATS] = ss.transform(data.loc[:,RSSI_FEATS])\n",
        "for i in BSSID_FEATS:\n",
        "    data.loc[:,i] = le.transform(data.loc[:,i])\n",
        "    data.loc[:,i] = data.loc[:,i] + 1\n",
        "    \n",
        "data.loc[:, 'site_id'] = le_site.transform(data.loc[:, 'site_id'])\n",
        "\n",
        "data.loc[:,RSSI_FEATS] = ss.transform(data.loc[:,RSSI_FEATS])"
      ],
      "execution_count": 11,
      "outputs": []
    },
    {
      "cell_type": "code",
      "metadata": {
        "id": "4nawWBptHyXp"
      },
      "source": [
        "test_data.loc[:,RSSI_FEATS] = ss.transform(test_data.loc[:,RSSI_FEATS])\n",
        "for i in BSSID_FEATS:\n",
        "    test_data.loc[:,i] = le.transform(test_data.loc[:,i])\n",
        "    test_data.loc[:,i] = test_data.loc[:,i] + 1\n",
        "    \n",
        "test_data.loc[:, 'site_id'] = le_site.transform(test_data.loc[:, 'site_id'])\n",
        "\n",
        "test_data.loc[:,RSSI_FEATS] = ss.transform(test_data.loc[:,RSSI_FEATS])"
      ],
      "execution_count": 12,
      "outputs": []
    },
    {
      "cell_type": "code",
      "metadata": {
        "id": "Hz-7Nk_FH_5d"
      },
      "source": [
        "site_count = len(data['site_id'].unique())\n",
        "data.reset_index(drop=True, inplace=True)"
      ],
      "execution_count": 13,
      "outputs": []
    },
    {
      "cell_type": "code",
      "metadata": {
        "id": "JefQyLY7IDdG"
      },
      "source": [
        "seed_everything(SEED)"
      ],
      "execution_count": 14,
      "outputs": []
    },
    {
      "cell_type": "code",
      "metadata": {
        "id": "xCTLpK1CIE7t"
      },
      "source": [
        ""
      ],
      "execution_count": 14,
      "outputs": []
    },
    {
      "cell_type": "markdown",
      "metadata": {
        "id": "-1erbGwIJnH7"
      },
      "source": [
        "## Some EDA"
      ]
    },
    {
      "cell_type": "code",
      "metadata": {
        "id": "Li-SHH9WKsQx"
      },
      "source": [
        "#plt.figure(figsize=(10,3))\n",
        "#max_iter = 10\n",
        "#for i, (name, group) in enumerate(data.groupby(\"path\")):\n",
        "#    sns.lineplot(data=group, y=RSSI_FEATS[0], x=range(group.shape[0]))\n",
        "#    if i > max_iter:\n",
        "#        break\n",
        "#plt.figure(figsize=(10,3))\n",
        "#for i, (name, group) in enumerate(data.groupby(\"path\")):\n",
        "#    sns.lineplot(data=group, y=\"x\", x=range(group.shape[0]))\n",
        "#    if i > max_iter:\n",
        "#        break\n",
        "#plt.figure(figsize=(10,3))\n",
        "#for i, (name, group) in enumerate(data.groupby(\"path\")):\n",
        "#    sns.lineplot(data=group, y=\"y\", x=range(group.shape[0]))\n",
        "#    if i > max_iter:\n",
        "#        break"
      ],
      "execution_count": 15,
      "outputs": []
    },
    {
      "cell_type": "code",
      "metadata": {
        "id": "eOAPHLOWH31D",
        "colab": {
          "base_uri": "https://localhost:8080/"
        },
        "outputId": "0508ba75-fd9a-43e7-f85f-6e1c1c1417aa"
      },
      "source": [
        "data.columns"
      ],
      "execution_count": 16,
      "outputs": [
        {
          "output_type": "execute_result",
          "data": {
            "text/plain": [
              "Index(['bssid_0', 'bssid_1', 'bssid_2', 'bssid_3', 'bssid_4', 'bssid_5',\n",
              "       'bssid_6', 'bssid_7', 'bssid_8', 'bssid_9',\n",
              "       ...\n",
              "       'rssi_95', 'rssi_96', 'rssi_97', 'rssi_98', 'rssi_99', 'x', 'y',\n",
              "       'floor', 'path', 'site_id'],\n",
              "      dtype='object', length=205)"
            ]
          },
          "metadata": {
            "tags": []
          },
          "execution_count": 16
        }
      ]
    },
    {
      "cell_type": "code",
      "metadata": {
        "id": "MkIaf4r-JnfM",
        "colab": {
          "base_uri": "https://localhost:8080/",
          "height": 359
        },
        "outputId": "eb988b84-b265-448b-a35b-d8007c75c80e"
      },
      "source": [
        "tmp = data[['x','path']].iloc[0:1000]\n",
        "tmp.head(10)"
      ],
      "execution_count": 17,
      "outputs": [
        {
          "output_type": "execute_result",
          "data": {
            "text/html": [
              "<div>\n",
              "<style scoped>\n",
              "    .dataframe tbody tr th:only-of-type {\n",
              "        vertical-align: middle;\n",
              "    }\n",
              "\n",
              "    .dataframe tbody tr th {\n",
              "        vertical-align: top;\n",
              "    }\n",
              "\n",
              "    .dataframe thead th {\n",
              "        text-align: right;\n",
              "    }\n",
              "</style>\n",
              "<table border=\"1\" class=\"dataframe\">\n",
              "  <thead>\n",
              "    <tr style=\"text-align: right;\">\n",
              "      <th></th>\n",
              "      <th>x</th>\n",
              "      <th>path</th>\n",
              "    </tr>\n",
              "  </thead>\n",
              "  <tbody>\n",
              "    <tr>\n",
              "      <th>0</th>\n",
              "      <td>107.85044</td>\n",
              "      <td>5e1580adf4c3420006d520d4</td>\n",
              "    </tr>\n",
              "    <tr>\n",
              "      <th>1</th>\n",
              "      <td>107.85044</td>\n",
              "      <td>5e1580adf4c3420006d520d4</td>\n",
              "    </tr>\n",
              "    <tr>\n",
              "      <th>2</th>\n",
              "      <td>98.33065</td>\n",
              "      <td>5e1580adf4c3420006d520d4</td>\n",
              "    </tr>\n",
              "    <tr>\n",
              "      <th>3</th>\n",
              "      <td>98.33065</td>\n",
              "      <td>5e1580adf4c3420006d520d4</td>\n",
              "    </tr>\n",
              "    <tr>\n",
              "      <th>4</th>\n",
              "      <td>98.33065</td>\n",
              "      <td>5e1580adf4c3420006d520d4</td>\n",
              "    </tr>\n",
              "    <tr>\n",
              "      <th>5</th>\n",
              "      <td>156.77786</td>\n",
              "      <td>5e1581c71506f2000638fc78</td>\n",
              "    </tr>\n",
              "    <tr>\n",
              "      <th>6</th>\n",
              "      <td>156.77786</td>\n",
              "      <td>5e1581c71506f2000638fc78</td>\n",
              "    </tr>\n",
              "    <tr>\n",
              "      <th>7</th>\n",
              "      <td>156.77786</td>\n",
              "      <td>5e1581c71506f2000638fc78</td>\n",
              "    </tr>\n",
              "    <tr>\n",
              "      <th>8</th>\n",
              "      <td>154.99240</td>\n",
              "      <td>5e1581c71506f2000638fc78</td>\n",
              "    </tr>\n",
              "    <tr>\n",
              "      <th>9</th>\n",
              "      <td>154.99240</td>\n",
              "      <td>5e1581c71506f2000638fc78</td>\n",
              "    </tr>\n",
              "  </tbody>\n",
              "</table>\n",
              "</div>"
            ],
            "text/plain": [
              "           x                      path\n",
              "0  107.85044  5e1580adf4c3420006d520d4\n",
              "1  107.85044  5e1580adf4c3420006d520d4\n",
              "2   98.33065  5e1580adf4c3420006d520d4\n",
              "3   98.33065  5e1580adf4c3420006d520d4\n",
              "4   98.33065  5e1580adf4c3420006d520d4\n",
              "5  156.77786  5e1581c71506f2000638fc78\n",
              "6  156.77786  5e1581c71506f2000638fc78\n",
              "7  156.77786  5e1581c71506f2000638fc78\n",
              "8  154.99240  5e1581c71506f2000638fc78\n",
              "9  154.99240  5e1581c71506f2000638fc78"
            ]
          },
          "metadata": {
            "tags": []
          },
          "execution_count": 17
        }
      ]
    },
    {
      "cell_type": "code",
      "metadata": {
        "id": "jj8LpJayHr-v",
        "colab": {
          "base_uri": "https://localhost:8080/",
          "height": 986
        },
        "outputId": "081aa620-9288-4385-9427-11a89b7e2c0c"
      },
      "source": [
        "plt.figure(figsize=(20,8))\n",
        "sns.lineplot(data=tmp, x=tmp.index, y='x', hue='path')"
      ],
      "execution_count": 18,
      "outputs": [
        {
          "output_type": "execute_result",
          "data": {
            "text/plain": [
              "<matplotlib.axes._subplots.AxesSubplot at 0x7ff6d2e90f90>"
            ]
          },
          "metadata": {
            "tags": []
          },
          "execution_count": 18
        },
        {
          "output_type": "display_data",
          "data": {
            "image/png": "[encoded data removed]",
            "text/plain": [
              "<Figure size 1440x576 with 1 Axes>"
            ]
          },
          "metadata": {
            "tags": [],
            "needs_background": "light"
          }
        }
      ]
    },
    {
      "cell_type": "markdown",
      "metadata": {
        "id": "k3ltakG5IpS3"
      },
      "source": [
        "## Modeling"
      ]
    },
    {
      "cell_type": "code",
      "metadata": {
        "id": "FTU96LMIIqrJ"
      },
      "source": [
        "class IndoorDataset(Dataset):\n",
        "    def __init__(self, data, flag='TRAIN', seq_len=5):\n",
        "        self.data = data\n",
        "        self.flag = flag\n",
        "        self.seq_len = seq_len\n",
        "    def __len__(self):\n",
        "        #return self.data.shape[0] - self.seq_len - 1\n",
        "        #return self.data.shape[0]\n",
        "        return math.ceil(self.data.shape[0] / self.seq_len)\n",
        "    def __getitem__(self, index):\n",
        "        tmp_data = self.data.iloc[index * self.seq_len:(index + 1) * self.seq_len]\n",
        "        #tmp_data = self.data.iloc[index:index + self.seq_len]\n",
        "        if tmp_data.shape[0] != self.seq_len:\n",
        "            temp_len = tmp_data.shape[0]\n",
        "            diff = self.seq_len - temp_len\n",
        "            #print(\"temp_len: \",temp_len)\n",
        "            #print(\"diff: \",diff)\n",
        "            #print(\"tmp_data shape\", tmp_data.shape)\n",
        "            for i in range(diff):\n",
        "                _temp = tmp_data.iloc[-1,:]\n",
        "                tmp_data = tmp_data.append(_temp)\n",
        "                #print(\"tmp_data shape\", tmp_data.shape)\n",
        "            \n",
        "        if self.flag == 'TRAIN':\n",
        "            return {\n",
        "                'BSSID_FEATS':tmp_data[BSSID_FEATS].values.astype(float),\n",
        "                'RSSI_FEATS':tmp_data[RSSI_FEATS].values.astype(float),\n",
        "                'site_id':tmp_data['site_id'].values.astype(int),\n",
        "                'x':tmp_data['x'].values,\n",
        "                'y':tmp_data['y'].values,\n",
        "                'floor':tmp_data['floor'].values,\n",
        "            }\n",
        "        else:\n",
        "            return {\n",
        "                'BSSID_FEATS':tmp_data[BSSID_FEATS].values.astype(float),\n",
        "                'RSSI_FEATS':tmp_data[RSSI_FEATS].values.astype(float),\n",
        "                'site_id':tmp_data['site_id'].values.astype(int)\n",
        "            }"
      ],
      "execution_count": 27,
      "outputs": []
    },
    {
      "cell_type": "code",
      "metadata": {
        "colab": {
          "base_uri": "https://localhost:8080/"
        },
        "id": "Gqt1lu-TRWod",
        "outputId": "e5602dcd-a2e8-4a76-cf9d-fe8f0eb033ec"
      },
      "source": [
        "math.ceil(1002 / 5)"
      ],
      "execution_count": 26,
      "outputs": [
        {
          "output_type": "execute_result",
          "data": {
            "text/plain": [
              "201"
            ]
          },
          "metadata": {
            "tags": []
          },
          "execution_count": 26
        }
      ]
    },
    {
      "cell_type": "code",
      "metadata": {
        "id": "haOCmLSoH1vf",
        "colab": {
          "base_uri": "https://localhost:8080/"
        },
        "outputId": "439e1677-b2a3-4965-a44c-b7cc3450d390"
      },
      "source": [
        "train_dataset = IndoorDataset(data.iloc[:1000,:])\n",
        "data.shape, len(train_dataset)\n",
        "device = 'cuda'\n",
        "pbar = tqdm(DataLoader(train_dataset, batch_size=10, shuffle=True, num_workers=1, pin_memory=True), position=0)\n",
        "for temp in pbar:\n",
        "    pass\n",
        "    #print(temp['BSSID_FEATS'].to(device).long())\n",
        "    #break\n",
        "#temp['BSSID_FEATS'].to(device).long().size()\n",
        "#_temp = data.copy()\n",
        "#temp = data.iloc[-1,:]\n",
        "#temp = pd.concat([_temp,temp])\n",
        "#temp.shape"
      ],
      "execution_count": 28,
      "outputs": [
        {
          "output_type": "stream",
          "text": [
            "100%|██████████| 20/20 [00:07<00:00,  2.65it/s]\n"
          ],
          "name": "stderr"
        }
      ]
    },
    {
      "cell_type": "code",
      "metadata": {
        "id": "-ehQOeMKI2mJ"
      },
      "source": [
        "class SimpleLSTM(nn.Module):\n",
        "    def __init__(self, embedding_dim = 64, seq_len=20, site_dim=2):\n",
        "        super(SimpleLSTM, self).__init__()\n",
        "        self.embedding_dim = embedding_dim\n",
        "        self.seq_len = seq_len\n",
        "        self.site_dim = site_dim\n",
        "        self.emb_BSSID_FEATS = nn.Embedding(wifi_bssids_size, embedding_dim)\n",
        "        self.emb_site_id = nn.Embedding(site_count, site_dim)\n",
        "        self.lstm1 = nn.LSTM(input_size=256,hidden_size=128, dropout=0.3, bidirectional=False, batch_first=True)\n",
        "        self.lstm2 = nn.LSTM(input_size=128,hidden_size=16, dropout=0.1, bidirectional=False, batch_first=True)\n",
        "        self.lr = nn.Linear(NUM_FEATS, NUM_FEATS * embedding_dim)\n",
        "        self.lr1 = nn.Linear(NUM_FEATS * embedding_dim + NUM_FEATS * embedding_dim + site_dim, 256)\n",
        "        self.lr_xy = nn.Linear(16, 2)\n",
        "        self.lr_floor = nn.Linear(16, 1)\n",
        "        #self.batch_norm1 = nn.BatchNorm1d(NUM_FEATS)\n",
        "        #self.batch_norm1 = nn.LayerNorm(NUM_FEATS)\n",
        "        self.batch_norm1 = nn.LayerNorm(NUM_FEATS * embedding_dim)\n",
        "        #self.batch_norm2 = nn.BatchNorm1d(NUM_FEATS * embedding_dim + NUM_FEATS * embedding_dim + site_dim)\n",
        "        #self.batch_norm2 = nn.LayerNorm(NUM_FEATS * embedding_dim + NUM_FEATS * embedding_dim + site_dim)\n",
        "        self.batch_norm2 = nn.LayerNorm(256)\n",
        "        #self.batch_norm3 = nn.BatchNorm1d(1)\n",
        "        #self.batch_norm3 = nn.LayerNorm(256)\n",
        "        self.batch_norm3 = nn.LayerNorm(2)\n",
        "        self.dropout = nn.Dropout(0.3)\n",
        "    def forward(self, x):\n",
        "        \n",
        "        x_bssid = self.emb_BSSID_FEATS(x['BSSID_FEATS'])\n",
        "        x_bssid = torch.flatten(x_bssid, start_dim=-2)\n",
        "        \n",
        "        x_site_id = self.emb_site_id(x['site_id'])\n",
        "        x_site_id = torch.flatten(x_site_id, start_dim=-1)\n",
        "\n",
        "        #x_rssi = self.batch_norm1(x['RSSI_FEATS'])\n",
        "        x_rssi = self.lr(x['RSSI_FEATS'])\n",
        "        x_rssi = self.batch_norm1(x_rssi)\n",
        "        x_rssi = torch.relu(x_rssi)\n",
        "        #x_rssi = self.dropout(x_rssi)\n",
        "        \n",
        "        x = torch.cat([x_bssid, x_site_id, x_rssi], dim=-1)\n",
        "        x = self.lr1(x)\n",
        "        x = self.batch_norm2(x)\n",
        "        x = torch.relu(x)\n",
        "        x = self.dropout(x)\n",
        "\n",
        "        #x = x.unsqueeze(-2)\n",
        "        #x = self.batch_norm3(x)\n",
        "        \n",
        "        #x = x.reshape(self.seq_len, -1, 256) # (all_seq, 1, feat) -> (seq_len, batch, feat)\n",
        "        #x = x.transpose(0, 1)\n",
        "        x, _ = self.lstm1(x)\n",
        "        #x = x.transpose(0, 1)\n",
        "        x = torch.relu(x)\n",
        "        #x = x.transpose(0, 1)\n",
        "        x, _ = self.lstm2(x)\n",
        "        #x = x.transpose(0, 1)\n",
        "        x = torch.relu(x)\n",
        "        #x = x.reshape(-1, 16)\n",
        "        xy = self.lr_xy(x)\n",
        "        #xy = self.batch_norm3(xy)\n",
        "        floor = self.lr_floor(x)\n",
        "        floor = torch.relu(floor)\n",
        "        return xy.squeeze(-2), floor.squeeze(-2)"
      ],
      "execution_count": 29,
      "outputs": []
    },
    {
      "cell_type": "code",
      "metadata": {
        "id": "JG8UZ8Htkltz"
      },
      "source": [
        "def evaluate(net, data_loader,  device='cuda'):\n",
        "    net.to(device)\n",
        "    net.eval()\n",
        "    x_list = []\n",
        "    y_list = []\n",
        "    floor_list = []\n",
        "    prexs_list = []\n",
        "    preys_list = []\n",
        "    prefloors_list = []\n",
        "    for d in tqdm(data_loader, position=0):\n",
        "        data_dict = {}\n",
        "        data_dict['BSSID_FEATS'] = d['BSSID_FEATS'].to(device).long()\n",
        "        data_dict['RSSI_FEATS'] = d['RSSI_FEATS'].to(device).float()\n",
        "        data_dict['site_id'] = d['site_id'].to(device).long()\n",
        "        x = d['x'].to(device).float()\n",
        "        y = d['y'].to(device).float()\n",
        "        floor = d['floor'].to(device).long()\n",
        "        x_list.append(x.cpu().detach().numpy())\n",
        "        y_list.append(y.cpu().detach().numpy())\n",
        "        floor_list.append(floor.cpu().detach().numpy())\n",
        "        xy, floor = net(data_dict)\n",
        "        prexs_list.append(xy[:, :, 0].cpu().detach().numpy())\n",
        "        preys_list.append(xy[:, :, 1].cpu().detach().numpy())\n",
        "        prefloors_list.append(floor.squeeze().cpu().detach().numpy())\n",
        "    x = np.concatenate(x_list)\n",
        "    y = np.concatenate(y_list)\n",
        "    floor = np.concatenate(floor_list)\n",
        "    prexs = np.concatenate(prexs_list)\n",
        "    preys =np.concatenate(preys_list)\n",
        "    prefloors = np.concatenate(prefloors_list)\n",
        "    eval_score = comp_metric(x, y, floor, prexs, preys, prefloors)\n",
        "    xy_score = comp_xy(x, y, prexs, preys)\n",
        "    return eval_score, xy_score\n",
        "def get_result(net, data_loader, device='cuda'):\n",
        "    net.eval()\n",
        "    net.to(device)\n",
        "    prexs_list = []\n",
        "    preys_list = []\n",
        "    prefloors_list = []\n",
        "    data_dict = {}\n",
        "    for d in tqdm(data_loader, position=0):\n",
        "        data_dict['BSSID_FEATS'] = d['BSSID_FEATS'].to(device).long()\n",
        "        data_dict['RSSI_FEATS'] = d['RSSI_FEATS'].to(device).float()\n",
        "        data_dict['site_id'] = d['site_id'].to(device).long()\n",
        "        xy, floor = net(data_dict)\n",
        "        prexs_list.append(xy[:, :, 0].cpu().detach().numpy().reshape(-1,1).squeeze())\n",
        "        preys_list.append(xy[:, :, 1].cpu().detach().numpy().reshape(-1,1).squeeze())\n",
        "        prefloors_list.append(floor[:,:].squeeze(-1).cpu().detach().numpy().reshape(-1,1).squeeze())\n",
        "    prexs = np.concatenate(prexs_list)\n",
        "    preys =np.concatenate(preys_list)\n",
        "    prefloors = np.concatenate(prefloors_list)\n",
        "    #prefloors = np.argmax(prefloors,axis=1)\n",
        "    return prexs, preys, prefloors"
      ],
      "execution_count": 36,
      "outputs": []
    },
    {
      "cell_type": "code",
      "metadata": {
        "id": "kRq0nacrd6M2",
        "colab": {
          "base_uri": "https://localhost:8080/"
        },
        "outputId": "0ad016d4-2a49-46ca-af0d-cc1a1a88909b"
      },
      "source": [
        "#score = evaluate(net, valid_dataloader, device)\n",
        "#test_x, test_y, test_floor = get_result(best_model, test_dataloader, device)"
      ],
      "execution_count": 37,
      "outputs": [
        {
          "output_type": "stream",
          "text": [
            "100%|██████████| 16/16 [00:01<00:00,  9.35it/s]\n"
          ],
          "name": "stderr"
        }
      ]
    },
    {
      "cell_type": "markdown",
      "metadata": {
        "id": "YeeTEr3ClZY2"
      },
      "source": [
        "## Training"
      ]
    },
    {
      "cell_type": "code",
      "metadata": {
        "id": "6zK8YeGfklwS",
        "colab": {
          "base_uri": "https://localhost:8080/"
        },
        "outputId": "b57a830d-1c83-42cd-f406-e3803a1015db"
      },
      "source": [
        "SEQ_LEN = 5\n",
        "BATCH_SIZE = 128\n",
        "EMB_DIM = 64\n",
        "SITE_DIM = 2\n",
        "NUM_EPOCHS = 100\n",
        "DEBUG = False\n",
        "if DEBUG:\n",
        "    inputs_data = data.iloc[:1000]\n",
        "    NUM_EPOCHS = 5\n",
        "else:\n",
        "    inputs_data = data\n",
        "\n",
        "score_df = pd.DataFrame()\n",
        "oof = list()\n",
        "predictions = list()\n",
        "\n",
        "oof_x, oof_y, oof_f = np.zeros(inputs_data.shape[0]), np.zeros(inputs_data.shape[0]), np.zeros(inputs_data.shape[0])\n",
        "preds_x, preds_y = 0, 0\n",
        "preds_f_arr = np.zeros((test_data.shape[0], N_SPLITS))\n",
        "\n",
        "\n",
        "for fold, (trn_idx, val_idx) in enumerate(StratifiedKFold(n_splits=N_SPLITS, shuffle=True, random_state=SEED).split(inputs_data.loc[:, 'path'], inputs_data.loc[:, 'path'])):\n",
        "\n",
        "    train_data = inputs_data.loc[trn_idx]\n",
        "    valid_data = inputs_data.loc[val_idx]\n",
        "    train_dataset = IndoorDataset(train_data, seq_len=SEQ_LEN)\n",
        "    train_dataloader = DataLoader(train_dataset, batch_size=BATCH_SIZE, shuffle=True, num_workers=2, pin_memory=True)\n",
        "    valid_dataset = IndoorDataset(valid_data, seq_len=SEQ_LEN)\n",
        "    valid_dataloader = DataLoader(valid_dataset, batch_size=BATCH_SIZE, shuffle=True, num_workers=2, pin_memory=True)\n",
        "    test_dataset = IndoorDataset(test_data, 'TEST', seq_len=SEQ_LEN)\n",
        "    test_dataloader = DataLoader(test_dataset, batch_size=BATCH_SIZE, shuffle=False, num_workers=2, pin_memory=True)\n",
        "    device = 'cuda' if torch.cuda.is_available() else 'cpu'\n",
        "    net = SimpleLSTM(embedding_dim=EMB_DIM, site_dim=SITE_DIM)\n",
        "    net = net.to(device)\n",
        "\n",
        "    mse = nn.MSELoss()\n",
        "    mse = mse.to(device)\n",
        "    optim = torch.optim.Adam(net.parameters(), lr=5e-3)\n",
        "\n",
        "    best_loss = 10000000000\n",
        "    best_epoch = 0\n",
        "    for epoch in range(NUM_EPOCHS):\n",
        "        net.train()\n",
        "        losses = []\n",
        "        pbar = tqdm(train_dataloader, position=0)\n",
        "        for d in pbar:\n",
        "            data_dict = {}\n",
        "            data_dict['BSSID_FEATS'] = d['BSSID_FEATS'].to(device).long()\n",
        "            data_dict['RSSI_FEATS'] = d['RSSI_FEATS'].to(device).float()\n",
        "            data_dict['site_id'] = d['site_id'].to(device).long()\n",
        "            x = d['x'].to(device).float().unsqueeze(-1)\n",
        "            y = d['y'].to(device).float().unsqueeze(-1)\n",
        "            floor = d['floor'].to(device).long()\n",
        "            xy, floor = net(data_dict)\n",
        "            label = torch.cat([x, y], dim=-1)\n",
        "            loss = mse(xy, label)\n",
        "            loss.backward()\n",
        "            optim.step()\n",
        "            optim.zero_grad()\n",
        "            losses.append(loss.cpu().detach().numpy())\n",
        "            pbar.set_description(f'loss:{np.mean(losses)}')\n",
        "            data_dict['BSSID_FEATS'] = data_dict['BSSID_FEATS'].detach()\n",
        "            data_dict['RSSI_FEATS'] = data_dict['RSSI_FEATS'].detach()\n",
        "            data_dict['site_id'] = data_dict['site_id'].detach()\n",
        "            #del x, y, xy, floor, label, data_dict, loss, d\n",
        "            gc.collect()\n",
        "            torch.cuda.empty_cache()\n",
        "        score, xy_score = evaluate(net, valid_dataloader, device)\n",
        "        if xy_score < best_loss:\n",
        "            best_loss = xy_score\n",
        "            best_epoch = epoch\n",
        "            best_model = copy.deepcopy(net)\n",
        "        if best_epoch + 25 < epoch:\n",
        "            break\n",
        "        print(\"*=\"*50)\n",
        "        print(f\"fold {fold} EPOCH {epoch}: mean position error with floor {score}\")\n",
        "        print(f\"fold {fold} EPOCH {epoch}: mean position error without floor {xy_score}\")\n",
        "        print(\"*=\"*50)\n",
        "    test_x, test_y, test_floor = get_result(best_model, test_dataloader, device)\n",
        "    test_size = test_data.shape[0]\n",
        "    preds_f_arr[:,fold] = test_floor[:test_size]\n",
        "    preds_x += test_x[:test_size]\n",
        "    preds_y += test_y[:test_size]"
      ],
      "execution_count": 43,
      "outputs": [
        {
          "output_type": "stream",
          "text": [
            "/usr/local/lib/python3.7/dist-packages/sklearn/model_selection/_split.py:667: UserWarning: The least populated class in y has only 1 members, which is less than n_splits=5.\n",
            "  % (min_groups, self.n_splits)), UserWarning)\n",
            "/usr/local/lib/python3.7/dist-packages/torch/nn/modules/rnn.py:63: UserWarning: dropout option adds dropout after all but last recurrent layer, so non-zero dropout expects num_layers greater than 1, but got dropout=0.3 and num_layers=1\n",
            "  \"num_layers={}\".format(dropout, num_layers))\n",
            "/usr/local/lib/python3.7/dist-packages/torch/nn/modules/rnn.py:63: UserWarning: dropout option adds dropout after all but last recurrent layer, so non-zero dropout expects num_layers greater than 1, but got dropout=0.1 and num_layers=1\n",
            "  \"num_layers={}\".format(dropout, num_layers))\n",
            "loss:14950.4970703125: 100%|██████████| 323/323 [00:43<00:00,  7.36it/s]\n",
            "100%|██████████| 81/81 [00:08<00:00,  9.12it/s]\n",
            "  0%|          | 0/323 [00:00<?, ?it/s]"
          ],
          "name": "stderr"
        },
        {
          "output_type": "stream",
          "text": [
            "*=*=*=*=*=*=*=*=*=*=*=*=*=*=*=*=*=*=*=*=*=*=*=*=*=*=*=*=*=*=*=*=*=*=*=*=*=*=*=*=*=*=*=*=*=*=*=*=*=*=\n",
            "fold 0 EPOCH 0: mean position error with floor 867.0697729078606\n",
            "fold 0 EPOCH 0: mean position error without floor 741.5448426150122\n",
            "*=*=*=*=*=*=*=*=*=*=*=*=*=*=*=*=*=*=*=*=*=*=*=*=*=*=*=*=*=*=*=*=*=*=*=*=*=*=*=*=*=*=*=*=*=*=*=*=*=*=\n"
          ],
          "name": "stdout"
        },
        {
          "output_type": "stream",
          "text": [
            "loss:12390.4169921875: 100%|██████████| 323/323 [00:46<00:00,  7.01it/s]\n",
            "100%|██████████| 81/81 [00:08<00:00,  9.14it/s]\n",
            "  0%|          | 0/323 [00:00<?, ?it/s]"
          ],
          "name": "stderr"
        },
        {
          "output_type": "stream",
          "text": [
            "*=*=*=*=*=*=*=*=*=*=*=*=*=*=*=*=*=*=*=*=*=*=*=*=*=*=*=*=*=*=*=*=*=*=*=*=*=*=*=*=*=*=*=*=*=*=*=*=*=*=\n",
            "fold 0 EPOCH 1: mean position error with floor 787.5526233168722\n",
            "fold 0 EPOCH 1: mean position error without floor 662.0276997578693\n",
            "*=*=*=*=*=*=*=*=*=*=*=*=*=*=*=*=*=*=*=*=*=*=*=*=*=*=*=*=*=*=*=*=*=*=*=*=*=*=*=*=*=*=*=*=*=*=*=*=*=*=\n"
          ],
          "name": "stdout"
        },
        {
          "output_type": "stream",
          "text": [
            "loss:10335.5146484375: 100%|██████████| 323/323 [00:45<00:00,  7.06it/s]\n",
            "100%|██████████| 81/81 [00:08<00:00,  9.38it/s]\n",
            "  0%|          | 0/323 [00:00<?, ?it/s]"
          ],
          "name": "stderr"
        },
        {
          "output_type": "stream",
          "text": [
            "*=*=*=*=*=*=*=*=*=*=*=*=*=*=*=*=*=*=*=*=*=*=*=*=*=*=*=*=*=*=*=*=*=*=*=*=*=*=*=*=*=*=*=*=*=*=*=*=*=*=\n",
            "fold 0 EPOCH 2: mean position error with floor 719.5637663405051\n",
            "fold 0 EPOCH 2: mean position error without floor 594.038789346247\n",
            "*=*=*=*=*=*=*=*=*=*=*=*=*=*=*=*=*=*=*=*=*=*=*=*=*=*=*=*=*=*=*=*=*=*=*=*=*=*=*=*=*=*=*=*=*=*=*=*=*=*=\n"
          ],
          "name": "stdout"
        },
        {
          "output_type": "stream",
          "text": [
            "loss:8691.7041015625: 100%|██████████| 323/323 [00:45<00:00,  7.11it/s]\n",
            "100%|██████████| 81/81 [00:08<00:00,  9.19it/s]\n",
            "  0%|          | 0/323 [00:00<?, ?it/s]"
          ],
          "name": "stderr"
        },
        {
          "output_type": "stream",
          "text": [
            "*=*=*=*=*=*=*=*=*=*=*=*=*=*=*=*=*=*=*=*=*=*=*=*=*=*=*=*=*=*=*=*=*=*=*=*=*=*=*=*=*=*=*=*=*=*=*=*=*=*=\n",
            "fold 0 EPOCH 3: mean position error with floor 663.7875370027049\n",
            "fold 0 EPOCH 3: mean position error without floor 538.2626150121065\n",
            "*=*=*=*=*=*=*=*=*=*=*=*=*=*=*=*=*=*=*=*=*=*=*=*=*=*=*=*=*=*=*=*=*=*=*=*=*=*=*=*=*=*=*=*=*=*=*=*=*=*=\n"
          ],
          "name": "stdout"
        },
        {
          "output_type": "stream",
          "text": [
            "loss:7399.99365234375: 100%|██████████| 323/323 [00:45<00:00,  7.13it/s]\n",
            "100%|██████████| 81/81 [00:08<00:00,  9.55it/s]\n",
            "  0%|          | 0/323 [00:00<?, ?it/s]"
          ],
          "name": "stderr"
        },
        {
          "output_type": "stream",
          "text": [
            "*=*=*=*=*=*=*=*=*=*=*=*=*=*=*=*=*=*=*=*=*=*=*=*=*=*=*=*=*=*=*=*=*=*=*=*=*=*=*=*=*=*=*=*=*=*=*=*=*=*=\n",
            "fold 0 EPOCH 4: mean position error with floor 619.9983264134554\n",
            "fold 0 EPOCH 4: mean position error without floor 494.4733656174334\n",
            "*=*=*=*=*=*=*=*=*=*=*=*=*=*=*=*=*=*=*=*=*=*=*=*=*=*=*=*=*=*=*=*=*=*=*=*=*=*=*=*=*=*=*=*=*=*=*=*=*=*=\n"
          ],
          "name": "stdout"
        },
        {
          "output_type": "stream",
          "text": [
            "loss:6409.72265625: 100%|██████████| 323/323 [00:44<00:00,  7.32it/s]\n",
            "100%|██████████| 81/81 [00:08<00:00,  9.59it/s]\n",
            "  0%|          | 0/323 [00:00<?, ?it/s]"
          ],
          "name": "stderr"
        },
        {
          "output_type": "stream",
          "text": [
            "*=*=*=*=*=*=*=*=*=*=*=*=*=*=*=*=*=*=*=*=*=*=*=*=*=*=*=*=*=*=*=*=*=*=*=*=*=*=*=*=*=*=*=*=*=*=*=*=*=*=\n",
            "fold 0 EPOCH 5: mean position error with floor 587.3853012836933\n",
            "fold 0 EPOCH 5: mean position error without floor 461.860387409201\n",
            "*=*=*=*=*=*=*=*=*=*=*=*=*=*=*=*=*=*=*=*=*=*=*=*=*=*=*=*=*=*=*=*=*=*=*=*=*=*=*=*=*=*=*=*=*=*=*=*=*=*=\n"
          ],
          "name": "stdout"
        },
        {
          "output_type": "stream",
          "text": [
            "loss:5671.3916015625: 100%|██████████| 323/323 [00:44<00:00,  7.27it/s]\n",
            "100%|██████████| 81/81 [00:08<00:00,  9.40it/s]\n",
            "  0%|          | 0/323 [00:00<?, ?it/s]"
          ],
          "name": "stderr"
        },
        {
          "output_type": "stream",
          "text": [
            "*=*=*=*=*=*=*=*=*=*=*=*=*=*=*=*=*=*=*=*=*=*=*=*=*=*=*=*=*=*=*=*=*=*=*=*=*=*=*=*=*=*=*=*=*=*=*=*=*=*=\n",
            "fold 0 EPOCH 6: mean position error with floor 564.3935823651059\n",
            "fold 0 EPOCH 6: mean position error without floor 438.86861985472154\n",
            "*=*=*=*=*=*=*=*=*=*=*=*=*=*=*=*=*=*=*=*=*=*=*=*=*=*=*=*=*=*=*=*=*=*=*=*=*=*=*=*=*=*=*=*=*=*=*=*=*=*=\n"
          ],
          "name": "stdout"
        },
        {
          "output_type": "stream",
          "text": [
            "loss:5140.984375: 100%|██████████| 323/323 [00:43<00:00,  7.34it/s]\n",
            "100%|██████████| 81/81 [00:08<00:00,  9.30it/s]\n",
            "  0%|          | 0/323 [00:00<?, ?it/s]"
          ],
          "name": "stderr"
        },
        {
          "output_type": "stream",
          "text": [
            "*=*=*=*=*=*=*=*=*=*=*=*=*=*=*=*=*=*=*=*=*=*=*=*=*=*=*=*=*=*=*=*=*=*=*=*=*=*=*=*=*=*=*=*=*=*=*=*=*=*=\n",
            "fold 0 EPOCH 7: mean position error with floor 549.4451739107841\n",
            "fold 0 EPOCH 7: mean position error without floor 423.9202421307506\n",
            "*=*=*=*=*=*=*=*=*=*=*=*=*=*=*=*=*=*=*=*=*=*=*=*=*=*=*=*=*=*=*=*=*=*=*=*=*=*=*=*=*=*=*=*=*=*=*=*=*=*=\n"
          ],
          "name": "stdout"
        },
        {
          "output_type": "stream",
          "text": [
            "loss:4778.16650390625: 100%|██████████| 323/323 [00:43<00:00,  7.36it/s]\n",
            "100%|██████████| 81/81 [00:08<00:00,  9.64it/s]\n",
            "  0%|          | 0/323 [00:00<?, ?it/s]"
          ],
          "name": "stderr"
        },
        {
          "output_type": "stream",
          "text": [
            "*=*=*=*=*=*=*=*=*=*=*=*=*=*=*=*=*=*=*=*=*=*=*=*=*=*=*=*=*=*=*=*=*=*=*=*=*=*=*=*=*=*=*=*=*=*=*=*=*=*=\n",
            "fold 0 EPOCH 8: mean position error with floor 540.5645078270054\n",
            "fold 0 EPOCH 8: mean position error without floor 415.03956416464894\n",
            "*=*=*=*=*=*=*=*=*=*=*=*=*=*=*=*=*=*=*=*=*=*=*=*=*=*=*=*=*=*=*=*=*=*=*=*=*=*=*=*=*=*=*=*=*=*=*=*=*=*=\n"
          ],
          "name": "stdout"
        },
        {
          "output_type": "stream",
          "text": [
            "loss:4544.57666015625: 100%|██████████| 323/323 [00:43<00:00,  7.38it/s]\n",
            "100%|██████████| 81/81 [00:08<00:00,  9.19it/s]\n",
            "  0%|          | 0/323 [00:00<?, ?it/s]"
          ],
          "name": "stderr"
        },
        {
          "output_type": "stream",
          "text": [
            "*=*=*=*=*=*=*=*=*=*=*=*=*=*=*=*=*=*=*=*=*=*=*=*=*=*=*=*=*=*=*=*=*=*=*=*=*=*=*=*=*=*=*=*=*=*=*=*=*=*=\n",
            "fold 0 EPOCH 9: mean position error with floor 535.9844467722041\n",
            "fold 0 EPOCH 9: mean position error without floor 410.4595157384988\n",
            "*=*=*=*=*=*=*=*=*=*=*=*=*=*=*=*=*=*=*=*=*=*=*=*=*=*=*=*=*=*=*=*=*=*=*=*=*=*=*=*=*=*=*=*=*=*=*=*=*=*=\n"
          ],
          "name": "stdout"
        },
        {
          "output_type": "stream",
          "text": [
            "loss:4402.98681640625: 100%|██████████| 323/323 [00:46<00:00,  7.01it/s]\n",
            "100%|██████████| 81/81 [00:09<00:00,  8.99it/s]\n",
            "  0%|          | 0/323 [00:00<?, ?it/s]"
          ],
          "name": "stderr"
        },
        {
          "output_type": "stream",
          "text": [
            "*=*=*=*=*=*=*=*=*=*=*=*=*=*=*=*=*=*=*=*=*=*=*=*=*=*=*=*=*=*=*=*=*=*=*=*=*=*=*=*=*=*=*=*=*=*=*=*=*=*=\n",
            "fold 0 EPOCH 10: mean position error with floor 534.154829232827\n",
            "fold 0 EPOCH 10: mean position error without floor 408.62992736077484\n",
            "*=*=*=*=*=*=*=*=*=*=*=*=*=*=*=*=*=*=*=*=*=*=*=*=*=*=*=*=*=*=*=*=*=*=*=*=*=*=*=*=*=*=*=*=*=*=*=*=*=*=\n"
          ],
          "name": "stdout"
        },
        {
          "output_type": "stream",
          "text": [
            "loss:4323.9892578125: 100%|██████████| 323/323 [00:45<00:00,  7.17it/s]\n",
            "100%|██████████| 81/81 [00:08<00:00,  9.30it/s]\n",
            "  0%|          | 0/323 [00:00<?, ?it/s]"
          ],
          "name": "stderr"
        },
        {
          "output_type": "stream",
          "text": [
            "*=*=*=*=*=*=*=*=*=*=*=*=*=*=*=*=*=*=*=*=*=*=*=*=*=*=*=*=*=*=*=*=*=*=*=*=*=*=*=*=*=*=*=*=*=*=*=*=*=*=\n",
            "fold 0 EPOCH 11: mean position error with floor 533.863124327368\n",
            "fold 0 EPOCH 11: mean position error without floor 408.33820823244554\n",
            "*=*=*=*=*=*=*=*=*=*=*=*=*=*=*=*=*=*=*=*=*=*=*=*=*=*=*=*=*=*=*=*=*=*=*=*=*=*=*=*=*=*=*=*=*=*=*=*=*=*=\n"
          ],
          "name": "stdout"
        },
        {
          "output_type": "stream",
          "text": [
            "loss:4284.9931640625: 100%|██████████| 323/323 [00:44<00:00,  7.24it/s]\n",
            "100%|██████████| 81/81 [00:08<00:00,  9.32it/s]\n",
            "  0%|          | 0/323 [00:00<?, ?it/s]"
          ],
          "name": "stderr"
        },
        {
          "output_type": "stream",
          "text": [
            "*=*=*=*=*=*=*=*=*=*=*=*=*=*=*=*=*=*=*=*=*=*=*=*=*=*=*=*=*=*=*=*=*=*=*=*=*=*=*=*=*=*=*=*=*=*=*=*=*=*=\n",
            "fold 0 EPOCH 12: mean position error with floor 534.2717609275477\n",
            "fold 0 EPOCH 12: mean position error without floor 408.74682808716705\n",
            "*=*=*=*=*=*=*=*=*=*=*=*=*=*=*=*=*=*=*=*=*=*=*=*=*=*=*=*=*=*=*=*=*=*=*=*=*=*=*=*=*=*=*=*=*=*=*=*=*=*=\n"
          ],
          "name": "stdout"
        },
        {
          "output_type": "stream",
          "text": [
            "loss:4267.81591796875: 100%|██████████| 323/323 [00:44<00:00,  7.29it/s]\n",
            "100%|██████████| 81/81 [00:08<00:00,  9.41it/s]\n",
            "  0%|          | 0/323 [00:00<?, ?it/s]"
          ],
          "name": "stderr"
        },
        {
          "output_type": "stream",
          "text": [
            "*=*=*=*=*=*=*=*=*=*=*=*=*=*=*=*=*=*=*=*=*=*=*=*=*=*=*=*=*=*=*=*=*=*=*=*=*=*=*=*=*=*=*=*=*=*=*=*=*=*=\n",
            "fold 0 EPOCH 13: mean position error with floor 534.8276474225262\n",
            "fold 0 EPOCH 13: mean position error without floor 409.3027118644068\n",
            "*=*=*=*=*=*=*=*=*=*=*=*=*=*=*=*=*=*=*=*=*=*=*=*=*=*=*=*=*=*=*=*=*=*=*=*=*=*=*=*=*=*=*=*=*=*=*=*=*=*=\n"
          ],
          "name": "stdout"
        },
        {
          "output_type": "stream",
          "text": [
            "loss:4260.8984375: 100%|██████████| 323/323 [00:44<00:00,  7.29it/s]\n",
            "100%|██████████| 81/81 [00:08<00:00,  9.27it/s]\n",
            "  0%|          | 0/323 [00:00<?, ?it/s]"
          ],
          "name": "stderr"
        },
        {
          "output_type": "stream",
          "text": [
            "*=*=*=*=*=*=*=*=*=*=*=*=*=*=*=*=*=*=*=*=*=*=*=*=*=*=*=*=*=*=*=*=*=*=*=*=*=*=*=*=*=*=*=*=*=*=*=*=*=*=\n",
            "fold 0 EPOCH 14: mean position error with floor 535.2998460509147\n",
            "fold 0 EPOCH 14: mean position error without floor 409.77491525423727\n",
            "*=*=*=*=*=*=*=*=*=*=*=*=*=*=*=*=*=*=*=*=*=*=*=*=*=*=*=*=*=*=*=*=*=*=*=*=*=*=*=*=*=*=*=*=*=*=*=*=*=*=\n"
          ],
          "name": "stdout"
        },
        {
          "output_type": "stream",
          "text": [
            "loss:4258.490234375: 100%|██████████| 323/323 [00:45<00:00,  7.16it/s]\n",
            "100%|██████████| 81/81 [00:08<00:00,  9.43it/s]\n",
            "  0%|          | 0/323 [00:00<?, ?it/s]"
          ],
          "name": "stderr"
        },
        {
          "output_type": "stream",
          "text": [
            "*=*=*=*=*=*=*=*=*=*=*=*=*=*=*=*=*=*=*=*=*=*=*=*=*=*=*=*=*=*=*=*=*=*=*=*=*=*=*=*=*=*=*=*=*=*=*=*=*=*=\n",
            "fold 0 EPOCH 15: mean position error with floor 535.6177024218692\n",
            "fold 0 EPOCH 15: mean position error without floor 410.09278450363195\n",
            "*=*=*=*=*=*=*=*=*=*=*=*=*=*=*=*=*=*=*=*=*=*=*=*=*=*=*=*=*=*=*=*=*=*=*=*=*=*=*=*=*=*=*=*=*=*=*=*=*=*=\n"
          ],
          "name": "stdout"
        },
        {
          "output_type": "stream",
          "text": [
            "loss:4258.03662109375: 100%|██████████| 323/323 [00:45<00:00,  7.03it/s]\n",
            "100%|██████████| 81/81 [00:08<00:00,  9.29it/s]\n",
            "  0%|          | 0/323 [00:00<?, ?it/s]"
          ],
          "name": "stderr"
        },
        {
          "output_type": "stream",
          "text": [
            "*=*=*=*=*=*=*=*=*=*=*=*=*=*=*=*=*=*=*=*=*=*=*=*=*=*=*=*=*=*=*=*=*=*=*=*=*=*=*=*=*=*=*=*=*=*=*=*=*=*=\n",
            "fold 0 EPOCH 16: mean position error with floor 535.7925448030247\n",
            "fold 0 EPOCH 16: mean position error without floor 410.267602905569\n",
            "*=*=*=*=*=*=*=*=*=*=*=*=*=*=*=*=*=*=*=*=*=*=*=*=*=*=*=*=*=*=*=*=*=*=*=*=*=*=*=*=*=*=*=*=*=*=*=*=*=*=\n"
          ],
          "name": "stdout"
        },
        {
          "output_type": "stream",
          "text": [
            "loss:4258.21826171875: 100%|██████████| 323/323 [00:45<00:00,  7.05it/s]\n",
            "100%|██████████| 81/81 [00:08<00:00,  9.18it/s]\n",
            "  0%|          | 0/323 [00:00<?, ?it/s]"
          ],
          "name": "stderr"
        },
        {
          "output_type": "stream",
          "text": [
            "*=*=*=*=*=*=*=*=*=*=*=*=*=*=*=*=*=*=*=*=*=*=*=*=*=*=*=*=*=*=*=*=*=*=*=*=*=*=*=*=*=*=*=*=*=*=*=*=*=*=\n",
            "fold 0 EPOCH 17: mean position error with floor 535.8300024591895\n",
            "fold 0 EPOCH 17: mean position error without floor 410.3050363196126\n",
            "*=*=*=*=*=*=*=*=*=*=*=*=*=*=*=*=*=*=*=*=*=*=*=*=*=*=*=*=*=*=*=*=*=*=*=*=*=*=*=*=*=*=*=*=*=*=*=*=*=*=\n"
          ],
          "name": "stdout"
        },
        {
          "output_type": "stream",
          "text": [
            "loss:4257.70458984375: 100%|██████████| 323/323 [00:46<00:00,  7.01it/s]\n",
            "100%|██████████| 81/81 [00:08<00:00,  9.23it/s]\n",
            "  0%|          | 0/323 [00:00<?, ?it/s]"
          ],
          "name": "stderr"
        },
        {
          "output_type": "stream",
          "text": [
            "*=*=*=*=*=*=*=*=*=*=*=*=*=*=*=*=*=*=*=*=*=*=*=*=*=*=*=*=*=*=*=*=*=*=*=*=*=*=*=*=*=*=*=*=*=*=*=*=*=*=\n",
            "fold 0 EPOCH 18: mean position error with floor 535.853972465432\n",
            "fold 0 EPOCH 18: mean position error without floor 410.3290072639225\n",
            "*=*=*=*=*=*=*=*=*=*=*=*=*=*=*=*=*=*=*=*=*=*=*=*=*=*=*=*=*=*=*=*=*=*=*=*=*=*=*=*=*=*=*=*=*=*=*=*=*=*=\n"
          ],
          "name": "stdout"
        },
        {
          "output_type": "stream",
          "text": [
            "loss:4257.26416015625: 100%|██████████| 323/323 [00:45<00:00,  7.05it/s]\n",
            "100%|██████████| 81/81 [00:08<00:00,  9.32it/s]\n",
            "  0%|          | 0/323 [00:00<?, ?it/s]"
          ],
          "name": "stderr"
        },
        {
          "output_type": "stream",
          "text": [
            "*=*=*=*=*=*=*=*=*=*=*=*=*=*=*=*=*=*=*=*=*=*=*=*=*=*=*=*=*=*=*=*=*=*=*=*=*=*=*=*=*=*=*=*=*=*=*=*=*=*=\n",
            "fold 0 EPOCH 19: mean position error with floor 535.8693679478729\n",
            "fold 0 EPOCH 19: mean position error without floor 410.344406779661\n",
            "*=*=*=*=*=*=*=*=*=*=*=*=*=*=*=*=*=*=*=*=*=*=*=*=*=*=*=*=*=*=*=*=*=*=*=*=*=*=*=*=*=*=*=*=*=*=*=*=*=*=\n"
          ],
          "name": "stdout"
        },
        {
          "output_type": "stream",
          "text": [
            "loss:4257.314453125: 100%|██████████| 323/323 [00:45<00:00,  7.17it/s]\n",
            "100%|██████████| 81/81 [00:08<00:00,  9.31it/s]\n",
            "  0%|          | 0/323 [00:00<?, ?it/s]"
          ],
          "name": "stderr"
        },
        {
          "output_type": "stream",
          "text": [
            "*=*=*=*=*=*=*=*=*=*=*=*=*=*=*=*=*=*=*=*=*=*=*=*=*=*=*=*=*=*=*=*=*=*=*=*=*=*=*=*=*=*=*=*=*=*=*=*=*=*=\n",
            "fold 0 EPOCH 20: mean position error with floor 535.8624543044181\n",
            "fold 0 EPOCH 20: mean position error without floor 410.33753026634383\n",
            "*=*=*=*=*=*=*=*=*=*=*=*=*=*=*=*=*=*=*=*=*=*=*=*=*=*=*=*=*=*=*=*=*=*=*=*=*=*=*=*=*=*=*=*=*=*=*=*=*=*=\n"
          ],
          "name": "stdout"
        },
        {
          "output_type": "stream",
          "text": [
            "loss:4256.75146484375: 100%|██████████| 323/323 [00:45<00:00,  7.16it/s]\n",
            "100%|██████████| 81/81 [00:08<00:00,  9.32it/s]\n",
            "  0%|          | 0/323 [00:00<?, ?it/s]"
          ],
          "name": "stderr"
        },
        {
          "output_type": "stream",
          "text": [
            "*=*=*=*=*=*=*=*=*=*=*=*=*=*=*=*=*=*=*=*=*=*=*=*=*=*=*=*=*=*=*=*=*=*=*=*=*=*=*=*=*=*=*=*=*=*=*=*=*=*=\n",
            "fold 0 EPOCH 21: mean position error with floor 535.8211967425658\n",
            "fold 0 EPOCH 21: mean position error without floor 410.29622276029056\n",
            "*=*=*=*=*=*=*=*=*=*=*=*=*=*=*=*=*=*=*=*=*=*=*=*=*=*=*=*=*=*=*=*=*=*=*=*=*=*=*=*=*=*=*=*=*=*=*=*=*=*=\n"
          ],
          "name": "stdout"
        },
        {
          "output_type": "stream",
          "text": [
            "loss:4257.85986328125: 100%|██████████| 323/323 [00:45<00:00,  7.15it/s]\n",
            "100%|██████████| 81/81 [00:08<00:00,  9.31it/s]\n",
            "  0%|          | 0/323 [00:00<?, ?it/s]"
          ],
          "name": "stderr"
        },
        {
          "output_type": "stream",
          "text": [
            "*=*=*=*=*=*=*=*=*=*=*=*=*=*=*=*=*=*=*=*=*=*=*=*=*=*=*=*=*=*=*=*=*=*=*=*=*=*=*=*=*=*=*=*=*=*=*=*=*=*=\n",
            "fold 0 EPOCH 22: mean position error with floor 535.875143022999\n",
            "fold 0 EPOCH 22: mean position error without floor 410.35021791767554\n",
            "*=*=*=*=*=*=*=*=*=*=*=*=*=*=*=*=*=*=*=*=*=*=*=*=*=*=*=*=*=*=*=*=*=*=*=*=*=*=*=*=*=*=*=*=*=*=*=*=*=*=\n"
          ],
          "name": "stdout"
        },
        {
          "output_type": "stream",
          "text": [
            "loss:4256.73974609375: 100%|██████████| 323/323 [00:45<00:00,  7.17it/s]\n",
            "100%|██████████| 81/81 [00:08<00:00,  9.26it/s]\n",
            "  0%|          | 0/323 [00:00<?, ?it/s]"
          ],
          "name": "stderr"
        },
        {
          "output_type": "stream",
          "text": [
            "*=*=*=*=*=*=*=*=*=*=*=*=*=*=*=*=*=*=*=*=*=*=*=*=*=*=*=*=*=*=*=*=*=*=*=*=*=*=*=*=*=*=*=*=*=*=*=*=*=*=\n",
            "fold 0 EPOCH 23: mean position error with floor 535.7916310100867\n",
            "fold 0 EPOCH 23: mean position error without floor 410.2666828087167\n",
            "*=*=*=*=*=*=*=*=*=*=*=*=*=*=*=*=*=*=*=*=*=*=*=*=*=*=*=*=*=*=*=*=*=*=*=*=*=*=*=*=*=*=*=*=*=*=*=*=*=*=\n"
          ],
          "name": "stdout"
        },
        {
          "output_type": "stream",
          "text": [
            "loss:4256.767578125: 100%|██████████| 323/323 [00:44<00:00,  7.22it/s]\n",
            "100%|██████████| 81/81 [00:08<00:00,  9.39it/s]\n",
            "  0%|          | 0/323 [00:00<?, ?it/s]"
          ],
          "name": "stderr"
        },
        {
          "output_type": "stream",
          "text": [
            "*=*=*=*=*=*=*=*=*=*=*=*=*=*=*=*=*=*=*=*=*=*=*=*=*=*=*=*=*=*=*=*=*=*=*=*=*=*=*=*=*=*=*=*=*=*=*=*=*=*=\n",
            "fold 0 EPOCH 24: mean position error with floor 535.7892127263401\n",
            "fold 0 EPOCH 24: mean position error without floor 410.2642615012106\n",
            "*=*=*=*=*=*=*=*=*=*=*=*=*=*=*=*=*=*=*=*=*=*=*=*=*=*=*=*=*=*=*=*=*=*=*=*=*=*=*=*=*=*=*=*=*=*=*=*=*=*=\n"
          ],
          "name": "stdout"
        },
        {
          "output_type": "stream",
          "text": [
            "loss:3981.504638671875: 100%|██████████| 323/323 [00:44<00:00,  7.23it/s]\n",
            "100%|██████████| 81/81 [00:08<00:00,  9.42it/s]\n",
            "  0%|          | 0/323 [00:00<?, ?it/s]"
          ],
          "name": "stderr"
        },
        {
          "output_type": "stream",
          "text": [
            "*=*=*=*=*=*=*=*=*=*=*=*=*=*=*=*=*=*=*=*=*=*=*=*=*=*=*=*=*=*=*=*=*=*=*=*=*=*=*=*=*=*=*=*=*=*=*=*=*=*=\n",
            "fold 0 EPOCH 25: mean position error with floor 437.94846761950566\n",
            "fold 0 EPOCH 25: mean position error without floor 312.4737288135593\n",
            "*=*=*=*=*=*=*=*=*=*=*=*=*=*=*=*=*=*=*=*=*=*=*=*=*=*=*=*=*=*=*=*=*=*=*=*=*=*=*=*=*=*=*=*=*=*=*=*=*=*=\n"
          ],
          "name": "stdout"
        },
        {
          "output_type": "stream",
          "text": [
            "loss:2618.9384765625: 100%|██████████| 323/323 [00:45<00:00,  7.16it/s]\n",
            "100%|██████████| 81/81 [00:08<00:00,  9.47it/s]\n",
            "  0%|          | 0/323 [00:00<?, ?it/s]"
          ],
          "name": "stderr"
        },
        {
          "output_type": "stream",
          "text": [
            "*=*=*=*=*=*=*=*=*=*=*=*=*=*=*=*=*=*=*=*=*=*=*=*=*=*=*=*=*=*=*=*=*=*=*=*=*=*=*=*=*=*=*=*=*=*=*=*=*=*=\n",
            "fold 0 EPOCH 26: mean position error with floor 397.9939690523943\n",
            "fold 0 EPOCH 26: mean position error without floor 272.4828813559322\n",
            "*=*=*=*=*=*=*=*=*=*=*=*=*=*=*=*=*=*=*=*=*=*=*=*=*=*=*=*=*=*=*=*=*=*=*=*=*=*=*=*=*=*=*=*=*=*=*=*=*=*=\n"
          ],
          "name": "stdout"
        },
        {
          "output_type": "stream",
          "text": [
            "loss:2048.666748046875: 100%|██████████| 323/323 [00:44<00:00,  7.24it/s]\n",
            "100%|██████████| 81/81 [00:08<00:00,  9.52it/s]\n",
            "  0%|          | 0/323 [00:00<?, ?it/s]"
          ],
          "name": "stderr"
        },
        {
          "output_type": "stream",
          "text": [
            "*=*=*=*=*=*=*=*=*=*=*=*=*=*=*=*=*=*=*=*=*=*=*=*=*=*=*=*=*=*=*=*=*=*=*=*=*=*=*=*=*=*=*=*=*=*=*=*=*=*=\n",
            "fold 0 EPOCH 27: mean position error with floor 336.1713555945727\n",
            "fold 0 EPOCH 27: mean position error without floor 210.74443099273608\n",
            "*=*=*=*=*=*=*=*=*=*=*=*=*=*=*=*=*=*=*=*=*=*=*=*=*=*=*=*=*=*=*=*=*=*=*=*=*=*=*=*=*=*=*=*=*=*=*=*=*=*=\n"
          ],
          "name": "stdout"
        },
        {
          "output_type": "stream",
          "text": [
            "loss:1448.9976806640625: 100%|██████████| 323/323 [00:43<00:00,  7.36it/s]\n",
            "100%|██████████| 81/81 [00:08<00:00,  9.36it/s]\n",
            "  0%|          | 0/323 [00:00<?, ?it/s]"
          ],
          "name": "stderr"
        },
        {
          "output_type": "stream",
          "text": [
            "*=*=*=*=*=*=*=*=*=*=*=*=*=*=*=*=*=*=*=*=*=*=*=*=*=*=*=*=*=*=*=*=*=*=*=*=*=*=*=*=*=*=*=*=*=*=*=*=*=*=\n",
            "fold 0 EPOCH 28: mean position error with floor 306.4280436288986\n",
            "fold 0 EPOCH 28: mean position error without floor 181.0101573849879\n",
            "*=*=*=*=*=*=*=*=*=*=*=*=*=*=*=*=*=*=*=*=*=*=*=*=*=*=*=*=*=*=*=*=*=*=*=*=*=*=*=*=*=*=*=*=*=*=*=*=*=*=\n"
          ],
          "name": "stdout"
        },
        {
          "output_type": "stream",
          "text": [
            "loss:1153.9676513671875: 100%|██████████| 323/323 [00:45<00:00,  7.04it/s]\n",
            "100%|██████████| 81/81 [00:09<00:00,  8.98it/s]\n",
            "  0%|          | 0/323 [00:00<?, ?it/s]"
          ],
          "name": "stderr"
        },
        {
          "output_type": "stream",
          "text": [
            "*=*=*=*=*=*=*=*=*=*=*=*=*=*=*=*=*=*=*=*=*=*=*=*=*=*=*=*=*=*=*=*=*=*=*=*=*=*=*=*=*=*=*=*=*=*=*=*=*=*=\n",
            "fold 0 EPOCH 29: mean position error with floor 279.50251663585544\n",
            "fold 0 EPOCH 29: mean position error without floor 153.9820460048426\n",
            "*=*=*=*=*=*=*=*=*=*=*=*=*=*=*=*=*=*=*=*=*=*=*=*=*=*=*=*=*=*=*=*=*=*=*=*=*=*=*=*=*=*=*=*=*=*=*=*=*=*=\n"
          ],
          "name": "stdout"
        },
        {
          "output_type": "stream",
          "text": [
            "loss:914.2984008789062: 100%|██████████| 323/323 [00:45<00:00,  7.17it/s]\n",
            "100%|██████████| 81/81 [00:08<00:00,  9.31it/s]\n",
            "  0%|          | 0/323 [00:00<?, ?it/s]"
          ],
          "name": "stderr"
        },
        {
          "output_type": "stream",
          "text": [
            "*=*=*=*=*=*=*=*=*=*=*=*=*=*=*=*=*=*=*=*=*=*=*=*=*=*=*=*=*=*=*=*=*=*=*=*=*=*=*=*=*=*=*=*=*=*=*=*=*=*=\n",
            "fold 0 EPOCH 30: mean position error with floor 260.68462252838054\n",
            "fold 0 EPOCH 30: mean position error without floor 135.40462469733657\n",
            "*=*=*=*=*=*=*=*=*=*=*=*=*=*=*=*=*=*=*=*=*=*=*=*=*=*=*=*=*=*=*=*=*=*=*=*=*=*=*=*=*=*=*=*=*=*=*=*=*=*=\n"
          ],
          "name": "stdout"
        },
        {
          "output_type": "stream",
          "text": [
            "loss:753.7694702148438: 100%|██████████| 323/323 [00:44<00:00,  7.27it/s]\n",
            "100%|██████████| 81/81 [00:08<00:00,  9.61it/s]\n",
            "  0%|          | 0/323 [00:00<?, ?it/s]"
          ],
          "name": "stderr"
        },
        {
          "output_type": "stream",
          "text": [
            "*=*=*=*=*=*=*=*=*=*=*=*=*=*=*=*=*=*=*=*=*=*=*=*=*=*=*=*=*=*=*=*=*=*=*=*=*=*=*=*=*=*=*=*=*=*=*=*=*=*=\n",
            "fold 0 EPOCH 31: mean position error with floor 245.50600556349954\n",
            "fold 0 EPOCH 31: mean position error without floor 120.44559322033898\n",
            "*=*=*=*=*=*=*=*=*=*=*=*=*=*=*=*=*=*=*=*=*=*=*=*=*=*=*=*=*=*=*=*=*=*=*=*=*=*=*=*=*=*=*=*=*=*=*=*=*=*=\n"
          ],
          "name": "stdout"
        },
        {
          "output_type": "stream",
          "text": [
            "loss:629.8247680664062: 100%|██████████| 323/323 [00:44<00:00,  7.30it/s]\n",
            "100%|██████████| 81/81 [00:08<00:00,  9.21it/s]\n",
            "  0%|          | 0/323 [00:00<?, ?it/s]"
          ],
          "name": "stderr"
        },
        {
          "output_type": "stream",
          "text": [
            "*=*=*=*=*=*=*=*=*=*=*=*=*=*=*=*=*=*=*=*=*=*=*=*=*=*=*=*=*=*=*=*=*=*=*=*=*=*=*=*=*=*=*=*=*=*=*=*=*=*=\n",
            "fold 0 EPOCH 32: mean position error with floor 233.17854268199306\n",
            "fold 0 EPOCH 32: mean position error without floor 108.33210653753027\n",
            "*=*=*=*=*=*=*=*=*=*=*=*=*=*=*=*=*=*=*=*=*=*=*=*=*=*=*=*=*=*=*=*=*=*=*=*=*=*=*=*=*=*=*=*=*=*=*=*=*=*=\n"
          ],
          "name": "stdout"
        },
        {
          "output_type": "stream",
          "text": [
            "loss:531.1974487304688: 100%|██████████| 323/323 [00:44<00:00,  7.33it/s]\n",
            "100%|██████████| 81/81 [00:08<00:00,  9.43it/s]\n",
            "  0%|          | 0/323 [00:00<?, ?it/s]"
          ],
          "name": "stderr"
        },
        {
          "output_type": "stream",
          "text": [
            "*=*=*=*=*=*=*=*=*=*=*=*=*=*=*=*=*=*=*=*=*=*=*=*=*=*=*=*=*=*=*=*=*=*=*=*=*=*=*=*=*=*=*=*=*=*=*=*=*=*=\n",
            "fold 0 EPOCH 33: mean position error with floor 223.55406429058414\n",
            "fold 0 EPOCH 33: mean position error without floor 98.56313559322034\n",
            "*=*=*=*=*=*=*=*=*=*=*=*=*=*=*=*=*=*=*=*=*=*=*=*=*=*=*=*=*=*=*=*=*=*=*=*=*=*=*=*=*=*=*=*=*=*=*=*=*=*=\n"
          ],
          "name": "stdout"
        },
        {
          "output_type": "stream",
          "text": [
            "loss:449.5192565917969: 100%|██████████| 323/323 [00:43<00:00,  7.45it/s]\n",
            "100%|██████████| 81/81 [00:08<00:00,  9.48it/s]\n",
            "  0%|          | 0/323 [00:00<?, ?it/s]"
          ],
          "name": "stderr"
        },
        {
          "output_type": "stream",
          "text": [
            "*=*=*=*=*=*=*=*=*=*=*=*=*=*=*=*=*=*=*=*=*=*=*=*=*=*=*=*=*=*=*=*=*=*=*=*=*=*=*=*=*=*=*=*=*=*=*=*=*=*=\n",
            "fold 0 EPOCH 34: mean position error with floor 214.5187829731257\n",
            "fold 0 EPOCH 34: mean position error without floor 89.45306295399516\n",
            "*=*=*=*=*=*=*=*=*=*=*=*=*=*=*=*=*=*=*=*=*=*=*=*=*=*=*=*=*=*=*=*=*=*=*=*=*=*=*=*=*=*=*=*=*=*=*=*=*=*=\n"
          ],
          "name": "stdout"
        },
        {
          "output_type": "stream",
          "text": [
            "loss:383.2265930175781: 100%|██████████| 323/323 [00:43<00:00,  7.35it/s]\n",
            "100%|██████████| 81/81 [00:08<00:00,  9.22it/s]\n",
            "  0%|          | 0/323 [00:00<?, ?it/s]"
          ],
          "name": "stderr"
        },
        {
          "output_type": "stream",
          "text": [
            "*=*=*=*=*=*=*=*=*=*=*=*=*=*=*=*=*=*=*=*=*=*=*=*=*=*=*=*=*=*=*=*=*=*=*=*=*=*=*=*=*=*=*=*=*=*=*=*=*=*=\n",
            "fold 0 EPOCH 35: mean position error with floor 207.29335132434423\n",
            "fold 0 EPOCH 35: mean position error without floor 82.17651937046004\n",
            "*=*=*=*=*=*=*=*=*=*=*=*=*=*=*=*=*=*=*=*=*=*=*=*=*=*=*=*=*=*=*=*=*=*=*=*=*=*=*=*=*=*=*=*=*=*=*=*=*=*=\n"
          ],
          "name": "stdout"
        },
        {
          "output_type": "stream",
          "text": [
            "loss:327.98455810546875: 100%|██████████| 323/323 [00:44<00:00,  7.30it/s]\n",
            "100%|██████████| 81/81 [00:08<00:00,  9.29it/s]\n",
            "  0%|          | 0/323 [00:00<?, ?it/s]"
          ],
          "name": "stderr"
        },
        {
          "output_type": "stream",
          "text": [
            "*=*=*=*=*=*=*=*=*=*=*=*=*=*=*=*=*=*=*=*=*=*=*=*=*=*=*=*=*=*=*=*=*=*=*=*=*=*=*=*=*=*=*=*=*=*=*=*=*=*=\n",
            "fold 0 EPOCH 36: mean position error with floor 201.36721170262874\n",
            "fold 0 EPOCH 36: mean position error without floor 76.21922518159806\n",
            "*=*=*=*=*=*=*=*=*=*=*=*=*=*=*=*=*=*=*=*=*=*=*=*=*=*=*=*=*=*=*=*=*=*=*=*=*=*=*=*=*=*=*=*=*=*=*=*=*=*=\n"
          ],
          "name": "stdout"
        },
        {
          "output_type": "stream",
          "text": [
            "loss:283.82269287109375: 100%|██████████| 323/323 [00:44<00:00,  7.26it/s]\n",
            "100%|██████████| 81/81 [00:08<00:00,  9.31it/s]\n",
            "  0%|          | 0/323 [00:00<?, ?it/s]"
          ],
          "name": "stderr"
        },
        {
          "output_type": "stream",
          "text": [
            "*=*=*=*=*=*=*=*=*=*=*=*=*=*=*=*=*=*=*=*=*=*=*=*=*=*=*=*=*=*=*=*=*=*=*=*=*=*=*=*=*=*=*=*=*=*=*=*=*=*=\n",
            "fold 0 EPOCH 37: mean position error with floor 195.92927462400846\n",
            "fold 0 EPOCH 37: mean position error without floor 70.76345036319613\n",
            "*=*=*=*=*=*=*=*=*=*=*=*=*=*=*=*=*=*=*=*=*=*=*=*=*=*=*=*=*=*=*=*=*=*=*=*=*=*=*=*=*=*=*=*=*=*=*=*=*=*=\n"
          ],
          "name": "stdout"
        },
        {
          "output_type": "stream",
          "text": [
            "loss:245.4195556640625: 100%|██████████| 323/323 [00:44<00:00,  7.25it/s]\n",
            "100%|██████████| 81/81 [00:08<00:00,  9.21it/s]\n",
            "  0%|          | 0/323 [00:00<?, ?it/s]"
          ],
          "name": "stderr"
        },
        {
          "output_type": "stream",
          "text": [
            "*=*=*=*=*=*=*=*=*=*=*=*=*=*=*=*=*=*=*=*=*=*=*=*=*=*=*=*=*=*=*=*=*=*=*=*=*=*=*=*=*=*=*=*=*=*=*=*=*=*=\n",
            "fold 0 EPOCH 38: mean position error with floor 192.16915183313174\n",
            "fold 0 EPOCH 38: mean position error without floor 66.95164648910412\n",
            "*=*=*=*=*=*=*=*=*=*=*=*=*=*=*=*=*=*=*=*=*=*=*=*=*=*=*=*=*=*=*=*=*=*=*=*=*=*=*=*=*=*=*=*=*=*=*=*=*=*=\n"
          ],
          "name": "stdout"
        },
        {
          "output_type": "stream",
          "text": [
            "loss:213.88607788085938: 100%|██████████| 323/323 [00:44<00:00,  7.20it/s]\n",
            "100%|██████████| 81/81 [00:08<00:00,  9.35it/s]\n",
            "  0%|          | 0/323 [00:00<?, ?it/s]"
          ],
          "name": "stderr"
        },
        {
          "output_type": "stream",
          "text": [
            "*=*=*=*=*=*=*=*=*=*=*=*=*=*=*=*=*=*=*=*=*=*=*=*=*=*=*=*=*=*=*=*=*=*=*=*=*=*=*=*=*=*=*=*=*=*=*=*=*=*=\n",
            "fold 0 EPOCH 39: mean position error with floor 187.56264762112957\n",
            "fold 0 EPOCH 39: mean position error without floor 62.33518159806295\n",
            "*=*=*=*=*=*=*=*=*=*=*=*=*=*=*=*=*=*=*=*=*=*=*=*=*=*=*=*=*=*=*=*=*=*=*=*=*=*=*=*=*=*=*=*=*=*=*=*=*=*=\n"
          ],
          "name": "stdout"
        },
        {
          "output_type": "stream",
          "text": [
            "loss:187.6978302001953: 100%|██████████| 323/323 [00:45<00:00,  7.02it/s]\n",
            "100%|██████████| 81/81 [00:08<00:00,  9.09it/s]\n",
            "  0%|          | 0/323 [00:00<?, ?it/s]"
          ],
          "name": "stderr"
        },
        {
          "output_type": "stream",
          "text": [
            "*=*=*=*=*=*=*=*=*=*=*=*=*=*=*=*=*=*=*=*=*=*=*=*=*=*=*=*=*=*=*=*=*=*=*=*=*=*=*=*=*=*=*=*=*=*=*=*=*=*=\n",
            "fold 0 EPOCH 40: mean position error with floor 184.76599311147112\n",
            "fold 0 EPOCH 40: mean position error without floor 59.52532082324455\n",
            "*=*=*=*=*=*=*=*=*=*=*=*=*=*=*=*=*=*=*=*=*=*=*=*=*=*=*=*=*=*=*=*=*=*=*=*=*=*=*=*=*=*=*=*=*=*=*=*=*=*=\n"
          ],
          "name": "stdout"
        },
        {
          "output_type": "stream",
          "text": [
            "loss:165.38429260253906: 100%|██████████| 323/323 [00:45<00:00,  7.04it/s]\n",
            "100%|██████████| 81/81 [00:08<00:00,  9.17it/s]\n",
            "  0%|          | 0/323 [00:00<?, ?it/s]"
          ],
          "name": "stderr"
        },
        {
          "output_type": "stream",
          "text": [
            "*=*=*=*=*=*=*=*=*=*=*=*=*=*=*=*=*=*=*=*=*=*=*=*=*=*=*=*=*=*=*=*=*=*=*=*=*=*=*=*=*=*=*=*=*=*=*=*=*=*=\n",
            "fold 0 EPOCH 41: mean position error with floor 182.11963617226294\n",
            "fold 0 EPOCH 41: mean position error without floor 56.88526634382566\n",
            "*=*=*=*=*=*=*=*=*=*=*=*=*=*=*=*=*=*=*=*=*=*=*=*=*=*=*=*=*=*=*=*=*=*=*=*=*=*=*=*=*=*=*=*=*=*=*=*=*=*=\n"
          ],
          "name": "stdout"
        },
        {
          "output_type": "stream",
          "text": [
            "loss:145.9359588623047: 100%|██████████| 323/323 [00:46<00:00,  7.01it/s]\n",
            "100%|██████████| 81/81 [00:08<00:00,  9.25it/s]\n",
            "  0%|          | 0/323 [00:00<?, ?it/s]"
          ],
          "name": "stderr"
        },
        {
          "output_type": "stream",
          "text": [
            "*=*=*=*=*=*=*=*=*=*=*=*=*=*=*=*=*=*=*=*=*=*=*=*=*=*=*=*=*=*=*=*=*=*=*=*=*=*=*=*=*=*=*=*=*=*=*=*=*=*=\n",
            "fold 0 EPOCH 42: mean position error with floor 180.3649767393711\n",
            "fold 0 EPOCH 42: mean position error without floor 55.06302663438257\n",
            "*=*=*=*=*=*=*=*=*=*=*=*=*=*=*=*=*=*=*=*=*=*=*=*=*=*=*=*=*=*=*=*=*=*=*=*=*=*=*=*=*=*=*=*=*=*=*=*=*=*=\n"
          ],
          "name": "stdout"
        },
        {
          "output_type": "stream",
          "text": [
            "loss:129.31422424316406: 100%|██████████| 323/323 [00:45<00:00,  7.08it/s]\n",
            "100%|██████████| 81/81 [00:08<00:00,  9.06it/s]\n",
            "  0%|          | 0/323 [00:00<?, ?it/s]"
          ],
          "name": "stderr"
        },
        {
          "output_type": "stream",
          "text": [
            "*=*=*=*=*=*=*=*=*=*=*=*=*=*=*=*=*=*=*=*=*=*=*=*=*=*=*=*=*=*=*=*=*=*=*=*=*=*=*=*=*=*=*=*=*=*=*=*=*=*=\n",
            "fold 0 EPOCH 43: mean position error with floor 177.757550044343\n",
            "fold 0 EPOCH 43: mean position error without floor 52.46932203389831\n",
            "*=*=*=*=*=*=*=*=*=*=*=*=*=*=*=*=*=*=*=*=*=*=*=*=*=*=*=*=*=*=*=*=*=*=*=*=*=*=*=*=*=*=*=*=*=*=*=*=*=*=\n"
          ],
          "name": "stdout"
        },
        {
          "output_type": "stream",
          "text": [
            "loss:114.81266021728516: 100%|██████████| 323/323 [00:46<00:00,  7.01it/s]\n",
            "100%|██████████| 81/81 [00:08<00:00,  9.25it/s]\n",
            "  0%|          | 0/323 [00:00<?, ?it/s]"
          ],
          "name": "stderr"
        },
        {
          "output_type": "stream",
          "text": [
            "*=*=*=*=*=*=*=*=*=*=*=*=*=*=*=*=*=*=*=*=*=*=*=*=*=*=*=*=*=*=*=*=*=*=*=*=*=*=*=*=*=*=*=*=*=*=*=*=*=*=\n",
            "fold 0 EPOCH 44: mean position error with floor 177.23699616110932\n",
            "fold 0 EPOCH 44: mean position error without floor 51.92835956416465\n",
            "*=*=*=*=*=*=*=*=*=*=*=*=*=*=*=*=*=*=*=*=*=*=*=*=*=*=*=*=*=*=*=*=*=*=*=*=*=*=*=*=*=*=*=*=*=*=*=*=*=*=\n"
          ],
          "name": "stdout"
        },
        {
          "output_type": "stream",
          "text": [
            "loss:102.0857925415039: 100%|██████████| 323/323 [00:46<00:00,  6.95it/s]\n",
            "100%|██████████| 81/81 [00:08<00:00,  9.30it/s]\n",
            "  0%|          | 0/323 [00:00<?, ?it/s]"
          ],
          "name": "stderr"
        },
        {
          "output_type": "stream",
          "text": [
            "*=*=*=*=*=*=*=*=*=*=*=*=*=*=*=*=*=*=*=*=*=*=*=*=*=*=*=*=*=*=*=*=*=*=*=*=*=*=*=*=*=*=*=*=*=*=*=*=*=*=\n",
            "fold 0 EPOCH 45: mean position error with floor 176.33453149060279\n",
            "fold 0 EPOCH 45: mean position error without floor 51.00210653753027\n",
            "*=*=*=*=*=*=*=*=*=*=*=*=*=*=*=*=*=*=*=*=*=*=*=*=*=*=*=*=*=*=*=*=*=*=*=*=*=*=*=*=*=*=*=*=*=*=*=*=*=*=\n"
          ],
          "name": "stdout"
        },
        {
          "output_type": "stream",
          "text": [
            "loss:90.89702606201172: 100%|██████████| 323/323 [00:45<00:00,  7.02it/s]\n",
            "100%|██████████| 81/81 [00:09<00:00,  8.99it/s]\n",
            "  0%|          | 0/323 [00:00<?, ?it/s]"
          ],
          "name": "stderr"
        },
        {
          "output_type": "stream",
          "text": [
            "*=*=*=*=*=*=*=*=*=*=*=*=*=*=*=*=*=*=*=*=*=*=*=*=*=*=*=*=*=*=*=*=*=*=*=*=*=*=*=*=*=*=*=*=*=*=*=*=*=*=\n",
            "fold 0 EPOCH 46: mean position error with floor 173.4961053317787\n",
            "fold 0 EPOCH 46: mean position error without floor 48.13014225181598\n",
            "*=*=*=*=*=*=*=*=*=*=*=*=*=*=*=*=*=*=*=*=*=*=*=*=*=*=*=*=*=*=*=*=*=*=*=*=*=*=*=*=*=*=*=*=*=*=*=*=*=*=\n"
          ],
          "name": "stdout"
        },
        {
          "output_type": "stream",
          "text": [
            "loss:81.46305084228516: 100%|██████████| 323/323 [00:46<00:00,  7.02it/s]\n",
            "100%|██████████| 81/81 [00:08<00:00,  9.15it/s]\n",
            "  0%|          | 0/323 [00:00<?, ?it/s]"
          ],
          "name": "stderr"
        },
        {
          "output_type": "stream",
          "text": [
            "*=*=*=*=*=*=*=*=*=*=*=*=*=*=*=*=*=*=*=*=*=*=*=*=*=*=*=*=*=*=*=*=*=*=*=*=*=*=*=*=*=*=*=*=*=*=*=*=*=*=\n",
            "fold 0 EPOCH 47: mean position error with floor 172.9591746172796\n",
            "fold 0 EPOCH 47: mean position error without floor 47.58851392251816\n",
            "*=*=*=*=*=*=*=*=*=*=*=*=*=*=*=*=*=*=*=*=*=*=*=*=*=*=*=*=*=*=*=*=*=*=*=*=*=*=*=*=*=*=*=*=*=*=*=*=*=*=\n"
          ],
          "name": "stdout"
        },
        {
          "output_type": "stream",
          "text": [
            "loss:72.91437530517578: 100%|██████████| 323/323 [00:46<00:00,  6.98it/s]\n",
            "100%|██████████| 81/81 [00:08<00:00,  9.09it/s]\n",
            "  0%|          | 0/323 [00:00<?, ?it/s]"
          ],
          "name": "stderr"
        },
        {
          "output_type": "stream",
          "text": [
            "*=*=*=*=*=*=*=*=*=*=*=*=*=*=*=*=*=*=*=*=*=*=*=*=*=*=*=*=*=*=*=*=*=*=*=*=*=*=*=*=*=*=*=*=*=*=*=*=*=*=\n",
            "fold 0 EPOCH 48: mean position error with floor 171.86239961877646\n",
            "fold 0 EPOCH 48: mean position error without floor 46.452696731234866\n",
            "*=*=*=*=*=*=*=*=*=*=*=*=*=*=*=*=*=*=*=*=*=*=*=*=*=*=*=*=*=*=*=*=*=*=*=*=*=*=*=*=*=*=*=*=*=*=*=*=*=*=\n"
          ],
          "name": "stdout"
        },
        {
          "output_type": "stream",
          "text": [
            "loss:65.7171630859375: 100%|██████████| 323/323 [00:45<00:00,  7.02it/s]\n",
            "100%|██████████| 81/81 [00:08<00:00,  9.19it/s]\n",
            "  0%|          | 0/323 [00:00<?, ?it/s]"
          ],
          "name": "stderr"
        },
        {
          "output_type": "stream",
          "text": [
            "*=*=*=*=*=*=*=*=*=*=*=*=*=*=*=*=*=*=*=*=*=*=*=*=*=*=*=*=*=*=*=*=*=*=*=*=*=*=*=*=*=*=*=*=*=*=*=*=*=*=\n",
            "fold 0 EPOCH 49: mean position error with floor 171.10587869587843\n",
            "fold 0 EPOCH 49: mean position error without floor 45.67764225181598\n",
            "*=*=*=*=*=*=*=*=*=*=*=*=*=*=*=*=*=*=*=*=*=*=*=*=*=*=*=*=*=*=*=*=*=*=*=*=*=*=*=*=*=*=*=*=*=*=*=*=*=*=\n"
          ],
          "name": "stdout"
        },
        {
          "output_type": "stream",
          "text": [
            "loss:59.055599212646484: 100%|██████████| 323/323 [00:46<00:00,  6.91it/s]\n",
            "100%|██████████| 81/81 [00:09<00:00,  8.94it/s]\n",
            "  0%|          | 0/323 [00:00<?, ?it/s]"
          ],
          "name": "stderr"
        },
        {
          "output_type": "stream",
          "text": [
            "*=*=*=*=*=*=*=*=*=*=*=*=*=*=*=*=*=*=*=*=*=*=*=*=*=*=*=*=*=*=*=*=*=*=*=*=*=*=*=*=*=*=*=*=*=*=*=*=*=*=\n",
            "fold 0 EPOCH 50: mean position error with floor 170.25667327243536\n",
            "fold 0 EPOCH 50: mean position error without floor 44.82248789346247\n",
            "*=*=*=*=*=*=*=*=*=*=*=*=*=*=*=*=*=*=*=*=*=*=*=*=*=*=*=*=*=*=*=*=*=*=*=*=*=*=*=*=*=*=*=*=*=*=*=*=*=*=\n"
          ],
          "name": "stdout"
        },
        {
          "output_type": "stream",
          "text": [
            "loss:53.276424407958984: 100%|██████████| 323/323 [00:46<00:00,  7.01it/s]\n",
            "100%|██████████| 81/81 [00:08<00:00,  9.43it/s]\n",
            "  0%|          | 0/323 [00:00<?, ?it/s]"
          ],
          "name": "stderr"
        },
        {
          "output_type": "stream",
          "text": [
            "*=*=*=*=*=*=*=*=*=*=*=*=*=*=*=*=*=*=*=*=*=*=*=*=*=*=*=*=*=*=*=*=*=*=*=*=*=*=*=*=*=*=*=*=*=*=*=*=*=*=\n",
            "fold 0 EPOCH 51: mean position error with floor 169.9844560089267\n",
            "fold 0 EPOCH 51: mean position error without floor 44.54710956416465\n",
            "*=*=*=*=*=*=*=*=*=*=*=*=*=*=*=*=*=*=*=*=*=*=*=*=*=*=*=*=*=*=*=*=*=*=*=*=*=*=*=*=*=*=*=*=*=*=*=*=*=*=\n"
          ],
          "name": "stdout"
        },
        {
          "output_type": "stream",
          "text": [
            "loss:48.482093811035156: 100%|██████████| 323/323 [00:46<00:00,  6.92it/s]\n",
            "100%|██████████| 81/81 [00:09<00:00,  8.69it/s]\n",
            "  0%|          | 0/323 [00:00<?, ?it/s]"
          ],
          "name": "stderr"
        },
        {
          "output_type": "stream",
          "text": [
            "*=*=*=*=*=*=*=*=*=*=*=*=*=*=*=*=*=*=*=*=*=*=*=*=*=*=*=*=*=*=*=*=*=*=*=*=*=*=*=*=*=*=*=*=*=*=*=*=*=*=\n",
            "fold 0 EPOCH 52: mean position error with floor 169.26104326954695\n",
            "fold 0 EPOCH 52: mean position error without floor 43.808607748184016\n",
            "*=*=*=*=*=*=*=*=*=*=*=*=*=*=*=*=*=*=*=*=*=*=*=*=*=*=*=*=*=*=*=*=*=*=*=*=*=*=*=*=*=*=*=*=*=*=*=*=*=*=\n"
          ],
          "name": "stdout"
        },
        {
          "output_type": "stream",
          "text": [
            "loss:43.98754119873047: 100%|██████████| 323/323 [00:46<00:00,  6.97it/s]\n",
            "100%|██████████| 81/81 [00:08<00:00,  9.08it/s]\n",
            "  0%|          | 0/323 [00:00<?, ?it/s]"
          ],
          "name": "stderr"
        },
        {
          "output_type": "stream",
          "text": [
            "*=*=*=*=*=*=*=*=*=*=*=*=*=*=*=*=*=*=*=*=*=*=*=*=*=*=*=*=*=*=*=*=*=*=*=*=*=*=*=*=*=*=*=*=*=*=*=*=*=*=\n",
            "fold 0 EPOCH 53: mean position error with floor 169.1206962505613\n",
            "fold 0 EPOCH 53: mean position error without floor 43.66040556900727\n",
            "*=*=*=*=*=*=*=*=*=*=*=*=*=*=*=*=*=*=*=*=*=*=*=*=*=*=*=*=*=*=*=*=*=*=*=*=*=*=*=*=*=*=*=*=*=*=*=*=*=*=\n"
          ],
          "name": "stdout"
        },
        {
          "output_type": "stream",
          "text": [
            "loss:40.19258117675781: 100%|██████████| 323/323 [00:46<00:00,  7.01it/s]\n",
            "100%|██████████| 81/81 [00:08<00:00,  9.00it/s]\n",
            "  0%|          | 0/323 [00:00<?, ?it/s]"
          ],
          "name": "stderr"
        },
        {
          "output_type": "stream",
          "text": [
            "*=*=*=*=*=*=*=*=*=*=*=*=*=*=*=*=*=*=*=*=*=*=*=*=*=*=*=*=*=*=*=*=*=*=*=*=*=*=*=*=*=*=*=*=*=*=*=*=*=*=\n",
            "fold 0 EPOCH 54: mean position error with floor 168.06855498317745\n",
            "fold 0 EPOCH 54: mean position error without floor 42.60398305084746\n",
            "*=*=*=*=*=*=*=*=*=*=*=*=*=*=*=*=*=*=*=*=*=*=*=*=*=*=*=*=*=*=*=*=*=*=*=*=*=*=*=*=*=*=*=*=*=*=*=*=*=*=\n"
          ],
          "name": "stdout"
        },
        {
          "output_type": "stream",
          "text": [
            "loss:36.95818328857422: 100%|██████████| 323/323 [00:46<00:00,  7.01it/s]\n",
            "100%|██████████| 81/81 [00:08<00:00,  9.09it/s]\n",
            "  0%|          | 0/323 [00:00<?, ?it/s]"
          ],
          "name": "stderr"
        },
        {
          "output_type": "stream",
          "text": [
            "*=*=*=*=*=*=*=*=*=*=*=*=*=*=*=*=*=*=*=*=*=*=*=*=*=*=*=*=*=*=*=*=*=*=*=*=*=*=*=*=*=*=*=*=*=*=*=*=*=*=\n",
            "fold 0 EPOCH 55: mean position error with floor 167.91392097936162\n",
            "fold 0 EPOCH 55: mean position error without floor 42.44804479418886\n",
            "*=*=*=*=*=*=*=*=*=*=*=*=*=*=*=*=*=*=*=*=*=*=*=*=*=*=*=*=*=*=*=*=*=*=*=*=*=*=*=*=*=*=*=*=*=*=*=*=*=*=\n"
          ],
          "name": "stdout"
        },
        {
          "output_type": "stream",
          "text": [
            "loss:33.82194519042969: 100%|██████████| 323/323 [00:46<00:00,  6.94it/s]\n",
            "100%|██████████| 81/81 [00:08<00:00,  9.08it/s]\n",
            "  0%|          | 0/323 [00:00<?, ?it/s]"
          ],
          "name": "stderr"
        },
        {
          "output_type": "stream",
          "text": [
            "*=*=*=*=*=*=*=*=*=*=*=*=*=*=*=*=*=*=*=*=*=*=*=*=*=*=*=*=*=*=*=*=*=*=*=*=*=*=*=*=*=*=*=*=*=*=*=*=*=*=\n",
            "fold 0 EPOCH 56: mean position error with floor 167.46843123881493\n",
            "fold 0 EPOCH 56: mean position error without floor 42.00006053268765\n",
            "*=*=*=*=*=*=*=*=*=*=*=*=*=*=*=*=*=*=*=*=*=*=*=*=*=*=*=*=*=*=*=*=*=*=*=*=*=*=*=*=*=*=*=*=*=*=*=*=*=*=\n"
          ],
          "name": "stdout"
        },
        {
          "output_type": "stream",
          "text": [
            "loss:31.25653648376465: 100%|██████████| 323/323 [00:45<00:00,  7.03it/s]\n",
            "100%|██████████| 81/81 [00:08<00:00,  9.17it/s]\n",
            "  0%|          | 0/323 [00:00<?, ?it/s]"
          ],
          "name": "stderr"
        },
        {
          "output_type": "stream",
          "text": [
            "*=*=*=*=*=*=*=*=*=*=*=*=*=*=*=*=*=*=*=*=*=*=*=*=*=*=*=*=*=*=*=*=*=*=*=*=*=*=*=*=*=*=*=*=*=*=*=*=*=*=\n",
            "fold 0 EPOCH 57: mean position error with floor 167.0646594751509\n",
            "fold 0 EPOCH 57: mean position error without floor 41.592720944309924\n",
            "*=*=*=*=*=*=*=*=*=*=*=*=*=*=*=*=*=*=*=*=*=*=*=*=*=*=*=*=*=*=*=*=*=*=*=*=*=*=*=*=*=*=*=*=*=*=*=*=*=*=\n"
          ],
          "name": "stdout"
        },
        {
          "output_type": "stream",
          "text": [
            "loss:28.842933654785156: 100%|██████████| 323/323 [00:45<00:00,  7.07it/s]\n",
            "100%|██████████| 81/81 [00:08<00:00,  9.12it/s]\n",
            "  0%|          | 0/323 [00:00<?, ?it/s]"
          ],
          "name": "stderr"
        },
        {
          "output_type": "stream",
          "text": [
            "*=*=*=*=*=*=*=*=*=*=*=*=*=*=*=*=*=*=*=*=*=*=*=*=*=*=*=*=*=*=*=*=*=*=*=*=*=*=*=*=*=*=*=*=*=*=*=*=*=*=\n",
            "fold 0 EPOCH 58: mean position error with floor 167.2130830995219\n",
            "fold 0 EPOCH 58: mean position error without floor 41.73449152542373\n",
            "*=*=*=*=*=*=*=*=*=*=*=*=*=*=*=*=*=*=*=*=*=*=*=*=*=*=*=*=*=*=*=*=*=*=*=*=*=*=*=*=*=*=*=*=*=*=*=*=*=*=\n"
          ],
          "name": "stdout"
        },
        {
          "output_type": "stream",
          "text": [
            "loss:26.78791618347168: 100%|██████████| 323/323 [00:46<00:00,  7.02it/s]\n",
            "100%|██████████| 81/81 [00:08<00:00,  9.02it/s]\n",
            "  0%|          | 0/323 [00:00<?, ?it/s]"
          ],
          "name": "stderr"
        },
        {
          "output_type": "stream",
          "text": [
            "*=*=*=*=*=*=*=*=*=*=*=*=*=*=*=*=*=*=*=*=*=*=*=*=*=*=*=*=*=*=*=*=*=*=*=*=*=*=*=*=*=*=*=*=*=*=*=*=*=*=\n",
            "fold 0 EPOCH 59: mean position error with floor 166.37658556943043\n",
            "fold 0 EPOCH 59: mean position error without floor 40.89845641646489\n",
            "*=*=*=*=*=*=*=*=*=*=*=*=*=*=*=*=*=*=*=*=*=*=*=*=*=*=*=*=*=*=*=*=*=*=*=*=*=*=*=*=*=*=*=*=*=*=*=*=*=*=\n"
          ],
          "name": "stdout"
        },
        {
          "output_type": "stream",
          "text": [
            "loss:24.82661247253418: 100%|██████████| 323/323 [00:46<00:00,  6.96it/s]\n",
            "100%|██████████| 81/81 [00:08<00:00,  9.14it/s]\n",
            "  0%|          | 0/323 [00:00<?, ?it/s]"
          ],
          "name": "stderr"
        },
        {
          "output_type": "stream",
          "text": [
            "*=*=*=*=*=*=*=*=*=*=*=*=*=*=*=*=*=*=*=*=*=*=*=*=*=*=*=*=*=*=*=*=*=*=*=*=*=*=*=*=*=*=*=*=*=*=*=*=*=*=\n",
            "fold 0 EPOCH 60: mean position error with floor 166.4560803681495\n",
            "fold 0 EPOCH 60: mean position error without floor 40.97568704600484\n",
            "*=*=*=*=*=*=*=*=*=*=*=*=*=*=*=*=*=*=*=*=*=*=*=*=*=*=*=*=*=*=*=*=*=*=*=*=*=*=*=*=*=*=*=*=*=*=*=*=*=*=\n"
          ],
          "name": "stdout"
        },
        {
          "output_type": "stream",
          "text": [
            "loss:22.898521423339844: 100%|██████████| 323/323 [00:46<00:00,  6.97it/s]\n",
            "100%|██████████| 81/81 [00:09<00:00,  8.94it/s]\n",
            "  0%|          | 0/323 [00:00<?, ?it/s]"
          ],
          "name": "stderr"
        },
        {
          "output_type": "stream",
          "text": [
            "*=*=*=*=*=*=*=*=*=*=*=*=*=*=*=*=*=*=*=*=*=*=*=*=*=*=*=*=*=*=*=*=*=*=*=*=*=*=*=*=*=*=*=*=*=*=*=*=*=*=\n",
            "fold 0 EPOCH 61: mean position error with floor 166.23410875097892\n",
            "fold 0 EPOCH 61: mean position error without floor 40.74502421307506\n",
            "*=*=*=*=*=*=*=*=*=*=*=*=*=*=*=*=*=*=*=*=*=*=*=*=*=*=*=*=*=*=*=*=*=*=*=*=*=*=*=*=*=*=*=*=*=*=*=*=*=*=\n"
          ],
          "name": "stdout"
        },
        {
          "output_type": "stream",
          "text": [
            "loss:21.410400390625: 100%|██████████| 323/323 [00:46<00:00,  6.90it/s]\n",
            "100%|██████████| 81/81 [00:09<00:00,  8.82it/s]\n",
            "  0%|          | 0/323 [00:00<?, ?it/s]"
          ],
          "name": "stderr"
        },
        {
          "output_type": "stream",
          "text": [
            "*=*=*=*=*=*=*=*=*=*=*=*=*=*=*=*=*=*=*=*=*=*=*=*=*=*=*=*=*=*=*=*=*=*=*=*=*=*=*=*=*=*=*=*=*=*=*=*=*=*=\n",
            "fold 0 EPOCH 62: mean position error with floor 165.71254819030082\n",
            "fold 0 EPOCH 62: mean position error without floor 40.22222154963681\n",
            "*=*=*=*=*=*=*=*=*=*=*=*=*=*=*=*=*=*=*=*=*=*=*=*=*=*=*=*=*=*=*=*=*=*=*=*=*=*=*=*=*=*=*=*=*=*=*=*=*=*=\n"
          ],
          "name": "stdout"
        },
        {
          "output_type": "stream",
          "text": [
            "loss:20.080669403076172: 100%|██████████| 323/323 [00:47<00:00,  6.84it/s]\n",
            "100%|██████████| 81/81 [00:08<00:00,  9.04it/s]\n",
            "  0%|          | 0/323 [00:00<?, ?it/s]"
          ],
          "name": "stderr"
        },
        {
          "output_type": "stream",
          "text": [
            "*=*=*=*=*=*=*=*=*=*=*=*=*=*=*=*=*=*=*=*=*=*=*=*=*=*=*=*=*=*=*=*=*=*=*=*=*=*=*=*=*=*=*=*=*=*=*=*=*=*=\n",
            "fold 0 EPOCH 63: mean position error with floor 165.65968349151458\n",
            "fold 0 EPOCH 63: mean position error without floor 40.176216707021794\n",
            "*=*=*=*=*=*=*=*=*=*=*=*=*=*=*=*=*=*=*=*=*=*=*=*=*=*=*=*=*=*=*=*=*=*=*=*=*=*=*=*=*=*=*=*=*=*=*=*=*=*=\n"
          ],
          "name": "stdout"
        },
        {
          "output_type": "stream",
          "text": [
            "loss:18.943532943725586: 100%|██████████| 323/323 [00:47<00:00,  6.84it/s]\n",
            "100%|██████████| 81/81 [00:08<00:00,  9.12it/s]\n",
            "  0%|          | 0/323 [00:00<?, ?it/s]"
          ],
          "name": "stderr"
        },
        {
          "output_type": "stream",
          "text": [
            "*=*=*=*=*=*=*=*=*=*=*=*=*=*=*=*=*=*=*=*=*=*=*=*=*=*=*=*=*=*=*=*=*=*=*=*=*=*=*=*=*=*=*=*=*=*=*=*=*=*=\n",
            "fold 0 EPOCH 64: mean position error with floor 165.32852702845707\n",
            "fold 0 EPOCH 64: mean position error without floor 39.8376392251816\n",
            "*=*=*=*=*=*=*=*=*=*=*=*=*=*=*=*=*=*=*=*=*=*=*=*=*=*=*=*=*=*=*=*=*=*=*=*=*=*=*=*=*=*=*=*=*=*=*=*=*=*=\n"
          ],
          "name": "stdout"
        },
        {
          "output_type": "stream",
          "text": [
            "loss:17.763137817382812: 100%|██████████| 323/323 [00:47<00:00,  6.85it/s]\n",
            "100%|██████████| 81/81 [00:09<00:00,  8.77it/s]\n",
            "  0%|          | 0/323 [00:00<?, ?it/s]"
          ],
          "name": "stderr"
        },
        {
          "output_type": "stream",
          "text": [
            "*=*=*=*=*=*=*=*=*=*=*=*=*=*=*=*=*=*=*=*=*=*=*=*=*=*=*=*=*=*=*=*=*=*=*=*=*=*=*=*=*=*=*=*=*=*=*=*=*=*=\n",
            "fold 0 EPOCH 65: mean position error with floor 165.0226339068345\n",
            "fold 0 EPOCH 65: mean position error without floor 39.52913438256659\n",
            "*=*=*=*=*=*=*=*=*=*=*=*=*=*=*=*=*=*=*=*=*=*=*=*=*=*=*=*=*=*=*=*=*=*=*=*=*=*=*=*=*=*=*=*=*=*=*=*=*=*=\n"
          ],
          "name": "stdout"
        },
        {
          "output_type": "stream",
          "text": [
            "loss:16.743450164794922: 100%|██████████| 323/323 [00:47<00:00,  6.86it/s]\n",
            "100%|██████████| 81/81 [00:08<00:00,  9.02it/s]\n",
            "  0%|          | 0/323 [00:00<?, ?it/s]"
          ],
          "name": "stderr"
        },
        {
          "output_type": "stream",
          "text": [
            "*=*=*=*=*=*=*=*=*=*=*=*=*=*=*=*=*=*=*=*=*=*=*=*=*=*=*=*=*=*=*=*=*=*=*=*=*=*=*=*=*=*=*=*=*=*=*=*=*=*=\n",
            "fold 0 EPOCH 66: mean position error with floor 164.9731186248178\n",
            "fold 0 EPOCH 66: mean position error without floor 39.47736380145278\n",
            "*=*=*=*=*=*=*=*=*=*=*=*=*=*=*=*=*=*=*=*=*=*=*=*=*=*=*=*=*=*=*=*=*=*=*=*=*=*=*=*=*=*=*=*=*=*=*=*=*=*=\n"
          ],
          "name": "stdout"
        },
        {
          "output_type": "stream",
          "text": [
            "loss:15.773189544677734: 100%|██████████| 323/323 [00:47<00:00,  6.81it/s]\n",
            "100%|██████████| 81/81 [00:09<00:00,  8.90it/s]\n",
            "  0%|          | 0/323 [00:00<?, ?it/s]"
          ],
          "name": "stderr"
        },
        {
          "output_type": "stream",
          "text": [
            "*=*=*=*=*=*=*=*=*=*=*=*=*=*=*=*=*=*=*=*=*=*=*=*=*=*=*=*=*=*=*=*=*=*=*=*=*=*=*=*=*=*=*=*=*=*=*=*=*=*=\n",
            "fold 0 EPOCH 67: mean position error with floor 165.0275969912339\n",
            "fold 0 EPOCH 67: mean position error without floor 39.52744552058111\n",
            "*=*=*=*=*=*=*=*=*=*=*=*=*=*=*=*=*=*=*=*=*=*=*=*=*=*=*=*=*=*=*=*=*=*=*=*=*=*=*=*=*=*=*=*=*=*=*=*=*=*=\n"
          ],
          "name": "stdout"
        },
        {
          "output_type": "stream",
          "text": [
            "loss:14.964003562927246: 100%|██████████| 323/323 [00:47<00:00,  6.78it/s]\n",
            "100%|██████████| 81/81 [00:09<00:00,  8.76it/s]\n",
            "  0%|          | 0/323 [00:00<?, ?it/s]"
          ],
          "name": "stderr"
        },
        {
          "output_type": "stream",
          "text": [
            "*=*=*=*=*=*=*=*=*=*=*=*=*=*=*=*=*=*=*=*=*=*=*=*=*=*=*=*=*=*=*=*=*=*=*=*=*=*=*=*=*=*=*=*=*=*=*=*=*=*=\n",
            "fold 0 EPOCH 68: mean position error with floor 164.83637119298228\n",
            "fold 0 EPOCH 68: mean position error without floor 39.33266949152542\n",
            "*=*=*=*=*=*=*=*=*=*=*=*=*=*=*=*=*=*=*=*=*=*=*=*=*=*=*=*=*=*=*=*=*=*=*=*=*=*=*=*=*=*=*=*=*=*=*=*=*=*=\n"
          ],
          "name": "stdout"
        },
        {
          "output_type": "stream",
          "text": [
            "loss:14.38487720489502: 100%|██████████| 323/323 [00:47<00:00,  6.84it/s]\n",
            "100%|██████████| 81/81 [00:08<00:00,  9.06it/s]\n",
            "  0%|          | 0/323 [00:00<?, ?it/s]"
          ],
          "name": "stderr"
        },
        {
          "output_type": "stream",
          "text": [
            "*=*=*=*=*=*=*=*=*=*=*=*=*=*=*=*=*=*=*=*=*=*=*=*=*=*=*=*=*=*=*=*=*=*=*=*=*=*=*=*=*=*=*=*=*=*=*=*=*=*=\n",
            "fold 0 EPOCH 69: mean position error with floor 164.78849921548303\n",
            "fold 0 EPOCH 69: mean position error without floor 39.28328692493947\n",
            "*=*=*=*=*=*=*=*=*=*=*=*=*=*=*=*=*=*=*=*=*=*=*=*=*=*=*=*=*=*=*=*=*=*=*=*=*=*=*=*=*=*=*=*=*=*=*=*=*=*=\n"
          ],
          "name": "stdout"
        },
        {
          "output_type": "stream",
          "text": [
            "loss:13.772933006286621: 100%|██████████| 323/323 [00:46<00:00,  6.93it/s]\n",
            "100%|██████████| 81/81 [00:08<00:00,  9.17it/s]\n",
            "  0%|          | 0/323 [00:00<?, ?it/s]"
          ],
          "name": "stderr"
        },
        {
          "output_type": "stream",
          "text": [
            "*=*=*=*=*=*=*=*=*=*=*=*=*=*=*=*=*=*=*=*=*=*=*=*=*=*=*=*=*=*=*=*=*=*=*=*=*=*=*=*=*=*=*=*=*=*=*=*=*=*=\n",
            "fold 0 EPOCH 70: mean position error with floor 164.44651838164336\n",
            "fold 0 EPOCH 70: mean position error without floor 38.942109564164646\n",
            "*=*=*=*=*=*=*=*=*=*=*=*=*=*=*=*=*=*=*=*=*=*=*=*=*=*=*=*=*=*=*=*=*=*=*=*=*=*=*=*=*=*=*=*=*=*=*=*=*=*=\n"
          ],
          "name": "stdout"
        },
        {
          "output_type": "stream",
          "text": [
            "loss:13.251863479614258: 100%|██████████| 323/323 [00:46<00:00,  6.97it/s]\n",
            "100%|██████████| 81/81 [00:08<00:00,  9.04it/s]\n",
            "  0%|          | 0/323 [00:00<?, ?it/s]"
          ],
          "name": "stderr"
        },
        {
          "output_type": "stream",
          "text": [
            "*=*=*=*=*=*=*=*=*=*=*=*=*=*=*=*=*=*=*=*=*=*=*=*=*=*=*=*=*=*=*=*=*=*=*=*=*=*=*=*=*=*=*=*=*=*=*=*=*=*=\n",
            "fold 0 EPOCH 71: mean position error with floor 164.60548174265583\n",
            "fold 0 EPOCH 71: mean position error without floor 39.10264830508475\n",
            "*=*=*=*=*=*=*=*=*=*=*=*=*=*=*=*=*=*=*=*=*=*=*=*=*=*=*=*=*=*=*=*=*=*=*=*=*=*=*=*=*=*=*=*=*=*=*=*=*=*=\n"
          ],
          "name": "stdout"
        },
        {
          "output_type": "stream",
          "text": [
            "loss:12.744044303894043: 100%|██████████| 323/323 [00:46<00:00,  6.93it/s]\n",
            "100%|██████████| 81/81 [00:09<00:00,  8.97it/s]\n",
            "  0%|          | 0/323 [00:00<?, ?it/s]"
          ],
          "name": "stderr"
        },
        {
          "output_type": "stream",
          "text": [
            "*=*=*=*=*=*=*=*=*=*=*=*=*=*=*=*=*=*=*=*=*=*=*=*=*=*=*=*=*=*=*=*=*=*=*=*=*=*=*=*=*=*=*=*=*=*=*=*=*=*=\n",
            "fold 0 EPOCH 72: mean position error with floor 164.96865938870096\n",
            "fold 0 EPOCH 72: mean position error without floor 39.465039346246975\n",
            "*=*=*=*=*=*=*=*=*=*=*=*=*=*=*=*=*=*=*=*=*=*=*=*=*=*=*=*=*=*=*=*=*=*=*=*=*=*=*=*=*=*=*=*=*=*=*=*=*=*=\n"
          ],
          "name": "stdout"
        },
        {
          "output_type": "stream",
          "text": [
            "loss:12.236715316772461: 100%|██████████| 323/323 [00:46<00:00,  6.97it/s]\n",
            "100%|██████████| 81/81 [00:08<00:00,  9.03it/s]\n",
            "  0%|          | 0/323 [00:00<?, ?it/s]"
          ],
          "name": "stderr"
        },
        {
          "output_type": "stream",
          "text": [
            "*=*=*=*=*=*=*=*=*=*=*=*=*=*=*=*=*=*=*=*=*=*=*=*=*=*=*=*=*=*=*=*=*=*=*=*=*=*=*=*=*=*=*=*=*=*=*=*=*=*=\n",
            "fold 0 EPOCH 73: mean position error with floor 164.15978390879405\n",
            "fold 0 EPOCH 73: mean position error without floor 38.65377421307506\n",
            "*=*=*=*=*=*=*=*=*=*=*=*=*=*=*=*=*=*=*=*=*=*=*=*=*=*=*=*=*=*=*=*=*=*=*=*=*=*=*=*=*=*=*=*=*=*=*=*=*=*=\n"
          ],
          "name": "stdout"
        },
        {
          "output_type": "stream",
          "text": [
            "loss:11.807863235473633: 100%|██████████| 323/323 [00:46<00:00,  6.95it/s]\n",
            "100%|██████████| 81/81 [00:09<00:00,  8.84it/s]\n",
            "  0%|          | 0/323 [00:00<?, ?it/s]"
          ],
          "name": "stderr"
        },
        {
          "output_type": "stream",
          "text": [
            "*=*=*=*=*=*=*=*=*=*=*=*=*=*=*=*=*=*=*=*=*=*=*=*=*=*=*=*=*=*=*=*=*=*=*=*=*=*=*=*=*=*=*=*=*=*=*=*=*=*=\n",
            "fold 0 EPOCH 74: mean position error with floor 164.42909644332676\n",
            "fold 0 EPOCH 74: mean position error without floor 38.92265738498789\n",
            "*=*=*=*=*=*=*=*=*=*=*=*=*=*=*=*=*=*=*=*=*=*=*=*=*=*=*=*=*=*=*=*=*=*=*=*=*=*=*=*=*=*=*=*=*=*=*=*=*=*=\n"
          ],
          "name": "stdout"
        },
        {
          "output_type": "stream",
          "text": [
            "loss:11.250346183776855: 100%|██████████| 323/323 [00:46<00:00,  6.98it/s]\n",
            "100%|██████████| 81/81 [00:08<00:00,  9.23it/s]\n",
            "  0%|          | 0/323 [00:00<?, ?it/s]"
          ],
          "name": "stderr"
        },
        {
          "output_type": "stream",
          "text": [
            "*=*=*=*=*=*=*=*=*=*=*=*=*=*=*=*=*=*=*=*=*=*=*=*=*=*=*=*=*=*=*=*=*=*=*=*=*=*=*=*=*=*=*=*=*=*=*=*=*=*=\n",
            "fold 0 EPOCH 75: mean position error with floor 163.95515510720145\n",
            "fold 0 EPOCH 75: mean position error without floor 38.448535108958836\n",
            "*=*=*=*=*=*=*=*=*=*=*=*=*=*=*=*=*=*=*=*=*=*=*=*=*=*=*=*=*=*=*=*=*=*=*=*=*=*=*=*=*=*=*=*=*=*=*=*=*=*=\n"
          ],
          "name": "stdout"
        },
        {
          "output_type": "stream",
          "text": [
            "loss:11.035238265991211: 100%|██████████| 323/323 [00:46<00:00,  6.90it/s]\n",
            "100%|██████████| 81/81 [00:08<00:00,  9.21it/s]\n",
            "  0%|          | 0/323 [00:00<?, ?it/s]"
          ],
          "name": "stderr"
        },
        {
          "output_type": "stream",
          "text": [
            "*=*=*=*=*=*=*=*=*=*=*=*=*=*=*=*=*=*=*=*=*=*=*=*=*=*=*=*=*=*=*=*=*=*=*=*=*=*=*=*=*=*=*=*=*=*=*=*=*=*=\n",
            "fold 0 EPOCH 76: mean position error with floor 163.9969602204044\n",
            "fold 0 EPOCH 76: mean position error without floor 38.48599878934625\n",
            "*=*=*=*=*=*=*=*=*=*=*=*=*=*=*=*=*=*=*=*=*=*=*=*=*=*=*=*=*=*=*=*=*=*=*=*=*=*=*=*=*=*=*=*=*=*=*=*=*=*=\n"
          ],
          "name": "stdout"
        },
        {
          "output_type": "stream",
          "text": [
            "loss:10.75581169128418: 100%|██████████| 323/323 [00:46<00:00,  6.99it/s]\n",
            "100%|██████████| 81/81 [00:09<00:00,  8.84it/s]\n",
            "  0%|          | 0/323 [00:00<?, ?it/s]"
          ],
          "name": "stderr"
        },
        {
          "output_type": "stream",
          "text": [
            "*=*=*=*=*=*=*=*=*=*=*=*=*=*=*=*=*=*=*=*=*=*=*=*=*=*=*=*=*=*=*=*=*=*=*=*=*=*=*=*=*=*=*=*=*=*=*=*=*=*=\n",
            "fold 0 EPOCH 77: mean position error with floor 164.11397012851518\n",
            "fold 0 EPOCH 77: mean position error without floor 38.608193099273606\n",
            "*=*=*=*=*=*=*=*=*=*=*=*=*=*=*=*=*=*=*=*=*=*=*=*=*=*=*=*=*=*=*=*=*=*=*=*=*=*=*=*=*=*=*=*=*=*=*=*=*=*=\n"
          ],
          "name": "stdout"
        },
        {
          "output_type": "stream",
          "text": [
            "loss:10.480246543884277: 100%|██████████| 323/323 [00:46<00:00,  6.88it/s]\n",
            "100%|██████████| 81/81 [00:09<00:00,  8.98it/s]\n",
            "  0%|          | 0/323 [00:00<?, ?it/s]"
          ],
          "name": "stderr"
        },
        {
          "output_type": "stream",
          "text": [
            "*=*=*=*=*=*=*=*=*=*=*=*=*=*=*=*=*=*=*=*=*=*=*=*=*=*=*=*=*=*=*=*=*=*=*=*=*=*=*=*=*=*=*=*=*=*=*=*=*=*=\n",
            "fold 0 EPOCH 78: mean position error with floor 164.3082839885823\n",
            "fold 0 EPOCH 78: mean position error without floor 38.797421307506056\n",
            "*=*=*=*=*=*=*=*=*=*=*=*=*=*=*=*=*=*=*=*=*=*=*=*=*=*=*=*=*=*=*=*=*=*=*=*=*=*=*=*=*=*=*=*=*=*=*=*=*=*=\n"
          ],
          "name": "stdout"
        },
        {
          "output_type": "stream",
          "text": [
            "loss:10.043286323547363: 100%|██████████| 323/323 [00:46<00:00,  6.96it/s]\n",
            "100%|██████████| 81/81 [00:08<00:00,  9.25it/s]\n",
            "  0%|          | 0/323 [00:00<?, ?it/s]"
          ],
          "name": "stderr"
        },
        {
          "output_type": "stream",
          "text": [
            "*=*=*=*=*=*=*=*=*=*=*=*=*=*=*=*=*=*=*=*=*=*=*=*=*=*=*=*=*=*=*=*=*=*=*=*=*=*=*=*=*=*=*=*=*=*=*=*=*=*=\n",
            "fold 0 EPOCH 79: mean position error with floor 163.92292199017407\n",
            "fold 0 EPOCH 79: mean position error without floor 38.41332929782082\n",
            "*=*=*=*=*=*=*=*=*=*=*=*=*=*=*=*=*=*=*=*=*=*=*=*=*=*=*=*=*=*=*=*=*=*=*=*=*=*=*=*=*=*=*=*=*=*=*=*=*=*=\n"
          ],
          "name": "stdout"
        },
        {
          "output_type": "stream",
          "text": [
            "loss:9.83981990814209: 100%|██████████| 323/323 [00:45<00:00,  7.04it/s]\n",
            "100%|██████████| 81/81 [00:08<00:00,  9.20it/s]\n",
            "  0%|          | 0/323 [00:00<?, ?it/s]"
          ],
          "name": "stderr"
        },
        {
          "output_type": "stream",
          "text": [
            "*=*=*=*=*=*=*=*=*=*=*=*=*=*=*=*=*=*=*=*=*=*=*=*=*=*=*=*=*=*=*=*=*=*=*=*=*=*=*=*=*=*=*=*=*=*=*=*=*=*=\n",
            "fold 0 EPOCH 80: mean position error with floor 163.837300866011\n",
            "fold 0 EPOCH 80: mean position error without floor 38.32730629539952\n",
            "*=*=*=*=*=*=*=*=*=*=*=*=*=*=*=*=*=*=*=*=*=*=*=*=*=*=*=*=*=*=*=*=*=*=*=*=*=*=*=*=*=*=*=*=*=*=*=*=*=*=\n"
          ],
          "name": "stdout"
        },
        {
          "output_type": "stream",
          "text": [
            "loss:9.494725227355957: 100%|██████████| 323/323 [00:46<00:00,  6.92it/s]\n",
            "100%|██████████| 81/81 [00:08<00:00,  9.12it/s]\n",
            "  0%|          | 0/323 [00:00<?, ?it/s]"
          ],
          "name": "stderr"
        },
        {
          "output_type": "stream",
          "text": [
            "*=*=*=*=*=*=*=*=*=*=*=*=*=*=*=*=*=*=*=*=*=*=*=*=*=*=*=*=*=*=*=*=*=*=*=*=*=*=*=*=*=*=*=*=*=*=*=*=*=*=\n",
            "fold 0 EPOCH 81: mean position error with floor 163.799756703831\n",
            "fold 0 EPOCH 81: mean position error without floor 38.29248486682809\n",
            "*=*=*=*=*=*=*=*=*=*=*=*=*=*=*=*=*=*=*=*=*=*=*=*=*=*=*=*=*=*=*=*=*=*=*=*=*=*=*=*=*=*=*=*=*=*=*=*=*=*=\n"
          ],
          "name": "stdout"
        },
        {
          "output_type": "stream",
          "text": [
            "loss:9.350131034851074: 100%|██████████| 323/323 [00:46<00:00,  7.00it/s]\n",
            "100%|██████████| 81/81 [00:08<00:00,  9.33it/s]\n",
            "  0%|          | 0/323 [00:00<?, ?it/s]"
          ],
          "name": "stderr"
        },
        {
          "output_type": "stream",
          "text": [
            "*=*=*=*=*=*=*=*=*=*=*=*=*=*=*=*=*=*=*=*=*=*=*=*=*=*=*=*=*=*=*=*=*=*=*=*=*=*=*=*=*=*=*=*=*=*=*=*=*=*=\n",
            "fold 0 EPOCH 82: mean position error with floor 163.50163637113738\n",
            "fold 0 EPOCH 82: mean position error without floor 37.99195823244552\n",
            "*=*=*=*=*=*=*=*=*=*=*=*=*=*=*=*=*=*=*=*=*=*=*=*=*=*=*=*=*=*=*=*=*=*=*=*=*=*=*=*=*=*=*=*=*=*=*=*=*=*=\n"
          ],
          "name": "stdout"
        },
        {
          "output_type": "stream",
          "text": [
            "loss:9.214917182922363: 100%|██████████| 323/323 [00:46<00:00,  6.92it/s]\n",
            "100%|██████████| 81/81 [00:08<00:00,  9.01it/s]\n",
            "  0%|          | 0/323 [00:00<?, ?it/s]"
          ],
          "name": "stderr"
        },
        {
          "output_type": "stream",
          "text": [
            "*=*=*=*=*=*=*=*=*=*=*=*=*=*=*=*=*=*=*=*=*=*=*=*=*=*=*=*=*=*=*=*=*=*=*=*=*=*=*=*=*=*=*=*=*=*=*=*=*=*=\n",
            "fold 0 EPOCH 83: mean position error with floor 163.73507028084222\n",
            "fold 0 EPOCH 83: mean position error without floor 38.223756053268765\n",
            "*=*=*=*=*=*=*=*=*=*=*=*=*=*=*=*=*=*=*=*=*=*=*=*=*=*=*=*=*=*=*=*=*=*=*=*=*=*=*=*=*=*=*=*=*=*=*=*=*=*=\n"
          ],
          "name": "stdout"
        },
        {
          "output_type": "stream",
          "text": [
            "loss:9.08140754699707: 100%|██████████| 323/323 [00:46<00:00,  6.96it/s]\n",
            "100%|██████████| 81/81 [00:09<00:00,  8.97it/s]\n",
            "  0%|          | 0/323 [00:00<?, ?it/s]"
          ],
          "name": "stderr"
        },
        {
          "output_type": "stream",
          "text": [
            "*=*=*=*=*=*=*=*=*=*=*=*=*=*=*=*=*=*=*=*=*=*=*=*=*=*=*=*=*=*=*=*=*=*=*=*=*=*=*=*=*=*=*=*=*=*=*=*=*=*=\n",
            "fold 0 EPOCH 84: mean position error with floor 163.5721710815914\n",
            "fold 0 EPOCH 84: mean position error without floor 38.05805387409201\n",
            "*=*=*=*=*=*=*=*=*=*=*=*=*=*=*=*=*=*=*=*=*=*=*=*=*=*=*=*=*=*=*=*=*=*=*=*=*=*=*=*=*=*=*=*=*=*=*=*=*=*=\n"
          ],
          "name": "stdout"
        },
        {
          "output_type": "stream",
          "text": [
            "loss:8.91726016998291: 100%|██████████| 323/323 [00:47<00:00,  6.79it/s]\n",
            "100%|██████████| 81/81 [00:09<00:00,  8.87it/s]\n",
            "  0%|          | 0/323 [00:00<?, ?it/s]"
          ],
          "name": "stderr"
        },
        {
          "output_type": "stream",
          "text": [
            "*=*=*=*=*=*=*=*=*=*=*=*=*=*=*=*=*=*=*=*=*=*=*=*=*=*=*=*=*=*=*=*=*=*=*=*=*=*=*=*=*=*=*=*=*=*=*=*=*=*=\n",
            "fold 0 EPOCH 85: mean position error with floor 163.8815719748202\n",
            "fold 0 EPOCH 85: mean position error without floor 38.36470338983051\n",
            "*=*=*=*=*=*=*=*=*=*=*=*=*=*=*=*=*=*=*=*=*=*=*=*=*=*=*=*=*=*=*=*=*=*=*=*=*=*=*=*=*=*=*=*=*=*=*=*=*=*=\n"
          ],
          "name": "stdout"
        },
        {
          "output_type": "stream",
          "text": [
            "loss:8.77892780303955: 100%|██████████| 323/323 [00:46<00:00,  6.93it/s]\n",
            "100%|██████████| 81/81 [00:08<00:00,  9.24it/s]\n",
            "  0%|          | 0/323 [00:00<?, ?it/s]"
          ],
          "name": "stderr"
        },
        {
          "output_type": "stream",
          "text": [
            "*=*=*=*=*=*=*=*=*=*=*=*=*=*=*=*=*=*=*=*=*=*=*=*=*=*=*=*=*=*=*=*=*=*=*=*=*=*=*=*=*=*=*=*=*=*=*=*=*=*=\n",
            "fold 0 EPOCH 86: mean position error with floor 163.85065765326848\n",
            "fold 0 EPOCH 86: mean position error without floor 38.33250907990315\n",
            "*=*=*=*=*=*=*=*=*=*=*=*=*=*=*=*=*=*=*=*=*=*=*=*=*=*=*=*=*=*=*=*=*=*=*=*=*=*=*=*=*=*=*=*=*=*=*=*=*=*=\n"
          ],
          "name": "stdout"
        },
        {
          "output_type": "stream",
          "text": [
            "loss:8.456940650939941: 100%|██████████| 323/323 [00:46<00:00,  6.90it/s]\n",
            "100%|██████████| 81/81 [00:08<00:00,  9.08it/s]\n",
            "  0%|          | 0/323 [00:00<?, ?it/s]"
          ],
          "name": "stderr"
        },
        {
          "output_type": "stream",
          "text": [
            "*=*=*=*=*=*=*=*=*=*=*=*=*=*=*=*=*=*=*=*=*=*=*=*=*=*=*=*=*=*=*=*=*=*=*=*=*=*=*=*=*=*=*=*=*=*=*=*=*=*=\n",
            "fold 0 EPOCH 87: mean position error with floor 163.16300259105464\n",
            "fold 0 EPOCH 87: mean position error without floor 37.64613196125908\n",
            "*=*=*=*=*=*=*=*=*=*=*=*=*=*=*=*=*=*=*=*=*=*=*=*=*=*=*=*=*=*=*=*=*=*=*=*=*=*=*=*=*=*=*=*=*=*=*=*=*=*=\n"
          ],
          "name": "stdout"
        },
        {
          "output_type": "stream",
          "text": [
            "loss:8.331243515014648: 100%|██████████| 323/323 [00:46<00:00,  6.93it/s]\n",
            "100%|██████████| 81/81 [00:08<00:00,  9.08it/s]\n",
            "  0%|          | 0/323 [00:00<?, ?it/s]"
          ],
          "name": "stderr"
        },
        {
          "output_type": "stream",
          "text": [
            "*=*=*=*=*=*=*=*=*=*=*=*=*=*=*=*=*=*=*=*=*=*=*=*=*=*=*=*=*=*=*=*=*=*=*=*=*=*=*=*=*=*=*=*=*=*=*=*=*=*=\n",
            "fold 0 EPOCH 88: mean position error with floor 163.37221467582316\n",
            "fold 0 EPOCH 88: mean position error without floor 37.85418886198547\n",
            "*=*=*=*=*=*=*=*=*=*=*=*=*=*=*=*=*=*=*=*=*=*=*=*=*=*=*=*=*=*=*=*=*=*=*=*=*=*=*=*=*=*=*=*=*=*=*=*=*=*=\n"
          ],
          "name": "stdout"
        },
        {
          "output_type": "stream",
          "text": [
            "loss:8.240991592407227: 100%|██████████| 323/323 [00:46<00:00,  6.94it/s]\n",
            "100%|██████████| 81/81 [00:09<00:00,  8.73it/s]\n",
            "  0%|          | 0/323 [00:00<?, ?it/s]"
          ],
          "name": "stderr"
        },
        {
          "output_type": "stream",
          "text": [
            "*=*=*=*=*=*=*=*=*=*=*=*=*=*=*=*=*=*=*=*=*=*=*=*=*=*=*=*=*=*=*=*=*=*=*=*=*=*=*=*=*=*=*=*=*=*=*=*=*=*=\n",
            "fold 0 EPOCH 89: mean position error with floor 163.77442712774882\n",
            "fold 0 EPOCH 89: mean position error without floor 38.25700060532688\n",
            "*=*=*=*=*=*=*=*=*=*=*=*=*=*=*=*=*=*=*=*=*=*=*=*=*=*=*=*=*=*=*=*=*=*=*=*=*=*=*=*=*=*=*=*=*=*=*=*=*=*=\n"
          ],
          "name": "stdout"
        },
        {
          "output_type": "stream",
          "text": [
            "loss:8.11174201965332: 100%|██████████| 323/323 [00:46<00:00,  6.95it/s]\n",
            "100%|██████████| 81/81 [00:08<00:00,  9.12it/s]\n",
            "  0%|          | 0/323 [00:00<?, ?it/s]"
          ],
          "name": "stderr"
        },
        {
          "output_type": "stream",
          "text": [
            "*=*=*=*=*=*=*=*=*=*=*=*=*=*=*=*=*=*=*=*=*=*=*=*=*=*=*=*=*=*=*=*=*=*=*=*=*=*=*=*=*=*=*=*=*=*=*=*=*=*=\n",
            "fold 0 EPOCH 90: mean position error with floor 163.62872875436383\n",
            "fold 0 EPOCH 90: mean position error without floor 38.11032687651332\n",
            "*=*=*=*=*=*=*=*=*=*=*=*=*=*=*=*=*=*=*=*=*=*=*=*=*=*=*=*=*=*=*=*=*=*=*=*=*=*=*=*=*=*=*=*=*=*=*=*=*=*=\n"
          ],
          "name": "stdout"
        },
        {
          "output_type": "stream",
          "text": [
            "loss:7.751108169555664: 100%|██████████| 323/323 [00:46<00:00,  6.99it/s]\n",
            "100%|██████████| 81/81 [00:08<00:00,  9.04it/s]\n",
            "  0%|          | 0/323 [00:00<?, ?it/s]"
          ],
          "name": "stderr"
        },
        {
          "output_type": "stream",
          "text": [
            "*=*=*=*=*=*=*=*=*=*=*=*=*=*=*=*=*=*=*=*=*=*=*=*=*=*=*=*=*=*=*=*=*=*=*=*=*=*=*=*=*=*=*=*=*=*=*=*=*=*=\n",
            "fold 0 EPOCH 91: mean position error with floor 163.43867051183545\n",
            "fold 0 EPOCH 91: mean position error without floor 37.919791162227604\n",
            "*=*=*=*=*=*=*=*=*=*=*=*=*=*=*=*=*=*=*=*=*=*=*=*=*=*=*=*=*=*=*=*=*=*=*=*=*=*=*=*=*=*=*=*=*=*=*=*=*=*=\n"
          ],
          "name": "stdout"
        },
        {
          "output_type": "stream",
          "text": [
            "loss:7.658528804779053: 100%|██████████| 323/323 [00:46<00:00,  6.91it/s]\n",
            "100%|██████████| 81/81 [00:09<00:00,  8.90it/s]\n",
            "  0%|          | 0/323 [00:00<?, ?it/s]"
          ],
          "name": "stderr"
        },
        {
          "output_type": "stream",
          "text": [
            "*=*=*=*=*=*=*=*=*=*=*=*=*=*=*=*=*=*=*=*=*=*=*=*=*=*=*=*=*=*=*=*=*=*=*=*=*=*=*=*=*=*=*=*=*=*=*=*=*=*=\n",
            "fold 0 EPOCH 92: mean position error with floor 163.5190525266014\n",
            "fold 0 EPOCH 92: mean position error without floor 38.00135290556901\n",
            "*=*=*=*=*=*=*=*=*=*=*=*=*=*=*=*=*=*=*=*=*=*=*=*=*=*=*=*=*=*=*=*=*=*=*=*=*=*=*=*=*=*=*=*=*=*=*=*=*=*=\n"
          ],
          "name": "stdout"
        },
        {
          "output_type": "stream",
          "text": [
            "loss:7.563459396362305: 100%|██████████| 323/323 [00:46<00:00,  7.01it/s]\n",
            "100%|██████████| 81/81 [00:08<00:00,  9.10it/s]\n",
            "  0%|          | 0/323 [00:00<?, ?it/s]"
          ],
          "name": "stderr"
        },
        {
          "output_type": "stream",
          "text": [
            "*=*=*=*=*=*=*=*=*=*=*=*=*=*=*=*=*=*=*=*=*=*=*=*=*=*=*=*=*=*=*=*=*=*=*=*=*=*=*=*=*=*=*=*=*=*=*=*=*=*=\n",
            "fold 0 EPOCH 93: mean position error with floor 162.94869227954717\n",
            "fold 0 EPOCH 93: mean position error without floor 37.427611985472154\n",
            "*=*=*=*=*=*=*=*=*=*=*=*=*=*=*=*=*=*=*=*=*=*=*=*=*=*=*=*=*=*=*=*=*=*=*=*=*=*=*=*=*=*=*=*=*=*=*=*=*=*=\n"
          ],
          "name": "stdout"
        },
        {
          "output_type": "stream",
          "text": [
            "loss:7.437267780303955: 100%|██████████| 323/323 [00:46<00:00,  6.94it/s]\n",
            "100%|██████████| 81/81 [00:08<00:00,  9.10it/s]\n",
            "  0%|          | 0/323 [00:00<?, ?it/s]"
          ],
          "name": "stderr"
        },
        {
          "output_type": "stream",
          "text": [
            "*=*=*=*=*=*=*=*=*=*=*=*=*=*=*=*=*=*=*=*=*=*=*=*=*=*=*=*=*=*=*=*=*=*=*=*=*=*=*=*=*=*=*=*=*=*=*=*=*=*=\n",
            "fold 0 EPOCH 94: mean position error with floor 163.27946366019032\n",
            "fold 0 EPOCH 94: mean position error without floor 37.75876210653753\n",
            "*=*=*=*=*=*=*=*=*=*=*=*=*=*=*=*=*=*=*=*=*=*=*=*=*=*=*=*=*=*=*=*=*=*=*=*=*=*=*=*=*=*=*=*=*=*=*=*=*=*=\n"
          ],
          "name": "stdout"
        },
        {
          "output_type": "stream",
          "text": [
            "loss:7.254633903503418: 100%|██████████| 323/323 [00:46<00:00,  6.95it/s]\n",
            "100%|██████████| 81/81 [00:08<00:00,  9.28it/s]\n",
            "  0%|          | 0/323 [00:00<?, ?it/s]"
          ],
          "name": "stderr"
        },
        {
          "output_type": "stream",
          "text": [
            "*=*=*=*=*=*=*=*=*=*=*=*=*=*=*=*=*=*=*=*=*=*=*=*=*=*=*=*=*=*=*=*=*=*=*=*=*=*=*=*=*=*=*=*=*=*=*=*=*=*=\n",
            "fold 0 EPOCH 95: mean position error with floor 163.12909962020365\n",
            "fold 0 EPOCH 95: mean position error without floor 37.60819612590799\n",
            "*=*=*=*=*=*=*=*=*=*=*=*=*=*=*=*=*=*=*=*=*=*=*=*=*=*=*=*=*=*=*=*=*=*=*=*=*=*=*=*=*=*=*=*=*=*=*=*=*=*=\n"
          ],
          "name": "stdout"
        },
        {
          "output_type": "stream",
          "text": [
            "loss:6.932131767272949: 100%|██████████| 323/323 [00:45<00:00,  7.04it/s]\n",
            "100%|██████████| 81/81 [00:08<00:00,  9.09it/s]\n",
            "  0%|          | 0/323 [00:00<?, ?it/s]"
          ],
          "name": "stderr"
        },
        {
          "output_type": "stream",
          "text": [
            "*=*=*=*=*=*=*=*=*=*=*=*=*=*=*=*=*=*=*=*=*=*=*=*=*=*=*=*=*=*=*=*=*=*=*=*=*=*=*=*=*=*=*=*=*=*=*=*=*=*=\n",
            "fold 0 EPOCH 96: mean position error with floor 162.8078030062455\n",
            "fold 0 EPOCH 96: mean position error without floor 37.286549636803876\n",
            "*=*=*=*=*=*=*=*=*=*=*=*=*=*=*=*=*=*=*=*=*=*=*=*=*=*=*=*=*=*=*=*=*=*=*=*=*=*=*=*=*=*=*=*=*=*=*=*=*=*=\n"
          ],
          "name": "stdout"
        },
        {
          "output_type": "stream",
          "text": [
            "loss:7.050215244293213: 100%|██████████| 323/323 [00:46<00:00,  7.01it/s]\n",
            "100%|██████████| 81/81 [00:08<00:00,  9.04it/s]\n",
            "  0%|          | 0/323 [00:00<?, ?it/s]"
          ],
          "name": "stderr"
        },
        {
          "output_type": "stream",
          "text": [
            "*=*=*=*=*=*=*=*=*=*=*=*=*=*=*=*=*=*=*=*=*=*=*=*=*=*=*=*=*=*=*=*=*=*=*=*=*=*=*=*=*=*=*=*=*=*=*=*=*=*=\n",
            "fold 0 EPOCH 97: mean position error with floor 163.12326736336146\n",
            "fold 0 EPOCH 97: mean position error without floor 37.601549636803874\n",
            "*=*=*=*=*=*=*=*=*=*=*=*=*=*=*=*=*=*=*=*=*=*=*=*=*=*=*=*=*=*=*=*=*=*=*=*=*=*=*=*=*=*=*=*=*=*=*=*=*=*=\n"
          ],
          "name": "stdout"
        },
        {
          "output_type": "stream",
          "text": [
            "loss:7.079198360443115: 100%|██████████| 323/323 [00:46<00:00,  7.00it/s]\n",
            "100%|██████████| 81/81 [00:08<00:00,  9.18it/s]\n",
            "  0%|          | 0/323 [00:00<?, ?it/s]"
          ],
          "name": "stderr"
        },
        {
          "output_type": "stream",
          "text": [
            "*=*=*=*=*=*=*=*=*=*=*=*=*=*=*=*=*=*=*=*=*=*=*=*=*=*=*=*=*=*=*=*=*=*=*=*=*=*=*=*=*=*=*=*=*=*=*=*=*=*=\n",
            "fold 0 EPOCH 98: mean position error with floor 163.14986247398735\n",
            "fold 0 EPOCH 98: mean position error without floor 37.629791162227605\n",
            "*=*=*=*=*=*=*=*=*=*=*=*=*=*=*=*=*=*=*=*=*=*=*=*=*=*=*=*=*=*=*=*=*=*=*=*=*=*=*=*=*=*=*=*=*=*=*=*=*=*=\n"
          ],
          "name": "stdout"
        },
        {
          "output_type": "stream",
          "text": [
            "loss:7.460875511169434: 100%|██████████| 323/323 [00:46<00:00,  6.99it/s]\n",
            "100%|██████████| 81/81 [00:08<00:00,  9.12it/s]\n",
            "  0%|          | 0/16 [00:00<?, ?it/s]"
          ],
          "name": "stderr"
        },
        {
          "output_type": "stream",
          "text": [
            "*=*=*=*=*=*=*=*=*=*=*=*=*=*=*=*=*=*=*=*=*=*=*=*=*=*=*=*=*=*=*=*=*=*=*=*=*=*=*=*=*=*=*=*=*=*=*=*=*=*=\n",
            "fold 0 EPOCH 99: mean position error with floor 163.01796996408626\n",
            "fold 0 EPOCH 99: mean position error without floor 37.496858353510895\n",
            "*=*=*=*=*=*=*=*=*=*=*=*=*=*=*=*=*=*=*=*=*=*=*=*=*=*=*=*=*=*=*=*=*=*=*=*=*=*=*=*=*=*=*=*=*=*=*=*=*=*=\n"
          ],
          "name": "stdout"
        },
        {
          "output_type": "stream",
          "text": [
            "100%|██████████| 16/16 [00:01<00:00,  8.20it/s]\n",
            "loss:14605.4501953125: 100%|██████████| 323/323 [00:49<00:00,  6.54it/s]\n",
            "100%|██████████| 81/81 [00:08<00:00,  9.19it/s]\n",
            "  0%|          | 0/323 [00:00<?, ?it/s]"
          ],
          "name": "stderr"
        },
        {
          "output_type": "stream",
          "text": [
            "*=*=*=*=*=*=*=*=*=*=*=*=*=*=*=*=*=*=*=*=*=*=*=*=*=*=*=*=*=*=*=*=*=*=*=*=*=*=*=*=*=*=*=*=*=*=*=*=*=*=\n",
            "fold 1 EPOCH 0: mean position error with floor 846.6071224815751\n",
            "fold 1 EPOCH 0: mean position error without floor 721.6996610169491\n",
            "*=*=*=*=*=*=*=*=*=*=*=*=*=*=*=*=*=*=*=*=*=*=*=*=*=*=*=*=*=*=*=*=*=*=*=*=*=*=*=*=*=*=*=*=*=*=*=*=*=*=\n"
          ],
          "name": "stdout"
        },
        {
          "output_type": "stream",
          "text": [
            "loss:11600.96875: 100%|██████████| 323/323 [00:46<00:00,  6.89it/s]\n",
            "100%|██████████| 81/81 [00:09<00:00,  8.90it/s]\n",
            "  0%|          | 0/323 [00:00<?, ?it/s]"
          ],
          "name": "stderr"
        },
        {
          "output_type": "stream",
          "text": [
            "*=*=*=*=*=*=*=*=*=*=*=*=*=*=*=*=*=*=*=*=*=*=*=*=*=*=*=*=*=*=*=*=*=*=*=*=*=*=*=*=*=*=*=*=*=*=*=*=*=*=\n",
            "fold 1 EPOCH 1: mean position error with floor 753.9335478149271\n",
            "fold 1 EPOCH 1: mean position error without floor 629.026392251816\n",
            "*=*=*=*=*=*=*=*=*=*=*=*=*=*=*=*=*=*=*=*=*=*=*=*=*=*=*=*=*=*=*=*=*=*=*=*=*=*=*=*=*=*=*=*=*=*=*=*=*=*=\n"
          ],
          "name": "stdout"
        },
        {
          "output_type": "stream",
          "text": [
            "loss:9333.748046875: 100%|██████████| 323/323 [00:45<00:00,  7.11it/s]\n",
            "100%|██████████| 81/81 [00:08<00:00,  9.20it/s]\n",
            "  0%|          | 0/323 [00:00<?, ?it/s]"
          ],
          "name": "stderr"
        },
        {
          "output_type": "stream",
          "text": [
            "*=*=*=*=*=*=*=*=*=*=*=*=*=*=*=*=*=*=*=*=*=*=*=*=*=*=*=*=*=*=*=*=*=*=*=*=*=*=*=*=*=*=*=*=*=*=*=*=*=*=\n",
            "fold 1 EPOCH 2: mean position error with floor 679.7122762409322\n",
            "fold 1 EPOCH 2: mean position error without floor 554.8051331719129\n",
            "*=*=*=*=*=*=*=*=*=*=*=*=*=*=*=*=*=*=*=*=*=*=*=*=*=*=*=*=*=*=*=*=*=*=*=*=*=*=*=*=*=*=*=*=*=*=*=*=*=*=\n"
          ],
          "name": "stdout"
        },
        {
          "output_type": "stream",
          "text": [
            "loss:7639.6240234375: 100%|██████████| 323/323 [00:45<00:00,  7.12it/s]\n",
            "100%|██████████| 81/81 [00:08<00:00,  9.01it/s]\n",
            "  0%|          | 0/323 [00:00<?, ?it/s]"
          ],
          "name": "stderr"
        },
        {
          "output_type": "stream",
          "text": [
            "*=*=*=*=*=*=*=*=*=*=*=*=*=*=*=*=*=*=*=*=*=*=*=*=*=*=*=*=*=*=*=*=*=*=*=*=*=*=*=*=*=*=*=*=*=*=*=*=*=*=\n",
            "fold 1 EPOCH 3: mean position error with floor 623.9235795038592\n",
            "fold 1 EPOCH 3: mean position error without floor 499.01646489104115\n",
            "*=*=*=*=*=*=*=*=*=*=*=*=*=*=*=*=*=*=*=*=*=*=*=*=*=*=*=*=*=*=*=*=*=*=*=*=*=*=*=*=*=*=*=*=*=*=*=*=*=*=\n"
          ],
          "name": "stdout"
        },
        {
          "output_type": "stream",
          "text": [
            "loss:6409.998046875: 100%|██████████| 323/323 [00:45<00:00,  7.09it/s]\n",
            "100%|██████████| 81/81 [00:08<00:00,  9.09it/s]\n",
            "  0%|          | 0/323 [00:00<?, ?it/s]"
          ],
          "name": "stderr"
        },
        {
          "output_type": "stream",
          "text": [
            "*=*=*=*=*=*=*=*=*=*=*=*=*=*=*=*=*=*=*=*=*=*=*=*=*=*=*=*=*=*=*=*=*=*=*=*=*=*=*=*=*=*=*=*=*=*=*=*=*=*=\n",
            "fold 1 EPOCH 4: mean position error with floor 584.8464839045621\n",
            "fold 1 EPOCH 4: mean position error without floor 459.93941888619855\n",
            "*=*=*=*=*=*=*=*=*=*=*=*=*=*=*=*=*=*=*=*=*=*=*=*=*=*=*=*=*=*=*=*=*=*=*=*=*=*=*=*=*=*=*=*=*=*=*=*=*=*=\n"
          ],
          "name": "stdout"
        },
        {
          "output_type": "stream",
          "text": [
            "loss:5556.056640625: 100%|██████████| 323/323 [00:46<00:00,  6.94it/s]\n",
            "100%|██████████| 81/81 [00:08<00:00,  9.16it/s]\n",
            "  0%|          | 0/323 [00:00<?, ?it/s]"
          ],
          "name": "stderr"
        },
        {
          "output_type": "stream",
          "text": [
            "*=*=*=*=*=*=*=*=*=*=*=*=*=*=*=*=*=*=*=*=*=*=*=*=*=*=*=*=*=*=*=*=*=*=*=*=*=*=*=*=*=*=*=*=*=*=*=*=*=*=\n",
            "fold 1 EPOCH 5: mean position error with floor 559.6014363410296\n",
            "fold 1 EPOCH 5: mean position error without floor 434.69433414043584\n",
            "*=*=*=*=*=*=*=*=*=*=*=*=*=*=*=*=*=*=*=*=*=*=*=*=*=*=*=*=*=*=*=*=*=*=*=*=*=*=*=*=*=*=*=*=*=*=*=*=*=*=\n"
          ],
          "name": "stdout"
        },
        {
          "output_type": "stream",
          "text": [
            "loss:4990.55859375: 100%|██████████| 323/323 [00:46<00:00,  6.93it/s]\n",
            "100%|██████████| 81/81 [00:09<00:00,  8.79it/s]\n",
            "  0%|          | 0/323 [00:00<?, ?it/s]"
          ],
          "name": "stderr"
        },
        {
          "output_type": "stream",
          "text": [
            "*=*=*=*=*=*=*=*=*=*=*=*=*=*=*=*=*=*=*=*=*=*=*=*=*=*=*=*=*=*=*=*=*=*=*=*=*=*=*=*=*=*=*=*=*=*=*=*=*=*=\n",
            "fold 1 EPOCH 6: mean position error with floor 544.93711970681\n",
            "fold 1 EPOCH 6: mean position error without floor 420.0300242130751\n",
            "*=*=*=*=*=*=*=*=*=*=*=*=*=*=*=*=*=*=*=*=*=*=*=*=*=*=*=*=*=*=*=*=*=*=*=*=*=*=*=*=*=*=*=*=*=*=*=*=*=*=\n"
          ],
          "name": "stdout"
        },
        {
          "output_type": "stream",
          "text": [
            "loss:4639.3876953125: 100%|██████████| 323/323 [00:47<00:00,  6.83it/s]\n",
            "100%|██████████| 81/81 [00:08<00:00,  9.07it/s]\n",
            "  0%|          | 0/323 [00:00<?, ?it/s]"
          ],
          "name": "stderr"
        },
        {
          "output_type": "stream",
          "text": [
            "*=*=*=*=*=*=*=*=*=*=*=*=*=*=*=*=*=*=*=*=*=*=*=*=*=*=*=*=*=*=*=*=*=*=*=*=*=*=*=*=*=*=*=*=*=*=*=*=*=*=\n",
            "fold 1 EPOCH 7: mean position error with floor 537.547992892069\n",
            "fold 1 EPOCH 7: mean position error without floor 412.6409200968523\n",
            "*=*=*=*=*=*=*=*=*=*=*=*=*=*=*=*=*=*=*=*=*=*=*=*=*=*=*=*=*=*=*=*=*=*=*=*=*=*=*=*=*=*=*=*=*=*=*=*=*=*=\n"
          ],
          "name": "stdout"
        },
        {
          "output_type": "stream",
          "text": [
            "loss:4439.41552734375: 100%|██████████| 323/323 [00:46<00:00,  6.97it/s]\n",
            "100%|██████████| 81/81 [00:08<00:00,  9.14it/s]\n",
            "  0%|          | 0/323 [00:00<?, ?it/s]"
          ],
          "name": "stderr"
        },
        {
          "output_type": "stream",
          "text": [
            "*=*=*=*=*=*=*=*=*=*=*=*=*=*=*=*=*=*=*=*=*=*=*=*=*=*=*=*=*=*=*=*=*=*=*=*=*=*=*=*=*=*=*=*=*=*=*=*=*=*=\n",
            "fold 1 EPOCH 8: mean position error with floor 534.6446086485059\n",
            "fold 1 EPOCH 8: mean position error without floor 409.7374818401937\n",
            "*=*=*=*=*=*=*=*=*=*=*=*=*=*=*=*=*=*=*=*=*=*=*=*=*=*=*=*=*=*=*=*=*=*=*=*=*=*=*=*=*=*=*=*=*=*=*=*=*=*=\n"
          ],
          "name": "stdout"
        },
        {
          "output_type": "stream",
          "text": [
            "loss:4335.322265625: 100%|██████████| 323/323 [00:46<00:00,  6.88it/s]\n",
            "100%|██████████| 81/81 [00:08<00:00,  9.06it/s]\n",
            "  0%|          | 0/323 [00:00<?, ?it/s]"
          ],
          "name": "stderr"
        },
        {
          "output_type": "stream",
          "text": [
            "*=*=*=*=*=*=*=*=*=*=*=*=*=*=*=*=*=*=*=*=*=*=*=*=*=*=*=*=*=*=*=*=*=*=*=*=*=*=*=*=*=*=*=*=*=*=*=*=*=*=\n",
            "fold 1 EPOCH 9: mean position error with floor 534.0834689777757\n",
            "fold 1 EPOCH 9: mean position error without floor 409.1763680387409\n",
            "*=*=*=*=*=*=*=*=*=*=*=*=*=*=*=*=*=*=*=*=*=*=*=*=*=*=*=*=*=*=*=*=*=*=*=*=*=*=*=*=*=*=*=*=*=*=*=*=*=*=\n"
          ],
          "name": "stdout"
        },
        {
          "output_type": "stream",
          "text": [
            "loss:4287.8984375: 100%|██████████| 323/323 [00:46<00:00,  7.01it/s]\n",
            "100%|██████████| 81/81 [00:08<00:00,  9.23it/s]\n",
            "  0%|          | 0/323 [00:00<?, ?it/s]"
          ],
          "name": "stderr"
        },
        {
          "output_type": "stream",
          "text": [
            "*=*=*=*=*=*=*=*=*=*=*=*=*=*=*=*=*=*=*=*=*=*=*=*=*=*=*=*=*=*=*=*=*=*=*=*=*=*=*=*=*=*=*=*=*=*=*=*=*=*=\n",
            "fold 1 EPOCH 10: mean position error with floor 534.5090893201722\n",
            "fold 1 EPOCH 10: mean position error without floor 409.601985472155\n",
            "*=*=*=*=*=*=*=*=*=*=*=*=*=*=*=*=*=*=*=*=*=*=*=*=*=*=*=*=*=*=*=*=*=*=*=*=*=*=*=*=*=*=*=*=*=*=*=*=*=*=\n"
          ],
          "name": "stdout"
        },
        {
          "output_type": "stream",
          "text": [
            "loss:4270.18701171875: 100%|██████████| 323/323 [00:45<00:00,  7.06it/s]\n",
            "100%|██████████| 81/81 [00:08<00:00,  9.31it/s]\n",
            "  0%|          | 0/323 [00:00<?, ?it/s]"
          ],
          "name": "stderr"
        },
        {
          "output_type": "stream",
          "text": [
            "*=*=*=*=*=*=*=*=*=*=*=*=*=*=*=*=*=*=*=*=*=*=*=*=*=*=*=*=*=*=*=*=*=*=*=*=*=*=*=*=*=*=*=*=*=*=*=*=*=*=\n",
            "fold 1 EPOCH 11: mean position error with floor 535.0975551647626\n",
            "fold 1 EPOCH 11: mean position error without floor 410.19041162227603\n",
            "*=*=*=*=*=*=*=*=*=*=*=*=*=*=*=*=*=*=*=*=*=*=*=*=*=*=*=*=*=*=*=*=*=*=*=*=*=*=*=*=*=*=*=*=*=*=*=*=*=*=\n"
          ],
          "name": "stdout"
        },
        {
          "output_type": "stream",
          "text": [
            "loss:4262.82177734375: 100%|██████████| 323/323 [00:45<00:00,  7.08it/s]\n",
            "100%|██████████| 81/81 [00:08<00:00,  9.20it/s]\n",
            "  0%|          | 0/323 [00:00<?, ?it/s]"
          ],
          "name": "stderr"
        },
        {
          "output_type": "stream",
          "text": [
            "*=*=*=*=*=*=*=*=*=*=*=*=*=*=*=*=*=*=*=*=*=*=*=*=*=*=*=*=*=*=*=*=*=*=*=*=*=*=*=*=*=*=*=*=*=*=*=*=*=*=\n",
            "fold 1 EPOCH 12: mean position error with floor 535.5872180749501\n",
            "fold 1 EPOCH 12: mean position error without floor 410.68009685230027\n",
            "*=*=*=*=*=*=*=*=*=*=*=*=*=*=*=*=*=*=*=*=*=*=*=*=*=*=*=*=*=*=*=*=*=*=*=*=*=*=*=*=*=*=*=*=*=*=*=*=*=*=\n"
          ],
          "name": "stdout"
        },
        {
          "output_type": "stream",
          "text": [
            "loss:4260.6171875: 100%|██████████| 323/323 [00:45<00:00,  7.05it/s]\n",
            "100%|██████████| 81/81 [00:08<00:00,  9.46it/s]\n",
            "  0%|          | 0/323 [00:00<?, ?it/s]"
          ],
          "name": "stderr"
        },
        {
          "output_type": "stream",
          "text": [
            "*=*=*=*=*=*=*=*=*=*=*=*=*=*=*=*=*=*=*=*=*=*=*=*=*=*=*=*=*=*=*=*=*=*=*=*=*=*=*=*=*=*=*=*=*=*=*=*=*=*=\n",
            "fold 1 EPOCH 13: mean position error with floor 535.8697388520483\n",
            "fold 1 EPOCH 13: mean position error without floor 410.96266343825664\n",
            "*=*=*=*=*=*=*=*=*=*=*=*=*=*=*=*=*=*=*=*=*=*=*=*=*=*=*=*=*=*=*=*=*=*=*=*=*=*=*=*=*=*=*=*=*=*=*=*=*=*=\n"
          ],
          "name": "stdout"
        },
        {
          "output_type": "stream",
          "text": [
            "loss:4260.8984375: 100%|██████████| 323/323 [00:45<00:00,  7.07it/s]\n",
            "100%|██████████| 81/81 [00:08<00:00,  9.43it/s]\n",
            "  0%|          | 0/323 [00:00<?, ?it/s]"
          ],
          "name": "stderr"
        },
        {
          "output_type": "stream",
          "text": [
            "*=*=*=*=*=*=*=*=*=*=*=*=*=*=*=*=*=*=*=*=*=*=*=*=*=*=*=*=*=*=*=*=*=*=*=*=*=*=*=*=*=*=*=*=*=*=*=*=*=*=\n",
            "fold 1 EPOCH 14: mean position error with floor 535.9967957141613\n",
            "fold 1 EPOCH 14: mean position error without floor 411.0896852300242\n",
            "*=*=*=*=*=*=*=*=*=*=*=*=*=*=*=*=*=*=*=*=*=*=*=*=*=*=*=*=*=*=*=*=*=*=*=*=*=*=*=*=*=*=*=*=*=*=*=*=*=*=\n"
          ],
          "name": "stdout"
        },
        {
          "output_type": "stream",
          "text": [
            "loss:4260.37744140625: 100%|██████████| 323/323 [00:46<00:00,  7.00it/s]\n",
            "100%|██████████| 81/81 [00:08<00:00,  9.33it/s]\n",
            "  0%|          | 0/323 [00:00<?, ?it/s]"
          ],
          "name": "stderr"
        },
        {
          "output_type": "stream",
          "text": [
            "*=*=*=*=*=*=*=*=*=*=*=*=*=*=*=*=*=*=*=*=*=*=*=*=*=*=*=*=*=*=*=*=*=*=*=*=*=*=*=*=*=*=*=*=*=*=*=*=*=*=\n",
            "fold 1 EPOCH 15: mean position error with floor 536.0642918659296\n",
            "fold 1 EPOCH 15: mean position error without floor 411.1572397094431\n",
            "*=*=*=*=*=*=*=*=*=*=*=*=*=*=*=*=*=*=*=*=*=*=*=*=*=*=*=*=*=*=*=*=*=*=*=*=*=*=*=*=*=*=*=*=*=*=*=*=*=*=\n"
          ],
          "name": "stdout"
        },
        {
          "output_type": "stream",
          "text": [
            "loss:4260.10107421875: 100%|██████████| 323/323 [00:45<00:00,  7.04it/s]\n",
            "100%|██████████| 81/81 [00:08<00:00,  9.45it/s]\n",
            "  0%|          | 0/323 [00:00<?, ?it/s]"
          ],
          "name": "stderr"
        },
        {
          "output_type": "stream",
          "text": [
            "*=*=*=*=*=*=*=*=*=*=*=*=*=*=*=*=*=*=*=*=*=*=*=*=*=*=*=*=*=*=*=*=*=*=*=*=*=*=*=*=*=*=*=*=*=*=*=*=*=*=\n",
            "fold 1 EPOCH 16: mean position error with floor 536.0443244531599\n",
            "fold 1 EPOCH 16: mean position error without floor 411.1372397094431\n",
            "*=*=*=*=*=*=*=*=*=*=*=*=*=*=*=*=*=*=*=*=*=*=*=*=*=*=*=*=*=*=*=*=*=*=*=*=*=*=*=*=*=*=*=*=*=*=*=*=*=*=\n"
          ],
          "name": "stdout"
        },
        {
          "output_type": "stream",
          "text": [
            "loss:4259.68505859375: 100%|██████████| 323/323 [00:47<00:00,  6.85it/s]\n",
            "100%|██████████| 81/81 [00:09<00:00,  8.82it/s]\n",
            "  0%|          | 0/323 [00:00<?, ?it/s]"
          ],
          "name": "stderr"
        },
        {
          "output_type": "stream",
          "text": [
            "*=*=*=*=*=*=*=*=*=*=*=*=*=*=*=*=*=*=*=*=*=*=*=*=*=*=*=*=*=*=*=*=*=*=*=*=*=*=*=*=*=*=*=*=*=*=*=*=*=*=\n",
            "fold 1 EPOCH 17: mean position error with floor 536.0509187753495\n",
            "fold 1 EPOCH 17: mean position error without floor 411.14382566585954\n",
            "*=*=*=*=*=*=*=*=*=*=*=*=*=*=*=*=*=*=*=*=*=*=*=*=*=*=*=*=*=*=*=*=*=*=*=*=*=*=*=*=*=*=*=*=*=*=*=*=*=*=\n"
          ],
          "name": "stdout"
        },
        {
          "output_type": "stream",
          "text": [
            "loss:4259.63232421875: 100%|██████████| 323/323 [00:47<00:00,  6.83it/s]\n",
            "100%|██████████| 81/81 [00:08<00:00,  9.09it/s]\n",
            "  0%|          | 0/323 [00:00<?, ?it/s]"
          ],
          "name": "stderr"
        },
        {
          "output_type": "stream",
          "text": [
            "*=*=*=*=*=*=*=*=*=*=*=*=*=*=*=*=*=*=*=*=*=*=*=*=*=*=*=*=*=*=*=*=*=*=*=*=*=*=*=*=*=*=*=*=*=*=*=*=*=*=\n",
            "fold 1 EPOCH 18: mean position error with floor 535.9945963118656\n",
            "fold 1 EPOCH 18: mean position error without floor 411.0875060532688\n",
            "*=*=*=*=*=*=*=*=*=*=*=*=*=*=*=*=*=*=*=*=*=*=*=*=*=*=*=*=*=*=*=*=*=*=*=*=*=*=*=*=*=*=*=*=*=*=*=*=*=*=\n"
          ],
          "name": "stdout"
        },
        {
          "output_type": "stream",
          "text": [
            "loss:4259.48583984375: 100%|██████████| 323/323 [00:46<00:00,  6.98it/s]\n",
            "100%|██████████| 81/81 [00:08<00:00,  9.04it/s]\n",
            "  0%|          | 0/323 [00:00<?, ?it/s]"
          ],
          "name": "stderr"
        },
        {
          "output_type": "stream",
          "text": [
            "*=*=*=*=*=*=*=*=*=*=*=*=*=*=*=*=*=*=*=*=*=*=*=*=*=*=*=*=*=*=*=*=*=*=*=*=*=*=*=*=*=*=*=*=*=*=*=*=*=*=\n",
            "fold 1 EPOCH 19: mean position error with floor 535.9083329500269\n",
            "fold 1 EPOCH 19: mean position error without floor 411.00125907990315\n",
            "*=*=*=*=*=*=*=*=*=*=*=*=*=*=*=*=*=*=*=*=*=*=*=*=*=*=*=*=*=*=*=*=*=*=*=*=*=*=*=*=*=*=*=*=*=*=*=*=*=*=\n"
          ],
          "name": "stdout"
        },
        {
          "output_type": "stream",
          "text": [
            "loss:4258.6279296875: 100%|██████████| 323/323 [00:45<00:00,  7.06it/s]\n",
            "100%|██████████| 81/81 [00:08<00:00,  9.17it/s]\n",
            "  0%|          | 0/323 [00:00<?, ?it/s]"
          ],
          "name": "stderr"
        },
        {
          "output_type": "stream",
          "text": [
            "*=*=*=*=*=*=*=*=*=*=*=*=*=*=*=*=*=*=*=*=*=*=*=*=*=*=*=*=*=*=*=*=*=*=*=*=*=*=*=*=*=*=*=*=*=*=*=*=*=*=\n",
            "fold 1 EPOCH 20: mean position error with floor 536.0413309920801\n",
            "fold 1 EPOCH 20: mean position error without floor 411.1342372881356\n",
            "*=*=*=*=*=*=*=*=*=*=*=*=*=*=*=*=*=*=*=*=*=*=*=*=*=*=*=*=*=*=*=*=*=*=*=*=*=*=*=*=*=*=*=*=*=*=*=*=*=*=\n"
          ],
          "name": "stdout"
        },
        {
          "output_type": "stream",
          "text": [
            "loss:4258.943359375: 100%|██████████| 323/323 [00:45<00:00,  7.04it/s]\n",
            "100%|██████████| 81/81 [00:08<00:00,  9.38it/s]\n",
            "  0%|          | 0/323 [00:00<?, ?it/s]"
          ],
          "name": "stderr"
        },
        {
          "output_type": "stream",
          "text": [
            "*=*=*=*=*=*=*=*=*=*=*=*=*=*=*=*=*=*=*=*=*=*=*=*=*=*=*=*=*=*=*=*=*=*=*=*=*=*=*=*=*=*=*=*=*=*=*=*=*=*=\n",
            "fold 1 EPOCH 21: mean position error with floor 536.0085546226998\n",
            "fold 1 EPOCH 21: mean position error without floor 411.10145278450364\n",
            "*=*=*=*=*=*=*=*=*=*=*=*=*=*=*=*=*=*=*=*=*=*=*=*=*=*=*=*=*=*=*=*=*=*=*=*=*=*=*=*=*=*=*=*=*=*=*=*=*=*=\n"
          ],
          "name": "stdout"
        },
        {
          "output_type": "stream",
          "text": [
            "loss:3835.4072265625: 100%|██████████| 323/323 [00:45<00:00,  7.03it/s]\n",
            "100%|██████████| 81/81 [00:08<00:00,  9.35it/s]\n",
            "  0%|          | 0/323 [00:00<?, ?it/s]"
          ],
          "name": "stderr"
        },
        {
          "output_type": "stream",
          "text": [
            "*=*=*=*=*=*=*=*=*=*=*=*=*=*=*=*=*=*=*=*=*=*=*=*=*=*=*=*=*=*=*=*=*=*=*=*=*=*=*=*=*=*=*=*=*=*=*=*=*=*=\n",
            "fold 1 EPOCH 22: mean position error with floor 418.78357946628086\n",
            "fold 1 EPOCH 22: mean position error without floor 293.444794188862\n",
            "*=*=*=*=*=*=*=*=*=*=*=*=*=*=*=*=*=*=*=*=*=*=*=*=*=*=*=*=*=*=*=*=*=*=*=*=*=*=*=*=*=*=*=*=*=*=*=*=*=*=\n"
          ],
          "name": "stdout"
        },
        {
          "output_type": "stream",
          "text": [
            "loss:2293.71337890625: 100%|██████████| 323/323 [00:45<00:00,  7.08it/s]\n",
            "100%|██████████| 81/81 [00:08<00:00,  9.18it/s]\n",
            "  0%|          | 0/323 [00:00<?, ?it/s]"
          ],
          "name": "stderr"
        },
        {
          "output_type": "stream",
          "text": [
            "*=*=*=*=*=*=*=*=*=*=*=*=*=*=*=*=*=*=*=*=*=*=*=*=*=*=*=*=*=*=*=*=*=*=*=*=*=*=*=*=*=*=*=*=*=*=*=*=*=*=\n",
            "fold 1 EPOCH 23: mean position error with floor 379.8448275832049\n",
            "fold 1 EPOCH 23: mean position error without floor 254.34941888619855\n",
            "*=*=*=*=*=*=*=*=*=*=*=*=*=*=*=*=*=*=*=*=*=*=*=*=*=*=*=*=*=*=*=*=*=*=*=*=*=*=*=*=*=*=*=*=*=*=*=*=*=*=\n"
          ],
          "name": "stdout"
        },
        {
          "output_type": "stream",
          "text": [
            "loss:1793.3941650390625: 100%|██████████| 323/323 [00:45<00:00,  7.04it/s]\n",
            "100%|██████████| 81/81 [00:09<00:00,  8.98it/s]\n",
            "  0%|          | 0/323 [00:00<?, ?it/s]"
          ],
          "name": "stderr"
        },
        {
          "output_type": "stream",
          "text": [
            "*=*=*=*=*=*=*=*=*=*=*=*=*=*=*=*=*=*=*=*=*=*=*=*=*=*=*=*=*=*=*=*=*=*=*=*=*=*=*=*=*=*=*=*=*=*=*=*=*=*=\n",
            "fold 1 EPOCH 24: mean position error with floor 332.40927132897457\n",
            "fold 1 EPOCH 24: mean position error without floor 206.98365617433413\n",
            "*=*=*=*=*=*=*=*=*=*=*=*=*=*=*=*=*=*=*=*=*=*=*=*=*=*=*=*=*=*=*=*=*=*=*=*=*=*=*=*=*=*=*=*=*=*=*=*=*=*=\n"
          ],
          "name": "stdout"
        },
        {
          "output_type": "stream",
          "text": [
            "loss:1355.64208984375: 100%|██████████| 323/323 [00:46<00:00,  6.90it/s]\n",
            "100%|██████████| 81/81 [00:08<00:00,  9.30it/s]\n",
            "  0%|          | 0/323 [00:00<?, ?it/s]"
          ],
          "name": "stderr"
        },
        {
          "output_type": "stream",
          "text": [
            "*=*=*=*=*=*=*=*=*=*=*=*=*=*=*=*=*=*=*=*=*=*=*=*=*=*=*=*=*=*=*=*=*=*=*=*=*=*=*=*=*=*=*=*=*=*=*=*=*=*=\n",
            "fold 1 EPOCH 25: mean position error with floor 298.7911603471835\n",
            "fold 1 EPOCH 25: mean position error without floor 174.33433414043583\n",
            "*=*=*=*=*=*=*=*=*=*=*=*=*=*=*=*=*=*=*=*=*=*=*=*=*=*=*=*=*=*=*=*=*=*=*=*=*=*=*=*=*=*=*=*=*=*=*=*=*=*=\n"
          ],
          "name": "stdout"
        },
        {
          "output_type": "stream",
          "text": [
            "loss:1042.6727294921875: 100%|██████████| 323/323 [00:47<00:00,  6.87it/s]\n",
            "100%|██████████| 81/81 [00:09<00:00,  8.92it/s]\n",
            "  0%|          | 0/323 [00:00<?, ?it/s]"
          ],
          "name": "stderr"
        },
        {
          "output_type": "stream",
          "text": [
            "*=*=*=*=*=*=*=*=*=*=*=*=*=*=*=*=*=*=*=*=*=*=*=*=*=*=*=*=*=*=*=*=*=*=*=*=*=*=*=*=*=*=*=*=*=*=*=*=*=*=\n",
            "fold 1 EPOCH 26: mean position error with floor 271.3843793496969\n",
            "fold 1 EPOCH 26: mean position error without floor 146.76733656174335\n",
            "*=*=*=*=*=*=*=*=*=*=*=*=*=*=*=*=*=*=*=*=*=*=*=*=*=*=*=*=*=*=*=*=*=*=*=*=*=*=*=*=*=*=*=*=*=*=*=*=*=*=\n"
          ],
          "name": "stdout"
        },
        {
          "output_type": "stream",
          "text": [
            "loss:819.86181640625: 100%|██████████| 323/323 [00:46<00:00,  6.89it/s]\n",
            "100%|██████████| 81/81 [00:08<00:00,  9.01it/s]\n",
            "  0%|          | 0/323 [00:00<?, ?it/s]"
          ],
          "name": "stderr"
        },
        {
          "output_type": "stream",
          "text": [
            "*=*=*=*=*=*=*=*=*=*=*=*=*=*=*=*=*=*=*=*=*=*=*=*=*=*=*=*=*=*=*=*=*=*=*=*=*=*=*=*=*=*=*=*=*=*=*=*=*=*=\n",
            "fold 1 EPOCH 27: mean position error with floor 250.8930179432565\n",
            "fold 1 EPOCH 27: mean position error without floor 125.93674334140435\n",
            "*=*=*=*=*=*=*=*=*=*=*=*=*=*=*=*=*=*=*=*=*=*=*=*=*=*=*=*=*=*=*=*=*=*=*=*=*=*=*=*=*=*=*=*=*=*=*=*=*=*=\n"
          ],
          "name": "stdout"
        },
        {
          "output_type": "stream",
          "text": [
            "loss:656.1041259765625: 100%|██████████| 323/323 [00:46<00:00,  6.93it/s]\n",
            "100%|██████████| 81/81 [00:08<00:00,  9.13it/s]\n",
            "  0%|          | 0/323 [00:00<?, ?it/s]"
          ],
          "name": "stderr"
        },
        {
          "output_type": "stream",
          "text": [
            "*=*=*=*=*=*=*=*=*=*=*=*=*=*=*=*=*=*=*=*=*=*=*=*=*=*=*=*=*=*=*=*=*=*=*=*=*=*=*=*=*=*=*=*=*=*=*=*=*=*=\n",
            "fold 1 EPOCH 28: mean position error with floor 235.36608232478522\n",
            "fold 1 EPOCH 28: mean position error without floor 110.39830508474576\n",
            "*=*=*=*=*=*=*=*=*=*=*=*=*=*=*=*=*=*=*=*=*=*=*=*=*=*=*=*=*=*=*=*=*=*=*=*=*=*=*=*=*=*=*=*=*=*=*=*=*=*=\n"
          ],
          "name": "stdout"
        },
        {
          "output_type": "stream",
          "text": [
            "loss:532.8892211914062: 100%|██████████| 323/323 [00:46<00:00,  6.90it/s]\n",
            "100%|██████████| 81/81 [00:09<00:00,  8.96it/s]\n",
            "  0%|          | 0/323 [00:00<?, ?it/s]"
          ],
          "name": "stderr"
        },
        {
          "output_type": "stream",
          "text": [
            "*=*=*=*=*=*=*=*=*=*=*=*=*=*=*=*=*=*=*=*=*=*=*=*=*=*=*=*=*=*=*=*=*=*=*=*=*=*=*=*=*=*=*=*=*=*=*=*=*=*=\n",
            "fold 1 EPOCH 29: mean position error with floor 222.86553474751264\n",
            "fold 1 EPOCH 29: mean position error without floor 97.75986682808717\n",
            "*=*=*=*=*=*=*=*=*=*=*=*=*=*=*=*=*=*=*=*=*=*=*=*=*=*=*=*=*=*=*=*=*=*=*=*=*=*=*=*=*=*=*=*=*=*=*=*=*=*=\n"
          ],
          "name": "stdout"
        },
        {
          "output_type": "stream",
          "text": [
            "loss:439.0174255371094: 100%|██████████| 323/323 [00:46<00:00,  6.91it/s]\n",
            "100%|██████████| 81/81 [00:09<00:00,  8.92it/s]\n",
            "  0%|          | 0/323 [00:00<?, ?it/s]"
          ],
          "name": "stderr"
        },
        {
          "output_type": "stream",
          "text": [
            "*=*=*=*=*=*=*=*=*=*=*=*=*=*=*=*=*=*=*=*=*=*=*=*=*=*=*=*=*=*=*=*=*=*=*=*=*=*=*=*=*=*=*=*=*=*=*=*=*=*=\n",
            "fold 1 EPOCH 30: mean position error with floor 213.06238870205226\n",
            "fold 1 EPOCH 30: mean position error without floor 87.88451573849879\n",
            "*=*=*=*=*=*=*=*=*=*=*=*=*=*=*=*=*=*=*=*=*=*=*=*=*=*=*=*=*=*=*=*=*=*=*=*=*=*=*=*=*=*=*=*=*=*=*=*=*=*=\n"
          ],
          "name": "stdout"
        },
        {
          "output_type": "stream",
          "text": [
            "loss:365.1247863769531: 100%|██████████| 323/323 [00:47<00:00,  6.84it/s]\n",
            "100%|██████████| 81/81 [00:09<00:00,  8.83it/s]\n",
            "  0%|          | 0/323 [00:00<?, ?it/s]"
          ],
          "name": "stderr"
        },
        {
          "output_type": "stream",
          "text": [
            "*=*=*=*=*=*=*=*=*=*=*=*=*=*=*=*=*=*=*=*=*=*=*=*=*=*=*=*=*=*=*=*=*=*=*=*=*=*=*=*=*=*=*=*=*=*=*=*=*=*=\n",
            "fold 1 EPOCH 31: mean position error with floor 204.85387003592083\n",
            "fold 1 EPOCH 31: mean position error without floor 79.66536319612591\n",
            "*=*=*=*=*=*=*=*=*=*=*=*=*=*=*=*=*=*=*=*=*=*=*=*=*=*=*=*=*=*=*=*=*=*=*=*=*=*=*=*=*=*=*=*=*=*=*=*=*=*=\n"
          ],
          "name": "stdout"
        },
        {
          "output_type": "stream",
          "text": [
            "loss:306.5033264160156: 100%|██████████| 323/323 [00:47<00:00,  6.87it/s]\n",
            "100%|██████████| 81/81 [00:08<00:00,  9.21it/s]\n",
            "  0%|          | 0/323 [00:00<?, ?it/s]"
          ],
          "name": "stderr"
        },
        {
          "output_type": "stream",
          "text": [
            "*=*=*=*=*=*=*=*=*=*=*=*=*=*=*=*=*=*=*=*=*=*=*=*=*=*=*=*=*=*=*=*=*=*=*=*=*=*=*=*=*=*=*=*=*=*=*=*=*=*=\n",
            "fold 1 EPOCH 32: mean position error with floor 198.53101611780647\n",
            "fold 1 EPOCH 32: mean position error without floor 73.31243341404358\n",
            "*=*=*=*=*=*=*=*=*=*=*=*=*=*=*=*=*=*=*=*=*=*=*=*=*=*=*=*=*=*=*=*=*=*=*=*=*=*=*=*=*=*=*=*=*=*=*=*=*=*=\n"
          ],
          "name": "stdout"
        },
        {
          "output_type": "stream",
          "text": [
            "loss:260.29718017578125: 100%|██████████| 323/323 [00:47<00:00,  6.80it/s]\n",
            "100%|██████████| 81/81 [00:09<00:00,  8.74it/s]\n",
            "  0%|          | 0/323 [00:00<?, ?it/s]"
          ],
          "name": "stderr"
        },
        {
          "output_type": "stream",
          "text": [
            "*=*=*=*=*=*=*=*=*=*=*=*=*=*=*=*=*=*=*=*=*=*=*=*=*=*=*=*=*=*=*=*=*=*=*=*=*=*=*=*=*=*=*=*=*=*=*=*=*=*=\n",
            "fold 1 EPOCH 33: mean position error with floor 193.20213213005778\n",
            "fold 1 EPOCH 33: mean position error without floor 67.93513317191284\n",
            "*=*=*=*=*=*=*=*=*=*=*=*=*=*=*=*=*=*=*=*=*=*=*=*=*=*=*=*=*=*=*=*=*=*=*=*=*=*=*=*=*=*=*=*=*=*=*=*=*=*=\n"
          ],
          "name": "stdout"
        },
        {
          "output_type": "stream",
          "text": [
            "loss:222.06849670410156: 100%|██████████| 323/323 [00:47<00:00,  6.83it/s]\n",
            "100%|██████████| 81/81 [00:09<00:00,  8.77it/s]\n",
            "  0%|          | 0/323 [00:00<?, ?it/s]"
          ],
          "name": "stderr"
        },
        {
          "output_type": "stream",
          "text": [
            "*=*=*=*=*=*=*=*=*=*=*=*=*=*=*=*=*=*=*=*=*=*=*=*=*=*=*=*=*=*=*=*=*=*=*=*=*=*=*=*=*=*=*=*=*=*=*=*=*=*=\n",
            "fold 1 EPOCH 34: mean position error with floor 189.29973187110795\n",
            "fold 1 EPOCH 34: mean position error without floor 64.01252421307505\n",
            "*=*=*=*=*=*=*=*=*=*=*=*=*=*=*=*=*=*=*=*=*=*=*=*=*=*=*=*=*=*=*=*=*=*=*=*=*=*=*=*=*=*=*=*=*=*=*=*=*=*=\n"
          ],
          "name": "stdout"
        },
        {
          "output_type": "stream",
          "text": [
            "loss:191.60963439941406: 100%|██████████| 323/323 [00:47<00:00,  6.84it/s]\n",
            "100%|██████████| 81/81 [00:08<00:00,  9.06it/s]\n",
            "  0%|          | 0/323 [00:00<?, ?it/s]"
          ],
          "name": "stderr"
        },
        {
          "output_type": "stream",
          "text": [
            "*=*=*=*=*=*=*=*=*=*=*=*=*=*=*=*=*=*=*=*=*=*=*=*=*=*=*=*=*=*=*=*=*=*=*=*=*=*=*=*=*=*=*=*=*=*=*=*=*=*=\n",
            "fold 1 EPOCH 35: mean position error with floor 185.611202660722\n",
            "fold 1 EPOCH 35: mean position error without floor 60.25567191283293\n",
            "*=*=*=*=*=*=*=*=*=*=*=*=*=*=*=*=*=*=*=*=*=*=*=*=*=*=*=*=*=*=*=*=*=*=*=*=*=*=*=*=*=*=*=*=*=*=*=*=*=*=\n"
          ],
          "name": "stdout"
        },
        {
          "output_type": "stream",
          "text": [
            "loss:166.14498901367188: 100%|██████████| 323/323 [00:46<00:00,  6.93it/s]\n",
            "100%|██████████| 81/81 [00:08<00:00,  9.09it/s]\n",
            "  0%|          | 0/323 [00:00<?, ?it/s]"
          ],
          "name": "stderr"
        },
        {
          "output_type": "stream",
          "text": [
            "*=*=*=*=*=*=*=*=*=*=*=*=*=*=*=*=*=*=*=*=*=*=*=*=*=*=*=*=*=*=*=*=*=*=*=*=*=*=*=*=*=*=*=*=*=*=*=*=*=*=\n",
            "fold 1 EPOCH 36: mean position error with floor 182.7753010018877\n",
            "fold 1 EPOCH 36: mean position error without floor 57.42684624697337\n",
            "*=*=*=*=*=*=*=*=*=*=*=*=*=*=*=*=*=*=*=*=*=*=*=*=*=*=*=*=*=*=*=*=*=*=*=*=*=*=*=*=*=*=*=*=*=*=*=*=*=*=\n"
          ],
          "name": "stdout"
        },
        {
          "output_type": "stream",
          "text": [
            "loss:145.19056701660156: 100%|██████████| 323/323 [00:46<00:00,  6.91it/s]\n",
            "100%|██████████| 81/81 [00:08<00:00,  9.14it/s]\n",
            "  0%|          | 0/323 [00:00<?, ?it/s]"
          ],
          "name": "stderr"
        },
        {
          "output_type": "stream",
          "text": [
            "*=*=*=*=*=*=*=*=*=*=*=*=*=*=*=*=*=*=*=*=*=*=*=*=*=*=*=*=*=*=*=*=*=*=*=*=*=*=*=*=*=*=*=*=*=*=*=*=*=*=\n",
            "fold 1 EPOCH 37: mean position error with floor 180.36394746850084\n",
            "fold 1 EPOCH 37: mean position error without floor 55.00021186440678\n",
            "*=*=*=*=*=*=*=*=*=*=*=*=*=*=*=*=*=*=*=*=*=*=*=*=*=*=*=*=*=*=*=*=*=*=*=*=*=*=*=*=*=*=*=*=*=*=*=*=*=*=\n"
          ],
          "name": "stdout"
        },
        {
          "output_type": "stream",
          "text": [
            "loss:127.09699249267578: 100%|██████████| 323/323 [00:45<00:00,  7.05it/s]\n",
            "100%|██████████| 81/81 [00:08<00:00,  9.34it/s]\n",
            "  0%|          | 0/323 [00:00<?, ?it/s]"
          ],
          "name": "stderr"
        },
        {
          "output_type": "stream",
          "text": [
            "*=*=*=*=*=*=*=*=*=*=*=*=*=*=*=*=*=*=*=*=*=*=*=*=*=*=*=*=*=*=*=*=*=*=*=*=*=*=*=*=*=*=*=*=*=*=*=*=*=*=\n",
            "fold 1 EPOCH 38: mean position error with floor 178.76475826012435\n",
            "fold 1 EPOCH 38: mean position error without floor 53.36711259079903\n",
            "*=*=*=*=*=*=*=*=*=*=*=*=*=*=*=*=*=*=*=*=*=*=*=*=*=*=*=*=*=*=*=*=*=*=*=*=*=*=*=*=*=*=*=*=*=*=*=*=*=*=\n"
          ],
          "name": "stdout"
        },
        {
          "output_type": "stream",
          "text": [
            "loss:111.64326477050781: 100%|██████████| 323/323 [00:46<00:00,  6.99it/s]\n",
            "100%|██████████| 81/81 [00:08<00:00,  9.24it/s]\n",
            "  0%|          | 0/323 [00:00<?, ?it/s]"
          ],
          "name": "stderr"
        },
        {
          "output_type": "stream",
          "text": [
            "*=*=*=*=*=*=*=*=*=*=*=*=*=*=*=*=*=*=*=*=*=*=*=*=*=*=*=*=*=*=*=*=*=*=*=*=*=*=*=*=*=*=*=*=*=*=*=*=*=*=\n",
            "fold 1 EPOCH 39: mean position error with floor 176.82713162023907\n",
            "fold 1 EPOCH 39: mean position error without floor 51.44574455205811\n",
            "*=*=*=*=*=*=*=*=*=*=*=*=*=*=*=*=*=*=*=*=*=*=*=*=*=*=*=*=*=*=*=*=*=*=*=*=*=*=*=*=*=*=*=*=*=*=*=*=*=*=\n"
          ],
          "name": "stdout"
        },
        {
          "output_type": "stream",
          "text": [
            "loss:98.7052993774414: 100%|██████████| 323/323 [00:46<00:00,  6.96it/s]\n",
            "100%|██████████| 81/81 [00:08<00:00,  9.21it/s]\n",
            "  0%|          | 0/323 [00:00<?, ?it/s]"
          ],
          "name": "stderr"
        },
        {
          "output_type": "stream",
          "text": [
            "*=*=*=*=*=*=*=*=*=*=*=*=*=*=*=*=*=*=*=*=*=*=*=*=*=*=*=*=*=*=*=*=*=*=*=*=*=*=*=*=*=*=*=*=*=*=*=*=*=*=\n",
            "fold 1 EPOCH 40: mean position error with floor 175.5940095078754\n",
            "fold 1 EPOCH 40: mean position error without floor 50.22300847457627\n",
            "*=*=*=*=*=*=*=*=*=*=*=*=*=*=*=*=*=*=*=*=*=*=*=*=*=*=*=*=*=*=*=*=*=*=*=*=*=*=*=*=*=*=*=*=*=*=*=*=*=*=\n"
          ],
          "name": "stdout"
        },
        {
          "output_type": "stream",
          "text": [
            "loss:87.04875183105469: 100%|██████████| 323/323 [00:46<00:00,  6.95it/s]\n",
            "100%|██████████| 81/81 [00:08<00:00,  9.30it/s]\n",
            "  0%|          | 0/323 [00:00<?, ?it/s]"
          ],
          "name": "stderr"
        },
        {
          "output_type": "stream",
          "text": [
            "*=*=*=*=*=*=*=*=*=*=*=*=*=*=*=*=*=*=*=*=*=*=*=*=*=*=*=*=*=*=*=*=*=*=*=*=*=*=*=*=*=*=*=*=*=*=*=*=*=*=\n",
            "fold 1 EPOCH 41: mean position error with floor 174.34743584012094\n",
            "fold 1 EPOCH 41: mean position error without floor 48.92712469733656\n",
            "*=*=*=*=*=*=*=*=*=*=*=*=*=*=*=*=*=*=*=*=*=*=*=*=*=*=*=*=*=*=*=*=*=*=*=*=*=*=*=*=*=*=*=*=*=*=*=*=*=*=\n"
          ],
          "name": "stdout"
        },
        {
          "output_type": "stream",
          "text": [
            "loss:77.89512634277344: 100%|██████████| 323/323 [00:46<00:00,  6.94it/s]\n",
            "100%|██████████| 81/81 [00:08<00:00,  9.11it/s]\n",
            "  0%|          | 0/323 [00:00<?, ?it/s]"
          ],
          "name": "stderr"
        },
        {
          "output_type": "stream",
          "text": [
            "*=*=*=*=*=*=*=*=*=*=*=*=*=*=*=*=*=*=*=*=*=*=*=*=*=*=*=*=*=*=*=*=*=*=*=*=*=*=*=*=*=*=*=*=*=*=*=*=*=*=\n",
            "fold 1 EPOCH 42: mean position error with floor 172.936938610862\n",
            "fold 1 EPOCH 42: mean position error without floor 47.51001210653753\n",
            "*=*=*=*=*=*=*=*=*=*=*=*=*=*=*=*=*=*=*=*=*=*=*=*=*=*=*=*=*=*=*=*=*=*=*=*=*=*=*=*=*=*=*=*=*=*=*=*=*=*=\n"
          ],
          "name": "stdout"
        },
        {
          "output_type": "stream",
          "text": [
            "loss:69.17362976074219: 100%|██████████| 323/323 [00:46<00:00,  6.98it/s]\n",
            "100%|██████████| 81/81 [00:08<00:00,  9.27it/s]\n",
            "  0%|          | 0/323 [00:00<?, ?it/s]"
          ],
          "name": "stderr"
        },
        {
          "output_type": "stream",
          "text": [
            "*=*=*=*=*=*=*=*=*=*=*=*=*=*=*=*=*=*=*=*=*=*=*=*=*=*=*=*=*=*=*=*=*=*=*=*=*=*=*=*=*=*=*=*=*=*=*=*=*=*=\n",
            "fold 1 EPOCH 43: mean position error with floor 172.683393588634\n",
            "fold 1 EPOCH 43: mean position error without floor 47.22937348668281\n",
            "*=*=*=*=*=*=*=*=*=*=*=*=*=*=*=*=*=*=*=*=*=*=*=*=*=*=*=*=*=*=*=*=*=*=*=*=*=*=*=*=*=*=*=*=*=*=*=*=*=*=\n"
          ],
          "name": "stdout"
        },
        {
          "output_type": "stream",
          "text": [
            "loss:61.967124938964844: 100%|██████████| 323/323 [00:46<00:00,  6.97it/s]\n",
            "100%|██████████| 81/81 [00:08<00:00,  9.09it/s]\n",
            "  0%|          | 0/323 [00:00<?, ?it/s]"
          ],
          "name": "stderr"
        },
        {
          "output_type": "stream",
          "text": [
            "*=*=*=*=*=*=*=*=*=*=*=*=*=*=*=*=*=*=*=*=*=*=*=*=*=*=*=*=*=*=*=*=*=*=*=*=*=*=*=*=*=*=*=*=*=*=*=*=*=*=\n",
            "fold 1 EPOCH 44: mean position error with floor 172.08378286683757\n",
            "fold 1 EPOCH 44: mean position error without floor 46.62065375302664\n",
            "*=*=*=*=*=*=*=*=*=*=*=*=*=*=*=*=*=*=*=*=*=*=*=*=*=*=*=*=*=*=*=*=*=*=*=*=*=*=*=*=*=*=*=*=*=*=*=*=*=*=\n"
          ],
          "name": "stdout"
        },
        {
          "output_type": "stream",
          "text": [
            "loss:55.66422653198242: 100%|██████████| 323/323 [00:46<00:00,  6.97it/s]\n",
            "100%|██████████| 81/81 [00:08<00:00,  9.22it/s]\n",
            "  0%|          | 0/323 [00:00<?, ?it/s]"
          ],
          "name": "stderr"
        },
        {
          "output_type": "stream",
          "text": [
            "*=*=*=*=*=*=*=*=*=*=*=*=*=*=*=*=*=*=*=*=*=*=*=*=*=*=*=*=*=*=*=*=*=*=*=*=*=*=*=*=*=*=*=*=*=*=*=*=*=*=\n",
            "fold 1 EPOCH 45: mean position error with floor 170.7496604821813\n",
            "fold 1 EPOCH 45: mean position error without floor 45.257730024213075\n",
            "*=*=*=*=*=*=*=*=*=*=*=*=*=*=*=*=*=*=*=*=*=*=*=*=*=*=*=*=*=*=*=*=*=*=*=*=*=*=*=*=*=*=*=*=*=*=*=*=*=*=\n"
          ],
          "name": "stdout"
        },
        {
          "output_type": "stream",
          "text": [
            "loss:50.33732986450195: 100%|██████████| 323/323 [00:46<00:00,  6.97it/s]\n",
            "100%|██████████| 81/81 [00:08<00:00,  9.18it/s]\n",
            "  0%|          | 0/323 [00:00<?, ?it/s]"
          ],
          "name": "stderr"
        },
        {
          "output_type": "stream",
          "text": [
            "*=*=*=*=*=*=*=*=*=*=*=*=*=*=*=*=*=*=*=*=*=*=*=*=*=*=*=*=*=*=*=*=*=*=*=*=*=*=*=*=*=*=*=*=*=*=*=*=*=*=\n",
            "fold 1 EPOCH 46: mean position error with floor 170.3231881125907\n",
            "fold 1 EPOCH 46: mean position error without floor 44.846601089588376\n",
            "*=*=*=*=*=*=*=*=*=*=*=*=*=*=*=*=*=*=*=*=*=*=*=*=*=*=*=*=*=*=*=*=*=*=*=*=*=*=*=*=*=*=*=*=*=*=*=*=*=*=\n"
          ],
          "name": "stdout"
        },
        {
          "output_type": "stream",
          "text": [
            "loss:45.71371841430664: 100%|██████████| 323/323 [00:46<00:00,  6.94it/s]\n",
            "100%|██████████| 81/81 [00:08<00:00,  9.32it/s]\n",
            "  0%|          | 0/323 [00:00<?, ?it/s]"
          ],
          "name": "stderr"
        },
        {
          "output_type": "stream",
          "text": [
            "*=*=*=*=*=*=*=*=*=*=*=*=*=*=*=*=*=*=*=*=*=*=*=*=*=*=*=*=*=*=*=*=*=*=*=*=*=*=*=*=*=*=*=*=*=*=*=*=*=*=\n",
            "fold 1 EPOCH 47: mean position error with floor 169.57047325868476\n",
            "fold 1 EPOCH 47: mean position error without floor 44.09705811138014\n",
            "*=*=*=*=*=*=*=*=*=*=*=*=*=*=*=*=*=*=*=*=*=*=*=*=*=*=*=*=*=*=*=*=*=*=*=*=*=*=*=*=*=*=*=*=*=*=*=*=*=*=\n"
          ],
          "name": "stdout"
        },
        {
          "output_type": "stream",
          "text": [
            "loss:41.72503662109375: 100%|██████████| 323/323 [00:46<00:00,  6.92it/s]\n",
            "100%|██████████| 81/81 [00:08<00:00,  9.17it/s]\n",
            "  0%|          | 0/323 [00:00<?, ?it/s]"
          ],
          "name": "stderr"
        },
        {
          "output_type": "stream",
          "text": [
            "*=*=*=*=*=*=*=*=*=*=*=*=*=*=*=*=*=*=*=*=*=*=*=*=*=*=*=*=*=*=*=*=*=*=*=*=*=*=*=*=*=*=*=*=*=*=*=*=*=*=\n",
            "fold 1 EPOCH 48: mean position error with floor 168.9794655713872\n",
            "fold 1 EPOCH 48: mean position error without floor 43.48894673123487\n",
            "*=*=*=*=*=*=*=*=*=*=*=*=*=*=*=*=*=*=*=*=*=*=*=*=*=*=*=*=*=*=*=*=*=*=*=*=*=*=*=*=*=*=*=*=*=*=*=*=*=*=\n"
          ],
          "name": "stdout"
        },
        {
          "output_type": "stream",
          "text": [
            "loss:38.08202362060547: 100%|██████████| 323/323 [00:46<00:00,  6.91it/s]\n",
            "100%|██████████| 81/81 [00:09<00:00,  8.76it/s]\n",
            "  0%|          | 0/323 [00:00<?, ?it/s]"
          ],
          "name": "stderr"
        },
        {
          "output_type": "stream",
          "text": [
            "*=*=*=*=*=*=*=*=*=*=*=*=*=*=*=*=*=*=*=*=*=*=*=*=*=*=*=*=*=*=*=*=*=*=*=*=*=*=*=*=*=*=*=*=*=*=*=*=*=*=\n",
            "fold 1 EPOCH 49: mean position error with floor 169.11591431864633\n",
            "fold 1 EPOCH 49: mean position error without floor 43.624098062954\n",
            "*=*=*=*=*=*=*=*=*=*=*=*=*=*=*=*=*=*=*=*=*=*=*=*=*=*=*=*=*=*=*=*=*=*=*=*=*=*=*=*=*=*=*=*=*=*=*=*=*=*=\n"
          ],
          "name": "stdout"
        },
        {
          "output_type": "stream",
          "text": [
            "loss:35.07007598876953: 100%|██████████| 323/323 [00:47<00:00,  6.81it/s]\n",
            "100%|██████████| 81/81 [00:08<00:00,  9.01it/s]\n",
            "  0%|          | 0/323 [00:00<?, ?it/s]"
          ],
          "name": "stderr"
        },
        {
          "output_type": "stream",
          "text": [
            "*=*=*=*=*=*=*=*=*=*=*=*=*=*=*=*=*=*=*=*=*=*=*=*=*=*=*=*=*=*=*=*=*=*=*=*=*=*=*=*=*=*=*=*=*=*=*=*=*=*=\n",
            "fold 1 EPOCH 50: mean position error with floor 168.47316721043236\n",
            "fold 1 EPOCH 50: mean position error without floor 42.969203995157386\n",
            "*=*=*=*=*=*=*=*=*=*=*=*=*=*=*=*=*=*=*=*=*=*=*=*=*=*=*=*=*=*=*=*=*=*=*=*=*=*=*=*=*=*=*=*=*=*=*=*=*=*=\n"
          ],
          "name": "stdout"
        },
        {
          "output_type": "stream",
          "text": [
            "loss:32.450992584228516: 100%|██████████| 323/323 [00:46<00:00,  6.94it/s]\n",
            "100%|██████████| 81/81 [00:08<00:00,  9.16it/s]\n",
            "  0%|          | 0/323 [00:00<?, ?it/s]"
          ],
          "name": "stderr"
        },
        {
          "output_type": "stream",
          "text": [
            "*=*=*=*=*=*=*=*=*=*=*=*=*=*=*=*=*=*=*=*=*=*=*=*=*=*=*=*=*=*=*=*=*=*=*=*=*=*=*=*=*=*=*=*=*=*=*=*=*=*=\n",
            "fold 1 EPOCH 51: mean position error with floor 168.03444241500435\n",
            "fold 1 EPOCH 51: mean position error without floor 42.53100181598063\n",
            "*=*=*=*=*=*=*=*=*=*=*=*=*=*=*=*=*=*=*=*=*=*=*=*=*=*=*=*=*=*=*=*=*=*=*=*=*=*=*=*=*=*=*=*=*=*=*=*=*=*=\n"
          ],
          "name": "stdout"
        },
        {
          "output_type": "stream",
          "text": [
            "loss:29.980674743652344: 100%|██████████| 323/323 [00:46<00:00,  6.92it/s]\n",
            "100%|██████████| 81/81 [00:08<00:00,  9.02it/s]\n",
            "  0%|          | 0/323 [00:00<?, ?it/s]"
          ],
          "name": "stderr"
        },
        {
          "output_type": "stream",
          "text": [
            "*=*=*=*=*=*=*=*=*=*=*=*=*=*=*=*=*=*=*=*=*=*=*=*=*=*=*=*=*=*=*=*=*=*=*=*=*=*=*=*=*=*=*=*=*=*=*=*=*=*=\n",
            "fold 1 EPOCH 52: mean position error with floor 167.57326518086938\n",
            "fold 1 EPOCH 52: mean position error without floor 42.064058716707024\n",
            "*=*=*=*=*=*=*=*=*=*=*=*=*=*=*=*=*=*=*=*=*=*=*=*=*=*=*=*=*=*=*=*=*=*=*=*=*=*=*=*=*=*=*=*=*=*=*=*=*=*=\n"
          ],
          "name": "stdout"
        },
        {
          "output_type": "stream",
          "text": [
            "loss:27.489959716796875: 100%|██████████| 323/323 [00:47<00:00,  6.87it/s]\n",
            "100%|██████████| 81/81 [00:09<00:00,  8.99it/s]\n",
            "  0%|          | 0/323 [00:00<?, ?it/s]"
          ],
          "name": "stderr"
        },
        {
          "output_type": "stream",
          "text": [
            "*=*=*=*=*=*=*=*=*=*=*=*=*=*=*=*=*=*=*=*=*=*=*=*=*=*=*=*=*=*=*=*=*=*=*=*=*=*=*=*=*=*=*=*=*=*=*=*=*=*=\n",
            "fold 1 EPOCH 53: mean position error with floor 167.2783923554471\n",
            "fold 1 EPOCH 53: mean position error without floor 41.771728208232446\n",
            "*=*=*=*=*=*=*=*=*=*=*=*=*=*=*=*=*=*=*=*=*=*=*=*=*=*=*=*=*=*=*=*=*=*=*=*=*=*=*=*=*=*=*=*=*=*=*=*=*=*=\n"
          ],
          "name": "stdout"
        },
        {
          "output_type": "stream",
          "text": [
            "loss:25.611412048339844: 100%|██████████| 323/323 [00:46<00:00,  6.93it/s]\n",
            "100%|██████████| 81/81 [00:08<00:00,  9.24it/s]\n",
            "  0%|          | 0/323 [00:00<?, ?it/s]"
          ],
          "name": "stderr"
        },
        {
          "output_type": "stream",
          "text": [
            "*=*=*=*=*=*=*=*=*=*=*=*=*=*=*=*=*=*=*=*=*=*=*=*=*=*=*=*=*=*=*=*=*=*=*=*=*=*=*=*=*=*=*=*=*=*=*=*=*=*=\n",
            "fold 1 EPOCH 54: mean position error with floor 167.30608861689345\n",
            "fold 1 EPOCH 54: mean position error without floor 41.80205205811138\n",
            "*=*=*=*=*=*=*=*=*=*=*=*=*=*=*=*=*=*=*=*=*=*=*=*=*=*=*=*=*=*=*=*=*=*=*=*=*=*=*=*=*=*=*=*=*=*=*=*=*=*=\n"
          ],
          "name": "stdout"
        },
        {
          "output_type": "stream",
          "text": [
            "loss:23.704557418823242: 100%|██████████| 323/323 [00:46<00:00,  6.88it/s]\n",
            "100%|██████████| 81/81 [00:09<00:00,  8.94it/s]\n",
            "  0%|          | 0/323 [00:00<?, ?it/s]"
          ],
          "name": "stderr"
        },
        {
          "output_type": "stream",
          "text": [
            "*=*=*=*=*=*=*=*=*=*=*=*=*=*=*=*=*=*=*=*=*=*=*=*=*=*=*=*=*=*=*=*=*=*=*=*=*=*=*=*=*=*=*=*=*=*=*=*=*=*=\n",
            "fold 1 EPOCH 55: mean position error with floor 167.0481855752801\n",
            "fold 1 EPOCH 55: mean position error without floor 41.538874092009685\n",
            "*=*=*=*=*=*=*=*=*=*=*=*=*=*=*=*=*=*=*=*=*=*=*=*=*=*=*=*=*=*=*=*=*=*=*=*=*=*=*=*=*=*=*=*=*=*=*=*=*=*=\n"
          ],
          "name": "stdout"
        },
        {
          "output_type": "stream",
          "text": [
            "loss:22.241609573364258: 100%|██████████| 323/323 [00:46<00:00,  6.95it/s]\n",
            "100%|██████████| 81/81 [00:09<00:00,  8.92it/s]\n",
            "  0%|          | 0/323 [00:00<?, ?it/s]"
          ],
          "name": "stderr"
        },
        {
          "output_type": "stream",
          "text": [
            "*=*=*=*=*=*=*=*=*=*=*=*=*=*=*=*=*=*=*=*=*=*=*=*=*=*=*=*=*=*=*=*=*=*=*=*=*=*=*=*=*=*=*=*=*=*=*=*=*=*=\n",
            "fold 1 EPOCH 56: mean position error with floor 166.5815839251369\n",
            "fold 1 EPOCH 56: mean position error without floor 41.06946428571428\n",
            "*=*=*=*=*=*=*=*=*=*=*=*=*=*=*=*=*=*=*=*=*=*=*=*=*=*=*=*=*=*=*=*=*=*=*=*=*=*=*=*=*=*=*=*=*=*=*=*=*=*=\n"
          ],
          "name": "stdout"
        },
        {
          "output_type": "stream",
          "text": [
            "loss:20.9132137298584: 100%|██████████| 323/323 [00:46<00:00,  6.98it/s]\n",
            "100%|██████████| 81/81 [00:08<00:00,  9.32it/s]\n",
            "  0%|          | 0/323 [00:00<?, ?it/s]"
          ],
          "name": "stderr"
        },
        {
          "output_type": "stream",
          "text": [
            "*=*=*=*=*=*=*=*=*=*=*=*=*=*=*=*=*=*=*=*=*=*=*=*=*=*=*=*=*=*=*=*=*=*=*=*=*=*=*=*=*=*=*=*=*=*=*=*=*=*=\n",
            "fold 1 EPOCH 57: mean position error with floor 166.74951369486217\n",
            "fold 1 EPOCH 57: mean position error without floor 41.238858958837774\n",
            "*=*=*=*=*=*=*=*=*=*=*=*=*=*=*=*=*=*=*=*=*=*=*=*=*=*=*=*=*=*=*=*=*=*=*=*=*=*=*=*=*=*=*=*=*=*=*=*=*=*=\n"
          ],
          "name": "stdout"
        },
        {
          "output_type": "stream",
          "text": [
            "loss:19.532203674316406: 100%|██████████| 323/323 [00:46<00:00,  6.95it/s]\n",
            "100%|██████████| 81/81 [00:08<00:00,  9.34it/s]\n",
            "  0%|          | 0/323 [00:00<?, ?it/s]"
          ],
          "name": "stderr"
        },
        {
          "output_type": "stream",
          "text": [
            "*=*=*=*=*=*=*=*=*=*=*=*=*=*=*=*=*=*=*=*=*=*=*=*=*=*=*=*=*=*=*=*=*=*=*=*=*=*=*=*=*=*=*=*=*=*=*=*=*=*=\n",
            "fold 1 EPOCH 58: mean position error with floor 166.36192685164005\n",
            "fold 1 EPOCH 58: mean position error without floor 40.85046307506053\n",
            "*=*=*=*=*=*=*=*=*=*=*=*=*=*=*=*=*=*=*=*=*=*=*=*=*=*=*=*=*=*=*=*=*=*=*=*=*=*=*=*=*=*=*=*=*=*=*=*=*=*=\n"
          ],
          "name": "stdout"
        },
        {
          "output_type": "stream",
          "text": [
            "loss:18.458391189575195: 100%|██████████| 323/323 [00:46<00:00,  6.96it/s]\n",
            "100%|██████████| 81/81 [00:08<00:00,  9.07it/s]\n",
            "  0%|          | 0/323 [00:00<?, ?it/s]"
          ],
          "name": "stderr"
        },
        {
          "output_type": "stream",
          "text": [
            "*=*=*=*=*=*=*=*=*=*=*=*=*=*=*=*=*=*=*=*=*=*=*=*=*=*=*=*=*=*=*=*=*=*=*=*=*=*=*=*=*=*=*=*=*=*=*=*=*=*=\n",
            "fold 1 EPOCH 59: mean position error with floor 166.17244055227383\n",
            "fold 1 EPOCH 59: mean position error without floor 40.65241828087167\n",
            "*=*=*=*=*=*=*=*=*=*=*=*=*=*=*=*=*=*=*=*=*=*=*=*=*=*=*=*=*=*=*=*=*=*=*=*=*=*=*=*=*=*=*=*=*=*=*=*=*=*=\n"
          ],
          "name": "stdout"
        },
        {
          "output_type": "stream",
          "text": [
            "loss:17.349102020263672: 100%|██████████| 323/323 [00:46<00:00,  6.93it/s]\n",
            "100%|██████████| 81/81 [00:08<00:00,  9.02it/s]\n",
            "  0%|          | 0/323 [00:00<?, ?it/s]"
          ],
          "name": "stderr"
        },
        {
          "output_type": "stream",
          "text": [
            "*=*=*=*=*=*=*=*=*=*=*=*=*=*=*=*=*=*=*=*=*=*=*=*=*=*=*=*=*=*=*=*=*=*=*=*=*=*=*=*=*=*=*=*=*=*=*=*=*=*=\n",
            "fold 1 EPOCH 60: mean position error with floor 166.41821288003524\n",
            "fold 1 EPOCH 60: mean position error without floor 40.89573244552058\n",
            "*=*=*=*=*=*=*=*=*=*=*=*=*=*=*=*=*=*=*=*=*=*=*=*=*=*=*=*=*=*=*=*=*=*=*=*=*=*=*=*=*=*=*=*=*=*=*=*=*=*=\n"
          ],
          "name": "stdout"
        },
        {
          "output_type": "stream",
          "text": [
            "loss:16.696577072143555: 100%|██████████| 323/323 [00:46<00:00,  6.95it/s]\n",
            "100%|██████████| 81/81 [00:08<00:00,  9.16it/s]\n",
            "  0%|          | 0/323 [00:00<?, ?it/s]"
          ],
          "name": "stderr"
        },
        {
          "output_type": "stream",
          "text": [
            "*=*=*=*=*=*=*=*=*=*=*=*=*=*=*=*=*=*=*=*=*=*=*=*=*=*=*=*=*=*=*=*=*=*=*=*=*=*=*=*=*=*=*=*=*=*=*=*=*=*=\n",
            "fold 1 EPOCH 61: mean position error with floor 165.71263723334474\n",
            "fold 1 EPOCH 61: mean position error without floor 40.20028450363196\n",
            "*=*=*=*=*=*=*=*=*=*=*=*=*=*=*=*=*=*=*=*=*=*=*=*=*=*=*=*=*=*=*=*=*=*=*=*=*=*=*=*=*=*=*=*=*=*=*=*=*=*=\n"
          ],
          "name": "stdout"
        },
        {
          "output_type": "stream",
          "text": [
            "loss:16.207624435424805: 100%|██████████| 323/323 [00:46<00:00,  7.00it/s]\n",
            "100%|██████████| 81/81 [00:08<00:00,  9.27it/s]\n",
            "  0%|          | 0/323 [00:00<?, ?it/s]"
          ],
          "name": "stderr"
        },
        {
          "output_type": "stream",
          "text": [
            "*=*=*=*=*=*=*=*=*=*=*=*=*=*=*=*=*=*=*=*=*=*=*=*=*=*=*=*=*=*=*=*=*=*=*=*=*=*=*=*=*=*=*=*=*=*=*=*=*=*=\n",
            "fold 1 EPOCH 62: mean position error with floor 165.85396650839064\n",
            "fold 1 EPOCH 62: mean position error without floor 40.344651937046\n",
            "*=*=*=*=*=*=*=*=*=*=*=*=*=*=*=*=*=*=*=*=*=*=*=*=*=*=*=*=*=*=*=*=*=*=*=*=*=*=*=*=*=*=*=*=*=*=*=*=*=*=\n"
          ],
          "name": "stdout"
        },
        {
          "output_type": "stream",
          "text": [
            "loss:15.390685081481934: 100%|██████████| 323/323 [00:46<00:00,  6.99it/s]\n",
            "100%|██████████| 81/81 [00:08<00:00,  9.11it/s]\n",
            "  0%|          | 0/323 [00:00<?, ?it/s]"
          ],
          "name": "stderr"
        },
        {
          "output_type": "stream",
          "text": [
            "*=*=*=*=*=*=*=*=*=*=*=*=*=*=*=*=*=*=*=*=*=*=*=*=*=*=*=*=*=*=*=*=*=*=*=*=*=*=*=*=*=*=*=*=*=*=*=*=*=*=\n",
            "fold 1 EPOCH 63: mean position error with floor 165.22908718008594\n",
            "fold 1 EPOCH 63: mean position error without floor 39.72523607748184\n",
            "*=*=*=*=*=*=*=*=*=*=*=*=*=*=*=*=*=*=*=*=*=*=*=*=*=*=*=*=*=*=*=*=*=*=*=*=*=*=*=*=*=*=*=*=*=*=*=*=*=*=\n"
          ],
          "name": "stdout"
        },
        {
          "output_type": "stream",
          "text": [
            "loss:14.406074523925781: 100%|██████████| 323/323 [00:46<00:00,  6.95it/s]\n",
            "100%|██████████| 81/81 [00:08<00:00,  9.34it/s]\n",
            "  0%|          | 0/323 [00:00<?, ?it/s]"
          ],
          "name": "stderr"
        },
        {
          "output_type": "stream",
          "text": [
            "*=*=*=*=*=*=*=*=*=*=*=*=*=*=*=*=*=*=*=*=*=*=*=*=*=*=*=*=*=*=*=*=*=*=*=*=*=*=*=*=*=*=*=*=*=*=*=*=*=*=\n",
            "fold 1 EPOCH 64: mean position error with floor 165.67555418317457\n",
            "fold 1 EPOCH 64: mean position error without floor 40.16902239709443\n",
            "*=*=*=*=*=*=*=*=*=*=*=*=*=*=*=*=*=*=*=*=*=*=*=*=*=*=*=*=*=*=*=*=*=*=*=*=*=*=*=*=*=*=*=*=*=*=*=*=*=*=\n"
          ],
          "name": "stdout"
        },
        {
          "output_type": "stream",
          "text": [
            "loss:13.883773803710938: 100%|██████████| 323/323 [00:46<00:00,  6.99it/s]\n",
            "100%|██████████| 81/81 [00:08<00:00,  9.01it/s]\n",
            "  0%|          | 0/323 [00:00<?, ?it/s]"
          ],
          "name": "stderr"
        },
        {
          "output_type": "stream",
          "text": [
            "*=*=*=*=*=*=*=*=*=*=*=*=*=*=*=*=*=*=*=*=*=*=*=*=*=*=*=*=*=*=*=*=*=*=*=*=*=*=*=*=*=*=*=*=*=*=*=*=*=*=\n",
            "fold 1 EPOCH 65: mean position error with floor 165.3559244174144\n",
            "fold 1 EPOCH 65: mean position error without floor 39.84916464891041\n",
            "*=*=*=*=*=*=*=*=*=*=*=*=*=*=*=*=*=*=*=*=*=*=*=*=*=*=*=*=*=*=*=*=*=*=*=*=*=*=*=*=*=*=*=*=*=*=*=*=*=*=\n"
          ],
          "name": "stdout"
        },
        {
          "output_type": "stream",
          "text": [
            "loss:13.496941566467285: 100%|██████████| 323/323 [00:48<00:00,  6.70it/s]\n",
            "100%|██████████| 81/81 [00:09<00:00,  8.58it/s]\n",
            "  0%|          | 0/323 [00:00<?, ?it/s]"
          ],
          "name": "stderr"
        },
        {
          "output_type": "stream",
          "text": [
            "*=*=*=*=*=*=*=*=*=*=*=*=*=*=*=*=*=*=*=*=*=*=*=*=*=*=*=*=*=*=*=*=*=*=*=*=*=*=*=*=*=*=*=*=*=*=*=*=*=*=\n",
            "fold 1 EPOCH 66: mean position error with floor 165.18308174860138\n",
            "fold 1 EPOCH 66: mean position error without floor 39.68464588377724\n",
            "*=*=*=*=*=*=*=*=*=*=*=*=*=*=*=*=*=*=*=*=*=*=*=*=*=*=*=*=*=*=*=*=*=*=*=*=*=*=*=*=*=*=*=*=*=*=*=*=*=*=\n"
          ],
          "name": "stdout"
        },
        {
          "output_type": "stream",
          "text": [
            "loss:12.817610740661621: 100%|██████████| 323/323 [00:47<00:00,  6.77it/s]\n",
            "100%|██████████| 81/81 [00:08<00:00,  9.14it/s]\n",
            "  0%|          | 0/323 [00:00<?, ?it/s]"
          ],
          "name": "stderr"
        },
        {
          "output_type": "stream",
          "text": [
            "*=*=*=*=*=*=*=*=*=*=*=*=*=*=*=*=*=*=*=*=*=*=*=*=*=*=*=*=*=*=*=*=*=*=*=*=*=*=*=*=*=*=*=*=*=*=*=*=*=*=\n",
            "fold 1 EPOCH 67: mean position error with floor 165.3633883378431\n",
            "fold 1 EPOCH 67: mean position error without floor 39.859479418886195\n",
            "*=*=*=*=*=*=*=*=*=*=*=*=*=*=*=*=*=*=*=*=*=*=*=*=*=*=*=*=*=*=*=*=*=*=*=*=*=*=*=*=*=*=*=*=*=*=*=*=*=*=\n"
          ],
          "name": "stdout"
        },
        {
          "output_type": "stream",
          "text": [
            "loss:12.429485321044922: 100%|██████████| 323/323 [00:47<00:00,  6.78it/s]\n",
            "100%|██████████| 81/81 [00:08<00:00,  9.07it/s]\n",
            "  0%|          | 0/323 [00:00<?, ?it/s]"
          ],
          "name": "stderr"
        },
        {
          "output_type": "stream",
          "text": [
            "*=*=*=*=*=*=*=*=*=*=*=*=*=*=*=*=*=*=*=*=*=*=*=*=*=*=*=*=*=*=*=*=*=*=*=*=*=*=*=*=*=*=*=*=*=*=*=*=*=*=\n",
            "fold 1 EPOCH 68: mean position error with floor 165.12739535030022\n",
            "fold 1 EPOCH 68: mean position error without floor 39.625841404358354\n",
            "*=*=*=*=*=*=*=*=*=*=*=*=*=*=*=*=*=*=*=*=*=*=*=*=*=*=*=*=*=*=*=*=*=*=*=*=*=*=*=*=*=*=*=*=*=*=*=*=*=*=\n"
          ],
          "name": "stdout"
        },
        {
          "output_type": "stream",
          "text": [
            "loss:12.289958953857422: 100%|██████████| 323/323 [00:47<00:00,  6.75it/s]\n",
            "100%|██████████| 81/81 [00:09<00:00,  9.00it/s]\n",
            "  0%|          | 0/323 [00:00<?, ?it/s]"
          ],
          "name": "stderr"
        },
        {
          "output_type": "stream",
          "text": [
            "*=*=*=*=*=*=*=*=*=*=*=*=*=*=*=*=*=*=*=*=*=*=*=*=*=*=*=*=*=*=*=*=*=*=*=*=*=*=*=*=*=*=*=*=*=*=*=*=*=*=\n",
            "fold 1 EPOCH 69: mean position error with floor 164.97771766155472\n",
            "fold 1 EPOCH 69: mean position error without floor 39.471495157384986\n",
            "*=*=*=*=*=*=*=*=*=*=*=*=*=*=*=*=*=*=*=*=*=*=*=*=*=*=*=*=*=*=*=*=*=*=*=*=*=*=*=*=*=*=*=*=*=*=*=*=*=*=\n"
          ],
          "name": "stdout"
        },
        {
          "output_type": "stream",
          "text": [
            "loss:11.830199241638184: 100%|██████████| 323/323 [00:46<00:00,  6.90it/s]\n",
            "100%|██████████| 81/81 [00:08<00:00,  9.25it/s]\n",
            "  0%|          | 0/323 [00:00<?, ?it/s]"
          ],
          "name": "stderr"
        },
        {
          "output_type": "stream",
          "text": [
            "*=*=*=*=*=*=*=*=*=*=*=*=*=*=*=*=*=*=*=*=*=*=*=*=*=*=*=*=*=*=*=*=*=*=*=*=*=*=*=*=*=*=*=*=*=*=*=*=*=*=\n",
            "fold 1 EPOCH 70: mean position error with floor 164.8388309345181\n",
            "fold 1 EPOCH 70: mean position error without floor 39.33091101694915\n",
            "*=*=*=*=*=*=*=*=*=*=*=*=*=*=*=*=*=*=*=*=*=*=*=*=*=*=*=*=*=*=*=*=*=*=*=*=*=*=*=*=*=*=*=*=*=*=*=*=*=*=\n"
          ],
          "name": "stdout"
        },
        {
          "output_type": "stream",
          "text": [
            "loss:11.195234298706055: 100%|██████████| 323/323 [00:48<00:00,  6.70it/s]\n",
            "100%|██████████| 81/81 [00:09<00:00,  8.88it/s]\n",
            "  0%|          | 0/323 [00:00<?, ?it/s]"
          ],
          "name": "stderr"
        },
        {
          "output_type": "stream",
          "text": [
            "*=*=*=*=*=*=*=*=*=*=*=*=*=*=*=*=*=*=*=*=*=*=*=*=*=*=*=*=*=*=*=*=*=*=*=*=*=*=*=*=*=*=*=*=*=*=*=*=*=*=\n",
            "fold 1 EPOCH 71: mean position error with floor 164.87859870849192\n",
            "fold 1 EPOCH 71: mean position error without floor 39.38526634382566\n",
            "*=*=*=*=*=*=*=*=*=*=*=*=*=*=*=*=*=*=*=*=*=*=*=*=*=*=*=*=*=*=*=*=*=*=*=*=*=*=*=*=*=*=*=*=*=*=*=*=*=*=\n"
          ],
          "name": "stdout"
        },
        {
          "output_type": "stream",
          "text": [
            "loss:10.894367218017578: 100%|██████████| 323/323 [00:48<00:00,  6.70it/s]\n",
            "100%|██████████| 81/81 [00:09<00:00,  8.69it/s]\n",
            "  0%|          | 0/323 [00:00<?, ?it/s]"
          ],
          "name": "stderr"
        },
        {
          "output_type": "stream",
          "text": [
            "*=*=*=*=*=*=*=*=*=*=*=*=*=*=*=*=*=*=*=*=*=*=*=*=*=*=*=*=*=*=*=*=*=*=*=*=*=*=*=*=*=*=*=*=*=*=*=*=*=*=\n",
            "fold 1 EPOCH 72: mean position error with floor 164.62894707181894\n",
            "fold 1 EPOCH 72: mean position error without floor 39.127033898305086\n",
            "*=*=*=*=*=*=*=*=*=*=*=*=*=*=*=*=*=*=*=*=*=*=*=*=*=*=*=*=*=*=*=*=*=*=*=*=*=*=*=*=*=*=*=*=*=*=*=*=*=*=\n"
          ],
          "name": "stdout"
        },
        {
          "output_type": "stream",
          "text": [
            "loss:10.589921951293945: 100%|██████████| 323/323 [00:47<00:00,  6.79it/s]\n",
            "100%|██████████| 81/81 [00:09<00:00,  8.98it/s]\n",
            "  0%|          | 0/323 [00:00<?, ?it/s]"
          ],
          "name": "stderr"
        },
        {
          "output_type": "stream",
          "text": [
            "*=*=*=*=*=*=*=*=*=*=*=*=*=*=*=*=*=*=*=*=*=*=*=*=*=*=*=*=*=*=*=*=*=*=*=*=*=*=*=*=*=*=*=*=*=*=*=*=*=*=\n",
            "fold 1 EPOCH 73: mean position error with floor 164.76803238160747\n",
            "fold 1 EPOCH 73: mean position error without floor 39.272624092009686\n",
            "*=*=*=*=*=*=*=*=*=*=*=*=*=*=*=*=*=*=*=*=*=*=*=*=*=*=*=*=*=*=*=*=*=*=*=*=*=*=*=*=*=*=*=*=*=*=*=*=*=*=\n"
          ],
          "name": "stdout"
        },
        {
          "output_type": "stream",
          "text": [
            "loss:10.439949989318848: 100%|██████████| 323/323 [00:47<00:00,  6.86it/s]\n",
            "100%|██████████| 81/81 [00:08<00:00,  9.06it/s]\n",
            "  0%|          | 0/323 [00:00<?, ?it/s]"
          ],
          "name": "stderr"
        },
        {
          "output_type": "stream",
          "text": [
            "*=*=*=*=*=*=*=*=*=*=*=*=*=*=*=*=*=*=*=*=*=*=*=*=*=*=*=*=*=*=*=*=*=*=*=*=*=*=*=*=*=*=*=*=*=*=*=*=*=*=\n",
            "fold 1 EPOCH 74: mean position error with floor 164.39569238616266\n",
            "fold 1 EPOCH 74: mean position error without floor 38.89541162227603\n",
            "*=*=*=*=*=*=*=*=*=*=*=*=*=*=*=*=*=*=*=*=*=*=*=*=*=*=*=*=*=*=*=*=*=*=*=*=*=*=*=*=*=*=*=*=*=*=*=*=*=*=\n"
          ],
          "name": "stdout"
        },
        {
          "output_type": "stream",
          "text": [
            "loss:10.26027774810791: 100%|██████████| 323/323 [00:46<00:00,  6.90it/s]\n",
            "100%|██████████| 81/81 [00:08<00:00,  9.08it/s]\n",
            "  0%|          | 0/323 [00:00<?, ?it/s]"
          ],
          "name": "stderr"
        },
        {
          "output_type": "stream",
          "text": [
            "*=*=*=*=*=*=*=*=*=*=*=*=*=*=*=*=*=*=*=*=*=*=*=*=*=*=*=*=*=*=*=*=*=*=*=*=*=*=*=*=*=*=*=*=*=*=*=*=*=*=\n",
            "fold 1 EPOCH 75: mean position error with floor 164.6571984983959\n",
            "fold 1 EPOCH 75: mean position error without floor 39.15977300242131\n",
            "*=*=*=*=*=*=*=*=*=*=*=*=*=*=*=*=*=*=*=*=*=*=*=*=*=*=*=*=*=*=*=*=*=*=*=*=*=*=*=*=*=*=*=*=*=*=*=*=*=*=\n"
          ],
          "name": "stdout"
        },
        {
          "output_type": "stream",
          "text": [
            "loss:9.983076095581055: 100%|██████████| 323/323 [00:46<00:00,  6.90it/s]\n",
            "100%|██████████| 81/81 [00:09<00:00,  8.94it/s]\n",
            "  0%|          | 0/323 [00:00<?, ?it/s]"
          ],
          "name": "stderr"
        },
        {
          "output_type": "stream",
          "text": [
            "*=*=*=*=*=*=*=*=*=*=*=*=*=*=*=*=*=*=*=*=*=*=*=*=*=*=*=*=*=*=*=*=*=*=*=*=*=*=*=*=*=*=*=*=*=*=*=*=*=*=\n",
            "fold 1 EPOCH 76: mean position error with floor 164.4751075877904\n",
            "fold 1 EPOCH 76: mean position error without floor 38.98114406779661\n",
            "*=*=*=*=*=*=*=*=*=*=*=*=*=*=*=*=*=*=*=*=*=*=*=*=*=*=*=*=*=*=*=*=*=*=*=*=*=*=*=*=*=*=*=*=*=*=*=*=*=*=\n"
          ],
          "name": "stdout"
        },
        {
          "output_type": "stream",
          "text": [
            "loss:9.93199634552002: 100%|██████████| 323/323 [00:46<00:00,  6.89it/s]\n",
            "100%|██████████| 81/81 [00:08<00:00,  9.30it/s]\n",
            "  0%|          | 0/323 [00:00<?, ?it/s]"
          ],
          "name": "stderr"
        },
        {
          "output_type": "stream",
          "text": [
            "*=*=*=*=*=*=*=*=*=*=*=*=*=*=*=*=*=*=*=*=*=*=*=*=*=*=*=*=*=*=*=*=*=*=*=*=*=*=*=*=*=*=*=*=*=*=*=*=*=*=\n",
            "fold 1 EPOCH 77: mean position error with floor 164.42950406304897\n",
            "fold 1 EPOCH 77: mean position error without floor 38.92744552058112\n",
            "*=*=*=*=*=*=*=*=*=*=*=*=*=*=*=*=*=*=*=*=*=*=*=*=*=*=*=*=*=*=*=*=*=*=*=*=*=*=*=*=*=*=*=*=*=*=*=*=*=*=\n"
          ],
          "name": "stdout"
        },
        {
          "output_type": "stream",
          "text": [
            "loss:9.466748237609863: 100%|██████████| 323/323 [00:46<00:00,  6.91it/s]\n",
            "100%|██████████| 81/81 [00:08<00:00,  9.05it/s]\n",
            "  0%|          | 0/323 [00:00<?, ?it/s]"
          ],
          "name": "stderr"
        },
        {
          "output_type": "stream",
          "text": [
            "*=*=*=*=*=*=*=*=*=*=*=*=*=*=*=*=*=*=*=*=*=*=*=*=*=*=*=*=*=*=*=*=*=*=*=*=*=*=*=*=*=*=*=*=*=*=*=*=*=*=\n",
            "fold 1 EPOCH 78: mean position error with floor 164.00632877175082\n",
            "fold 1 EPOCH 78: mean position error without floor 38.50436440677966\n",
            "*=*=*=*=*=*=*=*=*=*=*=*=*=*=*=*=*=*=*=*=*=*=*=*=*=*=*=*=*=*=*=*=*=*=*=*=*=*=*=*=*=*=*=*=*=*=*=*=*=*=\n"
          ],
          "name": "stdout"
        },
        {
          "output_type": "stream",
          "text": [
            "loss:9.47773265838623: 100%|██████████| 323/323 [00:46<00:00,  6.93it/s]\n",
            "100%|██████████| 81/81 [00:08<00:00,  9.22it/s]\n",
            "  0%|          | 0/323 [00:00<?, ?it/s]"
          ],
          "name": "stderr"
        },
        {
          "output_type": "stream",
          "text": [
            "*=*=*=*=*=*=*=*=*=*=*=*=*=*=*=*=*=*=*=*=*=*=*=*=*=*=*=*=*=*=*=*=*=*=*=*=*=*=*=*=*=*=*=*=*=*=*=*=*=*=\n",
            "fold 1 EPOCH 79: mean position error with floor 164.15292664260735\n",
            "fold 1 EPOCH 79: mean position error without floor 38.65192191283293\n",
            "*=*=*=*=*=*=*=*=*=*=*=*=*=*=*=*=*=*=*=*=*=*=*=*=*=*=*=*=*=*=*=*=*=*=*=*=*=*=*=*=*=*=*=*=*=*=*=*=*=*=\n"
          ],
          "name": "stdout"
        },
        {
          "output_type": "stream",
          "text": [
            "loss:9.173190116882324: 100%|██████████| 323/323 [00:46<00:00,  6.91it/s]\n",
            "100%|██████████| 81/81 [00:08<00:00,  9.14it/s]\n",
            "  0%|          | 0/323 [00:00<?, ?it/s]"
          ],
          "name": "stderr"
        },
        {
          "output_type": "stream",
          "text": [
            "*=*=*=*=*=*=*=*=*=*=*=*=*=*=*=*=*=*=*=*=*=*=*=*=*=*=*=*=*=*=*=*=*=*=*=*=*=*=*=*=*=*=*=*=*=*=*=*=*=*=\n",
            "fold 1 EPOCH 80: mean position error with floor 163.9580688049563\n",
            "fold 1 EPOCH 80: mean position error without floor 38.456458837772395\n",
            "*=*=*=*=*=*=*=*=*=*=*=*=*=*=*=*=*=*=*=*=*=*=*=*=*=*=*=*=*=*=*=*=*=*=*=*=*=*=*=*=*=*=*=*=*=*=*=*=*=*=\n"
          ],
          "name": "stdout"
        },
        {
          "output_type": "stream",
          "text": [
            "loss:8.950889587402344: 100%|██████████| 323/323 [00:46<00:00,  6.92it/s]\n",
            "100%|██████████| 81/81 [00:08<00:00,  9.00it/s]\n",
            "  0%|          | 0/323 [00:00<?, ?it/s]"
          ],
          "name": "stderr"
        },
        {
          "output_type": "stream",
          "text": [
            "*=*=*=*=*=*=*=*=*=*=*=*=*=*=*=*=*=*=*=*=*=*=*=*=*=*=*=*=*=*=*=*=*=*=*=*=*=*=*=*=*=*=*=*=*=*=*=*=*=*=\n",
            "fold 1 EPOCH 81: mean position error with floor 164.14765650891292\n",
            "fold 1 EPOCH 81: mean position error without floor 38.647763317191284\n",
            "*=*=*=*=*=*=*=*=*=*=*=*=*=*=*=*=*=*=*=*=*=*=*=*=*=*=*=*=*=*=*=*=*=*=*=*=*=*=*=*=*=*=*=*=*=*=*=*=*=*=\n"
          ],
          "name": "stdout"
        },
        {
          "output_type": "stream",
          "text": [
            "loss:8.849878311157227: 100%|██████████| 323/323 [00:47<00:00,  6.74it/s]\n",
            "100%|██████████| 81/81 [00:09<00:00,  8.85it/s]\n",
            "  0%|          | 0/323 [00:00<?, ?it/s]"
          ],
          "name": "stderr"
        },
        {
          "output_type": "stream",
          "text": [
            "*=*=*=*=*=*=*=*=*=*=*=*=*=*=*=*=*=*=*=*=*=*=*=*=*=*=*=*=*=*=*=*=*=*=*=*=*=*=*=*=*=*=*=*=*=*=*=*=*=*=\n",
            "fold 1 EPOCH 82: mean position error with floor 163.9852500566521\n",
            "fold 1 EPOCH 82: mean position error without floor 38.489182808716706\n",
            "*=*=*=*=*=*=*=*=*=*=*=*=*=*=*=*=*=*=*=*=*=*=*=*=*=*=*=*=*=*=*=*=*=*=*=*=*=*=*=*=*=*=*=*=*=*=*=*=*=*=\n"
          ],
          "name": "stdout"
        },
        {
          "output_type": "stream",
          "text": [
            "loss:8.559380531311035: 100%|██████████| 323/323 [00:46<00:00,  6.95it/s]\n",
            "100%|██████████| 81/81 [00:08<00:00,  9.09it/s]\n",
            "  0%|          | 0/323 [00:00<?, ?it/s]"
          ],
          "name": "stderr"
        },
        {
          "output_type": "stream",
          "text": [
            "*=*=*=*=*=*=*=*=*=*=*=*=*=*=*=*=*=*=*=*=*=*=*=*=*=*=*=*=*=*=*=*=*=*=*=*=*=*=*=*=*=*=*=*=*=*=*=*=*=*=\n",
            "fold 1 EPOCH 83: mean position error with floor 163.79831629367413\n",
            "fold 1 EPOCH 83: mean position error without floor 38.29743644067796\n",
            "*=*=*=*=*=*=*=*=*=*=*=*=*=*=*=*=*=*=*=*=*=*=*=*=*=*=*=*=*=*=*=*=*=*=*=*=*=*=*=*=*=*=*=*=*=*=*=*=*=*=\n"
          ],
          "name": "stdout"
        },
        {
          "output_type": "stream",
          "text": [
            "loss:8.376385688781738: 100%|██████████| 323/323 [00:46<00:00,  6.92it/s]\n",
            "100%|██████████| 81/81 [00:08<00:00,  9.02it/s]\n",
            "  0%|          | 0/323 [00:00<?, ?it/s]"
          ],
          "name": "stderr"
        },
        {
          "output_type": "stream",
          "text": [
            "*=*=*=*=*=*=*=*=*=*=*=*=*=*=*=*=*=*=*=*=*=*=*=*=*=*=*=*=*=*=*=*=*=*=*=*=*=*=*=*=*=*=*=*=*=*=*=*=*=*=\n",
            "fold 1 EPOCH 84: mean position error with floor 163.7838672293543\n",
            "fold 1 EPOCH 84: mean position error without floor 38.280266343825666\n",
            "*=*=*=*=*=*=*=*=*=*=*=*=*=*=*=*=*=*=*=*=*=*=*=*=*=*=*=*=*=*=*=*=*=*=*=*=*=*=*=*=*=*=*=*=*=*=*=*=*=*=\n"
          ],
          "name": "stdout"
        },
        {
          "output_type": "stream",
          "text": [
            "loss:8.3327054977417: 100%|██████████| 323/323 [00:46<00:00,  6.91it/s]\n",
            "100%|██████████| 81/81 [00:08<00:00,  9.16it/s]\n",
            "  0%|          | 0/323 [00:00<?, ?it/s]"
          ],
          "name": "stderr"
        },
        {
          "output_type": "stream",
          "text": [
            "*=*=*=*=*=*=*=*=*=*=*=*=*=*=*=*=*=*=*=*=*=*=*=*=*=*=*=*=*=*=*=*=*=*=*=*=*=*=*=*=*=*=*=*=*=*=*=*=*=*=\n",
            "fold 1 EPOCH 85: mean position error with floor 164.01429583365797\n",
            "fold 1 EPOCH 85: mean position error without floor 38.51572033898305\n",
            "*=*=*=*=*=*=*=*=*=*=*=*=*=*=*=*=*=*=*=*=*=*=*=*=*=*=*=*=*=*=*=*=*=*=*=*=*=*=*=*=*=*=*=*=*=*=*=*=*=*=\n"
          ],
          "name": "stdout"
        },
        {
          "output_type": "stream",
          "text": [
            "loss:8.035016059875488: 100%|██████████| 323/323 [00:46<00:00,  6.93it/s]\n",
            "100%|██████████| 81/81 [00:08<00:00,  9.25it/s]\n",
            "  0%|          | 0/323 [00:00<?, ?it/s]"
          ],
          "name": "stderr"
        },
        {
          "output_type": "stream",
          "text": [
            "*=*=*=*=*=*=*=*=*=*=*=*=*=*=*=*=*=*=*=*=*=*=*=*=*=*=*=*=*=*=*=*=*=*=*=*=*=*=*=*=*=*=*=*=*=*=*=*=*=*=\n",
            "fold 1 EPOCH 86: mean position error with floor 164.03374779872172\n",
            "fold 1 EPOCH 86: mean position error without floor 38.52961259079903\n",
            "*=*=*=*=*=*=*=*=*=*=*=*=*=*=*=*=*=*=*=*=*=*=*=*=*=*=*=*=*=*=*=*=*=*=*=*=*=*=*=*=*=*=*=*=*=*=*=*=*=*=\n"
          ],
          "name": "stdout"
        },
        {
          "output_type": "stream",
          "text": [
            "loss:7.989406585693359: 100%|██████████| 323/323 [00:46<00:00,  6.93it/s]\n",
            "100%|██████████| 81/81 [00:08<00:00,  9.08it/s]\n",
            "  0%|          | 0/323 [00:00<?, ?it/s]"
          ],
          "name": "stderr"
        },
        {
          "output_type": "stream",
          "text": [
            "*=*=*=*=*=*=*=*=*=*=*=*=*=*=*=*=*=*=*=*=*=*=*=*=*=*=*=*=*=*=*=*=*=*=*=*=*=*=*=*=*=*=*=*=*=*=*=*=*=*=\n",
            "fold 1 EPOCH 87: mean position error with floor 163.72037813415648\n",
            "fold 1 EPOCH 87: mean position error without floor 38.216361985472155\n",
            "*=*=*=*=*=*=*=*=*=*=*=*=*=*=*=*=*=*=*=*=*=*=*=*=*=*=*=*=*=*=*=*=*=*=*=*=*=*=*=*=*=*=*=*=*=*=*=*=*=*=\n"
          ],
          "name": "stdout"
        },
        {
          "output_type": "stream",
          "text": [
            "loss:7.8296051025390625: 100%|██████████| 323/323 [00:46<00:00,  6.96it/s]\n",
            "100%|██████████| 81/81 [00:08<00:00,  9.27it/s]\n",
            "  0%|          | 0/323 [00:00<?, ?it/s]"
          ],
          "name": "stderr"
        },
        {
          "output_type": "stream",
          "text": [
            "*=*=*=*=*=*=*=*=*=*=*=*=*=*=*=*=*=*=*=*=*=*=*=*=*=*=*=*=*=*=*=*=*=*=*=*=*=*=*=*=*=*=*=*=*=*=*=*=*=*=\n",
            "fold 1 EPOCH 88: mean position error with floor 163.83100996680378\n",
            "fold 1 EPOCH 88: mean position error without floor 38.33129539951574\n",
            "*=*=*=*=*=*=*=*=*=*=*=*=*=*=*=*=*=*=*=*=*=*=*=*=*=*=*=*=*=*=*=*=*=*=*=*=*=*=*=*=*=*=*=*=*=*=*=*=*=*=\n"
          ],
          "name": "stdout"
        },
        {
          "output_type": "stream",
          "text": [
            "loss:7.7184271812438965: 100%|██████████| 323/323 [00:46<00:00,  6.87it/s]\n",
            "100%|██████████| 81/81 [00:08<00:00,  9.09it/s]\n",
            "  0%|          | 0/323 [00:00<?, ?it/s]"
          ],
          "name": "stderr"
        },
        {
          "output_type": "stream",
          "text": [
            "*=*=*=*=*=*=*=*=*=*=*=*=*=*=*=*=*=*=*=*=*=*=*=*=*=*=*=*=*=*=*=*=*=*=*=*=*=*=*=*=*=*=*=*=*=*=*=*=*=*=\n",
            "fold 1 EPOCH 89: mean position error with floor 163.8216202573029\n",
            "fold 1 EPOCH 89: mean position error without floor 38.32057506053269\n",
            "*=*=*=*=*=*=*=*=*=*=*=*=*=*=*=*=*=*=*=*=*=*=*=*=*=*=*=*=*=*=*=*=*=*=*=*=*=*=*=*=*=*=*=*=*=*=*=*=*=*=\n"
          ],
          "name": "stdout"
        },
        {
          "output_type": "stream",
          "text": [
            "loss:7.709543704986572: 100%|██████████| 323/323 [00:46<00:00,  6.88it/s]\n",
            "100%|██████████| 81/81 [00:08<00:00,  9.04it/s]\n",
            "  0%|          | 0/323 [00:00<?, ?it/s]"
          ],
          "name": "stderr"
        },
        {
          "output_type": "stream",
          "text": [
            "*=*=*=*=*=*=*=*=*=*=*=*=*=*=*=*=*=*=*=*=*=*=*=*=*=*=*=*=*=*=*=*=*=*=*=*=*=*=*=*=*=*=*=*=*=*=*=*=*=*=\n",
            "fold 1 EPOCH 90: mean position error with floor 163.722487773163\n",
            "fold 1 EPOCH 90: mean position error without floor 38.2222397094431\n",
            "*=*=*=*=*=*=*=*=*=*=*=*=*=*=*=*=*=*=*=*=*=*=*=*=*=*=*=*=*=*=*=*=*=*=*=*=*=*=*=*=*=*=*=*=*=*=*=*=*=*=\n"
          ],
          "name": "stdout"
        },
        {
          "output_type": "stream",
          "text": [
            "loss:7.350228309631348: 100%|██████████| 323/323 [00:46<00:00,  6.91it/s]\n",
            "100%|██████████| 81/81 [00:08<00:00,  9.05it/s]\n",
            "  0%|          | 0/323 [00:00<?, ?it/s]"
          ],
          "name": "stderr"
        },
        {
          "output_type": "stream",
          "text": [
            "*=*=*=*=*=*=*=*=*=*=*=*=*=*=*=*=*=*=*=*=*=*=*=*=*=*=*=*=*=*=*=*=*=*=*=*=*=*=*=*=*=*=*=*=*=*=*=*=*=*=\n",
            "fold 1 EPOCH 91: mean position error with floor 163.73568131581635\n",
            "fold 1 EPOCH 91: mean position error without floor 38.23644370460048\n",
            "*=*=*=*=*=*=*=*=*=*=*=*=*=*=*=*=*=*=*=*=*=*=*=*=*=*=*=*=*=*=*=*=*=*=*=*=*=*=*=*=*=*=*=*=*=*=*=*=*=*=\n"
          ],
          "name": "stdout"
        },
        {
          "output_type": "stream",
          "text": [
            "loss:7.199305534362793: 100%|██████████| 323/323 [00:46<00:00,  6.90it/s]\n",
            "100%|██████████| 81/81 [00:08<00:00,  9.11it/s]\n",
            "  0%|          | 0/323 [00:00<?, ?it/s]"
          ],
          "name": "stderr"
        },
        {
          "output_type": "stream",
          "text": [
            "*=*=*=*=*=*=*=*=*=*=*=*=*=*=*=*=*=*=*=*=*=*=*=*=*=*=*=*=*=*=*=*=*=*=*=*=*=*=*=*=*=*=*=*=*=*=*=*=*=*=\n",
            "fold 1 EPOCH 92: mean position error with floor 163.73920117695255\n",
            "fold 1 EPOCH 92: mean position error without floor 38.239219128329296\n",
            "*=*=*=*=*=*=*=*=*=*=*=*=*=*=*=*=*=*=*=*=*=*=*=*=*=*=*=*=*=*=*=*=*=*=*=*=*=*=*=*=*=*=*=*=*=*=*=*=*=*=\n"
          ],
          "name": "stdout"
        },
        {
          "output_type": "stream",
          "text": [
            "loss:7.125467300415039: 100%|██████████| 323/323 [00:46<00:00,  6.88it/s]\n",
            "100%|██████████| 81/81 [00:08<00:00,  9.09it/s]\n",
            "  0%|          | 0/323 [00:00<?, ?it/s]"
          ],
          "name": "stderr"
        },
        {
          "output_type": "stream",
          "text": [
            "*=*=*=*=*=*=*=*=*=*=*=*=*=*=*=*=*=*=*=*=*=*=*=*=*=*=*=*=*=*=*=*=*=*=*=*=*=*=*=*=*=*=*=*=*=*=*=*=*=*=\n",
            "fold 1 EPOCH 93: mean position error with floor 163.6270503111244\n",
            "fold 1 EPOCH 93: mean position error without floor 38.12812348668281\n",
            "*=*=*=*=*=*=*=*=*=*=*=*=*=*=*=*=*=*=*=*=*=*=*=*=*=*=*=*=*=*=*=*=*=*=*=*=*=*=*=*=*=*=*=*=*=*=*=*=*=*=\n"
          ],
          "name": "stdout"
        },
        {
          "output_type": "stream",
          "text": [
            "loss:7.017539024353027: 100%|██████████| 323/323 [00:46<00:00,  6.90it/s]\n",
            "100%|██████████| 81/81 [00:09<00:00,  8.93it/s]\n",
            "  0%|          | 0/323 [00:00<?, ?it/s]"
          ],
          "name": "stderr"
        },
        {
          "output_type": "stream",
          "text": [
            "*=*=*=*=*=*=*=*=*=*=*=*=*=*=*=*=*=*=*=*=*=*=*=*=*=*=*=*=*=*=*=*=*=*=*=*=*=*=*=*=*=*=*=*=*=*=*=*=*=*=\n",
            "fold 1 EPOCH 94: mean position error with floor 163.5934222694978\n",
            "fold 1 EPOCH 94: mean position error without floor 38.09438861985472\n",
            "*=*=*=*=*=*=*=*=*=*=*=*=*=*=*=*=*=*=*=*=*=*=*=*=*=*=*=*=*=*=*=*=*=*=*=*=*=*=*=*=*=*=*=*=*=*=*=*=*=*=\n"
          ],
          "name": "stdout"
        },
        {
          "output_type": "stream",
          "text": [
            "loss:6.9627861976623535: 100%|██████████| 323/323 [00:47<00:00,  6.85it/s]\n",
            "100%|██████████| 81/81 [00:08<00:00,  9.07it/s]\n",
            "  0%|          | 0/323 [00:00<?, ?it/s]"
          ],
          "name": "stderr"
        },
        {
          "output_type": "stream",
          "text": [
            "*=*=*=*=*=*=*=*=*=*=*=*=*=*=*=*=*=*=*=*=*=*=*=*=*=*=*=*=*=*=*=*=*=*=*=*=*=*=*=*=*=*=*=*=*=*=*=*=*=*=\n",
            "fold 1 EPOCH 95: mean position error with floor 163.58581823549858\n",
            "fold 1 EPOCH 95: mean position error without floor 38.089140435835354\n",
            "*=*=*=*=*=*=*=*=*=*=*=*=*=*=*=*=*=*=*=*=*=*=*=*=*=*=*=*=*=*=*=*=*=*=*=*=*=*=*=*=*=*=*=*=*=*=*=*=*=*=\n"
          ],
          "name": "stdout"
        },
        {
          "output_type": "stream",
          "text": [
            "loss:6.8242998123168945: 100%|██████████| 323/323 [00:46<00:00,  6.91it/s]\n",
            "100%|██████████| 81/81 [00:08<00:00,  9.19it/s]\n",
            "  0%|          | 0/323 [00:00<?, ?it/s]"
          ],
          "name": "stderr"
        },
        {
          "output_type": "stream",
          "text": [
            "*=*=*=*=*=*=*=*=*=*=*=*=*=*=*=*=*=*=*=*=*=*=*=*=*=*=*=*=*=*=*=*=*=*=*=*=*=*=*=*=*=*=*=*=*=*=*=*=*=*=\n",
            "fold 1 EPOCH 96: mean position error with floor 163.40186001884302\n",
            "fold 1 EPOCH 96: mean position error without floor 37.906374092009685\n",
            "*=*=*=*=*=*=*=*=*=*=*=*=*=*=*=*=*=*=*=*=*=*=*=*=*=*=*=*=*=*=*=*=*=*=*=*=*=*=*=*=*=*=*=*=*=*=*=*=*=*=\n"
          ],
          "name": "stdout"
        },
        {
          "output_type": "stream",
          "text": [
            "loss:6.684061050415039: 100%|██████████| 323/323 [00:46<00:00,  6.91it/s]\n",
            "100%|██████████| 81/81 [00:08<00:00,  9.17it/s]\n",
            "  0%|          | 0/323 [00:00<?, ?it/s]"
          ],
          "name": "stderr"
        },
        {
          "output_type": "stream",
          "text": [
            "*=*=*=*=*=*=*=*=*=*=*=*=*=*=*=*=*=*=*=*=*=*=*=*=*=*=*=*=*=*=*=*=*=*=*=*=*=*=*=*=*=*=*=*=*=*=*=*=*=*=\n",
            "fold 1 EPOCH 97: mean position error with floor 163.22631147352172\n",
            "fold 1 EPOCH 97: mean position error without floor 37.728492736077484\n",
            "*=*=*=*=*=*=*=*=*=*=*=*=*=*=*=*=*=*=*=*=*=*=*=*=*=*=*=*=*=*=*=*=*=*=*=*=*=*=*=*=*=*=*=*=*=*=*=*=*=*=\n"
          ],
          "name": "stdout"
        },
        {
          "output_type": "stream",
          "text": [
            "loss:6.801252841949463: 100%|██████████| 323/323 [00:48<00:00,  6.72it/s]\n",
            "100%|██████████| 81/81 [00:08<00:00,  9.00it/s]\n",
            "  0%|          | 0/323 [00:00<?, ?it/s]"
          ],
          "name": "stderr"
        },
        {
          "output_type": "stream",
          "text": [
            "*=*=*=*=*=*=*=*=*=*=*=*=*=*=*=*=*=*=*=*=*=*=*=*=*=*=*=*=*=*=*=*=*=*=*=*=*=*=*=*=*=*=*=*=*=*=*=*=*=*=\n",
            "fold 1 EPOCH 98: mean position error with floor 163.7410276884847\n",
            "fold 1 EPOCH 98: mean position error without floor 38.2405901937046\n",
            "*=*=*=*=*=*=*=*=*=*=*=*=*=*=*=*=*=*=*=*=*=*=*=*=*=*=*=*=*=*=*=*=*=*=*=*=*=*=*=*=*=*=*=*=*=*=*=*=*=*=\n"
          ],
          "name": "stdout"
        },
        {
          "output_type": "stream",
          "text": [
            "loss:6.628127574920654: 100%|██████████| 323/323 [00:47<00:00,  6.86it/s]\n",
            "100%|██████████| 81/81 [00:08<00:00,  9.12it/s]\n",
            "  0%|          | 0/16 [00:00<?, ?it/s]"
          ],
          "name": "stderr"
        },
        {
          "output_type": "stream",
          "text": [
            "*=*=*=*=*=*=*=*=*=*=*=*=*=*=*=*=*=*=*=*=*=*=*=*=*=*=*=*=*=*=*=*=*=*=*=*=*=*=*=*=*=*=*=*=*=*=*=*=*=*=\n",
            "fold 1 EPOCH 99: mean position error with floor 163.75186712283343\n",
            "fold 1 EPOCH 99: mean position error without floor 38.25069007263922\n",
            "*=*=*=*=*=*=*=*=*=*=*=*=*=*=*=*=*=*=*=*=*=*=*=*=*=*=*=*=*=*=*=*=*=*=*=*=*=*=*=*=*=*=*=*=*=*=*=*=*=*=\n"
          ],
          "name": "stdout"
        },
        {
          "output_type": "stream",
          "text": [
            "100%|██████████| 16/16 [00:01<00:00,  8.09it/s]\n",
            "loss:15637.0126953125: 100%|██████████| 323/323 [00:49<00:00,  6.48it/s]\n",
            "100%|██████████| 81/81 [00:09<00:00,  8.77it/s]\n",
            "  0%|          | 0/323 [00:00<?, ?it/s]"
          ],
          "name": "stderr"
        },
        {
          "output_type": "stream",
          "text": [
            "*=*=*=*=*=*=*=*=*=*=*=*=*=*=*=*=*=*=*=*=*=*=*=*=*=*=*=*=*=*=*=*=*=*=*=*=*=*=*=*=*=*=*=*=*=*=*=*=*=*=\n",
            "fold 2 EPOCH 0: mean position error with floor 908.3923698708394\n",
            "fold 2 EPOCH 0: mean position error without floor 782.8616464891041\n",
            "*=*=*=*=*=*=*=*=*=*=*=*=*=*=*=*=*=*=*=*=*=*=*=*=*=*=*=*=*=*=*=*=*=*=*=*=*=*=*=*=*=*=*=*=*=*=*=*=*=*=\n"
          ],
          "name": "stdout"
        },
        {
          "output_type": "stream",
          "text": [
            "loss:14082.5029296875: 100%|██████████| 323/323 [00:48<00:00,  6.60it/s]\n",
            "100%|██████████| 81/81 [00:09<00:00,  8.98it/s]\n",
            "  0%|          | 0/323 [00:00<?, ?it/s]"
          ],
          "name": "stderr"
        },
        {
          "output_type": "stream",
          "text": [
            "*=*=*=*=*=*=*=*=*=*=*=*=*=*=*=*=*=*=*=*=*=*=*=*=*=*=*=*=*=*=*=*=*=*=*=*=*=*=*=*=*=*=*=*=*=*=*=*=*=*=\n",
            "fold 2 EPOCH 1: mean position error with floor 860.3210541931394\n",
            "fold 2 EPOCH 1: mean position error without floor 734.7902663438257\n",
            "*=*=*=*=*=*=*=*=*=*=*=*=*=*=*=*=*=*=*=*=*=*=*=*=*=*=*=*=*=*=*=*=*=*=*=*=*=*=*=*=*=*=*=*=*=*=*=*=*=*=\n"
          ],
          "name": "stdout"
        },
        {
          "output_type": "stream",
          "text": [
            "loss:12703.9228515625: 100%|██████████| 323/323 [00:47<00:00,  6.84it/s]\n",
            "100%|██████████| 81/81 [00:09<00:00,  8.99it/s]\n",
            "  0%|          | 0/323 [00:00<?, ?it/s]"
          ],
          "name": "stderr"
        },
        {
          "output_type": "stream",
          "text": [
            "*=*=*=*=*=*=*=*=*=*=*=*=*=*=*=*=*=*=*=*=*=*=*=*=*=*=*=*=*=*=*=*=*=*=*=*=*=*=*=*=*=*=*=*=*=*=*=*=*=*=\n",
            "fold 2 EPOCH 2: mean position error with floor 815.2164286268941\n",
            "fold 2 EPOCH 2: mean position error without floor 689.6856658595642\n",
            "*=*=*=*=*=*=*=*=*=*=*=*=*=*=*=*=*=*=*=*=*=*=*=*=*=*=*=*=*=*=*=*=*=*=*=*=*=*=*=*=*=*=*=*=*=*=*=*=*=*=\n"
          ],
          "name": "stdout"
        },
        {
          "output_type": "stream",
          "text": [
            "loss:11464.8359375: 100%|██████████| 323/323 [00:48<00:00,  6.71it/s]\n",
            "100%|██████████| 81/81 [00:09<00:00,  8.74it/s]\n",
            "  0%|          | 0/323 [00:00<?, ?it/s]"
          ],
          "name": "stderr"
        },
        {
          "output_type": "stream",
          "text": [
            "*=*=*=*=*=*=*=*=*=*=*=*=*=*=*=*=*=*=*=*=*=*=*=*=*=*=*=*=*=*=*=*=*=*=*=*=*=*=*=*=*=*=*=*=*=*=*=*=*=*=\n",
            "fold 2 EPOCH 3: mean position error with floor 773.224803190774\n",
            "fold 2 EPOCH 3: mean position error without floor 647.6940920096853\n",
            "*=*=*=*=*=*=*=*=*=*=*=*=*=*=*=*=*=*=*=*=*=*=*=*=*=*=*=*=*=*=*=*=*=*=*=*=*=*=*=*=*=*=*=*=*=*=*=*=*=*=\n"
          ],
          "name": "stdout"
        },
        {
          "output_type": "stream",
          "text": [
            "loss:10358.091796875: 100%|██████████| 323/323 [00:48<00:00,  6.72it/s]\n",
            "100%|██████████| 81/81 [00:08<00:00,  9.07it/s]\n",
            "  0%|          | 0/323 [00:00<?, ?it/s]"
          ],
          "name": "stderr"
        },
        {
          "output_type": "stream",
          "text": [
            "*=*=*=*=*=*=*=*=*=*=*=*=*=*=*=*=*=*=*=*=*=*=*=*=*=*=*=*=*=*=*=*=*=*=*=*=*=*=*=*=*=*=*=*=*=*=*=*=*=*=\n",
            "fold 2 EPOCH 4: mean position error with floor 734.5573307055827\n",
            "fold 2 EPOCH 4: mean position error without floor 609.0265375302663\n",
            "*=*=*=*=*=*=*=*=*=*=*=*=*=*=*=*=*=*=*=*=*=*=*=*=*=*=*=*=*=*=*=*=*=*=*=*=*=*=*=*=*=*=*=*=*=*=*=*=*=*=\n"
          ],
          "name": "stdout"
        },
        {
          "output_type": "stream",
          "text": [
            "loss:9375.0185546875: 100%|██████████| 323/323 [00:48<00:00,  6.68it/s]\n",
            "100%|██████████| 81/81 [00:09<00:00,  8.87it/s]\n",
            "  0%|          | 0/323 [00:00<?, ?it/s]"
          ],
          "name": "stderr"
        },
        {
          "output_type": "stream",
          "text": [
            "*=*=*=*=*=*=*=*=*=*=*=*=*=*=*=*=*=*=*=*=*=*=*=*=*=*=*=*=*=*=*=*=*=*=*=*=*=*=*=*=*=*=*=*=*=*=*=*=*=*=\n",
            "fold 2 EPOCH 5: mean position error with floor 699.5379388302492\n",
            "fold 2 EPOCH 5: mean position error without floor 574.0072154963681\n",
            "*=*=*=*=*=*=*=*=*=*=*=*=*=*=*=*=*=*=*=*=*=*=*=*=*=*=*=*=*=*=*=*=*=*=*=*=*=*=*=*=*=*=*=*=*=*=*=*=*=*=\n"
          ],
          "name": "stdout"
        },
        {
          "output_type": "stream",
          "text": [
            "loss:8505.3525390625: 100%|██████████| 323/323 [00:47<00:00,  6.78it/s]\n",
            "100%|██████████| 81/81 [00:09<00:00,  8.73it/s]\n",
            "  0%|          | 0/323 [00:00<?, ?it/s]"
          ],
          "name": "stderr"
        },
        {
          "output_type": "stream",
          "text": [
            "*=*=*=*=*=*=*=*=*=*=*=*=*=*=*=*=*=*=*=*=*=*=*=*=*=*=*=*=*=*=*=*=*=*=*=*=*=*=*=*=*=*=*=*=*=*=*=*=*=*=\n",
            "fold 2 EPOCH 6: mean position error with floor 668.1357723786294\n",
            "fold 2 EPOCH 6: mean position error without floor 542.6049878934625\n",
            "*=*=*=*=*=*=*=*=*=*=*=*=*=*=*=*=*=*=*=*=*=*=*=*=*=*=*=*=*=*=*=*=*=*=*=*=*=*=*=*=*=*=*=*=*=*=*=*=*=*=\n"
          ],
          "name": "stdout"
        },
        {
          "output_type": "stream",
          "text": [
            "loss:7741.42333984375: 100%|██████████| 323/323 [00:47<00:00,  6.79it/s]\n",
            "100%|██████████| 81/81 [00:09<00:00,  8.91it/s]\n",
            "  0%|          | 0/323 [00:00<?, ?it/s]"
          ],
          "name": "stderr"
        },
        {
          "output_type": "stream",
          "text": [
            "*=*=*=*=*=*=*=*=*=*=*=*=*=*=*=*=*=*=*=*=*=*=*=*=*=*=*=*=*=*=*=*=*=*=*=*=*=*=*=*=*=*=*=*=*=*=*=*=*=*=\n",
            "fold 2 EPOCH 7: mean position error with floor 640.415561954519\n",
            "fold 2 EPOCH 7: mean position error without floor 514.884794188862\n",
            "*=*=*=*=*=*=*=*=*=*=*=*=*=*=*=*=*=*=*=*=*=*=*=*=*=*=*=*=*=*=*=*=*=*=*=*=*=*=*=*=*=*=*=*=*=*=*=*=*=*=\n"
          ],
          "name": "stdout"
        },
        {
          "output_type": "stream",
          "text": [
            "loss:7076.43505859375: 100%|██████████| 323/323 [00:47<00:00,  6.75it/s]\n",
            "100%|██████████| 81/81 [00:09<00:00,  8.99it/s]\n",
            "  0%|          | 0/323 [00:00<?, ?it/s]"
          ],
          "name": "stderr"
        },
        {
          "output_type": "stream",
          "text": [
            "*=*=*=*=*=*=*=*=*=*=*=*=*=*=*=*=*=*=*=*=*=*=*=*=*=*=*=*=*=*=*=*=*=*=*=*=*=*=*=*=*=*=*=*=*=*=*=*=*=*=\n",
            "fold 2 EPOCH 8: mean position error with floor 616.4530387350527\n",
            "fold 2 EPOCH 8: mean position error without floor 490.9223244552058\n",
            "*=*=*=*=*=*=*=*=*=*=*=*=*=*=*=*=*=*=*=*=*=*=*=*=*=*=*=*=*=*=*=*=*=*=*=*=*=*=*=*=*=*=*=*=*=*=*=*=*=*=\n"
          ],
          "name": "stdout"
        },
        {
          "output_type": "stream",
          "text": [
            "loss:6501.72607421875: 100%|██████████| 323/323 [00:47<00:00,  6.81it/s]\n",
            "100%|██████████| 81/81 [00:08<00:00,  9.14it/s]\n",
            "  0%|          | 0/323 [00:00<?, ?it/s]"
          ],
          "name": "stderr"
        },
        {
          "output_type": "stream",
          "text": [
            "*=*=*=*=*=*=*=*=*=*=*=*=*=*=*=*=*=*=*=*=*=*=*=*=*=*=*=*=*=*=*=*=*=*=*=*=*=*=*=*=*=*=*=*=*=*=*=*=*=*=\n",
            "fold 2 EPOCH 9: mean position error with floor 596.0562285424173\n",
            "fold 2 EPOCH 9: mean position error without floor 470.5255205811138\n",
            "*=*=*=*=*=*=*=*=*=*=*=*=*=*=*=*=*=*=*=*=*=*=*=*=*=*=*=*=*=*=*=*=*=*=*=*=*=*=*=*=*=*=*=*=*=*=*=*=*=*=\n"
          ],
          "name": "stdout"
        },
        {
          "output_type": "stream",
          "text": [
            "loss:6011.634765625: 100%|██████████| 323/323 [00:46<00:00,  6.92it/s]\n",
            "100%|██████████| 81/81 [00:08<00:00,  9.07it/s]\n",
            "  0%|          | 0/323 [00:00<?, ?it/s]"
          ],
          "name": "stderr"
        },
        {
          "output_type": "stream",
          "text": [
            "*=*=*=*=*=*=*=*=*=*=*=*=*=*=*=*=*=*=*=*=*=*=*=*=*=*=*=*=*=*=*=*=*=*=*=*=*=*=*=*=*=*=*=*=*=*=*=*=*=*=\n",
            "fold 2 EPOCH 10: mean position error with floor 579.0539263088103\n",
            "fold 2 EPOCH 10: mean position error without floor 453.523196125908\n",
            "*=*=*=*=*=*=*=*=*=*=*=*=*=*=*=*=*=*=*=*=*=*=*=*=*=*=*=*=*=*=*=*=*=*=*=*=*=*=*=*=*=*=*=*=*=*=*=*=*=*=\n"
          ],
          "name": "stdout"
        },
        {
          "output_type": "stream",
          "text": [
            "loss:5597.3916015625: 100%|██████████| 323/323 [00:46<00:00,  6.92it/s]\n",
            "100%|██████████| 81/81 [00:08<00:00,  9.06it/s]\n",
            "  0%|          | 0/323 [00:00<?, ?it/s]"
          ],
          "name": "stderr"
        },
        {
          "output_type": "stream",
          "text": [
            "*=*=*=*=*=*=*=*=*=*=*=*=*=*=*=*=*=*=*=*=*=*=*=*=*=*=*=*=*=*=*=*=*=*=*=*=*=*=*=*=*=*=*=*=*=*=*=*=*=*=\n",
            "fold 2 EPOCH 11: mean position error with floor 565.2695801121617\n",
            "fold 2 EPOCH 11: mean position error without floor 439.7388377723971\n",
            "*=*=*=*=*=*=*=*=*=*=*=*=*=*=*=*=*=*=*=*=*=*=*=*=*=*=*=*=*=*=*=*=*=*=*=*=*=*=*=*=*=*=*=*=*=*=*=*=*=*=\n"
          ],
          "name": "stdout"
        },
        {
          "output_type": "stream",
          "text": [
            "loss:5255.07763671875: 100%|██████████| 323/323 [00:46<00:00,  6.89it/s]\n",
            "100%|██████████| 81/81 [00:09<00:00,  8.91it/s]\n",
            "  0%|          | 0/323 [00:00<?, ?it/s]"
          ],
          "name": "stderr"
        },
        {
          "output_type": "stream",
          "text": [
            "*=*=*=*=*=*=*=*=*=*=*=*=*=*=*=*=*=*=*=*=*=*=*=*=*=*=*=*=*=*=*=*=*=*=*=*=*=*=*=*=*=*=*=*=*=*=*=*=*=*=\n",
            "fold 2 EPOCH 12: mean position error with floor 554.4778877363915\n",
            "fold 2 EPOCH 12: mean position error without floor 428.9471670702179\n",
            "*=*=*=*=*=*=*=*=*=*=*=*=*=*=*=*=*=*=*=*=*=*=*=*=*=*=*=*=*=*=*=*=*=*=*=*=*=*=*=*=*=*=*=*=*=*=*=*=*=*=\n"
          ],
          "name": "stdout"
        },
        {
          "output_type": "stream",
          "text": [
            "loss:4977.919921875: 100%|██████████| 323/323 [00:47<00:00,  6.79it/s]\n",
            "100%|██████████| 81/81 [00:09<00:00,  8.72it/s]\n",
            "  0%|          | 0/323 [00:00<?, ?it/s]"
          ],
          "name": "stderr"
        },
        {
          "output_type": "stream",
          "text": [
            "*=*=*=*=*=*=*=*=*=*=*=*=*=*=*=*=*=*=*=*=*=*=*=*=*=*=*=*=*=*=*=*=*=*=*=*=*=*=*=*=*=*=*=*=*=*=*=*=*=*=\n",
            "fold 2 EPOCH 13: mean position error with floor 546.3396769427878\n",
            "fold 2 EPOCH 13: mean position error without floor 420.8089588377724\n",
            "*=*=*=*=*=*=*=*=*=*=*=*=*=*=*=*=*=*=*=*=*=*=*=*=*=*=*=*=*=*=*=*=*=*=*=*=*=*=*=*=*=*=*=*=*=*=*=*=*=*=\n"
          ],
          "name": "stdout"
        },
        {
          "output_type": "stream",
          "text": [
            "loss:4760.43017578125: 100%|██████████| 323/323 [00:48<00:00,  6.62it/s]\n",
            "100%|██████████| 81/81 [00:09<00:00,  8.78it/s]\n",
            "  0%|          | 0/323 [00:00<?, ?it/s]"
          ],
          "name": "stderr"
        },
        {
          "output_type": "stream",
          "text": [
            "*=*=*=*=*=*=*=*=*=*=*=*=*=*=*=*=*=*=*=*=*=*=*=*=*=*=*=*=*=*=*=*=*=*=*=*=*=*=*=*=*=*=*=*=*=*=*=*=*=*=\n",
            "fold 2 EPOCH 14: mean position error with floor 540.4674439588124\n",
            "fold 2 EPOCH 14: mean position error without floor 414.9367070217918\n",
            "*=*=*=*=*=*=*=*=*=*=*=*=*=*=*=*=*=*=*=*=*=*=*=*=*=*=*=*=*=*=*=*=*=*=*=*=*=*=*=*=*=*=*=*=*=*=*=*=*=*=\n"
          ],
          "name": "stdout"
        },
        {
          "output_type": "stream",
          "text": [
            "loss:4592.30517578125: 100%|██████████| 323/323 [00:48<00:00,  6.64it/s]\n",
            "100%|██████████| 81/81 [00:09<00:00,  8.80it/s]\n",
            "  0%|          | 0/323 [00:00<?, ?it/s]"
          ],
          "name": "stderr"
        },
        {
          "output_type": "stream",
          "text": [
            "*=*=*=*=*=*=*=*=*=*=*=*=*=*=*=*=*=*=*=*=*=*=*=*=*=*=*=*=*=*=*=*=*=*=*=*=*=*=*=*=*=*=*=*=*=*=*=*=*=*=\n",
            "fold 2 EPOCH 15: mean position error with floor 536.4997371659065\n",
            "fold 2 EPOCH 15: mean position error without floor 410.9689588377724\n",
            "*=*=*=*=*=*=*=*=*=*=*=*=*=*=*=*=*=*=*=*=*=*=*=*=*=*=*=*=*=*=*=*=*=*=*=*=*=*=*=*=*=*=*=*=*=*=*=*=*=*=\n"
          ],
          "name": "stdout"
        },
        {
          "output_type": "stream",
          "text": [
            "loss:4469.92724609375: 100%|██████████| 323/323 [00:47<00:00,  6.77it/s]\n",
            "100%|██████████| 81/81 [00:08<00:00,  9.09it/s]\n",
            "  0%|          | 0/323 [00:00<?, ?it/s]"
          ],
          "name": "stderr"
        },
        {
          "output_type": "stream",
          "text": [
            "*=*=*=*=*=*=*=*=*=*=*=*=*=*=*=*=*=*=*=*=*=*=*=*=*=*=*=*=*=*=*=*=*=*=*=*=*=*=*=*=*=*=*=*=*=*=*=*=*=*=\n",
            "fold 2 EPOCH 16: mean position error with floor 534.1071064897311\n",
            "fold 2 EPOCH 16: mean position error without floor 408.5763680387409\n",
            "*=*=*=*=*=*=*=*=*=*=*=*=*=*=*=*=*=*=*=*=*=*=*=*=*=*=*=*=*=*=*=*=*=*=*=*=*=*=*=*=*=*=*=*=*=*=*=*=*=*=\n"
          ],
          "name": "stdout"
        },
        {
          "output_type": "stream",
          "text": [
            "loss:4381.01611328125: 100%|██████████| 323/323 [00:47<00:00,  6.84it/s]\n",
            "100%|██████████| 81/81 [00:09<00:00,  8.87it/s]\n",
            "  0%|          | 0/323 [00:00<?, ?it/s]"
          ],
          "name": "stderr"
        },
        {
          "output_type": "stream",
          "text": [
            "*=*=*=*=*=*=*=*=*=*=*=*=*=*=*=*=*=*=*=*=*=*=*=*=*=*=*=*=*=*=*=*=*=*=*=*=*=*=*=*=*=*=*=*=*=*=*=*=*=*=\n",
            "fold 2 EPOCH 17: mean position error with floor 532.881968283636\n",
            "fold 2 EPOCH 17: mean position error without floor 407.35123486682807\n",
            "*=*=*=*=*=*=*=*=*=*=*=*=*=*=*=*=*=*=*=*=*=*=*=*=*=*=*=*=*=*=*=*=*=*=*=*=*=*=*=*=*=*=*=*=*=*=*=*=*=*=\n"
          ],
          "name": "stdout"
        },
        {
          "output_type": "stream",
          "text": [
            "loss:4322.76025390625: 100%|██████████| 323/323 [00:48<00:00,  6.68it/s]\n",
            "100%|██████████| 81/81 [00:09<00:00,  8.95it/s]\n",
            "  0%|          | 0/323 [00:00<?, ?it/s]"
          ],
          "name": "stderr"
        },
        {
          "output_type": "stream",
          "text": [
            "*=*=*=*=*=*=*=*=*=*=*=*=*=*=*=*=*=*=*=*=*=*=*=*=*=*=*=*=*=*=*=*=*=*=*=*=*=*=*=*=*=*=*=*=*=*=*=*=*=*=\n",
            "fold 2 EPOCH 18: mean position error with floor 532.476890680686\n",
            "fold 2 EPOCH 18: mean position error without floor 406.9461501210654\n",
            "*=*=*=*=*=*=*=*=*=*=*=*=*=*=*=*=*=*=*=*=*=*=*=*=*=*=*=*=*=*=*=*=*=*=*=*=*=*=*=*=*=*=*=*=*=*=*=*=*=*=\n"
          ],
          "name": "stdout"
        },
        {
          "output_type": "stream",
          "text": [
            "loss:4285.560546875: 100%|██████████| 323/323 [00:48<00:00,  6.68it/s]\n",
            "100%|██████████| 81/81 [00:09<00:00,  8.81it/s]\n",
            "  0%|          | 0/323 [00:00<?, ?it/s]"
          ],
          "name": "stderr"
        },
        {
          "output_type": "stream",
          "text": [
            "*=*=*=*=*=*=*=*=*=*=*=*=*=*=*=*=*=*=*=*=*=*=*=*=*=*=*=*=*=*=*=*=*=*=*=*=*=*=*=*=*=*=*=*=*=*=*=*=*=*=\n",
            "fold 2 EPOCH 19: mean position error with floor 532.5807887115433\n",
            "fold 2 EPOCH 19: mean position error without floor 407.05002421307506\n",
            "*=*=*=*=*=*=*=*=*=*=*=*=*=*=*=*=*=*=*=*=*=*=*=*=*=*=*=*=*=*=*=*=*=*=*=*=*=*=*=*=*=*=*=*=*=*=*=*=*=*=\n"
          ],
          "name": "stdout"
        },
        {
          "output_type": "stream",
          "text": [
            "loss:4264.51953125: 100%|██████████| 323/323 [00:47<00:00,  6.77it/s]\n",
            "100%|██████████| 81/81 [00:09<00:00,  8.93it/s]\n",
            "  0%|          | 0/323 [00:00<?, ?it/s]"
          ],
          "name": "stderr"
        },
        {
          "output_type": "stream",
          "text": [
            "*=*=*=*=*=*=*=*=*=*=*=*=*=*=*=*=*=*=*=*=*=*=*=*=*=*=*=*=*=*=*=*=*=*=*=*=*=*=*=*=*=*=*=*=*=*=*=*=*=*=\n",
            "fold 2 EPOCH 20: mean position error with floor 532.927570488144\n",
            "fold 2 EPOCH 20: mean position error without floor 407.39685230024213\n",
            "*=*=*=*=*=*=*=*=*=*=*=*=*=*=*=*=*=*=*=*=*=*=*=*=*=*=*=*=*=*=*=*=*=*=*=*=*=*=*=*=*=*=*=*=*=*=*=*=*=*=\n"
          ],
          "name": "stdout"
        },
        {
          "output_type": "stream",
          "text": [
            "loss:4252.28955078125: 100%|██████████| 323/323 [00:48<00:00,  6.71it/s]\n",
            "100%|██████████| 81/81 [00:09<00:00,  8.64it/s]\n",
            "  0%|          | 0/323 [00:00<?, ?it/s]"
          ],
          "name": "stderr"
        },
        {
          "output_type": "stream",
          "text": [
            "*=*=*=*=*=*=*=*=*=*=*=*=*=*=*=*=*=*=*=*=*=*=*=*=*=*=*=*=*=*=*=*=*=*=*=*=*=*=*=*=*=*=*=*=*=*=*=*=*=*=\n",
            "fold 2 EPOCH 21: mean position error with floor 533.3475501263315\n",
            "fold 2 EPOCH 21: mean position error without floor 407.816803874092\n",
            "*=*=*=*=*=*=*=*=*=*=*=*=*=*=*=*=*=*=*=*=*=*=*=*=*=*=*=*=*=*=*=*=*=*=*=*=*=*=*=*=*=*=*=*=*=*=*=*=*=*=\n"
          ],
          "name": "stdout"
        },
        {
          "output_type": "stream",
          "text": [
            "loss:4247.52685546875: 100%|██████████| 323/323 [00:48<00:00,  6.71it/s]\n",
            "100%|██████████| 81/81 [00:09<00:00,  8.82it/s]\n",
            "  0%|          | 0/323 [00:00<?, ?it/s]"
          ],
          "name": "stderr"
        },
        {
          "output_type": "stream",
          "text": [
            "*=*=*=*=*=*=*=*=*=*=*=*=*=*=*=*=*=*=*=*=*=*=*=*=*=*=*=*=*=*=*=*=*=*=*=*=*=*=*=*=*=*=*=*=*=*=*=*=*=*=\n",
            "fold 2 EPOCH 22: mean position error with floor 533.7297262940338\n",
            "fold 2 EPOCH 22: mean position error without floor 408.19898305084746\n",
            "*=*=*=*=*=*=*=*=*=*=*=*=*=*=*=*=*=*=*=*=*=*=*=*=*=*=*=*=*=*=*=*=*=*=*=*=*=*=*=*=*=*=*=*=*=*=*=*=*=*=\n"
          ],
          "name": "stdout"
        },
        {
          "output_type": "stream",
          "text": [
            "loss:4245.150390625: 100%|██████████| 323/323 [00:48<00:00,  6.71it/s]\n",
            "100%|██████████| 81/81 [00:09<00:00,  8.71it/s]\n",
            "  0%|          | 0/323 [00:00<?, ?it/s]"
          ],
          "name": "stderr"
        },
        {
          "output_type": "stream",
          "text": [
            "*=*=*=*=*=*=*=*=*=*=*=*=*=*=*=*=*=*=*=*=*=*=*=*=*=*=*=*=*=*=*=*=*=*=*=*=*=*=*=*=*=*=*=*=*=*=*=*=*=*=\n",
            "fold 2 EPOCH 23: mean position error with floor 533.9968960274016\n",
            "fold 2 EPOCH 23: mean position error without floor 408.46615012106537\n",
            "*=*=*=*=*=*=*=*=*=*=*=*=*=*=*=*=*=*=*=*=*=*=*=*=*=*=*=*=*=*=*=*=*=*=*=*=*=*=*=*=*=*=*=*=*=*=*=*=*=*=\n"
          ],
          "name": "stdout"
        },
        {
          "output_type": "stream",
          "text": [
            "loss:4244.8369140625: 100%|██████████| 323/323 [00:47<00:00,  6.75it/s]\n",
            "100%|██████████| 81/81 [00:09<00:00,  8.79it/s]\n",
            "  0%|          | 0/323 [00:00<?, ?it/s]"
          ],
          "name": "stderr"
        },
        {
          "output_type": "stream",
          "text": [
            "*=*=*=*=*=*=*=*=*=*=*=*=*=*=*=*=*=*=*=*=*=*=*=*=*=*=*=*=*=*=*=*=*=*=*=*=*=*=*=*=*=*=*=*=*=*=*=*=*=*=\n",
            "fold 2 EPOCH 24: mean position error with floor 534.2140890444335\n",
            "fold 2 EPOCH 24: mean position error without floor 408.6833414043584\n",
            "*=*=*=*=*=*=*=*=*=*=*=*=*=*=*=*=*=*=*=*=*=*=*=*=*=*=*=*=*=*=*=*=*=*=*=*=*=*=*=*=*=*=*=*=*=*=*=*=*=*=\n"
          ],
          "name": "stdout"
        },
        {
          "output_type": "stream",
          "text": [
            "loss:4244.25: 100%|██████████| 323/323 [00:47<00:00,  6.73it/s]\n",
            "100%|██████████| 81/81 [00:08<00:00,  9.01it/s]\n",
            "  0%|          | 0/323 [00:00<?, ?it/s]"
          ],
          "name": "stderr"
        },
        {
          "output_type": "stream",
          "text": [
            "*=*=*=*=*=*=*=*=*=*=*=*=*=*=*=*=*=*=*=*=*=*=*=*=*=*=*=*=*=*=*=*=*=*=*=*=*=*=*=*=*=*=*=*=*=*=*=*=*=*=\n",
            "fold 2 EPOCH 25: mean position error with floor 534.3170243531941\n",
            "fold 2 EPOCH 25: mean position error without floor 408.7862469733656\n",
            "*=*=*=*=*=*=*=*=*=*=*=*=*=*=*=*=*=*=*=*=*=*=*=*=*=*=*=*=*=*=*=*=*=*=*=*=*=*=*=*=*=*=*=*=*=*=*=*=*=*=\n"
          ],
          "name": "stdout"
        },
        {
          "output_type": "stream",
          "text": [
            "loss:4243.482421875: 100%|██████████| 323/323 [00:48<00:00,  6.68it/s]\n",
            "100%|██████████| 81/81 [00:09<00:00,  8.87it/s]\n",
            "  0%|          | 0/323 [00:00<?, ?it/s]"
          ],
          "name": "stderr"
        },
        {
          "output_type": "stream",
          "text": [
            "*=*=*=*=*=*=*=*=*=*=*=*=*=*=*=*=*=*=*=*=*=*=*=*=*=*=*=*=*=*=*=*=*=*=*=*=*=*=*=*=*=*=*=*=*=*=*=*=*=*=\n",
            "fold 2 EPOCH 26: mean position error with floor 534.3673164439779\n",
            "fold 2 EPOCH 26: mean position error without floor 408.8365617433414\n",
            "*=*=*=*=*=*=*=*=*=*=*=*=*=*=*=*=*=*=*=*=*=*=*=*=*=*=*=*=*=*=*=*=*=*=*=*=*=*=*=*=*=*=*=*=*=*=*=*=*=*=\n"
          ],
          "name": "stdout"
        },
        {
          "output_type": "stream",
          "text": [
            "loss:4244.2138671875: 100%|██████████| 323/323 [00:48<00:00,  6.69it/s]\n",
            "100%|██████████| 81/81 [00:09<00:00,  8.74it/s]\n",
            "  0%|          | 0/323 [00:00<?, ?it/s]"
          ],
          "name": "stderr"
        },
        {
          "output_type": "stream",
          "text": [
            "*=*=*=*=*=*=*=*=*=*=*=*=*=*=*=*=*=*=*=*=*=*=*=*=*=*=*=*=*=*=*=*=*=*=*=*=*=*=*=*=*=*=*=*=*=*=*=*=*=*=\n",
            "fold 2 EPOCH 27: mean position error with floor 534.3644247669862\n",
            "fold 2 EPOCH 27: mean position error without floor 408.8336561743341\n",
            "*=*=*=*=*=*=*=*=*=*=*=*=*=*=*=*=*=*=*=*=*=*=*=*=*=*=*=*=*=*=*=*=*=*=*=*=*=*=*=*=*=*=*=*=*=*=*=*=*=*=\n"
          ],
          "name": "stdout"
        },
        {
          "output_type": "stream",
          "text": [
            "loss:4243.3740234375: 100%|██████████| 323/323 [00:47<00:00,  6.75it/s]\n",
            "100%|██████████| 81/81 [00:09<00:00,  8.72it/s]\n",
            "  0%|          | 0/323 [00:00<?, ?it/s]"
          ],
          "name": "stderr"
        },
        {
          "output_type": "stream",
          "text": [
            "*=*=*=*=*=*=*=*=*=*=*=*=*=*=*=*=*=*=*=*=*=*=*=*=*=*=*=*=*=*=*=*=*=*=*=*=*=*=*=*=*=*=*=*=*=*=*=*=*=*=\n",
            "fold 2 EPOCH 28: mean position error with floor 534.4018714869686\n",
            "fold 2 EPOCH 28: mean position error without floor 408.87108958837774\n",
            "*=*=*=*=*=*=*=*=*=*=*=*=*=*=*=*=*=*=*=*=*=*=*=*=*=*=*=*=*=*=*=*=*=*=*=*=*=*=*=*=*=*=*=*=*=*=*=*=*=*=\n"
          ],
          "name": "stdout"
        },
        {
          "output_type": "stream",
          "text": [
            "loss:4242.59228515625: 100%|██████████| 323/323 [00:48<00:00,  6.71it/s]\n",
            "100%|██████████| 81/81 [00:09<00:00,  8.71it/s]\n",
            "  0%|          | 0/323 [00:00<?, ?it/s]"
          ],
          "name": "stderr"
        },
        {
          "output_type": "stream",
          "text": [
            "*=*=*=*=*=*=*=*=*=*=*=*=*=*=*=*=*=*=*=*=*=*=*=*=*=*=*=*=*=*=*=*=*=*=*=*=*=*=*=*=*=*=*=*=*=*=*=*=*=*=\n",
            "fold 2 EPOCH 29: mean position error with floor 534.3972093756406\n",
            "fold 2 EPOCH 29: mean position error without floor 408.8664891041162\n",
            "*=*=*=*=*=*=*=*=*=*=*=*=*=*=*=*=*=*=*=*=*=*=*=*=*=*=*=*=*=*=*=*=*=*=*=*=*=*=*=*=*=*=*=*=*=*=*=*=*=*=\n"
          ],
          "name": "stdout"
        },
        {
          "output_type": "stream",
          "text": [
            "loss:4242.93017578125: 100%|██████████| 323/323 [00:49<00:00,  6.50it/s]\n",
            "100%|██████████| 81/81 [00:09<00:00,  8.65it/s]\n",
            "  0%|          | 0/323 [00:00<?, ?it/s]"
          ],
          "name": "stderr"
        },
        {
          "output_type": "stream",
          "text": [
            "*=*=*=*=*=*=*=*=*=*=*=*=*=*=*=*=*=*=*=*=*=*=*=*=*=*=*=*=*=*=*=*=*=*=*=*=*=*=*=*=*=*=*=*=*=*=*=*=*=*=\n",
            "fold 2 EPOCH 30: mean position error with floor 534.3613422176625\n",
            "fold 2 EPOCH 30: mean position error without floor 408.83060532687654\n",
            "*=*=*=*=*=*=*=*=*=*=*=*=*=*=*=*=*=*=*=*=*=*=*=*=*=*=*=*=*=*=*=*=*=*=*=*=*=*=*=*=*=*=*=*=*=*=*=*=*=*=\n"
          ],
          "name": "stdout"
        },
        {
          "output_type": "stream",
          "text": [
            "loss:4242.794921875: 100%|██████████| 323/323 [00:48<00:00,  6.61it/s]\n",
            "100%|██████████| 81/81 [00:09<00:00,  8.66it/s]\n",
            "  0%|          | 0/323 [00:00<?, ?it/s]"
          ],
          "name": "stderr"
        },
        {
          "output_type": "stream",
          "text": [
            "*=*=*=*=*=*=*=*=*=*=*=*=*=*=*=*=*=*=*=*=*=*=*=*=*=*=*=*=*=*=*=*=*=*=*=*=*=*=*=*=*=*=*=*=*=*=*=*=*=*=\n",
            "fold 2 EPOCH 31: mean position error with floor 534.3599893852181\n",
            "fold 2 EPOCH 31: mean position error without floor 408.8292493946731\n",
            "*=*=*=*=*=*=*=*=*=*=*=*=*=*=*=*=*=*=*=*=*=*=*=*=*=*=*=*=*=*=*=*=*=*=*=*=*=*=*=*=*=*=*=*=*=*=*=*=*=*=\n"
          ],
          "name": "stdout"
        },
        {
          "output_type": "stream",
          "text": [
            "loss:4241.5341796875: 100%|██████████| 323/323 [00:48<00:00,  6.60it/s]\n",
            "100%|██████████| 81/81 [00:09<00:00,  8.81it/s]\n",
            "  0%|          | 0/323 [00:00<?, ?it/s]"
          ],
          "name": "stderr"
        },
        {
          "output_type": "stream",
          "text": [
            "*=*=*=*=*=*=*=*=*=*=*=*=*=*=*=*=*=*=*=*=*=*=*=*=*=*=*=*=*=*=*=*=*=*=*=*=*=*=*=*=*=*=*=*=*=*=*=*=*=*=\n",
            "fold 2 EPOCH 32: mean position error with floor 534.3632283961975\n",
            "fold 2 EPOCH 32: mean position error without floor 408.83244552058113\n",
            "*=*=*=*=*=*=*=*=*=*=*=*=*=*=*=*=*=*=*=*=*=*=*=*=*=*=*=*=*=*=*=*=*=*=*=*=*=*=*=*=*=*=*=*=*=*=*=*=*=*=\n"
          ],
          "name": "stdout"
        },
        {
          "output_type": "stream",
          "text": [
            "loss:4237.99365234375: 100%|██████████| 323/323 [00:49<00:00,  6.58it/s]\n",
            "100%|██████████| 81/81 [00:09<00:00,  8.72it/s]\n",
            "  0%|          | 0/323 [00:00<?, ?it/s]"
          ],
          "name": "stderr"
        },
        {
          "output_type": "stream",
          "text": [
            "*=*=*=*=*=*=*=*=*=*=*=*=*=*=*=*=*=*=*=*=*=*=*=*=*=*=*=*=*=*=*=*=*=*=*=*=*=*=*=*=*=*=*=*=*=*=*=*=*=*=\n",
            "fold 2 EPOCH 33: mean position error with floor 531.7373250791351\n",
            "fold 2 EPOCH 33: mean position error without floor 406.20658595641646\n",
            "*=*=*=*=*=*=*=*=*=*=*=*=*=*=*=*=*=*=*=*=*=*=*=*=*=*=*=*=*=*=*=*=*=*=*=*=*=*=*=*=*=*=*=*=*=*=*=*=*=*=\n"
          ],
          "name": "stdout"
        },
        {
          "output_type": "stream",
          "text": [
            "loss:4012.417236328125: 100%|██████████| 323/323 [00:49<00:00,  6.52it/s]\n",
            "100%|██████████| 81/81 [00:09<00:00,  8.57it/s]\n",
            "  0%|          | 0/323 [00:00<?, ?it/s]"
          ],
          "name": "stderr"
        },
        {
          "output_type": "stream",
          "text": [
            "*=*=*=*=*=*=*=*=*=*=*=*=*=*=*=*=*=*=*=*=*=*=*=*=*=*=*=*=*=*=*=*=*=*=*=*=*=*=*=*=*=*=*=*=*=*=*=*=*=*=\n",
            "fold 2 EPOCH 34: mean position error with floor 481.5503420261205\n",
            "fold 2 EPOCH 34: mean position error without floor 356.01961259079906\n",
            "*=*=*=*=*=*=*=*=*=*=*=*=*=*=*=*=*=*=*=*=*=*=*=*=*=*=*=*=*=*=*=*=*=*=*=*=*=*=*=*=*=*=*=*=*=*=*=*=*=*=\n"
          ],
          "name": "stdout"
        },
        {
          "output_type": "stream",
          "text": [
            "loss:2635.92138671875: 100%|██████████| 323/323 [00:49<00:00,  6.47it/s]\n",
            "100%|██████████| 81/81 [00:09<00:00,  8.74it/s]\n",
            "  0%|          | 0/323 [00:00<?, ?it/s]"
          ],
          "name": "stderr"
        },
        {
          "output_type": "stream",
          "text": [
            "*=*=*=*=*=*=*=*=*=*=*=*=*=*=*=*=*=*=*=*=*=*=*=*=*=*=*=*=*=*=*=*=*=*=*=*=*=*=*=*=*=*=*=*=*=*=*=*=*=*=\n",
            "fold 2 EPOCH 35: mean position error with floor 394.6125468634455\n",
            "fold 2 EPOCH 35: mean position error without floor 269.08200968523005\n",
            "*=*=*=*=*=*=*=*=*=*=*=*=*=*=*=*=*=*=*=*=*=*=*=*=*=*=*=*=*=*=*=*=*=*=*=*=*=*=*=*=*=*=*=*=*=*=*=*=*=*=\n"
          ],
          "name": "stdout"
        },
        {
          "output_type": "stream",
          "text": [
            "loss:2181.120361328125: 100%|██████████| 323/323 [00:49<00:00,  6.51it/s]\n",
            "100%|██████████| 81/81 [00:09<00:00,  8.50it/s]\n",
            "  0%|          | 0/323 [00:00<?, ?it/s]"
          ],
          "name": "stderr"
        },
        {
          "output_type": "stream",
          "text": [
            "*=*=*=*=*=*=*=*=*=*=*=*=*=*=*=*=*=*=*=*=*=*=*=*=*=*=*=*=*=*=*=*=*=*=*=*=*=*=*=*=*=*=*=*=*=*=*=*=*=*=\n",
            "fold 2 EPOCH 36: mean position error with floor 380.52830164013346\n",
            "fold 2 EPOCH 36: mean position error without floor 254.99753026634383\n",
            "*=*=*=*=*=*=*=*=*=*=*=*=*=*=*=*=*=*=*=*=*=*=*=*=*=*=*=*=*=*=*=*=*=*=*=*=*=*=*=*=*=*=*=*=*=*=*=*=*=*=\n"
          ],
          "name": "stdout"
        },
        {
          "output_type": "stream",
          "text": [
            "loss:2034.917236328125: 100%|██████████| 323/323 [00:49<00:00,  6.53it/s]\n",
            "100%|██████████| 81/81 [00:09<00:00,  8.71it/s]\n",
            "  0%|          | 0/323 [00:00<?, ?it/s]"
          ],
          "name": "stderr"
        },
        {
          "output_type": "stream",
          "text": [
            "*=*=*=*=*=*=*=*=*=*=*=*=*=*=*=*=*=*=*=*=*=*=*=*=*=*=*=*=*=*=*=*=*=*=*=*=*=*=*=*=*=*=*=*=*=*=*=*=*=*=\n",
            "fold 2 EPOCH 37: mean position error with floor 372.4863080794788\n",
            "fold 2 EPOCH 37: mean position error without floor 246.95554479418885\n",
            "*=*=*=*=*=*=*=*=*=*=*=*=*=*=*=*=*=*=*=*=*=*=*=*=*=*=*=*=*=*=*=*=*=*=*=*=*=*=*=*=*=*=*=*=*=*=*=*=*=*=\n"
          ],
          "name": "stdout"
        },
        {
          "output_type": "stream",
          "text": [
            "loss:1919.50390625: 100%|██████████| 323/323 [00:49<00:00,  6.54it/s]\n",
            "100%|██████████| 81/81 [00:09<00:00,  8.89it/s]\n",
            "  0%|          | 0/323 [00:00<?, ?it/s]"
          ],
          "name": "stderr"
        },
        {
          "output_type": "stream",
          "text": [
            "*=*=*=*=*=*=*=*=*=*=*=*=*=*=*=*=*=*=*=*=*=*=*=*=*=*=*=*=*=*=*=*=*=*=*=*=*=*=*=*=*=*=*=*=*=*=*=*=*=*=\n",
            "fold 2 EPOCH 38: mean position error with floor 359.1394544615974\n",
            "fold 2 EPOCH 38: mean position error without floor 233.60866828087168\n",
            "*=*=*=*=*=*=*=*=*=*=*=*=*=*=*=*=*=*=*=*=*=*=*=*=*=*=*=*=*=*=*=*=*=*=*=*=*=*=*=*=*=*=*=*=*=*=*=*=*=*=\n"
          ],
          "name": "stdout"
        },
        {
          "output_type": "stream",
          "text": [
            "loss:1642.9417724609375: 100%|██████████| 323/323 [00:48<00:00,  6.66it/s]\n",
            "100%|██████████| 81/81 [00:09<00:00,  8.93it/s]\n",
            "  0%|          | 0/323 [00:00<?, ?it/s]"
          ],
          "name": "stderr"
        },
        {
          "output_type": "stream",
          "text": [
            "*=*=*=*=*=*=*=*=*=*=*=*=*=*=*=*=*=*=*=*=*=*=*=*=*=*=*=*=*=*=*=*=*=*=*=*=*=*=*=*=*=*=*=*=*=*=*=*=*=*=\n",
            "fold 2 EPOCH 39: mean position error with floor 328.41749325308615\n",
            "fold 2 EPOCH 39: mean position error without floor 202.8871549636804\n",
            "*=*=*=*=*=*=*=*=*=*=*=*=*=*=*=*=*=*=*=*=*=*=*=*=*=*=*=*=*=*=*=*=*=*=*=*=*=*=*=*=*=*=*=*=*=*=*=*=*=*=\n"
          ],
          "name": "stdout"
        },
        {
          "output_type": "stream",
          "text": [
            "loss:1380.4654541015625: 100%|██████████| 323/323 [00:48<00:00,  6.62it/s]\n",
            "100%|██████████| 81/81 [00:09<00:00,  8.62it/s]\n",
            "  0%|          | 0/323 [00:00<?, ?it/s]"
          ],
          "name": "stderr"
        },
        {
          "output_type": "stream",
          "text": [
            "*=*=*=*=*=*=*=*=*=*=*=*=*=*=*=*=*=*=*=*=*=*=*=*=*=*=*=*=*=*=*=*=*=*=*=*=*=*=*=*=*=*=*=*=*=*=*=*=*=*=\n",
            "fold 2 EPOCH 40: mean position error with floor 304.2312310180335\n",
            "fold 2 EPOCH 40: mean position error without floor 178.7011259079903\n",
            "*=*=*=*=*=*=*=*=*=*=*=*=*=*=*=*=*=*=*=*=*=*=*=*=*=*=*=*=*=*=*=*=*=*=*=*=*=*=*=*=*=*=*=*=*=*=*=*=*=*=\n"
          ],
          "name": "stdout"
        },
        {
          "output_type": "stream",
          "text": [
            "loss:1093.387939453125: 100%|██████████| 323/323 [00:48<00:00,  6.64it/s]\n",
            "100%|██████████| 81/81 [00:09<00:00,  8.85it/s]\n",
            "  0%|          | 0/323 [00:00<?, ?it/s]"
          ],
          "name": "stderr"
        },
        {
          "output_type": "stream",
          "text": [
            "*=*=*=*=*=*=*=*=*=*=*=*=*=*=*=*=*=*=*=*=*=*=*=*=*=*=*=*=*=*=*=*=*=*=*=*=*=*=*=*=*=*=*=*=*=*=*=*=*=*=\n",
            "fold 2 EPOCH 41: mean position error with floor 282.50866639497855\n",
            "fold 2 EPOCH 41: mean position error without floor 156.9778329297821\n",
            "*=*=*=*=*=*=*=*=*=*=*=*=*=*=*=*=*=*=*=*=*=*=*=*=*=*=*=*=*=*=*=*=*=*=*=*=*=*=*=*=*=*=*=*=*=*=*=*=*=*=\n"
          ],
          "name": "stdout"
        },
        {
          "output_type": "stream",
          "text": [
            "loss:900.212646484375: 100%|██████████| 323/323 [00:48<00:00,  6.64it/s]\n",
            "100%|██████████| 81/81 [00:09<00:00,  8.81it/s]\n",
            "  0%|          | 0/323 [00:00<?, ?it/s]"
          ],
          "name": "stderr"
        },
        {
          "output_type": "stream",
          "text": [
            "*=*=*=*=*=*=*=*=*=*=*=*=*=*=*=*=*=*=*=*=*=*=*=*=*=*=*=*=*=*=*=*=*=*=*=*=*=*=*=*=*=*=*=*=*=*=*=*=*=*=\n",
            "fold 2 EPOCH 42: mean position error with floor 262.40353777907734\n",
            "fold 2 EPOCH 42: mean position error without floor 136.8713680387409\n",
            "*=*=*=*=*=*=*=*=*=*=*=*=*=*=*=*=*=*=*=*=*=*=*=*=*=*=*=*=*=*=*=*=*=*=*=*=*=*=*=*=*=*=*=*=*=*=*=*=*=*=\n"
          ],
          "name": "stdout"
        },
        {
          "output_type": "stream",
          "text": [
            "loss:694.2800903320312: 100%|██████████| 323/323 [00:48<00:00,  6.63it/s]\n",
            "100%|██████████| 81/81 [00:09<00:00,  8.84it/s]\n",
            "  0%|          | 0/323 [00:00<?, ?it/s]"
          ],
          "name": "stderr"
        },
        {
          "output_type": "stream",
          "text": [
            "*=*=*=*=*=*=*=*=*=*=*=*=*=*=*=*=*=*=*=*=*=*=*=*=*=*=*=*=*=*=*=*=*=*=*=*=*=*=*=*=*=*=*=*=*=*=*=*=*=*=\n",
            "fold 2 EPOCH 43: mean position error with floor 242.5464444923906\n",
            "fold 2 EPOCH 43: mean position error without floor 117.01567796610169\n",
            "*=*=*=*=*=*=*=*=*=*=*=*=*=*=*=*=*=*=*=*=*=*=*=*=*=*=*=*=*=*=*=*=*=*=*=*=*=*=*=*=*=*=*=*=*=*=*=*=*=*=\n"
          ],
          "name": "stdout"
        },
        {
          "output_type": "stream",
          "text": [
            "loss:558.4678955078125: 100%|██████████| 323/323 [00:49<00:00,  6.56it/s]\n",
            "100%|██████████| 81/81 [00:09<00:00,  8.64it/s]\n",
            "  0%|          | 0/323 [00:00<?, ?it/s]"
          ],
          "name": "stderr"
        },
        {
          "output_type": "stream",
          "text": [
            "*=*=*=*=*=*=*=*=*=*=*=*=*=*=*=*=*=*=*=*=*=*=*=*=*=*=*=*=*=*=*=*=*=*=*=*=*=*=*=*=*=*=*=*=*=*=*=*=*=*=\n",
            "fold 2 EPOCH 44: mean position error with floor 229.99017731285954\n",
            "fold 2 EPOCH 44: mean position error without floor 104.45938256658596\n",
            "*=*=*=*=*=*=*=*=*=*=*=*=*=*=*=*=*=*=*=*=*=*=*=*=*=*=*=*=*=*=*=*=*=*=*=*=*=*=*=*=*=*=*=*=*=*=*=*=*=*=\n"
          ],
          "name": "stdout"
        },
        {
          "output_type": "stream",
          "text": [
            "loss:463.1321716308594: 100%|██████████| 323/323 [00:49<00:00,  6.51it/s]\n",
            "100%|██████████| 81/81 [00:09<00:00,  8.78it/s]\n",
            "  0%|          | 0/323 [00:00<?, ?it/s]"
          ],
          "name": "stderr"
        },
        {
          "output_type": "stream",
          "text": [
            "*=*=*=*=*=*=*=*=*=*=*=*=*=*=*=*=*=*=*=*=*=*=*=*=*=*=*=*=*=*=*=*=*=*=*=*=*=*=*=*=*=*=*=*=*=*=*=*=*=*=\n",
            "fold 2 EPOCH 45: mean position error with floor 219.4943630348532\n",
            "fold 2 EPOCH 45: mean position error without floor 93.96348668280872\n",
            "*=*=*=*=*=*=*=*=*=*=*=*=*=*=*=*=*=*=*=*=*=*=*=*=*=*=*=*=*=*=*=*=*=*=*=*=*=*=*=*=*=*=*=*=*=*=*=*=*=*=\n"
          ],
          "name": "stdout"
        },
        {
          "output_type": "stream",
          "text": [
            "loss:391.6181945800781: 100%|██████████| 323/323 [00:49<00:00,  6.54it/s]\n",
            "100%|██████████| 81/81 [00:09<00:00,  8.76it/s]\n",
            "  0%|          | 0/323 [00:00<?, ?it/s]"
          ],
          "name": "stderr"
        },
        {
          "output_type": "stream",
          "text": [
            "*=*=*=*=*=*=*=*=*=*=*=*=*=*=*=*=*=*=*=*=*=*=*=*=*=*=*=*=*=*=*=*=*=*=*=*=*=*=*=*=*=*=*=*=*=*=*=*=*=*=\n",
            "fold 2 EPOCH 46: mean position error with floor 212.3718857912712\n",
            "fold 2 EPOCH 46: mean position error without floor 86.84113196125908\n",
            "*=*=*=*=*=*=*=*=*=*=*=*=*=*=*=*=*=*=*=*=*=*=*=*=*=*=*=*=*=*=*=*=*=*=*=*=*=*=*=*=*=*=*=*=*=*=*=*=*=*=\n"
          ],
          "name": "stdout"
        },
        {
          "output_type": "stream",
          "text": [
            "loss:335.3501281738281: 100%|██████████| 323/323 [00:48<00:00,  6.61it/s]\n",
            "100%|██████████| 81/81 [00:09<00:00,  8.68it/s]\n",
            "  0%|          | 0/323 [00:00<?, ?it/s]"
          ],
          "name": "stderr"
        },
        {
          "output_type": "stream",
          "text": [
            "*=*=*=*=*=*=*=*=*=*=*=*=*=*=*=*=*=*=*=*=*=*=*=*=*=*=*=*=*=*=*=*=*=*=*=*=*=*=*=*=*=*=*=*=*=*=*=*=*=*=\n",
            "fold 2 EPOCH 47: mean position error with floor 206.7934006334087\n",
            "fold 2 EPOCH 47: mean position error without floor 81.26338377723971\n",
            "*=*=*=*=*=*=*=*=*=*=*=*=*=*=*=*=*=*=*=*=*=*=*=*=*=*=*=*=*=*=*=*=*=*=*=*=*=*=*=*=*=*=*=*=*=*=*=*=*=*=\n"
          ],
          "name": "stdout"
        },
        {
          "output_type": "stream",
          "text": [
            "loss:291.2330017089844: 100%|██████████| 323/323 [00:48<00:00,  6.61it/s]\n",
            "100%|██████████| 81/81 [00:09<00:00,  8.78it/s]\n",
            "  0%|          | 0/323 [00:00<?, ?it/s]"
          ],
          "name": "stderr"
        },
        {
          "output_type": "stream",
          "text": [
            "*=*=*=*=*=*=*=*=*=*=*=*=*=*=*=*=*=*=*=*=*=*=*=*=*=*=*=*=*=*=*=*=*=*=*=*=*=*=*=*=*=*=*=*=*=*=*=*=*=*=\n",
            "fold 2 EPOCH 48: mean position error with floor 200.69429505087706\n",
            "fold 2 EPOCH 48: mean position error without floor 75.16441888619855\n",
            "*=*=*=*=*=*=*=*=*=*=*=*=*=*=*=*=*=*=*=*=*=*=*=*=*=*=*=*=*=*=*=*=*=*=*=*=*=*=*=*=*=*=*=*=*=*=*=*=*=*=\n"
          ],
          "name": "stdout"
        },
        {
          "output_type": "stream",
          "text": [
            "loss:253.9902801513672: 100%|██████████| 323/323 [00:48<00:00,  6.60it/s]\n",
            "100%|██████████| 81/81 [00:09<00:00,  8.67it/s]\n",
            "  0%|          | 0/323 [00:00<?, ?it/s]"
          ],
          "name": "stderr"
        },
        {
          "output_type": "stream",
          "text": [
            "*=*=*=*=*=*=*=*=*=*=*=*=*=*=*=*=*=*=*=*=*=*=*=*=*=*=*=*=*=*=*=*=*=*=*=*=*=*=*=*=*=*=*=*=*=*=*=*=*=*=\n",
            "fold 2 EPOCH 49: mean position error with floor 195.94716617292195\n",
            "fold 2 EPOCH 49: mean position error without floor 70.41685230024213\n",
            "*=*=*=*=*=*=*=*=*=*=*=*=*=*=*=*=*=*=*=*=*=*=*=*=*=*=*=*=*=*=*=*=*=*=*=*=*=*=*=*=*=*=*=*=*=*=*=*=*=*=\n"
          ],
          "name": "stdout"
        },
        {
          "output_type": "stream",
          "text": [
            "loss:224.0341796875: 100%|██████████| 323/323 [00:48<00:00,  6.62it/s]\n",
            "100%|██████████| 81/81 [00:09<00:00,  8.81it/s]\n",
            "  0%|          | 0/323 [00:00<?, ?it/s]"
          ],
          "name": "stderr"
        },
        {
          "output_type": "stream",
          "text": [
            "*=*=*=*=*=*=*=*=*=*=*=*=*=*=*=*=*=*=*=*=*=*=*=*=*=*=*=*=*=*=*=*=*=*=*=*=*=*=*=*=*=*=*=*=*=*=*=*=*=*=\n",
            "fold 2 EPOCH 50: mean position error with floor 193.54136430132007\n",
            "fold 2 EPOCH 50: mean position error without floor 68.01060532687652\n",
            "*=*=*=*=*=*=*=*=*=*=*=*=*=*=*=*=*=*=*=*=*=*=*=*=*=*=*=*=*=*=*=*=*=*=*=*=*=*=*=*=*=*=*=*=*=*=*=*=*=*=\n"
          ],
          "name": "stdout"
        },
        {
          "output_type": "stream",
          "text": [
            "loss:198.9984893798828: 100%|██████████| 323/323 [00:48<00:00,  6.61it/s]\n",
            "100%|██████████| 81/81 [00:09<00:00,  8.75it/s]\n",
            "  0%|          | 0/323 [00:00<?, ?it/s]"
          ],
          "name": "stderr"
        },
        {
          "output_type": "stream",
          "text": [
            "*=*=*=*=*=*=*=*=*=*=*=*=*=*=*=*=*=*=*=*=*=*=*=*=*=*=*=*=*=*=*=*=*=*=*=*=*=*=*=*=*=*=*=*=*=*=*=*=*=*=\n",
            "fold 2 EPOCH 51: mean position error with floor 189.52616634243878\n",
            "fold 2 EPOCH 51: mean position error without floor 63.994636803874094\n",
            "*=*=*=*=*=*=*=*=*=*=*=*=*=*=*=*=*=*=*=*=*=*=*=*=*=*=*=*=*=*=*=*=*=*=*=*=*=*=*=*=*=*=*=*=*=*=*=*=*=*=\n"
          ],
          "name": "stdout"
        },
        {
          "output_type": "stream",
          "text": [
            "loss:178.2875213623047: 100%|██████████| 323/323 [00:48<00:00,  6.67it/s]\n",
            "100%|██████████| 81/81 [00:09<00:00,  8.72it/s]\n",
            "  0%|          | 0/323 [00:00<?, ?it/s]"
          ],
          "name": "stderr"
        },
        {
          "output_type": "stream",
          "text": [
            "*=*=*=*=*=*=*=*=*=*=*=*=*=*=*=*=*=*=*=*=*=*=*=*=*=*=*=*=*=*=*=*=*=*=*=*=*=*=*=*=*=*=*=*=*=*=*=*=*=*=\n",
            "fold 2 EPOCH 52: mean position error with floor 186.40950525487813\n",
            "fold 2 EPOCH 52: mean position error without floor 60.878389830508475\n",
            "*=*=*=*=*=*=*=*=*=*=*=*=*=*=*=*=*=*=*=*=*=*=*=*=*=*=*=*=*=*=*=*=*=*=*=*=*=*=*=*=*=*=*=*=*=*=*=*=*=*=\n"
          ],
          "name": "stdout"
        },
        {
          "output_type": "stream",
          "text": [
            "loss:159.4021453857422: 100%|██████████| 323/323 [00:48<00:00,  6.62it/s]\n",
            "100%|██████████| 81/81 [00:09<00:00,  8.87it/s]\n",
            "  0%|          | 0/323 [00:00<?, ?it/s]"
          ],
          "name": "stderr"
        },
        {
          "output_type": "stream",
          "text": [
            "*=*=*=*=*=*=*=*=*=*=*=*=*=*=*=*=*=*=*=*=*=*=*=*=*=*=*=*=*=*=*=*=*=*=*=*=*=*=*=*=*=*=*=*=*=*=*=*=*=*=\n",
            "fold 2 EPOCH 53: mean position error with floor 184.95013954586577\n",
            "fold 2 EPOCH 53: mean position error without floor 59.418541162227605\n",
            "*=*=*=*=*=*=*=*=*=*=*=*=*=*=*=*=*=*=*=*=*=*=*=*=*=*=*=*=*=*=*=*=*=*=*=*=*=*=*=*=*=*=*=*=*=*=*=*=*=*=\n"
          ],
          "name": "stdout"
        },
        {
          "output_type": "stream",
          "text": [
            "loss:144.16281127929688: 100%|██████████| 323/323 [00:48<00:00,  6.66it/s]\n",
            "100%|██████████| 81/81 [00:09<00:00,  8.84it/s]\n",
            "  0%|          | 0/323 [00:00<?, ?it/s]"
          ],
          "name": "stderr"
        },
        {
          "output_type": "stream",
          "text": [
            "*=*=*=*=*=*=*=*=*=*=*=*=*=*=*=*=*=*=*=*=*=*=*=*=*=*=*=*=*=*=*=*=*=*=*=*=*=*=*=*=*=*=*=*=*=*=*=*=*=*=\n",
            "fold 2 EPOCH 54: mean position error with floor 182.52301001906793\n",
            "fold 2 EPOCH 54: mean position error without floor 56.991870460048425\n",
            "*=*=*=*=*=*=*=*=*=*=*=*=*=*=*=*=*=*=*=*=*=*=*=*=*=*=*=*=*=*=*=*=*=*=*=*=*=*=*=*=*=*=*=*=*=*=*=*=*=*=\n"
          ],
          "name": "stdout"
        },
        {
          "output_type": "stream",
          "text": [
            "loss:128.9186553955078: 100%|██████████| 323/323 [00:48<00:00,  6.61it/s]\n",
            "100%|██████████| 81/81 [00:08<00:00,  9.14it/s]\n",
            "  0%|          | 0/323 [00:00<?, ?it/s]"
          ],
          "name": "stderr"
        },
        {
          "output_type": "stream",
          "text": [
            "*=*=*=*=*=*=*=*=*=*=*=*=*=*=*=*=*=*=*=*=*=*=*=*=*=*=*=*=*=*=*=*=*=*=*=*=*=*=*=*=*=*=*=*=*=*=*=*=*=*=\n",
            "fold 2 EPOCH 55: mean position error with floor 180.481402741781\n",
            "fold 2 EPOCH 55: mean position error without floor 54.950332929782086\n",
            "*=*=*=*=*=*=*=*=*=*=*=*=*=*=*=*=*=*=*=*=*=*=*=*=*=*=*=*=*=*=*=*=*=*=*=*=*=*=*=*=*=*=*=*=*=*=*=*=*=*=\n"
          ],
          "name": "stdout"
        },
        {
          "output_type": "stream",
          "text": [
            "loss:116.37437438964844: 100%|██████████| 323/323 [00:47<00:00,  6.75it/s]\n",
            "100%|██████████| 81/81 [00:09<00:00,  8.95it/s]\n",
            "  0%|          | 0/323 [00:00<?, ?it/s]"
          ],
          "name": "stderr"
        },
        {
          "output_type": "stream",
          "text": [
            "*=*=*=*=*=*=*=*=*=*=*=*=*=*=*=*=*=*=*=*=*=*=*=*=*=*=*=*=*=*=*=*=*=*=*=*=*=*=*=*=*=*=*=*=*=*=*=*=*=*=\n",
            "fold 2 EPOCH 56: mean position error with floor 179.36509465119542\n",
            "fold 2 EPOCH 56: mean position error without floor 53.83412832929782\n",
            "*=*=*=*=*=*=*=*=*=*=*=*=*=*=*=*=*=*=*=*=*=*=*=*=*=*=*=*=*=*=*=*=*=*=*=*=*=*=*=*=*=*=*=*=*=*=*=*=*=*=\n"
          ],
          "name": "stdout"
        },
        {
          "output_type": "stream",
          "text": [
            "loss:106.2643814086914: 100%|██████████| 323/323 [00:48<00:00,  6.70it/s]\n",
            "100%|██████████| 81/81 [00:09<00:00,  8.67it/s]\n",
            "  0%|          | 0/323 [00:00<?, ?it/s]"
          ],
          "name": "stderr"
        },
        {
          "output_type": "stream",
          "text": [
            "*=*=*=*=*=*=*=*=*=*=*=*=*=*=*=*=*=*=*=*=*=*=*=*=*=*=*=*=*=*=*=*=*=*=*=*=*=*=*=*=*=*=*=*=*=*=*=*=*=*=\n",
            "fold 2 EPOCH 57: mean position error with floor 177.95420708529966\n",
            "fold 2 EPOCH 57: mean position error without floor 52.423026634382566\n",
            "*=*=*=*=*=*=*=*=*=*=*=*=*=*=*=*=*=*=*=*=*=*=*=*=*=*=*=*=*=*=*=*=*=*=*=*=*=*=*=*=*=*=*=*=*=*=*=*=*=*=\n"
          ],
          "name": "stdout"
        },
        {
          "output_type": "stream",
          "text": [
            "loss:96.03181457519531: 100%|██████████| 323/323 [00:48<00:00,  6.69it/s]\n",
            "100%|██████████| 81/81 [00:09<00:00,  8.64it/s]\n",
            "  0%|          | 0/323 [00:00<?, ?it/s]"
          ],
          "name": "stderr"
        },
        {
          "output_type": "stream",
          "text": [
            "*=*=*=*=*=*=*=*=*=*=*=*=*=*=*=*=*=*=*=*=*=*=*=*=*=*=*=*=*=*=*=*=*=*=*=*=*=*=*=*=*=*=*=*=*=*=*=*=*=*=\n",
            "fold 2 EPOCH 58: mean position error with floor 177.00817595756408\n",
            "fold 2 EPOCH 58: mean position error without floor 51.47725181598063\n",
            "*=*=*=*=*=*=*=*=*=*=*=*=*=*=*=*=*=*=*=*=*=*=*=*=*=*=*=*=*=*=*=*=*=*=*=*=*=*=*=*=*=*=*=*=*=*=*=*=*=*=\n"
          ],
          "name": "stdout"
        },
        {
          "output_type": "stream",
          "text": [
            "loss:87.26880645751953: 100%|██████████| 323/323 [00:48<00:00,  6.67it/s]\n",
            "100%|██████████| 81/81 [00:08<00:00,  9.01it/s]\n",
            "  0%|          | 0/323 [00:00<?, ?it/s]"
          ],
          "name": "stderr"
        },
        {
          "output_type": "stream",
          "text": [
            "*=*=*=*=*=*=*=*=*=*=*=*=*=*=*=*=*=*=*=*=*=*=*=*=*=*=*=*=*=*=*=*=*=*=*=*=*=*=*=*=*=*=*=*=*=*=*=*=*=*=\n",
            "fold 2 EPOCH 59: mean position error with floor 177.0854426446676\n",
            "fold 2 EPOCH 59: mean position error without floor 51.554449152542375\n",
            "*=*=*=*=*=*=*=*=*=*=*=*=*=*=*=*=*=*=*=*=*=*=*=*=*=*=*=*=*=*=*=*=*=*=*=*=*=*=*=*=*=*=*=*=*=*=*=*=*=*=\n"
          ],
          "name": "stdout"
        },
        {
          "output_type": "stream",
          "text": [
            "loss:79.71675109863281: 100%|██████████| 323/323 [00:49<00:00,  6.59it/s]\n",
            "100%|██████████| 81/81 [00:09<00:00,  8.39it/s]\n",
            "  0%|          | 0/323 [00:00<?, ?it/s]"
          ],
          "name": "stderr"
        },
        {
          "output_type": "stream",
          "text": [
            "*=*=*=*=*=*=*=*=*=*=*=*=*=*=*=*=*=*=*=*=*=*=*=*=*=*=*=*=*=*=*=*=*=*=*=*=*=*=*=*=*=*=*=*=*=*=*=*=*=*=\n",
            "fold 2 EPOCH 60: mean position error with floor 175.33454116562558\n",
            "fold 2 EPOCH 60: mean position error without floor 49.80346852300242\n",
            "*=*=*=*=*=*=*=*=*=*=*=*=*=*=*=*=*=*=*=*=*=*=*=*=*=*=*=*=*=*=*=*=*=*=*=*=*=*=*=*=*=*=*=*=*=*=*=*=*=*=\n"
          ],
          "name": "stdout"
        },
        {
          "output_type": "stream",
          "text": [
            "loss:73.07960510253906: 100%|██████████| 323/323 [00:49<00:00,  6.59it/s]\n",
            "100%|██████████| 81/81 [00:09<00:00,  8.66it/s]\n",
            "  0%|          | 0/323 [00:00<?, ?it/s]"
          ],
          "name": "stderr"
        },
        {
          "output_type": "stream",
          "text": [
            "*=*=*=*=*=*=*=*=*=*=*=*=*=*=*=*=*=*=*=*=*=*=*=*=*=*=*=*=*=*=*=*=*=*=*=*=*=*=*=*=*=*=*=*=*=*=*=*=*=*=\n",
            "fold 2 EPOCH 61: mean position error with floor 174.45611273318167\n",
            "fold 2 EPOCH 61: mean position error without floor 48.925287530266345\n",
            "*=*=*=*=*=*=*=*=*=*=*=*=*=*=*=*=*=*=*=*=*=*=*=*=*=*=*=*=*=*=*=*=*=*=*=*=*=*=*=*=*=*=*=*=*=*=*=*=*=*=\n"
          ],
          "name": "stdout"
        },
        {
          "output_type": "stream",
          "text": [
            "loss:67.10400390625: 100%|██████████| 323/323 [00:48<00:00,  6.67it/s]\n",
            "100%|██████████| 81/81 [00:09<00:00,  8.91it/s]\n",
            "  0%|          | 0/323 [00:00<?, ?it/s]"
          ],
          "name": "stderr"
        },
        {
          "output_type": "stream",
          "text": [
            "*=*=*=*=*=*=*=*=*=*=*=*=*=*=*=*=*=*=*=*=*=*=*=*=*=*=*=*=*=*=*=*=*=*=*=*=*=*=*=*=*=*=*=*=*=*=*=*=*=*=\n",
            "fold 2 EPOCH 62: mean position error with floor 173.9231246215888\n",
            "fold 2 EPOCH 62: mean position error without floor 48.39200363196126\n",
            "*=*=*=*=*=*=*=*=*=*=*=*=*=*=*=*=*=*=*=*=*=*=*=*=*=*=*=*=*=*=*=*=*=*=*=*=*=*=*=*=*=*=*=*=*=*=*=*=*=*=\n"
          ],
          "name": "stdout"
        },
        {
          "output_type": "stream",
          "text": [
            "loss:62.05875015258789: 100%|██████████| 323/323 [00:48<00:00,  6.68it/s]\n",
            "100%|██████████| 81/81 [00:09<00:00,  8.81it/s]\n",
            "  0%|          | 0/323 [00:00<?, ?it/s]"
          ],
          "name": "stderr"
        },
        {
          "output_type": "stream",
          "text": [
            "*=*=*=*=*=*=*=*=*=*=*=*=*=*=*=*=*=*=*=*=*=*=*=*=*=*=*=*=*=*=*=*=*=*=*=*=*=*=*=*=*=*=*=*=*=*=*=*=*=*=\n",
            "fold 2 EPOCH 63: mean position error with floor 172.8221229819571\n",
            "fold 2 EPOCH 63: mean position error without floor 47.291092615012104\n",
            "*=*=*=*=*=*=*=*=*=*=*=*=*=*=*=*=*=*=*=*=*=*=*=*=*=*=*=*=*=*=*=*=*=*=*=*=*=*=*=*=*=*=*=*=*=*=*=*=*=*=\n"
          ],
          "name": "stdout"
        },
        {
          "output_type": "stream",
          "text": [
            "loss:57.435699462890625: 100%|██████████| 323/323 [00:48<00:00,  6.68it/s]\n",
            "100%|██████████| 81/81 [00:09<00:00,  8.85it/s]\n",
            "  0%|          | 0/323 [00:00<?, ?it/s]"
          ],
          "name": "stderr"
        },
        {
          "output_type": "stream",
          "text": [
            "*=*=*=*=*=*=*=*=*=*=*=*=*=*=*=*=*=*=*=*=*=*=*=*=*=*=*=*=*=*=*=*=*=*=*=*=*=*=*=*=*=*=*=*=*=*=*=*=*=*=\n",
            "fold 2 EPOCH 64: mean position error with floor 172.74128626929863\n",
            "fold 2 EPOCH 64: mean position error without floor 47.21017857142857\n",
            "*=*=*=*=*=*=*=*=*=*=*=*=*=*=*=*=*=*=*=*=*=*=*=*=*=*=*=*=*=*=*=*=*=*=*=*=*=*=*=*=*=*=*=*=*=*=*=*=*=*=\n"
          ],
          "name": "stdout"
        },
        {
          "output_type": "stream",
          "text": [
            "loss:53.312171936035156: 100%|██████████| 323/323 [00:48<00:00,  6.67it/s]\n",
            "100%|██████████| 81/81 [00:09<00:00,  8.84it/s]\n",
            "  0%|          | 0/323 [00:00<?, ?it/s]"
          ],
          "name": "stderr"
        },
        {
          "output_type": "stream",
          "text": [
            "*=*=*=*=*=*=*=*=*=*=*=*=*=*=*=*=*=*=*=*=*=*=*=*=*=*=*=*=*=*=*=*=*=*=*=*=*=*=*=*=*=*=*=*=*=*=*=*=*=*=\n",
            "fold 2 EPOCH 65: mean position error with floor 171.8982139533253\n",
            "fold 2 EPOCH 65: mean position error without floor 46.36732445520581\n",
            "*=*=*=*=*=*=*=*=*=*=*=*=*=*=*=*=*=*=*=*=*=*=*=*=*=*=*=*=*=*=*=*=*=*=*=*=*=*=*=*=*=*=*=*=*=*=*=*=*=*=\n"
          ],
          "name": "stdout"
        },
        {
          "output_type": "stream",
          "text": [
            "loss:49.745967864990234: 100%|██████████| 323/323 [00:48<00:00,  6.73it/s]\n",
            "100%|██████████| 81/81 [00:09<00:00,  8.98it/s]\n",
            "  0%|          | 0/323 [00:00<?, ?it/s]"
          ],
          "name": "stderr"
        },
        {
          "output_type": "stream",
          "text": [
            "*=*=*=*=*=*=*=*=*=*=*=*=*=*=*=*=*=*=*=*=*=*=*=*=*=*=*=*=*=*=*=*=*=*=*=*=*=*=*=*=*=*=*=*=*=*=*=*=*=*=\n",
            "fold 2 EPOCH 66: mean position error with floor 171.35053312543354\n",
            "fold 2 EPOCH 66: mean position error without floor 45.819830508474574\n",
            "*=*=*=*=*=*=*=*=*=*=*=*=*=*=*=*=*=*=*=*=*=*=*=*=*=*=*=*=*=*=*=*=*=*=*=*=*=*=*=*=*=*=*=*=*=*=*=*=*=*=\n"
          ],
          "name": "stdout"
        },
        {
          "output_type": "stream",
          "text": [
            "loss:46.2938117980957: 100%|██████████| 323/323 [00:48<00:00,  6.68it/s]\n",
            "100%|██████████| 81/81 [00:09<00:00,  8.99it/s]\n",
            "  0%|          | 0/323 [00:00<?, ?it/s]"
          ],
          "name": "stderr"
        },
        {
          "output_type": "stream",
          "text": [
            "*=*=*=*=*=*=*=*=*=*=*=*=*=*=*=*=*=*=*=*=*=*=*=*=*=*=*=*=*=*=*=*=*=*=*=*=*=*=*=*=*=*=*=*=*=*=*=*=*=*=\n",
            "fold 2 EPOCH 67: mean position error with floor 171.4129782017362\n",
            "fold 2 EPOCH 67: mean position error without floor 45.882046004842614\n",
            "*=*=*=*=*=*=*=*=*=*=*=*=*=*=*=*=*=*=*=*=*=*=*=*=*=*=*=*=*=*=*=*=*=*=*=*=*=*=*=*=*=*=*=*=*=*=*=*=*=*=\n"
          ],
          "name": "stdout"
        },
        {
          "output_type": "stream",
          "text": [
            "loss:43.39728546142578: 100%|██████████| 323/323 [00:48<00:00,  6.66it/s]\n",
            "100%|██████████| 81/81 [00:09<00:00,  8.76it/s]\n",
            "  0%|          | 0/323 [00:00<?, ?it/s]"
          ],
          "name": "stderr"
        },
        {
          "output_type": "stream",
          "text": [
            "*=*=*=*=*=*=*=*=*=*=*=*=*=*=*=*=*=*=*=*=*=*=*=*=*=*=*=*=*=*=*=*=*=*=*=*=*=*=*=*=*=*=*=*=*=*=*=*=*=*=\n",
            "fold 2 EPOCH 68: mean position error with floor 170.80758287296925\n",
            "fold 2 EPOCH 68: mean position error without floor 45.27686440677966\n",
            "*=*=*=*=*=*=*=*=*=*=*=*=*=*=*=*=*=*=*=*=*=*=*=*=*=*=*=*=*=*=*=*=*=*=*=*=*=*=*=*=*=*=*=*=*=*=*=*=*=*=\n"
          ],
          "name": "stdout"
        },
        {
          "output_type": "stream",
          "text": [
            "loss:40.45793151855469: 100%|██████████| 323/323 [00:48<00:00,  6.69it/s]\n",
            "100%|██████████| 81/81 [00:09<00:00,  8.97it/s]\n",
            "  0%|          | 0/323 [00:00<?, ?it/s]"
          ],
          "name": "stderr"
        },
        {
          "output_type": "stream",
          "text": [
            "*=*=*=*=*=*=*=*=*=*=*=*=*=*=*=*=*=*=*=*=*=*=*=*=*=*=*=*=*=*=*=*=*=*=*=*=*=*=*=*=*=*=*=*=*=*=*=*=*=*=\n",
            "fold 2 EPOCH 69: mean position error with floor 170.49793734777236\n",
            "fold 2 EPOCH 69: mean position error without floor 44.96703995157385\n",
            "*=*=*=*=*=*=*=*=*=*=*=*=*=*=*=*=*=*=*=*=*=*=*=*=*=*=*=*=*=*=*=*=*=*=*=*=*=*=*=*=*=*=*=*=*=*=*=*=*=*=\n"
          ],
          "name": "stdout"
        },
        {
          "output_type": "stream",
          "text": [
            "loss:38.307273864746094: 100%|██████████| 323/323 [00:48<00:00,  6.69it/s]\n",
            "100%|██████████| 81/81 [00:09<00:00,  8.98it/s]\n",
            "  0%|          | 0/323 [00:00<?, ?it/s]"
          ],
          "name": "stderr"
        },
        {
          "output_type": "stream",
          "text": [
            "*=*=*=*=*=*=*=*=*=*=*=*=*=*=*=*=*=*=*=*=*=*=*=*=*=*=*=*=*=*=*=*=*=*=*=*=*=*=*=*=*=*=*=*=*=*=*=*=*=*=\n",
            "fold 2 EPOCH 70: mean position error with floor 170.76363370296056\n",
            "fold 2 EPOCH 70: mean position error without floor 45.23284200968523\n",
            "*=*=*=*=*=*=*=*=*=*=*=*=*=*=*=*=*=*=*=*=*=*=*=*=*=*=*=*=*=*=*=*=*=*=*=*=*=*=*=*=*=*=*=*=*=*=*=*=*=*=\n"
          ],
          "name": "stdout"
        },
        {
          "output_type": "stream",
          "text": [
            "loss:35.68992233276367: 100%|██████████| 323/323 [00:48<00:00,  6.68it/s]\n",
            "100%|██████████| 81/81 [00:09<00:00,  8.76it/s]\n",
            "  0%|          | 0/323 [00:00<?, ?it/s]"
          ],
          "name": "stderr"
        },
        {
          "output_type": "stream",
          "text": [
            "*=*=*=*=*=*=*=*=*=*=*=*=*=*=*=*=*=*=*=*=*=*=*=*=*=*=*=*=*=*=*=*=*=*=*=*=*=*=*=*=*=*=*=*=*=*=*=*=*=*=\n",
            "fold 2 EPOCH 71: mean position error with floor 169.89876510396348\n",
            "fold 2 EPOCH 71: mean position error without floor 44.36800242130751\n",
            "*=*=*=*=*=*=*=*=*=*=*=*=*=*=*=*=*=*=*=*=*=*=*=*=*=*=*=*=*=*=*=*=*=*=*=*=*=*=*=*=*=*=*=*=*=*=*=*=*=*=\n"
          ],
          "name": "stdout"
        },
        {
          "output_type": "stream",
          "text": [
            "loss:33.97693634033203: 100%|██████████| 323/323 [00:48<00:00,  6.68it/s]\n",
            "100%|██████████| 81/81 [00:09<00:00,  8.83it/s]\n",
            "  0%|          | 0/323 [00:00<?, ?it/s]"
          ],
          "name": "stderr"
        },
        {
          "output_type": "stream",
          "text": [
            "*=*=*=*=*=*=*=*=*=*=*=*=*=*=*=*=*=*=*=*=*=*=*=*=*=*=*=*=*=*=*=*=*=*=*=*=*=*=*=*=*=*=*=*=*=*=*=*=*=*=\n",
            "fold 2 EPOCH 72: mean position error with floor 169.52315601994715\n",
            "fold 2 EPOCH 72: mean position error without floor 43.99230024213075\n",
            "*=*=*=*=*=*=*=*=*=*=*=*=*=*=*=*=*=*=*=*=*=*=*=*=*=*=*=*=*=*=*=*=*=*=*=*=*=*=*=*=*=*=*=*=*=*=*=*=*=*=\n"
          ],
          "name": "stdout"
        },
        {
          "output_type": "stream",
          "text": [
            "loss:31.95804786682129: 100%|██████████| 323/323 [00:48<00:00,  6.72it/s]\n",
            "100%|██████████| 81/81 [00:09<00:00,  8.74it/s]\n",
            "  0%|          | 0/323 [00:00<?, ?it/s]"
          ],
          "name": "stderr"
        },
        {
          "output_type": "stream",
          "text": [
            "*=*=*=*=*=*=*=*=*=*=*=*=*=*=*=*=*=*=*=*=*=*=*=*=*=*=*=*=*=*=*=*=*=*=*=*=*=*=*=*=*=*=*=*=*=*=*=*=*=*=\n",
            "fold 2 EPOCH 73: mean position error with floor 169.39264541233695\n",
            "fold 2 EPOCH 73: mean position error without floor 43.861277239709445\n",
            "*=*=*=*=*=*=*=*=*=*=*=*=*=*=*=*=*=*=*=*=*=*=*=*=*=*=*=*=*=*=*=*=*=*=*=*=*=*=*=*=*=*=*=*=*=*=*=*=*=*=\n"
          ],
          "name": "stdout"
        },
        {
          "output_type": "stream",
          "text": [
            "loss:30.188358306884766: 100%|██████████| 323/323 [00:48<00:00,  6.70it/s]\n",
            "100%|██████████| 81/81 [00:08<00:00,  9.05it/s]\n",
            "  0%|          | 0/323 [00:00<?, ?it/s]"
          ],
          "name": "stderr"
        },
        {
          "output_type": "stream",
          "text": [
            "*=*=*=*=*=*=*=*=*=*=*=*=*=*=*=*=*=*=*=*=*=*=*=*=*=*=*=*=*=*=*=*=*=*=*=*=*=*=*=*=*=*=*=*=*=*=*=*=*=*=\n",
            "fold 2 EPOCH 74: mean position error with floor 168.51646165721317\n",
            "fold 2 EPOCH 74: mean position error without floor 42.985027239709446\n",
            "*=*=*=*=*=*=*=*=*=*=*=*=*=*=*=*=*=*=*=*=*=*=*=*=*=*=*=*=*=*=*=*=*=*=*=*=*=*=*=*=*=*=*=*=*=*=*=*=*=*=\n"
          ],
          "name": "stdout"
        },
        {
          "output_type": "stream",
          "text": [
            "loss:28.417171478271484: 100%|██████████| 323/323 [00:48<00:00,  6.64it/s]\n",
            "100%|██████████| 81/81 [00:08<00:00,  9.01it/s]\n",
            "  0%|          | 0/323 [00:00<?, ?it/s]"
          ],
          "name": "stderr"
        },
        {
          "output_type": "stream",
          "text": [
            "*=*=*=*=*=*=*=*=*=*=*=*=*=*=*=*=*=*=*=*=*=*=*=*=*=*=*=*=*=*=*=*=*=*=*=*=*=*=*=*=*=*=*=*=*=*=*=*=*=*=\n",
            "fold 2 EPOCH 75: mean position error with floor 168.61812784515845\n",
            "fold 2 EPOCH 75: mean position error without floor 43.086776634382566\n",
            "*=*=*=*=*=*=*=*=*=*=*=*=*=*=*=*=*=*=*=*=*=*=*=*=*=*=*=*=*=*=*=*=*=*=*=*=*=*=*=*=*=*=*=*=*=*=*=*=*=*=\n"
          ],
          "name": "stdout"
        },
        {
          "output_type": "stream",
          "text": [
            "loss:26.779884338378906: 100%|██████████| 323/323 [00:49<00:00,  6.51it/s]\n",
            "100%|██████████| 81/81 [00:09<00:00,  8.76it/s]\n",
            "  0%|          | 0/323 [00:00<?, ?it/s]"
          ],
          "name": "stderr"
        },
        {
          "output_type": "stream",
          "text": [
            "*=*=*=*=*=*=*=*=*=*=*=*=*=*=*=*=*=*=*=*=*=*=*=*=*=*=*=*=*=*=*=*=*=*=*=*=*=*=*=*=*=*=*=*=*=*=*=*=*=*=\n",
            "fold 2 EPOCH 76: mean position error with floor 168.22619740706162\n",
            "fold 2 EPOCH 76: mean position error without floor 42.69518765133172\n",
            "*=*=*=*=*=*=*=*=*=*=*=*=*=*=*=*=*=*=*=*=*=*=*=*=*=*=*=*=*=*=*=*=*=*=*=*=*=*=*=*=*=*=*=*=*=*=*=*=*=*=\n"
          ],
          "name": "stdout"
        },
        {
          "output_type": "stream",
          "text": [
            "loss:25.503379821777344: 100%|██████████| 323/323 [00:49<00:00,  6.54it/s]\n",
            "100%|██████████| 81/81 [00:09<00:00,  8.93it/s]\n",
            "  0%|          | 0/323 [00:00<?, ?it/s]"
          ],
          "name": "stderr"
        },
        {
          "output_type": "stream",
          "text": [
            "*=*=*=*=*=*=*=*=*=*=*=*=*=*=*=*=*=*=*=*=*=*=*=*=*=*=*=*=*=*=*=*=*=*=*=*=*=*=*=*=*=*=*=*=*=*=*=*=*=*=\n",
            "fold 2 EPOCH 77: mean position error with floor 168.1486776860993\n",
            "fold 2 EPOCH 77: mean position error without floor 42.61751210653753\n",
            "*=*=*=*=*=*=*=*=*=*=*=*=*=*=*=*=*=*=*=*=*=*=*=*=*=*=*=*=*=*=*=*=*=*=*=*=*=*=*=*=*=*=*=*=*=*=*=*=*=*=\n"
          ],
          "name": "stdout"
        },
        {
          "output_type": "stream",
          "text": [
            "loss:24.254968643188477: 100%|██████████| 323/323 [00:47<00:00,  6.73it/s]\n",
            "100%|██████████| 81/81 [00:09<00:00,  8.99it/s]\n",
            "  0%|          | 0/323 [00:00<?, ?it/s]"
          ],
          "name": "stderr"
        },
        {
          "output_type": "stream",
          "text": [
            "*=*=*=*=*=*=*=*=*=*=*=*=*=*=*=*=*=*=*=*=*=*=*=*=*=*=*=*=*=*=*=*=*=*=*=*=*=*=*=*=*=*=*=*=*=*=*=*=*=*=\n",
            "fold 2 EPOCH 78: mean position error with floor 167.9640980262192\n",
            "fold 2 EPOCH 78: mean position error without floor 42.43297820823245\n",
            "*=*=*=*=*=*=*=*=*=*=*=*=*=*=*=*=*=*=*=*=*=*=*=*=*=*=*=*=*=*=*=*=*=*=*=*=*=*=*=*=*=*=*=*=*=*=*=*=*=*=\n"
          ],
          "name": "stdout"
        },
        {
          "output_type": "stream",
          "text": [
            "loss:23.121137619018555: 100%|██████████| 323/323 [00:47<00:00,  6.76it/s]\n",
            "100%|██████████| 81/81 [00:08<00:00,  9.09it/s]\n",
            "  0%|          | 0/323 [00:00<?, ?it/s]"
          ],
          "name": "stderr"
        },
        {
          "output_type": "stream",
          "text": [
            "*=*=*=*=*=*=*=*=*=*=*=*=*=*=*=*=*=*=*=*=*=*=*=*=*=*=*=*=*=*=*=*=*=*=*=*=*=*=*=*=*=*=*=*=*=*=*=*=*=*=\n",
            "fold 2 EPOCH 79: mean position error with floor 168.35676249477842\n",
            "fold 2 EPOCH 79: mean position error without floor 42.82575363196126\n",
            "*=*=*=*=*=*=*=*=*=*=*=*=*=*=*=*=*=*=*=*=*=*=*=*=*=*=*=*=*=*=*=*=*=*=*=*=*=*=*=*=*=*=*=*=*=*=*=*=*=*=\n"
          ],
          "name": "stdout"
        },
        {
          "output_type": "stream",
          "text": [
            "loss:22.209228515625: 100%|██████████| 323/323 [00:48<00:00,  6.73it/s]\n",
            "100%|██████████| 81/81 [00:09<00:00,  8.90it/s]\n",
            "  0%|          | 0/323 [00:00<?, ?it/s]"
          ],
          "name": "stderr"
        },
        {
          "output_type": "stream",
          "text": [
            "*=*=*=*=*=*=*=*=*=*=*=*=*=*=*=*=*=*=*=*=*=*=*=*=*=*=*=*=*=*=*=*=*=*=*=*=*=*=*=*=*=*=*=*=*=*=*=*=*=*=\n",
            "fold 2 EPOCH 80: mean position error with floor 167.77080957419972\n",
            "fold 2 EPOCH 80: mean position error without floor 42.23984261501211\n",
            "*=*=*=*=*=*=*=*=*=*=*=*=*=*=*=*=*=*=*=*=*=*=*=*=*=*=*=*=*=*=*=*=*=*=*=*=*=*=*=*=*=*=*=*=*=*=*=*=*=*=\n"
          ],
          "name": "stdout"
        },
        {
          "output_type": "stream",
          "text": [
            "loss:21.00594711303711: 100%|██████████| 323/323 [00:47<00:00,  6.75it/s]\n",
            "100%|██████████| 81/81 [00:08<00:00,  9.03it/s]\n",
            "  0%|          | 0/323 [00:00<?, ?it/s]"
          ],
          "name": "stderr"
        },
        {
          "output_type": "stream",
          "text": [
            "*=*=*=*=*=*=*=*=*=*=*=*=*=*=*=*=*=*=*=*=*=*=*=*=*=*=*=*=*=*=*=*=*=*=*=*=*=*=*=*=*=*=*=*=*=*=*=*=*=*=\n",
            "fold 2 EPOCH 81: mean position error with floor 167.2606793130035\n",
            "fold 2 EPOCH 81: mean position error without floor 41.729782082324455\n",
            "*=*=*=*=*=*=*=*=*=*=*=*=*=*=*=*=*=*=*=*=*=*=*=*=*=*=*=*=*=*=*=*=*=*=*=*=*=*=*=*=*=*=*=*=*=*=*=*=*=*=\n"
          ],
          "name": "stdout"
        },
        {
          "output_type": "stream",
          "text": [
            "loss:20.237892150878906: 100%|██████████| 323/323 [00:48<00:00,  6.72it/s]\n",
            "100%|██████████| 81/81 [00:08<00:00,  9.04it/s]\n",
            "  0%|          | 0/323 [00:00<?, ?it/s]"
          ],
          "name": "stderr"
        },
        {
          "output_type": "stream",
          "text": [
            "*=*=*=*=*=*=*=*=*=*=*=*=*=*=*=*=*=*=*=*=*=*=*=*=*=*=*=*=*=*=*=*=*=*=*=*=*=*=*=*=*=*=*=*=*=*=*=*=*=*=\n",
            "fold 2 EPOCH 82: mean position error with floor 167.60732921061762\n",
            "fold 2 EPOCH 82: mean position error without floor 42.076401331719126\n",
            "*=*=*=*=*=*=*=*=*=*=*=*=*=*=*=*=*=*=*=*=*=*=*=*=*=*=*=*=*=*=*=*=*=*=*=*=*=*=*=*=*=*=*=*=*=*=*=*=*=*=\n"
          ],
          "name": "stdout"
        },
        {
          "output_type": "stream",
          "text": [
            "loss:19.37413787841797: 100%|██████████| 323/323 [00:48<00:00,  6.69it/s]\n",
            "100%|██████████| 81/81 [00:09<00:00,  8.94it/s]\n",
            "  0%|          | 0/323 [00:00<?, ?it/s]"
          ],
          "name": "stderr"
        },
        {
          "output_type": "stream",
          "text": [
            "*=*=*=*=*=*=*=*=*=*=*=*=*=*=*=*=*=*=*=*=*=*=*=*=*=*=*=*=*=*=*=*=*=*=*=*=*=*=*=*=*=*=*=*=*=*=*=*=*=*=\n",
            "fold 2 EPOCH 83: mean position error with floor 167.17253767576727\n",
            "fold 2 EPOCH 83: mean position error without floor 41.64173426150121\n",
            "*=*=*=*=*=*=*=*=*=*=*=*=*=*=*=*=*=*=*=*=*=*=*=*=*=*=*=*=*=*=*=*=*=*=*=*=*=*=*=*=*=*=*=*=*=*=*=*=*=*=\n"
          ],
          "name": "stdout"
        },
        {
          "output_type": "stream",
          "text": [
            "loss:18.476734161376953: 100%|██████████| 323/323 [00:48<00:00,  6.71it/s]\n",
            "100%|██████████| 81/81 [00:09<00:00,  8.94it/s]\n",
            "  0%|          | 0/323 [00:00<?, ?it/s]"
          ],
          "name": "stderr"
        },
        {
          "output_type": "stream",
          "text": [
            "*=*=*=*=*=*=*=*=*=*=*=*=*=*=*=*=*=*=*=*=*=*=*=*=*=*=*=*=*=*=*=*=*=*=*=*=*=*=*=*=*=*=*=*=*=*=*=*=*=*=\n",
            "fold 2 EPOCH 84: mean position error with floor 167.57649950237092\n",
            "fold 2 EPOCH 84: mean position error without floor 42.0456598062954\n",
            "*=*=*=*=*=*=*=*=*=*=*=*=*=*=*=*=*=*=*=*=*=*=*=*=*=*=*=*=*=*=*=*=*=*=*=*=*=*=*=*=*=*=*=*=*=*=*=*=*=*=\n"
          ],
          "name": "stdout"
        },
        {
          "output_type": "stream",
          "text": [
            "loss:18.068992614746094: 100%|██████████| 323/323 [00:47<00:00,  6.76it/s]\n",
            "100%|██████████| 81/81 [00:08<00:00,  9.03it/s]\n",
            "  0%|          | 0/323 [00:00<?, ?it/s]"
          ],
          "name": "stderr"
        },
        {
          "output_type": "stream",
          "text": [
            "*=*=*=*=*=*=*=*=*=*=*=*=*=*=*=*=*=*=*=*=*=*=*=*=*=*=*=*=*=*=*=*=*=*=*=*=*=*=*=*=*=*=*=*=*=*=*=*=*=*=\n",
            "fold 2 EPOCH 85: mean position error with floor 166.7112842672569\n",
            "fold 2 EPOCH 85: mean position error without floor 41.18046307506053\n",
            "*=*=*=*=*=*=*=*=*=*=*=*=*=*=*=*=*=*=*=*=*=*=*=*=*=*=*=*=*=*=*=*=*=*=*=*=*=*=*=*=*=*=*=*=*=*=*=*=*=*=\n"
          ],
          "name": "stdout"
        },
        {
          "output_type": "stream",
          "text": [
            "loss:17.034696578979492: 100%|██████████| 323/323 [00:46<00:00,  6.95it/s]\n",
            "100%|██████████| 81/81 [00:08<00:00,  9.13it/s]\n",
            "  0%|          | 0/323 [00:00<?, ?it/s]"
          ],
          "name": "stderr"
        },
        {
          "output_type": "stream",
          "text": [
            "*=*=*=*=*=*=*=*=*=*=*=*=*=*=*=*=*=*=*=*=*=*=*=*=*=*=*=*=*=*=*=*=*=*=*=*=*=*=*=*=*=*=*=*=*=*=*=*=*=*=\n",
            "fold 2 EPOCH 86: mean position error with floor 166.80048910130708\n",
            "fold 2 EPOCH 86: mean position error without floor 41.269748789346245\n",
            "*=*=*=*=*=*=*=*=*=*=*=*=*=*=*=*=*=*=*=*=*=*=*=*=*=*=*=*=*=*=*=*=*=*=*=*=*=*=*=*=*=*=*=*=*=*=*=*=*=*=\n"
          ],
          "name": "stdout"
        },
        {
          "output_type": "stream",
          "text": [
            "loss:16.831464767456055: 100%|██████████| 323/323 [00:46<00:00,  7.01it/s]\n",
            "100%|██████████| 81/81 [00:08<00:00,  9.18it/s]\n",
            "  0%|          | 0/323 [00:00<?, ?it/s]"
          ],
          "name": "stderr"
        },
        {
          "output_type": "stream",
          "text": [
            "*=*=*=*=*=*=*=*=*=*=*=*=*=*=*=*=*=*=*=*=*=*=*=*=*=*=*=*=*=*=*=*=*=*=*=*=*=*=*=*=*=*=*=*=*=*=*=*=*=*=\n",
            "fold 2 EPOCH 87: mean position error with floor 166.40701133024137\n",
            "fold 2 EPOCH 87: mean position error without floor 40.87625302663438\n",
            "*=*=*=*=*=*=*=*=*=*=*=*=*=*=*=*=*=*=*=*=*=*=*=*=*=*=*=*=*=*=*=*=*=*=*=*=*=*=*=*=*=*=*=*=*=*=*=*=*=*=\n"
          ],
          "name": "stdout"
        },
        {
          "output_type": "stream",
          "text": [
            "loss:16.060205459594727: 100%|██████████| 323/323 [00:46<00:00,  7.00it/s]\n",
            "100%|██████████| 81/81 [00:08<00:00,  9.40it/s]\n",
            "  0%|          | 0/323 [00:00<?, ?it/s]"
          ],
          "name": "stderr"
        },
        {
          "output_type": "stream",
          "text": [
            "*=*=*=*=*=*=*=*=*=*=*=*=*=*=*=*=*=*=*=*=*=*=*=*=*=*=*=*=*=*=*=*=*=*=*=*=*=*=*=*=*=*=*=*=*=*=*=*=*=*=\n",
            "fold 2 EPOCH 88: mean position error with floor 166.47842885211273\n",
            "fold 2 EPOCH 88: mean position error without floor 40.94769975786925\n",
            "*=*=*=*=*=*=*=*=*=*=*=*=*=*=*=*=*=*=*=*=*=*=*=*=*=*=*=*=*=*=*=*=*=*=*=*=*=*=*=*=*=*=*=*=*=*=*=*=*=*=\n"
          ],
          "name": "stdout"
        },
        {
          "output_type": "stream",
          "text": [
            "loss:15.235054016113281: 100%|██████████| 323/323 [00:46<00:00,  6.93it/s]\n",
            "100%|██████████| 81/81 [00:08<00:00,  9.45it/s]\n",
            "  0%|          | 0/323 [00:00<?, ?it/s]"
          ],
          "name": "stderr"
        },
        {
          "output_type": "stream",
          "text": [
            "*=*=*=*=*=*=*=*=*=*=*=*=*=*=*=*=*=*=*=*=*=*=*=*=*=*=*=*=*=*=*=*=*=*=*=*=*=*=*=*=*=*=*=*=*=*=*=*=*=*=\n",
            "fold 2 EPOCH 89: mean position error with floor 166.09539333189406\n",
            "fold 2 EPOCH 89: mean position error without floor 40.564630750605325\n",
            "*=*=*=*=*=*=*=*=*=*=*=*=*=*=*=*=*=*=*=*=*=*=*=*=*=*=*=*=*=*=*=*=*=*=*=*=*=*=*=*=*=*=*=*=*=*=*=*=*=*=\n"
          ],
          "name": "stdout"
        },
        {
          "output_type": "stream",
          "text": [
            "loss:14.776994705200195: 100%|██████████| 323/323 [00:46<00:00,  6.96it/s]\n",
            "100%|██████████| 81/81 [00:08<00:00,  9.44it/s]\n",
            "  0%|          | 0/323 [00:00<?, ?it/s]"
          ],
          "name": "stderr"
        },
        {
          "output_type": "stream",
          "text": [
            "*=*=*=*=*=*=*=*=*=*=*=*=*=*=*=*=*=*=*=*=*=*=*=*=*=*=*=*=*=*=*=*=*=*=*=*=*=*=*=*=*=*=*=*=*=*=*=*=*=*=\n",
            "fold 2 EPOCH 90: mean position error with floor 166.21178601404512\n",
            "fold 2 EPOCH 90: mean position error without floor 40.681056295399515\n",
            "*=*=*=*=*=*=*=*=*=*=*=*=*=*=*=*=*=*=*=*=*=*=*=*=*=*=*=*=*=*=*=*=*=*=*=*=*=*=*=*=*=*=*=*=*=*=*=*=*=*=\n"
          ],
          "name": "stdout"
        },
        {
          "output_type": "stream",
          "text": [
            "loss:14.70058822631836: 100%|██████████| 323/323 [00:45<00:00,  7.04it/s]\n",
            "100%|██████████| 81/81 [00:08<00:00,  9.42it/s]\n",
            "  0%|          | 0/323 [00:00<?, ?it/s]"
          ],
          "name": "stderr"
        },
        {
          "output_type": "stream",
          "text": [
            "*=*=*=*=*=*=*=*=*=*=*=*=*=*=*=*=*=*=*=*=*=*=*=*=*=*=*=*=*=*=*=*=*=*=*=*=*=*=*=*=*=*=*=*=*=*=*=*=*=*=\n",
            "fold 2 EPOCH 91: mean position error with floor 166.25705643149612\n",
            "fold 2 EPOCH 91: mean position error without floor 40.726301452784504\n",
            "*=*=*=*=*=*=*=*=*=*=*=*=*=*=*=*=*=*=*=*=*=*=*=*=*=*=*=*=*=*=*=*=*=*=*=*=*=*=*=*=*=*=*=*=*=*=*=*=*=*=\n"
          ],
          "name": "stdout"
        },
        {
          "output_type": "stream",
          "text": [
            "loss:14.292705535888672: 100%|██████████| 323/323 [00:46<00:00,  6.88it/s]\n",
            "100%|██████████| 81/81 [00:08<00:00,  9.25it/s]\n",
            "  0%|          | 0/323 [00:00<?, ?it/s]"
          ],
          "name": "stderr"
        },
        {
          "output_type": "stream",
          "text": [
            "*=*=*=*=*=*=*=*=*=*=*=*=*=*=*=*=*=*=*=*=*=*=*=*=*=*=*=*=*=*=*=*=*=*=*=*=*=*=*=*=*=*=*=*=*=*=*=*=*=*=\n",
            "fold 2 EPOCH 92: mean position error with floor 166.1579944674134\n",
            "fold 2 EPOCH 92: mean position error without floor 40.62721852300242\n",
            "*=*=*=*=*=*=*=*=*=*=*=*=*=*=*=*=*=*=*=*=*=*=*=*=*=*=*=*=*=*=*=*=*=*=*=*=*=*=*=*=*=*=*=*=*=*=*=*=*=*=\n"
          ],
          "name": "stdout"
        },
        {
          "output_type": "stream",
          "text": [
            "loss:14.043622016906738: 100%|██████████| 323/323 [00:46<00:00,  6.87it/s]\n",
            "100%|██████████| 81/81 [00:08<00:00,  9.16it/s]\n",
            "  0%|          | 0/323 [00:00<?, ?it/s]"
          ],
          "name": "stderr"
        },
        {
          "output_type": "stream",
          "text": [
            "*=*=*=*=*=*=*=*=*=*=*=*=*=*=*=*=*=*=*=*=*=*=*=*=*=*=*=*=*=*=*=*=*=*=*=*=*=*=*=*=*=*=*=*=*=*=*=*=*=*=\n",
            "fold 2 EPOCH 93: mean position error with floor 166.61081484382635\n",
            "fold 2 EPOCH 93: mean position error without floor 41.08004842615012\n",
            "*=*=*=*=*=*=*=*=*=*=*=*=*=*=*=*=*=*=*=*=*=*=*=*=*=*=*=*=*=*=*=*=*=*=*=*=*=*=*=*=*=*=*=*=*=*=*=*=*=*=\n"
          ],
          "name": "stdout"
        },
        {
          "output_type": "stream",
          "text": [
            "loss:13.376605033874512: 100%|██████████| 323/323 [00:45<00:00,  7.02it/s]\n",
            "100%|██████████| 81/81 [00:08<00:00,  9.41it/s]\n",
            "  0%|          | 0/323 [00:00<?, ?it/s]"
          ],
          "name": "stderr"
        },
        {
          "output_type": "stream",
          "text": [
            "*=*=*=*=*=*=*=*=*=*=*=*=*=*=*=*=*=*=*=*=*=*=*=*=*=*=*=*=*=*=*=*=*=*=*=*=*=*=*=*=*=*=*=*=*=*=*=*=*=*=\n",
            "fold 2 EPOCH 94: mean position error with floor 166.08643034963356\n",
            "fold 2 EPOCH 94: mean position error without floor 40.5556598062954\n",
            "*=*=*=*=*=*=*=*=*=*=*=*=*=*=*=*=*=*=*=*=*=*=*=*=*=*=*=*=*=*=*=*=*=*=*=*=*=*=*=*=*=*=*=*=*=*=*=*=*=*=\n"
          ],
          "name": "stdout"
        },
        {
          "output_type": "stream",
          "text": [
            "loss:12.947905540466309: 100%|██████████| 323/323 [00:45<00:00,  7.15it/s]\n",
            "100%|██████████| 81/81 [00:08<00:00,  9.46it/s]\n",
            "  0%|          | 0/323 [00:00<?, ?it/s]"
          ],
          "name": "stderr"
        },
        {
          "output_type": "stream",
          "text": [
            "*=*=*=*=*=*=*=*=*=*=*=*=*=*=*=*=*=*=*=*=*=*=*=*=*=*=*=*=*=*=*=*=*=*=*=*=*=*=*=*=*=*=*=*=*=*=*=*=*=*=\n",
            "fold 2 EPOCH 95: mean position error with floor 165.64919188332075\n",
            "fold 2 EPOCH 95: mean position error without floor 40.11832021791768\n",
            "*=*=*=*=*=*=*=*=*=*=*=*=*=*=*=*=*=*=*=*=*=*=*=*=*=*=*=*=*=*=*=*=*=*=*=*=*=*=*=*=*=*=*=*=*=*=*=*=*=*=\n"
          ],
          "name": "stdout"
        },
        {
          "output_type": "stream",
          "text": [
            "loss:12.612229347229004: 100%|██████████| 323/323 [00:45<00:00,  7.15it/s]\n",
            "100%|██████████| 81/81 [00:08<00:00,  9.55it/s]\n",
            "  0%|          | 0/323 [00:00<?, ?it/s]"
          ],
          "name": "stderr"
        },
        {
          "output_type": "stream",
          "text": [
            "*=*=*=*=*=*=*=*=*=*=*=*=*=*=*=*=*=*=*=*=*=*=*=*=*=*=*=*=*=*=*=*=*=*=*=*=*=*=*=*=*=*=*=*=*=*=*=*=*=*=\n",
            "fold 2 EPOCH 96: mean position error with floor 165.91407004911912\n",
            "fold 2 EPOCH 96: mean position error without floor 40.38328692493947\n",
            "*=*=*=*=*=*=*=*=*=*=*=*=*=*=*=*=*=*=*=*=*=*=*=*=*=*=*=*=*=*=*=*=*=*=*=*=*=*=*=*=*=*=*=*=*=*=*=*=*=*=\n"
          ],
          "name": "stdout"
        },
        {
          "output_type": "stream",
          "text": [
            "loss:12.391849517822266: 100%|██████████| 323/323 [00:45<00:00,  7.04it/s]\n",
            "100%|██████████| 81/81 [00:08<00:00,  9.16it/s]\n",
            "  0%|          | 0/323 [00:00<?, ?it/s]"
          ],
          "name": "stderr"
        },
        {
          "output_type": "stream",
          "text": [
            "*=*=*=*=*=*=*=*=*=*=*=*=*=*=*=*=*=*=*=*=*=*=*=*=*=*=*=*=*=*=*=*=*=*=*=*=*=*=*=*=*=*=*=*=*=*=*=*=*=*=\n",
            "fold 2 EPOCH 97: mean position error with floor 165.69254698070014\n",
            "fold 2 EPOCH 97: mean position error without floor 40.161761501210655\n",
            "*=*=*=*=*=*=*=*=*=*=*=*=*=*=*=*=*=*=*=*=*=*=*=*=*=*=*=*=*=*=*=*=*=*=*=*=*=*=*=*=*=*=*=*=*=*=*=*=*=*=\n"
          ],
          "name": "stdout"
        },
        {
          "output_type": "stream",
          "text": [
            "loss:11.999898910522461: 100%|██████████| 323/323 [00:46<00:00,  6.94it/s]\n",
            "100%|██████████| 81/81 [00:08<00:00,  9.36it/s]\n",
            "  0%|          | 0/323 [00:00<?, ?it/s]"
          ],
          "name": "stderr"
        },
        {
          "output_type": "stream",
          "text": [
            "*=*=*=*=*=*=*=*=*=*=*=*=*=*=*=*=*=*=*=*=*=*=*=*=*=*=*=*=*=*=*=*=*=*=*=*=*=*=*=*=*=*=*=*=*=*=*=*=*=*=\n",
            "fold 2 EPOCH 98: mean position error with floor 165.86270802754214\n",
            "fold 2 EPOCH 98: mean position error without floor 40.33190677966102\n",
            "*=*=*=*=*=*=*=*=*=*=*=*=*=*=*=*=*=*=*=*=*=*=*=*=*=*=*=*=*=*=*=*=*=*=*=*=*=*=*=*=*=*=*=*=*=*=*=*=*=*=\n"
          ],
          "name": "stdout"
        },
        {
          "output_type": "stream",
          "text": [
            "loss:11.87956714630127: 100%|██████████| 323/323 [00:46<00:00,  7.00it/s]\n",
            "100%|██████████| 81/81 [00:08<00:00,  9.35it/s]\n",
            "  0%|          | 0/16 [00:00<?, ?it/s]"
          ],
          "name": "stderr"
        },
        {
          "output_type": "stream",
          "text": [
            "*=*=*=*=*=*=*=*=*=*=*=*=*=*=*=*=*=*=*=*=*=*=*=*=*=*=*=*=*=*=*=*=*=*=*=*=*=*=*=*=*=*=*=*=*=*=*=*=*=*=\n",
            "fold 2 EPOCH 99: mean position error with floor 165.79362719922682\n",
            "fold 2 EPOCH 99: mean position error without floor 40.262826876513316\n",
            "*=*=*=*=*=*=*=*=*=*=*=*=*=*=*=*=*=*=*=*=*=*=*=*=*=*=*=*=*=*=*=*=*=*=*=*=*=*=*=*=*=*=*=*=*=*=*=*=*=*=\n"
          ],
          "name": "stdout"
        },
        {
          "output_type": "stream",
          "text": [
            "100%|██████████| 16/16 [00:01<00:00,  8.21it/s]\n",
            "loss:15103.9208984375: 100%|██████████| 323/323 [00:48<00:00,  6.60it/s]\n",
            "100%|██████████| 81/81 [00:08<00:00,  9.32it/s]\n",
            "  0%|          | 0/323 [00:00<?, ?it/s]"
          ],
          "name": "stderr"
        },
        {
          "output_type": "stream",
          "text": [
            "*=*=*=*=*=*=*=*=*=*=*=*=*=*=*=*=*=*=*=*=*=*=*=*=*=*=*=*=*=*=*=*=*=*=*=*=*=*=*=*=*=*=*=*=*=*=*=*=*=*=\n",
            "fold 3 EPOCH 0: mean position error with floor 876.7235201281208\n",
            "fold 3 EPOCH 0: mean position error without floor 751.1941888619855\n",
            "*=*=*=*=*=*=*=*=*=*=*=*=*=*=*=*=*=*=*=*=*=*=*=*=*=*=*=*=*=*=*=*=*=*=*=*=*=*=*=*=*=*=*=*=*=*=*=*=*=*=\n"
          ],
          "name": "stdout"
        },
        {
          "output_type": "stream",
          "text": [
            "loss:12790.373046875: 100%|██████████| 323/323 [00:46<00:00,  7.00it/s]\n",
            "100%|██████████| 81/81 [00:08<00:00,  9.44it/s]\n",
            "  0%|          | 0/323 [00:00<?, ?it/s]"
          ],
          "name": "stderr"
        },
        {
          "output_type": "stream",
          "text": [
            "*=*=*=*=*=*=*=*=*=*=*=*=*=*=*=*=*=*=*=*=*=*=*=*=*=*=*=*=*=*=*=*=*=*=*=*=*=*=*=*=*=*=*=*=*=*=*=*=*=*=\n",
            "fold 3 EPOCH 1: mean position error with floor 804.4855037165612\n",
            "fold 3 EPOCH 1: mean position error without floor 678.9562227602905\n",
            "*=*=*=*=*=*=*=*=*=*=*=*=*=*=*=*=*=*=*=*=*=*=*=*=*=*=*=*=*=*=*=*=*=*=*=*=*=*=*=*=*=*=*=*=*=*=*=*=*=*=\n"
          ],
          "name": "stdout"
        },
        {
          "output_type": "stream",
          "text": [
            "loss:10870.931640625: 100%|██████████| 323/323 [00:44<00:00,  7.21it/s]\n",
            "100%|██████████| 81/81 [00:08<00:00,  9.55it/s]\n",
            "  0%|          | 0/323 [00:00<?, ?it/s]"
          ],
          "name": "stderr"
        },
        {
          "output_type": "stream",
          "text": [
            "*=*=*=*=*=*=*=*=*=*=*=*=*=*=*=*=*=*=*=*=*=*=*=*=*=*=*=*=*=*=*=*=*=*=*=*=*=*=*=*=*=*=*=*=*=*=*=*=*=*=\n",
            "fold 3 EPOCH 2: mean position error with floor 740.9549793489274\n",
            "fold 3 EPOCH 2: mean position error without floor 615.4256658595642\n",
            "*=*=*=*=*=*=*=*=*=*=*=*=*=*=*=*=*=*=*=*=*=*=*=*=*=*=*=*=*=*=*=*=*=*=*=*=*=*=*=*=*=*=*=*=*=*=*=*=*=*=\n"
          ],
          "name": "stdout"
        },
        {
          "output_type": "stream",
          "text": [
            "loss:9291.3857421875: 100%|██████████| 323/323 [00:45<00:00,  7.14it/s]\n",
            "100%|██████████| 81/81 [00:08<00:00,  9.66it/s]\n",
            "  0%|          | 0/323 [00:00<?, ?it/s]"
          ],
          "name": "stderr"
        },
        {
          "output_type": "stream",
          "text": [
            "*=*=*=*=*=*=*=*=*=*=*=*=*=*=*=*=*=*=*=*=*=*=*=*=*=*=*=*=*=*=*=*=*=*=*=*=*=*=*=*=*=*=*=*=*=*=*=*=*=*=\n",
            "fold 3 EPOCH 3: mean position error with floor 686.9608651576522\n",
            "fold 3 EPOCH 3: mean position error without floor 561.431573849879\n",
            "*=*=*=*=*=*=*=*=*=*=*=*=*=*=*=*=*=*=*=*=*=*=*=*=*=*=*=*=*=*=*=*=*=*=*=*=*=*=*=*=*=*=*=*=*=*=*=*=*=*=\n"
          ],
          "name": "stdout"
        },
        {
          "output_type": "stream",
          "text": [
            "loss:8003.74755859375: 100%|██████████| 323/323 [00:46<00:00,  7.01it/s]\n",
            "100%|██████████| 81/81 [00:08<00:00,  9.12it/s]\n",
            "  0%|          | 0/323 [00:00<?, ?it/s]"
          ],
          "name": "stderr"
        },
        {
          "output_type": "stream",
          "text": [
            "*=*=*=*=*=*=*=*=*=*=*=*=*=*=*=*=*=*=*=*=*=*=*=*=*=*=*=*=*=*=*=*=*=*=*=*=*=*=*=*=*=*=*=*=*=*=*=*=*=*=\n",
            "fold 3 EPOCH 4: mean position error with floor 642.5592746340017\n",
            "fold 3 EPOCH 4: mean position error without floor 517.0299273607748\n",
            "*=*=*=*=*=*=*=*=*=*=*=*=*=*=*=*=*=*=*=*=*=*=*=*=*=*=*=*=*=*=*=*=*=*=*=*=*=*=*=*=*=*=*=*=*=*=*=*=*=*=\n"
          ],
          "name": "stdout"
        },
        {
          "output_type": "stream",
          "text": [
            "loss:6973.77099609375: 100%|██████████| 323/323 [00:47<00:00,  6.78it/s]\n",
            "100%|██████████| 81/81 [00:08<00:00,  9.23it/s]\n",
            "  0%|          | 0/323 [00:00<?, ?it/s]"
          ],
          "name": "stderr"
        },
        {
          "output_type": "stream",
          "text": [
            "*=*=*=*=*=*=*=*=*=*=*=*=*=*=*=*=*=*=*=*=*=*=*=*=*=*=*=*=*=*=*=*=*=*=*=*=*=*=*=*=*=*=*=*=*=*=*=*=*=*=\n",
            "fold 3 EPOCH 5: mean position error with floor 607.4170605016476\n",
            "fold 3 EPOCH 5: mean position error without floor 481.88774818401936\n",
            "*=*=*=*=*=*=*=*=*=*=*=*=*=*=*=*=*=*=*=*=*=*=*=*=*=*=*=*=*=*=*=*=*=*=*=*=*=*=*=*=*=*=*=*=*=*=*=*=*=*=\n"
          ],
          "name": "stdout"
        },
        {
          "output_type": "stream",
          "text": [
            "loss:6164.0068359375: 100%|██████████| 323/323 [00:46<00:00,  6.92it/s]\n",
            "100%|██████████| 81/81 [00:08<00:00,  9.04it/s]\n",
            "  0%|          | 0/323 [00:00<?, ?it/s]"
          ],
          "name": "stderr"
        },
        {
          "output_type": "stream",
          "text": [
            "*=*=*=*=*=*=*=*=*=*=*=*=*=*=*=*=*=*=*=*=*=*=*=*=*=*=*=*=*=*=*=*=*=*=*=*=*=*=*=*=*=*=*=*=*=*=*=*=*=*=\n",
            "fold 3 EPOCH 6: mean position error with floor 580.7760119551608\n",
            "fold 3 EPOCH 6: mean position error without floor 455.24673123486684\n",
            "*=*=*=*=*=*=*=*=*=*=*=*=*=*=*=*=*=*=*=*=*=*=*=*=*=*=*=*=*=*=*=*=*=*=*=*=*=*=*=*=*=*=*=*=*=*=*=*=*=*=\n"
          ],
          "name": "stdout"
        },
        {
          "output_type": "stream",
          "text": [
            "loss:5547.53662109375: 100%|██████████| 323/323 [00:46<00:00,  6.90it/s]\n",
            "100%|██████████| 81/81 [00:08<00:00,  9.36it/s]\n",
            "  0%|          | 0/323 [00:00<?, ?it/s]"
          ],
          "name": "stderr"
        },
        {
          "output_type": "stream",
          "text": [
            "*=*=*=*=*=*=*=*=*=*=*=*=*=*=*=*=*=*=*=*=*=*=*=*=*=*=*=*=*=*=*=*=*=*=*=*=*=*=*=*=*=*=*=*=*=*=*=*=*=*=\n",
            "fold 3 EPOCH 7: mean position error with floor 561.6172394598483\n",
            "fold 3 EPOCH 7: mean position error without floor 436.08794188861987\n",
            "*=*=*=*=*=*=*=*=*=*=*=*=*=*=*=*=*=*=*=*=*=*=*=*=*=*=*=*=*=*=*=*=*=*=*=*=*=*=*=*=*=*=*=*=*=*=*=*=*=*=\n"
          ],
          "name": "stdout"
        },
        {
          "output_type": "stream",
          "text": [
            "loss:5092.29296875: 100%|██████████| 323/323 [00:46<00:00,  6.94it/s]\n",
            "100%|██████████| 81/81 [00:08<00:00,  9.10it/s]\n",
            "  0%|          | 0/323 [00:00<?, ?it/s]"
          ],
          "name": "stderr"
        },
        {
          "output_type": "stream",
          "text": [
            "*=*=*=*=*=*=*=*=*=*=*=*=*=*=*=*=*=*=*=*=*=*=*=*=*=*=*=*=*=*=*=*=*=*=*=*=*=*=*=*=*=*=*=*=*=*=*=*=*=*=\n",
            "fold 3 EPOCH 8: mean position error with floor 548.7003922223698\n",
            "fold 3 EPOCH 8: mean position error without floor 423.1710895883777\n",
            "*=*=*=*=*=*=*=*=*=*=*=*=*=*=*=*=*=*=*=*=*=*=*=*=*=*=*=*=*=*=*=*=*=*=*=*=*=*=*=*=*=*=*=*=*=*=*=*=*=*=\n"
          ],
          "name": "stdout"
        },
        {
          "output_type": "stream",
          "text": [
            "loss:4768.06982421875: 100%|██████████| 323/323 [00:46<00:00,  7.02it/s]\n",
            "100%|██████████| 81/81 [00:08<00:00,  9.47it/s]\n",
            "  0%|          | 0/323 [00:00<?, ?it/s]"
          ],
          "name": "stderr"
        },
        {
          "output_type": "stream",
          "text": [
            "*=*=*=*=*=*=*=*=*=*=*=*=*=*=*=*=*=*=*=*=*=*=*=*=*=*=*=*=*=*=*=*=*=*=*=*=*=*=*=*=*=*=*=*=*=*=*=*=*=*=\n",
            "fold 3 EPOCH 9: mean position error with floor 540.6744070778112\n",
            "fold 3 EPOCH 9: mean position error without floor 415.14513317191285\n",
            "*=*=*=*=*=*=*=*=*=*=*=*=*=*=*=*=*=*=*=*=*=*=*=*=*=*=*=*=*=*=*=*=*=*=*=*=*=*=*=*=*=*=*=*=*=*=*=*=*=*=\n"
          ],
          "name": "stdout"
        },
        {
          "output_type": "stream",
          "text": [
            "loss:4551.9033203125: 100%|██████████| 323/323 [00:45<00:00,  7.09it/s]\n",
            "100%|██████████| 81/81 [00:08<00:00,  9.35it/s]\n",
            "  0%|          | 0/323 [00:00<?, ?it/s]"
          ],
          "name": "stderr"
        },
        {
          "output_type": "stream",
          "text": [
            "*=*=*=*=*=*=*=*=*=*=*=*=*=*=*=*=*=*=*=*=*=*=*=*=*=*=*=*=*=*=*=*=*=*=*=*=*=*=*=*=*=*=*=*=*=*=*=*=*=*=\n",
            "fold 3 EPOCH 10: mean position error with floor 536.3100119969025\n",
            "fold 3 EPOCH 10: mean position error without floor 410.78072639225184\n",
            "*=*=*=*=*=*=*=*=*=*=*=*=*=*=*=*=*=*=*=*=*=*=*=*=*=*=*=*=*=*=*=*=*=*=*=*=*=*=*=*=*=*=*=*=*=*=*=*=*=*=\n"
          ],
          "name": "stdout"
        },
        {
          "output_type": "stream",
          "text": [
            "loss:4412.63232421875: 100%|██████████| 323/323 [00:45<00:00,  7.06it/s]\n",
            "100%|██████████| 81/81 [00:08<00:00,  9.35it/s]\n",
            "  0%|          | 0/323 [00:00<?, ?it/s]"
          ],
          "name": "stderr"
        },
        {
          "output_type": "stream",
          "text": [
            "*=*=*=*=*=*=*=*=*=*=*=*=*=*=*=*=*=*=*=*=*=*=*=*=*=*=*=*=*=*=*=*=*=*=*=*=*=*=*=*=*=*=*=*=*=*=*=*=*=*=\n",
            "fold 3 EPOCH 11: mean position error with floor 534.3792450904009\n",
            "fold 3 EPOCH 11: mean position error without floor 408.8499757869249\n",
            "*=*=*=*=*=*=*=*=*=*=*=*=*=*=*=*=*=*=*=*=*=*=*=*=*=*=*=*=*=*=*=*=*=*=*=*=*=*=*=*=*=*=*=*=*=*=*=*=*=*=\n"
          ],
          "name": "stdout"
        },
        {
          "output_type": "stream",
          "text": [
            "loss:4331.650390625: 100%|██████████| 323/323 [00:45<00:00,  7.17it/s]\n",
            "100%|██████████| 81/81 [00:08<00:00,  9.38it/s]\n",
            "  0%|          | 0/323 [00:00<?, ?it/s]"
          ],
          "name": "stderr"
        },
        {
          "output_type": "stream",
          "text": [
            "*=*=*=*=*=*=*=*=*=*=*=*=*=*=*=*=*=*=*=*=*=*=*=*=*=*=*=*=*=*=*=*=*=*=*=*=*=*=*=*=*=*=*=*=*=*=*=*=*=*=\n",
            "fold 3 EPOCH 12: mean position error with floor 533.9102523048969\n",
            "fold 3 EPOCH 12: mean position error without floor 408.3809200968523\n",
            "*=*=*=*=*=*=*=*=*=*=*=*=*=*=*=*=*=*=*=*=*=*=*=*=*=*=*=*=*=*=*=*=*=*=*=*=*=*=*=*=*=*=*=*=*=*=*=*=*=*=\n"
          ],
          "name": "stdout"
        },
        {
          "output_type": "stream",
          "text": [
            "loss:4289.17626953125: 100%|██████████| 323/323 [00:45<00:00,  7.18it/s]\n",
            "100%|██████████| 81/81 [00:08<00:00,  9.73it/s]\n",
            "  0%|          | 0/323 [00:00<?, ?it/s]"
          ],
          "name": "stderr"
        },
        {
          "output_type": "stream",
          "text": [
            "*=*=*=*=*=*=*=*=*=*=*=*=*=*=*=*=*=*=*=*=*=*=*=*=*=*=*=*=*=*=*=*=*=*=*=*=*=*=*=*=*=*=*=*=*=*=*=*=*=*=\n",
            "fold 3 EPOCH 13: mean position error with floor 534.1951488568535\n",
            "fold 3 EPOCH 13: mean position error without floor 408.66585956416463\n",
            "*=*=*=*=*=*=*=*=*=*=*=*=*=*=*=*=*=*=*=*=*=*=*=*=*=*=*=*=*=*=*=*=*=*=*=*=*=*=*=*=*=*=*=*=*=*=*=*=*=*=\n"
          ],
          "name": "stdout"
        },
        {
          "output_type": "stream",
          "text": [
            "loss:4267.9853515625: 100%|██████████| 323/323 [00:45<00:00,  7.18it/s]\n",
            "100%|██████████| 81/81 [00:08<00:00,  9.51it/s]\n",
            "  0%|          | 0/323 [00:00<?, ?it/s]"
          ],
          "name": "stderr"
        },
        {
          "output_type": "stream",
          "text": [
            "*=*=*=*=*=*=*=*=*=*=*=*=*=*=*=*=*=*=*=*=*=*=*=*=*=*=*=*=*=*=*=*=*=*=*=*=*=*=*=*=*=*=*=*=*=*=*=*=*=*=\n",
            "fold 3 EPOCH 14: mean position error with floor 534.7236490645622\n",
            "fold 3 EPOCH 14: mean position error without floor 409.19433414043584\n",
            "*=*=*=*=*=*=*=*=*=*=*=*=*=*=*=*=*=*=*=*=*=*=*=*=*=*=*=*=*=*=*=*=*=*=*=*=*=*=*=*=*=*=*=*=*=*=*=*=*=*=\n"
          ],
          "name": "stdout"
        },
        {
          "output_type": "stream",
          "text": [
            "loss:4258.56103515625: 100%|██████████| 323/323 [00:45<00:00,  7.15it/s]\n",
            "100%|██████████| 81/81 [00:08<00:00,  9.38it/s]\n",
            "  0%|          | 0/323 [00:00<?, ?it/s]"
          ],
          "name": "stderr"
        },
        {
          "output_type": "stream",
          "text": [
            "*=*=*=*=*=*=*=*=*=*=*=*=*=*=*=*=*=*=*=*=*=*=*=*=*=*=*=*=*=*=*=*=*=*=*=*=*=*=*=*=*=*=*=*=*=*=*=*=*=*=\n",
            "fold 3 EPOCH 15: mean position error with floor 535.1922898184994\n",
            "fold 3 EPOCH 15: mean position error without floor 409.6630024213075\n",
            "*=*=*=*=*=*=*=*=*=*=*=*=*=*=*=*=*=*=*=*=*=*=*=*=*=*=*=*=*=*=*=*=*=*=*=*=*=*=*=*=*=*=*=*=*=*=*=*=*=*=\n"
          ],
          "name": "stdout"
        },
        {
          "output_type": "stream",
          "text": [
            "loss:4256.20556640625: 100%|██████████| 323/323 [00:45<00:00,  7.12it/s]\n",
            "100%|██████████| 81/81 [00:08<00:00,  9.36it/s]\n",
            "  0%|          | 0/323 [00:00<?, ?it/s]"
          ],
          "name": "stderr"
        },
        {
          "output_type": "stream",
          "text": [
            "*=*=*=*=*=*=*=*=*=*=*=*=*=*=*=*=*=*=*=*=*=*=*=*=*=*=*=*=*=*=*=*=*=*=*=*=*=*=*=*=*=*=*=*=*=*=*=*=*=*=\n",
            "fold 3 EPOCH 16: mean position error with floor 535.5458320751894\n",
            "fold 3 EPOCH 16: mean position error without floor 410.0165133171913\n",
            "*=*=*=*=*=*=*=*=*=*=*=*=*=*=*=*=*=*=*=*=*=*=*=*=*=*=*=*=*=*=*=*=*=*=*=*=*=*=*=*=*=*=*=*=*=*=*=*=*=*=\n"
          ],
          "name": "stdout"
        },
        {
          "output_type": "stream",
          "text": [
            "loss:4255.07568359375: 100%|██████████| 323/323 [00:44<00:00,  7.24it/s]\n",
            "100%|██████████| 81/81 [00:08<00:00,  9.48it/s]\n",
            "  0%|          | 0/323 [00:00<?, ?it/s]"
          ],
          "name": "stderr"
        },
        {
          "output_type": "stream",
          "text": [
            "*=*=*=*=*=*=*=*=*=*=*=*=*=*=*=*=*=*=*=*=*=*=*=*=*=*=*=*=*=*=*=*=*=*=*=*=*=*=*=*=*=*=*=*=*=*=*=*=*=*=\n",
            "fold 3 EPOCH 17: mean position error with floor 535.758924668095\n",
            "fold 3 EPOCH 17: mean position error without floor 410.2296368038741\n",
            "*=*=*=*=*=*=*=*=*=*=*=*=*=*=*=*=*=*=*=*=*=*=*=*=*=*=*=*=*=*=*=*=*=*=*=*=*=*=*=*=*=*=*=*=*=*=*=*=*=*=\n"
          ],
          "name": "stdout"
        },
        {
          "output_type": "stream",
          "text": [
            "loss:4254.6416015625: 100%|██████████| 323/323 [00:45<00:00,  7.15it/s]\n",
            "100%|██████████| 81/81 [00:08<00:00,  9.69it/s]\n",
            "  0%|          | 0/323 [00:00<?, ?it/s]"
          ],
          "name": "stderr"
        },
        {
          "output_type": "stream",
          "text": [
            "*=*=*=*=*=*=*=*=*=*=*=*=*=*=*=*=*=*=*=*=*=*=*=*=*=*=*=*=*=*=*=*=*=*=*=*=*=*=*=*=*=*=*=*=*=*=*=*=*=*=\n",
            "fold 3 EPOCH 18: mean position error with floor 535.8232763015935\n",
            "fold 3 EPOCH 18: mean position error without floor 410.2939467312349\n",
            "*=*=*=*=*=*=*=*=*=*=*=*=*=*=*=*=*=*=*=*=*=*=*=*=*=*=*=*=*=*=*=*=*=*=*=*=*=*=*=*=*=*=*=*=*=*=*=*=*=*=\n"
          ],
          "name": "stdout"
        },
        {
          "output_type": "stream",
          "text": [
            "loss:4254.6533203125: 100%|██████████| 323/323 [00:45<00:00,  7.16it/s]\n",
            "100%|██████████| 81/81 [00:08<00:00,  9.50it/s]\n",
            "  0%|          | 0/323 [00:00<?, ?it/s]"
          ],
          "name": "stderr"
        },
        {
          "output_type": "stream",
          "text": [
            "*=*=*=*=*=*=*=*=*=*=*=*=*=*=*=*=*=*=*=*=*=*=*=*=*=*=*=*=*=*=*=*=*=*=*=*=*=*=*=*=*=*=*=*=*=*=*=*=*=*=\n",
            "fold 3 EPOCH 19: mean position error with floor 535.9534585607831\n",
            "fold 3 EPOCH 19: mean position error without floor 410.4241646489104\n",
            "*=*=*=*=*=*=*=*=*=*=*=*=*=*=*=*=*=*=*=*=*=*=*=*=*=*=*=*=*=*=*=*=*=*=*=*=*=*=*=*=*=*=*=*=*=*=*=*=*=*=\n"
          ],
          "name": "stdout"
        },
        {
          "output_type": "stream",
          "text": [
            "loss:4253.3349609375: 100%|██████████| 323/323 [00:44<00:00,  7.20it/s]\n",
            "100%|██████████| 81/81 [00:08<00:00,  9.57it/s]\n",
            "  0%|          | 0/323 [00:00<?, ?it/s]"
          ],
          "name": "stderr"
        },
        {
          "output_type": "stream",
          "text": [
            "*=*=*=*=*=*=*=*=*=*=*=*=*=*=*=*=*=*=*=*=*=*=*=*=*=*=*=*=*=*=*=*=*=*=*=*=*=*=*=*=*=*=*=*=*=*=*=*=*=*=\n",
            "fold 3 EPOCH 20: mean position error with floor 535.9036193103334\n",
            "fold 3 EPOCH 20: mean position error without floor 410.37433414043585\n",
            "*=*=*=*=*=*=*=*=*=*=*=*=*=*=*=*=*=*=*=*=*=*=*=*=*=*=*=*=*=*=*=*=*=*=*=*=*=*=*=*=*=*=*=*=*=*=*=*=*=*=\n"
          ],
          "name": "stdout"
        },
        {
          "output_type": "stream",
          "text": [
            "loss:4254.0625: 100%|██████████| 323/323 [00:44<00:00,  7.22it/s]\n",
            "100%|██████████| 81/81 [00:08<00:00,  9.50it/s]\n",
            "  0%|          | 0/323 [00:00<?, ?it/s]"
          ],
          "name": "stderr"
        },
        {
          "output_type": "stream",
          "text": [
            "*=*=*=*=*=*=*=*=*=*=*=*=*=*=*=*=*=*=*=*=*=*=*=*=*=*=*=*=*=*=*=*=*=*=*=*=*=*=*=*=*=*=*=*=*=*=*=*=*=*=\n",
            "fold 3 EPOCH 21: mean position error with floor 535.9223059446269\n",
            "fold 3 EPOCH 21: mean position error without floor 410.3930266343826\n",
            "*=*=*=*=*=*=*=*=*=*=*=*=*=*=*=*=*=*=*=*=*=*=*=*=*=*=*=*=*=*=*=*=*=*=*=*=*=*=*=*=*=*=*=*=*=*=*=*=*=*=\n"
          ],
          "name": "stdout"
        },
        {
          "output_type": "stream",
          "text": [
            "loss:4253.6826171875: 100%|██████████| 323/323 [00:45<00:00,  7.10it/s]\n",
            "100%|██████████| 81/81 [00:08<00:00,  9.66it/s]\n",
            "  0%|          | 0/323 [00:00<?, ?it/s]"
          ],
          "name": "stderr"
        },
        {
          "output_type": "stream",
          "text": [
            "*=*=*=*=*=*=*=*=*=*=*=*=*=*=*=*=*=*=*=*=*=*=*=*=*=*=*=*=*=*=*=*=*=*=*=*=*=*=*=*=*=*=*=*=*=*=*=*=*=*=\n",
            "fold 3 EPOCH 22: mean position error with floor 536.0141554983187\n",
            "fold 3 EPOCH 22: mean position error without floor 410.4848426150121\n",
            "*=*=*=*=*=*=*=*=*=*=*=*=*=*=*=*=*=*=*=*=*=*=*=*=*=*=*=*=*=*=*=*=*=*=*=*=*=*=*=*=*=*=*=*=*=*=*=*=*=*=\n"
          ],
          "name": "stdout"
        },
        {
          "output_type": "stream",
          "text": [
            "loss:4252.56884765625: 100%|██████████| 323/323 [00:45<00:00,  7.17it/s]\n",
            "100%|██████████| 81/81 [00:08<00:00,  9.55it/s]\n",
            "  0%|          | 0/323 [00:00<?, ?it/s]"
          ],
          "name": "stderr"
        },
        {
          "output_type": "stream",
          "text": [
            "*=*=*=*=*=*=*=*=*=*=*=*=*=*=*=*=*=*=*=*=*=*=*=*=*=*=*=*=*=*=*=*=*=*=*=*=*=*=*=*=*=*=*=*=*=*=*=*=*=*=\n",
            "fold 3 EPOCH 23: mean position error with floor 535.9496065806419\n",
            "fold 3 EPOCH 23: mean position error without floor 410.42029055690074\n",
            "*=*=*=*=*=*=*=*=*=*=*=*=*=*=*=*=*=*=*=*=*=*=*=*=*=*=*=*=*=*=*=*=*=*=*=*=*=*=*=*=*=*=*=*=*=*=*=*=*=*=\n"
          ],
          "name": "stdout"
        },
        {
          "output_type": "stream",
          "text": [
            "loss:4253.810546875: 100%|██████████| 323/323 [00:44<00:00,  7.20it/s]\n",
            "100%|██████████| 81/81 [00:08<00:00,  9.63it/s]\n",
            "  0%|          | 0/323 [00:00<?, ?it/s]"
          ],
          "name": "stderr"
        },
        {
          "output_type": "stream",
          "text": [
            "*=*=*=*=*=*=*=*=*=*=*=*=*=*=*=*=*=*=*=*=*=*=*=*=*=*=*=*=*=*=*=*=*=*=*=*=*=*=*=*=*=*=*=*=*=*=*=*=*=*=\n",
            "fold 3 EPOCH 24: mean position error with floor 535.9177219676683\n",
            "fold 3 EPOCH 24: mean position error without floor 410.38842615012106\n",
            "*=*=*=*=*=*=*=*=*=*=*=*=*=*=*=*=*=*=*=*=*=*=*=*=*=*=*=*=*=*=*=*=*=*=*=*=*=*=*=*=*=*=*=*=*=*=*=*=*=*=\n"
          ],
          "name": "stdout"
        },
        {
          "output_type": "stream",
          "text": [
            "loss:4252.3056640625: 100%|██████████| 323/323 [00:46<00:00,  6.99it/s]\n",
            "100%|██████████| 81/81 [00:08<00:00,  9.41it/s]\n",
            "  0%|          | 0/323 [00:00<?, ?it/s]"
          ],
          "name": "stderr"
        },
        {
          "output_type": "stream",
          "text": [
            "*=*=*=*=*=*=*=*=*=*=*=*=*=*=*=*=*=*=*=*=*=*=*=*=*=*=*=*=*=*=*=*=*=*=*=*=*=*=*=*=*=*=*=*=*=*=*=*=*=*=\n",
            "fold 3 EPOCH 25: mean position error with floor 535.8912547893674\n",
            "fold 3 EPOCH 25: mean position error without floor 410.36193704600487\n",
            "*=*=*=*=*=*=*=*=*=*=*=*=*=*=*=*=*=*=*=*=*=*=*=*=*=*=*=*=*=*=*=*=*=*=*=*=*=*=*=*=*=*=*=*=*=*=*=*=*=*=\n"
          ],
          "name": "stdout"
        },
        {
          "output_type": "stream",
          "text": [
            "loss:4248.896484375: 100%|██████████| 323/323 [00:45<00:00,  7.12it/s]\n",
            "100%|██████████| 81/81 [00:08<00:00,  9.54it/s]\n",
            "  0%|          | 0/323 [00:00<?, ?it/s]"
          ],
          "name": "stderr"
        },
        {
          "output_type": "stream",
          "text": [
            "*=*=*=*=*=*=*=*=*=*=*=*=*=*=*=*=*=*=*=*=*=*=*=*=*=*=*=*=*=*=*=*=*=*=*=*=*=*=*=*=*=*=*=*=*=*=*=*=*=*=\n",
            "fold 3 EPOCH 26: mean position error with floor 534.2550500816612\n",
            "fold 3 EPOCH 26: mean position error without floor 408.72576271186443\n",
            "*=*=*=*=*=*=*=*=*=*=*=*=*=*=*=*=*=*=*=*=*=*=*=*=*=*=*=*=*=*=*=*=*=*=*=*=*=*=*=*=*=*=*=*=*=*=*=*=*=*=\n"
          ],
          "name": "stdout"
        },
        {
          "output_type": "stream",
          "text": [
            "loss:4229.296875: 100%|██████████| 323/323 [00:44<00:00,  7.22it/s]\n",
            "100%|██████████| 81/81 [00:08<00:00,  9.25it/s]\n",
            "  0%|          | 0/323 [00:00<?, ?it/s]"
          ],
          "name": "stderr"
        },
        {
          "output_type": "stream",
          "text": [
            "*=*=*=*=*=*=*=*=*=*=*=*=*=*=*=*=*=*=*=*=*=*=*=*=*=*=*=*=*=*=*=*=*=*=*=*=*=*=*=*=*=*=*=*=*=*=*=*=*=*=\n",
            "fold 3 EPOCH 27: mean position error with floor 533.3956277607717\n",
            "fold 3 EPOCH 27: mean position error without floor 407.86634382566587\n",
            "*=*=*=*=*=*=*=*=*=*=*=*=*=*=*=*=*=*=*=*=*=*=*=*=*=*=*=*=*=*=*=*=*=*=*=*=*=*=*=*=*=*=*=*=*=*=*=*=*=*=\n"
          ],
          "name": "stdout"
        },
        {
          "output_type": "stream",
          "text": [
            "loss:4111.95556640625: 100%|██████████| 323/323 [00:45<00:00,  7.14it/s]\n",
            "100%|██████████| 81/81 [00:08<00:00,  9.61it/s]\n",
            "  0%|          | 0/323 [00:00<?, ?it/s]"
          ],
          "name": "stderr"
        },
        {
          "output_type": "stream",
          "text": [
            "*=*=*=*=*=*=*=*=*=*=*=*=*=*=*=*=*=*=*=*=*=*=*=*=*=*=*=*=*=*=*=*=*=*=*=*=*=*=*=*=*=*=*=*=*=*=*=*=*=*=\n",
            "fold 3 EPOCH 28: mean position error with floor 443.1386405606434\n",
            "fold 3 EPOCH 28: mean position error without floor 317.6198789346247\n",
            "*=*=*=*=*=*=*=*=*=*=*=*=*=*=*=*=*=*=*=*=*=*=*=*=*=*=*=*=*=*=*=*=*=*=*=*=*=*=*=*=*=*=*=*=*=*=*=*=*=*=\n"
          ],
          "name": "stdout"
        },
        {
          "output_type": "stream",
          "text": [
            "loss:2533.3349609375: 100%|██████████| 323/323 [00:45<00:00,  7.13it/s]\n",
            "100%|██████████| 81/81 [00:08<00:00,  9.56it/s]\n",
            "  0%|          | 0/323 [00:00<?, ?it/s]"
          ],
          "name": "stderr"
        },
        {
          "output_type": "stream",
          "text": [
            "*=*=*=*=*=*=*=*=*=*=*=*=*=*=*=*=*=*=*=*=*=*=*=*=*=*=*=*=*=*=*=*=*=*=*=*=*=*=*=*=*=*=*=*=*=*=*=*=*=*=\n",
            "fold 3 EPOCH 29: mean position error with floor 391.8457253339843\n",
            "fold 3 EPOCH 29: mean position error without floor 267.4934382566586\n",
            "*=*=*=*=*=*=*=*=*=*=*=*=*=*=*=*=*=*=*=*=*=*=*=*=*=*=*=*=*=*=*=*=*=*=*=*=*=*=*=*=*=*=*=*=*=*=*=*=*=*=\n"
          ],
          "name": "stdout"
        },
        {
          "output_type": "stream",
          "text": [
            "loss:2185.995849609375: 100%|██████████| 323/323 [00:45<00:00,  7.12it/s]\n",
            "100%|██████████| 81/81 [00:08<00:00,  9.46it/s]\n",
            "  0%|          | 0/323 [00:00<?, ?it/s]"
          ],
          "name": "stderr"
        },
        {
          "output_type": "stream",
          "text": [
            "*=*=*=*=*=*=*=*=*=*=*=*=*=*=*=*=*=*=*=*=*=*=*=*=*=*=*=*=*=*=*=*=*=*=*=*=*=*=*=*=*=*=*=*=*=*=*=*=*=*=\n",
            "fold 3 EPOCH 30: mean position error with floor 378.9056975161019\n",
            "fold 3 EPOCH 30: mean position error without floor 256.10861985472155\n",
            "*=*=*=*=*=*=*=*=*=*=*=*=*=*=*=*=*=*=*=*=*=*=*=*=*=*=*=*=*=*=*=*=*=*=*=*=*=*=*=*=*=*=*=*=*=*=*=*=*=*=\n"
          ],
          "name": "stdout"
        },
        {
          "output_type": "stream",
          "text": [
            "loss:2063.50439453125: 100%|██████████| 323/323 [00:44<00:00,  7.21it/s]\n",
            "100%|██████████| 81/81 [00:08<00:00,  9.49it/s]\n",
            "  0%|          | 0/323 [00:00<?, ?it/s]"
          ],
          "name": "stderr"
        },
        {
          "output_type": "stream",
          "text": [
            "*=*=*=*=*=*=*=*=*=*=*=*=*=*=*=*=*=*=*=*=*=*=*=*=*=*=*=*=*=*=*=*=*=*=*=*=*=*=*=*=*=*=*=*=*=*=*=*=*=*=\n",
            "fold 3 EPOCH 31: mean position error with floor 372.2375029864727\n",
            "fold 3 EPOCH 31: mean position error without floor 250.4296368038741\n",
            "*=*=*=*=*=*=*=*=*=*=*=*=*=*=*=*=*=*=*=*=*=*=*=*=*=*=*=*=*=*=*=*=*=*=*=*=*=*=*=*=*=*=*=*=*=*=*=*=*=*=\n"
          ],
          "name": "stdout"
        },
        {
          "output_type": "stream",
          "text": [
            "loss:1992.7080078125: 100%|██████████| 323/323 [00:44<00:00,  7.20it/s]\n",
            "100%|██████████| 81/81 [00:08<00:00,  9.23it/s]\n",
            "  0%|          | 0/323 [00:00<?, ?it/s]"
          ],
          "name": "stderr"
        },
        {
          "output_type": "stream",
          "text": [
            "*=*=*=*=*=*=*=*=*=*=*=*=*=*=*=*=*=*=*=*=*=*=*=*=*=*=*=*=*=*=*=*=*=*=*=*=*=*=*=*=*=*=*=*=*=*=*=*=*=*=\n",
            "fold 3 EPOCH 32: mean position error with floor 366.97912516222164\n",
            "fold 3 EPOCH 32: mean position error without floor 245.83154963680389\n",
            "*=*=*=*=*=*=*=*=*=*=*=*=*=*=*=*=*=*=*=*=*=*=*=*=*=*=*=*=*=*=*=*=*=*=*=*=*=*=*=*=*=*=*=*=*=*=*=*=*=*=\n"
          ],
          "name": "stdout"
        },
        {
          "output_type": "stream",
          "text": [
            "loss:1889.94580078125: 100%|██████████| 323/323 [00:44<00:00,  7.19it/s]\n",
            "100%|██████████| 81/81 [00:08<00:00,  9.25it/s]\n",
            "  0%|          | 0/323 [00:00<?, ?it/s]"
          ],
          "name": "stderr"
        },
        {
          "output_type": "stream",
          "text": [
            "*=*=*=*=*=*=*=*=*=*=*=*=*=*=*=*=*=*=*=*=*=*=*=*=*=*=*=*=*=*=*=*=*=*=*=*=*=*=*=*=*=*=*=*=*=*=*=*=*=*=\n",
            "fold 3 EPOCH 33: mean position error with floor 343.3537565227441\n",
            "fold 3 EPOCH 33: mean position error without floor 222.0620338983051\n",
            "*=*=*=*=*=*=*=*=*=*=*=*=*=*=*=*=*=*=*=*=*=*=*=*=*=*=*=*=*=*=*=*=*=*=*=*=*=*=*=*=*=*=*=*=*=*=*=*=*=*=\n"
          ],
          "name": "stdout"
        },
        {
          "output_type": "stream",
          "text": [
            "loss:1380.92578125: 100%|██████████| 323/323 [00:45<00:00,  7.09it/s]\n",
            "100%|██████████| 81/81 [00:08<00:00,  9.48it/s]\n",
            "  0%|          | 0/323 [00:00<?, ?it/s]"
          ],
          "name": "stderr"
        },
        {
          "output_type": "stream",
          "text": [
            "*=*=*=*=*=*=*=*=*=*=*=*=*=*=*=*=*=*=*=*=*=*=*=*=*=*=*=*=*=*=*=*=*=*=*=*=*=*=*=*=*=*=*=*=*=*=*=*=*=*=\n",
            "fold 3 EPOCH 34: mean position error with floor 292.5766838392601\n",
            "fold 3 EPOCH 34: mean position error without floor 171.08682808716708\n",
            "*=*=*=*=*=*=*=*=*=*=*=*=*=*=*=*=*=*=*=*=*=*=*=*=*=*=*=*=*=*=*=*=*=*=*=*=*=*=*=*=*=*=*=*=*=*=*=*=*=*=\n"
          ],
          "name": "stdout"
        },
        {
          "output_type": "stream",
          "text": [
            "loss:1026.1051025390625: 100%|██████████| 323/323 [00:44<00:00,  7.25it/s]\n",
            "100%|██████████| 81/81 [00:08<00:00,  9.43it/s]\n",
            "  0%|          | 0/323 [00:00<?, ?it/s]"
          ],
          "name": "stderr"
        },
        {
          "output_type": "stream",
          "text": [
            "*=*=*=*=*=*=*=*=*=*=*=*=*=*=*=*=*=*=*=*=*=*=*=*=*=*=*=*=*=*=*=*=*=*=*=*=*=*=*=*=*=*=*=*=*=*=*=*=*=*=\n",
            "fold 3 EPOCH 35: mean position error with floor 265.3174768436078\n",
            "fold 3 EPOCH 35: mean position error without floor 143.68182808716708\n",
            "*=*=*=*=*=*=*=*=*=*=*=*=*=*=*=*=*=*=*=*=*=*=*=*=*=*=*=*=*=*=*=*=*=*=*=*=*=*=*=*=*=*=*=*=*=*=*=*=*=*=\n"
          ],
          "name": "stdout"
        },
        {
          "output_type": "stream",
          "text": [
            "loss:816.253662109375: 100%|██████████| 323/323 [00:44<00:00,  7.24it/s]\n",
            "100%|██████████| 81/81 [00:08<00:00,  9.57it/s]\n",
            "  0%|          | 0/323 [00:00<?, ?it/s]"
          ],
          "name": "stderr"
        },
        {
          "output_type": "stream",
          "text": [
            "*=*=*=*=*=*=*=*=*=*=*=*=*=*=*=*=*=*=*=*=*=*=*=*=*=*=*=*=*=*=*=*=*=*=*=*=*=*=*=*=*=*=*=*=*=*=*=*=*=*=\n",
            "fold 3 EPOCH 36: mean position error with floor 246.19917971188343\n",
            "fold 3 EPOCH 36: mean position error without floor 124.36077481840194\n",
            "*=*=*=*=*=*=*=*=*=*=*=*=*=*=*=*=*=*=*=*=*=*=*=*=*=*=*=*=*=*=*=*=*=*=*=*=*=*=*=*=*=*=*=*=*=*=*=*=*=*=\n"
          ],
          "name": "stdout"
        },
        {
          "output_type": "stream",
          "text": [
            "loss:667.6447143554688: 100%|██████████| 323/323 [00:44<00:00,  7.22it/s]\n",
            "100%|██████████| 81/81 [00:08<00:00,  9.72it/s]\n",
            "  0%|          | 0/323 [00:00<?, ?it/s]"
          ],
          "name": "stderr"
        },
        {
          "output_type": "stream",
          "text": [
            "*=*=*=*=*=*=*=*=*=*=*=*=*=*=*=*=*=*=*=*=*=*=*=*=*=*=*=*=*=*=*=*=*=*=*=*=*=*=*=*=*=*=*=*=*=*=*=*=*=*=\n",
            "fold 3 EPOCH 37: mean position error with floor 232.3184854781274\n",
            "fold 3 EPOCH 37: mean position error without floor 110.3561985472155\n",
            "*=*=*=*=*=*=*=*=*=*=*=*=*=*=*=*=*=*=*=*=*=*=*=*=*=*=*=*=*=*=*=*=*=*=*=*=*=*=*=*=*=*=*=*=*=*=*=*=*=*=\n"
          ],
          "name": "stdout"
        },
        {
          "output_type": "stream",
          "text": [
            "loss:554.8729858398438: 100%|██████████| 323/323 [00:44<00:00,  7.25it/s]\n",
            "100%|██████████| 81/81 [00:08<00:00,  9.43it/s]\n",
            "  0%|          | 0/323 [00:00<?, ?it/s]"
          ],
          "name": "stderr"
        },
        {
          "output_type": "stream",
          "text": [
            "*=*=*=*=*=*=*=*=*=*=*=*=*=*=*=*=*=*=*=*=*=*=*=*=*=*=*=*=*=*=*=*=*=*=*=*=*=*=*=*=*=*=*=*=*=*=*=*=*=*=\n",
            "fold 3 EPOCH 38: mean position error with floor 221.2002911428483\n",
            "fold 3 EPOCH 38: mean position error without floor 99.17814769975787\n",
            "*=*=*=*=*=*=*=*=*=*=*=*=*=*=*=*=*=*=*=*=*=*=*=*=*=*=*=*=*=*=*=*=*=*=*=*=*=*=*=*=*=*=*=*=*=*=*=*=*=*=\n"
          ],
          "name": "stdout"
        },
        {
          "output_type": "stream",
          "text": [
            "loss:466.56829833984375: 100%|██████████| 323/323 [00:45<00:00,  7.12it/s]\n",
            "100%|██████████| 81/81 [00:08<00:00,  9.56it/s]\n",
            "  0%|          | 0/323 [00:00<?, ?it/s]"
          ],
          "name": "stderr"
        },
        {
          "output_type": "stream",
          "text": [
            "*=*=*=*=*=*=*=*=*=*=*=*=*=*=*=*=*=*=*=*=*=*=*=*=*=*=*=*=*=*=*=*=*=*=*=*=*=*=*=*=*=*=*=*=*=*=*=*=*=*=\n",
            "fold 3 EPOCH 39: mean position error with floor 212.2329409455546\n",
            "fold 3 EPOCH 39: mean position error without floor 90.05780266343825\n",
            "*=*=*=*=*=*=*=*=*=*=*=*=*=*=*=*=*=*=*=*=*=*=*=*=*=*=*=*=*=*=*=*=*=*=*=*=*=*=*=*=*=*=*=*=*=*=*=*=*=*=\n"
          ],
          "name": "stdout"
        },
        {
          "output_type": "stream",
          "text": [
            "loss:397.0299072265625: 100%|██████████| 323/323 [00:44<00:00,  7.20it/s]\n",
            "100%|██████████| 81/81 [00:08<00:00,  9.60it/s]\n",
            "  0%|          | 0/323 [00:00<?, ?it/s]"
          ],
          "name": "stderr"
        },
        {
          "output_type": "stream",
          "text": [
            "*=*=*=*=*=*=*=*=*=*=*=*=*=*=*=*=*=*=*=*=*=*=*=*=*=*=*=*=*=*=*=*=*=*=*=*=*=*=*=*=*=*=*=*=*=*=*=*=*=*=\n",
            "fold 3 EPOCH 40: mean position error with floor 204.90356004055897\n",
            "fold 3 EPOCH 40: mean position error without floor 82.60738498789347\n",
            "*=*=*=*=*=*=*=*=*=*=*=*=*=*=*=*=*=*=*=*=*=*=*=*=*=*=*=*=*=*=*=*=*=*=*=*=*=*=*=*=*=*=*=*=*=*=*=*=*=*=\n"
          ],
          "name": "stdout"
        },
        {
          "output_type": "stream",
          "text": [
            "loss:339.5502014160156: 100%|██████████| 323/323 [00:44<00:00,  7.26it/s]\n",
            "100%|██████████| 81/81 [00:08<00:00,  9.63it/s]\n",
            "  0%|          | 0/323 [00:00<?, ?it/s]"
          ],
          "name": "stderr"
        },
        {
          "output_type": "stream",
          "text": [
            "*=*=*=*=*=*=*=*=*=*=*=*=*=*=*=*=*=*=*=*=*=*=*=*=*=*=*=*=*=*=*=*=*=*=*=*=*=*=*=*=*=*=*=*=*=*=*=*=*=*=\n",
            "fold 3 EPOCH 41: mean position error with floor 198.47145950608027\n",
            "fold 3 EPOCH 41: mean position error without floor 76.0134745762712\n",
            "*=*=*=*=*=*=*=*=*=*=*=*=*=*=*=*=*=*=*=*=*=*=*=*=*=*=*=*=*=*=*=*=*=*=*=*=*=*=*=*=*=*=*=*=*=*=*=*=*=*=\n"
          ],
          "name": "stdout"
        },
        {
          "output_type": "stream",
          "text": [
            "loss:293.1184387207031: 100%|██████████| 323/323 [00:47<00:00,  6.80it/s]\n",
            "100%|██████████| 81/81 [00:09<00:00,  8.92it/s]\n",
            "  0%|          | 0/323 [00:00<?, ?it/s]"
          ],
          "name": "stderr"
        },
        {
          "output_type": "stream",
          "text": [
            "*=*=*=*=*=*=*=*=*=*=*=*=*=*=*=*=*=*=*=*=*=*=*=*=*=*=*=*=*=*=*=*=*=*=*=*=*=*=*=*=*=*=*=*=*=*=*=*=*=*=\n",
            "fold 3 EPOCH 42: mean position error with floor 194.45036121741117\n",
            "fold 3 EPOCH 42: mean position error without floor 71.82188256658596\n",
            "*=*=*=*=*=*=*=*=*=*=*=*=*=*=*=*=*=*=*=*=*=*=*=*=*=*=*=*=*=*=*=*=*=*=*=*=*=*=*=*=*=*=*=*=*=*=*=*=*=*=\n"
          ],
          "name": "stdout"
        },
        {
          "output_type": "stream",
          "text": [
            "loss:255.37484741210938: 100%|██████████| 323/323 [00:47<00:00,  6.76it/s]\n",
            "100%|██████████| 81/81 [00:08<00:00,  9.17it/s]\n",
            "  0%|          | 0/323 [00:00<?, ?it/s]"
          ],
          "name": "stderr"
        },
        {
          "output_type": "stream",
          "text": [
            "*=*=*=*=*=*=*=*=*=*=*=*=*=*=*=*=*=*=*=*=*=*=*=*=*=*=*=*=*=*=*=*=*=*=*=*=*=*=*=*=*=*=*=*=*=*=*=*=*=*=\n",
            "fold 3 EPOCH 43: mean position error with floor 190.44811577042677\n",
            "fold 3 EPOCH 43: mean position error without floor 67.55384987893463\n",
            "*=*=*=*=*=*=*=*=*=*=*=*=*=*=*=*=*=*=*=*=*=*=*=*=*=*=*=*=*=*=*=*=*=*=*=*=*=*=*=*=*=*=*=*=*=*=*=*=*=*=\n"
          ],
          "name": "stdout"
        },
        {
          "output_type": "stream",
          "text": [
            "loss:220.06753540039062: 100%|██████████| 323/323 [00:46<00:00,  6.96it/s]\n",
            "100%|██████████| 81/81 [00:08<00:00,  9.46it/s]\n",
            "  0%|          | 0/323 [00:00<?, ?it/s]"
          ],
          "name": "stderr"
        },
        {
          "output_type": "stream",
          "text": [
            "*=*=*=*=*=*=*=*=*=*=*=*=*=*=*=*=*=*=*=*=*=*=*=*=*=*=*=*=*=*=*=*=*=*=*=*=*=*=*=*=*=*=*=*=*=*=*=*=*=*=\n",
            "fold 3 EPOCH 44: mean position error with floor 186.17560372399717\n",
            "fold 3 EPOCH 44: mean position error without floor 63.19330508474576\n",
            "*=*=*=*=*=*=*=*=*=*=*=*=*=*=*=*=*=*=*=*=*=*=*=*=*=*=*=*=*=*=*=*=*=*=*=*=*=*=*=*=*=*=*=*=*=*=*=*=*=*=\n"
          ],
          "name": "stdout"
        },
        {
          "output_type": "stream",
          "text": [
            "loss:190.3008575439453: 100%|██████████| 323/323 [00:46<00:00,  6.92it/s]\n",
            "100%|██████████| 81/81 [00:08<00:00,  9.45it/s]\n",
            "  0%|          | 0/323 [00:00<?, ?it/s]"
          ],
          "name": "stderr"
        },
        {
          "output_type": "stream",
          "text": [
            "*=*=*=*=*=*=*=*=*=*=*=*=*=*=*=*=*=*=*=*=*=*=*=*=*=*=*=*=*=*=*=*=*=*=*=*=*=*=*=*=*=*=*=*=*=*=*=*=*=*=\n",
            "fold 3 EPOCH 45: mean position error with floor 183.32785941009985\n",
            "fold 3 EPOCH 45: mean position error without floor 60.164521791767555\n",
            "*=*=*=*=*=*=*=*=*=*=*=*=*=*=*=*=*=*=*=*=*=*=*=*=*=*=*=*=*=*=*=*=*=*=*=*=*=*=*=*=*=*=*=*=*=*=*=*=*=*=\n"
          ],
          "name": "stdout"
        },
        {
          "output_type": "stream",
          "text": [
            "loss:166.67164611816406: 100%|██████████| 323/323 [00:46<00:00,  6.95it/s]\n",
            "100%|██████████| 81/81 [00:08<00:00,  9.01it/s]\n",
            "  0%|          | 0/323 [00:00<?, ?it/s]"
          ],
          "name": "stderr"
        },
        {
          "output_type": "stream",
          "text": [
            "*=*=*=*=*=*=*=*=*=*=*=*=*=*=*=*=*=*=*=*=*=*=*=*=*=*=*=*=*=*=*=*=*=*=*=*=*=*=*=*=*=*=*=*=*=*=*=*=*=*=\n",
            "fold 3 EPOCH 46: mean position error with floor 180.89868541239466\n",
            "fold 3 EPOCH 46: mean position error without floor 57.602699757869246\n",
            "*=*=*=*=*=*=*=*=*=*=*=*=*=*=*=*=*=*=*=*=*=*=*=*=*=*=*=*=*=*=*=*=*=*=*=*=*=*=*=*=*=*=*=*=*=*=*=*=*=*=\n"
          ],
          "name": "stdout"
        },
        {
          "output_type": "stream",
          "text": [
            "loss:146.10765075683594: 100%|██████████| 323/323 [00:48<00:00,  6.71it/s]\n",
            "100%|██████████| 81/81 [00:09<00:00,  8.98it/s]\n",
            "  0%|          | 0/323 [00:00<?, ?it/s]"
          ],
          "name": "stderr"
        },
        {
          "output_type": "stream",
          "text": [
            "*=*=*=*=*=*=*=*=*=*=*=*=*=*=*=*=*=*=*=*=*=*=*=*=*=*=*=*=*=*=*=*=*=*=*=*=*=*=*=*=*=*=*=*=*=*=*=*=*=*=\n",
            "fold 3 EPOCH 47: mean position error with floor 178.4410902347432\n",
            "fold 3 EPOCH 47: mean position error without floor 55.19076271186441\n",
            "*=*=*=*=*=*=*=*=*=*=*=*=*=*=*=*=*=*=*=*=*=*=*=*=*=*=*=*=*=*=*=*=*=*=*=*=*=*=*=*=*=*=*=*=*=*=*=*=*=*=\n"
          ],
          "name": "stdout"
        },
        {
          "output_type": "stream",
          "text": [
            "loss:125.94186401367188: 100%|██████████| 323/323 [00:47<00:00,  6.86it/s]\n",
            "100%|██████████| 81/81 [00:09<00:00,  9.00it/s]\n",
            "  0%|          | 0/323 [00:00<?, ?it/s]"
          ],
          "name": "stderr"
        },
        {
          "output_type": "stream",
          "text": [
            "*=*=*=*=*=*=*=*=*=*=*=*=*=*=*=*=*=*=*=*=*=*=*=*=*=*=*=*=*=*=*=*=*=*=*=*=*=*=*=*=*=*=*=*=*=*=*=*=*=*=\n",
            "fold 3 EPOCH 48: mean position error with floor 175.83821974171295\n",
            "fold 3 EPOCH 48: mean position error without floor 52.38757263922518\n",
            "*=*=*=*=*=*=*=*=*=*=*=*=*=*=*=*=*=*=*=*=*=*=*=*=*=*=*=*=*=*=*=*=*=*=*=*=*=*=*=*=*=*=*=*=*=*=*=*=*=*=\n"
          ],
          "name": "stdout"
        },
        {
          "output_type": "stream",
          "text": [
            "loss:110.58673858642578: 100%|██████████| 323/323 [00:47<00:00,  6.85it/s]\n",
            "100%|██████████| 81/81 [00:08<00:00,  9.32it/s]\n",
            "  0%|          | 0/323 [00:00<?, ?it/s]"
          ],
          "name": "stderr"
        },
        {
          "output_type": "stream",
          "text": [
            "*=*=*=*=*=*=*=*=*=*=*=*=*=*=*=*=*=*=*=*=*=*=*=*=*=*=*=*=*=*=*=*=*=*=*=*=*=*=*=*=*=*=*=*=*=*=*=*=*=*=\n",
            "fold 3 EPOCH 49: mean position error with floor 174.62415184723136\n",
            "fold 3 EPOCH 49: mean position error without floor 51.02944309927361\n",
            "*=*=*=*=*=*=*=*=*=*=*=*=*=*=*=*=*=*=*=*=*=*=*=*=*=*=*=*=*=*=*=*=*=*=*=*=*=*=*=*=*=*=*=*=*=*=*=*=*=*=\n"
          ],
          "name": "stdout"
        },
        {
          "output_type": "stream",
          "text": [
            "loss:97.74736785888672: 100%|██████████| 323/323 [00:47<00:00,  6.80it/s]\n",
            "100%|██████████| 81/81 [00:08<00:00,  9.20it/s]\n",
            "  0%|          | 0/323 [00:00<?, ?it/s]"
          ],
          "name": "stderr"
        },
        {
          "output_type": "stream",
          "text": [
            "*=*=*=*=*=*=*=*=*=*=*=*=*=*=*=*=*=*=*=*=*=*=*=*=*=*=*=*=*=*=*=*=*=*=*=*=*=*=*=*=*=*=*=*=*=*=*=*=*=*=\n",
            "fold 3 EPOCH 50: mean position error with floor 173.12087909649995\n",
            "fold 3 EPOCH 50: mean position error without floor 49.331858353510896\n",
            "*=*=*=*=*=*=*=*=*=*=*=*=*=*=*=*=*=*=*=*=*=*=*=*=*=*=*=*=*=*=*=*=*=*=*=*=*=*=*=*=*=*=*=*=*=*=*=*=*=*=\n"
          ],
          "name": "stdout"
        },
        {
          "output_type": "stream",
          "text": [
            "loss:86.91506958007812: 100%|██████████| 323/323 [00:47<00:00,  6.83it/s]\n",
            "100%|██████████| 81/81 [00:08<00:00,  9.22it/s]\n",
            "  0%|          | 0/323 [00:00<?, ?it/s]"
          ],
          "name": "stderr"
        },
        {
          "output_type": "stream",
          "text": [
            "*=*=*=*=*=*=*=*=*=*=*=*=*=*=*=*=*=*=*=*=*=*=*=*=*=*=*=*=*=*=*=*=*=*=*=*=*=*=*=*=*=*=*=*=*=*=*=*=*=*=\n",
            "fold 3 EPOCH 51: mean position error with floor 172.20991503023927\n",
            "fold 3 EPOCH 51: mean position error without floor 48.131334745762715\n",
            "*=*=*=*=*=*=*=*=*=*=*=*=*=*=*=*=*=*=*=*=*=*=*=*=*=*=*=*=*=*=*=*=*=*=*=*=*=*=*=*=*=*=*=*=*=*=*=*=*=*=\n"
          ],
          "name": "stdout"
        },
        {
          "output_type": "stream",
          "text": [
            "loss:78.0771255493164: 100%|██████████| 323/323 [00:47<00:00,  6.77it/s]\n",
            "100%|██████████| 81/81 [00:08<00:00,  9.04it/s]\n",
            "  0%|          | 0/323 [00:00<?, ?it/s]"
          ],
          "name": "stderr"
        },
        {
          "output_type": "stream",
          "text": [
            "*=*=*=*=*=*=*=*=*=*=*=*=*=*=*=*=*=*=*=*=*=*=*=*=*=*=*=*=*=*=*=*=*=*=*=*=*=*=*=*=*=*=*=*=*=*=*=*=*=*=\n",
            "fold 3 EPOCH 52: mean position error with floor 171.3014223075005\n",
            "fold 3 EPOCH 52: mean position error without floor 47.21842615012107\n",
            "*=*=*=*=*=*=*=*=*=*=*=*=*=*=*=*=*=*=*=*=*=*=*=*=*=*=*=*=*=*=*=*=*=*=*=*=*=*=*=*=*=*=*=*=*=*=*=*=*=*=\n"
          ],
          "name": "stdout"
        },
        {
          "output_type": "stream",
          "text": [
            "loss:70.3992919921875: 100%|██████████| 323/323 [00:47<00:00,  6.80it/s]\n",
            "100%|██████████| 81/81 [00:08<00:00,  9.05it/s]\n",
            "  0%|          | 0/323 [00:00<?, ?it/s]"
          ],
          "name": "stderr"
        },
        {
          "output_type": "stream",
          "text": [
            "*=*=*=*=*=*=*=*=*=*=*=*=*=*=*=*=*=*=*=*=*=*=*=*=*=*=*=*=*=*=*=*=*=*=*=*=*=*=*=*=*=*=*=*=*=*=*=*=*=*=\n",
            "fold 3 EPOCH 53: mean position error with floor 170.79964254532766\n",
            "fold 3 EPOCH 53: mean position error without floor 46.618840799031474\n",
            "*=*=*=*=*=*=*=*=*=*=*=*=*=*=*=*=*=*=*=*=*=*=*=*=*=*=*=*=*=*=*=*=*=*=*=*=*=*=*=*=*=*=*=*=*=*=*=*=*=*=\n"
          ],
          "name": "stdout"
        },
        {
          "output_type": "stream",
          "text": [
            "loss:63.45924377441406: 100%|██████████| 323/323 [00:47<00:00,  6.74it/s]\n",
            "100%|██████████| 81/81 [00:09<00:00,  8.94it/s]\n",
            "  0%|          | 0/323 [00:00<?, ?it/s]"
          ],
          "name": "stderr"
        },
        {
          "output_type": "stream",
          "text": [
            "*=*=*=*=*=*=*=*=*=*=*=*=*=*=*=*=*=*=*=*=*=*=*=*=*=*=*=*=*=*=*=*=*=*=*=*=*=*=*=*=*=*=*=*=*=*=*=*=*=*=\n",
            "fold 3 EPOCH 54: mean position error with floor 170.01459830775423\n",
            "fold 3 EPOCH 54: mean position error without floor 45.663050847457626\n",
            "*=*=*=*=*=*=*=*=*=*=*=*=*=*=*=*=*=*=*=*=*=*=*=*=*=*=*=*=*=*=*=*=*=*=*=*=*=*=*=*=*=*=*=*=*=*=*=*=*=*=\n"
          ],
          "name": "stdout"
        },
        {
          "output_type": "stream",
          "text": [
            "loss:57.2030143737793: 100%|██████████| 323/323 [00:47<00:00,  6.74it/s]\n",
            "100%|██████████| 81/81 [00:08<00:00,  9.19it/s]\n",
            "  0%|          | 0/323 [00:00<?, ?it/s]"
          ],
          "name": "stderr"
        },
        {
          "output_type": "stream",
          "text": [
            "*=*=*=*=*=*=*=*=*=*=*=*=*=*=*=*=*=*=*=*=*=*=*=*=*=*=*=*=*=*=*=*=*=*=*=*=*=*=*=*=*=*=*=*=*=*=*=*=*=*=\n",
            "fold 3 EPOCH 55: mean position error with floor 169.53441116461164\n",
            "fold 3 EPOCH 55: mean position error without floor 45.09262711864407\n",
            "*=*=*=*=*=*=*=*=*=*=*=*=*=*=*=*=*=*=*=*=*=*=*=*=*=*=*=*=*=*=*=*=*=*=*=*=*=*=*=*=*=*=*=*=*=*=*=*=*=*=\n"
          ],
          "name": "stdout"
        },
        {
          "output_type": "stream",
          "text": [
            "loss:51.60452651977539: 100%|██████████| 323/323 [00:48<00:00,  6.68it/s]\n",
            "100%|██████████| 81/81 [00:08<00:00,  9.10it/s]\n",
            "  0%|          | 0/323 [00:00<?, ?it/s]"
          ],
          "name": "stderr"
        },
        {
          "output_type": "stream",
          "text": [
            "*=*=*=*=*=*=*=*=*=*=*=*=*=*=*=*=*=*=*=*=*=*=*=*=*=*=*=*=*=*=*=*=*=*=*=*=*=*=*=*=*=*=*=*=*=*=*=*=*=*=\n",
            "fold 3 EPOCH 56: mean position error with floor 169.17820222911277\n",
            "fold 3 EPOCH 56: mean position error without floor 44.63977300242131\n",
            "*=*=*=*=*=*=*=*=*=*=*=*=*=*=*=*=*=*=*=*=*=*=*=*=*=*=*=*=*=*=*=*=*=*=*=*=*=*=*=*=*=*=*=*=*=*=*=*=*=*=\n"
          ],
          "name": "stdout"
        },
        {
          "output_type": "stream",
          "text": [
            "loss:47.09855651855469: 100%|██████████| 323/323 [00:48<00:00,  6.72it/s]\n",
            "100%|██████████| 81/81 [00:09<00:00,  8.94it/s]\n",
            "  0%|          | 0/323 [00:00<?, ?it/s]"
          ],
          "name": "stderr"
        },
        {
          "output_type": "stream",
          "text": [
            "*=*=*=*=*=*=*=*=*=*=*=*=*=*=*=*=*=*=*=*=*=*=*=*=*=*=*=*=*=*=*=*=*=*=*=*=*=*=*=*=*=*=*=*=*=*=*=*=*=*=\n",
            "fold 3 EPOCH 57: mean position error with floor 168.3232254348091\n",
            "fold 3 EPOCH 57: mean position error without floor 43.66180992736078\n",
            "*=*=*=*=*=*=*=*=*=*=*=*=*=*=*=*=*=*=*=*=*=*=*=*=*=*=*=*=*=*=*=*=*=*=*=*=*=*=*=*=*=*=*=*=*=*=*=*=*=*=\n"
          ],
          "name": "stdout"
        },
        {
          "output_type": "stream",
          "text": [
            "loss:43.08738708496094: 100%|██████████| 323/323 [00:48<00:00,  6.60it/s]\n",
            "100%|██████████| 81/81 [00:09<00:00,  8.84it/s]\n",
            "  0%|          | 0/323 [00:00<?, ?it/s]"
          ],
          "name": "stderr"
        },
        {
          "output_type": "stream",
          "text": [
            "*=*=*=*=*=*=*=*=*=*=*=*=*=*=*=*=*=*=*=*=*=*=*=*=*=*=*=*=*=*=*=*=*=*=*=*=*=*=*=*=*=*=*=*=*=*=*=*=*=*=\n",
            "fold 3 EPOCH 58: mean position error with floor 167.51970409338062\n",
            "fold 3 EPOCH 58: mean position error without floor 42.793544188861986\n",
            "*=*=*=*=*=*=*=*=*=*=*=*=*=*=*=*=*=*=*=*=*=*=*=*=*=*=*=*=*=*=*=*=*=*=*=*=*=*=*=*=*=*=*=*=*=*=*=*=*=*=\n"
          ],
          "name": "stdout"
        },
        {
          "output_type": "stream",
          "text": [
            "loss:39.406490325927734: 100%|██████████| 323/323 [00:47<00:00,  6.76it/s]\n",
            "100%|██████████| 81/81 [00:08<00:00,  9.30it/s]\n",
            "  0%|          | 0/323 [00:00<?, ?it/s]"
          ],
          "name": "stderr"
        },
        {
          "output_type": "stream",
          "text": [
            "*=*=*=*=*=*=*=*=*=*=*=*=*=*=*=*=*=*=*=*=*=*=*=*=*=*=*=*=*=*=*=*=*=*=*=*=*=*=*=*=*=*=*=*=*=*=*=*=*=*=\n",
            "fold 3 EPOCH 59: mean position error with floor 167.8124977969526\n",
            "fold 3 EPOCH 59: mean position error without floor 43.02991828087167\n",
            "*=*=*=*=*=*=*=*=*=*=*=*=*=*=*=*=*=*=*=*=*=*=*=*=*=*=*=*=*=*=*=*=*=*=*=*=*=*=*=*=*=*=*=*=*=*=*=*=*=*=\n"
          ],
          "name": "stdout"
        },
        {
          "output_type": "stream",
          "text": [
            "loss:36.26200485229492: 100%|██████████| 323/323 [00:46<00:00,  6.89it/s]\n",
            "100%|██████████| 81/81 [00:08<00:00,  9.44it/s]\n",
            "  0%|          | 0/323 [00:00<?, ?it/s]"
          ],
          "name": "stderr"
        },
        {
          "output_type": "stream",
          "text": [
            "*=*=*=*=*=*=*=*=*=*=*=*=*=*=*=*=*=*=*=*=*=*=*=*=*=*=*=*=*=*=*=*=*=*=*=*=*=*=*=*=*=*=*=*=*=*=*=*=*=*=\n",
            "fold 3 EPOCH 60: mean position error with floor 167.26922811832145\n",
            "fold 3 EPOCH 60: mean position error without floor 42.49867736077482\n",
            "*=*=*=*=*=*=*=*=*=*=*=*=*=*=*=*=*=*=*=*=*=*=*=*=*=*=*=*=*=*=*=*=*=*=*=*=*=*=*=*=*=*=*=*=*=*=*=*=*=*=\n"
          ],
          "name": "stdout"
        },
        {
          "output_type": "stream",
          "text": [
            "loss:33.47434616088867: 100%|██████████| 323/323 [00:46<00:00,  6.87it/s]\n",
            "100%|██████████| 81/81 [00:08<00:00,  9.18it/s]\n",
            "  0%|          | 0/323 [00:00<?, ?it/s]"
          ],
          "name": "stderr"
        },
        {
          "output_type": "stream",
          "text": [
            "*=*=*=*=*=*=*=*=*=*=*=*=*=*=*=*=*=*=*=*=*=*=*=*=*=*=*=*=*=*=*=*=*=*=*=*=*=*=*=*=*=*=*=*=*=*=*=*=*=*=\n",
            "fold 3 EPOCH 61: mean position error with floor 167.32918778930969\n",
            "fold 3 EPOCH 61: mean position error without floor 42.41972760290557\n",
            "*=*=*=*=*=*=*=*=*=*=*=*=*=*=*=*=*=*=*=*=*=*=*=*=*=*=*=*=*=*=*=*=*=*=*=*=*=*=*=*=*=*=*=*=*=*=*=*=*=*=\n"
          ],
          "name": "stdout"
        },
        {
          "output_type": "stream",
          "text": [
            "loss:30.831607818603516: 100%|██████████| 323/323 [00:46<00:00,  6.92it/s]\n",
            "100%|██████████| 81/81 [00:08<00:00,  9.29it/s]\n",
            "  0%|          | 0/323 [00:00<?, ?it/s]"
          ],
          "name": "stderr"
        },
        {
          "output_type": "stream",
          "text": [
            "*=*=*=*=*=*=*=*=*=*=*=*=*=*=*=*=*=*=*=*=*=*=*=*=*=*=*=*=*=*=*=*=*=*=*=*=*=*=*=*=*=*=*=*=*=*=*=*=*=*=\n",
            "fold 3 EPOCH 62: mean position error with floor 167.0265588948571\n",
            "fold 3 EPOCH 62: mean position error without floor 42.06396489104116\n",
            "*=*=*=*=*=*=*=*=*=*=*=*=*=*=*=*=*=*=*=*=*=*=*=*=*=*=*=*=*=*=*=*=*=*=*=*=*=*=*=*=*=*=*=*=*=*=*=*=*=*=\n"
          ],
          "name": "stdout"
        },
        {
          "output_type": "stream",
          "text": [
            "loss:28.509305953979492: 100%|██████████| 323/323 [00:47<00:00,  6.75it/s]\n",
            "100%|██████████| 81/81 [00:09<00:00,  8.88it/s]\n",
            "  0%|          | 0/323 [00:00<?, ?it/s]"
          ],
          "name": "stderr"
        },
        {
          "output_type": "stream",
          "text": [
            "*=*=*=*=*=*=*=*=*=*=*=*=*=*=*=*=*=*=*=*=*=*=*=*=*=*=*=*=*=*=*=*=*=*=*=*=*=*=*=*=*=*=*=*=*=*=*=*=*=*=\n",
            "fold 3 EPOCH 63: mean position error with floor 166.19517197388137\n",
            "fold 3 EPOCH 63: mean position error without floor 41.24702784503632\n",
            "*=*=*=*=*=*=*=*=*=*=*=*=*=*=*=*=*=*=*=*=*=*=*=*=*=*=*=*=*=*=*=*=*=*=*=*=*=*=*=*=*=*=*=*=*=*=*=*=*=*=\n"
          ],
          "name": "stdout"
        },
        {
          "output_type": "stream",
          "text": [
            "loss:26.57709312438965: 100%|██████████| 323/323 [00:48<00:00,  6.69it/s]\n",
            "100%|██████████| 81/81 [00:09<00:00,  8.89it/s]\n",
            "  0%|          | 0/323 [00:00<?, ?it/s]"
          ],
          "name": "stderr"
        },
        {
          "output_type": "stream",
          "text": [
            "*=*=*=*=*=*=*=*=*=*=*=*=*=*=*=*=*=*=*=*=*=*=*=*=*=*=*=*=*=*=*=*=*=*=*=*=*=*=*=*=*=*=*=*=*=*=*=*=*=*=\n",
            "fold 3 EPOCH 64: mean position error with floor 166.08744230152115\n",
            "fold 3 EPOCH 64: mean position error without floor 41.08273910411622\n",
            "*=*=*=*=*=*=*=*=*=*=*=*=*=*=*=*=*=*=*=*=*=*=*=*=*=*=*=*=*=*=*=*=*=*=*=*=*=*=*=*=*=*=*=*=*=*=*=*=*=*=\n"
          ],
          "name": "stdout"
        },
        {
          "output_type": "stream",
          "text": [
            "loss:24.713050842285156: 100%|██████████| 323/323 [00:47<00:00,  6.82it/s]\n",
            "100%|██████████| 81/81 [00:08<00:00,  9.22it/s]\n",
            "  0%|          | 0/323 [00:00<?, ?it/s]"
          ],
          "name": "stderr"
        },
        {
          "output_type": "stream",
          "text": [
            "*=*=*=*=*=*=*=*=*=*=*=*=*=*=*=*=*=*=*=*=*=*=*=*=*=*=*=*=*=*=*=*=*=*=*=*=*=*=*=*=*=*=*=*=*=*=*=*=*=*=\n",
            "fold 3 EPOCH 65: mean position error with floor 166.1103645854777\n",
            "fold 3 EPOCH 65: mean position error without floor 41.09535411622276\n",
            "*=*=*=*=*=*=*=*=*=*=*=*=*=*=*=*=*=*=*=*=*=*=*=*=*=*=*=*=*=*=*=*=*=*=*=*=*=*=*=*=*=*=*=*=*=*=*=*=*=*=\n"
          ],
          "name": "stdout"
        },
        {
          "output_type": "stream",
          "text": [
            "loss:22.993511199951172: 100%|██████████| 323/323 [00:47<00:00,  6.87it/s]\n",
            "100%|██████████| 81/81 [00:08<00:00,  9.16it/s]\n",
            "  0%|          | 0/323 [00:00<?, ?it/s]"
          ],
          "name": "stderr"
        },
        {
          "output_type": "stream",
          "text": [
            "*=*=*=*=*=*=*=*=*=*=*=*=*=*=*=*=*=*=*=*=*=*=*=*=*=*=*=*=*=*=*=*=*=*=*=*=*=*=*=*=*=*=*=*=*=*=*=*=*=*=\n",
            "fold 3 EPOCH 66: mean position error with floor 165.38490066870867\n",
            "fold 3 EPOCH 66: mean position error without floor 40.294909200968526\n",
            "*=*=*=*=*=*=*=*=*=*=*=*=*=*=*=*=*=*=*=*=*=*=*=*=*=*=*=*=*=*=*=*=*=*=*=*=*=*=*=*=*=*=*=*=*=*=*=*=*=*=\n"
          ],
          "name": "stdout"
        },
        {
          "output_type": "stream",
          "text": [
            "loss:21.2569637298584: 100%|██████████| 323/323 [00:46<00:00,  6.95it/s]\n",
            "100%|██████████| 81/81 [00:08<00:00,  9.28it/s]\n",
            "  0%|          | 0/323 [00:00<?, ?it/s]"
          ],
          "name": "stderr"
        },
        {
          "output_type": "stream",
          "text": [
            "*=*=*=*=*=*=*=*=*=*=*=*=*=*=*=*=*=*=*=*=*=*=*=*=*=*=*=*=*=*=*=*=*=*=*=*=*=*=*=*=*=*=*=*=*=*=*=*=*=*=\n",
            "fold 3 EPOCH 67: mean position error with floor 165.41080438050244\n",
            "fold 3 EPOCH 67: mean position error without floor 40.301316585956414\n",
            "*=*=*=*=*=*=*=*=*=*=*=*=*=*=*=*=*=*=*=*=*=*=*=*=*=*=*=*=*=*=*=*=*=*=*=*=*=*=*=*=*=*=*=*=*=*=*=*=*=*=\n"
          ],
          "name": "stdout"
        },
        {
          "output_type": "stream",
          "text": [
            "loss:19.85616111755371: 100%|██████████| 323/323 [00:46<00:00,  6.98it/s]\n",
            "100%|██████████| 81/81 [00:08<00:00,  9.44it/s]\n",
            "  0%|          | 0/323 [00:00<?, ?it/s]"
          ],
          "name": "stderr"
        },
        {
          "output_type": "stream",
          "text": [
            "*=*=*=*=*=*=*=*=*=*=*=*=*=*=*=*=*=*=*=*=*=*=*=*=*=*=*=*=*=*=*=*=*=*=*=*=*=*=*=*=*=*=*=*=*=*=*=*=*=*=\n",
            "fold 3 EPOCH 68: mean position error with floor 165.12600122481476\n",
            "fold 3 EPOCH 68: mean position error without floor 39.96813256658596\n",
            "*=*=*=*=*=*=*=*=*=*=*=*=*=*=*=*=*=*=*=*=*=*=*=*=*=*=*=*=*=*=*=*=*=*=*=*=*=*=*=*=*=*=*=*=*=*=*=*=*=*=\n"
          ],
          "name": "stdout"
        },
        {
          "output_type": "stream",
          "text": [
            "loss:18.631540298461914: 100%|██████████| 323/323 [00:46<00:00,  6.95it/s]\n",
            "100%|██████████| 81/81 [00:08<00:00,  9.48it/s]\n",
            "  0%|          | 0/323 [00:00<?, ?it/s]"
          ],
          "name": "stderr"
        },
        {
          "output_type": "stream",
          "text": [
            "*=*=*=*=*=*=*=*=*=*=*=*=*=*=*=*=*=*=*=*=*=*=*=*=*=*=*=*=*=*=*=*=*=*=*=*=*=*=*=*=*=*=*=*=*=*=*=*=*=*=\n",
            "fold 3 EPOCH 69: mean position error with floor 165.0293904280216\n",
            "fold 3 EPOCH 69: mean position error without floor 39.828193099273605\n",
            "*=*=*=*=*=*=*=*=*=*=*=*=*=*=*=*=*=*=*=*=*=*=*=*=*=*=*=*=*=*=*=*=*=*=*=*=*=*=*=*=*=*=*=*=*=*=*=*=*=*=\n"
          ],
          "name": "stdout"
        },
        {
          "output_type": "stream",
          "text": [
            "loss:17.532665252685547: 100%|██████████| 323/323 [00:46<00:00,  6.98it/s]\n",
            "100%|██████████| 81/81 [00:08<00:00,  9.22it/s]\n",
            "  0%|          | 0/323 [00:00<?, ?it/s]"
          ],
          "name": "stderr"
        },
        {
          "output_type": "stream",
          "text": [
            "*=*=*=*=*=*=*=*=*=*=*=*=*=*=*=*=*=*=*=*=*=*=*=*=*=*=*=*=*=*=*=*=*=*=*=*=*=*=*=*=*=*=*=*=*=*=*=*=*=*=\n",
            "fold 3 EPOCH 70: mean position error with floor 164.82828593282989\n",
            "fold 3 EPOCH 70: mean position error without floor 39.61293280871671\n",
            "*=*=*=*=*=*=*=*=*=*=*=*=*=*=*=*=*=*=*=*=*=*=*=*=*=*=*=*=*=*=*=*=*=*=*=*=*=*=*=*=*=*=*=*=*=*=*=*=*=*=\n"
          ],
          "name": "stdout"
        },
        {
          "output_type": "stream",
          "text": [
            "loss:16.641674041748047: 100%|██████████| 323/323 [00:46<00:00,  6.95it/s]\n",
            "100%|██████████| 81/81 [00:08<00:00,  9.17it/s]\n",
            "  0%|          | 0/323 [00:00<?, ?it/s]"
          ],
          "name": "stderr"
        },
        {
          "output_type": "stream",
          "text": [
            "*=*=*=*=*=*=*=*=*=*=*=*=*=*=*=*=*=*=*=*=*=*=*=*=*=*=*=*=*=*=*=*=*=*=*=*=*=*=*=*=*=*=*=*=*=*=*=*=*=*=\n",
            "fold 3 EPOCH 71: mean position error with floor 164.61322660856615\n",
            "fold 3 EPOCH 71: mean position error without floor 39.4027602905569\n",
            "*=*=*=*=*=*=*=*=*=*=*=*=*=*=*=*=*=*=*=*=*=*=*=*=*=*=*=*=*=*=*=*=*=*=*=*=*=*=*=*=*=*=*=*=*=*=*=*=*=*=\n"
          ],
          "name": "stdout"
        },
        {
          "output_type": "stream",
          "text": [
            "loss:15.607197761535645: 100%|██████████| 323/323 [00:46<00:00,  7.02it/s]\n",
            "100%|██████████| 81/81 [00:08<00:00,  9.32it/s]\n",
            "  0%|          | 0/323 [00:00<?, ?it/s]"
          ],
          "name": "stderr"
        },
        {
          "output_type": "stream",
          "text": [
            "*=*=*=*=*=*=*=*=*=*=*=*=*=*=*=*=*=*=*=*=*=*=*=*=*=*=*=*=*=*=*=*=*=*=*=*=*=*=*=*=*=*=*=*=*=*=*=*=*=*=\n",
            "fold 3 EPOCH 72: mean position error with floor 164.63533856073695\n",
            "fold 3 EPOCH 72: mean position error without floor 39.364004237288135\n",
            "*=*=*=*=*=*=*=*=*=*=*=*=*=*=*=*=*=*=*=*=*=*=*=*=*=*=*=*=*=*=*=*=*=*=*=*=*=*=*=*=*=*=*=*=*=*=*=*=*=*=\n"
          ],
          "name": "stdout"
        },
        {
          "output_type": "stream",
          "text": [
            "loss:15.008244514465332: 100%|██████████| 323/323 [00:46<00:00,  6.96it/s]\n",
            "100%|██████████| 81/81 [00:08<00:00,  9.31it/s]\n",
            "  0%|          | 0/323 [00:00<?, ?it/s]"
          ],
          "name": "stderr"
        },
        {
          "output_type": "stream",
          "text": [
            "*=*=*=*=*=*=*=*=*=*=*=*=*=*=*=*=*=*=*=*=*=*=*=*=*=*=*=*=*=*=*=*=*=*=*=*=*=*=*=*=*=*=*=*=*=*=*=*=*=*=\n",
            "fold 3 EPOCH 73: mean position error with floor 164.40710504020748\n",
            "fold 3 EPOCH 73: mean position error without floor 39.117085351089585\n",
            "*=*=*=*=*=*=*=*=*=*=*=*=*=*=*=*=*=*=*=*=*=*=*=*=*=*=*=*=*=*=*=*=*=*=*=*=*=*=*=*=*=*=*=*=*=*=*=*=*=*=\n"
          ],
          "name": "stdout"
        },
        {
          "output_type": "stream",
          "text": [
            "loss:14.249815940856934: 100%|██████████| 323/323 [00:46<00:00,  6.96it/s]\n",
            "100%|██████████| 81/81 [00:08<00:00,  9.48it/s]\n",
            "  0%|          | 0/323 [00:00<?, ?it/s]"
          ],
          "name": "stderr"
        },
        {
          "output_type": "stream",
          "text": [
            "*=*=*=*=*=*=*=*=*=*=*=*=*=*=*=*=*=*=*=*=*=*=*=*=*=*=*=*=*=*=*=*=*=*=*=*=*=*=*=*=*=*=*=*=*=*=*=*=*=*=\n",
            "fold 3 EPOCH 74: mean position error with floor 164.37321827288545\n",
            "fold 3 EPOCH 74: mean position error without floor 39.06168886198547\n",
            "*=*=*=*=*=*=*=*=*=*=*=*=*=*=*=*=*=*=*=*=*=*=*=*=*=*=*=*=*=*=*=*=*=*=*=*=*=*=*=*=*=*=*=*=*=*=*=*=*=*=\n"
          ],
          "name": "stdout"
        },
        {
          "output_type": "stream",
          "text": [
            "loss:13.669921875: 100%|██████████| 323/323 [00:46<00:00,  7.00it/s]\n",
            "100%|██████████| 81/81 [00:08<00:00,  9.04it/s]\n",
            "  0%|          | 0/323 [00:00<?, ?it/s]"
          ],
          "name": "stderr"
        },
        {
          "output_type": "stream",
          "text": [
            "*=*=*=*=*=*=*=*=*=*=*=*=*=*=*=*=*=*=*=*=*=*=*=*=*=*=*=*=*=*=*=*=*=*=*=*=*=*=*=*=*=*=*=*=*=*=*=*=*=*=\n",
            "fold 3 EPOCH 75: mean position error with floor 164.18250622050923\n",
            "fold 3 EPOCH 75: mean position error without floor 38.848898305084745\n",
            "*=*=*=*=*=*=*=*=*=*=*=*=*=*=*=*=*=*=*=*=*=*=*=*=*=*=*=*=*=*=*=*=*=*=*=*=*=*=*=*=*=*=*=*=*=*=*=*=*=*=\n"
          ],
          "name": "stdout"
        },
        {
          "output_type": "stream",
          "text": [
            "loss:13.065866470336914: 100%|██████████| 323/323 [00:46<00:00,  6.97it/s]\n",
            "100%|██████████| 81/81 [00:08<00:00,  9.14it/s]\n",
            "  0%|          | 0/323 [00:00<?, ?it/s]"
          ],
          "name": "stderr"
        },
        {
          "output_type": "stream",
          "text": [
            "*=*=*=*=*=*=*=*=*=*=*=*=*=*=*=*=*=*=*=*=*=*=*=*=*=*=*=*=*=*=*=*=*=*=*=*=*=*=*=*=*=*=*=*=*=*=*=*=*=*=\n",
            "fold 3 EPOCH 76: mean position error with floor 164.18537127543485\n",
            "fold 3 EPOCH 76: mean position error without floor 38.84108353510896\n",
            "*=*=*=*=*=*=*=*=*=*=*=*=*=*=*=*=*=*=*=*=*=*=*=*=*=*=*=*=*=*=*=*=*=*=*=*=*=*=*=*=*=*=*=*=*=*=*=*=*=*=\n"
          ],
          "name": "stdout"
        },
        {
          "output_type": "stream",
          "text": [
            "loss:12.51282024383545: 100%|██████████| 323/323 [00:46<00:00,  6.99it/s]\n",
            "100%|██████████| 81/81 [00:08<00:00,  9.18it/s]\n",
            "  0%|          | 0/323 [00:00<?, ?it/s]"
          ],
          "name": "stderr"
        },
        {
          "output_type": "stream",
          "text": [
            "*=*=*=*=*=*=*=*=*=*=*=*=*=*=*=*=*=*=*=*=*=*=*=*=*=*=*=*=*=*=*=*=*=*=*=*=*=*=*=*=*=*=*=*=*=*=*=*=*=*=\n",
            "fold 3 EPOCH 77: mean position error with floor 163.8689890799998\n",
            "fold 3 EPOCH 77: mean position error without floor 38.50925544794189\n",
            "*=*=*=*=*=*=*=*=*=*=*=*=*=*=*=*=*=*=*=*=*=*=*=*=*=*=*=*=*=*=*=*=*=*=*=*=*=*=*=*=*=*=*=*=*=*=*=*=*=*=\n"
          ],
          "name": "stdout"
        },
        {
          "output_type": "stream",
          "text": [
            "loss:12.002978324890137: 100%|██████████| 323/323 [00:45<00:00,  7.07it/s]\n",
            "100%|██████████| 81/81 [00:08<00:00,  9.56it/s]\n",
            "  0%|          | 0/323 [00:00<?, ?it/s]"
          ],
          "name": "stderr"
        },
        {
          "output_type": "stream",
          "text": [
            "*=*=*=*=*=*=*=*=*=*=*=*=*=*=*=*=*=*=*=*=*=*=*=*=*=*=*=*=*=*=*=*=*=*=*=*=*=*=*=*=*=*=*=*=*=*=*=*=*=*=\n",
            "fold 3 EPOCH 78: mean position error with floor 163.96461882451706\n",
            "fold 3 EPOCH 78: mean position error without floor 38.55841707021792\n",
            "*=*=*=*=*=*=*=*=*=*=*=*=*=*=*=*=*=*=*=*=*=*=*=*=*=*=*=*=*=*=*=*=*=*=*=*=*=*=*=*=*=*=*=*=*=*=*=*=*=*=\n"
          ],
          "name": "stdout"
        },
        {
          "output_type": "stream",
          "text": [
            "loss:11.406790733337402: 100%|██████████| 323/323 [00:45<00:00,  7.06it/s]\n",
            "100%|██████████| 81/81 [00:08<00:00,  9.41it/s]\n",
            "  0%|          | 0/323 [00:00<?, ?it/s]"
          ],
          "name": "stderr"
        },
        {
          "output_type": "stream",
          "text": [
            "*=*=*=*=*=*=*=*=*=*=*=*=*=*=*=*=*=*=*=*=*=*=*=*=*=*=*=*=*=*=*=*=*=*=*=*=*=*=*=*=*=*=*=*=*=*=*=*=*=*=\n",
            "fold 3 EPOCH 79: mean position error with floor 164.00252133384672\n",
            "fold 3 EPOCH 79: mean position error without floor 38.627929782082326\n",
            "*=*=*=*=*=*=*=*=*=*=*=*=*=*=*=*=*=*=*=*=*=*=*=*=*=*=*=*=*=*=*=*=*=*=*=*=*=*=*=*=*=*=*=*=*=*=*=*=*=*=\n"
          ],
          "name": "stdout"
        },
        {
          "output_type": "stream",
          "text": [
            "loss:11.194501876831055: 100%|██████████| 323/323 [00:47<00:00,  6.87it/s]\n",
            "100%|██████████| 81/81 [00:09<00:00,  8.96it/s]\n",
            "  0%|          | 0/323 [00:00<?, ?it/s]"
          ],
          "name": "stderr"
        },
        {
          "output_type": "stream",
          "text": [
            "*=*=*=*=*=*=*=*=*=*=*=*=*=*=*=*=*=*=*=*=*=*=*=*=*=*=*=*=*=*=*=*=*=*=*=*=*=*=*=*=*=*=*=*=*=*=*=*=*=*=\n",
            "fold 3 EPOCH 80: mean position error with floor 163.8729226349937\n",
            "fold 3 EPOCH 80: mean position error without floor 38.47318401937046\n",
            "*=*=*=*=*=*=*=*=*=*=*=*=*=*=*=*=*=*=*=*=*=*=*=*=*=*=*=*=*=*=*=*=*=*=*=*=*=*=*=*=*=*=*=*=*=*=*=*=*=*=\n"
          ],
          "name": "stdout"
        },
        {
          "output_type": "stream",
          "text": [
            "loss:10.87565803527832: 100%|██████████| 323/323 [00:46<00:00,  6.90it/s]\n",
            "100%|██████████| 81/81 [00:08<00:00,  9.40it/s]\n",
            "  0%|          | 0/323 [00:00<?, ?it/s]"
          ],
          "name": "stderr"
        },
        {
          "output_type": "stream",
          "text": [
            "*=*=*=*=*=*=*=*=*=*=*=*=*=*=*=*=*=*=*=*=*=*=*=*=*=*=*=*=*=*=*=*=*=*=*=*=*=*=*=*=*=*=*=*=*=*=*=*=*=*=\n",
            "fold 3 EPOCH 81: mean position error with floor 163.76411635231037\n",
            "fold 3 EPOCH 81: mean position error without floor 38.33535411622276\n",
            "*=*=*=*=*=*=*=*=*=*=*=*=*=*=*=*=*=*=*=*=*=*=*=*=*=*=*=*=*=*=*=*=*=*=*=*=*=*=*=*=*=*=*=*=*=*=*=*=*=*=\n"
          ],
          "name": "stdout"
        },
        {
          "output_type": "stream",
          "text": [
            "loss:10.571192741394043: 100%|██████████| 323/323 [00:46<00:00,  6.97it/s]\n",
            "100%|██████████| 81/81 [00:08<00:00,  9.01it/s]\n",
            "  0%|          | 0/323 [00:00<?, ?it/s]"
          ],
          "name": "stderr"
        },
        {
          "output_type": "stream",
          "text": [
            "*=*=*=*=*=*=*=*=*=*=*=*=*=*=*=*=*=*=*=*=*=*=*=*=*=*=*=*=*=*=*=*=*=*=*=*=*=*=*=*=*=*=*=*=*=*=*=*=*=*=\n",
            "fold 3 EPOCH 82: mean position error with floor 163.8623376211856\n",
            "fold 3 EPOCH 82: mean position error without floor 38.45295702179177\n",
            "*=*=*=*=*=*=*=*=*=*=*=*=*=*=*=*=*=*=*=*=*=*=*=*=*=*=*=*=*=*=*=*=*=*=*=*=*=*=*=*=*=*=*=*=*=*=*=*=*=*=\n"
          ],
          "name": "stdout"
        },
        {
          "output_type": "stream",
          "text": [
            "loss:10.049607276916504: 100%|██████████| 323/323 [00:47<00:00,  6.77it/s]\n",
            "100%|██████████| 81/81 [00:08<00:00,  9.26it/s]\n",
            "  0%|          | 0/323 [00:00<?, ?it/s]"
          ],
          "name": "stderr"
        },
        {
          "output_type": "stream",
          "text": [
            "*=*=*=*=*=*=*=*=*=*=*=*=*=*=*=*=*=*=*=*=*=*=*=*=*=*=*=*=*=*=*=*=*=*=*=*=*=*=*=*=*=*=*=*=*=*=*=*=*=*=\n",
            "fold 3 EPOCH 83: mean position error with floor 163.72766439959045\n",
            "fold 3 EPOCH 83: mean position error without floor 38.2863196125908\n",
            "*=*=*=*=*=*=*=*=*=*=*=*=*=*=*=*=*=*=*=*=*=*=*=*=*=*=*=*=*=*=*=*=*=*=*=*=*=*=*=*=*=*=*=*=*=*=*=*=*=*=\n"
          ],
          "name": "stdout"
        },
        {
          "output_type": "stream",
          "text": [
            "loss:9.889744758605957: 100%|██████████| 323/323 [00:48<00:00,  6.67it/s]\n",
            "100%|██████████| 81/81 [00:08<00:00,  9.06it/s]\n",
            "  0%|          | 0/323 [00:00<?, ?it/s]"
          ],
          "name": "stderr"
        },
        {
          "output_type": "stream",
          "text": [
            "*=*=*=*=*=*=*=*=*=*=*=*=*=*=*=*=*=*=*=*=*=*=*=*=*=*=*=*=*=*=*=*=*=*=*=*=*=*=*=*=*=*=*=*=*=*=*=*=*=*=\n",
            "fold 3 EPOCH 84: mean position error with floor 163.45052360980333\n",
            "fold 3 EPOCH 84: mean position error without floor 38.00038438256659\n",
            "*=*=*=*=*=*=*=*=*=*=*=*=*=*=*=*=*=*=*=*=*=*=*=*=*=*=*=*=*=*=*=*=*=*=*=*=*=*=*=*=*=*=*=*=*=*=*=*=*=*=\n"
          ],
          "name": "stdout"
        },
        {
          "output_type": "stream",
          "text": [
            "loss:9.65515422821045: 100%|██████████| 323/323 [00:48<00:00,  6.72it/s]\n",
            "100%|██████████| 81/81 [00:08<00:00,  9.20it/s]\n",
            "  0%|          | 0/323 [00:00<?, ?it/s]"
          ],
          "name": "stderr"
        },
        {
          "output_type": "stream",
          "text": [
            "*=*=*=*=*=*=*=*=*=*=*=*=*=*=*=*=*=*=*=*=*=*=*=*=*=*=*=*=*=*=*=*=*=*=*=*=*=*=*=*=*=*=*=*=*=*=*=*=*=*=\n",
            "fold 3 EPOCH 85: mean position error with floor 163.31338369216942\n",
            "fold 3 EPOCH 85: mean position error without floor 37.84735774818402\n",
            "*=*=*=*=*=*=*=*=*=*=*=*=*=*=*=*=*=*=*=*=*=*=*=*=*=*=*=*=*=*=*=*=*=*=*=*=*=*=*=*=*=*=*=*=*=*=*=*=*=*=\n"
          ],
          "name": "stdout"
        },
        {
          "output_type": "stream",
          "text": [
            "loss:9.429217338562012: 100%|██████████| 323/323 [00:47<00:00,  6.80it/s]\n",
            "100%|██████████| 81/81 [00:08<00:00,  9.43it/s]\n",
            "  0%|          | 0/323 [00:00<?, ?it/s]"
          ],
          "name": "stderr"
        },
        {
          "output_type": "stream",
          "text": [
            "*=*=*=*=*=*=*=*=*=*=*=*=*=*=*=*=*=*=*=*=*=*=*=*=*=*=*=*=*=*=*=*=*=*=*=*=*=*=*=*=*=*=*=*=*=*=*=*=*=*=\n",
            "fold 3 EPOCH 86: mean position error with floor 163.3856486050128\n",
            "fold 3 EPOCH 86: mean position error without floor 37.915375302663435\n",
            "*=*=*=*=*=*=*=*=*=*=*=*=*=*=*=*=*=*=*=*=*=*=*=*=*=*=*=*=*=*=*=*=*=*=*=*=*=*=*=*=*=*=*=*=*=*=*=*=*=*=\n"
          ],
          "name": "stdout"
        },
        {
          "output_type": "stream",
          "text": [
            "loss:9.131709098815918: 100%|██████████| 323/323 [00:45<00:00,  7.07it/s]\n",
            "100%|██████████| 81/81 [00:08<00:00,  9.42it/s]\n",
            "  0%|          | 0/323 [00:00<?, ?it/s]"
          ],
          "name": "stderr"
        },
        {
          "output_type": "stream",
          "text": [
            "*=*=*=*=*=*=*=*=*=*=*=*=*=*=*=*=*=*=*=*=*=*=*=*=*=*=*=*=*=*=*=*=*=*=*=*=*=*=*=*=*=*=*=*=*=*=*=*=*=*=\n",
            "fold 3 EPOCH 87: mean position error with floor 163.48162185671922\n",
            "fold 3 EPOCH 87: mean position error without floor 38.01237288135593\n",
            "*=*=*=*=*=*=*=*=*=*=*=*=*=*=*=*=*=*=*=*=*=*=*=*=*=*=*=*=*=*=*=*=*=*=*=*=*=*=*=*=*=*=*=*=*=*=*=*=*=*=\n"
          ],
          "name": "stdout"
        },
        {
          "output_type": "stream",
          "text": [
            "loss:8.907716751098633: 100%|██████████| 323/323 [00:45<00:00,  7.03it/s]\n",
            "100%|██████████| 81/81 [00:08<00:00,  9.26it/s]\n",
            "  0%|          | 0/323 [00:00<?, ?it/s]"
          ],
          "name": "stderr"
        },
        {
          "output_type": "stream",
          "text": [
            "*=*=*=*=*=*=*=*=*=*=*=*=*=*=*=*=*=*=*=*=*=*=*=*=*=*=*=*=*=*=*=*=*=*=*=*=*=*=*=*=*=*=*=*=*=*=*=*=*=*=\n",
            "fold 3 EPOCH 88: mean position error with floor 163.68382973637296\n",
            "fold 3 EPOCH 88: mean position error without floor 38.22581113801453\n",
            "*=*=*=*=*=*=*=*=*=*=*=*=*=*=*=*=*=*=*=*=*=*=*=*=*=*=*=*=*=*=*=*=*=*=*=*=*=*=*=*=*=*=*=*=*=*=*=*=*=*=\n"
          ],
          "name": "stdout"
        },
        {
          "output_type": "stream",
          "text": [
            "loss:8.542144775390625: 100%|██████████| 323/323 [00:46<00:00,  7.00it/s]\n",
            "100%|██████████| 81/81 [00:08<00:00,  9.42it/s]\n",
            "  0%|          | 0/323 [00:00<?, ?it/s]"
          ],
          "name": "stderr"
        },
        {
          "output_type": "stream",
          "text": [
            "*=*=*=*=*=*=*=*=*=*=*=*=*=*=*=*=*=*=*=*=*=*=*=*=*=*=*=*=*=*=*=*=*=*=*=*=*=*=*=*=*=*=*=*=*=*=*=*=*=*=\n",
            "fold 3 EPOCH 89: mean position error with floor 163.18176505939914\n",
            "fold 3 EPOCH 89: mean position error without floor 37.71490920096852\n",
            "*=*=*=*=*=*=*=*=*=*=*=*=*=*=*=*=*=*=*=*=*=*=*=*=*=*=*=*=*=*=*=*=*=*=*=*=*=*=*=*=*=*=*=*=*=*=*=*=*=*=\n"
          ],
          "name": "stdout"
        },
        {
          "output_type": "stream",
          "text": [
            "loss:8.522604942321777: 100%|██████████| 323/323 [00:46<00:00,  6.96it/s]\n",
            "100%|██████████| 81/81 [00:08<00:00,  9.44it/s]\n",
            "  0%|          | 0/323 [00:00<?, ?it/s]"
          ],
          "name": "stderr"
        },
        {
          "output_type": "stream",
          "text": [
            "*=*=*=*=*=*=*=*=*=*=*=*=*=*=*=*=*=*=*=*=*=*=*=*=*=*=*=*=*=*=*=*=*=*=*=*=*=*=*=*=*=*=*=*=*=*=*=*=*=*=\n",
            "fold 3 EPOCH 90: mean position error with floor 163.0338642793026\n",
            "fold 3 EPOCH 90: mean position error without floor 37.55841101694915\n",
            "*=*=*=*=*=*=*=*=*=*=*=*=*=*=*=*=*=*=*=*=*=*=*=*=*=*=*=*=*=*=*=*=*=*=*=*=*=*=*=*=*=*=*=*=*=*=*=*=*=*=\n"
          ],
          "name": "stdout"
        },
        {
          "output_type": "stream",
          "text": [
            "loss:8.22812271118164: 100%|██████████| 323/323 [00:45<00:00,  7.05it/s]\n",
            "100%|██████████| 81/81 [00:08<00:00,  9.30it/s]\n",
            "  0%|          | 0/323 [00:00<?, ?it/s]"
          ],
          "name": "stderr"
        },
        {
          "output_type": "stream",
          "text": [
            "*=*=*=*=*=*=*=*=*=*=*=*=*=*=*=*=*=*=*=*=*=*=*=*=*=*=*=*=*=*=*=*=*=*=*=*=*=*=*=*=*=*=*=*=*=*=*=*=*=*=\n",
            "fold 3 EPOCH 91: mean position error with floor 162.9987132566469\n",
            "fold 3 EPOCH 91: mean position error without floor 37.53687651331719\n",
            "*=*=*=*=*=*=*=*=*=*=*=*=*=*=*=*=*=*=*=*=*=*=*=*=*=*=*=*=*=*=*=*=*=*=*=*=*=*=*=*=*=*=*=*=*=*=*=*=*=*=\n"
          ],
          "name": "stdout"
        },
        {
          "output_type": "stream",
          "text": [
            "loss:8.227885246276855: 100%|██████████| 323/323 [00:45<00:00,  7.04it/s]\n",
            "100%|██████████| 81/81 [00:08<00:00,  9.32it/s]\n",
            "  0%|          | 0/323 [00:00<?, ?it/s]"
          ],
          "name": "stderr"
        },
        {
          "output_type": "stream",
          "text": [
            "*=*=*=*=*=*=*=*=*=*=*=*=*=*=*=*=*=*=*=*=*=*=*=*=*=*=*=*=*=*=*=*=*=*=*=*=*=*=*=*=*=*=*=*=*=*=*=*=*=*=\n",
            "fold 3 EPOCH 92: mean position error with floor 163.04120430761031\n",
            "fold 3 EPOCH 92: mean position error without floor 37.56534200968523\n",
            "*=*=*=*=*=*=*=*=*=*=*=*=*=*=*=*=*=*=*=*=*=*=*=*=*=*=*=*=*=*=*=*=*=*=*=*=*=*=*=*=*=*=*=*=*=*=*=*=*=*=\n"
          ],
          "name": "stdout"
        },
        {
          "output_type": "stream",
          "text": [
            "loss:7.973959922790527: 100%|██████████| 323/323 [00:45<00:00,  7.12it/s]\n",
            "100%|██████████| 81/81 [00:08<00:00,  9.38it/s]\n",
            "  0%|          | 0/323 [00:00<?, ?it/s]"
          ],
          "name": "stderr"
        },
        {
          "output_type": "stream",
          "text": [
            "*=*=*=*=*=*=*=*=*=*=*=*=*=*=*=*=*=*=*=*=*=*=*=*=*=*=*=*=*=*=*=*=*=*=*=*=*=*=*=*=*=*=*=*=*=*=*=*=*=*=\n",
            "fold 3 EPOCH 93: mean position error with floor 163.13705361682526\n",
            "fold 3 EPOCH 93: mean position error without floor 37.647330508474575\n",
            "*=*=*=*=*=*=*=*=*=*=*=*=*=*=*=*=*=*=*=*=*=*=*=*=*=*=*=*=*=*=*=*=*=*=*=*=*=*=*=*=*=*=*=*=*=*=*=*=*=*=\n"
          ],
          "name": "stdout"
        },
        {
          "output_type": "stream",
          "text": [
            "loss:7.773565769195557: 100%|██████████| 323/323 [00:46<00:00,  6.99it/s]\n",
            "100%|██████████| 81/81 [00:08<00:00,  9.56it/s]\n",
            "  0%|          | 0/323 [00:00<?, ?it/s]"
          ],
          "name": "stderr"
        },
        {
          "output_type": "stream",
          "text": [
            "*=*=*=*=*=*=*=*=*=*=*=*=*=*=*=*=*=*=*=*=*=*=*=*=*=*=*=*=*=*=*=*=*=*=*=*=*=*=*=*=*=*=*=*=*=*=*=*=*=*=\n",
            "fold 3 EPOCH 94: mean position error with floor 162.82705285294438\n",
            "fold 3 EPOCH 94: mean position error without floor 37.35398002421307\n",
            "*=*=*=*=*=*=*=*=*=*=*=*=*=*=*=*=*=*=*=*=*=*=*=*=*=*=*=*=*=*=*=*=*=*=*=*=*=*=*=*=*=*=*=*=*=*=*=*=*=*=\n"
          ],
          "name": "stdout"
        },
        {
          "output_type": "stream",
          "text": [
            "loss:7.724133014678955: 100%|██████████| 323/323 [00:45<00:00,  7.04it/s]\n",
            "100%|██████████| 81/81 [00:08<00:00,  9.63it/s]\n",
            "  0%|          | 0/323 [00:00<?, ?it/s]"
          ],
          "name": "stderr"
        },
        {
          "output_type": "stream",
          "text": [
            "*=*=*=*=*=*=*=*=*=*=*=*=*=*=*=*=*=*=*=*=*=*=*=*=*=*=*=*=*=*=*=*=*=*=*=*=*=*=*=*=*=*=*=*=*=*=*=*=*=*=\n",
            "fold 3 EPOCH 95: mean position error with floor 162.86167647476887\n",
            "fold 3 EPOCH 95: mean position error without floor 37.362094430992734\n",
            "*=*=*=*=*=*=*=*=*=*=*=*=*=*=*=*=*=*=*=*=*=*=*=*=*=*=*=*=*=*=*=*=*=*=*=*=*=*=*=*=*=*=*=*=*=*=*=*=*=*=\n"
          ],
          "name": "stdout"
        },
        {
          "output_type": "stream",
          "text": [
            "loss:7.612796783447266: 100%|██████████| 323/323 [00:45<00:00,  7.07it/s]\n",
            "100%|██████████| 81/81 [00:08<00:00,  9.62it/s]\n",
            "  0%|          | 0/323 [00:00<?, ?it/s]"
          ],
          "name": "stderr"
        },
        {
          "output_type": "stream",
          "text": [
            "*=*=*=*=*=*=*=*=*=*=*=*=*=*=*=*=*=*=*=*=*=*=*=*=*=*=*=*=*=*=*=*=*=*=*=*=*=*=*=*=*=*=*=*=*=*=*=*=*=*=\n",
            "fold 3 EPOCH 96: mean position error with floor 163.26078384433654\n",
            "fold 3 EPOCH 96: mean position error without floor 37.776243946731235\n",
            "*=*=*=*=*=*=*=*=*=*=*=*=*=*=*=*=*=*=*=*=*=*=*=*=*=*=*=*=*=*=*=*=*=*=*=*=*=*=*=*=*=*=*=*=*=*=*=*=*=*=\n"
          ],
          "name": "stdout"
        },
        {
          "output_type": "stream",
          "text": [
            "loss:7.363086223602295: 100%|██████████| 323/323 [00:45<00:00,  7.07it/s]\n",
            "100%|██████████| 81/81 [00:08<00:00,  9.33it/s]\n",
            "  0%|          | 0/323 [00:00<?, ?it/s]"
          ],
          "name": "stderr"
        },
        {
          "output_type": "stream",
          "text": [
            "*=*=*=*=*=*=*=*=*=*=*=*=*=*=*=*=*=*=*=*=*=*=*=*=*=*=*=*=*=*=*=*=*=*=*=*=*=*=*=*=*=*=*=*=*=*=*=*=*=*=\n",
            "fold 3 EPOCH 97: mean position error with floor 163.22734284256546\n",
            "fold 3 EPOCH 97: mean position error without floor 37.738861985472155\n",
            "*=*=*=*=*=*=*=*=*=*=*=*=*=*=*=*=*=*=*=*=*=*=*=*=*=*=*=*=*=*=*=*=*=*=*=*=*=*=*=*=*=*=*=*=*=*=*=*=*=*=\n"
          ],
          "name": "stdout"
        },
        {
          "output_type": "stream",
          "text": [
            "loss:7.307485580444336: 100%|██████████| 323/323 [00:45<00:00,  7.02it/s]\n",
            "100%|██████████| 81/81 [00:08<00:00,  9.25it/s]\n",
            "  0%|          | 0/323 [00:00<?, ?it/s]"
          ],
          "name": "stderr"
        },
        {
          "output_type": "stream",
          "text": [
            "*=*=*=*=*=*=*=*=*=*=*=*=*=*=*=*=*=*=*=*=*=*=*=*=*=*=*=*=*=*=*=*=*=*=*=*=*=*=*=*=*=*=*=*=*=*=*=*=*=*=\n",
            "fold 3 EPOCH 98: mean position error with floor 162.7276637528354\n",
            "fold 3 EPOCH 98: mean position error without floor 37.23991525423729\n",
            "*=*=*=*=*=*=*=*=*=*=*=*=*=*=*=*=*=*=*=*=*=*=*=*=*=*=*=*=*=*=*=*=*=*=*=*=*=*=*=*=*=*=*=*=*=*=*=*=*=*=\n"
          ],
          "name": "stdout"
        },
        {
          "output_type": "stream",
          "text": [
            "loss:7.234364986419678: 100%|██████████| 323/323 [00:45<00:00,  7.04it/s]\n",
            "100%|██████████| 81/81 [00:08<00:00,  9.36it/s]\n",
            "  0%|          | 0/16 [00:00<?, ?it/s]"
          ],
          "name": "stderr"
        },
        {
          "output_type": "stream",
          "text": [
            "*=*=*=*=*=*=*=*=*=*=*=*=*=*=*=*=*=*=*=*=*=*=*=*=*=*=*=*=*=*=*=*=*=*=*=*=*=*=*=*=*=*=*=*=*=*=*=*=*=*=\n",
            "fold 3 EPOCH 99: mean position error with floor 162.69869446788056\n",
            "fold 3 EPOCH 99: mean position error without floor 37.209794188861984\n",
            "*=*=*=*=*=*=*=*=*=*=*=*=*=*=*=*=*=*=*=*=*=*=*=*=*=*=*=*=*=*=*=*=*=*=*=*=*=*=*=*=*=*=*=*=*=*=*=*=*=*=\n"
          ],
          "name": "stdout"
        },
        {
          "output_type": "stream",
          "text": [
            "100%|██████████| 16/16 [00:01<00:00,  8.56it/s]\n",
            "loss:14702.021484375: 100%|██████████| 323/323 [00:51<00:00,  6.27it/s]\n",
            "100%|██████████| 81/81 [00:08<00:00,  9.14it/s]\n",
            "  0%|          | 0/323 [00:00<?, ?it/s]"
          ],
          "name": "stderr"
        },
        {
          "output_type": "stream",
          "text": [
            "*=*=*=*=*=*=*=*=*=*=*=*=*=*=*=*=*=*=*=*=*=*=*=*=*=*=*=*=*=*=*=*=*=*=*=*=*=*=*=*=*=*=*=*=*=*=*=*=*=*=\n",
            "fold 4 EPOCH 0: mean position error with floor 850.7371916986522\n",
            "fold 4 EPOCH 0: mean position error without floor 728.6108958837773\n",
            "*=*=*=*=*=*=*=*=*=*=*=*=*=*=*=*=*=*=*=*=*=*=*=*=*=*=*=*=*=*=*=*=*=*=*=*=*=*=*=*=*=*=*=*=*=*=*=*=*=*=\n"
          ],
          "name": "stdout"
        },
        {
          "output_type": "stream",
          "text": [
            "loss:11937.95703125: 100%|██████████| 323/323 [00:48<00:00,  6.64it/s]\n",
            "100%|██████████| 81/81 [00:08<00:00,  9.04it/s]\n",
            "  0%|          | 0/323 [00:00<?, ?it/s]"
          ],
          "name": "stderr"
        },
        {
          "output_type": "stream",
          "text": [
            "*=*=*=*=*=*=*=*=*=*=*=*=*=*=*=*=*=*=*=*=*=*=*=*=*=*=*=*=*=*=*=*=*=*=*=*=*=*=*=*=*=*=*=*=*=*=*=*=*=*=\n",
            "fold 4 EPOCH 1: mean position error with floor 764.9040578695244\n",
            "fold 4 EPOCH 1: mean position error without floor 642.7778692493947\n",
            "*=*=*=*=*=*=*=*=*=*=*=*=*=*=*=*=*=*=*=*=*=*=*=*=*=*=*=*=*=*=*=*=*=*=*=*=*=*=*=*=*=*=*=*=*=*=*=*=*=*=\n"
          ],
          "name": "stdout"
        },
        {
          "output_type": "stream",
          "text": [
            "loss:9778.0234375: 100%|██████████| 323/323 [00:48<00:00,  6.61it/s]\n",
            "100%|██████████| 81/81 [00:08<00:00,  9.11it/s]\n",
            "  0%|          | 0/323 [00:00<?, ?it/s]"
          ],
          "name": "stderr"
        },
        {
          "output_type": "stream",
          "text": [
            "*=*=*=*=*=*=*=*=*=*=*=*=*=*=*=*=*=*=*=*=*=*=*=*=*=*=*=*=*=*=*=*=*=*=*=*=*=*=*=*=*=*=*=*=*=*=*=*=*=*=\n",
            "fold 4 EPOCH 2: mean position error with floor 693.6108386856259\n",
            "fold 4 EPOCH 2: mean position error without floor 571.4846973365618\n",
            "*=*=*=*=*=*=*=*=*=*=*=*=*=*=*=*=*=*=*=*=*=*=*=*=*=*=*=*=*=*=*=*=*=*=*=*=*=*=*=*=*=*=*=*=*=*=*=*=*=*=\n"
          ],
          "name": "stdout"
        },
        {
          "output_type": "stream",
          "text": [
            "loss:8108.14013671875: 100%|██████████| 323/323 [00:46<00:00,  6.90it/s]\n",
            "100%|██████████| 81/81 [00:08<00:00,  9.52it/s]\n",
            "  0%|          | 0/323 [00:00<?, ?it/s]"
          ],
          "name": "stderr"
        },
        {
          "output_type": "stream",
          "text": [
            "*=*=*=*=*=*=*=*=*=*=*=*=*=*=*=*=*=*=*=*=*=*=*=*=*=*=*=*=*=*=*=*=*=*=*=*=*=*=*=*=*=*=*=*=*=*=*=*=*=*=\n",
            "fold 4 EPOCH 3: mean position error with floor 637.6085789967601\n",
            "fold 4 EPOCH 3: mean position error without floor 515.4824697336562\n",
            "*=*=*=*=*=*=*=*=*=*=*=*=*=*=*=*=*=*=*=*=*=*=*=*=*=*=*=*=*=*=*=*=*=*=*=*=*=*=*=*=*=*=*=*=*=*=*=*=*=*=\n"
          ],
          "name": "stdout"
        },
        {
          "output_type": "stream",
          "text": [
            "loss:6843.74755859375: 100%|██████████| 323/323 [00:46<00:00,  6.95it/s]\n",
            "100%|██████████| 81/81 [00:08<00:00,  9.49it/s]\n",
            "  0%|          | 0/323 [00:00<?, ?it/s]"
          ],
          "name": "stderr"
        },
        {
          "output_type": "stream",
          "text": [
            "*=*=*=*=*=*=*=*=*=*=*=*=*=*=*=*=*=*=*=*=*=*=*=*=*=*=*=*=*=*=*=*=*=*=*=*=*=*=*=*=*=*=*=*=*=*=*=*=*=*=\n",
            "fold 4 EPOCH 4: mean position error with floor 596.0698421126821\n",
            "fold 4 EPOCH 4: mean position error without floor 473.94372881355935\n",
            "*=*=*=*=*=*=*=*=*=*=*=*=*=*=*=*=*=*=*=*=*=*=*=*=*=*=*=*=*=*=*=*=*=*=*=*=*=*=*=*=*=*=*=*=*=*=*=*=*=*=\n"
          ],
          "name": "stdout"
        },
        {
          "output_type": "stream",
          "text": [
            "loss:5921.6650390625: 100%|██████████| 323/323 [00:46<00:00,  6.99it/s]\n",
            "100%|██████████| 81/81 [00:08<00:00,  9.34it/s]\n",
            "  0%|          | 0/323 [00:00<?, ?it/s]"
          ],
          "name": "stderr"
        },
        {
          "output_type": "stream",
          "text": [
            "*=*=*=*=*=*=*=*=*=*=*=*=*=*=*=*=*=*=*=*=*=*=*=*=*=*=*=*=*=*=*=*=*=*=*=*=*=*=*=*=*=*=*=*=*=*=*=*=*=*=\n",
            "fold 4 EPOCH 5: mean position error with floor 567.1449208214324\n",
            "fold 4 EPOCH 5: mean position error without floor 445.018789346247\n",
            "*=*=*=*=*=*=*=*=*=*=*=*=*=*=*=*=*=*=*=*=*=*=*=*=*=*=*=*=*=*=*=*=*=*=*=*=*=*=*=*=*=*=*=*=*=*=*=*=*=*=\n"
          ],
          "name": "stdout"
        },
        {
          "output_type": "stream",
          "text": [
            "loss:5269.7783203125: 100%|██████████| 323/323 [00:47<00:00,  6.75it/s]\n",
            "100%|██████████| 81/81 [00:09<00:00,  8.81it/s]\n",
            "  0%|          | 0/323 [00:00<?, ?it/s]"
          ],
          "name": "stderr"
        },
        {
          "output_type": "stream",
          "text": [
            "*=*=*=*=*=*=*=*=*=*=*=*=*=*=*=*=*=*=*=*=*=*=*=*=*=*=*=*=*=*=*=*=*=*=*=*=*=*=*=*=*=*=*=*=*=*=*=*=*=*=\n",
            "fold 4 EPOCH 6: mean position error with floor 548.6232723299643\n",
            "fold 4 EPOCH 6: mean position error without floor 426.4970944309927\n",
            "*=*=*=*=*=*=*=*=*=*=*=*=*=*=*=*=*=*=*=*=*=*=*=*=*=*=*=*=*=*=*=*=*=*=*=*=*=*=*=*=*=*=*=*=*=*=*=*=*=*=\n"
          ],
          "name": "stdout"
        },
        {
          "output_type": "stream",
          "text": [
            "loss:4836.26416015625: 100%|██████████| 323/323 [00:50<00:00,  6.46it/s]\n",
            "100%|██████████| 81/81 [00:08<00:00,  9.10it/s]\n",
            "  0%|          | 0/323 [00:00<?, ?it/s]"
          ],
          "name": "stderr"
        },
        {
          "output_type": "stream",
          "text": [
            "*=*=*=*=*=*=*=*=*=*=*=*=*=*=*=*=*=*=*=*=*=*=*=*=*=*=*=*=*=*=*=*=*=*=*=*=*=*=*=*=*=*=*=*=*=*=*=*=*=*=\n",
            "fold 4 EPOCH 7: mean position error with floor 537.951949472566\n",
            "fold 4 EPOCH 7: mean position error without floor 415.8258111380145\n",
            "*=*=*=*=*=*=*=*=*=*=*=*=*=*=*=*=*=*=*=*=*=*=*=*=*=*=*=*=*=*=*=*=*=*=*=*=*=*=*=*=*=*=*=*=*=*=*=*=*=*=\n"
          ],
          "name": "stdout"
        },
        {
          "output_type": "stream",
          "text": [
            "loss:4564.5791015625: 100%|██████████| 323/323 [00:49<00:00,  6.52it/s]\n",
            "100%|██████████| 81/81 [00:08<00:00,  9.34it/s]\n",
            "  0%|          | 0/323 [00:00<?, ?it/s]"
          ],
          "name": "stderr"
        },
        {
          "output_type": "stream",
          "text": [
            "*=*=*=*=*=*=*=*=*=*=*=*=*=*=*=*=*=*=*=*=*=*=*=*=*=*=*=*=*=*=*=*=*=*=*=*=*=*=*=*=*=*=*=*=*=*=*=*=*=*=\n",
            "fold 4 EPOCH 8: mean position error with floor 532.6835326795255\n",
            "fold 4 EPOCH 8: mean position error without floor 410.5574334140436\n",
            "*=*=*=*=*=*=*=*=*=*=*=*=*=*=*=*=*=*=*=*=*=*=*=*=*=*=*=*=*=*=*=*=*=*=*=*=*=*=*=*=*=*=*=*=*=*=*=*=*=*=\n"
          ],
          "name": "stdout"
        },
        {
          "output_type": "stream",
          "text": [
            "loss:4406.16015625: 100%|██████████| 323/323 [00:46<00:00,  6.97it/s]\n",
            "100%|██████████| 81/81 [00:08<00:00,  9.12it/s]\n",
            "  0%|          | 0/323 [00:00<?, ?it/s]"
          ],
          "name": "stderr"
        },
        {
          "output_type": "stream",
          "text": [
            "*=*=*=*=*=*=*=*=*=*=*=*=*=*=*=*=*=*=*=*=*=*=*=*=*=*=*=*=*=*=*=*=*=*=*=*=*=*=*=*=*=*=*=*=*=*=*=*=*=*=\n",
            "fold 4 EPOCH 9: mean position error with floor 530.7081097395195\n",
            "fold 4 EPOCH 9: mean position error without floor 408.58198547215494\n",
            "*=*=*=*=*=*=*=*=*=*=*=*=*=*=*=*=*=*=*=*=*=*=*=*=*=*=*=*=*=*=*=*=*=*=*=*=*=*=*=*=*=*=*=*=*=*=*=*=*=*=\n"
          ],
          "name": "stdout"
        },
        {
          "output_type": "stream",
          "text": [
            "loss:4324.03173828125: 100%|██████████| 323/323 [00:46<00:00,  6.92it/s]\n",
            "100%|██████████| 81/81 [00:08<00:00,  9.37it/s]\n",
            "  0%|          | 0/323 [00:00<?, ?it/s]"
          ],
          "name": "stderr"
        },
        {
          "output_type": "stream",
          "text": [
            "*=*=*=*=*=*=*=*=*=*=*=*=*=*=*=*=*=*=*=*=*=*=*=*=*=*=*=*=*=*=*=*=*=*=*=*=*=*=*=*=*=*=*=*=*=*=*=*=*=*=\n",
            "fold 4 EPOCH 10: mean position error with floor 530.498368589347\n",
            "fold 4 EPOCH 10: mean position error without floor 408.37225181598063\n",
            "*=*=*=*=*=*=*=*=*=*=*=*=*=*=*=*=*=*=*=*=*=*=*=*=*=*=*=*=*=*=*=*=*=*=*=*=*=*=*=*=*=*=*=*=*=*=*=*=*=*=\n"
          ],
          "name": "stdout"
        },
        {
          "output_type": "stream",
          "text": [
            "loss:4285.09423828125: 100%|██████████| 323/323 [00:45<00:00,  7.02it/s]\n",
            "100%|██████████| 81/81 [00:08<00:00,  9.11it/s]\n",
            "  0%|          | 0/323 [00:00<?, ?it/s]"
          ],
          "name": "stderr"
        },
        {
          "output_type": "stream",
          "text": [
            "*=*=*=*=*=*=*=*=*=*=*=*=*=*=*=*=*=*=*=*=*=*=*=*=*=*=*=*=*=*=*=*=*=*=*=*=*=*=*=*=*=*=*=*=*=*=*=*=*=*=\n",
            "fold 4 EPOCH 11: mean position error with floor 530.9987688600439\n",
            "fold 4 EPOCH 11: mean position error without floor 408.8726392251816\n",
            "*=*=*=*=*=*=*=*=*=*=*=*=*=*=*=*=*=*=*=*=*=*=*=*=*=*=*=*=*=*=*=*=*=*=*=*=*=*=*=*=*=*=*=*=*=*=*=*=*=*=\n"
          ],
          "name": "stdout"
        },
        {
          "output_type": "stream",
          "text": [
            "loss:4270.0029296875: 100%|██████████| 323/323 [00:46<00:00,  6.98it/s]\n",
            "100%|██████████| 81/81 [00:08<00:00,  9.30it/s]\n",
            "  0%|          | 0/323 [00:00<?, ?it/s]"
          ],
          "name": "stderr"
        },
        {
          "output_type": "stream",
          "text": [
            "*=*=*=*=*=*=*=*=*=*=*=*=*=*=*=*=*=*=*=*=*=*=*=*=*=*=*=*=*=*=*=*=*=*=*=*=*=*=*=*=*=*=*=*=*=*=*=*=*=*=\n",
            "fold 4 EPOCH 12: mean position error with floor 531.601417614363\n",
            "fold 4 EPOCH 12: mean position error without floor 409.47530266343824\n",
            "*=*=*=*=*=*=*=*=*=*=*=*=*=*=*=*=*=*=*=*=*=*=*=*=*=*=*=*=*=*=*=*=*=*=*=*=*=*=*=*=*=*=*=*=*=*=*=*=*=*=\n"
          ],
          "name": "stdout"
        },
        {
          "output_type": "stream",
          "text": [
            "loss:4263.99365234375: 100%|██████████| 323/323 [00:45<00:00,  7.06it/s]\n",
            "100%|██████████| 81/81 [00:08<00:00,  9.41it/s]\n",
            "  0%|          | 0/323 [00:00<?, ?it/s]"
          ],
          "name": "stderr"
        },
        {
          "output_type": "stream",
          "text": [
            "*=*=*=*=*=*=*=*=*=*=*=*=*=*=*=*=*=*=*=*=*=*=*=*=*=*=*=*=*=*=*=*=*=*=*=*=*=*=*=*=*=*=*=*=*=*=*=*=*=*=\n",
            "fold 4 EPOCH 13: mean position error with floor 532.0584466821749\n",
            "fold 4 EPOCH 13: mean position error without floor 409.93230024213074\n",
            "*=*=*=*=*=*=*=*=*=*=*=*=*=*=*=*=*=*=*=*=*=*=*=*=*=*=*=*=*=*=*=*=*=*=*=*=*=*=*=*=*=*=*=*=*=*=*=*=*=*=\n"
          ],
          "name": "stdout"
        },
        {
          "output_type": "stream",
          "text": [
            "loss:4262.3837890625: 100%|██████████| 323/323 [00:46<00:00,  7.02it/s]\n",
            "100%|██████████| 81/81 [00:08<00:00,  9.31it/s]\n",
            "  0%|          | 0/323 [00:00<?, ?it/s]"
          ],
          "name": "stderr"
        },
        {
          "output_type": "stream",
          "text": [
            "*=*=*=*=*=*=*=*=*=*=*=*=*=*=*=*=*=*=*=*=*=*=*=*=*=*=*=*=*=*=*=*=*=*=*=*=*=*=*=*=*=*=*=*=*=*=*=*=*=*=\n",
            "fold 4 EPOCH 14: mean position error with floor 532.340451600185\n",
            "fold 4 EPOCH 14: mean position error without floor 410.2143341404358\n",
            "*=*=*=*=*=*=*=*=*=*=*=*=*=*=*=*=*=*=*=*=*=*=*=*=*=*=*=*=*=*=*=*=*=*=*=*=*=*=*=*=*=*=*=*=*=*=*=*=*=*=\n"
          ],
          "name": "stdout"
        },
        {
          "output_type": "stream",
          "text": [
            "loss:4263.009765625: 100%|██████████| 323/323 [00:46<00:00,  6.98it/s]\n",
            "100%|██████████| 81/81 [00:08<00:00,  9.23it/s]\n",
            "  0%|          | 0/323 [00:00<?, ?it/s]"
          ],
          "name": "stderr"
        },
        {
          "output_type": "stream",
          "text": [
            "*=*=*=*=*=*=*=*=*=*=*=*=*=*=*=*=*=*=*=*=*=*=*=*=*=*=*=*=*=*=*=*=*=*=*=*=*=*=*=*=*=*=*=*=*=*=*=*=*=*=\n",
            "fold 4 EPOCH 15: mean position error with floor 532.4530424533802\n",
            "fold 4 EPOCH 15: mean position error without floor 410.3269249394673\n",
            "*=*=*=*=*=*=*=*=*=*=*=*=*=*=*=*=*=*=*=*=*=*=*=*=*=*=*=*=*=*=*=*=*=*=*=*=*=*=*=*=*=*=*=*=*=*=*=*=*=*=\n"
          ],
          "name": "stdout"
        },
        {
          "output_type": "stream",
          "text": [
            "loss:4261.837890625: 100%|██████████| 323/323 [00:46<00:00,  6.96it/s]\n",
            "100%|██████████| 81/81 [00:08<00:00,  9.59it/s]\n",
            "  0%|          | 0/323 [00:00<?, ?it/s]"
          ],
          "name": "stderr"
        },
        {
          "output_type": "stream",
          "text": [
            "*=*=*=*=*=*=*=*=*=*=*=*=*=*=*=*=*=*=*=*=*=*=*=*=*=*=*=*=*=*=*=*=*=*=*=*=*=*=*=*=*=*=*=*=*=*=*=*=*=*=\n",
            "fold 4 EPOCH 16: mean position error with floor 532.5401525475269\n",
            "fold 4 EPOCH 16: mean position error without floor 410.4140435835351\n",
            "*=*=*=*=*=*=*=*=*=*=*=*=*=*=*=*=*=*=*=*=*=*=*=*=*=*=*=*=*=*=*=*=*=*=*=*=*=*=*=*=*=*=*=*=*=*=*=*=*=*=\n"
          ],
          "name": "stdout"
        },
        {
          "output_type": "stream",
          "text": [
            "loss:4260.7177734375: 100%|██████████| 323/323 [00:46<00:00,  6.94it/s]\n",
            "100%|██████████| 81/81 [00:08<00:00,  9.43it/s]\n",
            "  0%|          | 0/323 [00:00<?, ?it/s]"
          ],
          "name": "stderr"
        },
        {
          "output_type": "stream",
          "text": [
            "*=*=*=*=*=*=*=*=*=*=*=*=*=*=*=*=*=*=*=*=*=*=*=*=*=*=*=*=*=*=*=*=*=*=*=*=*=*=*=*=*=*=*=*=*=*=*=*=*=*=\n",
            "fold 4 EPOCH 17: mean position error with floor 532.5373045885736\n",
            "fold 4 EPOCH 17: mean position error without floor 410.41118644067797\n",
            "*=*=*=*=*=*=*=*=*=*=*=*=*=*=*=*=*=*=*=*=*=*=*=*=*=*=*=*=*=*=*=*=*=*=*=*=*=*=*=*=*=*=*=*=*=*=*=*=*=*=\n"
          ],
          "name": "stdout"
        },
        {
          "output_type": "stream",
          "text": [
            "loss:4260.4716796875: 100%|██████████| 323/323 [00:45<00:00,  7.03it/s]\n",
            "100%|██████████| 81/81 [00:08<00:00,  9.51it/s]\n",
            "  0%|          | 0/323 [00:00<?, ?it/s]"
          ],
          "name": "stderr"
        },
        {
          "output_type": "stream",
          "text": [
            "*=*=*=*=*=*=*=*=*=*=*=*=*=*=*=*=*=*=*=*=*=*=*=*=*=*=*=*=*=*=*=*=*=*=*=*=*=*=*=*=*=*=*=*=*=*=*=*=*=*=\n",
            "fold 4 EPOCH 18: mean position error with floor 532.6713130041156\n",
            "fold 4 EPOCH 18: mean position error without floor 410.545181598063\n",
            "*=*=*=*=*=*=*=*=*=*=*=*=*=*=*=*=*=*=*=*=*=*=*=*=*=*=*=*=*=*=*=*=*=*=*=*=*=*=*=*=*=*=*=*=*=*=*=*=*=*=\n"
          ],
          "name": "stdout"
        },
        {
          "output_type": "stream",
          "text": [
            "loss:4261.07177734375: 100%|██████████| 323/323 [00:45<00:00,  7.12it/s]\n",
            "100%|██████████| 81/81 [00:08<00:00,  9.38it/s]\n",
            "  0%|          | 0/323 [00:00<?, ?it/s]"
          ],
          "name": "stderr"
        },
        {
          "output_type": "stream",
          "text": [
            "*=*=*=*=*=*=*=*=*=*=*=*=*=*=*=*=*=*=*=*=*=*=*=*=*=*=*=*=*=*=*=*=*=*=*=*=*=*=*=*=*=*=*=*=*=*=*=*=*=*=\n",
            "fold 4 EPOCH 19: mean position error with floor 532.5750568582562\n",
            "fold 4 EPOCH 19: mean position error without floor 410.44891041162225\n",
            "*=*=*=*=*=*=*=*=*=*=*=*=*=*=*=*=*=*=*=*=*=*=*=*=*=*=*=*=*=*=*=*=*=*=*=*=*=*=*=*=*=*=*=*=*=*=*=*=*=*=\n"
          ],
          "name": "stdout"
        },
        {
          "output_type": "stream",
          "text": [
            "loss:4261.2841796875: 100%|██████████| 323/323 [00:46<00:00,  7.02it/s]\n",
            "100%|██████████| 81/81 [00:08<00:00,  9.46it/s]\n",
            "  0%|          | 0/323 [00:00<?, ?it/s]"
          ],
          "name": "stderr"
        },
        {
          "output_type": "stream",
          "text": [
            "*=*=*=*=*=*=*=*=*=*=*=*=*=*=*=*=*=*=*=*=*=*=*=*=*=*=*=*=*=*=*=*=*=*=*=*=*=*=*=*=*=*=*=*=*=*=*=*=*=*=\n",
            "fold 4 EPOCH 20: mean position error with floor 532.4614484087982\n",
            "fold 4 EPOCH 20: mean position error without floor 410.33530266343826\n",
            "*=*=*=*=*=*=*=*=*=*=*=*=*=*=*=*=*=*=*=*=*=*=*=*=*=*=*=*=*=*=*=*=*=*=*=*=*=*=*=*=*=*=*=*=*=*=*=*=*=*=\n"
          ],
          "name": "stdout"
        },
        {
          "output_type": "stream",
          "text": [
            "loss:4260.4970703125: 100%|██████████| 323/323 [00:45<00:00,  7.02it/s]\n",
            "100%|██████████| 81/81 [00:08<00:00,  9.33it/s]\n",
            "  0%|          | 0/323 [00:00<?, ?it/s]"
          ],
          "name": "stderr"
        },
        {
          "output_type": "stream",
          "text": [
            "*=*=*=*=*=*=*=*=*=*=*=*=*=*=*=*=*=*=*=*=*=*=*=*=*=*=*=*=*=*=*=*=*=*=*=*=*=*=*=*=*=*=*=*=*=*=*=*=*=*=\n",
            "fold 4 EPOCH 21: mean position error with floor 532.4509571117495\n",
            "fold 4 EPOCH 21: mean position error without floor 410.32484261501213\n",
            "*=*=*=*=*=*=*=*=*=*=*=*=*=*=*=*=*=*=*=*=*=*=*=*=*=*=*=*=*=*=*=*=*=*=*=*=*=*=*=*=*=*=*=*=*=*=*=*=*=*=\n"
          ],
          "name": "stdout"
        },
        {
          "output_type": "stream",
          "text": [
            "loss:4260.00927734375: 100%|██████████| 323/323 [00:46<00:00,  6.92it/s]\n",
            "100%|██████████| 81/81 [00:08<00:00,  9.21it/s]\n",
            "  0%|          | 0/323 [00:00<?, ?it/s]"
          ],
          "name": "stderr"
        },
        {
          "output_type": "stream",
          "text": [
            "*=*=*=*=*=*=*=*=*=*=*=*=*=*=*=*=*=*=*=*=*=*=*=*=*=*=*=*=*=*=*=*=*=*=*=*=*=*=*=*=*=*=*=*=*=*=*=*=*=*=\n",
            "fold 4 EPOCH 22: mean position error with floor 532.4356119413642\n",
            "fold 4 EPOCH 22: mean position error without floor 410.3094915254237\n",
            "*=*=*=*=*=*=*=*=*=*=*=*=*=*=*=*=*=*=*=*=*=*=*=*=*=*=*=*=*=*=*=*=*=*=*=*=*=*=*=*=*=*=*=*=*=*=*=*=*=*=\n"
          ],
          "name": "stdout"
        },
        {
          "output_type": "stream",
          "text": [
            "loss:4256.3330078125: 100%|██████████| 323/323 [00:47<00:00,  6.85it/s]\n",
            "100%|██████████| 81/81 [00:08<00:00,  9.46it/s]\n",
            "  0%|          | 0/323 [00:00<?, ?it/s]"
          ],
          "name": "stderr"
        },
        {
          "output_type": "stream",
          "text": [
            "*=*=*=*=*=*=*=*=*=*=*=*=*=*=*=*=*=*=*=*=*=*=*=*=*=*=*=*=*=*=*=*=*=*=*=*=*=*=*=*=*=*=*=*=*=*=*=*=*=*=\n",
            "fold 4 EPOCH 23: mean position error with floor 530.360583922153\n",
            "fold 4 EPOCH 23: mean position error without floor 407.6271670702179\n",
            "*=*=*=*=*=*=*=*=*=*=*=*=*=*=*=*=*=*=*=*=*=*=*=*=*=*=*=*=*=*=*=*=*=*=*=*=*=*=*=*=*=*=*=*=*=*=*=*=*=*=\n"
          ],
          "name": "stdout"
        },
        {
          "output_type": "stream",
          "text": [
            "loss:2871.817626953125: 100%|██████████| 323/323 [00:47<00:00,  6.87it/s]\n",
            "100%|██████████| 81/81 [00:08<00:00,  9.28it/s]\n",
            "  0%|          | 0/323 [00:00<?, ?it/s]"
          ],
          "name": "stderr"
        },
        {
          "output_type": "stream",
          "text": [
            "*=*=*=*=*=*=*=*=*=*=*=*=*=*=*=*=*=*=*=*=*=*=*=*=*=*=*=*=*=*=*=*=*=*=*=*=*=*=*=*=*=*=*=*=*=*=*=*=*=*=\n",
            "fold 4 EPOCH 24: mean position error with floor 402.0591622158214\n",
            "fold 4 EPOCH 24: mean position error without floor 278.47641646489103\n",
            "*=*=*=*=*=*=*=*=*=*=*=*=*=*=*=*=*=*=*=*=*=*=*=*=*=*=*=*=*=*=*=*=*=*=*=*=*=*=*=*=*=*=*=*=*=*=*=*=*=*=\n"
          ],
          "name": "stdout"
        },
        {
          "output_type": "stream",
          "text": [
            "loss:2326.412109375: 100%|██████████| 323/323 [00:46<00:00,  6.91it/s]\n",
            "100%|██████████| 81/81 [00:08<00:00,  9.03it/s]\n",
            "  0%|          | 0/323 [00:00<?, ?it/s]"
          ],
          "name": "stderr"
        },
        {
          "output_type": "stream",
          "text": [
            "*=*=*=*=*=*=*=*=*=*=*=*=*=*=*=*=*=*=*=*=*=*=*=*=*=*=*=*=*=*=*=*=*=*=*=*=*=*=*=*=*=*=*=*=*=*=*=*=*=*=\n",
            "fold 4 EPOCH 25: mean position error with floor 384.22192504777024\n",
            "fold 4 EPOCH 25: mean position error without floor 260.3990314769976\n",
            "*=*=*=*=*=*=*=*=*=*=*=*=*=*=*=*=*=*=*=*=*=*=*=*=*=*=*=*=*=*=*=*=*=*=*=*=*=*=*=*=*=*=*=*=*=*=*=*=*=*=\n"
          ],
          "name": "stdout"
        },
        {
          "output_type": "stream",
          "text": [
            "loss:2114.56982421875: 100%|██████████| 323/323 [00:47<00:00,  6.78it/s]\n",
            "100%|██████████| 81/81 [00:08<00:00,  9.11it/s]\n",
            "  0%|          | 0/323 [00:00<?, ?it/s]"
          ],
          "name": "stderr"
        },
        {
          "output_type": "stream",
          "text": [
            "*=*=*=*=*=*=*=*=*=*=*=*=*=*=*=*=*=*=*=*=*=*=*=*=*=*=*=*=*=*=*=*=*=*=*=*=*=*=*=*=*=*=*=*=*=*=*=*=*=*=\n",
            "fold 4 EPOCH 26: mean position error with floor 367.2889635057325\n",
            "fold 4 EPOCH 26: mean position error without floor 243.32796610169493\n",
            "*=*=*=*=*=*=*=*=*=*=*=*=*=*=*=*=*=*=*=*=*=*=*=*=*=*=*=*=*=*=*=*=*=*=*=*=*=*=*=*=*=*=*=*=*=*=*=*=*=*=\n"
          ],
          "name": "stdout"
        },
        {
          "output_type": "stream",
          "text": [
            "loss:1552.78515625: 100%|██████████| 323/323 [00:48<00:00,  6.65it/s]\n",
            "100%|██████████| 81/81 [00:09<00:00,  8.80it/s]\n",
            "  0%|          | 0/323 [00:00<?, ?it/s]"
          ],
          "name": "stderr"
        },
        {
          "output_type": "stream",
          "text": [
            "*=*=*=*=*=*=*=*=*=*=*=*=*=*=*=*=*=*=*=*=*=*=*=*=*=*=*=*=*=*=*=*=*=*=*=*=*=*=*=*=*=*=*=*=*=*=*=*=*=*=\n",
            "fold 4 EPOCH 27: mean position error with floor 309.51984755421233\n",
            "fold 4 EPOCH 27: mean position error without floor 185.22035108958838\n",
            "*=*=*=*=*=*=*=*=*=*=*=*=*=*=*=*=*=*=*=*=*=*=*=*=*=*=*=*=*=*=*=*=*=*=*=*=*=*=*=*=*=*=*=*=*=*=*=*=*=*=\n"
          ],
          "name": "stdout"
        },
        {
          "output_type": "stream",
          "text": [
            "loss:1188.0228271484375: 100%|██████████| 323/323 [00:48<00:00,  6.62it/s]\n",
            "100%|██████████| 81/81 [00:09<00:00,  8.77it/s]\n",
            "  0%|          | 0/323 [00:00<?, ?it/s]"
          ],
          "name": "stderr"
        },
        {
          "output_type": "stream",
          "text": [
            "*=*=*=*=*=*=*=*=*=*=*=*=*=*=*=*=*=*=*=*=*=*=*=*=*=*=*=*=*=*=*=*=*=*=*=*=*=*=*=*=*=*=*=*=*=*=*=*=*=*=\n",
            "fold 4 EPOCH 28: mean position error with floor 285.7191106207889\n",
            "fold 4 EPOCH 28: mean position error without floor 161.52521791767555\n",
            "*=*=*=*=*=*=*=*=*=*=*=*=*=*=*=*=*=*=*=*=*=*=*=*=*=*=*=*=*=*=*=*=*=*=*=*=*=*=*=*=*=*=*=*=*=*=*=*=*=*=\n"
          ],
          "name": "stdout"
        },
        {
          "output_type": "stream",
          "text": [
            "loss:950.7385864257812: 100%|██████████| 323/323 [00:48<00:00,  6.70it/s]\n",
            "100%|██████████| 81/81 [00:08<00:00,  9.14it/s]\n",
            "  0%|          | 0/323 [00:00<?, ?it/s]"
          ],
          "name": "stderr"
        },
        {
          "output_type": "stream",
          "text": [
            "*=*=*=*=*=*=*=*=*=*=*=*=*=*=*=*=*=*=*=*=*=*=*=*=*=*=*=*=*=*=*=*=*=*=*=*=*=*=*=*=*=*=*=*=*=*=*=*=*=*=\n",
            "fold 4 EPOCH 29: mean position error with floor 260.781102201965\n",
            "fold 4 EPOCH 29: mean position error without floor 136.28713075060531\n",
            "*=*=*=*=*=*=*=*=*=*=*=*=*=*=*=*=*=*=*=*=*=*=*=*=*=*=*=*=*=*=*=*=*=*=*=*=*=*=*=*=*=*=*=*=*=*=*=*=*=*=\n"
          ],
          "name": "stdout"
        },
        {
          "output_type": "stream",
          "text": [
            "loss:730.7967529296875: 100%|██████████| 323/323 [00:47<00:00,  6.78it/s]\n",
            "100%|██████████| 81/81 [00:08<00:00,  9.20it/s]\n",
            "  0%|          | 0/323 [00:00<?, ?it/s]"
          ],
          "name": "stderr"
        },
        {
          "output_type": "stream",
          "text": [
            "*=*=*=*=*=*=*=*=*=*=*=*=*=*=*=*=*=*=*=*=*=*=*=*=*=*=*=*=*=*=*=*=*=*=*=*=*=*=*=*=*=*=*=*=*=*=*=*=*=*=\n",
            "fold 4 EPOCH 30: mean position error with floor 242.0344954473419\n",
            "fold 4 EPOCH 30: mean position error without floor 117.46162227602906\n",
            "*=*=*=*=*=*=*=*=*=*=*=*=*=*=*=*=*=*=*=*=*=*=*=*=*=*=*=*=*=*=*=*=*=*=*=*=*=*=*=*=*=*=*=*=*=*=*=*=*=*=\n"
          ],
          "name": "stdout"
        },
        {
          "output_type": "stream",
          "text": [
            "loss:587.872314453125: 100%|██████████| 323/323 [00:47<00:00,  6.86it/s]\n",
            "100%|██████████| 81/81 [00:08<00:00,  9.23it/s]\n",
            "  0%|          | 0/323 [00:00<?, ?it/s]"
          ],
          "name": "stderr"
        },
        {
          "output_type": "stream",
          "text": [
            "*=*=*=*=*=*=*=*=*=*=*=*=*=*=*=*=*=*=*=*=*=*=*=*=*=*=*=*=*=*=*=*=*=*=*=*=*=*=*=*=*=*=*=*=*=*=*=*=*=*=\n",
            "fold 4 EPOCH 31: mean position error with floor 227.95554962212108\n",
            "fold 4 EPOCH 31: mean position error without floor 103.33430992736078\n",
            "*=*=*=*=*=*=*=*=*=*=*=*=*=*=*=*=*=*=*=*=*=*=*=*=*=*=*=*=*=*=*=*=*=*=*=*=*=*=*=*=*=*=*=*=*=*=*=*=*=*=\n"
          ],
          "name": "stdout"
        },
        {
          "output_type": "stream",
          "text": [
            "loss:481.78387451171875: 100%|██████████| 323/323 [00:46<00:00,  6.90it/s]\n",
            "100%|██████████| 81/81 [00:08<00:00,  9.15it/s]\n",
            "  0%|          | 0/323 [00:00<?, ?it/s]"
          ],
          "name": "stderr"
        },
        {
          "output_type": "stream",
          "text": [
            "*=*=*=*=*=*=*=*=*=*=*=*=*=*=*=*=*=*=*=*=*=*=*=*=*=*=*=*=*=*=*=*=*=*=*=*=*=*=*=*=*=*=*=*=*=*=*=*=*=*=\n",
            "fold 4 EPOCH 32: mean position error with floor 216.56422233113148\n",
            "fold 4 EPOCH 32: mean position error without floor 91.94125302663439\n",
            "*=*=*=*=*=*=*=*=*=*=*=*=*=*=*=*=*=*=*=*=*=*=*=*=*=*=*=*=*=*=*=*=*=*=*=*=*=*=*=*=*=*=*=*=*=*=*=*=*=*=\n"
          ],
          "name": "stdout"
        },
        {
          "output_type": "stream",
          "text": [
            "loss:400.23272705078125: 100%|██████████| 323/323 [00:46<00:00,  6.95it/s]\n",
            "100%|██████████| 81/81 [00:08<00:00,  9.29it/s]\n",
            "  0%|          | 0/323 [00:00<?, ?it/s]"
          ],
          "name": "stderr"
        },
        {
          "output_type": "stream",
          "text": [
            "*=*=*=*=*=*=*=*=*=*=*=*=*=*=*=*=*=*=*=*=*=*=*=*=*=*=*=*=*=*=*=*=*=*=*=*=*=*=*=*=*=*=*=*=*=*=*=*=*=*=\n",
            "fold 4 EPOCH 33: mean position error with floor 208.44721326658723\n",
            "fold 4 EPOCH 33: mean position error without floor 83.71387409200969\n",
            "*=*=*=*=*=*=*=*=*=*=*=*=*=*=*=*=*=*=*=*=*=*=*=*=*=*=*=*=*=*=*=*=*=*=*=*=*=*=*=*=*=*=*=*=*=*=*=*=*=*=\n"
          ],
          "name": "stdout"
        },
        {
          "output_type": "stream",
          "text": [
            "loss:337.13134765625: 100%|██████████| 323/323 [00:46<00:00,  6.94it/s]\n",
            "100%|██████████| 81/81 [00:08<00:00,  9.11it/s]\n",
            "  0%|          | 0/323 [00:00<?, ?it/s]"
          ],
          "name": "stderr"
        },
        {
          "output_type": "stream",
          "text": [
            "*=*=*=*=*=*=*=*=*=*=*=*=*=*=*=*=*=*=*=*=*=*=*=*=*=*=*=*=*=*=*=*=*=*=*=*=*=*=*=*=*=*=*=*=*=*=*=*=*=*=\n",
            "fold 4 EPOCH 34: mean position error with floor 201.5505774645244\n",
            "fold 4 EPOCH 34: mean position error without floor 76.81644673123486\n",
            "*=*=*=*=*=*=*=*=*=*=*=*=*=*=*=*=*=*=*=*=*=*=*=*=*=*=*=*=*=*=*=*=*=*=*=*=*=*=*=*=*=*=*=*=*=*=*=*=*=*=\n"
          ],
          "name": "stdout"
        },
        {
          "output_type": "stream",
          "text": [
            "loss:286.6497802734375: 100%|██████████| 323/323 [00:46<00:00,  7.02it/s]\n",
            "100%|██████████| 81/81 [00:08<00:00,  9.20it/s]\n",
            "  0%|          | 0/323 [00:00<?, ?it/s]"
          ],
          "name": "stderr"
        },
        {
          "output_type": "stream",
          "text": [
            "*=*=*=*=*=*=*=*=*=*=*=*=*=*=*=*=*=*=*=*=*=*=*=*=*=*=*=*=*=*=*=*=*=*=*=*=*=*=*=*=*=*=*=*=*=*=*=*=*=*=\n",
            "fold 4 EPOCH 35: mean position error with floor 196.00277155849585\n",
            "fold 4 EPOCH 35: mean position error without floor 71.20894673123486\n",
            "*=*=*=*=*=*=*=*=*=*=*=*=*=*=*=*=*=*=*=*=*=*=*=*=*=*=*=*=*=*=*=*=*=*=*=*=*=*=*=*=*=*=*=*=*=*=*=*=*=*=\n"
          ],
          "name": "stdout"
        },
        {
          "output_type": "stream",
          "text": [
            "loss:245.34222412109375: 100%|██████████| 323/323 [00:46<00:00,  6.99it/s]\n",
            "100%|██████████| 81/81 [00:08<00:00,  9.25it/s]\n",
            "  0%|          | 0/323 [00:00<?, ?it/s]"
          ],
          "name": "stderr"
        },
        {
          "output_type": "stream",
          "text": [
            "*=*=*=*=*=*=*=*=*=*=*=*=*=*=*=*=*=*=*=*=*=*=*=*=*=*=*=*=*=*=*=*=*=*=*=*=*=*=*=*=*=*=*=*=*=*=*=*=*=*=\n",
            "fold 4 EPOCH 36: mean position error with floor 191.1087746737634\n",
            "fold 4 EPOCH 36: mean position error without floor 66.29271186440678\n",
            "*=*=*=*=*=*=*=*=*=*=*=*=*=*=*=*=*=*=*=*=*=*=*=*=*=*=*=*=*=*=*=*=*=*=*=*=*=*=*=*=*=*=*=*=*=*=*=*=*=*=\n"
          ],
          "name": "stdout"
        },
        {
          "output_type": "stream",
          "text": [
            "loss:212.4682159423828: 100%|██████████| 323/323 [00:46<00:00,  6.95it/s]\n",
            "100%|██████████| 81/81 [00:08<00:00,  9.29it/s]\n",
            "  0%|          | 0/323 [00:00<?, ?it/s]"
          ],
          "name": "stderr"
        },
        {
          "output_type": "stream",
          "text": [
            "*=*=*=*=*=*=*=*=*=*=*=*=*=*=*=*=*=*=*=*=*=*=*=*=*=*=*=*=*=*=*=*=*=*=*=*=*=*=*=*=*=*=*=*=*=*=*=*=*=*=\n",
            "fold 4 EPOCH 37: mean position error with floor 187.0587607956131\n",
            "fold 4 EPOCH 37: mean position error without floor 62.19532082324455\n",
            "*=*=*=*=*=*=*=*=*=*=*=*=*=*=*=*=*=*=*=*=*=*=*=*=*=*=*=*=*=*=*=*=*=*=*=*=*=*=*=*=*=*=*=*=*=*=*=*=*=*=\n"
          ],
          "name": "stdout"
        },
        {
          "output_type": "stream",
          "text": [
            "loss:184.76669311523438: 100%|██████████| 323/323 [00:46<00:00,  6.91it/s]\n",
            "100%|██████████| 81/81 [00:08<00:00,  9.07it/s]\n",
            "  0%|          | 0/323 [00:00<?, ?it/s]"
          ],
          "name": "stderr"
        },
        {
          "output_type": "stream",
          "text": [
            "*=*=*=*=*=*=*=*=*=*=*=*=*=*=*=*=*=*=*=*=*=*=*=*=*=*=*=*=*=*=*=*=*=*=*=*=*=*=*=*=*=*=*=*=*=*=*=*=*=*=\n",
            "fold 4 EPOCH 38: mean position error with floor 184.35831367525546\n",
            "fold 4 EPOCH 38: mean position error without floor 59.45866828087167\n",
            "*=*=*=*=*=*=*=*=*=*=*=*=*=*=*=*=*=*=*=*=*=*=*=*=*=*=*=*=*=*=*=*=*=*=*=*=*=*=*=*=*=*=*=*=*=*=*=*=*=*=\n"
          ],
          "name": "stdout"
        },
        {
          "output_type": "stream",
          "text": [
            "loss:161.41067504882812: 100%|██████████| 323/323 [00:48<00:00,  6.66it/s]\n",
            "100%|██████████| 81/81 [00:08<00:00,  9.20it/s]\n",
            "  0%|          | 0/323 [00:00<?, ?it/s]"
          ],
          "name": "stderr"
        },
        {
          "output_type": "stream",
          "text": [
            "*=*=*=*=*=*=*=*=*=*=*=*=*=*=*=*=*=*=*=*=*=*=*=*=*=*=*=*=*=*=*=*=*=*=*=*=*=*=*=*=*=*=*=*=*=*=*=*=*=*=\n",
            "fold 4 EPOCH 39: mean position error with floor 182.8470698667985\n",
            "fold 4 EPOCH 39: mean position error without floor 57.91293583535109\n",
            "*=*=*=*=*=*=*=*=*=*=*=*=*=*=*=*=*=*=*=*=*=*=*=*=*=*=*=*=*=*=*=*=*=*=*=*=*=*=*=*=*=*=*=*=*=*=*=*=*=*=\n"
          ],
          "name": "stdout"
        },
        {
          "output_type": "stream",
          "text": [
            "loss:141.26376342773438: 100%|██████████| 323/323 [00:48<00:00,  6.69it/s]\n",
            "100%|██████████| 81/81 [00:08<00:00,  9.15it/s]\n",
            "  0%|          | 0/323 [00:00<?, ?it/s]"
          ],
          "name": "stderr"
        },
        {
          "output_type": "stream",
          "text": [
            "*=*=*=*=*=*=*=*=*=*=*=*=*=*=*=*=*=*=*=*=*=*=*=*=*=*=*=*=*=*=*=*=*=*=*=*=*=*=*=*=*=*=*=*=*=*=*=*=*=*=\n",
            "fold 4 EPOCH 40: mean position error with floor 179.89486426710522\n",
            "fold 4 EPOCH 40: mean position error without floor 54.909073849878936\n",
            "*=*=*=*=*=*=*=*=*=*=*=*=*=*=*=*=*=*=*=*=*=*=*=*=*=*=*=*=*=*=*=*=*=*=*=*=*=*=*=*=*=*=*=*=*=*=*=*=*=*=\n"
          ],
          "name": "stdout"
        },
        {
          "output_type": "stream",
          "text": [
            "loss:123.96749114990234: 100%|██████████| 323/323 [00:48<00:00,  6.73it/s]\n",
            "100%|██████████| 81/81 [00:08<00:00,  9.38it/s]\n",
            "  0%|          | 0/323 [00:00<?, ?it/s]"
          ],
          "name": "stderr"
        },
        {
          "output_type": "stream",
          "text": [
            "*=*=*=*=*=*=*=*=*=*=*=*=*=*=*=*=*=*=*=*=*=*=*=*=*=*=*=*=*=*=*=*=*=*=*=*=*=*=*=*=*=*=*=*=*=*=*=*=*=*=\n",
            "fold 4 EPOCH 41: mean position error with floor 177.9323060132334\n",
            "fold 4 EPOCH 41: mean position error without floor 52.8973789346247\n",
            "*=*=*=*=*=*=*=*=*=*=*=*=*=*=*=*=*=*=*=*=*=*=*=*=*=*=*=*=*=*=*=*=*=*=*=*=*=*=*=*=*=*=*=*=*=*=*=*=*=*=\n"
          ],
          "name": "stdout"
        },
        {
          "output_type": "stream",
          "text": [
            "loss:109.30554962158203: 100%|██████████| 323/323 [00:48<00:00,  6.67it/s]\n",
            "100%|██████████| 81/81 [00:08<00:00,  9.13it/s]\n",
            "  0%|          | 0/323 [00:00<?, ?it/s]"
          ],
          "name": "stderr"
        },
        {
          "output_type": "stream",
          "text": [
            "*=*=*=*=*=*=*=*=*=*=*=*=*=*=*=*=*=*=*=*=*=*=*=*=*=*=*=*=*=*=*=*=*=*=*=*=*=*=*=*=*=*=*=*=*=*=*=*=*=*=\n",
            "fold 4 EPOCH 42: mean position error with floor 175.9117549384059\n",
            "fold 4 EPOCH 42: mean position error without floor 50.85515133171913\n",
            "*=*=*=*=*=*=*=*=*=*=*=*=*=*=*=*=*=*=*=*=*=*=*=*=*=*=*=*=*=*=*=*=*=*=*=*=*=*=*=*=*=*=*=*=*=*=*=*=*=*=\n"
          ],
          "name": "stdout"
        },
        {
          "output_type": "stream",
          "text": [
            "loss:96.59895324707031: 100%|██████████| 323/323 [00:48<00:00,  6.66it/s]\n",
            "100%|██████████| 81/81 [00:08<00:00,  9.17it/s]\n",
            "  0%|          | 0/323 [00:00<?, ?it/s]"
          ],
          "name": "stderr"
        },
        {
          "output_type": "stream",
          "text": [
            "*=*=*=*=*=*=*=*=*=*=*=*=*=*=*=*=*=*=*=*=*=*=*=*=*=*=*=*=*=*=*=*=*=*=*=*=*=*=*=*=*=*=*=*=*=*=*=*=*=*=\n",
            "fold 4 EPOCH 43: mean position error with floor 175.18846442170747\n",
            "fold 4 EPOCH 43: mean position error without floor 50.087055084745764\n",
            "*=*=*=*=*=*=*=*=*=*=*=*=*=*=*=*=*=*=*=*=*=*=*=*=*=*=*=*=*=*=*=*=*=*=*=*=*=*=*=*=*=*=*=*=*=*=*=*=*=*=\n"
          ],
          "name": "stdout"
        },
        {
          "output_type": "stream",
          "text": [
            "loss:85.77610778808594: 100%|██████████| 323/323 [00:47<00:00,  6.76it/s]\n",
            "100%|██████████| 81/81 [00:08<00:00,  9.37it/s]\n",
            "  0%|          | 0/323 [00:00<?, ?it/s]"
          ],
          "name": "stderr"
        },
        {
          "output_type": "stream",
          "text": [
            "*=*=*=*=*=*=*=*=*=*=*=*=*=*=*=*=*=*=*=*=*=*=*=*=*=*=*=*=*=*=*=*=*=*=*=*=*=*=*=*=*=*=*=*=*=*=*=*=*=*=\n",
            "fold 4 EPOCH 44: mean position error with floor 173.88457551444\n",
            "fold 4 EPOCH 44: mean position error without floor 48.74625\n",
            "*=*=*=*=*=*=*=*=*=*=*=*=*=*=*=*=*=*=*=*=*=*=*=*=*=*=*=*=*=*=*=*=*=*=*=*=*=*=*=*=*=*=*=*=*=*=*=*=*=*=\n"
          ],
          "name": "stdout"
        },
        {
          "output_type": "stream",
          "text": [
            "loss:76.29879760742188: 100%|██████████| 323/323 [00:47<00:00,  6.75it/s]\n",
            "100%|██████████| 81/81 [00:08<00:00,  9.32it/s]\n",
            "  0%|          | 0/323 [00:00<?, ?it/s]"
          ],
          "name": "stderr"
        },
        {
          "output_type": "stream",
          "text": [
            "*=*=*=*=*=*=*=*=*=*=*=*=*=*=*=*=*=*=*=*=*=*=*=*=*=*=*=*=*=*=*=*=*=*=*=*=*=*=*=*=*=*=*=*=*=*=*=*=*=*=\n",
            "fold 4 EPOCH 45: mean position error with floor 172.98111464300038\n",
            "fold 4 EPOCH 45: mean position error without floor 47.80944612590799\n",
            "*=*=*=*=*=*=*=*=*=*=*=*=*=*=*=*=*=*=*=*=*=*=*=*=*=*=*=*=*=*=*=*=*=*=*=*=*=*=*=*=*=*=*=*=*=*=*=*=*=*=\n"
          ],
          "name": "stdout"
        },
        {
          "output_type": "stream",
          "text": [
            "loss:68.25907897949219: 100%|██████████| 323/323 [00:45<00:00,  7.05it/s]\n",
            "100%|██████████| 81/81 [00:08<00:00,  9.59it/s]\n",
            "  0%|          | 0/323 [00:00<?, ?it/s]"
          ],
          "name": "stderr"
        },
        {
          "output_type": "stream",
          "text": [
            "*=*=*=*=*=*=*=*=*=*=*=*=*=*=*=*=*=*=*=*=*=*=*=*=*=*=*=*=*=*=*=*=*=*=*=*=*=*=*=*=*=*=*=*=*=*=*=*=*=*=\n",
            "fold 4 EPOCH 46: mean position error with floor 171.4524116847038\n",
            "fold 4 EPOCH 46: mean position error without floor 46.27426755447942\n",
            "*=*=*=*=*=*=*=*=*=*=*=*=*=*=*=*=*=*=*=*=*=*=*=*=*=*=*=*=*=*=*=*=*=*=*=*=*=*=*=*=*=*=*=*=*=*=*=*=*=*=\n"
          ],
          "name": "stdout"
        },
        {
          "output_type": "stream",
          "text": [
            "loss:61.45429992675781: 100%|██████████| 323/323 [00:45<00:00,  7.13it/s]\n",
            "100%|██████████| 81/81 [00:08<00:00,  9.59it/s]\n",
            "  0%|          | 0/323 [00:00<?, ?it/s]"
          ],
          "name": "stderr"
        },
        {
          "output_type": "stream",
          "text": [
            "*=*=*=*=*=*=*=*=*=*=*=*=*=*=*=*=*=*=*=*=*=*=*=*=*=*=*=*=*=*=*=*=*=*=*=*=*=*=*=*=*=*=*=*=*=*=*=*=*=*=\n",
            "fold 4 EPOCH 47: mean position error with floor 171.10732474379944\n",
            "fold 4 EPOCH 47: mean position error without floor 45.90331719128329\n",
            "*=*=*=*=*=*=*=*=*=*=*=*=*=*=*=*=*=*=*=*=*=*=*=*=*=*=*=*=*=*=*=*=*=*=*=*=*=*=*=*=*=*=*=*=*=*=*=*=*=*=\n"
          ],
          "name": "stdout"
        },
        {
          "output_type": "stream",
          "text": [
            "loss:55.510353088378906: 100%|██████████| 323/323 [00:45<00:00,  7.06it/s]\n",
            "100%|██████████| 81/81 [00:08<00:00,  9.49it/s]\n",
            "  0%|          | 0/323 [00:00<?, ?it/s]"
          ],
          "name": "stderr"
        },
        {
          "output_type": "stream",
          "text": [
            "*=*=*=*=*=*=*=*=*=*=*=*=*=*=*=*=*=*=*=*=*=*=*=*=*=*=*=*=*=*=*=*=*=*=*=*=*=*=*=*=*=*=*=*=*=*=*=*=*=*=\n",
            "fold 4 EPOCH 48: mean position error with floor 170.43141923331825\n",
            "fold 4 EPOCH 48: mean position error without floor 45.185723365617434\n",
            "*=*=*=*=*=*=*=*=*=*=*=*=*=*=*=*=*=*=*=*=*=*=*=*=*=*=*=*=*=*=*=*=*=*=*=*=*=*=*=*=*=*=*=*=*=*=*=*=*=*=\n"
          ],
          "name": "stdout"
        },
        {
          "output_type": "stream",
          "text": [
            "loss:50.44874572753906: 100%|██████████| 323/323 [00:45<00:00,  7.07it/s]\n",
            "100%|██████████| 81/81 [00:08<00:00,  9.41it/s]\n",
            "  0%|          | 0/323 [00:00<?, ?it/s]"
          ],
          "name": "stderr"
        },
        {
          "output_type": "stream",
          "text": [
            "*=*=*=*=*=*=*=*=*=*=*=*=*=*=*=*=*=*=*=*=*=*=*=*=*=*=*=*=*=*=*=*=*=*=*=*=*=*=*=*=*=*=*=*=*=*=*=*=*=*=\n",
            "fold 4 EPOCH 49: mean position error with floor 169.6432129360077\n",
            "fold 4 EPOCH 49: mean position error without floor 44.35369552058111\n",
            "*=*=*=*=*=*=*=*=*=*=*=*=*=*=*=*=*=*=*=*=*=*=*=*=*=*=*=*=*=*=*=*=*=*=*=*=*=*=*=*=*=*=*=*=*=*=*=*=*=*=\n"
          ],
          "name": "stdout"
        },
        {
          "output_type": "stream",
          "text": [
            "loss:46.12092208862305: 100%|██████████| 323/323 [00:45<00:00,  7.13it/s]\n",
            "100%|██████████| 81/81 [00:08<00:00,  9.52it/s]\n",
            "  0%|          | 0/323 [00:00<?, ?it/s]"
          ],
          "name": "stderr"
        },
        {
          "output_type": "stream",
          "text": [
            "*=*=*=*=*=*=*=*=*=*=*=*=*=*=*=*=*=*=*=*=*=*=*=*=*=*=*=*=*=*=*=*=*=*=*=*=*=*=*=*=*=*=*=*=*=*=*=*=*=*=\n",
            "fold 4 EPOCH 50: mean position error with floor 169.28298575848106\n",
            "fold 4 EPOCH 50: mean position error without floor 43.989394673123485\n",
            "*=*=*=*=*=*=*=*=*=*=*=*=*=*=*=*=*=*=*=*=*=*=*=*=*=*=*=*=*=*=*=*=*=*=*=*=*=*=*=*=*=*=*=*=*=*=*=*=*=*=\n"
          ],
          "name": "stdout"
        },
        {
          "output_type": "stream",
          "text": [
            "loss:43.032901763916016: 100%|██████████| 323/323 [00:45<00:00,  7.03it/s]\n",
            "100%|██████████| 81/81 [00:08<00:00,  9.29it/s]\n",
            "  0%|          | 0/323 [00:00<?, ?it/s]"
          ],
          "name": "stderr"
        },
        {
          "output_type": "stream",
          "text": [
            "*=*=*=*=*=*=*=*=*=*=*=*=*=*=*=*=*=*=*=*=*=*=*=*=*=*=*=*=*=*=*=*=*=*=*=*=*=*=*=*=*=*=*=*=*=*=*=*=*=*=\n",
            "fold 4 EPOCH 51: mean position error with floor 168.66769426350228\n",
            "fold 4 EPOCH 51: mean position error without floor 43.361280266343826\n",
            "*=*=*=*=*=*=*=*=*=*=*=*=*=*=*=*=*=*=*=*=*=*=*=*=*=*=*=*=*=*=*=*=*=*=*=*=*=*=*=*=*=*=*=*=*=*=*=*=*=*=\n"
          ],
          "name": "stdout"
        },
        {
          "output_type": "stream",
          "text": [
            "loss:38.979679107666016: 100%|██████████| 323/323 [00:45<00:00,  7.08it/s]\n",
            "100%|██████████| 81/81 [00:08<00:00,  9.56it/s]\n",
            "  0%|          | 0/323 [00:00<?, ?it/s]"
          ],
          "name": "stderr"
        },
        {
          "output_type": "stream",
          "text": [
            "*=*=*=*=*=*=*=*=*=*=*=*=*=*=*=*=*=*=*=*=*=*=*=*=*=*=*=*=*=*=*=*=*=*=*=*=*=*=*=*=*=*=*=*=*=*=*=*=*=*=\n",
            "fold 4 EPOCH 52: mean position error with floor 168.29378976881765\n",
            "fold 4 EPOCH 52: mean position error without floor 42.955205811138015\n",
            "*=*=*=*=*=*=*=*=*=*=*=*=*=*=*=*=*=*=*=*=*=*=*=*=*=*=*=*=*=*=*=*=*=*=*=*=*=*=*=*=*=*=*=*=*=*=*=*=*=*=\n"
          ],
          "name": "stdout"
        },
        {
          "output_type": "stream",
          "text": [
            "loss:35.55979537963867: 100%|██████████| 323/323 [00:45<00:00,  7.04it/s]\n",
            "100%|██████████| 81/81 [00:08<00:00,  9.44it/s]\n",
            "  0%|          | 0/323 [00:00<?, ?it/s]"
          ],
          "name": "stderr"
        },
        {
          "output_type": "stream",
          "text": [
            "*=*=*=*=*=*=*=*=*=*=*=*=*=*=*=*=*=*=*=*=*=*=*=*=*=*=*=*=*=*=*=*=*=*=*=*=*=*=*=*=*=*=*=*=*=*=*=*=*=*=\n",
            "fold 4 EPOCH 53: mean position error with floor 168.30091862644738\n",
            "fold 4 EPOCH 53: mean position error without floor 42.957463680387406\n",
            "*=*=*=*=*=*=*=*=*=*=*=*=*=*=*=*=*=*=*=*=*=*=*=*=*=*=*=*=*=*=*=*=*=*=*=*=*=*=*=*=*=*=*=*=*=*=*=*=*=*=\n"
          ],
          "name": "stdout"
        },
        {
          "output_type": "stream",
          "text": [
            "loss:32.89285659790039: 100%|██████████| 323/323 [00:45<00:00,  7.03it/s]\n",
            "100%|██████████| 81/81 [00:08<00:00,  9.43it/s]\n",
            "  0%|          | 0/323 [00:00<?, ?it/s]"
          ],
          "name": "stderr"
        },
        {
          "output_type": "stream",
          "text": [
            "*=*=*=*=*=*=*=*=*=*=*=*=*=*=*=*=*=*=*=*=*=*=*=*=*=*=*=*=*=*=*=*=*=*=*=*=*=*=*=*=*=*=*=*=*=*=*=*=*=*=\n",
            "fold 4 EPOCH 54: mean position error with floor 167.5237015931505\n",
            "fold 4 EPOCH 54: mean position error without floor 42.159782082324455\n",
            "*=*=*=*=*=*=*=*=*=*=*=*=*=*=*=*=*=*=*=*=*=*=*=*=*=*=*=*=*=*=*=*=*=*=*=*=*=*=*=*=*=*=*=*=*=*=*=*=*=*=\n"
          ],
          "name": "stdout"
        },
        {
          "output_type": "stream",
          "text": [
            "loss:30.322580337524414: 100%|██████████| 323/323 [00:46<00:00,  6.88it/s]\n",
            "100%|██████████| 81/81 [00:08<00:00,  9.30it/s]\n",
            "  0%|          | 0/323 [00:00<?, ?it/s]"
          ],
          "name": "stderr"
        },
        {
          "output_type": "stream",
          "text": [
            "*=*=*=*=*=*=*=*=*=*=*=*=*=*=*=*=*=*=*=*=*=*=*=*=*=*=*=*=*=*=*=*=*=*=*=*=*=*=*=*=*=*=*=*=*=*=*=*=*=*=\n",
            "fold 4 EPOCH 55: mean position error with floor 167.2149467053073\n",
            "fold 4 EPOCH 55: mean position error without floor 41.84951573849879\n",
            "*=*=*=*=*=*=*=*=*=*=*=*=*=*=*=*=*=*=*=*=*=*=*=*=*=*=*=*=*=*=*=*=*=*=*=*=*=*=*=*=*=*=*=*=*=*=*=*=*=*=\n"
          ],
          "name": "stdout"
        },
        {
          "output_type": "stream",
          "text": [
            "loss:28.09330940246582: 100%|██████████| 323/323 [00:45<00:00,  7.07it/s]\n",
            "100%|██████████| 81/81 [00:08<00:00,  9.38it/s]\n",
            "  0%|          | 0/323 [00:00<?, ?it/s]"
          ],
          "name": "stderr"
        },
        {
          "output_type": "stream",
          "text": [
            "*=*=*=*=*=*=*=*=*=*=*=*=*=*=*=*=*=*=*=*=*=*=*=*=*=*=*=*=*=*=*=*=*=*=*=*=*=*=*=*=*=*=*=*=*=*=*=*=*=*=\n",
            "fold 4 EPOCH 56: mean position error with floor 167.01968653781506\n",
            "fold 4 EPOCH 56: mean position error without floor 41.624724576271184\n",
            "*=*=*=*=*=*=*=*=*=*=*=*=*=*=*=*=*=*=*=*=*=*=*=*=*=*=*=*=*=*=*=*=*=*=*=*=*=*=*=*=*=*=*=*=*=*=*=*=*=*=\n"
          ],
          "name": "stdout"
        },
        {
          "output_type": "stream",
          "text": [
            "loss:26.01844024658203: 100%|██████████| 323/323 [00:46<00:00,  7.02it/s]\n",
            "100%|██████████| 81/81 [00:08<00:00,  9.44it/s]\n",
            "  0%|          | 0/323 [00:00<?, ?it/s]"
          ],
          "name": "stderr"
        },
        {
          "output_type": "stream",
          "text": [
            "*=*=*=*=*=*=*=*=*=*=*=*=*=*=*=*=*=*=*=*=*=*=*=*=*=*=*=*=*=*=*=*=*=*=*=*=*=*=*=*=*=*=*=*=*=*=*=*=*=*=\n",
            "fold 4 EPOCH 57: mean position error with floor 166.6758342889561\n",
            "fold 4 EPOCH 57: mean position error without floor 41.29792675544794\n",
            "*=*=*=*=*=*=*=*=*=*=*=*=*=*=*=*=*=*=*=*=*=*=*=*=*=*=*=*=*=*=*=*=*=*=*=*=*=*=*=*=*=*=*=*=*=*=*=*=*=*=\n"
          ],
          "name": "stdout"
        },
        {
          "output_type": "stream",
          "text": [
            "loss:24.321067810058594: 100%|██████████| 323/323 [00:45<00:00,  7.06it/s]\n",
            "100%|██████████| 81/81 [00:08<00:00,  9.68it/s]\n",
            "  0%|          | 0/323 [00:00<?, ?it/s]"
          ],
          "name": "stderr"
        },
        {
          "output_type": "stream",
          "text": [
            "*=*=*=*=*=*=*=*=*=*=*=*=*=*=*=*=*=*=*=*=*=*=*=*=*=*=*=*=*=*=*=*=*=*=*=*=*=*=*=*=*=*=*=*=*=*=*=*=*=*=\n",
            "fold 4 EPOCH 58: mean position error with floor 166.2749661096169\n",
            "fold 4 EPOCH 58: mean position error without floor 40.87015738498789\n",
            "*=*=*=*=*=*=*=*=*=*=*=*=*=*=*=*=*=*=*=*=*=*=*=*=*=*=*=*=*=*=*=*=*=*=*=*=*=*=*=*=*=*=*=*=*=*=*=*=*=*=\n"
          ],
          "name": "stdout"
        },
        {
          "output_type": "stream",
          "text": [
            "loss:22.691009521484375: 100%|██████████| 323/323 [00:45<00:00,  7.03it/s]\n",
            "100%|██████████| 81/81 [00:08<00:00,  9.33it/s]\n",
            "  0%|          | 0/323 [00:00<?, ?it/s]"
          ],
          "name": "stderr"
        },
        {
          "output_type": "stream",
          "text": [
            "*=*=*=*=*=*=*=*=*=*=*=*=*=*=*=*=*=*=*=*=*=*=*=*=*=*=*=*=*=*=*=*=*=*=*=*=*=*=*=*=*=*=*=*=*=*=*=*=*=*=\n",
            "fold 4 EPOCH 59: mean position error with floor 166.1495003724614\n",
            "fold 4 EPOCH 59: mean position error without floor 40.72413438256659\n",
            "*=*=*=*=*=*=*=*=*=*=*=*=*=*=*=*=*=*=*=*=*=*=*=*=*=*=*=*=*=*=*=*=*=*=*=*=*=*=*=*=*=*=*=*=*=*=*=*=*=*=\n"
          ],
          "name": "stdout"
        },
        {
          "output_type": "stream",
          "text": [
            "loss:21.295013427734375: 100%|██████████| 323/323 [00:45<00:00,  7.08it/s]\n",
            "100%|██████████| 81/81 [00:08<00:00,  9.42it/s]\n",
            "  0%|          | 0/323 [00:00<?, ?it/s]"
          ],
          "name": "stderr"
        },
        {
          "output_type": "stream",
          "text": [
            "*=*=*=*=*=*=*=*=*=*=*=*=*=*=*=*=*=*=*=*=*=*=*=*=*=*=*=*=*=*=*=*=*=*=*=*=*=*=*=*=*=*=*=*=*=*=*=*=*=*=\n",
            "fold 4 EPOCH 60: mean position error with floor 166.13470256160738\n",
            "fold 4 EPOCH 60: mean position error without floor 40.70623486682809\n",
            "*=*=*=*=*=*=*=*=*=*=*=*=*=*=*=*=*=*=*=*=*=*=*=*=*=*=*=*=*=*=*=*=*=*=*=*=*=*=*=*=*=*=*=*=*=*=*=*=*=*=\n"
          ],
          "name": "stdout"
        },
        {
          "output_type": "stream",
          "text": [
            "loss:20.13010025024414: 100%|██████████| 323/323 [00:45<00:00,  7.07it/s]\n",
            "100%|██████████| 81/81 [00:08<00:00,  9.66it/s]\n",
            "  0%|          | 0/323 [00:00<?, ?it/s]"
          ],
          "name": "stderr"
        },
        {
          "output_type": "stream",
          "text": [
            "*=*=*=*=*=*=*=*=*=*=*=*=*=*=*=*=*=*=*=*=*=*=*=*=*=*=*=*=*=*=*=*=*=*=*=*=*=*=*=*=*=*=*=*=*=*=*=*=*=*=\n",
            "fold 4 EPOCH 61: mean position error with floor 166.02172876739328\n",
            "fold 4 EPOCH 61: mean position error without floor 40.595744552058115\n",
            "*=*=*=*=*=*=*=*=*=*=*=*=*=*=*=*=*=*=*=*=*=*=*=*=*=*=*=*=*=*=*=*=*=*=*=*=*=*=*=*=*=*=*=*=*=*=*=*=*=*=\n"
          ],
          "name": "stdout"
        },
        {
          "output_type": "stream",
          "text": [
            "loss:18.690073013305664: 100%|██████████| 323/323 [00:46<00:00,  7.02it/s]\n",
            "100%|██████████| 81/81 [00:08<00:00,  9.37it/s]\n",
            "  0%|          | 0/323 [00:00<?, ?it/s]"
          ],
          "name": "stderr"
        },
        {
          "output_type": "stream",
          "text": [
            "*=*=*=*=*=*=*=*=*=*=*=*=*=*=*=*=*=*=*=*=*=*=*=*=*=*=*=*=*=*=*=*=*=*=*=*=*=*=*=*=*=*=*=*=*=*=*=*=*=*=\n",
            "fold 4 EPOCH 62: mean position error with floor 165.38472355103917\n",
            "fold 4 EPOCH 62: mean position error without floor 39.936398305084744\n",
            "*=*=*=*=*=*=*=*=*=*=*=*=*=*=*=*=*=*=*=*=*=*=*=*=*=*=*=*=*=*=*=*=*=*=*=*=*=*=*=*=*=*=*=*=*=*=*=*=*=*=\n"
          ],
          "name": "stdout"
        },
        {
          "output_type": "stream",
          "text": [
            "loss:17.720226287841797: 100%|██████████| 323/323 [00:46<00:00,  7.01it/s]\n",
            "100%|██████████| 81/81 [00:08<00:00,  9.66it/s]\n",
            "  0%|          | 0/323 [00:00<?, ?it/s]"
          ],
          "name": "stderr"
        },
        {
          "output_type": "stream",
          "text": [
            "*=*=*=*=*=*=*=*=*=*=*=*=*=*=*=*=*=*=*=*=*=*=*=*=*=*=*=*=*=*=*=*=*=*=*=*=*=*=*=*=*=*=*=*=*=*=*=*=*=*=\n",
            "fold 4 EPOCH 63: mean position error with floor 165.51961373448407\n",
            "fold 4 EPOCH 63: mean position error without floor 40.07068099273608\n",
            "*=*=*=*=*=*=*=*=*=*=*=*=*=*=*=*=*=*=*=*=*=*=*=*=*=*=*=*=*=*=*=*=*=*=*=*=*=*=*=*=*=*=*=*=*=*=*=*=*=*=\n"
          ],
          "name": "stdout"
        },
        {
          "output_type": "stream",
          "text": [
            "loss:17.086624145507812: 100%|██████████| 323/323 [00:45<00:00,  7.05it/s]\n",
            "100%|██████████| 81/81 [00:08<00:00,  9.49it/s]\n",
            "  0%|          | 0/323 [00:00<?, ?it/s]"
          ],
          "name": "stderr"
        },
        {
          "output_type": "stream",
          "text": [
            "*=*=*=*=*=*=*=*=*=*=*=*=*=*=*=*=*=*=*=*=*=*=*=*=*=*=*=*=*=*=*=*=*=*=*=*=*=*=*=*=*=*=*=*=*=*=*=*=*=*=\n",
            "fold 4 EPOCH 64: mean position error with floor 165.37979163221283\n",
            "fold 4 EPOCH 64: mean position error without floor 39.90496973365617\n",
            "*=*=*=*=*=*=*=*=*=*=*=*=*=*=*=*=*=*=*=*=*=*=*=*=*=*=*=*=*=*=*=*=*=*=*=*=*=*=*=*=*=*=*=*=*=*=*=*=*=*=\n"
          ],
          "name": "stdout"
        },
        {
          "output_type": "stream",
          "text": [
            "loss:15.984796524047852: 100%|██████████| 323/323 [00:45<00:00,  7.05it/s]\n",
            "100%|██████████| 81/81 [00:08<00:00,  9.58it/s]\n",
            "  0%|          | 0/323 [00:00<?, ?it/s]"
          ],
          "name": "stderr"
        },
        {
          "output_type": "stream",
          "text": [
            "*=*=*=*=*=*=*=*=*=*=*=*=*=*=*=*=*=*=*=*=*=*=*=*=*=*=*=*=*=*=*=*=*=*=*=*=*=*=*=*=*=*=*=*=*=*=*=*=*=*=\n",
            "fold 4 EPOCH 65: mean position error with floor 165.18634136555124\n",
            "fold 4 EPOCH 65: mean position error without floor 39.7120127118644\n",
            "*=*=*=*=*=*=*=*=*=*=*=*=*=*=*=*=*=*=*=*=*=*=*=*=*=*=*=*=*=*=*=*=*=*=*=*=*=*=*=*=*=*=*=*=*=*=*=*=*=*=\n"
          ],
          "name": "stdout"
        },
        {
          "output_type": "stream",
          "text": [
            "loss:15.177964210510254: 100%|██████████| 323/323 [00:46<00:00,  6.97it/s]\n",
            "100%|██████████| 81/81 [00:08<00:00,  9.49it/s]\n",
            "  0%|          | 0/323 [00:00<?, ?it/s]"
          ],
          "name": "stderr"
        },
        {
          "output_type": "stream",
          "text": [
            "*=*=*=*=*=*=*=*=*=*=*=*=*=*=*=*=*=*=*=*=*=*=*=*=*=*=*=*=*=*=*=*=*=*=*=*=*=*=*=*=*=*=*=*=*=*=*=*=*=*=\n",
            "fold 4 EPOCH 66: mean position error with floor 164.99624682977145\n",
            "fold 4 EPOCH 66: mean position error without floor 39.520006053268766\n",
            "*=*=*=*=*=*=*=*=*=*=*=*=*=*=*=*=*=*=*=*=*=*=*=*=*=*=*=*=*=*=*=*=*=*=*=*=*=*=*=*=*=*=*=*=*=*=*=*=*=*=\n"
          ],
          "name": "stdout"
        },
        {
          "output_type": "stream",
          "text": [
            "loss:14.490764617919922: 100%|██████████| 323/323 [00:46<00:00,  6.96it/s]\n",
            "100%|██████████| 81/81 [00:08<00:00,  9.59it/s]\n",
            "  0%|          | 0/323 [00:00<?, ?it/s]"
          ],
          "name": "stderr"
        },
        {
          "output_type": "stream",
          "text": [
            "*=*=*=*=*=*=*=*=*=*=*=*=*=*=*=*=*=*=*=*=*=*=*=*=*=*=*=*=*=*=*=*=*=*=*=*=*=*=*=*=*=*=*=*=*=*=*=*=*=*=\n",
            "fold 4 EPOCH 67: mean position error with floor 165.48900851480138\n",
            "fold 4 EPOCH 67: mean position error without floor 39.999558111380146\n",
            "*=*=*=*=*=*=*=*=*=*=*=*=*=*=*=*=*=*=*=*=*=*=*=*=*=*=*=*=*=*=*=*=*=*=*=*=*=*=*=*=*=*=*=*=*=*=*=*=*=*=\n"
          ],
          "name": "stdout"
        },
        {
          "output_type": "stream",
          "text": [
            "loss:14.201262474060059: 100%|██████████| 323/323 [00:45<00:00,  7.04it/s]\n",
            "100%|██████████| 81/81 [00:08<00:00,  9.53it/s]\n",
            "  0%|          | 0/323 [00:00<?, ?it/s]"
          ],
          "name": "stderr"
        },
        {
          "output_type": "stream",
          "text": [
            "*=*=*=*=*=*=*=*=*=*=*=*=*=*=*=*=*=*=*=*=*=*=*=*=*=*=*=*=*=*=*=*=*=*=*=*=*=*=*=*=*=*=*=*=*=*=*=*=*=*=\n",
            "fold 4 EPOCH 68: mean position error with floor 164.8503716684048\n",
            "fold 4 EPOCH 68: mean position error without floor 39.35976392251816\n",
            "*=*=*=*=*=*=*=*=*=*=*=*=*=*=*=*=*=*=*=*=*=*=*=*=*=*=*=*=*=*=*=*=*=*=*=*=*=*=*=*=*=*=*=*=*=*=*=*=*=*=\n"
          ],
          "name": "stdout"
        },
        {
          "output_type": "stream",
          "text": [
            "loss:13.31229305267334: 100%|██████████| 323/323 [00:45<00:00,  7.08it/s]\n",
            "100%|██████████| 81/81 [00:08<00:00,  9.23it/s]\n",
            "  0%|          | 0/323 [00:00<?, ?it/s]"
          ],
          "name": "stderr"
        },
        {
          "output_type": "stream",
          "text": [
            "*=*=*=*=*=*=*=*=*=*=*=*=*=*=*=*=*=*=*=*=*=*=*=*=*=*=*=*=*=*=*=*=*=*=*=*=*=*=*=*=*=*=*=*=*=*=*=*=*=*=\n",
            "fold 4 EPOCH 69: mean position error with floor 164.58785113520838\n",
            "fold 4 EPOCH 69: mean position error without floor 39.08790254237288\n",
            "*=*=*=*=*=*=*=*=*=*=*=*=*=*=*=*=*=*=*=*=*=*=*=*=*=*=*=*=*=*=*=*=*=*=*=*=*=*=*=*=*=*=*=*=*=*=*=*=*=*=\n"
          ],
          "name": "stdout"
        },
        {
          "output_type": "stream",
          "text": [
            "loss:12.51173210144043: 100%|██████████| 323/323 [00:45<00:00,  7.10it/s]\n",
            "100%|██████████| 81/81 [00:08<00:00,  9.55it/s]\n",
            "  0%|          | 0/323 [00:00<?, ?it/s]"
          ],
          "name": "stderr"
        },
        {
          "output_type": "stream",
          "text": [
            "*=*=*=*=*=*=*=*=*=*=*=*=*=*=*=*=*=*=*=*=*=*=*=*=*=*=*=*=*=*=*=*=*=*=*=*=*=*=*=*=*=*=*=*=*=*=*=*=*=*=\n",
            "fold 4 EPOCH 70: mean position error with floor 164.64684513390094\n",
            "fold 4 EPOCH 70: mean position error without floor 39.16141343825666\n",
            "*=*=*=*=*=*=*=*=*=*=*=*=*=*=*=*=*=*=*=*=*=*=*=*=*=*=*=*=*=*=*=*=*=*=*=*=*=*=*=*=*=*=*=*=*=*=*=*=*=*=\n"
          ],
          "name": "stdout"
        },
        {
          "output_type": "stream",
          "text": [
            "loss:11.899486541748047: 100%|██████████| 323/323 [00:46<00:00,  6.95it/s]\n",
            "100%|██████████| 81/81 [00:08<00:00,  9.05it/s]\n",
            "  0%|          | 0/323 [00:00<?, ?it/s]"
          ],
          "name": "stderr"
        },
        {
          "output_type": "stream",
          "text": [
            "*=*=*=*=*=*=*=*=*=*=*=*=*=*=*=*=*=*=*=*=*=*=*=*=*=*=*=*=*=*=*=*=*=*=*=*=*=*=*=*=*=*=*=*=*=*=*=*=*=*=\n",
            "fold 4 EPOCH 71: mean position error with floor 164.44750647829463\n",
            "fold 4 EPOCH 71: mean position error without floor 38.94958535108959\n",
            "*=*=*=*=*=*=*=*=*=*=*=*=*=*=*=*=*=*=*=*=*=*=*=*=*=*=*=*=*=*=*=*=*=*=*=*=*=*=*=*=*=*=*=*=*=*=*=*=*=*=\n"
          ],
          "name": "stdout"
        },
        {
          "output_type": "stream",
          "text": [
            "loss:11.571765899658203: 100%|██████████| 323/323 [00:46<00:00,  6.91it/s]\n",
            "100%|██████████| 81/81 [00:08<00:00,  9.53it/s]\n",
            "  0%|          | 0/323 [00:00<?, ?it/s]"
          ],
          "name": "stderr"
        },
        {
          "output_type": "stream",
          "text": [
            "*=*=*=*=*=*=*=*=*=*=*=*=*=*=*=*=*=*=*=*=*=*=*=*=*=*=*=*=*=*=*=*=*=*=*=*=*=*=*=*=*=*=*=*=*=*=*=*=*=*=\n",
            "fold 4 EPOCH 72: mean position error with floor 164.71771277791905\n",
            "fold 4 EPOCH 72: mean position error without floor 39.21713680387409\n",
            "*=*=*=*=*=*=*=*=*=*=*=*=*=*=*=*=*=*=*=*=*=*=*=*=*=*=*=*=*=*=*=*=*=*=*=*=*=*=*=*=*=*=*=*=*=*=*=*=*=*=\n"
          ],
          "name": "stdout"
        },
        {
          "output_type": "stream",
          "text": [
            "loss:11.26113224029541: 100%|██████████| 323/323 [00:45<00:00,  7.08it/s]\n",
            "100%|██████████| 81/81 [00:08<00:00,  9.33it/s]\n",
            "  0%|          | 0/323 [00:00<?, ?it/s]"
          ],
          "name": "stderr"
        },
        {
          "output_type": "stream",
          "text": [
            "*=*=*=*=*=*=*=*=*=*=*=*=*=*=*=*=*=*=*=*=*=*=*=*=*=*=*=*=*=*=*=*=*=*=*=*=*=*=*=*=*=*=*=*=*=*=*=*=*=*=\n",
            "fold 4 EPOCH 73: mean position error with floor 164.20283995934136\n",
            "fold 4 EPOCH 73: mean position error without floor 38.714782082324454\n",
            "*=*=*=*=*=*=*=*=*=*=*=*=*=*=*=*=*=*=*=*=*=*=*=*=*=*=*=*=*=*=*=*=*=*=*=*=*=*=*=*=*=*=*=*=*=*=*=*=*=*=\n"
          ],
          "name": "stdout"
        },
        {
          "output_type": "stream",
          "text": [
            "loss:10.907384872436523: 100%|██████████| 323/323 [00:46<00:00,  7.01it/s]\n",
            "100%|██████████| 81/81 [00:08<00:00,  9.61it/s]\n",
            "  0%|          | 0/323 [00:00<?, ?it/s]"
          ],
          "name": "stderr"
        },
        {
          "output_type": "stream",
          "text": [
            "*=*=*=*=*=*=*=*=*=*=*=*=*=*=*=*=*=*=*=*=*=*=*=*=*=*=*=*=*=*=*=*=*=*=*=*=*=*=*=*=*=*=*=*=*=*=*=*=*=*=\n",
            "fold 4 EPOCH 74: mean position error with floor 163.91095010943008\n",
            "fold 4 EPOCH 74: mean position error without floor 38.41887711864407\n",
            "*=*=*=*=*=*=*=*=*=*=*=*=*=*=*=*=*=*=*=*=*=*=*=*=*=*=*=*=*=*=*=*=*=*=*=*=*=*=*=*=*=*=*=*=*=*=*=*=*=*=\n"
          ],
          "name": "stdout"
        },
        {
          "output_type": "stream",
          "text": [
            "loss:10.559338569641113: 100%|██████████| 323/323 [00:45<00:00,  7.04it/s]\n",
            "100%|██████████| 81/81 [00:08<00:00,  9.51it/s]\n",
            "  0%|          | 0/323 [00:00<?, ?it/s]"
          ],
          "name": "stderr"
        },
        {
          "output_type": "stream",
          "text": [
            "*=*=*=*=*=*=*=*=*=*=*=*=*=*=*=*=*=*=*=*=*=*=*=*=*=*=*=*=*=*=*=*=*=*=*=*=*=*=*=*=*=*=*=*=*=*=*=*=*=*=\n",
            "fold 4 EPOCH 75: mean position error with floor 164.20899936926855\n",
            "fold 4 EPOCH 75: mean position error without floor 38.71044794188862\n",
            "*=*=*=*=*=*=*=*=*=*=*=*=*=*=*=*=*=*=*=*=*=*=*=*=*=*=*=*=*=*=*=*=*=*=*=*=*=*=*=*=*=*=*=*=*=*=*=*=*=*=\n"
          ],
          "name": "stdout"
        },
        {
          "output_type": "stream",
          "text": [
            "loss:10.249699592590332: 100%|██████████| 323/323 [00:45<00:00,  7.06it/s]\n",
            "100%|██████████| 81/81 [00:08<00:00,  9.44it/s]\n",
            "  0%|          | 0/323 [00:00<?, ?it/s]"
          ],
          "name": "stderr"
        },
        {
          "output_type": "stream",
          "text": [
            "*=*=*=*=*=*=*=*=*=*=*=*=*=*=*=*=*=*=*=*=*=*=*=*=*=*=*=*=*=*=*=*=*=*=*=*=*=*=*=*=*=*=*=*=*=*=*=*=*=*=\n",
            "fold 4 EPOCH 76: mean position error with floor 163.82693625827324\n",
            "fold 4 EPOCH 76: mean position error without floor 38.328955811138016\n",
            "*=*=*=*=*=*=*=*=*=*=*=*=*=*=*=*=*=*=*=*=*=*=*=*=*=*=*=*=*=*=*=*=*=*=*=*=*=*=*=*=*=*=*=*=*=*=*=*=*=*=\n"
          ],
          "name": "stdout"
        },
        {
          "output_type": "stream",
          "text": [
            "loss:9.835864067077637: 100%|██████████| 323/323 [00:45<00:00,  7.05it/s]\n",
            "100%|██████████| 81/81 [00:08<00:00,  9.64it/s]\n",
            "  0%|          | 0/323 [00:00<?, ?it/s]"
          ],
          "name": "stderr"
        },
        {
          "output_type": "stream",
          "text": [
            "*=*=*=*=*=*=*=*=*=*=*=*=*=*=*=*=*=*=*=*=*=*=*=*=*=*=*=*=*=*=*=*=*=*=*=*=*=*=*=*=*=*=*=*=*=*=*=*=*=*=\n",
            "fold 4 EPOCH 77: mean position error with floor 163.97052505938467\n",
            "fold 4 EPOCH 77: mean position error without floor 38.473223365617436\n",
            "*=*=*=*=*=*=*=*=*=*=*=*=*=*=*=*=*=*=*=*=*=*=*=*=*=*=*=*=*=*=*=*=*=*=*=*=*=*=*=*=*=*=*=*=*=*=*=*=*=*=\n"
          ],
          "name": "stdout"
        },
        {
          "output_type": "stream",
          "text": [
            "loss:9.506696701049805: 100%|██████████| 323/323 [00:46<00:00,  7.00it/s]\n",
            "100%|██████████| 81/81 [00:08<00:00,  9.29it/s]\n",
            "  0%|          | 0/323 [00:00<?, ?it/s]"
          ],
          "name": "stderr"
        },
        {
          "output_type": "stream",
          "text": [
            "*=*=*=*=*=*=*=*=*=*=*=*=*=*=*=*=*=*=*=*=*=*=*=*=*=*=*=*=*=*=*=*=*=*=*=*=*=*=*=*=*=*=*=*=*=*=*=*=*=*=\n",
            "fold 4 EPOCH 78: mean position error with floor 163.53092513634456\n",
            "fold 4 EPOCH 78: mean position error without floor 38.02957324455206\n",
            "*=*=*=*=*=*=*=*=*=*=*=*=*=*=*=*=*=*=*=*=*=*=*=*=*=*=*=*=*=*=*=*=*=*=*=*=*=*=*=*=*=*=*=*=*=*=*=*=*=*=\n"
          ],
          "name": "stdout"
        },
        {
          "output_type": "stream",
          "text": [
            "loss:9.267266273498535: 100%|██████████| 323/323 [00:45<00:00,  7.05it/s]\n",
            "100%|██████████| 81/81 [00:08<00:00,  9.63it/s]\n",
            "  0%|          | 0/323 [00:00<?, ?it/s]"
          ],
          "name": "stderr"
        },
        {
          "output_type": "stream",
          "text": [
            "*=*=*=*=*=*=*=*=*=*=*=*=*=*=*=*=*=*=*=*=*=*=*=*=*=*=*=*=*=*=*=*=*=*=*=*=*=*=*=*=*=*=*=*=*=*=*=*=*=*=\n",
            "fold 4 EPOCH 79: mean position error with floor 163.96800022692355\n",
            "fold 4 EPOCH 79: mean position error without floor 38.460326876513314\n",
            "*=*=*=*=*=*=*=*=*=*=*=*=*=*=*=*=*=*=*=*=*=*=*=*=*=*=*=*=*=*=*=*=*=*=*=*=*=*=*=*=*=*=*=*=*=*=*=*=*=*=\n"
          ],
          "name": "stdout"
        },
        {
          "output_type": "stream",
          "text": [
            "loss:9.156765937805176: 100%|██████████| 323/323 [00:45<00:00,  7.03it/s]\n",
            "100%|██████████| 81/81 [00:08<00:00,  9.68it/s]\n",
            "  0%|          | 0/323 [00:00<?, ?it/s]"
          ],
          "name": "stderr"
        },
        {
          "output_type": "stream",
          "text": [
            "*=*=*=*=*=*=*=*=*=*=*=*=*=*=*=*=*=*=*=*=*=*=*=*=*=*=*=*=*=*=*=*=*=*=*=*=*=*=*=*=*=*=*=*=*=*=*=*=*=*=\n",
            "fold 4 EPOCH 80: mean position error with floor 163.77384181093117\n",
            "fold 4 EPOCH 80: mean position error without floor 38.27163438256659\n",
            "*=*=*=*=*=*=*=*=*=*=*=*=*=*=*=*=*=*=*=*=*=*=*=*=*=*=*=*=*=*=*=*=*=*=*=*=*=*=*=*=*=*=*=*=*=*=*=*=*=*=\n"
          ],
          "name": "stdout"
        },
        {
          "output_type": "stream",
          "text": [
            "loss:8.862200736999512: 100%|██████████| 323/323 [00:45<00:00,  7.08it/s]\n",
            "100%|██████████| 81/81 [00:08<00:00,  9.37it/s]\n",
            "  0%|          | 0/323 [00:00<?, ?it/s]"
          ],
          "name": "stderr"
        },
        {
          "output_type": "stream",
          "text": [
            "*=*=*=*=*=*=*=*=*=*=*=*=*=*=*=*=*=*=*=*=*=*=*=*=*=*=*=*=*=*=*=*=*=*=*=*=*=*=*=*=*=*=*=*=*=*=*=*=*=*=\n",
            "fold 4 EPOCH 81: mean position error with floor 163.49276321057366\n",
            "fold 4 EPOCH 81: mean position error without floor 37.984803268765134\n",
            "*=*=*=*=*=*=*=*=*=*=*=*=*=*=*=*=*=*=*=*=*=*=*=*=*=*=*=*=*=*=*=*=*=*=*=*=*=*=*=*=*=*=*=*=*=*=*=*=*=*=\n"
          ],
          "name": "stdout"
        },
        {
          "output_type": "stream",
          "text": [
            "loss:8.737363815307617: 100%|██████████| 323/323 [00:45<00:00,  7.03it/s]\n",
            "100%|██████████| 81/81 [00:08<00:00,  9.25it/s]\n",
            "  0%|          | 0/323 [00:00<?, ?it/s]"
          ],
          "name": "stderr"
        },
        {
          "output_type": "stream",
          "text": [
            "*=*=*=*=*=*=*=*=*=*=*=*=*=*=*=*=*=*=*=*=*=*=*=*=*=*=*=*=*=*=*=*=*=*=*=*=*=*=*=*=*=*=*=*=*=*=*=*=*=*=\n",
            "fold 4 EPOCH 82: mean position error with floor 163.5894936499144\n",
            "fold 4 EPOCH 82: mean position error without floor 38.08720641646489\n",
            "*=*=*=*=*=*=*=*=*=*=*=*=*=*=*=*=*=*=*=*=*=*=*=*=*=*=*=*=*=*=*=*=*=*=*=*=*=*=*=*=*=*=*=*=*=*=*=*=*=*=\n"
          ],
          "name": "stdout"
        },
        {
          "output_type": "stream",
          "text": [
            "loss:9.903376579284668: 100%|██████████| 323/323 [00:46<00:00,  7.01it/s]\n",
            "100%|██████████| 81/81 [00:08<00:00,  9.79it/s]\n",
            "  0%|          | 0/323 [00:00<?, ?it/s]"
          ],
          "name": "stderr"
        },
        {
          "output_type": "stream",
          "text": [
            "*=*=*=*=*=*=*=*=*=*=*=*=*=*=*=*=*=*=*=*=*=*=*=*=*=*=*=*=*=*=*=*=*=*=*=*=*=*=*=*=*=*=*=*=*=*=*=*=*=*=\n",
            "fold 4 EPOCH 83: mean position error with floor 163.9554541497517\n",
            "fold 4 EPOCH 83: mean position error without floor 38.441147094430995\n",
            "*=*=*=*=*=*=*=*=*=*=*=*=*=*=*=*=*=*=*=*=*=*=*=*=*=*=*=*=*=*=*=*=*=*=*=*=*=*=*=*=*=*=*=*=*=*=*=*=*=*=\n"
          ],
          "name": "stdout"
        },
        {
          "output_type": "stream",
          "text": [
            "loss:8.798257827758789: 100%|██████████| 323/323 [00:45<00:00,  7.09it/s]\n",
            "100%|██████████| 81/81 [00:08<00:00,  9.68it/s]\n",
            "  0%|          | 0/323 [00:00<?, ?it/s]"
          ],
          "name": "stderr"
        },
        {
          "output_type": "stream",
          "text": [
            "*=*=*=*=*=*=*=*=*=*=*=*=*=*=*=*=*=*=*=*=*=*=*=*=*=*=*=*=*=*=*=*=*=*=*=*=*=*=*=*=*=*=*=*=*=*=*=*=*=*=\n",
            "fold 4 EPOCH 84: mean position error with floor 163.2742929743039\n",
            "fold 4 EPOCH 84: mean position error without floor 37.76805690072639\n",
            "*=*=*=*=*=*=*=*=*=*=*=*=*=*=*=*=*=*=*=*=*=*=*=*=*=*=*=*=*=*=*=*=*=*=*=*=*=*=*=*=*=*=*=*=*=*=*=*=*=*=\n"
          ],
          "name": "stdout"
        },
        {
          "output_type": "stream",
          "text": [
            "loss:8.141313552856445: 100%|██████████| 323/323 [00:45<00:00,  7.06it/s]\n",
            "100%|██████████| 81/81 [00:08<00:00,  9.50it/s]\n",
            "  0%|          | 0/323 [00:00<?, ?it/s]"
          ],
          "name": "stderr"
        },
        {
          "output_type": "stream",
          "text": [
            "*=*=*=*=*=*=*=*=*=*=*=*=*=*=*=*=*=*=*=*=*=*=*=*=*=*=*=*=*=*=*=*=*=*=*=*=*=*=*=*=*=*=*=*=*=*=*=*=*=*=\n",
            "fold 4 EPOCH 85: mean position error with floor 163.36341301748308\n",
            "fold 4 EPOCH 85: mean position error without floor 37.855680992736076\n",
            "*=*=*=*=*=*=*=*=*=*=*=*=*=*=*=*=*=*=*=*=*=*=*=*=*=*=*=*=*=*=*=*=*=*=*=*=*=*=*=*=*=*=*=*=*=*=*=*=*=*=\n"
          ],
          "name": "stdout"
        },
        {
          "output_type": "stream",
          "text": [
            "loss:7.952085018157959: 100%|██████████| 323/323 [00:46<00:00,  7.00it/s]\n",
            "100%|██████████| 81/81 [00:08<00:00,  9.67it/s]\n",
            "  0%|          | 0/323 [00:00<?, ?it/s]"
          ],
          "name": "stderr"
        },
        {
          "output_type": "stream",
          "text": [
            "*=*=*=*=*=*=*=*=*=*=*=*=*=*=*=*=*=*=*=*=*=*=*=*=*=*=*=*=*=*=*=*=*=*=*=*=*=*=*=*=*=*=*=*=*=*=*=*=*=*=\n",
            "fold 4 EPOCH 86: mean position error with floor 163.4332439959563\n",
            "fold 4 EPOCH 86: mean position error without floor 37.929373486682806\n",
            "*=*=*=*=*=*=*=*=*=*=*=*=*=*=*=*=*=*=*=*=*=*=*=*=*=*=*=*=*=*=*=*=*=*=*=*=*=*=*=*=*=*=*=*=*=*=*=*=*=*=\n"
          ],
          "name": "stdout"
        },
        {
          "output_type": "stream",
          "text": [
            "loss:7.708709239959717: 100%|██████████| 323/323 [00:45<00:00,  7.13it/s]\n",
            "100%|██████████| 81/81 [00:08<00:00,  9.45it/s]\n",
            "  0%|          | 0/323 [00:00<?, ?it/s]"
          ],
          "name": "stderr"
        },
        {
          "output_type": "stream",
          "text": [
            "*=*=*=*=*=*=*=*=*=*=*=*=*=*=*=*=*=*=*=*=*=*=*=*=*=*=*=*=*=*=*=*=*=*=*=*=*=*=*=*=*=*=*=*=*=*=*=*=*=*=\n",
            "fold 4 EPOCH 87: mean position error with floor 163.20664127619986\n",
            "fold 4 EPOCH 87: mean position error without floor 37.69739104116223\n",
            "*=*=*=*=*=*=*=*=*=*=*=*=*=*=*=*=*=*=*=*=*=*=*=*=*=*=*=*=*=*=*=*=*=*=*=*=*=*=*=*=*=*=*=*=*=*=*=*=*=*=\n"
          ],
          "name": "stdout"
        },
        {
          "output_type": "stream",
          "text": [
            "loss:7.490619659423828: 100%|██████████| 323/323 [00:47<00:00,  6.76it/s]\n",
            "100%|██████████| 81/81 [00:09<00:00,  8.82it/s]\n",
            "  0%|          | 0/323 [00:00<?, ?it/s]"
          ],
          "name": "stderr"
        },
        {
          "output_type": "stream",
          "text": [
            "*=*=*=*=*=*=*=*=*=*=*=*=*=*=*=*=*=*=*=*=*=*=*=*=*=*=*=*=*=*=*=*=*=*=*=*=*=*=*=*=*=*=*=*=*=*=*=*=*=*=\n",
            "fold 4 EPOCH 88: mean position error with floor 163.3838871291536\n",
            "fold 4 EPOCH 88: mean position error without floor 37.874909200968524\n",
            "*=*=*=*=*=*=*=*=*=*=*=*=*=*=*=*=*=*=*=*=*=*=*=*=*=*=*=*=*=*=*=*=*=*=*=*=*=*=*=*=*=*=*=*=*=*=*=*=*=*=\n"
          ],
          "name": "stdout"
        },
        {
          "output_type": "stream",
          "text": [
            "loss:7.488317012786865: 100%|██████████| 323/323 [00:47<00:00,  6.87it/s]\n",
            "100%|██████████| 81/81 [00:08<00:00,  9.19it/s]\n",
            "  0%|          | 0/323 [00:00<?, ?it/s]"
          ],
          "name": "stderr"
        },
        {
          "output_type": "stream",
          "text": [
            "*=*=*=*=*=*=*=*=*=*=*=*=*=*=*=*=*=*=*=*=*=*=*=*=*=*=*=*=*=*=*=*=*=*=*=*=*=*=*=*=*=*=*=*=*=*=*=*=*=*=\n",
            "fold 4 EPOCH 89: mean position error with floor 163.0315312398382\n",
            "fold 4 EPOCH 89: mean position error without floor 37.51592615012107\n",
            "*=*=*=*=*=*=*=*=*=*=*=*=*=*=*=*=*=*=*=*=*=*=*=*=*=*=*=*=*=*=*=*=*=*=*=*=*=*=*=*=*=*=*=*=*=*=*=*=*=*=\n"
          ],
          "name": "stdout"
        },
        {
          "output_type": "stream",
          "text": [
            "loss:7.431188106536865: 100%|██████████| 323/323 [00:46<00:00,  6.98it/s]\n",
            "100%|██████████| 81/81 [00:08<00:00,  9.20it/s]\n",
            "  0%|          | 0/323 [00:00<?, ?it/s]"
          ],
          "name": "stderr"
        },
        {
          "output_type": "stream",
          "text": [
            "*=*=*=*=*=*=*=*=*=*=*=*=*=*=*=*=*=*=*=*=*=*=*=*=*=*=*=*=*=*=*=*=*=*=*=*=*=*=*=*=*=*=*=*=*=*=*=*=*=*=\n",
            "fold 4 EPOCH 90: mean position error with floor 162.97685464564017\n",
            "fold 4 EPOCH 90: mean position error without floor 37.466649515738496\n",
            "*=*=*=*=*=*=*=*=*=*=*=*=*=*=*=*=*=*=*=*=*=*=*=*=*=*=*=*=*=*=*=*=*=*=*=*=*=*=*=*=*=*=*=*=*=*=*=*=*=*=\n"
          ],
          "name": "stdout"
        },
        {
          "output_type": "stream",
          "text": [
            "loss:7.252087593078613: 100%|██████████| 323/323 [00:46<00:00,  6.97it/s]\n",
            "100%|██████████| 81/81 [00:08<00:00,  9.43it/s]\n",
            "  0%|          | 0/323 [00:00<?, ?it/s]"
          ],
          "name": "stderr"
        },
        {
          "output_type": "stream",
          "text": [
            "*=*=*=*=*=*=*=*=*=*=*=*=*=*=*=*=*=*=*=*=*=*=*=*=*=*=*=*=*=*=*=*=*=*=*=*=*=*=*=*=*=*=*=*=*=*=*=*=*=*=\n",
            "fold 4 EPOCH 91: mean position error with floor 163.1769467245838\n",
            "fold 4 EPOCH 91: mean position error without floor 37.66771186440678\n",
            "*=*=*=*=*=*=*=*=*=*=*=*=*=*=*=*=*=*=*=*=*=*=*=*=*=*=*=*=*=*=*=*=*=*=*=*=*=*=*=*=*=*=*=*=*=*=*=*=*=*=\n"
          ],
          "name": "stdout"
        },
        {
          "output_type": "stream",
          "text": [
            "loss:7.063849925994873: 100%|██████████| 323/323 [00:47<00:00,  6.86it/s]\n",
            "100%|██████████| 81/81 [00:08<00:00,  9.38it/s]\n",
            "  0%|          | 0/323 [00:00<?, ?it/s]"
          ],
          "name": "stderr"
        },
        {
          "output_type": "stream",
          "text": [
            "*=*=*=*=*=*=*=*=*=*=*=*=*=*=*=*=*=*=*=*=*=*=*=*=*=*=*=*=*=*=*=*=*=*=*=*=*=*=*=*=*=*=*=*=*=*=*=*=*=*=\n",
            "fold 4 EPOCH 92: mean position error with floor 163.14520408036165\n",
            "fold 4 EPOCH 92: mean position error without floor 37.63231840193705\n",
            "*=*=*=*=*=*=*=*=*=*=*=*=*=*=*=*=*=*=*=*=*=*=*=*=*=*=*=*=*=*=*=*=*=*=*=*=*=*=*=*=*=*=*=*=*=*=*=*=*=*=\n"
          ],
          "name": "stdout"
        },
        {
          "output_type": "stream",
          "text": [
            "loss:7.100903511047363: 100%|██████████| 323/323 [00:47<00:00,  6.76it/s]\n",
            "100%|██████████| 81/81 [00:09<00:00,  8.97it/s]\n",
            "  0%|          | 0/323 [00:00<?, ?it/s]"
          ],
          "name": "stderr"
        },
        {
          "output_type": "stream",
          "text": [
            "*=*=*=*=*=*=*=*=*=*=*=*=*=*=*=*=*=*=*=*=*=*=*=*=*=*=*=*=*=*=*=*=*=*=*=*=*=*=*=*=*=*=*=*=*=*=*=*=*=*=\n",
            "fold 4 EPOCH 93: mean position error with floor 163.1915200981967\n",
            "fold 4 EPOCH 93: mean position error without floor 37.67992433414044\n",
            "*=*=*=*=*=*=*=*=*=*=*=*=*=*=*=*=*=*=*=*=*=*=*=*=*=*=*=*=*=*=*=*=*=*=*=*=*=*=*=*=*=*=*=*=*=*=*=*=*=*=\n"
          ],
          "name": "stdout"
        },
        {
          "output_type": "stream",
          "text": [
            "loss:6.890613079071045: 100%|██████████| 323/323 [00:48<00:00,  6.68it/s]\n",
            "100%|██████████| 81/81 [00:09<00:00,  9.00it/s]\n",
            "  0%|          | 0/323 [00:00<?, ?it/s]"
          ],
          "name": "stderr"
        },
        {
          "output_type": "stream",
          "text": [
            "*=*=*=*=*=*=*=*=*=*=*=*=*=*=*=*=*=*=*=*=*=*=*=*=*=*=*=*=*=*=*=*=*=*=*=*=*=*=*=*=*=*=*=*=*=*=*=*=*=*=\n",
            "fold 4 EPOCH 94: mean position error with floor 163.36111767203823\n",
            "fold 4 EPOCH 94: mean position error without floor 37.84336561743341\n",
            "*=*=*=*=*=*=*=*=*=*=*=*=*=*=*=*=*=*=*=*=*=*=*=*=*=*=*=*=*=*=*=*=*=*=*=*=*=*=*=*=*=*=*=*=*=*=*=*=*=*=\n"
          ],
          "name": "stdout"
        },
        {
          "output_type": "stream",
          "text": [
            "loss:6.771485805511475: 100%|██████████| 323/323 [00:46<00:00,  6.88it/s]\n",
            "100%|██████████| 81/81 [00:08<00:00,  9.25it/s]\n",
            "  0%|          | 0/323 [00:00<?, ?it/s]"
          ],
          "name": "stderr"
        },
        {
          "output_type": "stream",
          "text": [
            "*=*=*=*=*=*=*=*=*=*=*=*=*=*=*=*=*=*=*=*=*=*=*=*=*=*=*=*=*=*=*=*=*=*=*=*=*=*=*=*=*=*=*=*=*=*=*=*=*=*=\n",
            "fold 4 EPOCH 95: mean position error with floor 162.94091711790506\n",
            "fold 4 EPOCH 95: mean position error without floor 37.42470641646489\n",
            "*=*=*=*=*=*=*=*=*=*=*=*=*=*=*=*=*=*=*=*=*=*=*=*=*=*=*=*=*=*=*=*=*=*=*=*=*=*=*=*=*=*=*=*=*=*=*=*=*=*=\n"
          ],
          "name": "stdout"
        },
        {
          "output_type": "stream",
          "text": [
            "loss:6.605154514312744: 100%|██████████| 323/323 [00:47<00:00,  6.76it/s]\n",
            "100%|██████████| 81/81 [00:08<00:00,  9.35it/s]\n",
            "  0%|          | 0/323 [00:00<?, ?it/s]"
          ],
          "name": "stderr"
        },
        {
          "output_type": "stream",
          "text": [
            "*=*=*=*=*=*=*=*=*=*=*=*=*=*=*=*=*=*=*=*=*=*=*=*=*=*=*=*=*=*=*=*=*=*=*=*=*=*=*=*=*=*=*=*=*=*=*=*=*=*=\n",
            "fold 4 EPOCH 96: mean position error with floor 163.04774664616144\n",
            "fold 4 EPOCH 96: mean position error without floor 37.53713377723971\n",
            "*=*=*=*=*=*=*=*=*=*=*=*=*=*=*=*=*=*=*=*=*=*=*=*=*=*=*=*=*=*=*=*=*=*=*=*=*=*=*=*=*=*=*=*=*=*=*=*=*=*=\n"
          ],
          "name": "stdout"
        },
        {
          "output_type": "stream",
          "text": [
            "loss:6.551548480987549: 100%|██████████| 323/323 [00:46<00:00,  6.96it/s]\n",
            "100%|██████████| 81/81 [00:08<00:00,  9.38it/s]\n",
            "  0%|          | 0/323 [00:00<?, ?it/s]"
          ],
          "name": "stderr"
        },
        {
          "output_type": "stream",
          "text": [
            "*=*=*=*=*=*=*=*=*=*=*=*=*=*=*=*=*=*=*=*=*=*=*=*=*=*=*=*=*=*=*=*=*=*=*=*=*=*=*=*=*=*=*=*=*=*=*=*=*=*=\n",
            "fold 4 EPOCH 97: mean position error with floor 162.8985207823111\n",
            "fold 4 EPOCH 97: mean position error without floor 37.38483958837772\n",
            "*=*=*=*=*=*=*=*=*=*=*=*=*=*=*=*=*=*=*=*=*=*=*=*=*=*=*=*=*=*=*=*=*=*=*=*=*=*=*=*=*=*=*=*=*=*=*=*=*=*=\n"
          ],
          "name": "stdout"
        },
        {
          "output_type": "stream",
          "text": [
            "loss:6.444887638092041: 100%|██████████| 323/323 [00:46<00:00,  6.96it/s]\n",
            "100%|██████████| 81/81 [00:08<00:00,  9.26it/s]\n",
            "  0%|          | 0/323 [00:00<?, ?it/s]"
          ],
          "name": "stderr"
        },
        {
          "output_type": "stream",
          "text": [
            "*=*=*=*=*=*=*=*=*=*=*=*=*=*=*=*=*=*=*=*=*=*=*=*=*=*=*=*=*=*=*=*=*=*=*=*=*=*=*=*=*=*=*=*=*=*=*=*=*=*=\n",
            "fold 4 EPOCH 98: mean position error with floor 163.30292941419592\n",
            "fold 4 EPOCH 98: mean position error without floor 37.78749394673123\n",
            "*=*=*=*=*=*=*=*=*=*=*=*=*=*=*=*=*=*=*=*=*=*=*=*=*=*=*=*=*=*=*=*=*=*=*=*=*=*=*=*=*=*=*=*=*=*=*=*=*=*=\n"
          ],
          "name": "stdout"
        },
        {
          "output_type": "stream",
          "text": [
            "loss:6.38370418548584: 100%|██████████| 323/323 [00:46<00:00,  6.94it/s]\n",
            "100%|██████████| 81/81 [00:08<00:00,  9.46it/s]\n",
            "  0%|          | 0/16 [00:00<?, ?it/s]"
          ],
          "name": "stderr"
        },
        {
          "output_type": "stream",
          "text": [
            "*=*=*=*=*=*=*=*=*=*=*=*=*=*=*=*=*=*=*=*=*=*=*=*=*=*=*=*=*=*=*=*=*=*=*=*=*=*=*=*=*=*=*=*=*=*=*=*=*=*=\n",
            "fold 4 EPOCH 99: mean position error with floor 163.15097370981\n",
            "fold 4 EPOCH 99: mean position error without floor 37.64119249394673\n",
            "*=*=*=*=*=*=*=*=*=*=*=*=*=*=*=*=*=*=*=*=*=*=*=*=*=*=*=*=*=*=*=*=*=*=*=*=*=*=*=*=*=*=*=*=*=*=*=*=*=*=\n"
          ],
          "name": "stdout"
        },
        {
          "output_type": "stream",
          "text": [
            "100%|██████████| 16/16 [00:01<00:00,  8.57it/s]\n"
          ],
          "name": "stderr"
        }
      ]
    },
    {
      "cell_type": "code",
      "metadata": {
        "id": "Km_Jylo81E4X",
        "colab": {
          "base_uri": "https://localhost:8080/"
        },
        "outputId": "4d39a231-2b81-4184-c3e7-90d862221604"
      },
      "source": [
        "test_floor.shape, test_x.shape, test_data.shape, xy.shape\n",
        "#preds_f_arr.shape"
      ],
      "execution_count": 40,
      "outputs": [
        {
          "output_type": "execute_result",
          "data": {
            "text/plain": [
              "((10135,), (10135,), (10133, 202), torch.Size([84, 5, 2]))"
            ]
          },
          "metadata": {
            "tags": []
          },
          "execution_count": 40
        }
      ]
    },
    {
      "cell_type": "code",
      "metadata": {
        "colab": {
          "base_uri": "https://localhost:8080/"
        },
        "id": "hHAqjeaS5cGl",
        "outputId": "05f12feb-af5d-49d4-9fe5-59fd98b326fa"
      },
      "source": [
        "xy[:,:,0].reshape(-1,1).shape"
      ],
      "execution_count": 35,
      "outputs": [
        {
          "output_type": "execute_result",
          "data": {
            "text/plain": [
              "torch.Size([420, 1])"
            ]
          },
          "metadata": {
            "tags": []
          },
          "execution_count": 35
        }
      ]
    },
    {
      "cell_type": "code",
      "metadata": {
        "id": "FzEs4cXZklyu",
        "colab": {
          "base_uri": "https://localhost:8080/"
        },
        "outputId": "58f85d71-b88e-4020-ef72-37fab2a75641"
      },
      "source": [
        "subm = pd.read_csv('sample_submission.csv', index_col=0)\n",
        "\n",
        "test_x = preds_x / (fold + 1) \n",
        "test_y = preds_y /(fold + 1)\n",
        "print(\"*+\"*40)\n",
        "# as it breaks in the middle of cross-validation, the score is not accurate at all.\n",
        "score = comp_metric(oof_x, oof_y, oof_f, data.iloc[:, -5].to_numpy(), data.iloc[:, -4].to_numpy(), data.iloc[:, -3].to_numpy())\n",
        "oof.append(score)\n",
        "print(f\"mean position error {score}\")\n",
        "print(\"*+\"*40)\n",
        "preds_f_mode = stats.mode(preds_f_arr, axis=1)\n",
        "preds_f = preds_f_mode[0].astype(int).reshape(-1)\n",
        "test_preds = pd.DataFrame(np.stack((preds_f, test_x, test_y))).T\n",
        "test_preds.columns = subm.columns\n",
        "test_preds.index = test_data[\"site_path_timestamp\"]\n",
        "test_preds[\"floor\"] = test_preds[\"floor\"].astype(int)\n",
        "predictions.append(test_preds)"
      ],
      "execution_count": 44,
      "outputs": [
        {
          "output_type": "stream",
          "text": [
            "*+*+*+*+*+*+*+*+*+*+*+*+*+*+*+*+*+*+*+*+*+*+*+*+*+*+*+*+*+*+*+*+*+*+*+*+*+*+*+*+\n",
            "mean position error 192.2107121781046\n",
            "*+*+*+*+*+*+*+*+*+*+*+*+*+*+*+*+*+*+*+*+*+*+*+*+*+*+*+*+*+*+*+*+*+*+*+*+*+*+*+*+\n"
          ],
          "name": "stdout"
        }
      ]
    },
    {
      "cell_type": "code",
      "metadata": {
        "id": "_fPSMy46mId4"
      },
      "source": [
        "all_preds = pd.concat(predictions)\n",
        "all_preds = all_preds.reindex(subm.index)"
      ],
      "execution_count": 45,
      "outputs": []
    },
    {
      "cell_type": "code",
      "metadata": {
        "id": "zEzo_Jt6mPLf"
      },
      "source": [
        "simple_accurate_99 = pd.read_csv('submission_99.csv')\n",
        "all_preds['floor'] = simple_accurate_99['floor'].values"
      ],
      "execution_count": 46,
      "outputs": []
    },
    {
      "cell_type": "code",
      "metadata": {
        "id": "hkcrlhzxmuDS"
      },
      "source": [
        "all_preds.to_csv('submission.csv')"
      ],
      "execution_count": 47,
      "outputs": []
    },
    {
      "cell_type": "markdown",
      "metadata": {
        "id": "oZORMkFh9HdY"
      },
      "source": [
        "## Post Processing"
      ]
    },
    {
      "cell_type": "code",
      "metadata": {
        "id": "rKWoK1Qj9msY",
        "colab": {
          "base_uri": "https://localhost:8080/"
        },
        "outputId": "bbe61686-83b7-4251-dcdc-66c083560db2"
      },
      "source": [
        "!git clone --depth 1 https://github.com/location-competition/indoor-location-competition-20 indoor_location_competition_20 > /dev/null\n",
        "!rm -rf indoor_location_competition_20/data > /dev/null"
      ],
      "execution_count": 48,
      "outputs": [
        {
          "output_type": "stream",
          "text": [
            "Cloning into 'indoor_location_competition_20'...\n",
            "remote: Enumerating objects: 1169, done.\u001b[K\n",
            "remote: Counting objects: 100% (1169/1169), done.\u001b[K\n",
            "remote: Compressing objects: 100% (1131/1131), done.\u001b[K\n",
            "remote: Total 1169 (delta 38), reused 1167 (delta 38), pack-reused 0\u001b[K\n",
            "Receiving objects: 100% (1169/1169), 411.37 MiB | 21.12 MiB/s, done.\n",
            "Resolving deltas: 100% (38/38), done.\n",
            "Checking out files: 100% (1145/1145), done.\n"
          ],
          "name": "stdout"
        }
      ]
    },
    {
      "cell_type": "code",
      "metadata": {
        "id": "fZc1fczv-8Cq",
        "colab": {
          "base_uri": "https://localhost:8080/"
        },
        "outputId": "206c1b2b-ddce-49da-cf76-65740aa8f67c"
      },
      "source": [
        "!pip uninstall -y kaggle\n",
        "!pip install --upgrade pip\n",
        "!pip install kaggle==1.5.12\n",
        "!mkdir indoor_dataset\n",
        "!kaggle competitions download -c indoor-location-navigation -p indoor_dataset "
      ],
      "execution_count": 49,
      "outputs": [
        {
          "output_type": "stream",
          "text": [
            "Uninstalling kaggle-1.5.12:\n",
            "  Successfully uninstalled kaggle-1.5.12\n",
            "Collecting pip\n",
            "\u001b[?25l  Downloading https://files.pythonhosted.org/packages/fe/ef/60d7ba03b5c442309ef42e7d69959f73aacccd0d86008362a681c4698e83/pip-21.0.1-py3-none-any.whl (1.5MB)\n",
            "\u001b[K     |████████████████████████████████| 1.5MB 9.8MB/s \n",
            "\u001b[?25hInstalling collected packages: pip\n",
            "  Found existing installation: pip 19.3.1\n",
            "    Uninstalling pip-19.3.1:\n",
            "      Successfully uninstalled pip-19.3.1\n",
            "Successfully installed pip-21.0.1\n",
            "Collecting kaggle==1.5.12\n",
            "  Downloading kaggle-1.5.12.tar.gz (58 kB)\n",
            "\u001b[K     |████████████████████████████████| 58 kB 4.7 MB/s \n",
            "\u001b[?25hRequirement already satisfied: six>=1.10 in /usr/local/lib/python3.7/dist-packages (from kaggle==1.5.12) (1.15.0)\n",
            "Requirement already satisfied: certifi in /usr/local/lib/python3.7/dist-packages (from kaggle==1.5.12) (2020.12.5)\n",
            "Requirement already satisfied: python-dateutil in /usr/local/lib/python3.7/dist-packages (from kaggle==1.5.12) (2.8.1)\n",
            "Requirement already satisfied: requests in /usr/local/lib/python3.7/dist-packages (from kaggle==1.5.12) (2.23.0)\n",
            "Requirement already satisfied: tqdm in /usr/local/lib/python3.7/dist-packages (from kaggle==1.5.12) (4.41.1)\n",
            "Requirement already satisfied: python-slugify in /usr/local/lib/python3.7/dist-packages (from kaggle==1.5.12) (4.0.1)\n",
            "Requirement already satisfied: urllib3 in /usr/local/lib/python3.7/dist-packages (from kaggle==1.5.12) (1.24.3)\n",
            "Requirement already satisfied: text-unidecode>=1.3 in /usr/local/lib/python3.7/dist-packages (from python-slugify->kaggle==1.5.12) (1.3)\n",
            "Requirement already satisfied: chardet<4,>=3.0.2 in /usr/local/lib/python3.7/dist-packages (from requests->kaggle==1.5.12) (3.0.4)\n",
            "Requirement already satisfied: idna<3,>=2.5 in /usr/local/lib/python3.7/dist-packages (from requests->kaggle==1.5.12) (2.10)\n",
            "Building wheels for collected packages: kaggle\n",
            "  Building wheel for kaggle (setup.py) ... \u001b[?25l\u001b[?25hdone\n",
            "  Created wheel for kaggle: filename=kaggle-1.5.12-py3-none-any.whl size=73053 sha256=dde1c99b52813ca99fd1c83d5d6fd666fcb426742612dc431243c4b25f34067e\n",
            "  Stored in directory: /root/.cache/pip/wheels/62/d6/58/5853130f941e75b2177d281eb7e44b4a98ed46dd155f556dc5\n",
            "Successfully built kaggle\n",
            "Installing collected packages: kaggle\n",
            "Successfully installed kaggle-1.5.12\n",
            "Downloading indoor-location-navigation.zip to indoor_dataset\n",
            "100% 12.7G/12.7G [03:15<00:00, 76.4MB/s]\n",
            "100% 12.7G/12.7G [03:15<00:00, 69.6MB/s]\n"
          ],
          "name": "stdout"
        }
      ]
    },
    {
      "cell_type": "code",
      "metadata": {
        "id": "19gbQ9CjY935",
        "colab": {
          "base_uri": "https://localhost:8080/"
        },
        "outputId": "8225f1d6-fe42-4957-989f-dce3f2af2d3d"
      },
      "source": [
        "!unzip -o -d indoor_dataset indoor_dataset/indoor-location-navigation.zip `zipinfo -1 indoor_dataset/indoor-location-navigation.zip | grep 'test'`"
      ],
      "execution_count": 50,
      "outputs": [
        {
          "output_type": "stream",
          "text": [
            "Archive:  indoor_dataset/indoor-location-navigation.zip\n",
            "  inflating: indoor_dataset/test/00ff0c9a71cc37a2ebdd0f05.txt  \n",
            "  inflating: indoor_dataset/test/01c41f1aeba5c48c2c4dd568.txt  \n",
            "  inflating: indoor_dataset/test/030b3d94de8acae7c936563d.txt  \n",
            "  inflating: indoor_dataset/test/0389421238a7e2839701df0f.txt  \n",
            "  inflating: indoor_dataset/test/04029880763600640a0cf42c.txt  \n",
            "  inflating: indoor_dataset/test/0412d582bb8a2c89400a1ffb.txt  \n",
            "  inflating: indoor_dataset/test/046cfa46be49fc10834815c6.txt  \n",
            "  inflating: indoor_dataset/test/049bb468e7e166e9d6370002.txt  \n",
            "  inflating: indoor_dataset/test/04b259d70f2b503f2af14c35.txt  \n",
            "  inflating: indoor_dataset/test/053526f9012ca715313120cd.txt  \n",
            "  inflating: indoor_dataset/test/055255f16b549ed22893c0c3.txt  \n",
            "  inflating: indoor_dataset/test/05a6d4cdf3d1eb9b5671f71b.txt  \n",
            "  inflating: indoor_dataset/test/05d052dde78384b0c543d89c.txt  \n",
            "  inflating: indoor_dataset/test/06832e9b9ca24ff7fe906aee.txt  \n",
            "  inflating: indoor_dataset/test/06882da3694b7160c0f105f5.txt  \n",
            "  inflating: indoor_dataset/test/068e4f6926e78ff6d338d2cc.txt  \n",
            "  inflating: indoor_dataset/test/07db4eec1fc8df5040d86602.txt  \n",
            "  inflating: indoor_dataset/test/07fa2d05e9b5a9841b7bfae3.txt  \n",
            "  inflating: indoor_dataset/test/085e9207300765e045a942bf.txt  \n",
            "  inflating: indoor_dataset/test/0884650b5640ded8c63750fc.txt  \n",
            "  inflating: indoor_dataset/test/08a29ac71fe460a44ca73b38.txt  \n",
            "  inflating: indoor_dataset/test/0969b6db91bb1697f99a8a21.txt  \n",
            "  inflating: indoor_dataset/test/0a5c442ffa2664e89e18262d.txt  \n",
            "  inflating: indoor_dataset/test/0ab1b38a35a76b0e5bf2ca8d.txt  \n",
            "  inflating: indoor_dataset/test/0b6e7a34b2a1b99280b5d3ca.txt  \n",
            "  inflating: indoor_dataset/test/0c06cc9f21d172618d74c6c8.txt  \n",
            "  inflating: indoor_dataset/test/0ce9bd5bf8f2351bfd217774.txt  \n",
            "  inflating: indoor_dataset/test/0d08327383a1f146a26a2a2b.txt  \n",
            "  inflating: indoor_dataset/test/0d4d75060f346ce93d416d01.txt  \n",
            "  inflating: indoor_dataset/test/0dbf956c380feddc590348e0.txt  \n",
            "  inflating: indoor_dataset/test/0df4917338687fdbc93448f5.txt  \n",
            "  inflating: indoor_dataset/test/0eeb9f6b6d4c8f39fb34b577.txt  \n",
            "  inflating: indoor_dataset/test/0fb75bf676e1cddace3590d5.txt  \n",
            "  inflating: indoor_dataset/test/0fee6e9fd162d281b15c11df.txt  \n",
            "  inflating: indoor_dataset/test/108d983b84def2bd48bdca36.txt  \n",
            "  inflating: indoor_dataset/test/10f9407023d1e00bbd7274f2.txt  \n",
            "  inflating: indoor_dataset/test/110637c78f384710d1b3eba6.txt  \n",
            "  inflating: indoor_dataset/test/136d1cb5b01538b9979aedbe.txt  \n",
            "  inflating: indoor_dataset/test/13d970ab11b767d7ae3e4ee6.txt  \n",
            "  inflating: indoor_dataset/test/13ed7262c2b6088cd47de5ed.txt  \n",
            "  inflating: indoor_dataset/test/146035943a1482883ed98570.txt  \n",
            "  inflating: indoor_dataset/test/14669681607aa88e65b0d927.txt  \n",
            "  inflating: indoor_dataset/test/14f45baa63b4d3a700126af6.txt  \n",
            "  inflating: indoor_dataset/test/15a04a78926385821aa96a62.txt  \n",
            "  inflating: indoor_dataset/test/15d9cd90a0c1d8c0b2e060f8.txt  \n",
            "  inflating: indoor_dataset/test/167fd824f8c93490e4714032.txt  \n",
            "  inflating: indoor_dataset/test/16e7537d3cb1b1b206cf08a8.txt  \n",
            "  inflating: indoor_dataset/test/1747b3e80ba80910158c0cef.txt  \n",
            "  inflating: indoor_dataset/test/17540fdca1dd0b3d5620336d.txt  \n",
            "  inflating: indoor_dataset/test/178d893e0fd1457ad7fdadd6.txt  \n",
            "  inflating: indoor_dataset/test/1892ff54553115169341d72e.txt  \n",
            "  inflating: indoor_dataset/test/18ab7e85351d03d1cd691a73.txt  \n",
            "  inflating: indoor_dataset/test/19bf3d9c5236d0f7429baa6a.txt  \n",
            "  inflating: indoor_dataset/test/19e4a759bff01332b4216bda.txt  \n",
            "  inflating: indoor_dataset/test/19ea02c9635f48c2bc7a161f.txt  \n",
            "  inflating: indoor_dataset/test/1a2cc4c5793fa089dd58ddd1.txt  \n",
            "  inflating: indoor_dataset/test/1ab6361c3c5a94fc99e7ae68.txt  \n",
            "  inflating: indoor_dataset/test/1b9fb13726d1030612228aeb.txt  \n",
            "  inflating: indoor_dataset/test/1c93cbfe9be665edd768737d.txt  \n",
            "  inflating: indoor_dataset/test/1c99e4c566466c0d82fc2d6c.txt  \n",
            "  inflating: indoor_dataset/test/1d811352eaf5a17cf918d3dd.txt  \n",
            "  inflating: indoor_dataset/test/1e85728385bc83e6bb650798.txt  \n",
            "  inflating: indoor_dataset/test/1ef2771dfea25d508142ba06.txt  \n",
            "  inflating: indoor_dataset/test/20073e2d139310a2bae877c4.txt  \n",
            "  inflating: indoor_dataset/test/2116a2a90f494f7773b550ef.txt  \n",
            "  inflating: indoor_dataset/test/21459c30ba2ac052fed92f25.txt  \n",
            "  inflating: indoor_dataset/test/2148b02cde5342187216fa75.txt  \n",
            "  inflating: indoor_dataset/test/219d400e61f8e06a066572f8.txt  \n",
            "  inflating: indoor_dataset/test/227b32473aa440c6497e2ae9.txt  \n",
            "  inflating: indoor_dataset/test/236bb7800311ca69deeb0a16.txt  \n",
            "  inflating: indoor_dataset/test/2379a535c2221d54e8caf6ff.txt  \n",
            "  inflating: indoor_dataset/test/238a279ef92528dd92aeb2e3.txt  \n",
            "  inflating: indoor_dataset/test/23b4c8eb4b41d75946285461.txt  \n",
            "  inflating: indoor_dataset/test/240060212e4ee62beb701c5c.txt  \n",
            "  inflating: indoor_dataset/test/2402c2005e29469cbfbf410b.txt  \n",
            "  inflating: indoor_dataset/test/242c6ee1e520eff5ef06a45d.txt  \n",
            "  inflating: indoor_dataset/test/244c21fb418ea7e21425abde.txt  \n",
            "  inflating: indoor_dataset/test/24d83dcc0488f735862e4d3d.txt  \n",
            "  inflating: indoor_dataset/test/24fca45b67e543a4ad737709.txt  \n",
            "  inflating: indoor_dataset/test/25a8bb2034f511717c46e536.txt  \n",
            "  inflating: indoor_dataset/test/2658f7f85981f264dd9657f0.txt  \n",
            "  inflating: indoor_dataset/test/2670249c99fdb6bba41a8511.txt  \n",
            "  inflating: indoor_dataset/test/26c2e2bc3d0f36109337b502.txt  \n",
            "  inflating: indoor_dataset/test/270a66500675e14fb3154c63.txt  \n",
            "  inflating: indoor_dataset/test/291ca2c9bd7d29242b483157.txt  \n",
            "  inflating: indoor_dataset/test/29579192e65ea7826a727c42.txt  \n",
            "  inflating: indoor_dataset/test/29781f56d67d950acd783d29.txt  \n",
            "  inflating: indoor_dataset/test/2a39636327b1f42f80bb08cd.txt  \n",
            "  inflating: indoor_dataset/test/2a83a489565dfa1d77af9f51.txt  \n",
            "  inflating: indoor_dataset/test/2ad9c59e934facf0b0245af3.txt  \n",
            "  inflating: indoor_dataset/test/2ae8bd41bbf2eb78d76d737d.txt  \n",
            "  inflating: indoor_dataset/test/2b4bacedc942ffcb523ff20f.txt  \n",
            "  inflating: indoor_dataset/test/2b9462352bb399a34091d861.txt  \n",
            "  inflating: indoor_dataset/test/2bb6f7e32d3191326d674809.txt  \n",
            "  inflating: indoor_dataset/test/2bc46d57dc3f3ba0480e9f08.txt  \n",
            "  inflating: indoor_dataset/test/2bdf91b83e265e197ac7b117.txt  \n",
            "  inflating: indoor_dataset/test/2bf1ea3f5895fbdadd5b4a74.txt  \n",
            "  inflating: indoor_dataset/test/2c5da83393691efba7f8da42.txt  \n",
            "  inflating: indoor_dataset/test/2d17cc2d5c1660c51e00d505.txt  \n",
            "  inflating: indoor_dataset/test/2db317d8880522bb060d0819.txt  \n",
            "  inflating: indoor_dataset/test/2de4f5fea373eb7b69a84824.txt  \n",
            "  inflating: indoor_dataset/test/2e343fa6a9237d61d0f99ccc.txt  \n",
            "  inflating: indoor_dataset/test/2edd1ed9897871186b126a68.txt  \n",
            "  inflating: indoor_dataset/test/2f33560940ba465c8226c951.txt  \n",
            "  inflating: indoor_dataset/test/2fe9bdaed4fb3e1368e07ccc.txt  \n",
            "  inflating: indoor_dataset/test/2fed60cb00f71d86ef78b5b4.txt  \n",
            "  inflating: indoor_dataset/test/2ff4941b091ecb02e41997cd.txt  \n",
            "  inflating: indoor_dataset/test/309c38eba30007e666cf7fd0.txt  \n",
            "  inflating: indoor_dataset/test/30ed8393bd1d301cd380c06b.txt  \n",
            "  inflating: indoor_dataset/test/310990c10f799a9b21cd4ff3.txt  \n",
            "  inflating: indoor_dataset/test/32bcee0203f7d0cac3ed504b.txt  \n",
            "  inflating: indoor_dataset/test/32e88857b1938abaebce9a76.txt  \n",
            "  inflating: indoor_dataset/test/330b81185e5f5c5513ae7d2f.txt  \n",
            "  inflating: indoor_dataset/test/340f3ca472a404fbef58f8b1.txt  \n",
            "  inflating: indoor_dataset/test/346bf8f7f1c62bcb4cd6e307.txt  \n",
            "  inflating: indoor_dataset/test/34bb5da757c9c83b42e5ae63.txt  \n",
            "  inflating: indoor_dataset/test/3506b3b626f494b0f0b934ca.txt  \n",
            "  inflating: indoor_dataset/test/35b801b06a7816dc8a77080c.txt  \n",
            "  inflating: indoor_dataset/test/35b82be00f77fc7f1d241575.txt  \n",
            "  inflating: indoor_dataset/test/36481f178c4ce333acccd58e.txt  \n",
            "  inflating: indoor_dataset/test/36b20f235015f30bcd123c86.txt  \n",
            "  inflating: indoor_dataset/test/36c6dd1ccc482e94fa21830c.txt  \n",
            "  inflating: indoor_dataset/test/36e11c56d336fd708d34ac37.txt  \n",
            "  inflating: indoor_dataset/test/3843f1ee3f43653993d60447.txt  \n",
            "  inflating: indoor_dataset/test/38876a9e9fee20526c6890bf.txt  \n",
            "  inflating: indoor_dataset/test/39537bf344b43f10a20e060f.txt  \n",
            "  inflating: indoor_dataset/test/39a5e60107bdf4c530130c52.txt  \n",
            "  inflating: indoor_dataset/test/39cd26c8eec1b8a14a561b28.txt  \n",
            "  inflating: indoor_dataset/test/3a893f2b18e85ef08567debf.txt  \n",
            "  inflating: indoor_dataset/test/3aac7e63e395fe2902ce9bd9.txt  \n",
            "  inflating: indoor_dataset/test/3bc2ad10daefe7fc6e57bdca.txt  \n",
            "  inflating: indoor_dataset/test/3c0ebe929de57c5b1fc65d44.txt  \n",
            "  inflating: indoor_dataset/test/3c56892f6cd0af56fe6b92e0.txt  \n",
            "  inflating: indoor_dataset/test/3c612b99b0f6800992eacf43.txt  \n",
            "  inflating: indoor_dataset/test/3c972e7cbba71d1c684dd34f.txt  \n",
            "  inflating: indoor_dataset/test/3ca3e65a5fc44603f0c827ba.txt  \n",
            "  inflating: indoor_dataset/test/3dbf5c79cfcc18eaca1a7d3b.txt  \n",
            "  inflating: indoor_dataset/test/3e0aebb66ef39150bbc27c24.txt  \n",
            "  inflating: indoor_dataset/test/3e1ba2182d077b7fd17d524f.txt  \n",
            "  inflating: indoor_dataset/test/3e1d46017fbfcc8136bd1e9b.txt  \n",
            "  inflating: indoor_dataset/test/3e61e72b06bc6f787d9b176f.txt  \n",
            "  inflating: indoor_dataset/test/3e6892787428117fb4b061d7.txt  \n",
            "  inflating: indoor_dataset/test/3edd7d06006a5bfc1619fc0e.txt  \n",
            "  inflating: indoor_dataset/test/3f815bfeee94086f60be0d09.txt  \n",
            "  inflating: indoor_dataset/test/3fc0e68775cde4a5fce6cf2d.txt  \n",
            "  inflating: indoor_dataset/test/40268946c8060c91109a58b7.txt  \n",
            "  inflating: indoor_dataset/test/408e9eacfcb439043f4ce593.txt  \n",
            "  inflating: indoor_dataset/test/40ded46d0cb2e060306b26bb.txt  \n",
            "  inflating: indoor_dataset/test/412da1891c4780f6f0f7f4bc.txt  \n",
            "  inflating: indoor_dataset/test/41451a862cca51c9df6bf152.txt  \n",
            "  inflating: indoor_dataset/test/41fb71519f03dabae411b661.txt  \n",
            "  inflating: indoor_dataset/test/4209447de426d0c86761703a.txt  \n",
            "  inflating: indoor_dataset/test/4283389c88821c3b31d07df5.txt  \n",
            "  inflating: indoor_dataset/test/4339bf75463dd4e25aa84758.txt  \n",
            "  inflating: indoor_dataset/test/438a576003e0eef20daf9c35.txt  \n",
            "  inflating: indoor_dataset/test/43b5cb4125a03434d3ee065d.txt  \n",
            "  inflating: indoor_dataset/test/44167d3f37c95565f14a5ef4.txt  \n",
            "  inflating: indoor_dataset/test/446d199192f9d69464b77ffd.txt  \n",
            "  inflating: indoor_dataset/test/44bb4250c66f06bffc554828.txt  \n",
            "  inflating: indoor_dataset/test/44bc288dc5e6d7b2819f88c5.txt  \n",
            "  inflating: indoor_dataset/test/4573afa8da16a43e0e2a355f.txt  \n",
            "  inflating: indoor_dataset/test/4690d48f649624bdf8a09b1b.txt  \n",
            "  inflating: indoor_dataset/test/46c865d487fa011022507710.txt  \n",
            "  inflating: indoor_dataset/test/472be94f5be907c04c932114.txt  \n",
            "  inflating: indoor_dataset/test/47a960ef9f70f0b662d9d244.txt  \n",
            "  inflating: indoor_dataset/test/47b83323569055e31d15a469.txt  \n",
            "  inflating: indoor_dataset/test/48dbda4179aaef31ed33c6e4.txt  \n",
            "  inflating: indoor_dataset/test/491066b9356a9f968e04b09b.txt  \n",
            "  inflating: indoor_dataset/test/49ef0e8c42428f0c67c3ed4b.txt  \n",
            "  inflating: indoor_dataset/test/4aaa69d3ff7e13ed5e824aa2.txt  \n",
            "  inflating: indoor_dataset/test/4affd104e0ec7a7806edfa78.txt  \n",
            "  inflating: indoor_dataset/test/4b38e02c59253ce02b52eec5.txt  \n",
            "  inflating: indoor_dataset/test/4b3c36b97204adfe690ccb00.txt  \n",
            "  inflating: indoor_dataset/test/4b8d3aff14914537854587c1.txt  \n",
            "  inflating: indoor_dataset/test/4c93f4e157d7e283547f1153.txt  \n",
            "  inflating: indoor_dataset/test/4d4315146c8acfc8f7a20550.txt  \n",
            "  inflating: indoor_dataset/test/4d497d31be6d37d79186717e.txt  \n",
            "  inflating: indoor_dataset/test/4d51d8913e1c785e0a1dddef.txt  \n",
            "  inflating: indoor_dataset/test/4dcb3e9d10defbea8e8007c2.txt  \n",
            "  inflating: indoor_dataset/test/4df1cce533e2aaf6882fb638.txt  \n",
            "  inflating: indoor_dataset/test/4e2aedb331c566b0e7684ffc.txt  \n",
            "  inflating: indoor_dataset/test/4e7665b783a3113c7e73cb94.txt  \n",
            "  inflating: indoor_dataset/test/4efb8bc8c17cfc5d9cd71c7f.txt  \n",
            "  inflating: indoor_dataset/test/4f66cef6a69aaf88468f7ab7.txt  \n",
            "  inflating: indoor_dataset/test/4fbd93217986b45372ebedd4.txt  \n",
            "  inflating: indoor_dataset/test/4ff5b9152353b3dc458992fa.txt  \n",
            "  inflating: indoor_dataset/test/4ff6a5f94782360efff2c334.txt  \n",
            "  inflating: indoor_dataset/test/500913fc93d997b6803dd6df.txt  \n",
            "  inflating: indoor_dataset/test/504b8655852f837f2aca36a7.txt  \n",
            "  inflating: indoor_dataset/test/505a039e760d4875c9c2d77f.txt  \n",
            "  inflating: indoor_dataset/test/507749a1187be5b582671c62.txt  \n",
            "  inflating: indoor_dataset/test/50b0a8d77c8c34368ea4bfc7.txt  \n",
            "  inflating: indoor_dataset/test/50dfc9af184b9f9e05ef1ae2.txt  \n",
            "  inflating: indoor_dataset/test/50f24c8ed539bdc44ebf1dd8.txt  \n",
            "  inflating: indoor_dataset/test/52265eb3084b4e3f7b08f6ae.txt  \n",
            "  inflating: indoor_dataset/test/5243b058c6691779fae7da2c.txt  \n",
            "  inflating: indoor_dataset/test/5258ce6a8b63b1f30d04a2d5.txt  \n",
            "  inflating: indoor_dataset/test/52ad8c760ff9978d0949deed.txt  \n",
            "  inflating: indoor_dataset/test/52dc57274881463626784b21.txt  \n",
            "  inflating: indoor_dataset/test/5340e354629f97c9348270c0.txt  \n",
            "  inflating: indoor_dataset/test/536134a5924bfa7840e315de.txt  \n",
            "  inflating: indoor_dataset/test/536f7b36d89b921511f4fdc1.txt  \n",
            "  inflating: indoor_dataset/test/54b4ec188d91140a6a2ee030.txt  \n",
            "  inflating: indoor_dataset/test/5582270fcaee1f580de9006f.txt  \n",
            "  inflating: indoor_dataset/test/559b85f5e7c3de56619c8853.txt  \n",
            "  inflating: indoor_dataset/test/5694e13f4bb0bac39806b5ae.txt  \n",
            "  inflating: indoor_dataset/test/5697db90a6c6bcb3e838a2b9.txt  \n",
            "  inflating: indoor_dataset/test/5727f10c5188b327a5a6a93e.txt  \n",
            "  inflating: indoor_dataset/test/58279d6ab8c2213722f2ef6b.txt  \n",
            "  inflating: indoor_dataset/test/583b831d065fdb022cca3a0c.txt  \n",
            "  inflating: indoor_dataset/test/5853ed01a28b1d938e25b2d7.txt  \n",
            "  inflating: indoor_dataset/test/58a7b7d31f5e8898403d1607.txt  \n",
            "  inflating: indoor_dataset/test/59cf31f3a5cd8a048a3167d5.txt  \n",
            "  inflating: indoor_dataset/test/5a0cd5dec226a90c3818ec03.txt  \n",
            "  inflating: indoor_dataset/test/5ab7fdd5629656e684c0435a.txt  \n",
            "  inflating: indoor_dataset/test/5b67ae395926dc10ea314317.txt  \n",
            "  inflating: indoor_dataset/test/5b9d1b98227340deb1d6f185.txt  \n",
            "  inflating: indoor_dataset/test/5ca85be3a9fc9cd53ea8c7f1.txt  \n",
            "  inflating: indoor_dataset/test/5df63c6ddcddaa958e520ea5.txt  \n",
            "  inflating: indoor_dataset/test/5e4f084a93b862d00688673d.txt  \n",
            "  inflating: indoor_dataset/test/5e5ee82cd8753120756c78e4.txt  \n",
            "  inflating: indoor_dataset/test/5f0252bc39ee6688384856d4.txt  \n",
            "  inflating: indoor_dataset/test/5f4f516acba921593e55cc4b.txt  \n",
            "  inflating: indoor_dataset/test/5f58ff915fb692e2507cfdd5.txt  \n",
            "  inflating: indoor_dataset/test/60386b96032381bf1c7a33f6.txt  \n",
            "  inflating: indoor_dataset/test/6085d88383432829bafe3147.txt  \n",
            "  inflating: indoor_dataset/test/60bc1c7de6f805c28228b3fe.txt  \n",
            "  inflating: indoor_dataset/test/60d4eac93ce6283cdc6e11b6.txt  \n",
            "  inflating: indoor_dataset/test/60e0899d24db2cbaa927abcd.txt  \n",
            "  inflating: indoor_dataset/test/610f2c07b26508790d1cd355.txt  \n",
            "  inflating: indoor_dataset/test/627d97e6be0e2f1f630bdb37.txt  \n",
            "  inflating: indoor_dataset/test/633b9baf7b8415ee819c26a7.txt  \n",
            "  inflating: indoor_dataset/test/644c8ec6504fe83b80677866.txt  \n",
            "  inflating: indoor_dataset/test/659307d58a1bd977d58bc94f.txt  \n",
            "  inflating: indoor_dataset/test/663ad3a7b78652036aa4290d.txt  \n",
            "  inflating: indoor_dataset/test/66744e8a5c65a748497cd7c0.txt  \n",
            "  inflating: indoor_dataset/test/667e1fd9da2bfe14aafdec4b.txt  \n",
            "  inflating: indoor_dataset/test/66dabc484153c8102481a8e4.txt  \n",
            "  inflating: indoor_dataset/test/672b4e3c9b09a218a4e74974.txt  \n",
            "  inflating: indoor_dataset/test/673bee9ae2df0a2d44d178ec.txt  \n",
            "  inflating: indoor_dataset/test/6751305422c4e62ee256a6f0.txt  \n",
            "  inflating: indoor_dataset/test/679845ce7fb4d5b56d6887c1.txt  \n",
            "  inflating: indoor_dataset/test/67bf4b03fc22542bb6d51daf.txt  \n",
            "  inflating: indoor_dataset/test/6883b003fd96496e062c6ee1.txt  \n",
            "  inflating: indoor_dataset/test/689ac374ec67d0f0b0fe4b0a.txt  \n",
            "  inflating: indoor_dataset/test/6913609ad03d8092c8b5b822.txt  \n",
            "  inflating: indoor_dataset/test/6913691fa6371ba1be81276e.txt  \n",
            "  inflating: indoor_dataset/test/698dc1d1a1885908e8fbfe4c.txt  \n",
            "  inflating: indoor_dataset/test/6ab9bfd01e48a4efe981c6b0.txt  \n",
            "  inflating: indoor_dataset/test/6ae5d7dfba87555bb7bd70e6.txt  \n",
            "  inflating: indoor_dataset/test/6b58ff42c73427fdefe9d2bb.txt  \n",
            "  inflating: indoor_dataset/test/6b598c55272851a4185d23aa.txt  \n",
            "  inflating: indoor_dataset/test/6b61e3eb48c15f554f18de21.txt  \n",
            "  inflating: indoor_dataset/test/6b6d91a5b97ed3c40c1411a7.txt  \n",
            "  inflating: indoor_dataset/test/6c9481054d611cffe044b807.txt  \n",
            "  inflating: indoor_dataset/test/6cef04795d0f3a4313958f16.txt  \n",
            "  inflating: indoor_dataset/test/6d89334316127640cff99800.txt  \n",
            "  inflating: indoor_dataset/test/6dcb3e845f3cab94ca55a790.txt  \n",
            "  inflating: indoor_dataset/test/6e1c6452fd95c2d3e6785f36.txt  \n",
            "  inflating: indoor_dataset/test/6ea1015ef1f27bbd15192eb6.txt  \n",
            "  inflating: indoor_dataset/test/6f705385cf0cebca4b0ca6e7.txt  \n",
            "  inflating: indoor_dataset/test/6fda297cb93a859000e72b70.txt  \n",
            "  inflating: indoor_dataset/test/6fe7c294e3a47e17aeb240b2.txt  \n",
            "  inflating: indoor_dataset/test/70123d9366c5676db1d1d0dd.txt  \n",
            "  inflating: indoor_dataset/test/7015c5709467b8fdb974daf4.txt  \n",
            "  inflating: indoor_dataset/test/7121b385f2dcd034cae8c49d.txt  \n",
            "  inflating: indoor_dataset/test/71675faaf4dedd23ce8e2c39.txt  \n",
            "  inflating: indoor_dataset/test/71d0d1f8c3abeb9d6de37c88.txt  \n",
            "  inflating: indoor_dataset/test/723900eb4d292e35981c3012.txt  \n",
            "  inflating: indoor_dataset/test/7241824cc3075197e0ded020.txt  \n",
            "  inflating: indoor_dataset/test/7264eeec0a8d8aa61e51cd5f.txt  \n",
            "  inflating: indoor_dataset/test/7276fac9b55aa417322e20f8.txt  \n",
            "  inflating: indoor_dataset/test/728aef201c2b68acc370b7f8.txt  \n",
            "  inflating: indoor_dataset/test/72963a8c7eb520c56f88a536.txt  \n",
            "  inflating: indoor_dataset/test/7316acadafc00dbfdb47ca10.txt  \n",
            "  inflating: indoor_dataset/test/73b8ae34d0038aa6dcdcd858.txt  \n",
            "  inflating: indoor_dataset/test/74e1f3f41374ba181468248d.txt  \n",
            "  inflating: indoor_dataset/test/75703a1e62aa93e8c56de7aa.txt  \n",
            "  inflating: indoor_dataset/test/760075793d3822dd8bf1bf31.txt  \n",
            "  inflating: indoor_dataset/test/7603ac27c8a6723a333e9fb8.txt  \n",
            "  inflating: indoor_dataset/test/76f7af4eeffffde457d018bb.txt  \n",
            "  inflating: indoor_dataset/test/76fa8b5e46e6dacbdc4f4f39.txt  \n",
            "  inflating: indoor_dataset/test/7727672abec7d70216173223.txt  \n",
            "  inflating: indoor_dataset/test/77cabd9a8eaaa49beb66a62b.txt  \n",
            "  inflating: indoor_dataset/test/7814e8ec13281ccf89baedc0.txt  \n",
            "  inflating: indoor_dataset/test/7861f68134d801946e3e2795.txt  \n",
            "  inflating: indoor_dataset/test/78790e6e6a7e658c5e25955f.txt  \n",
            "  inflating: indoor_dataset/test/78beda79f100af67d5fd91e6.txt  \n",
            "  inflating: indoor_dataset/test/791c96c9a472e89ec06e8a85.txt  \n",
            "  inflating: indoor_dataset/test/796c8d48da4b59d8c47d2c3a.txt  \n",
            "  inflating: indoor_dataset/test/7987213c53131fd5bbacce4f.txt  \n",
            "  inflating: indoor_dataset/test/79dbd47db3541d41acf3645c.txt  \n",
            "  inflating: indoor_dataset/test/7a4c5c74672a27ba94eb9b66.txt  \n",
            "  inflating: indoor_dataset/test/7a9ed75a485605db82f143d5.txt  \n",
            "  inflating: indoor_dataset/test/7b073c01ca8b6db9a98dd11a.txt  \n",
            "  inflating: indoor_dataset/test/7bc4213a6a76c5cb03de2d69.txt  \n",
            "  inflating: indoor_dataset/test/7be7b7833488818f562d24aa.txt  \n",
            "  inflating: indoor_dataset/test/7c19987b64849e60e831c394.txt  \n",
            "  inflating: indoor_dataset/test/7caee2ed97f52218042a662f.txt  \n",
            "  inflating: indoor_dataset/test/7d2d723a30cce824aad9915b.txt  \n",
            "  inflating: indoor_dataset/test/7d3f0c002431353bc0a54eeb.txt  \n",
            "  inflating: indoor_dataset/test/7d401b038d6fdb08f4f8197d.txt  \n",
            "  inflating: indoor_dataset/test/7d42a67573f38d52bea01679.txt  \n",
            "  inflating: indoor_dataset/test/7e1432b1a371d5d3e8ae34d3.txt  \n",
            "  inflating: indoor_dataset/test/7efc4326b753c9133e0b908e.txt  \n",
            "  inflating: indoor_dataset/test/81532abcb8b4e11eec4a8202.txt  \n",
            "  inflating: indoor_dataset/test/819494b56fdb3e65ef378897.txt  \n",
            "  inflating: indoor_dataset/test/81badbb3aded20c36ae22bc2.txt  \n",
            "  inflating: indoor_dataset/test/82683559aebe665bb0eebe8e.txt  \n",
            "  inflating: indoor_dataset/test/8304231d833d5427ff4f4da1.txt  \n",
            "  inflating: indoor_dataset/test/833d0a5609a088d7c15d2031.txt  \n",
            "  inflating: indoor_dataset/test/83ae65e7f2059dae6c015ab5.txt  \n",
            "  inflating: indoor_dataset/test/852fb29bb4996d022496edcc.txt  \n",
            "  inflating: indoor_dataset/test/8545d8808a11f6b48d112310.txt  \n",
            "  inflating: indoor_dataset/test/854dedd673b748ac7a14c6a7.txt  \n",
            "  inflating: indoor_dataset/test/8584d22e99dc86f336173b15.txt  \n",
            "  inflating: indoor_dataset/test/85a41fe1d8c529c033810499.txt  \n",
            "  inflating: indoor_dataset/test/861c09b1c67351e92708f91f.txt  \n",
            "  inflating: indoor_dataset/test/862a4ac32755d252c6948424.txt  \n",
            "  inflating: indoor_dataset/test/867c78ed47ee3fc4b30b9d59.txt  \n",
            "  inflating: indoor_dataset/test/86a46c7bf9fe29a67980b1a7.txt  \n",
            "  inflating: indoor_dataset/test/876cd27fc8f63a2800fc3de8.txt  \n",
            "  inflating: indoor_dataset/test/8817286b357023b71bd0b696.txt  \n",
            "  inflating: indoor_dataset/test/89500baf14748fe9b3a82748.txt  \n",
            "  inflating: indoor_dataset/test/897457315805f1d5b209c692.txt  \n",
            "  inflating: indoor_dataset/test/89ab0fc4e49d892ff0156dc7.txt  \n",
            "  inflating: indoor_dataset/test/89f1ea2d1e3a876af40dadac.txt  \n",
            "  inflating: indoor_dataset/test/89f92d1370b844b8e7644ee8.txt  \n",
            "  inflating: indoor_dataset/test/8a5e440d8d110c0a3539ee9b.txt  \n",
            "  inflating: indoor_dataset/test/8ab34318f66dffa710ec53cd.txt  \n",
            "  inflating: indoor_dataset/test/8c1a179f5e2fa18a0307a9dd.txt  \n",
            "  inflating: indoor_dataset/test/8c1fdb5fa1bafa5b56ecc4e0.txt  \n",
            "  inflating: indoor_dataset/test/8c4e95647f1f1277f434babc.txt  \n",
            "  inflating: indoor_dataset/test/8c5a946a9eeb739c2a6630ff.txt  \n",
            "  inflating: indoor_dataset/test/8c7c75845cfba8c2b874d2ea.txt  \n",
            "  inflating: indoor_dataset/test/8ca7fe022118929860699a2f.txt  \n",
            "  inflating: indoor_dataset/test/8cb1f56b74af85d3dd0efcd9.txt  \n",
            "  inflating: indoor_dataset/test/8cb8f0045242464f50342338.txt  \n",
            "  inflating: indoor_dataset/test/8ccd3fc53ad2e63651de4376.txt  \n",
            "  inflating: indoor_dataset/test/8d348ecb29022e18299be281.txt  \n",
            "  inflating: indoor_dataset/test/8d64c2a46bc9b91426969ef6.txt  \n",
            "  inflating: indoor_dataset/test/8e577bbf235d81ce625e363a.txt  \n",
            "  inflating: indoor_dataset/test/8edbfe4ea14f5b8fe8f47f15.txt  \n",
            "  inflating: indoor_dataset/test/8f134b651d254092c94e855f.txt  \n",
            "  inflating: indoor_dataset/test/8febc00382b315a208c3d9eb.txt  \n",
            "  inflating: indoor_dataset/test/8ffb53cd60edc17b04e25a45.txt  \n",
            "  inflating: indoor_dataset/test/90119ff42ce5621a5761dfdf.txt  \n",
            "  inflating: indoor_dataset/test/90e36817a15d1303999b17c9.txt  \n",
            "  inflating: indoor_dataset/test/9113be4094a68ba42ad9daa8.txt  \n",
            "  inflating: indoor_dataset/test/9217871066df2966c942b2eb.txt  \n",
            "  inflating: indoor_dataset/test/9342f71811c45c856bf964c7.txt  \n",
            "  inflating: indoor_dataset/test/9432b20a613c4c0a40993531.txt  \n",
            "  inflating: indoor_dataset/test/947e17f82dbddfbdb4cb2447.txt  \n",
            "  inflating: indoor_dataset/test/949b5f7dd5469b2b7c4d57b4.txt  \n",
            "  inflating: indoor_dataset/test/950c991710b1054f4cd03133.txt  \n",
            "  inflating: indoor_dataset/test/9609fb2f1c62cf3b7ac08521.txt  \n",
            "  inflating: indoor_dataset/test/965778109ccdb3eb34af8bf0.txt  \n",
            "  inflating: indoor_dataset/test/967b41cea41974071e36f31d.txt  \n",
            "  inflating: indoor_dataset/test/9690a79f77581d8c60302d2c.txt  \n",
            "  inflating: indoor_dataset/test/97aad1488e3b02f180a8ae09.txt  \n",
            "  inflating: indoor_dataset/test/97c46c1fc7ebc5930af75743.txt  \n",
            "  inflating: indoor_dataset/test/986924433ab01afa81a59e7a.txt  \n",
            "  inflating: indoor_dataset/test/987dedd74979b11fe4f06987.txt  \n",
            "  inflating: indoor_dataset/test/98942ecbc18dc774835563aa.txt  \n",
            "  inflating: indoor_dataset/test/9950fd1962191dfe62c8a366.txt  \n",
            "  inflating: indoor_dataset/test/99ea88fcd02f1d7cb4d141bf.txt  \n",
            "  inflating: indoor_dataset/test/9a9cf9f796fae7f3f8643a04.txt  \n",
            "  inflating: indoor_dataset/test/9b720b32ec8fac3b82f19ae1.txt  \n",
            "  inflating: indoor_dataset/test/9b97a70dcbae27c225bd36f9.txt  \n",
            "  inflating: indoor_dataset/test/9bed5343c25574e44914ef21.txt  \n",
            "  inflating: indoor_dataset/test/9cc4412ff73ec37e30be9d9f.txt  \n",
            "  inflating: indoor_dataset/test/9d5db7dab58374e88b12d227.txt  \n",
            "  inflating: indoor_dataset/test/9d89ba9627651adaa7fbf78f.txt  \n",
            "  inflating: indoor_dataset/test/9dd916c57ffba275b1baa323.txt  \n",
            "  inflating: indoor_dataset/test/9dedc3819b9ac8444b1f30f4.txt  \n",
            "  inflating: indoor_dataset/test/9e001583893cabee64bf69df.txt  \n",
            "  inflating: indoor_dataset/test/9e014c6bd4f50e1256624ae5.txt  \n",
            "  inflating: indoor_dataset/test/9eab95aa6e3838f3fbccf311.txt  \n",
            "  inflating: indoor_dataset/test/9fd3fbeb694c4b7a37c125d5.txt  \n",
            "  inflating: indoor_dataset/test/a0c05d232b01247a9ba48be0.txt  \n",
            "  inflating: indoor_dataset/test/a11615477afe31e7a204287f.txt  \n",
            "  inflating: indoor_dataset/test/a1a32c28854aeef857ef79a5.txt  \n",
            "  inflating: indoor_dataset/test/a1a53ec2c1992d3947dd4480.txt  \n",
            "  inflating: indoor_dataset/test/a221eeef88b64a9e58c95f6f.txt  \n",
            "  inflating: indoor_dataset/test/a23ca542020c3376f8da1fd9.txt  \n",
            "  inflating: indoor_dataset/test/a25a8d841f9dcb508c5ee363.txt  \n",
            "  inflating: indoor_dataset/test/a25f020b7571d262ff5952ed.txt  \n",
            "  inflating: indoor_dataset/test/a2627e7d41e7e1c686bb74f9.txt  \n",
            "  inflating: indoor_dataset/test/a2b5878c25761e552230d412.txt  \n",
            "  inflating: indoor_dataset/test/a3c5aadf824a220327e9cdc6.txt  \n",
            "  inflating: indoor_dataset/test/a403d556f6ebc1343e0b27ee.txt  \n",
            "  inflating: indoor_dataset/test/a424b6ad3de377df7c9e8958.txt  \n",
            "  inflating: indoor_dataset/test/a4609e6c40ba7c527c8c5da2.txt  \n",
            "  inflating: indoor_dataset/test/a4ab6c6c78b232568f975f16.txt  \n",
            "  inflating: indoor_dataset/test/a526dbdf164aa0a28f510c49.txt  \n",
            "  inflating: indoor_dataset/test/a55eb4ea2b0556f96143f176.txt  \n",
            "  inflating: indoor_dataset/test/a57f8728343b9cb2491e6c86.txt  \n",
            "  inflating: indoor_dataset/test/a5b8249fca6d41f4ce1d4a02.txt  \n",
            "  inflating: indoor_dataset/test/a5e437e7708788a70e8bc8ec.txt  \n",
            "  inflating: indoor_dataset/test/a606cb39b74b8e0d45c8c8b8.txt  \n",
            "  inflating: indoor_dataset/test/a7b032ef5441a07e68f073be.txt  \n",
            "  inflating: indoor_dataset/test/a7bb61478b112c3eedcbb6ed.txt  \n",
            "  inflating: indoor_dataset/test/a7e5d323e7ba3df29a4bb918.txt  \n",
            "  inflating: indoor_dataset/test/a850f1538a738b74d58cb9bf.txt  \n",
            "  inflating: indoor_dataset/test/a87fa5784fd6e0791efe650a.txt  \n",
            "  inflating: indoor_dataset/test/a8cf094dbb3c22d02d10e21d.txt  \n",
            "  inflating: indoor_dataset/test/a9cc261267276e486328a30d.txt  \n",
            "  inflating: indoor_dataset/test/aa3bb82db66286095d941035.txt  \n",
            "  inflating: indoor_dataset/test/aa49b4006c18d1d2a28cd049.txt  \n",
            "  inflating: indoor_dataset/test/aa8383281d2c90c5576bb4e7.txt  \n",
            "  inflating: indoor_dataset/test/ac1a2e8f11ab64d729199969.txt  \n",
            "  inflating: indoor_dataset/test/ac83e97550ad3e7396fb618b.txt  \n",
            "  inflating: indoor_dataset/test/ac93c263f13fb5eda552ca97.txt  \n",
            "  inflating: indoor_dataset/test/ad228ceb56e37f3416a910a3.txt  \n",
            "  inflating: indoor_dataset/test/ad40d2b657a1b847b11b013f.txt  \n",
            "  inflating: indoor_dataset/test/ad733a1791d3fdd21532677b.txt  \n",
            "  inflating: indoor_dataset/test/ad97a5e58725339a560c381e.txt  \n",
            "  inflating: indoor_dataset/test/adb909f464fd9284b53dbc87.txt  \n",
            "  inflating: indoor_dataset/test/adda251cb945aa23e455ab48.txt  \n",
            "  inflating: indoor_dataset/test/ae2dc138bd8552bf6c785377.txt  \n",
            "  inflating: indoor_dataset/test/ae4af47ef601ee8664a18778.txt  \n",
            "  inflating: indoor_dataset/test/aec3b618b191da96f0eb2c10.txt  \n",
            "  inflating: indoor_dataset/test/aed8d49bbf0857e88e1d26b5.txt  \n",
            "  inflating: indoor_dataset/test/afd41e65cb00646768654b9c.txt  \n",
            "  inflating: indoor_dataset/test/b03a2291b48aa904314717db.txt  \n",
            "  inflating: indoor_dataset/test/b1181f6f7f7f4bb4ec48e5c4.txt  \n",
            "  inflating: indoor_dataset/test/b1b61e500f46136f8ee8e94f.txt  \n",
            "  inflating: indoor_dataset/test/b1f1e78acfb77ad82d538183.txt  \n",
            "  inflating: indoor_dataset/test/b2c1f3b0b84bae349a85a76f.txt  \n",
            "  inflating: indoor_dataset/test/b2dd56b88cf0d00902503eba.txt  \n",
            "  inflating: indoor_dataset/test/b308a8c4ffeee07f455ffb19.txt  \n",
            "  inflating: indoor_dataset/test/b36d5f0beec291379d2181b6.txt  \n",
            "  inflating: indoor_dataset/test/b37fa5dff7ba5b417031990d.txt  \n",
            "  inflating: indoor_dataset/test/b3ddea2aa88e2015223b75a8.txt  \n",
            "  inflating: indoor_dataset/test/b406c5c925f3b64d8972b2c0.txt  \n",
            "  inflating: indoor_dataset/test/b40da1395a4ea396026ea3fa.txt  \n",
            "  inflating: indoor_dataset/test/b4188fc441162ab5593a7b45.txt  \n",
            "  inflating: indoor_dataset/test/b433961afd6c429fc2dd0971.txt  \n",
            "  inflating: indoor_dataset/test/b47cbb269b2ddf36e39572bd.txt  \n",
            "  inflating: indoor_dataset/test/b51a662297b90657f0b03b44.txt  \n",
            "  inflating: indoor_dataset/test/b59c09efbc2ba31f7df1d0d1.txt  \n",
            "  inflating: indoor_dataset/test/b6f2d87525cec0dcd65b693c.txt  \n",
            "  inflating: indoor_dataset/test/b760d372b55d88f398110f48.txt  \n",
            "  inflating: indoor_dataset/test/b781698c482098426072d432.txt  \n",
            "  inflating: indoor_dataset/test/b7987955dad0b6685500132b.txt  \n",
            "  inflating: indoor_dataset/test/b7deb644d3ec40fb81cad6e2.txt  \n",
            "  inflating: indoor_dataset/test/b82e65dde03a9ff7b676fd37.txt  \n",
            "  inflating: indoor_dataset/test/b87667c3dd21d8aa17bb6a74.txt  \n",
            "  inflating: indoor_dataset/test/b8b2f59af006df03c9d3e0d6.txt  \n",
            "  inflating: indoor_dataset/test/b8d7ddb54d74a9450d7eb17c.txt  \n",
            "  inflating: indoor_dataset/test/bb73ec8779aaa0509bea454a.txt  \n",
            "  inflating: indoor_dataset/test/bb84ab5e77fc9f5fdbd52827.txt  \n",
            "  inflating: indoor_dataset/test/bb8d876705a0d8b453791035.txt  \n",
            "  inflating: indoor_dataset/test/bb938cd9fec6ef383e40f4c0.txt  \n",
            "  inflating: indoor_dataset/test/bbcf74a04032515b461cb2cc.txt  \n",
            "  inflating: indoor_dataset/test/bbe172d896a38bc15fca3062.txt  \n",
            "  inflating: indoor_dataset/test/bc253f69b5d49855785d94da.txt  \n",
            "  inflating: indoor_dataset/test/bd0f2c8626679895f3338ca5.txt  \n",
            "  inflating: indoor_dataset/test/bd27a637d58beacf9a51c292.txt  \n",
            "  inflating: indoor_dataset/test/bd5921cd1008382e2f537b53.txt  \n",
            "  inflating: indoor_dataset/test/bd6637f1fa9e0074495caaca.txt  \n",
            "  inflating: indoor_dataset/test/bf132134be51ec4891e9e16c.txt  \n",
            "  inflating: indoor_dataset/test/bf4fb3d50ba5202800859799.txt  \n",
            "  inflating: indoor_dataset/test/bf5543efb9497b2dd44ca7da.txt  \n",
            "  inflating: indoor_dataset/test/bfcb651b80df271b79d344dd.txt  \n",
            "  inflating: indoor_dataset/test/c06224bdefec4d102f001601.txt  \n",
            "  inflating: indoor_dataset/test/c0f79f21ad5f32c573f98886.txt  \n",
            "  inflating: indoor_dataset/test/c1bee305c2d4212c18c91e4e.txt  \n",
            "  inflating: indoor_dataset/test/c26b88f19f04117b7e4dd747.txt  \n",
            "  inflating: indoor_dataset/test/c2ae6f835a79f6fd53600449.txt  \n",
            "  inflating: indoor_dataset/test/c32f4436326c9589169be1dd.txt  \n",
            "  inflating: indoor_dataset/test/c385db2d2886056b8c42a9e6.txt  \n",
            "  inflating: indoor_dataset/test/c3913710fd39499173a055e7.txt  \n",
            "  inflating: indoor_dataset/test/c49c72f7f7036cc8a661917e.txt  \n",
            "  inflating: indoor_dataset/test/c50cc8ab7c5008f50a38e70d.txt  \n",
            "  inflating: indoor_dataset/test/c5c86b509c716c7872e16214.txt  \n",
            "  inflating: indoor_dataset/test/c61792dc8a5208a73bfea103.txt  \n",
            "  inflating: indoor_dataset/test/c694a61c01738864eacd4d5e.txt  \n",
            "  inflating: indoor_dataset/test/c70272750cc48acef9827dcb.txt  \n",
            "  inflating: indoor_dataset/test/c7ace6aca412926c8c25155e.txt  \n",
            "  inflating: indoor_dataset/test/c7c9d2f5113d91afa2b7e94d.txt  \n",
            "  inflating: indoor_dataset/test/c7eaa26e0dcb8d3680fd3c70.txt  \n",
            "  inflating: indoor_dataset/test/c816924dba6739d9c63021f7.txt  \n",
            "  inflating: indoor_dataset/test/c83dfe151e943e78333cec13.txt  \n",
            "  inflating: indoor_dataset/test/c93b48c40c3f32e200619f99.txt  \n",
            "  inflating: indoor_dataset/test/c9a69eab2313afa2086a7927.txt  \n",
            "  inflating: indoor_dataset/test/c9f3dcee23725759730eaf32.txt  \n",
            "  inflating: indoor_dataset/test/ca363c1b30692cf0598bea76.txt  \n",
            "  inflating: indoor_dataset/test/cad1ea3fa0502ba1bcbebd6d.txt  \n",
            "  inflating: indoor_dataset/test/cad7c5c53d62719991fc4c07.txt  \n",
            "  inflating: indoor_dataset/test/cb278289e8158f129e31cfcd.txt  \n",
            "  inflating: indoor_dataset/test/cb9399bab0ead661258086ae.txt  \n",
            "  inflating: indoor_dataset/test/cbe53b25f9fd9c9acea1e6d1.txt  \n",
            "  inflating: indoor_dataset/test/cc23760c1abbefee0791b1f2.txt  \n",
            "  inflating: indoor_dataset/test/cc8cd263619bc078e1d10ebf.txt  \n",
            "  inflating: indoor_dataset/test/cd695bf43420d73e23df3d5a.txt  \n",
            "  inflating: indoor_dataset/test/cd7cbeadf3cd476110f10c14.txt  \n",
            "  inflating: indoor_dataset/test/ce09e807fef6de6b45709d9f.txt  \n",
            "  inflating: indoor_dataset/test/ce80c08d743f15e6586741f6.txt  \n",
            "  inflating: indoor_dataset/test/cebe97fd2e7949b281656193.txt  \n",
            "  inflating: indoor_dataset/test/cf1da59d0470e29891469f3c.txt  \n",
            "  inflating: indoor_dataset/test/cf505e00f50df4548ef98d05.txt  \n",
            "  inflating: indoor_dataset/test/cf5c7ff181051df6e88a5787.txt  \n",
            "  inflating: indoor_dataset/test/cf5cc112ba8a1bbb6f8d93e8.txt  \n",
            "  inflating: indoor_dataset/test/cfda785b67b4b17c58b911b0.txt  \n",
            "  inflating: indoor_dataset/test/d0ba1a514581ead3c796490b.txt  \n",
            "  inflating: indoor_dataset/test/d0be93dbc89e6791ec20afc9.txt  \n",
            "  inflating: indoor_dataset/test/d148573a2b01245f06e1de50.txt  \n",
            "  inflating: indoor_dataset/test/d2a8a8bd9569c33bc43ec14e.txt  \n",
            "  inflating: indoor_dataset/test/d3402272ac97751e0e87cdf3.txt  \n",
            "  inflating: indoor_dataset/test/d3db994677fd0e0ed62339d2.txt  \n",
            "  inflating: indoor_dataset/test/d592885af4e6e380c376dc55.txt  \n",
            "  inflating: indoor_dataset/test/d66110d1c177307120b5deb2.txt  \n",
            "  inflating: indoor_dataset/test/d670943e9fa2473914f568d4.txt  \n",
            "  inflating: indoor_dataset/test/d6820b1b6728bdb201ab7805.txt  \n",
            "  inflating: indoor_dataset/test/d6daf4cca1df91ce7f5ca2c6.txt  \n",
            "  inflating: indoor_dataset/test/d6e09245089299ec8e5173e7.txt  \n",
            "  inflating: indoor_dataset/test/d712536c776ed08ddfcb73c6.txt  \n",
            "  inflating: indoor_dataset/test/d72ceac4628436a540910d98.txt  \n",
            "  inflating: indoor_dataset/test/d7c936e862946ca5f6926512.txt  \n",
            "  inflating: indoor_dataset/test/d817eb4bd2f39280ea1037b9.txt  \n",
            "  inflating: indoor_dataset/test/d905d9e3a421b0ad31a8a7c0.txt  \n",
            "  inflating: indoor_dataset/test/d95450e3be51a1d7d284a29b.txt  \n",
            "  inflating: indoor_dataset/test/da7678bc04757fa05f1f7992.txt  \n",
            "  inflating: indoor_dataset/test/db152e591fe88b82b706da8d.txt  \n",
            "  inflating: indoor_dataset/test/db7b0850aed5577702f151c4.txt  \n",
            "  inflating: indoor_dataset/test/dbc3537c9913889864ebe0c1.txt  \n",
            "  inflating: indoor_dataset/test/dbc35fa5280de4c5d553d23a.txt  \n",
            "  inflating: indoor_dataset/test/dbc4e9263d1a2efd4b7b89fc.txt  \n",
            "  inflating: indoor_dataset/test/dc5f905014579b7fb857d2f0.txt  \n",
            "  inflating: indoor_dataset/test/dc616633d076e209c093f8ac.txt  \n",
            "  inflating: indoor_dataset/test/dc641944142a65f5ddf845bb.txt  \n",
            "  inflating: indoor_dataset/test/dc78498813d06eff01a96320.txt  \n",
            "  inflating: indoor_dataset/test/dc7aab767a608ca73ea2e33b.txt  \n",
            "  inflating: indoor_dataset/test/dcd4bfc49601637d9339808d.txt  \n",
            "  inflating: indoor_dataset/test/dce5ec866b612e86ec04ac06.txt  \n",
            "  inflating: indoor_dataset/test/dd4cbd69218f610f27cf33c8.txt  \n",
            "  inflating: indoor_dataset/test/dde666fd35199cb019c8ea62.txt  \n",
            "  inflating: indoor_dataset/test/de9160a4b1db66a453ebfb68.txt  \n",
            "  inflating: indoor_dataset/test/de9cef0d69383e47bd74a64c.txt  \n",
            "  inflating: indoor_dataset/test/decc9a540ad050e541a897c3.txt  \n",
            "  inflating: indoor_dataset/test/df4798f4f3b3c5c510e237ad.txt  \n",
            "  inflating: indoor_dataset/test/dffd0a427bc76233ef658a1d.txt  \n",
            "  inflating: indoor_dataset/test/e05290eced3105a1b99ee13a.txt  \n",
            "  inflating: indoor_dataset/test/e1539744b6f7668a040ac968.txt  \n",
            "  inflating: indoor_dataset/test/e1c113233943f6191b64441c.txt  \n",
            "  inflating: indoor_dataset/test/e2183337d2df7034a6c80cf3.txt  \n",
            "  inflating: indoor_dataset/test/e3455e53350336857caf08f0.txt  \n",
            "  inflating: indoor_dataset/test/e39b941dd2bcc2bffdc433b1.txt  \n",
            "  inflating: indoor_dataset/test/e3d5b272b2c71179e501519e.txt  \n",
            "  inflating: indoor_dataset/test/e492f8f51c101a523a137755.txt  \n",
            "  inflating: indoor_dataset/test/e52fbc1a0b00f58b565066c9.txt  \n",
            "  inflating: indoor_dataset/test/e5c6641300c3ace88914ec7f.txt  \n",
            "  inflating: indoor_dataset/test/e6fcb043744edde3b9f0559b.txt  \n",
            "  inflating: indoor_dataset/test/e70ce41f2b7ce9cdb7045972.txt  \n",
            "  inflating: indoor_dataset/test/e7574977ef4bd5f7a8bd9751.txt  \n",
            "  inflating: indoor_dataset/test/e83a1c294b5d138339149fcb.txt  \n",
            "  inflating: indoor_dataset/test/e83cee96a0e4c29297699594.txt  \n",
            "  inflating: indoor_dataset/test/e8ba16dafb39e5cd1b38f813.txt  \n",
            "  inflating: indoor_dataset/test/e8bf0626e27589d807a9751d.txt  \n",
            "  inflating: indoor_dataset/test/e8c5c09da1a03d6a980ebf8c.txt  \n",
            "  inflating: indoor_dataset/test/e8ed3f22ef83d9515ce36e8f.txt  \n",
            "  inflating: indoor_dataset/test/e91afaba9603500e8e28a454.txt  \n",
            "  inflating: indoor_dataset/test/e9816721ed502a5414ee6aa4.txt  \n",
            "  inflating: indoor_dataset/test/e9db664dfc3a965581a24972.txt  \n",
            "  inflating: indoor_dataset/test/ea0f8a9d4c8009cb6ee8f738.txt  \n",
            "  inflating: indoor_dataset/test/ea18b971347e2ce438bf4557.txt  \n",
            "  inflating: indoor_dataset/test/ea6f61a237dc4e79b251422a.txt  \n",
            "  inflating: indoor_dataset/test/ea777463a91a1293fc79fc52.txt  \n",
            "  inflating: indoor_dataset/test/eafbdd565c2e1e7650607e43.txt  \n",
            "  inflating: indoor_dataset/test/eb1988b0b15be78203297cbf.txt  \n",
            "  inflating: indoor_dataset/test/eb40b68130e8aa8d7dc82c23.txt  \n",
            "  inflating: indoor_dataset/test/eb4de03a42f451c11ffec60c.txt  \n",
            "  inflating: indoor_dataset/test/eb50a89699cb96502bcbb033.txt  \n",
            "  inflating: indoor_dataset/test/ec9aee8ee72b1902bd83edf5.txt  \n",
            "  inflating: indoor_dataset/test/ec9f3bbadfdd3464ed3ddf28.txt  \n",
            "  inflating: indoor_dataset/test/eca017e97a25f3e4832fdb91.txt  \n",
            "  inflating: indoor_dataset/test/ed240a8a5738be91c3743e7f.txt  \n",
            "  inflating: indoor_dataset/test/ed2caa67ce313a4baf428ace.txt  \n",
            "  inflating: indoor_dataset/test/ed77f28aeaf89b317bc380fa.txt  \n",
            "  inflating: indoor_dataset/test/ed7d88f09de7395a7de74ce4.txt  \n",
            "  inflating: indoor_dataset/test/ee1f4765f6d48f2d405b52ba.txt  \n",
            "  inflating: indoor_dataset/test/ee40c6e25fe024d5da451909.txt  \n",
            "  inflating: indoor_dataset/test/ee89473de9b2774fd7d8f029.txt  \n",
            "  inflating: indoor_dataset/test/ee9be1ad62ff5b8c6a44dc3a.txt  \n",
            "  inflating: indoor_dataset/test/eeb5b1d0e23c0675e095b98a.txt  \n",
            "  inflating: indoor_dataset/test/eef7be7d57a15ecb1ab3c578.txt  \n",
            "  inflating: indoor_dataset/test/ef20280811313a39e58e3a08.txt  \n",
            "  inflating: indoor_dataset/test/ef848c8ded4aed6c886ceaf8.txt  \n",
            "  inflating: indoor_dataset/test/efb57307a13583ba06bd099c.txt  \n",
            "  inflating: indoor_dataset/test/f043e6ddf42667290fa8b239.txt  \n",
            "  inflating: indoor_dataset/test/f0d402a465655bfc8ab41242.txt  \n",
            "  inflating: indoor_dataset/test/f1571d150cf1aafde30fd79a.txt  \n",
            "  inflating: indoor_dataset/test/f1d0b39dc36699ffe5d68e4d.txt  \n",
            "  inflating: indoor_dataset/test/f31f1f8ec42e10d23cb54ec4.txt  \n",
            "  inflating: indoor_dataset/test/f4bd7479dbe91f3d18f44c49.txt  \n",
            "  inflating: indoor_dataset/test/f5868ddf1e5f4ccf9a648517.txt  \n",
            "  inflating: indoor_dataset/test/f5fa36c503893adeb5294d52.txt  \n",
            "  inflating: indoor_dataset/test/f6228876966d7dae2c39b8ca.txt  \n",
            "  inflating: indoor_dataset/test/f64fb235136206764a4c23fc.txt  \n",
            "  inflating: indoor_dataset/test/f6eb59b252c21c171d2ce58c.txt  \n",
            "  inflating: indoor_dataset/test/f75c0093a23e5653b6f6b26c.txt  \n",
            "  inflating: indoor_dataset/test/f7ac4e6a8689647696b64804.txt  \n",
            "  inflating: indoor_dataset/test/f7c16e803908d3ab6ee0c603.txt  \n",
            "  inflating: indoor_dataset/test/f7e3f9a90a270fed8f32b3b7.txt  \n",
            "  inflating: indoor_dataset/test/f8a2489aa99b08ffddc115ec.txt  \n",
            "  inflating: indoor_dataset/test/f8ca6722d390d090d4974316.txt  \n",
            "  inflating: indoor_dataset/test/f8d84977825b44af9aa220c4.txt  \n",
            "  inflating: indoor_dataset/test/f8ebbce91c3aa8870faba81e.txt  \n",
            "  inflating: indoor_dataset/test/f95509fd9560e94d6b4d9b2d.txt  \n",
            "  inflating: indoor_dataset/test/f971e55da42b78e4d7a628e8.txt  \n",
            "  inflating: indoor_dataset/test/f973ee415265be4addc457b1.txt  \n",
            "  inflating: indoor_dataset/test/f9f99869dad1b2021ec7a7e2.txt  \n",
            "  inflating: indoor_dataset/test/fa4d3f7e66fdb499255ddaf8.txt  \n",
            "  inflating: indoor_dataset/test/fbd3c96ffd27e8384d298406.txt  \n",
            "  inflating: indoor_dataset/test/fbfbf091d226818a4fc3516c.txt  \n",
            "  inflating: indoor_dataset/test/fc01ec821b1c8cf910b4b895.txt  \n",
            "  inflating: indoor_dataset/test/fc3a6efa90c6712df8739fc1.txt  \n",
            "  inflating: indoor_dataset/test/fc99dca042a1ed67dc80a0fe.txt  \n",
            "  inflating: indoor_dataset/test/fca68c2a470d254cece58870.txt  \n",
            "  inflating: indoor_dataset/test/fd4eee038c0ad7f0179e337e.txt  \n",
            "  inflating: indoor_dataset/test/fd64de8c4a2fc5ebb0e9f412.txt  \n",
            "  inflating: indoor_dataset/test/fd76cacb0312c4bd96701f09.txt  \n",
            "  inflating: indoor_dataset/test/fdac8be560a05943aba7e41f.txt  \n",
            "  inflating: indoor_dataset/test/ff141af01177f34e9caa7a12.txt  \n",
            "  inflating: indoor_dataset/test/ffcd9524c80c0fa5bb859eaf.txt  \n"
          ],
          "name": "stdout"
        }
      ]
    },
    {
      "cell_type": "code",
      "metadata": {
        "id": "Qb01vv2T90M2"
      },
      "source": [
        "import multiprocessing\n",
        "import numpy as np\n",
        "import pandas as pd\n",
        "import scipy.interpolate\n",
        "import scipy.sparse\n",
        "from tqdm import tqdm\n",
        "\n",
        "from indoor_location_competition_20.io_f import read_data_file\n",
        "import indoor_location_competition_20.compute_f as compute_f"
      ],
      "execution_count": 51,
      "outputs": []
    },
    {
      "cell_type": "code",
      "metadata": {
        "id": "HMpNB_vD9GFR"
      },
      "source": [
        "def compute_rel_positions(acce_datas, ahrs_datas):\n",
        "    step_timestamps, step_indexs, step_acce_max_mins = compute_f.compute_steps(acce_datas)\n",
        "    headings = compute_f.compute_headings(ahrs_datas)\n",
        "    stride_lengths = compute_f.compute_stride_length(step_acce_max_mins)\n",
        "    step_headings = compute_f.compute_step_heading(step_timestamps, headings)\n",
        "    rel_positions = compute_f.compute_rel_positions(stride_lengths, step_headings)\n",
        "    return rel_positions\n",
        "\n",
        "def correct_path(args):\n",
        "    path, path_df = args\n",
        "    \n",
        "    T_ref  = path_df['timestamp'].values\n",
        "    xy_hat = path_df[['x', 'y']].values\n",
        "    \n",
        "    example = read_data_file(f'{INPUT_PATH}/test/{path}.txt')\n",
        "    rel_positions = compute_rel_positions(example.acce, example.ahrs)\n",
        "    if T_ref[-1] > rel_positions[-1, 0]:\n",
        "        rel_positions = [np.array([[0, 0, 0]]), rel_positions, np.array([[T_ref[-1], 0, 0]])]\n",
        "    else:\n",
        "        rel_positions = [np.array([[0, 0, 0]]), rel_positions]\n",
        "    rel_positions = np.concatenate(rel_positions)\n",
        "    \n",
        "    T_rel = rel_positions[:, 0]\n",
        "    delta_xy_hat = np.diff(scipy.interpolate.interp1d(T_rel, np.cumsum(rel_positions[:, 1:3], axis=0), axis=0)(T_ref), axis=0)\n",
        "\n",
        "    N = xy_hat.shape[0]\n",
        "    delta_t = np.diff(T_ref)\n",
        "    alpha = (8.1)**(-2) * np.ones(N)\n",
        "    beta  = (0.3 + 0.3 * 1e-3 * delta_t)**(-2)\n",
        "    A = scipy.sparse.spdiags(alpha, [0], N, N)\n",
        "    B = scipy.sparse.spdiags( beta, [0], N-1, N-1)\n",
        "    D = scipy.sparse.spdiags(np.stack([-np.ones(N), np.ones(N)]), [0, 1], N-1, N)\n",
        "\n",
        "    Q = A + (D.T @ B @ D)\n",
        "    c = (A @ xy_hat) + (D.T @ (B @ delta_xy_hat))\n",
        "    xy_star = scipy.sparse.linalg.spsolve(Q, c)\n",
        "\n",
        "    return pd.DataFrame({\n",
        "        'site_path_timestamp' : path_df['site_path_timestamp'],\n",
        "        'floor' : path_df['floor'],\n",
        "        'x' : xy_star[:, 0],\n",
        "        'y' : xy_star[:, 1],\n",
        "    })"
      ],
      "execution_count": 52,
      "outputs": []
    },
    {
      "cell_type": "code",
      "metadata": {
        "id": "anranW9E9KBq",
        "colab": {
          "base_uri": "https://localhost:8080/"
        },
        "outputId": "6fcf12ae-839b-4875-d6b4-f1e41126bc5b"
      },
      "source": [
        "INPUT_PATH = './indoor_dataset'\n",
        "\n",
        "sub = pd.read_csv('submission.csv')\n",
        "tmp = sub['site_path_timestamp'].apply(lambda s : pd.Series(s.split('_')))\n",
        "sub['site'] = tmp[0]\n",
        "sub['path'] = tmp[1]\n",
        "sub['timestamp'] = tmp[2].astype(float)\n",
        "\n",
        "processes = multiprocessing.cpu_count()\n",
        "with multiprocessing.Pool(processes=processes) as pool:\n",
        "    dfs = pool.imap_unordered(correct_path, sub.groupby('path'))\n",
        "    dfs = tqdm(dfs)\n",
        "    dfs = list(dfs)\n",
        "sub = pd.concat(dfs).sort_values('site_path_timestamp')\n",
        "sub.to_csv('submission_003.csv', index=False)"
      ],
      "execution_count": 53,
      "outputs": [
        {
          "output_type": "stream",
          "text": [
            "\n",
            "0it [00:00, ?it/s]\u001b[A\n",
            "1it [00:01,  1.76s/it]\u001b[A\n",
            "3it [00:01,  1.25s/it]\u001b[A\n",
            "4it [00:02,  1.08it/s]\u001b[A\n",
            "5it [00:02,  1.13it/s]\u001b[A\n",
            "6it [00:03,  1.43it/s]\u001b[A\n",
            "7it [00:03,  1.91it/s]\u001b[A\n",
            "8it [00:03,  2.07it/s]\u001b[A\n",
            "9it [00:04,  1.93it/s]\u001b[A\n",
            "10it [00:04,  1.96it/s]\u001b[A\n",
            "11it [00:05,  1.78it/s]\u001b[A\n",
            "13it [00:07,  1.51it/s]\u001b[A\n",
            "14it [00:07,  1.63it/s]\u001b[A\n",
            "15it [00:07,  2.05it/s]\u001b[A\n",
            "16it [00:09,  1.35it/s]\u001b[A\n",
            "17it [00:09,  1.75it/s]\u001b[A\n",
            "18it [00:10,  1.50it/s]\u001b[A\n",
            "19it [00:10,  1.80it/s]\u001b[A\n",
            "20it [00:10,  2.05it/s]\u001b[A\n",
            "22it [00:11,  2.01it/s]\u001b[A\n",
            "23it [00:12,  2.18it/s]\u001b[A\n",
            "24it [00:13,  1.63it/s]\u001b[A\n",
            "25it [00:13,  1.87it/s]\u001b[A\n",
            "26it [00:13,  2.17it/s]\u001b[A\n",
            "27it [00:15,  1.11it/s]\u001b[A\n",
            "29it [00:16,  1.51it/s]\u001b[A\n",
            "30it [00:17,  1.27it/s]\u001b[A\n",
            "31it [00:17,  1.54it/s]\u001b[A\n",
            "33it [00:17,  2.01it/s]\u001b[A\n",
            "34it [00:18,  1.57it/s]\u001b[A\n",
            "35it [00:18,  1.91it/s]\u001b[A\n",
            "37it [00:19,  2.40it/s]\u001b[A\n",
            "38it [00:20,  1.83it/s]\u001b[A\n",
            "40it [00:20,  2.39it/s]\u001b[A\n",
            "42it [00:21,  2.34it/s]\u001b[A\n",
            "43it [00:21,  2.70it/s]\u001b[A\n",
            "45it [00:23,  2.08it/s]\u001b[A\n",
            "46it [00:23,  1.96it/s]\u001b[A\n",
            "47it [00:23,  2.23it/s]\u001b[A\n",
            "48it [00:24,  1.85it/s]\u001b[A\n",
            "49it [00:24,  2.26it/s]\u001b[A\n",
            "50it [00:25,  2.64it/s]\u001b[A\n",
            "51it [00:25,  2.25it/s]\u001b[A\n",
            "52it [00:26,  1.87it/s]\u001b[A\n",
            "53it [00:26,  2.24it/s]\u001b[A\n",
            "54it [00:26,  2.91it/s]\u001b[A\n",
            "55it [00:29,  1.10it/s]\u001b[A\n",
            "56it [00:29,  1.23it/s]\u001b[A\n",
            "57it [00:29,  1.57it/s]\u001b[A\n",
            "58it [00:30,  1.77it/s]\u001b[A\n",
            "59it [00:30,  1.88it/s]\u001b[A\n",
            "60it [00:31,  1.76it/s]\u001b[A\n",
            "61it [00:32,  1.56it/s]\u001b[A\n",
            "62it [00:32,  1.68it/s]\u001b[A\n",
            "63it [00:33,  1.30it/s]\u001b[A\n",
            "64it [00:34,  1.51it/s]\u001b[A\n",
            "65it [00:35,  1.41it/s]\u001b[A\n",
            "66it [00:35,  1.62it/s]\u001b[A\n",
            "67it [00:36,  1.59it/s]\u001b[A\n",
            "69it [00:37,  1.59it/s]\u001b[A\n",
            "70it [00:38,  1.35it/s]\u001b[A\n",
            "71it [00:38,  1.61it/s]\u001b[A\n",
            "72it [00:39,  1.89it/s]\u001b[A\n",
            "73it [00:39,  1.65it/s]\u001b[A\n",
            "74it [00:40,  1.76it/s]\u001b[A\n",
            "75it [00:40,  1.68it/s]\u001b[A\n",
            "76it [00:41,  2.17it/s]\u001b[A\n",
            "77it [00:41,  2.45it/s]\u001b[A\n",
            "79it [00:42,  2.16it/s]\u001b[A\n",
            "80it [00:42,  2.32it/s]\u001b[A\n",
            "81it [00:43,  2.56it/s]\u001b[A\n",
            "83it [00:44,  2.07it/s]\u001b[A\n",
            "86it [00:46,  2.06it/s]\u001b[A\n",
            "87it [00:46,  2.19it/s]\u001b[A\n",
            "88it [00:47,  1.83it/s]\u001b[A\n",
            "89it [00:47,  2.33it/s]\u001b[A\n",
            "90it [00:47,  2.70it/s]\u001b[A\n",
            "91it [00:47,  3.22it/s]\u001b[A\n",
            "92it [00:48,  1.91it/s]\u001b[A\n",
            "93it [00:50,  1.21it/s]\u001b[A\n",
            "94it [00:50,  1.39it/s]\u001b[A\n",
            "95it [00:51,  1.59it/s]\u001b[A\n",
            "96it [00:53,  1.02it/s]\u001b[A\n",
            "97it [00:53,  1.38it/s]\u001b[A\n",
            "98it [00:54,  1.12it/s]\u001b[A\n",
            "99it [00:54,  1.43it/s]\u001b[A\n",
            "100it [00:55,  1.26it/s]\u001b[A\n",
            "101it [00:56,  1.29it/s]\u001b[A\n",
            "102it [00:57,  1.32it/s]\u001b[A\n",
            "103it [00:57,  1.41it/s]\u001b[A\n",
            "104it [00:58,  1.42it/s]\u001b[A\n",
            "106it [00:59,  1.42it/s]\u001b[A\n",
            "107it [01:00,  1.38it/s]\u001b[A\n",
            "109it [01:01,  1.48it/s]\u001b[A\n",
            "110it [01:02,  1.63it/s]\u001b[A\n",
            "112it [01:03,  1.66it/s]\u001b[A\n",
            "113it [01:04,  1.58it/s]\u001b[A\n",
            "114it [01:05,  1.37it/s]\u001b[A\n",
            "115it [01:05,  1.72it/s]\u001b[A\n",
            "116it [01:05,  1.80it/s]\u001b[A\n",
            "117it [01:06,  1.33it/s]\u001b[A\n",
            "118it [01:07,  1.48it/s]\u001b[A\n",
            "119it [01:08,  1.54it/s]\u001b[A\n",
            "120it [01:09,  1.26it/s]\u001b[A\n",
            "122it [01:09,  1.69it/s]\u001b[A\n",
            "123it [01:10,  1.30it/s]\u001b[A\n",
            "124it [01:10,  1.71it/s]\u001b[A\n",
            "125it [01:11,  1.93it/s]\u001b[A\n",
            "126it [01:12,  1.59it/s]\u001b[A\n",
            "127it [01:12,  1.74it/s]\u001b[A\n",
            "128it [01:13,  1.70it/s]\u001b[A\n",
            "129it [01:13,  2.23it/s]\u001b[A\n",
            "130it [01:13,  2.14it/s]\u001b[A\n",
            "131it [01:14,  2.32it/s]\u001b[A\n",
            "132it [01:14,  2.70it/s]\u001b[A\n",
            "133it [01:14,  2.16it/s]\u001b[A\n",
            "134it [01:15,  2.32it/s]\u001b[A\n",
            "135it [01:15,  2.41it/s]\u001b[A\n",
            "136it [01:16,  1.99it/s]\u001b[A\n",
            "138it [01:16,  2.49it/s]\u001b[A\n",
            "139it [01:17,  1.51it/s]\u001b[A\n",
            "140it [01:18,  2.00it/s]\u001b[A\n",
            "142it [01:19,  1.97it/s]\u001b[A\n",
            "143it [01:19,  2.23it/s]\u001b[A\n",
            "144it [01:19,  2.43it/s]\u001b[A\n",
            "145it [01:19,  2.95it/s]\u001b[A\n",
            "146it [01:21,  1.63it/s]\u001b[A\n",
            "147it [01:21,  2.10it/s]\u001b[A\n",
            "148it [01:22,  1.67it/s]\u001b[A\n",
            "149it [01:22,  2.05it/s]\u001b[A\n",
            "150it [01:22,  2.41it/s]\u001b[A\n",
            "151it [01:23,  1.88it/s]\u001b[A\n",
            "152it [01:23,  2.27it/s]\u001b[A\n",
            "153it [01:24,  1.90it/s]\u001b[A\n",
            "154it [01:25,  1.76it/s]\u001b[A\n",
            "155it [01:25,  2.02it/s]\u001b[A\n",
            "156it [01:26,  1.89it/s]\u001b[A\n",
            "158it [01:26,  2.21it/s]\u001b[A\n",
            "159it [01:26,  2.58it/s]\u001b[A\n",
            "160it [01:27,  2.30it/s]\u001b[A\n",
            "161it [01:27,  2.88it/s]\u001b[A\n",
            "162it [01:27,  2.73it/s]\u001b[A\n",
            "163it [01:28,  3.09it/s]\u001b[A\n",
            "164it [01:28,  2.93it/s]\u001b[A\n",
            "165it [01:28,  3.32it/s]\u001b[A\n",
            "166it [01:29,  2.21it/s]\u001b[A\n",
            "167it [01:29,  2.32it/s]\u001b[A\n",
            "168it [01:30,  2.13it/s]\u001b[A\n",
            "169it [01:30,  2.30it/s]\u001b[A\n",
            "170it [01:31,  2.25it/s]\u001b[A\n",
            "171it [01:31,  2.28it/s]\u001b[A\n",
            "172it [01:32,  1.84it/s]\u001b[A\n",
            "173it [01:32,  2.28it/s]\u001b[A\n",
            "174it [01:33,  1.68it/s]\u001b[A\n",
            "175it [01:34,  2.00it/s]\u001b[A\n",
            "176it [01:35,  1.43it/s]\u001b[A\n",
            "177it [01:35,  1.68it/s]\u001b[A\n",
            "178it [01:36,  1.26it/s]\u001b[A\n",
            "179it [01:37,  1.61it/s]\u001b[A\n",
            "180it [01:38,  1.28it/s]\u001b[A\n",
            "181it [01:38,  1.32it/s]\u001b[A\n",
            "183it [01:39,  1.82it/s]\u001b[A\n",
            "184it [01:39,  2.19it/s]\u001b[A\n",
            "185it [01:40,  1.40it/s]\u001b[A\n",
            "186it [01:41,  1.48it/s]\u001b[A\n",
            "187it [01:41,  1.54it/s]\u001b[A\n",
            "188it [01:42,  1.23it/s]\u001b[A\n",
            "190it [01:43,  1.72it/s]\u001b[A\n",
            "191it [01:44,  1.16it/s]\u001b[A\n",
            "192it [01:44,  1.56it/s]\u001b[A\n",
            "194it [01:45,  1.97it/s]\u001b[A\n",
            "195it [01:46,  1.51it/s]\u001b[A\n",
            "197it [01:46,  2.00it/s]\u001b[A\n",
            "198it [01:47,  1.46it/s]\u001b[A\n",
            "200it [01:47,  1.80it/s]\u001b[A\n",
            "201it [01:48,  1.87it/s]\u001b[A\n",
            "202it [01:48,  2.14it/s]\u001b[A\n",
            "203it [01:49,  1.46it/s]\u001b[A\n",
            "204it [01:50,  1.95it/s]\u001b[A\n",
            "205it [01:50,  2.30it/s]\u001b[A\n",
            "206it [01:50,  2.46it/s]\u001b[A\n",
            "207it [01:50,  2.58it/s]\u001b[A\n",
            "208it [01:51,  1.95it/s]\u001b[A\n",
            "209it [01:52,  1.97it/s]\u001b[A\n",
            "210it [01:52,  2.46it/s]\u001b[A\n",
            "211it [01:53,  1.70it/s]\u001b[A\n",
            "213it [01:54,  1.92it/s]\u001b[A\n",
            "214it [01:54,  2.17it/s]\u001b[A\n",
            "215it [01:55,  1.84it/s]\u001b[A\n",
            "216it [01:56,  1.43it/s]\u001b[A\n",
            "217it [01:56,  1.88it/s]\u001b[A\n",
            "218it [01:56,  2.30it/s]\u001b[A\n",
            "219it [01:57,  2.45it/s]\u001b[A\n",
            "220it [01:58,  1.68it/s]\u001b[A\n",
            "222it [01:59,  1.74it/s]\u001b[A\n",
            "224it [01:59,  1.88it/s]\u001b[A\n",
            "225it [02:00,  2.19it/s]\u001b[A\n",
            "226it [02:00,  2.41it/s]\u001b[A\n",
            "227it [02:00,  2.72it/s]\u001b[A\n",
            "228it [02:01,  2.15it/s]\u001b[A\n",
            "229it [02:02,  1.74it/s]\u001b[A\n",
            "230it [02:02,  1.99it/s]\u001b[A\n",
            "231it [02:02,  2.35it/s]\u001b[A\n",
            "232it [02:03,  2.20it/s]\u001b[A\n",
            "233it [02:04,  1.80it/s]\u001b[A\n",
            "234it [02:04,  1.77it/s]\u001b[A\n",
            "235it [02:05,  2.09it/s]\u001b[A\n",
            "236it [02:05,  1.73it/s]\u001b[A\n",
            "237it [02:06,  1.92it/s]\u001b[A\n",
            "238it [02:06,  2.48it/s]\u001b[A\n",
            "239it [02:08,  1.20it/s]\u001b[A\n",
            "240it [02:08,  1.57it/s]\u001b[A\n",
            "241it [02:09,  1.59it/s]\u001b[A\n",
            "242it [02:10,  1.37it/s]\u001b[A\n",
            "244it [02:10,  1.88it/s]\u001b[A\n",
            "245it [02:10,  2.45it/s]\u001b[A\n",
            "246it [02:11,  1.85it/s]\u001b[A\n",
            "247it [02:12,  1.53it/s]\u001b[A\n",
            "248it [02:12,  1.88it/s]\u001b[A\n",
            "250it [02:12,  2.39it/s]\u001b[A\n",
            "251it [02:13,  1.76it/s]\u001b[A\n",
            "252it [02:13,  2.33it/s]\u001b[A\n",
            "253it [02:13,  2.71it/s]\u001b[A\n",
            "254it [02:14,  2.49it/s]\u001b[A\n",
            "255it [02:14,  2.29it/s]\u001b[A\n",
            "256it [02:15,  2.03it/s]\u001b[A\n",
            "257it [02:15,  2.19it/s]\u001b[A\n",
            "258it [02:16,  2.01it/s]\u001b[A\n",
            "260it [02:17,  1.78it/s]\u001b[A\n",
            "262it [02:18,  2.18it/s]\u001b[A\n",
            "263it [02:18,  1.96it/s]\u001b[A\n",
            "264it [02:19,  1.82it/s]\u001b[A\n",
            "265it [02:20,  1.59it/s]\u001b[A\n",
            "266it [02:20,  1.96it/s]\u001b[A\n",
            "267it [02:21,  1.81it/s]\u001b[A\n",
            "268it [02:21,  1.91it/s]\u001b[A\n",
            "270it [02:22,  1.97it/s]\u001b[A\n",
            "271it [02:22,  2.45it/s]\u001b[A\n",
            "272it [02:23,  2.22it/s]\u001b[A\n",
            "273it [02:23,  2.52it/s]\u001b[A\n",
            "274it [02:24,  2.38it/s]\u001b[A\n",
            "275it [02:25,  1.41it/s]\u001b[A\n",
            "276it [02:25,  1.87it/s]\u001b[A\n",
            "277it [02:25,  2.08it/s]\u001b[A\n",
            "278it [02:26,  1.80it/s]\u001b[A\n",
            "279it [02:26,  2.37it/s]\u001b[A\n",
            "280it [02:27,  2.07it/s]\u001b[A\n",
            "281it [02:27,  2.05it/s]\u001b[A\n",
            "284it [02:28,  2.26it/s]\u001b[A\n",
            "285it [02:29,  2.24it/s]\u001b[A\n",
            "286it [02:29,  2.37it/s]\u001b[A\n",
            "287it [02:29,  2.84it/s]\u001b[A\n",
            "288it [02:30,  2.16it/s]\u001b[A\n",
            "289it [02:31,  1.95it/s]\u001b[A\n",
            "291it [02:32,  1.99it/s]\u001b[A\n",
            "292it [02:32,  2.45it/s]\u001b[A\n",
            "293it [02:33,  1.95it/s]\u001b[A\n",
            "294it [02:33,  2.36it/s]\u001b[A\n",
            "295it [02:34,  2.15it/s]\u001b[A\n",
            "297it [02:35,  2.07it/s]\u001b[A\n",
            "299it [02:35,  2.66it/s]\u001b[A\n",
            "300it [02:35,  2.87it/s]\u001b[A\n",
            "301it [02:36,  1.72it/s]\u001b[A\n",
            "303it [02:36,  2.29it/s]\u001b[A\n",
            "304it [02:38,  1.57it/s]\u001b[A\n",
            "305it [02:38,  1.53it/s]\u001b[A\n",
            "306it [02:39,  1.24it/s]\u001b[A\n",
            "307it [02:40,  1.66it/s]\u001b[A\n",
            "308it [02:40,  1.69it/s]\u001b[A\n",
            "309it [02:40,  1.95it/s]\u001b[A\n",
            "311it [02:42,  1.50it/s]\u001b[A\n",
            "312it [02:43,  1.42it/s]\u001b[A\n",
            "313it [02:43,  1.75it/s]\u001b[A\n",
            "314it [02:44,  1.94it/s]\u001b[A\n",
            "315it [02:45,  1.71it/s]\u001b[A\n",
            "316it [02:45,  2.23it/s]\u001b[A\n",
            "317it [02:45,  2.39it/s]\u001b[A\n",
            "318it [02:46,  2.03it/s]\u001b[A\n",
            "319it [02:47,  1.50it/s]\u001b[A\n",
            "320it [02:48,  1.25it/s]\u001b[A\n",
            "321it [02:49,  1.16it/s]\u001b[A\n",
            "322it [02:50,  1.28it/s]\u001b[A\n",
            "323it [02:50,  1.37it/s]\u001b[A\n",
            "324it [02:51,  1.29it/s]\u001b[A\n",
            "325it [02:51,  1.59it/s]\u001b[A\n",
            "326it [02:53,  1.26it/s]\u001b[A\n",
            "328it [02:53,  1.45it/s]\u001b[A\n",
            "329it [02:54,  1.65it/s]\u001b[A\n",
            "330it [02:54,  1.99it/s]\u001b[A\n",
            "331it [02:54,  2.10it/s]\u001b[A\n",
            "332it [02:56,  1.53it/s]\u001b[A\n",
            "334it [02:56,  2.03it/s]\u001b[A\n",
            "335it [02:57,  1.19it/s]\u001b[A\n",
            "336it [02:58,  1.30it/s]\u001b[A\n",
            "337it [02:58,  1.58it/s]\u001b[A\n",
            "338it [02:59,  1.82it/s]\u001b[A\n",
            "339it [02:59,  2.07it/s]\u001b[A\n",
            "340it [02:59,  2.24it/s]\u001b[A\n",
            "341it [03:00,  2.19it/s]\u001b[A\n",
            "342it [03:00,  2.68it/s]\u001b[A\n",
            "343it [03:01,  1.93it/s]\u001b[A\n",
            "344it [03:01,  2.26it/s]\u001b[A\n",
            "345it [03:02,  1.49it/s]\u001b[A\n",
            "346it [03:04,  1.24it/s]\u001b[A\n",
            "347it [03:04,  1.57it/s]\u001b[A\n",
            "349it [03:05,  1.51it/s]\u001b[A\n",
            "350it [03:05,  2.01it/s]\u001b[A\n",
            "352it [03:06,  2.63it/s]\u001b[A\n",
            "353it [03:07,  1.37it/s]\u001b[A\n",
            "355it [03:08,  1.44it/s]\u001b[A\n",
            "357it [03:09,  1.91it/s]\u001b[A\n",
            "358it [03:10,  1.47it/s]\u001b[A\n",
            "360it [03:11,  1.53it/s]\u001b[A\n",
            "361it [03:11,  1.65it/s]\u001b[A\n",
            "362it [03:12,  1.94it/s]\u001b[A\n",
            "363it [03:12,  2.55it/s]\u001b[A\n",
            "364it [03:12,  2.50it/s]\u001b[A\n",
            "365it [03:14,  1.34it/s]\u001b[A\n",
            "367it [03:14,  1.81it/s]\u001b[A\n",
            "368it [03:15,  1.43it/s]\u001b[A\n",
            "369it [03:16,  1.35it/s]\u001b[A\n",
            "370it [03:16,  1.63it/s]\u001b[A\n",
            "371it [03:17,  1.53it/s]\u001b[A\n",
            "373it [03:18,  1.74it/s]\u001b[A\n",
            "374it [03:18,  2.07it/s]\u001b[A\n",
            "375it [03:18,  2.21it/s]\u001b[A\n",
            "376it [03:18,  2.81it/s]\u001b[A\n",
            "377it [03:19,  2.53it/s]\u001b[A\n",
            "378it [03:20,  1.59it/s]\u001b[A\n",
            "379it [03:20,  2.09it/s]\u001b[A\n",
            "380it [03:21,  1.85it/s]\u001b[A\n",
            "381it [03:22,  1.32it/s]\u001b[A\n",
            "383it [03:23,  1.65it/s]\u001b[A\n",
            "385it [03:24,  1.76it/s]\u001b[A\n",
            "386it [03:24,  1.88it/s]\u001b[A\n",
            "387it [03:24,  2.42it/s]\u001b[A\n",
            "388it [03:24,  2.87it/s]\u001b[A\n",
            "389it [03:25,  1.75it/s]\u001b[A\n",
            "390it [03:26,  2.16it/s]\u001b[A\n",
            "391it [03:26,  2.76it/s]\u001b[A\n",
            "392it [03:27,  1.91it/s]\u001b[A\n",
            "393it [03:28,  1.34it/s]\u001b[A\n",
            "394it [03:29,  1.01it/s]\u001b[A\n",
            "395it [03:30,  1.25it/s]\u001b[A\n",
            "396it [03:31,  1.24it/s]\u001b[A\n",
            "397it [03:31,  1.32it/s]\u001b[A\n",
            "398it [03:32,  1.18it/s]\u001b[A\n",
            "399it [03:33,  1.25it/s]\u001b[A\n",
            "400it [03:34,  1.42it/s]\u001b[A\n",
            "401it [03:35,  1.22it/s]\u001b[A\n",
            "403it [03:35,  1.59it/s]\u001b[A\n",
            "404it [03:35,  1.69it/s]\u001b[A\n",
            "405it [03:36,  1.97it/s]\u001b[A\n",
            "406it [03:37,  1.51it/s]\u001b[A\n",
            "408it [03:38,  1.56it/s]\u001b[A\n",
            "410it [03:38,  1.95it/s]\u001b[A\n",
            "411it [03:39,  1.65it/s]\u001b[A\n",
            "412it [03:40,  1.84it/s]\u001b[A\n",
            "413it [03:40,  1.88it/s]\u001b[A\n",
            "414it [03:41,  1.97it/s]\u001b[A\n",
            "415it [03:42,  1.56it/s]\u001b[A\n",
            "416it [03:42,  1.97it/s]\u001b[A\n",
            "417it [03:43,  1.59it/s]\u001b[A\n",
            "418it [03:43,  1.97it/s]\u001b[A\n",
            "419it [03:44,  1.36it/s]\u001b[A\n",
            "421it [03:44,  1.87it/s]\u001b[A\n",
            "422it [03:45,  1.60it/s]\u001b[A\n",
            "423it [03:46,  1.71it/s]\u001b[A\n",
            "424it [03:47,  1.33it/s]\u001b[A\n",
            "426it [03:48,  1.45it/s]\u001b[A\n",
            "428it [03:50,  1.35it/s]\u001b[A\n",
            "430it [03:50,  1.80it/s]\u001b[A\n",
            "431it [03:51,  1.48it/s]\u001b[A\n",
            "432it [03:51,  1.66it/s]\u001b[A\n",
            "434it [03:52,  1.91it/s]\u001b[A\n",
            "436it [03:52,  2.27it/s]\u001b[A\n",
            "437it [03:53,  1.95it/s]\u001b[A\n",
            "438it [03:54,  1.75it/s]\u001b[A\n",
            "439it [03:54,  1.73it/s]\u001b[A\n",
            "440it [03:55,  1.46it/s]\u001b[A\n",
            "441it [03:56,  1.32it/s]\u001b[A\n",
            "443it [03:56,  1.81it/s]\u001b[A\n",
            "445it [03:57,  1.83it/s]\u001b[A\n",
            "446it [03:58,  2.35it/s]\u001b[A\n",
            "447it [03:58,  2.54it/s]\u001b[A\n",
            "448it [03:59,  1.93it/s]\u001b[A\n",
            "449it [03:59,  2.03it/s]\u001b[A\n",
            "450it [04:00,  1.73it/s]\u001b[A\n",
            "452it [04:00,  2.28it/s]\u001b[A\n",
            "453it [04:00,  2.74it/s]\u001b[A\n",
            "454it [04:01,  1.78it/s]\u001b[A\n",
            "455it [04:02,  2.12it/s]\u001b[A\n",
            "456it [04:02,  2.17it/s]\u001b[A\n",
            "457it [04:03,  1.95it/s]\u001b[A\n",
            "458it [04:03,  2.44it/s]\u001b[A\n",
            "459it [04:03,  2.35it/s]\u001b[A\n",
            "461it [04:04,  2.54it/s]\u001b[A\n",
            "462it [04:04,  2.47it/s]\u001b[A\n",
            "463it [04:05,  2.90it/s]\u001b[A\n",
            "464it [04:05,  2.40it/s]\u001b[A\n",
            "465it [04:06,  2.33it/s]\u001b[A\n",
            "467it [04:06,  3.06it/s]\u001b[A\n",
            "468it [04:06,  2.77it/s]\u001b[A\n",
            "469it [04:07,  1.86it/s]\u001b[A\n",
            "470it [04:07,  2.24it/s]\u001b[A\n",
            "472it [04:08,  2.36it/s]\u001b[A\n",
            "473it [04:09,  1.50it/s]\u001b[A\n",
            "475it [04:10,  1.91it/s]\u001b[A\n",
            "476it [04:11,  1.18it/s]\u001b[A\n",
            "477it [04:12,  1.32it/s]\u001b[A\n",
            "478it [04:12,  1.44it/s]\u001b[A\n",
            "479it [04:13,  1.65it/s]\u001b[A\n",
            "480it [04:13,  1.98it/s]\u001b[A\n",
            "481it [04:14,  2.04it/s]\u001b[A\n",
            "482it [04:14,  2.14it/s]\u001b[A\n",
            "483it [04:15,  2.10it/s]\u001b[A\n",
            "484it [04:15,  1.71it/s]\u001b[A\n",
            "485it [04:16,  2.00it/s]\u001b[A\n",
            "486it [04:17,  1.62it/s]\u001b[A\n",
            "487it [04:18,  1.22it/s]\u001b[A\n",
            "488it [04:18,  1.58it/s]\u001b[A\n",
            "489it [04:18,  1.99it/s]\u001b[A\n",
            "490it [04:20,  1.19it/s]\u001b[A\n",
            "491it [04:21,  1.21it/s]\u001b[A\n",
            "493it [04:21,  1.58it/s]\u001b[A\n",
            "494it [04:22,  1.58it/s]\u001b[A\n",
            "495it [04:22,  2.06it/s]\u001b[A\n",
            "496it [04:22,  2.65it/s]\u001b[A\n",
            "497it [04:23,  1.77it/s]\u001b[A\n",
            "498it [04:23,  2.21it/s]\u001b[A\n",
            "499it [04:24,  2.17it/s]\u001b[A\n",
            "500it [04:24,  2.39it/s]\u001b[A\n",
            "501it [04:24,  2.26it/s]\u001b[A\n",
            "502it [04:25,  2.20it/s]\u001b[A\n",
            "503it [04:26,  1.68it/s]\u001b[A\n",
            "504it [04:26,  2.21it/s]\u001b[A\n",
            "505it [04:26,  2.60it/s]\u001b[A\n",
            "506it [04:27,  1.61it/s]\u001b[A\n",
            "507it [04:27,  2.15it/s]\u001b[A\n",
            "508it [04:28,  1.65it/s]\u001b[A\n",
            "509it [04:29,  1.92it/s]\u001b[A\n",
            "510it [04:29,  2.19it/s]\u001b[A\n",
            "511it [04:29,  2.33it/s]\u001b[A\n",
            "512it [04:30,  2.86it/s]\u001b[A\n",
            "513it [04:30,  3.15it/s]\u001b[A\n",
            "514it [04:31,  1.60it/s]\u001b[A\n",
            "515it [04:31,  1.91it/s]\u001b[A\n",
            "516it [04:33,  1.16it/s]\u001b[A\n",
            "517it [04:34,  1.31it/s]\u001b[A\n",
            "518it [04:34,  1.25it/s]\u001b[A\n",
            "519it [04:36,  1.14s/it]\u001b[A\n",
            "520it [04:38,  1.17s/it]\u001b[A\n",
            "521it [04:40,  1.38s/it]\u001b[A\n",
            "522it [04:40,  1.01s/it]\u001b[A\n",
            "524it [04:41,  1.16it/s]\u001b[A\n",
            "525it [04:41,  1.38it/s]\u001b[A\n",
            "526it [04:42,  1.16it/s]\u001b[A\n",
            "527it [04:43,  1.07it/s]\u001b[A\n",
            "529it [04:44,  1.26it/s]\u001b[A\n",
            "530it [04:45,  1.50it/s]\u001b[A\n",
            "531it [04:45,  1.83it/s]\u001b[A\n",
            "533it [04:46,  1.97it/s]\u001b[A\n",
            "534it [04:47,  1.62it/s]\u001b[A\n",
            "535it [04:47,  1.88it/s]\u001b[A\n",
            "536it [04:48,  1.52it/s]\u001b[A\n",
            "537it [04:49,  1.50it/s]\u001b[A\n",
            "538it [04:49,  1.49it/s]\u001b[A\n",
            "539it [04:50,  1.27it/s]\u001b[A\n",
            "541it [04:51,  1.65it/s]\u001b[A\n",
            "542it [04:51,  1.92it/s]\u001b[A\n",
            "543it [04:52,  1.82it/s]\u001b[A\n",
            "544it [04:52,  2.18it/s]\u001b[A\n",
            "545it [04:53,  1.72it/s]\u001b[A\n",
            "546it [04:53,  2.01it/s]\u001b[A\n",
            "547it [04:53,  2.49it/s]\u001b[A\n",
            "548it [04:54,  2.29it/s]\u001b[A\n",
            "549it [04:55,  1.52it/s]\u001b[A\n",
            "550it [04:55,  1.80it/s]\u001b[A\n",
            "551it [04:56,  1.71it/s]\u001b[A\n",
            "552it [04:57,  1.71it/s]\u001b[A\n",
            "553it [04:57,  1.88it/s]\u001b[A\n",
            "555it [04:57,  2.30it/s]\u001b[A\n",
            "556it [04:59,  1.50it/s]\u001b[A\n",
            "558it [05:00,  1.42it/s]\u001b[A\n",
            "559it [05:00,  1.76it/s]\u001b[A\n",
            "560it [05:01,  2.16it/s]\u001b[A\n",
            "561it [05:01,  2.03it/s]\u001b[A\n",
            "562it [05:02,  2.23it/s]\u001b[A\n",
            "563it [05:02,  2.86it/s]\u001b[A\n",
            "564it [05:02,  2.33it/s]\u001b[A\n",
            "565it [05:03,  2.26it/s]\u001b[A\n",
            "566it [05:03,  2.50it/s]\u001b[A\n",
            "567it [05:03,  3.18it/s]\u001b[A\n",
            "568it [05:04,  2.71it/s]\u001b[A\n",
            "569it [05:04,  2.70it/s]\u001b[A\n",
            "570it [05:05,  1.53it/s]\u001b[A\n",
            "571it [05:06,  1.79it/s]\u001b[A\n",
            "573it [05:06,  2.42it/s]\u001b[A\n",
            "574it [05:07,  1.67it/s]\u001b[A\n",
            "575it [05:07,  2.19it/s]\u001b[A\n",
            "576it [05:07,  2.50it/s]\u001b[A\n",
            "577it [05:08,  2.09it/s]\u001b[A\n",
            "578it [05:08,  2.25it/s]\u001b[A\n",
            "579it [05:09,  2.50it/s]\u001b[A\n",
            "580it [05:09,  1.99it/s]\u001b[A\n",
            "581it [05:09,  2.54it/s]\u001b[A\n",
            "582it [05:10,  3.21it/s]\u001b[A\n",
            "583it [05:11,  1.37it/s]\u001b[A\n",
            "585it [05:12,  1.75it/s]\u001b[A\n",
            "586it [05:13,  1.51it/s]\u001b[A\n",
            "587it [05:13,  1.59it/s]\u001b[A\n",
            "588it [05:13,  1.94it/s]\u001b[A\n",
            "589it [05:14,  1.53it/s]\u001b[A\n",
            "590it [05:15,  1.83it/s]\u001b[A\n",
            "591it [05:15,  2.24it/s]\u001b[A\n",
            "592it [05:15,  2.90it/s]\u001b[A\n",
            "593it [05:15,  2.47it/s]\u001b[A\n",
            "594it [05:16,  2.26it/s]\u001b[A\n",
            "595it [05:16,  2.91it/s]\u001b[A\n",
            "596it [05:17,  1.85it/s]\u001b[A\n",
            "597it [05:17,  2.37it/s]\u001b[A\n",
            "598it [05:18,  1.96it/s]\u001b[A\n",
            "599it [05:19,  1.39it/s]\u001b[A\n",
            "600it [05:19,  1.80it/s]\u001b[A\n",
            "601it [05:20,  1.50it/s]\u001b[A\n",
            "602it [05:21,  1.74it/s]\u001b[A\n",
            "603it [05:21,  1.92it/s]\u001b[A\n",
            "604it [05:23,  1.03s/it]\u001b[A\n",
            "605it [05:24,  1.25it/s]\u001b[A\n",
            "607it [05:25,  1.34it/s]\u001b[A\n",
            "609it [05:26,  1.49it/s]\u001b[A\n",
            "610it [05:27,  1.33it/s]\u001b[A\n",
            "611it [05:27,  1.60it/s]\u001b[A\n",
            "612it [05:27,  1.76it/s]\u001b[A\n",
            "613it [05:28,  1.87it/s]\u001b[A\n",
            "614it [05:28,  2.21it/s]\u001b[A\n",
            "615it [05:28,  2.43it/s]\u001b[A\n",
            "617it [05:29,  2.50it/s]\u001b[A\n",
            "618it [05:30,  2.11it/s]\u001b[A\n",
            "619it [05:30,  2.64it/s]\u001b[A\n",
            "620it [05:30,  2.86it/s]\u001b[A\n",
            "621it [05:31,  2.33it/s]\u001b[A\n",
            "622it [05:31,  2.41it/s]\u001b[A\n",
            "623it [05:32,  2.49it/s]\u001b[A\n",
            "624it [05:33,  1.84it/s]\u001b[A\n",
            "626it [05:33,  1.88it/s]\n"
          ],
          "name": "stderr"
        }
      ]
    },
    {
      "cell_type": "markdown",
      "metadata": {
        "id": "oBedrYYkkciP"
      },
      "source": [
        "## Check Tensor Shapes"
      ]
    },
    {
      "cell_type": "code",
      "metadata": {
        "id": "stpqo-9DVDs-"
      },
      "source": [
        "#tmp = data.loc[:9,BSSID_FEATS]\n",
        "tmp = temp['BSSID_FEATS'].long()\n",
        "#tmp_ids = []\n",
        "#for i in range(20):\n",
        "#    tmp_ids.extend(tmp.iloc[:,i].values.tolist())\n",
        "#tmp_ids = len(list(set(tmp_ids)))\n",
        "_emb = nn.Embedding(wifi_bssids_size, 64)\n",
        "#_res = _emb(torch.tensor(tmp.values.astype(float)).long())\n",
        "_res = _emb(tmp)\n",
        "_res = torch.flatten(_res, start_dim=-2)\n",
        "#torch.tensor(tmp.values).size()\n",
        "\n",
        "#tmp2 = data.loc[:9,RSSI_FEATS]\n",
        "tmp2 = temp['RSSI_FEATS']\n",
        "#tmp2_ids = []\n",
        "#for i in range(20):\n",
        "#    tmp2_ids.extend(tmp2.iloc[:,i].values.tolist())\n",
        "#tmp2_ids = len(list(set(tmp2_ids)))\n",
        "lr = nn.Linear(20, 1280)\n",
        "_res2 = lr(tmp2.float())\n",
        "\n",
        "#tmp3 = data.loc[:9,\"site_id\"]\n",
        "tmp3 = temp['site_id']\n",
        "_emb2 = nn.Embedding(site_count, 2)\n",
        "_res3 = _emb2(tmp3.long())\n",
        "_res3 = torch.flatten(_res3, start_dim=-1)"
      ],
      "execution_count": null,
      "outputs": []
    },
    {
      "cell_type": "code",
      "metadata": {
        "id": "mXT4mIq2VU4g"
      },
      "source": [
        "_res.size(), _res2.size(), _res3.size()"
      ],
      "execution_count": null,
      "outputs": []
    },
    {
      "cell_type": "code",
      "metadata": {
        "id": "1krRsdrxZrca"
      },
      "source": [
        "_all = torch.cat([_res, _res2, _res3], dim=-1)\n",
        "_all = nn.Linear(2562, 256)(_all)"
      ],
      "execution_count": null,
      "outputs": []
    },
    {
      "cell_type": "code",
      "metadata": {
        "id": "6zB61jo8btzQ"
      },
      "source": [
        "_all.size()"
      ],
      "execution_count": null,
      "outputs": []
    },
    {
      "cell_type": "code",
      "metadata": {
        "id": "GW-xJQ7Qcr86"
      },
      "source": [
        "#_un = _all.unsqueeze(-2)\n",
        "_un = _all.clone()\n",
        "_un.size()"
      ],
      "execution_count": null,
      "outputs": []
    },
    {
      "cell_type": "code",
      "metadata": {
        "id": "aUPdtfyTfPPD"
      },
      "source": [
        "#_tr = _un.transpose(0, 1)\n",
        "#_tr = _tr.transpose(0, 1)\n",
        "_tr = _un.clone()\n",
        "_tr.size()"
      ],
      "execution_count": null,
      "outputs": []
    },
    {
      "cell_type": "code",
      "metadata": {
        "id": "SgQBw3x0fbOv"
      },
      "source": [
        "_lstm1 = nn.LSTM(input_size=256,hidden_size=128, dropout=0.3, bidirectional=False, batch_first=True)\n",
        "_ls1, _ = _lstm1(_tr)\n",
        "_ls1.size()"
      ],
      "execution_count": null,
      "outputs": []
    },
    {
      "cell_type": "code",
      "metadata": {
        "id": "uQBxHWDVgKZj"
      },
      "source": [
        "#_xy = _ls1.transpose(0, 1)\n",
        "#_xy = _ls1.reshape(-1,128)\n",
        "_xy = _ls1.clone()\n",
        "_xy = nn.Linear(128,2)(_xy)\n",
        "_xy.size()"
      ],
      "execution_count": null,
      "outputs": []
    },
    {
      "cell_type": "code",
      "metadata": {
        "id": "OzbiAEwJn2_o"
      },
      "source": [
        "_xy.squeeze(-2).size()"
      ],
      "execution_count": null,
      "outputs": []
    },
    {
      "cell_type": "code",
      "metadata": {
        "id": "IXPhtXcZoA5N"
      },
      "source": [
        "_tr.flatten().size()"
      ],
      "execution_count": null,
      "outputs": []
    },
    {
      "cell_type": "code",
      "metadata": {
        "id": "6q03OABMh75a"
      },
      "source": [
        "x = temp['x'].float().unsqueeze(-1)\n",
        "y = temp['y'].float().unsqueeze(-1)\n",
        "floor = temp['floor'].long()\n",
        "#xy, floor = net(data_dict)\n",
        "label = torch.cat([x, y], dim=-1)\n",
        "#loss = mse(xy, label)\n",
        "floor.size()"
      ],
      "execution_count": null,
      "outputs": []
    },
    {
      "cell_type": "markdown",
      "metadata": {
        "id": "ti6qGYUTh8nR"
      },
      "source": [
        "# Some EDA"
      ]
    },
    {
      "cell_type": "code",
      "metadata": {
        "id": "LO362YlOh-eI"
      },
      "source": [
        "from pathlib import Path\n",
        "base_path = Path('./')\n",
        "train_path = base_path / 'train'\n",
        "trains = list(train_path.glob('**/*.txt'))\n",
        "temp = read_data_file(trains[0])"
      ],
      "execution_count": null,
      "outputs": []
    },
    {
      "cell_type": "code",
      "metadata": {
        "id": "ObtLwVpPpCW-"
      },
      "source": [
        "temp.acce.shape, temp.acce_uncali.shape, temp.wifi.shape, temp.waypoint.shape, temp.ahrs.shape, temp.gyro.shape, temp.ibeacon.shape, temp.magn.shape"
      ],
      "execution_count": null,
      "outputs": []
    },
    {
      "cell_type": "code",
      "metadata": {
        "id": "fQz8u0-3tmE9"
      },
      "source": [
        "temp.acce"
      ],
      "execution_count": null,
      "outputs": []
    },
    {
      "cell_type": "code",
      "metadata": {
        "id": "z_siDjP8uqr6"
      },
      "source": [
        ""
      ],
      "execution_count": null,
      "outputs": []
    }
  ]
}