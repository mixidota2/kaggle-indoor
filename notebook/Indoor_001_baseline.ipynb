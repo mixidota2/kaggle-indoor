{
  "nbformat": 4,
  "nbformat_minor": 0,
  "metadata": {
    "colab": {
      "name": "Indoor_001_baseline.ipynb",
      "provenance": [],
      "collapsed_sections": [],
      "toc_visible": true,
      "machine_shape": "hm",
      "mount_file_id": "1BvR8HA789V1HCAAyMyi5cODGRAI0dADN",
      "authorship_tag": "ABX9TyMyAEvcljEFxShBc1dQ4cOf",
      "include_colab_link": true
    },
    "kernelspec": {
      "name": "python3",
      "display_name": "Python 3"
    },
    "accelerator": "GPU"
  },
  "cells": [
    {
      "cell_type": "markdown",
      "metadata": {
        "id": "view-in-github",
        "colab_type": "text"
      },
      "source": [
        "<a href=\"https://colab.research.google.com/github/mixidota2/kaggle-indoor/blob/main/notebook/Indoor_001_baseline.ipynb\" target=\"_parent\"><img src=\"https://colab.research.google.com/assets/colab-badge.svg\" alt=\"Open In Colab\"/></a>"
      ]
    },
    {
      "cell_type": "markdown",
      "metadata": {
        "id": "iByMsYwExpm5"
      },
      "source": [
        "## Overview\n",
        "- Baselineを構築するためのnotebook\n",
        "- とりあえずデータ読んで最低限のsubをするだけを目的とする"
      ]
    },
    {
      "cell_type": "code",
      "metadata": {
        "colab": {
          "base_uri": "https://localhost:8080/"
        },
        "id": "sfydvjf5tZRS",
        "outputId": "f5822e17-929d-4daa-d98a-1a3cce35fc98"
      },
      "source": [
        "!nvidia-smi"
      ],
      "execution_count": 2,
      "outputs": [
        {
          "output_type": "stream",
          "text": [
            "Tue Mar 30 10:07:17 2021       \n",
            "+-----------------------------------------------------------------------------+\n",
            "| NVIDIA-SMI 460.56       Driver Version: 460.32.03    CUDA Version: 11.2     |\n",
            "|-------------------------------+----------------------+----------------------+\n",
            "| GPU  Name        Persistence-M| Bus-Id        Disp.A | Volatile Uncorr. ECC |\n",
            "| Fan  Temp  Perf  Pwr:Usage/Cap|         Memory-Usage | GPU-Util  Compute M. |\n",
            "|                               |                      |               MIG M. |\n",
            "|===============================+======================+======================|\n",
            "|   0  Tesla P100-PCIE...  Off  | 00000000:00:04.0 Off |                    0 |\n",
            "| N/A   40C    P0    27W / 250W |      0MiB / 16280MiB |      0%      Default |\n",
            "|                               |                      |                  N/A |\n",
            "+-------------------------------+----------------------+----------------------+\n",
            "                                                                               \n",
            "+-----------------------------------------------------------------------------+\n",
            "| Processes:                                                                  |\n",
            "|  GPU   GI   CI        PID   Type   Process name                  GPU Memory |\n",
            "|        ID   ID                                                   Usage      |\n",
            "|=============================================================================|\n",
            "|  No running processes found                                                 |\n",
            "+-----------------------------------------------------------------------------+\n"
          ],
          "name": "stdout"
        }
      ]
    },
    {
      "cell_type": "code",
      "metadata": {
        "id": "Qv6OXDKnC4_C"
      },
      "source": [
        "import os\n",
        "filename = \"/root/.kaggle/kaggle.json\"\n",
        "os.makedirs(os.path.dirname(filename), exist_ok=True)\n",
        "!mkdir -p ~/.kaggle\n",
        "!mv kaggle.json ~/.kaggle/\n",
        "os.chmod(filename, 600)"
      ],
      "execution_count": 3,
      "outputs": []
    },
    {
      "cell_type": "code",
      "metadata": {
        "id": "OpzXfheXz8pn",
        "colab": {
          "base_uri": "https://localhost:8080/"
        },
        "outputId": "6af1c2a7-827a-42da-99be-ab1becc0536c"
      },
      "source": [
        "!kaggle datasets download -d kokitanisaka/indoorunifiedwifids\n",
        "!unzip indoorunifiedwifids.zip > /dev/null"
      ],
      "execution_count": 4,
      "outputs": [
        {
          "output_type": "stream",
          "text": [
            "Downloading indoorunifiedwifids.zip to /content\n",
            " 99% 458M/463M [00:04<00:00, 116MB/s] \n",
            "100% 463M/463M [00:04<00:00, 111MB/s]\n"
          ],
          "name": "stdout"
        }
      ]
    },
    {
      "cell_type": "code",
      "metadata": {
        "id": "Xwcwo-NOq8wu",
        "colab": {
          "base_uri": "https://localhost:8080/"
        },
        "outputId": "87b9306f-b248-4f50-97bd-055de83f6c5e"
      },
      "source": [
        "import os\n",
        "import gc\n",
        "import glob \n",
        "import copy\n",
        "import pickle\n",
        "import random\n",
        "\n",
        "import pandas as pd\n",
        "import numpy as np\n",
        "\n",
        "import yaml\n",
        "from tqdm import tqdm\n",
        "from joblib import Parallel, delayed\n",
        "\n",
        "import seaborn as sns\n",
        "import matplotlib.pyplot as plt\n",
        "\n",
        "import cv2\n",
        "\n",
        "import scipy.stats as stats\n",
        "\n",
        "from sklearn.model_selection import StratifiedKFold\n",
        "from sklearn.preprocessing import StandardScaler, LabelEncoder\n",
        "from sklearn.metrics import mean_squared_error\n",
        "from sklearn.decomposition import TruncatedSVD\n",
        "\n",
        "import torch\n",
        "import torch.nn as nn \n",
        "import torch.nn.functional as F\n",
        "from torch.utils.data import Dataset, DataLoader\n",
        "\n",
        "tqdm.pandas(position=0, leave=True)"
      ],
      "execution_count": 5,
      "outputs": [
        {
          "output_type": "stream",
          "text": [
            "/usr/local/lib/python3.7/dist-packages/tqdm/std.py:658: FutureWarning: The Panel class is removed from pandas. Accessing it from the top-level namespace will also be removed in the next version\n",
            "  from pandas import Panel\n"
          ],
          "name": "stderr"
        }
      ]
    },
    {
      "cell_type": "code",
      "metadata": {
        "id": "PLKBfnyNE_Wq"
      },
      "source": [
        "# consts\n",
        "N_SPLITS = 5\n",
        "\n",
        "SEED = 42\n",
        "\n",
        "NUM_FEATS = 20"
      ],
      "execution_count": 6,
      "outputs": []
    },
    {
      "cell_type": "code",
      "metadata": {
        "id": "2I9gH31gFKty"
      },
      "source": [
        "def seed_everything(seed=42):\n",
        "    random.seed(seed)\n",
        "    os.environ['PYTHONHASHSEED'] = str(seed)\n",
        "    np.random.seed(seed)\n",
        "    torch.backends.cudnn.deterministic = True\n",
        "    torch.backends.cudnn.benchmark = False\n",
        "    torch.manual_seed(seed)\n",
        "    torch.cuda.manual_seed_all(seed)\n",
        "def get_timestamp():\n",
        "    import time\n",
        "    timestamp = ''\n",
        "    for i, d in enumerate(time.localtime()):\n",
        "        if i == 3:\n",
        "            d += 8\n",
        "        timestamp += str(d) + '-'\n",
        "        if i == 4:\n",
        "            break\n",
        "    return timestamp[:-1]\n",
        "def comp_metric(xhat, yhat, fhat, x, y, f):\n",
        "    intermediate = np.sqrt((xhat-x)**2 + (yhat-y)**2) + 15 * np.abs(fhat-f)\n",
        "#     intermediate = np.sqrt((xhat-x)**2 + (yhat-y)**2)\n",
        "    return intermediate.sum()/xhat.shape[0]"
      ],
      "execution_count": 7,
      "outputs": []
    },
    {
      "cell_type": "markdown",
      "metadata": {
        "id": "LnJEEwLyIg_S"
      },
      "source": [
        "## Preprocess"
      ]
    },
    {
      "cell_type": "code",
      "metadata": {
        "id": "jS_j1O-QtYHr"
      },
      "source": [
        "with open(f'train_all.pkl', 'rb') as f:\n",
        "  data = pickle.load( f)\n",
        "with open(f'test_all.pkl', 'rb') as f:\n",
        "  test_data = pickle.load(f)"
      ],
      "execution_count": 8,
      "outputs": []
    },
    {
      "cell_type": "code",
      "metadata": {
        "id": "G4iftOvO25wE"
      },
      "source": [
        "# count n features\n",
        "BSSID_FEATS = [f'bssid_{i}' for i in range(NUM_FEATS)]\n",
        "RSSI_FEATS  = [f'rssi_{i}' for i in range(NUM_FEATS)]"
      ],
      "execution_count": 9,
      "outputs": []
    },
    {
      "cell_type": "code",
      "metadata": {
        "colab": {
          "base_uri": "https://localhost:8080/"
        },
        "id": "c5VgTOkLFUrZ",
        "outputId": "595798a3-2a19-435e-d21a-dbbaeff89b4a"
      },
      "source": [
        "# get unique wifi bssids\n",
        "wifi_bssids = []\n",
        "for i in range(100):\n",
        "    wifi_bssids.extend(data.iloc[:,i].values.tolist())\n",
        "wifi_bssids = list(set(wifi_bssids))\n",
        "\n",
        "wifi_bssids_size = len(wifi_bssids)\n",
        "print(f'BSSID TYPES: {wifi_bssids_size}')\n",
        "\n",
        "wifi_bssids_test = []\n",
        "for i in range(100):\n",
        "    wifi_bssids_test.extend(test_data.iloc[:,i].values.tolist())\n",
        "wifi_bssids_test = list(set(wifi_bssids_test))\n",
        "\n",
        "wifi_bssids_size = len(wifi_bssids_test)\n",
        "print(f'BSSID TYPES: {wifi_bssids_size}')\n",
        "\n",
        "wifi_bssids.extend(wifi_bssids_test)\n",
        "wifi_bssids_size = len(wifi_bssids)"
      ],
      "execution_count": 10,
      "outputs": [
        {
          "output_type": "stream",
          "text": [
            "BSSID TYPES: 61206\n",
            "BSSID TYPES: 33042\n"
          ],
          "name": "stdout"
        }
      ]
    },
    {
      "cell_type": "code",
      "metadata": {
        "colab": {
          "base_uri": "https://localhost:8080/"
        },
        "id": "mhmlcJ-CF0hb",
        "outputId": "7a4fbfd8-5f54-48a7-a16a-2b3ca842f757"
      },
      "source": [
        "# preprocess\n",
        "\n",
        "le = LabelEncoder()\n",
        "le.fit(wifi_bssids)\n",
        "le_site = LabelEncoder()\n",
        "le_site.fit(data['site_id'])\n",
        "\n",
        "ss = StandardScaler()\n",
        "ss.fit(data.loc[:,RSSI_FEATS])"
      ],
      "execution_count": 11,
      "outputs": [
        {
          "output_type": "execute_result",
          "data": {
            "text/plain": [
              "StandardScaler(copy=True, with_mean=True, with_std=True)"
            ]
          },
          "metadata": {
            "tags": []
          },
          "execution_count": 11
        }
      ]
    },
    {
      "cell_type": "code",
      "metadata": {
        "id": "xdBSEoUuG8no"
      },
      "source": [
        "# apply transforms\n",
        "\n",
        "data.loc[:,RSSI_FEATS] = ss.transform(data.loc[:,RSSI_FEATS])\n",
        "for i in BSSID_FEATS:\n",
        "    data.loc[:,i] = le.transform(data.loc[:,i])\n",
        "    data.loc[:,i] = data.loc[:,i] + 1\n",
        "    \n",
        "data.loc[:, 'site_id'] = le_site.transform(data.loc[:, 'site_id'])\n",
        "\n",
        "data.loc[:,RSSI_FEATS] = ss.transform(data.loc[:,RSSI_FEATS])"
      ],
      "execution_count": 12,
      "outputs": []
    },
    {
      "cell_type": "code",
      "metadata": {
        "id": "4nawWBptHyXp"
      },
      "source": [
        "test_data.loc[:,RSSI_FEATS] = ss.transform(test_data.loc[:,RSSI_FEATS])\n",
        "for i in BSSID_FEATS:\n",
        "    test_data.loc[:,i] = le.transform(test_data.loc[:,i])\n",
        "    test_data.loc[:,i] = test_data.loc[:,i] + 1\n",
        "    \n",
        "test_data.loc[:, 'site_id'] = le_site.transform(test_data.loc[:, 'site_id'])\n",
        "\n",
        "test_data.loc[:,RSSI_FEATS] = ss.transform(test_data.loc[:,RSSI_FEATS])"
      ],
      "execution_count": 13,
      "outputs": []
    },
    {
      "cell_type": "code",
      "metadata": {
        "id": "Hz-7Nk_FH_5d"
      },
      "source": [
        "site_count = len(data['site_id'].unique())\n",
        "data.reset_index(drop=True, inplace=True)"
      ],
      "execution_count": 14,
      "outputs": []
    },
    {
      "cell_type": "code",
      "metadata": {
        "id": "JefQyLY7IDdG"
      },
      "source": [
        "seed_everything(SEED)"
      ],
      "execution_count": 15,
      "outputs": []
    },
    {
      "cell_type": "code",
      "metadata": {
        "id": "xCTLpK1CIE7t"
      },
      "source": [
        ""
      ],
      "execution_count": 15,
      "outputs": []
    },
    {
      "cell_type": "markdown",
      "metadata": {
        "id": "-1erbGwIJnH7"
      },
      "source": [
        "## Some EDA"
      ]
    },
    {
      "cell_type": "code",
      "metadata": {
        "id": "Li-SHH9WKsQx"
      },
      "source": [
        "#plt.figure(figsize=(10,3))\n",
        "#max_iter = 10\n",
        "#for i, (name, group) in enumerate(data.groupby(\"path\")):\n",
        "#    sns.lineplot(data=group, y=RSSI_FEATS[0], x=range(group.shape[0]))\n",
        "#    if i > max_iter:\n",
        "#        break\n",
        "#plt.figure(figsize=(10,3))\n",
        "#for i, (name, group) in enumerate(data.groupby(\"path\")):\n",
        "#    sns.lineplot(data=group, y=\"x\", x=range(group.shape[0]))\n",
        "#    if i > max_iter:\n",
        "#        break\n",
        "#plt.figure(figsize=(10,3))\n",
        "#for i, (name, group) in enumerate(data.groupby(\"path\")):\n",
        "#    sns.lineplot(data=group, y=\"y\", x=range(group.shape[0]))\n",
        "#    if i > max_iter:\n",
        "#        break"
      ],
      "execution_count": 16,
      "outputs": []
    },
    {
      "cell_type": "code",
      "metadata": {
        "id": "MkIaf4r-JnfM"
      },
      "source": [
        "#tmp = data.loc[:,RSSI_FEATS]\n",
        "#tmp.head(10)"
      ],
      "execution_count": 17,
      "outputs": []
    },
    {
      "cell_type": "markdown",
      "metadata": {
        "id": "k3ltakG5IpS3"
      },
      "source": [
        "## Modeling"
      ]
    },
    {
      "cell_type": "code",
      "metadata": {
        "id": "FTU96LMIIqrJ"
      },
      "source": [
        "class IndoorDataset(Dataset):\n",
        "    def __init__(self, data, flag='TRAIN'):\n",
        "        self.data = data\n",
        "        self.flag = flag\n",
        "    def __len__(self):\n",
        "        return self.data.shape[0]\n",
        "    def __getitem__(self, index):\n",
        "        tmp_data = self.data.iloc[index]\n",
        "        if self.flag == 'TRAIN':\n",
        "            return {\n",
        "                'BSSID_FEATS':tmp_data[BSSID_FEATS].values.astype(float),\n",
        "                'RSSI_FEATS':tmp_data[RSSI_FEATS].values.astype(float),\n",
        "                'site_id':tmp_data['site_id'].astype(int),\n",
        "                'x':tmp_data['x'],\n",
        "                'y':tmp_data['y'],\n",
        "                'floor':tmp_data['floor'],\n",
        "            }\n",
        "        else:\n",
        "            return {\n",
        "                'BSSID_FEATS':tmp_data[BSSID_FEATS].values.astype(float),\n",
        "                'RSSI_FEATS':tmp_data[RSSI_FEATS].values.astype(float),\n",
        "                'site_id':tmp_data['site_id'].astype(int)\n",
        "            }"
      ],
      "execution_count": 18,
      "outputs": []
    },
    {
      "cell_type": "code",
      "metadata": {
        "id": "-ehQOeMKI2mJ"
      },
      "source": [
        "class SimpleLSTM(nn.Module):\n",
        "    def __init__(self, embedding_dim = 64, seq_len=20):\n",
        "        super(SimpleLSTM, self).__init__()\n",
        "        self.emb_BSSID_FEATS = nn.Embedding(wifi_bssids_size, embedding_dim)\n",
        "        self.emb_site_id = nn.Embedding(site_count, 2)\n",
        "        self.lstm1 = nn.LSTM(input_size=256,hidden_size=128, dropout=0.3, bidirectional=False)\n",
        "        self.lstm2 = nn.LSTM(input_size=128,hidden_size=16, dropout=0.1, bidirectional=False)\n",
        "        self.lr = nn.Linear(NUM_FEATS, NUM_FEATS * embedding_dim)\n",
        "        self.lr1 = nn.Linear(2562, 256)\n",
        "        self.lr_xy = nn.Linear(16, 2)\n",
        "        self.lr_floor = nn.Linear(16, 1)\n",
        "        self.batch_norm1 = nn.BatchNorm1d(NUM_FEATS)\n",
        "        self.batch_norm2 = nn.BatchNorm1d(2562)\n",
        "        self.batch_norm3 = nn.BatchNorm1d(1)\n",
        "        self.dropout = nn.Dropout(0.3)\n",
        "    def forward(self, x):\n",
        "        \n",
        "        x_bssid = self.emb_BSSID_FEATS(x['BSSID_FEATS'])\n",
        "        x_bssid = torch.flatten(x_bssid, start_dim=-2)\n",
        "        \n",
        "        x_site_id = self.emb_site_id(x['site_id'])\n",
        "        x_site_id = torch.flatten(x_site_id, start_dim=-1)\n",
        "        x_rssi = self.batch_norm1(x['RSSI_FEATS'])\n",
        "        x_rssi = self.lr(x_rssi)\n",
        "        x_rssi = torch.relu(x_rssi)\n",
        "        \n",
        "        x = torch.cat([x_bssid, x_site_id, x_rssi], dim=-1)\n",
        "        x = self.batch_norm2(x)\n",
        "        x = self.dropout(x)\n",
        "        x = torch.relu(self.lr1(x))\n",
        "\n",
        "        x = x.unsqueeze(-2)\n",
        "        x = self.batch_norm3(x)\n",
        "        x = x.transpose(0, 1)\n",
        "        x, _ = self.lstm1(x)\n",
        "        x = x.transpose(0, 1)\n",
        "        x = torch.relu(x)\n",
        "        x = x.transpose(0, 1)\n",
        "        x, _ = self.lstm2(x)\n",
        "        x = x.transpose(0, 1)\n",
        "        x = torch.relu(x)\n",
        "        xy = self.lr_xy(x)\n",
        "        floor = self.lr_floor(x)\n",
        "        floor = torch.relu(floor)\n",
        "        return xy.squeeze(-2), floor.squeeze(-2)"
      ],
      "execution_count": 19,
      "outputs": []
    },
    {
      "cell_type": "code",
      "metadata": {
        "id": "JG8UZ8Htkltz"
      },
      "source": [
        "def evaluate(net, data_loader,  device='cuda'):\n",
        "    net.to(device)\n",
        "    net.eval()\n",
        "    x_list = []\n",
        "    y_list = []\n",
        "    floor_list = []\n",
        "    prexs_list = []\n",
        "    preys_list = []\n",
        "    prefloors_list = []\n",
        "    for d in tqdm(data_loader, position=0):\n",
        "        data_dict = {}\n",
        "        data_dict['BSSID_FEATS'] = d['BSSID_FEATS'].to(device).long()\n",
        "        data_dict['RSSI_FEATS'] = d['RSSI_FEATS'].to(device).float()\n",
        "        data_dict['site_id'] = d['site_id'].to(device).long()\n",
        "        x = d['x'].to(device).float()\n",
        "        y = d['y'].to(device).float()\n",
        "        floor = d['floor'].to(device).long()\n",
        "        x_list.append(x.cpu().detach().numpy())\n",
        "        y_list.append(y.cpu().detach().numpy())\n",
        "        floor_list.append(floor.cpu().detach().numpy())\n",
        "        xy, floor = net(data_dict)\n",
        "        prexs_list.append(xy[:, 0].cpu().detach().numpy())\n",
        "        preys_list.append(xy[:, 1].cpu().detach().numpy())\n",
        "        prefloors_list.append(floor.squeeze().cpu().detach().numpy())\n",
        "    x = np.concatenate(x_list)\n",
        "    y = np.concatenate(y_list)\n",
        "    floor = np.concatenate(floor_list)\n",
        "    prexs = np.concatenate(prexs_list)\n",
        "    preys =np.concatenate(preys_list)\n",
        "    prefloors = np.concatenate(prefloors_list)\n",
        "    eval_score = comp_metric(x, y, floor, prexs, preys, prefloors)\n",
        "    return eval_score\n",
        "def get_result(net, data_loader, device='cuda'):\n",
        "    net.eval()\n",
        "    net.to(device)\n",
        "    prexs_list = []\n",
        "    preys_list = []\n",
        "    prefloors_list = []\n",
        "    data_dict = {}\n",
        "    for d in tqdm(data_loader, position=0):\n",
        "        data_dict['BSSID_FEATS'] = d['BSSID_FEATS'].to(device).long()\n",
        "        data_dict['RSSI_FEATS'] = d['RSSI_FEATS'].to(device).float()\n",
        "        data_dict['site_id'] = d['site_id'].to(device).long()\n",
        "        xy, floor = net(data_dict)\n",
        "        prexs_list.append(xy[:, 0].cpu().detach().numpy())\n",
        "        preys_list.append(xy[:, 1].cpu().detach().numpy())\n",
        "        prefloors_list.append(floor.squeeze(-1).cpu().detach().numpy())\n",
        "    prexs = np.concatenate(prexs_list)\n",
        "    preys =np.concatenate(preys_list)\n",
        "    prefloors = np.concatenate(prefloors_list)\n",
        "    return prexs, preys, prefloors"
      ],
      "execution_count": 20,
      "outputs": []
    },
    {
      "cell_type": "markdown",
      "metadata": {
        "id": "YeeTEr3ClZY2"
      },
      "source": [
        "## Training"
      ]
    },
    {
      "cell_type": "code",
      "metadata": {
        "colab": {
          "base_uri": "https://localhost:8080/"
        },
        "id": "6zK8YeGfklwS",
        "outputId": "6d7905f4-d449-4c15-8fc8-eceecee4ab5e"
      },
      "source": [
        "score_df = pd.DataFrame()\n",
        "oof = list()\n",
        "predictions = list()\n",
        "\n",
        "oof_x, oof_y, oof_f = np.zeros(data.shape[0]), np.zeros(data.shape[0]), np.zeros(data.shape[0])\n",
        "preds_x, preds_y = 0, 0\n",
        "preds_f_arr = np.zeros((test_data.shape[0], N_SPLITS))\n",
        "\n",
        "for fold, (trn_idx, val_idx) in enumerate(StratifiedKFold(n_splits=N_SPLITS, shuffle=True, random_state=SEED).split(data.loc[:, 'path'], data.loc[:, 'path'])):\n",
        "\n",
        "    train_data = data.loc[trn_idx]\n",
        "    valid_data = data.loc[val_idx]\n",
        "    train_dataset = IndoorDataset(train_data)\n",
        "    train_dataloader = DataLoader(train_dataset, batch_size=128, shuffle=True, num_workers=2, pin_memory=True)\n",
        "    valid_dataset = IndoorDataset(valid_data)\n",
        "    valid_dataloader = DataLoader(valid_dataset, batch_size=128, shuffle=True, num_workers=2, pin_memory=True)\n",
        "    test_dataset = IndoorDataset(test_data, 'TEST')\n",
        "    test_dataloader = DataLoader(test_dataset, batch_size=128, shuffle=False, num_workers=2, pin_memory=True)\n",
        "    device = 'cuda' if torch.cuda.is_available() else 'cpu'\n",
        "    net = SimpleLSTM()\n",
        "    net = net.to(device)\n",
        "\n",
        "    mse = nn.MSELoss()\n",
        "    mse = mse.to(device)\n",
        "    optim = torch.optim.Adam(net.parameters(), lr=5e-3)\n",
        "\n",
        "    best_loss = 1000\n",
        "    num_epochs = 15\n",
        "    best_epoch = 0\n",
        "    for epoch in range(num_epochs):\n",
        "        net.train()\n",
        "        losses = []\n",
        "        pbar = tqdm(train_dataloader, position=0)\n",
        "        for d in pbar:\n",
        "            data_dict = {}\n",
        "            data_dict['BSSID_FEATS'] = d['BSSID_FEATS'].to(device).long()\n",
        "            data_dict['RSSI_FEATS'] = d['RSSI_FEATS'].to(device).float()\n",
        "            data_dict['site_id'] = d['site_id'].to(device).long()\n",
        "            x = d['x'].to(device).float().unsqueeze(-1)\n",
        "            y = d['y'].to(device).float().unsqueeze(-1)\n",
        "            floor = d['floor'].to(device).long()\n",
        "            xy, floor = net(data_dict)\n",
        "            label = torch.cat([x, y], dim=-1)\n",
        "            loss = mse(xy, label)\n",
        "            loss.backward()\n",
        "            optim.step()\n",
        "            optim.zero_grad()\n",
        "            losses.append(loss.cpu().detach().numpy())\n",
        "            pbar.set_description(f'loss:{np.mean(losses)}')\n",
        "            data_dict['BSSID_FEATS'] = data_dict['BSSID_FEATS'].detach()\n",
        "            data_dict['RSSI_FEATS'] = data_dict['RSSI_FEATS'].detach()\n",
        "            data_dict['site_id'] = data_dict['site_id'].detach()\n",
        "            del x, y, xy, floor, label, data_dict, loss, d\n",
        "            gc.collect()\n",
        "            torch.cuda.empty_cache()\n",
        "        score = evaluate(net, valid_dataloader, device)\n",
        "        if score < best_loss:\n",
        "            best_loss = score\n",
        "            best_epoch = epoch\n",
        "            best_model = copy.deepcopy(net)\n",
        "        if best_epoch + 2 < epoch:\n",
        "            break\n",
        "        print(\"*=\"*50)\n",
        "        print(f\"fold {fold} EPOCH {epoch}: mean position error {score}\")\n",
        "        print(\"*=\"*50)\n",
        "    test_x, test_y, test_floor = get_result(best_model, test_dataloader, device)\n",
        "    preds_f_arr[:,fold] = test_floor\n",
        "    preds_x += test_x\n",
        "    preds_y += test_y"
      ],
      "execution_count": 21,
      "outputs": [
        {
          "output_type": "stream",
          "text": [
            "/usr/local/lib/python3.7/dist-packages/sklearn/model_selection/_split.py:667: UserWarning: The least populated class in y has only 1 members, which is less than n_splits=5.\n",
            "  % (min_groups, self.n_splits)), UserWarning)\n",
            "/usr/local/lib/python3.7/dist-packages/torch/nn/modules/rnn.py:63: UserWarning: dropout option adds dropout after all but last recurrent layer, so non-zero dropout expects num_layers greater than 1, but got dropout=0.3 and num_layers=1\n",
            "  \"num_layers={}\".format(dropout, num_layers))\n",
            "/usr/local/lib/python3.7/dist-packages/torch/nn/modules/rnn.py:63: UserWarning: dropout option adds dropout after all but last recurrent layer, so non-zero dropout expects num_layers greater than 1, but got dropout=0.1 and num_layers=1\n",
            "  \"num_layers={}\".format(dropout, num_layers))\n",
            "loss:10649.4931640625: 100%|██████████| 1614/1614 [03:48<00:00,  7.06it/s]\n",
            "100%|██████████| 404/404 [00:48<00:00,  8.37it/s]\n",
            "  0%|          | 0/1614 [00:00<?, ?it/s]"
          ],
          "name": "stderr"
        },
        {
          "output_type": "stream",
          "text": [
            "*=*=*=*=*=*=*=*=*=*=*=*=*=*=*=*=*=*=*=*=*=*=*=*=*=*=*=*=*=*=*=*=*=*=*=*=*=*=*=*=*=*=*=*=*=*=*=*=*=*=\n",
            "fold 0 EPOCH 0: mean position error 122.13354976976294\n",
            "*=*=*=*=*=*=*=*=*=*=*=*=*=*=*=*=*=*=*=*=*=*=*=*=*=*=*=*=*=*=*=*=*=*=*=*=*=*=*=*=*=*=*=*=*=*=*=*=*=*=\n"
          ],
          "name": "stdout"
        },
        {
          "output_type": "stream",
          "text": [
            "loss:5204.7900390625: 100%|██████████| 1614/1614 [03:53<00:00,  6.90it/s]\n",
            "100%|██████████| 404/404 [00:48<00:00,  8.27it/s]\n",
            "  0%|          | 0/1614 [00:00<?, ?it/s]"
          ],
          "name": "stderr"
        },
        {
          "output_type": "stream",
          "text": [
            "*=*=*=*=*=*=*=*=*=*=*=*=*=*=*=*=*=*=*=*=*=*=*=*=*=*=*=*=*=*=*=*=*=*=*=*=*=*=*=*=*=*=*=*=*=*=*=*=*=*=\n",
            "fold 0 EPOCH 1: mean position error 105.48808150108502\n",
            "*=*=*=*=*=*=*=*=*=*=*=*=*=*=*=*=*=*=*=*=*=*=*=*=*=*=*=*=*=*=*=*=*=*=*=*=*=*=*=*=*=*=*=*=*=*=*=*=*=*=\n"
          ],
          "name": "stdout"
        },
        {
          "output_type": "stream",
          "text": [
            "loss:3217.663330078125: 100%|██████████| 1614/1614 [03:54<00:00,  6.89it/s]\n",
            "100%|██████████| 404/404 [00:48<00:00,  8.34it/s]\n",
            "  0%|          | 0/1614 [00:00<?, ?it/s]"
          ],
          "name": "stderr"
        },
        {
          "output_type": "stream",
          "text": [
            "*=*=*=*=*=*=*=*=*=*=*=*=*=*=*=*=*=*=*=*=*=*=*=*=*=*=*=*=*=*=*=*=*=*=*=*=*=*=*=*=*=*=*=*=*=*=*=*=*=*=\n",
            "fold 0 EPOCH 2: mean position error 80.82157851307761\n",
            "*=*=*=*=*=*=*=*=*=*=*=*=*=*=*=*=*=*=*=*=*=*=*=*=*=*=*=*=*=*=*=*=*=*=*=*=*=*=*=*=*=*=*=*=*=*=*=*=*=*=\n"
          ],
          "name": "stdout"
        },
        {
          "output_type": "stream",
          "text": [
            "loss:2274.22216796875: 100%|██████████| 1614/1614 [03:51<00:00,  6.96it/s]\n",
            "100%|██████████| 404/404 [00:47<00:00,  8.46it/s]\n",
            "  0%|          | 0/1614 [00:00<?, ?it/s]"
          ],
          "name": "stderr"
        },
        {
          "output_type": "stream",
          "text": [
            "*=*=*=*=*=*=*=*=*=*=*=*=*=*=*=*=*=*=*=*=*=*=*=*=*=*=*=*=*=*=*=*=*=*=*=*=*=*=*=*=*=*=*=*=*=*=*=*=*=*=\n",
            "fold 0 EPOCH 3: mean position error 75.83896452537705\n",
            "*=*=*=*=*=*=*=*=*=*=*=*=*=*=*=*=*=*=*=*=*=*=*=*=*=*=*=*=*=*=*=*=*=*=*=*=*=*=*=*=*=*=*=*=*=*=*=*=*=*=\n"
          ],
          "name": "stdout"
        },
        {
          "output_type": "stream",
          "text": [
            "loss:2004.03271484375: 100%|██████████| 1614/1614 [03:50<00:00,  6.99it/s]\n",
            "100%|██████████| 404/404 [00:47<00:00,  8.42it/s]\n",
            "  0%|          | 0/1614 [00:00<?, ?it/s]"
          ],
          "name": "stderr"
        },
        {
          "output_type": "stream",
          "text": [
            "*=*=*=*=*=*=*=*=*=*=*=*=*=*=*=*=*=*=*=*=*=*=*=*=*=*=*=*=*=*=*=*=*=*=*=*=*=*=*=*=*=*=*=*=*=*=*=*=*=*=\n",
            "fold 0 EPOCH 4: mean position error 73.24200950169418\n",
            "*=*=*=*=*=*=*=*=*=*=*=*=*=*=*=*=*=*=*=*=*=*=*=*=*=*=*=*=*=*=*=*=*=*=*=*=*=*=*=*=*=*=*=*=*=*=*=*=*=*=\n"
          ],
          "name": "stdout"
        },
        {
          "output_type": "stream",
          "text": [
            "loss:1693.78271484375: 100%|██████████| 1614/1614 [03:50<00:00,  6.99it/s]\n",
            "100%|██████████| 404/404 [00:48<00:00,  8.39it/s]\n",
            "  0%|          | 0/1614 [00:00<?, ?it/s]"
          ],
          "name": "stderr"
        },
        {
          "output_type": "stream",
          "text": [
            "*=*=*=*=*=*=*=*=*=*=*=*=*=*=*=*=*=*=*=*=*=*=*=*=*=*=*=*=*=*=*=*=*=*=*=*=*=*=*=*=*=*=*=*=*=*=*=*=*=*=\n",
            "fold 0 EPOCH 5: mean position error 59.62080650542593\n",
            "*=*=*=*=*=*=*=*=*=*=*=*=*=*=*=*=*=*=*=*=*=*=*=*=*=*=*=*=*=*=*=*=*=*=*=*=*=*=*=*=*=*=*=*=*=*=*=*=*=*=\n"
          ],
          "name": "stdout"
        },
        {
          "output_type": "stream",
          "text": [
            "loss:869.453857421875: 100%|██████████| 1614/1614 [03:53<00:00,  6.91it/s]\n",
            "100%|██████████| 404/404 [00:48<00:00,  8.33it/s]\n",
            "  0%|          | 0/1614 [00:00<?, ?it/s]"
          ],
          "name": "stderr"
        },
        {
          "output_type": "stream",
          "text": [
            "*=*=*=*=*=*=*=*=*=*=*=*=*=*=*=*=*=*=*=*=*=*=*=*=*=*=*=*=*=*=*=*=*=*=*=*=*=*=*=*=*=*=*=*=*=*=*=*=*=*=\n",
            "fold 0 EPOCH 6: mean position error 46.40861018524598\n",
            "*=*=*=*=*=*=*=*=*=*=*=*=*=*=*=*=*=*=*=*=*=*=*=*=*=*=*=*=*=*=*=*=*=*=*=*=*=*=*=*=*=*=*=*=*=*=*=*=*=*=\n"
          ],
          "name": "stdout"
        },
        {
          "output_type": "stream",
          "text": [
            "loss:432.6205139160156: 100%|██████████| 1614/1614 [03:54<00:00,  6.88it/s]\n",
            "100%|██████████| 404/404 [00:48<00:00,  8.35it/s]\n",
            "  0%|          | 0/1614 [00:00<?, ?it/s]"
          ],
          "name": "stderr"
        },
        {
          "output_type": "stream",
          "text": [
            "*=*=*=*=*=*=*=*=*=*=*=*=*=*=*=*=*=*=*=*=*=*=*=*=*=*=*=*=*=*=*=*=*=*=*=*=*=*=*=*=*=*=*=*=*=*=*=*=*=*=\n",
            "fold 0 EPOCH 7: mean position error 39.31835805404489\n",
            "*=*=*=*=*=*=*=*=*=*=*=*=*=*=*=*=*=*=*=*=*=*=*=*=*=*=*=*=*=*=*=*=*=*=*=*=*=*=*=*=*=*=*=*=*=*=*=*=*=*=\n"
          ],
          "name": "stdout"
        },
        {
          "output_type": "stream",
          "text": [
            "loss:252.3743438720703: 100%|██████████| 1614/1614 [03:51<00:00,  6.98it/s]\n",
            "100%|██████████| 404/404 [00:46<00:00,  8.62it/s]\n",
            "  0%|          | 0/1614 [00:00<?, ?it/s]"
          ],
          "name": "stderr"
        },
        {
          "output_type": "stream",
          "text": [
            "*=*=*=*=*=*=*=*=*=*=*=*=*=*=*=*=*=*=*=*=*=*=*=*=*=*=*=*=*=*=*=*=*=*=*=*=*=*=*=*=*=*=*=*=*=*=*=*=*=*=\n",
            "fold 0 EPOCH 8: mean position error 36.034661425334384\n",
            "*=*=*=*=*=*=*=*=*=*=*=*=*=*=*=*=*=*=*=*=*=*=*=*=*=*=*=*=*=*=*=*=*=*=*=*=*=*=*=*=*=*=*=*=*=*=*=*=*=*=\n"
          ],
          "name": "stdout"
        },
        {
          "output_type": "stream",
          "text": [
            "loss:165.03794860839844: 100%|██████████| 1614/1614 [03:40<00:00,  7.33it/s]\n",
            "100%|██████████| 404/404 [00:47<00:00,  8.46it/s]\n",
            "  0%|          | 0/1614 [00:00<?, ?it/s]"
          ],
          "name": "stderr"
        },
        {
          "output_type": "stream",
          "text": [
            "*=*=*=*=*=*=*=*=*=*=*=*=*=*=*=*=*=*=*=*=*=*=*=*=*=*=*=*=*=*=*=*=*=*=*=*=*=*=*=*=*=*=*=*=*=*=*=*=*=*=\n",
            "fold 0 EPOCH 9: mean position error 34.22622668644303\n",
            "*=*=*=*=*=*=*=*=*=*=*=*=*=*=*=*=*=*=*=*=*=*=*=*=*=*=*=*=*=*=*=*=*=*=*=*=*=*=*=*=*=*=*=*=*=*=*=*=*=*=\n"
          ],
          "name": "stdout"
        },
        {
          "output_type": "stream",
          "text": [
            "loss:116.21392822265625: 100%|██████████| 1614/1614 [03:51<00:00,  6.98it/s]\n",
            "100%|██████████| 404/404 [00:48<00:00,  8.40it/s]\n",
            "  0%|          | 0/1614 [00:00<?, ?it/s]"
          ],
          "name": "stderr"
        },
        {
          "output_type": "stream",
          "text": [
            "*=*=*=*=*=*=*=*=*=*=*=*=*=*=*=*=*=*=*=*=*=*=*=*=*=*=*=*=*=*=*=*=*=*=*=*=*=*=*=*=*=*=*=*=*=*=*=*=*=*=\n",
            "fold 0 EPOCH 10: mean position error 33.41744001000553\n",
            "*=*=*=*=*=*=*=*=*=*=*=*=*=*=*=*=*=*=*=*=*=*=*=*=*=*=*=*=*=*=*=*=*=*=*=*=*=*=*=*=*=*=*=*=*=*=*=*=*=*=\n"
          ],
          "name": "stdout"
        },
        {
          "output_type": "stream",
          "text": [
            "loss:86.0011215209961: 100%|██████████| 1614/1614 [03:51<00:00,  6.98it/s]\n",
            "100%|██████████| 404/404 [00:47<00:00,  8.50it/s]\n",
            "  0%|          | 0/1614 [00:00<?, ?it/s]"
          ],
          "name": "stderr"
        },
        {
          "output_type": "stream",
          "text": [
            "*=*=*=*=*=*=*=*=*=*=*=*=*=*=*=*=*=*=*=*=*=*=*=*=*=*=*=*=*=*=*=*=*=*=*=*=*=*=*=*=*=*=*=*=*=*=*=*=*=*=\n",
            "fold 0 EPOCH 11: mean position error 33.238851698537644\n",
            "*=*=*=*=*=*=*=*=*=*=*=*=*=*=*=*=*=*=*=*=*=*=*=*=*=*=*=*=*=*=*=*=*=*=*=*=*=*=*=*=*=*=*=*=*=*=*=*=*=*=\n"
          ],
          "name": "stdout"
        },
        {
          "output_type": "stream",
          "text": [
            "loss:65.72671508789062: 100%|██████████| 1614/1614 [03:50<00:00,  6.99it/s]\n",
            "100%|██████████| 404/404 [00:47<00:00,  8.49it/s]\n",
            "  0%|          | 0/1614 [00:00<?, ?it/s]"
          ],
          "name": "stderr"
        },
        {
          "output_type": "stream",
          "text": [
            "*=*=*=*=*=*=*=*=*=*=*=*=*=*=*=*=*=*=*=*=*=*=*=*=*=*=*=*=*=*=*=*=*=*=*=*=*=*=*=*=*=*=*=*=*=*=*=*=*=*=\n",
            "fold 0 EPOCH 12: mean position error 32.10782973381179\n",
            "*=*=*=*=*=*=*=*=*=*=*=*=*=*=*=*=*=*=*=*=*=*=*=*=*=*=*=*=*=*=*=*=*=*=*=*=*=*=*=*=*=*=*=*=*=*=*=*=*=*=\n"
          ],
          "name": "stdout"
        },
        {
          "output_type": "stream",
          "text": [
            "loss:52.502498626708984: 100%|██████████| 1614/1614 [03:51<00:00,  6.97it/s]\n",
            "100%|██████████| 404/404 [00:47<00:00,  8.46it/s]\n",
            "  0%|          | 0/1614 [00:00<?, ?it/s]"
          ],
          "name": "stderr"
        },
        {
          "output_type": "stream",
          "text": [
            "*=*=*=*=*=*=*=*=*=*=*=*=*=*=*=*=*=*=*=*=*=*=*=*=*=*=*=*=*=*=*=*=*=*=*=*=*=*=*=*=*=*=*=*=*=*=*=*=*=*=\n",
            "fold 0 EPOCH 13: mean position error 31.750645929402538\n",
            "*=*=*=*=*=*=*=*=*=*=*=*=*=*=*=*=*=*=*=*=*=*=*=*=*=*=*=*=*=*=*=*=*=*=*=*=*=*=*=*=*=*=*=*=*=*=*=*=*=*=\n"
          ],
          "name": "stdout"
        },
        {
          "output_type": "stream",
          "text": [
            "loss:44.3199348449707: 100%|██████████| 1614/1614 [03:50<00:00,  6.99it/s]\n",
            "100%|██████████| 404/404 [00:47<00:00,  8.42it/s]\n",
            "  0%|          | 0/80 [00:00<?, ?it/s]"
          ],
          "name": "stderr"
        },
        {
          "output_type": "stream",
          "text": [
            "*=*=*=*=*=*=*=*=*=*=*=*=*=*=*=*=*=*=*=*=*=*=*=*=*=*=*=*=*=*=*=*=*=*=*=*=*=*=*=*=*=*=*=*=*=*=*=*=*=*=\n",
            "fold 0 EPOCH 14: mean position error 31.57361996569369\n",
            "*=*=*=*=*=*=*=*=*=*=*=*=*=*=*=*=*=*=*=*=*=*=*=*=*=*=*=*=*=*=*=*=*=*=*=*=*=*=*=*=*=*=*=*=*=*=*=*=*=*=\n"
          ],
          "name": "stdout"
        },
        {
          "output_type": "stream",
          "text": [
            "100%|██████████| 80/80 [00:08<00:00,  9.46it/s]\n",
            "loss:11824.9765625: 100%|██████████| 1614/1614 [03:50<00:00,  7.00it/s]\n",
            "100%|██████████| 404/404 [00:47<00:00,  8.45it/s]\n",
            "  0%|          | 0/1614 [00:00<?, ?it/s]"
          ],
          "name": "stderr"
        },
        {
          "output_type": "stream",
          "text": [
            "*=*=*=*=*=*=*=*=*=*=*=*=*=*=*=*=*=*=*=*=*=*=*=*=*=*=*=*=*=*=*=*=*=*=*=*=*=*=*=*=*=*=*=*=*=*=*=*=*=*=\n",
            "fold 1 EPOCH 0: mean position error 135.56689764790846\n",
            "*=*=*=*=*=*=*=*=*=*=*=*=*=*=*=*=*=*=*=*=*=*=*=*=*=*=*=*=*=*=*=*=*=*=*=*=*=*=*=*=*=*=*=*=*=*=*=*=*=*=\n"
          ],
          "name": "stdout"
        },
        {
          "output_type": "stream",
          "text": [
            "loss:6392.1591796875: 100%|██████████| 1614/1614 [03:51<00:00,  6.97it/s]\n",
            "100%|██████████| 404/404 [00:47<00:00,  8.54it/s]\n",
            "  0%|          | 0/1614 [00:00<?, ?it/s]"
          ],
          "name": "stderr"
        },
        {
          "output_type": "stream",
          "text": [
            "*=*=*=*=*=*=*=*=*=*=*=*=*=*=*=*=*=*=*=*=*=*=*=*=*=*=*=*=*=*=*=*=*=*=*=*=*=*=*=*=*=*=*=*=*=*=*=*=*=*=\n",
            "fold 1 EPOCH 1: mean position error 110.59719232687708\n",
            "*=*=*=*=*=*=*=*=*=*=*=*=*=*=*=*=*=*=*=*=*=*=*=*=*=*=*=*=*=*=*=*=*=*=*=*=*=*=*=*=*=*=*=*=*=*=*=*=*=*=\n"
          ],
          "name": "stdout"
        },
        {
          "output_type": "stream",
          "text": [
            "loss:4492.55078125: 100%|██████████| 1614/1614 [03:50<00:00,  7.01it/s]\n",
            "100%|██████████| 404/404 [00:47<00:00,  8.48it/s]\n",
            "  0%|          | 0/1614 [00:00<?, ?it/s]"
          ],
          "name": "stderr"
        },
        {
          "output_type": "stream",
          "text": [
            "*=*=*=*=*=*=*=*=*=*=*=*=*=*=*=*=*=*=*=*=*=*=*=*=*=*=*=*=*=*=*=*=*=*=*=*=*=*=*=*=*=*=*=*=*=*=*=*=*=*=\n",
            "fold 1 EPOCH 2: mean position error 105.83741958878433\n",
            "*=*=*=*=*=*=*=*=*=*=*=*=*=*=*=*=*=*=*=*=*=*=*=*=*=*=*=*=*=*=*=*=*=*=*=*=*=*=*=*=*=*=*=*=*=*=*=*=*=*=\n"
          ],
          "name": "stdout"
        },
        {
          "output_type": "stream",
          "text": [
            "loss:3314.332763671875: 100%|██████████| 1614/1614 [03:50<00:00,  7.01it/s]\n",
            "100%|██████████| 404/404 [00:47<00:00,  8.48it/s]\n",
            "  0%|          | 0/1614 [00:00<?, ?it/s]"
          ],
          "name": "stderr"
        },
        {
          "output_type": "stream",
          "text": [
            "*=*=*=*=*=*=*=*=*=*=*=*=*=*=*=*=*=*=*=*=*=*=*=*=*=*=*=*=*=*=*=*=*=*=*=*=*=*=*=*=*=*=*=*=*=*=*=*=*=*=\n",
            "fold 1 EPOCH 3: mean position error 80.54844784583537\n",
            "*=*=*=*=*=*=*=*=*=*=*=*=*=*=*=*=*=*=*=*=*=*=*=*=*=*=*=*=*=*=*=*=*=*=*=*=*=*=*=*=*=*=*=*=*=*=*=*=*=*=\n"
          ],
          "name": "stdout"
        },
        {
          "output_type": "stream",
          "text": [
            "loss:2187.04150390625: 100%|██████████| 1614/1614 [03:53<00:00,  6.90it/s]\n",
            "100%|██████████| 404/404 [00:48<00:00,  8.27it/s]\n",
            "  0%|          | 0/1614 [00:00<?, ?it/s]"
          ],
          "name": "stderr"
        },
        {
          "output_type": "stream",
          "text": [
            "*=*=*=*=*=*=*=*=*=*=*=*=*=*=*=*=*=*=*=*=*=*=*=*=*=*=*=*=*=*=*=*=*=*=*=*=*=*=*=*=*=*=*=*=*=*=*=*=*=*=\n",
            "fold 1 EPOCH 4: mean position error 75.54922280667381\n",
            "*=*=*=*=*=*=*=*=*=*=*=*=*=*=*=*=*=*=*=*=*=*=*=*=*=*=*=*=*=*=*=*=*=*=*=*=*=*=*=*=*=*=*=*=*=*=*=*=*=*=\n"
          ],
          "name": "stdout"
        },
        {
          "output_type": "stream",
          "text": [
            "loss:1967.072998046875: 100%|██████████| 1614/1614 [03:50<00:00,  6.99it/s]\n",
            "100%|██████████| 404/404 [00:47<00:00,  8.50it/s]\n",
            "  0%|          | 0/1614 [00:00<?, ?it/s]"
          ],
          "name": "stderr"
        },
        {
          "output_type": "stream",
          "text": [
            "*=*=*=*=*=*=*=*=*=*=*=*=*=*=*=*=*=*=*=*=*=*=*=*=*=*=*=*=*=*=*=*=*=*=*=*=*=*=*=*=*=*=*=*=*=*=*=*=*=*=\n",
            "fold 1 EPOCH 5: mean position error 73.22001979477763\n",
            "*=*=*=*=*=*=*=*=*=*=*=*=*=*=*=*=*=*=*=*=*=*=*=*=*=*=*=*=*=*=*=*=*=*=*=*=*=*=*=*=*=*=*=*=*=*=*=*=*=*=\n"
          ],
          "name": "stdout"
        },
        {
          "output_type": "stream",
          "text": [
            "loss:1660.419189453125: 100%|██████████| 1614/1614 [03:44<00:00,  7.20it/s]\n",
            "100%|██████████| 404/404 [00:47<00:00,  8.48it/s]\n",
            "  0%|          | 0/1614 [00:00<?, ?it/s]"
          ],
          "name": "stderr"
        },
        {
          "output_type": "stream",
          "text": [
            "*=*=*=*=*=*=*=*=*=*=*=*=*=*=*=*=*=*=*=*=*=*=*=*=*=*=*=*=*=*=*=*=*=*=*=*=*=*=*=*=*=*=*=*=*=*=*=*=*=*=\n",
            "fold 1 EPOCH 6: mean position error 59.0660053281634\n",
            "*=*=*=*=*=*=*=*=*=*=*=*=*=*=*=*=*=*=*=*=*=*=*=*=*=*=*=*=*=*=*=*=*=*=*=*=*=*=*=*=*=*=*=*=*=*=*=*=*=*=\n"
          ],
          "name": "stdout"
        },
        {
          "output_type": "stream",
          "text": [
            "loss:855.2752685546875: 100%|██████████| 1614/1614 [03:49<00:00,  7.02it/s]\n",
            "100%|██████████| 404/404 [00:47<00:00,  8.43it/s]\n",
            "  0%|          | 0/1614 [00:00<?, ?it/s]"
          ],
          "name": "stderr"
        },
        {
          "output_type": "stream",
          "text": [
            "*=*=*=*=*=*=*=*=*=*=*=*=*=*=*=*=*=*=*=*=*=*=*=*=*=*=*=*=*=*=*=*=*=*=*=*=*=*=*=*=*=*=*=*=*=*=*=*=*=*=\n",
            "fold 1 EPOCH 7: mean position error 47.169015062472596\n",
            "*=*=*=*=*=*=*=*=*=*=*=*=*=*=*=*=*=*=*=*=*=*=*=*=*=*=*=*=*=*=*=*=*=*=*=*=*=*=*=*=*=*=*=*=*=*=*=*=*=*=\n"
          ],
          "name": "stdout"
        },
        {
          "output_type": "stream",
          "text": [
            "loss:486.5459289550781: 100%|██████████| 1614/1614 [03:51<00:00,  6.98it/s]\n",
            "100%|██████████| 404/404 [00:47<00:00,  8.46it/s]\n",
            "  0%|          | 0/1614 [00:00<?, ?it/s]"
          ],
          "name": "stderr"
        },
        {
          "output_type": "stream",
          "text": [
            "*=*=*=*=*=*=*=*=*=*=*=*=*=*=*=*=*=*=*=*=*=*=*=*=*=*=*=*=*=*=*=*=*=*=*=*=*=*=*=*=*=*=*=*=*=*=*=*=*=*=\n",
            "fold 1 EPOCH 8: mean position error 41.14009145557175\n",
            "*=*=*=*=*=*=*=*=*=*=*=*=*=*=*=*=*=*=*=*=*=*=*=*=*=*=*=*=*=*=*=*=*=*=*=*=*=*=*=*=*=*=*=*=*=*=*=*=*=*=\n"
          ],
          "name": "stdout"
        },
        {
          "output_type": "stream",
          "text": [
            "loss:302.10565185546875: 100%|██████████| 1614/1614 [03:48<00:00,  7.08it/s]\n",
            "100%|██████████| 404/404 [00:46<00:00,  8.61it/s]\n",
            "  0%|          | 0/1614 [00:00<?, ?it/s]"
          ],
          "name": "stderr"
        },
        {
          "output_type": "stream",
          "text": [
            "*=*=*=*=*=*=*=*=*=*=*=*=*=*=*=*=*=*=*=*=*=*=*=*=*=*=*=*=*=*=*=*=*=*=*=*=*=*=*=*=*=*=*=*=*=*=*=*=*=*=\n",
            "fold 1 EPOCH 9: mean position error 37.45223076672644\n",
            "*=*=*=*=*=*=*=*=*=*=*=*=*=*=*=*=*=*=*=*=*=*=*=*=*=*=*=*=*=*=*=*=*=*=*=*=*=*=*=*=*=*=*=*=*=*=*=*=*=*=\n"
          ],
          "name": "stdout"
        },
        {
          "output_type": "stream",
          "text": [
            "loss:202.1479034423828: 100%|██████████| 1614/1614 [03:47<00:00,  7.10it/s]\n",
            "100%|██████████| 404/404 [00:47<00:00,  8.55it/s]\n",
            "  0%|          | 0/1614 [00:00<?, ?it/s]"
          ],
          "name": "stderr"
        },
        {
          "output_type": "stream",
          "text": [
            "*=*=*=*=*=*=*=*=*=*=*=*=*=*=*=*=*=*=*=*=*=*=*=*=*=*=*=*=*=*=*=*=*=*=*=*=*=*=*=*=*=*=*=*=*=*=*=*=*=*=\n",
            "fold 1 EPOCH 10: mean position error 35.45362831687366\n",
            "*=*=*=*=*=*=*=*=*=*=*=*=*=*=*=*=*=*=*=*=*=*=*=*=*=*=*=*=*=*=*=*=*=*=*=*=*=*=*=*=*=*=*=*=*=*=*=*=*=*=\n"
          ],
          "name": "stdout"
        },
        {
          "output_type": "stream",
          "text": [
            "loss:144.0344696044922: 100%|██████████| 1614/1614 [03:54<00:00,  6.87it/s]\n",
            "100%|██████████| 404/404 [00:48<00:00,  8.32it/s]\n",
            "  0%|          | 0/1614 [00:00<?, ?it/s]"
          ],
          "name": "stderr"
        },
        {
          "output_type": "stream",
          "text": [
            "*=*=*=*=*=*=*=*=*=*=*=*=*=*=*=*=*=*=*=*=*=*=*=*=*=*=*=*=*=*=*=*=*=*=*=*=*=*=*=*=*=*=*=*=*=*=*=*=*=*=\n",
            "fold 1 EPOCH 11: mean position error 34.14314233164086\n",
            "*=*=*=*=*=*=*=*=*=*=*=*=*=*=*=*=*=*=*=*=*=*=*=*=*=*=*=*=*=*=*=*=*=*=*=*=*=*=*=*=*=*=*=*=*=*=*=*=*=*=\n"
          ],
          "name": "stdout"
        },
        {
          "output_type": "stream",
          "text": [
            "loss:107.1541976928711: 100%|██████████| 1614/1614 [03:52<00:00,  6.94it/s]\n",
            "100%|██████████| 404/404 [00:47<00:00,  8.46it/s]\n",
            "  0%|          | 0/1614 [00:00<?, ?it/s]"
          ],
          "name": "stderr"
        },
        {
          "output_type": "stream",
          "text": [
            "*=*=*=*=*=*=*=*=*=*=*=*=*=*=*=*=*=*=*=*=*=*=*=*=*=*=*=*=*=*=*=*=*=*=*=*=*=*=*=*=*=*=*=*=*=*=*=*=*=*=\n",
            "fold 1 EPOCH 12: mean position error 33.24376994088509\n",
            "*=*=*=*=*=*=*=*=*=*=*=*=*=*=*=*=*=*=*=*=*=*=*=*=*=*=*=*=*=*=*=*=*=*=*=*=*=*=*=*=*=*=*=*=*=*=*=*=*=*=\n"
          ],
          "name": "stdout"
        },
        {
          "output_type": "stream",
          "text": [
            "loss:82.7732162475586: 100%|██████████| 1614/1614 [03:54<00:00,  6.88it/s]\n",
            "100%|██████████| 404/404 [00:48<00:00,  8.34it/s]\n",
            "  0%|          | 0/1614 [00:00<?, ?it/s]"
          ],
          "name": "stderr"
        },
        {
          "output_type": "stream",
          "text": [
            "*=*=*=*=*=*=*=*=*=*=*=*=*=*=*=*=*=*=*=*=*=*=*=*=*=*=*=*=*=*=*=*=*=*=*=*=*=*=*=*=*=*=*=*=*=*=*=*=*=*=\n",
            "fold 1 EPOCH 13: mean position error 32.6818482392654\n",
            "*=*=*=*=*=*=*=*=*=*=*=*=*=*=*=*=*=*=*=*=*=*=*=*=*=*=*=*=*=*=*=*=*=*=*=*=*=*=*=*=*=*=*=*=*=*=*=*=*=*=\n"
          ],
          "name": "stdout"
        },
        {
          "output_type": "stream",
          "text": [
            "loss:65.92532348632812: 100%|██████████| 1614/1614 [03:53<00:00,  6.92it/s]\n",
            "100%|██████████| 404/404 [00:48<00:00,  8.37it/s]\n",
            "  0%|          | 0/80 [00:00<?, ?it/s]"
          ],
          "name": "stderr"
        },
        {
          "output_type": "stream",
          "text": [
            "*=*=*=*=*=*=*=*=*=*=*=*=*=*=*=*=*=*=*=*=*=*=*=*=*=*=*=*=*=*=*=*=*=*=*=*=*=*=*=*=*=*=*=*=*=*=*=*=*=*=\n",
            "fold 1 EPOCH 14: mean position error 32.57752543632187\n",
            "*=*=*=*=*=*=*=*=*=*=*=*=*=*=*=*=*=*=*=*=*=*=*=*=*=*=*=*=*=*=*=*=*=*=*=*=*=*=*=*=*=*=*=*=*=*=*=*=*=*=\n"
          ],
          "name": "stdout"
        },
        {
          "output_type": "stream",
          "text": [
            "100%|██████████| 80/80 [00:08<00:00,  9.29it/s]\n",
            "loss:10350.080078125: 100%|██████████| 1614/1614 [03:54<00:00,  6.90it/s]\n",
            "100%|██████████| 404/404 [00:48<00:00,  8.37it/s]\n",
            "  0%|          | 0/1614 [00:00<?, ?it/s]"
          ],
          "name": "stderr"
        },
        {
          "output_type": "stream",
          "text": [
            "*=*=*=*=*=*=*=*=*=*=*=*=*=*=*=*=*=*=*=*=*=*=*=*=*=*=*=*=*=*=*=*=*=*=*=*=*=*=*=*=*=*=*=*=*=*=*=*=*=*=\n",
            "fold 2 EPOCH 0: mean position error 120.16523332073037\n",
            "*=*=*=*=*=*=*=*=*=*=*=*=*=*=*=*=*=*=*=*=*=*=*=*=*=*=*=*=*=*=*=*=*=*=*=*=*=*=*=*=*=*=*=*=*=*=*=*=*=*=\n"
          ],
          "name": "stdout"
        },
        {
          "output_type": "stream",
          "text": [
            "loss:4979.11572265625: 100%|██████████| 1614/1614 [03:53<00:00,  6.90it/s]\n",
            "100%|██████████| 404/404 [00:48<00:00,  8.39it/s]\n",
            "  0%|          | 0/1614 [00:00<?, ?it/s]"
          ],
          "name": "stderr"
        },
        {
          "output_type": "stream",
          "text": [
            "*=*=*=*=*=*=*=*=*=*=*=*=*=*=*=*=*=*=*=*=*=*=*=*=*=*=*=*=*=*=*=*=*=*=*=*=*=*=*=*=*=*=*=*=*=*=*=*=*=*=\n",
            "fold 2 EPOCH 1: mean position error 106.01154941048519\n",
            "*=*=*=*=*=*=*=*=*=*=*=*=*=*=*=*=*=*=*=*=*=*=*=*=*=*=*=*=*=*=*=*=*=*=*=*=*=*=*=*=*=*=*=*=*=*=*=*=*=*=\n"
          ],
          "name": "stdout"
        },
        {
          "output_type": "stream",
          "text": [
            "loss:3528.6865234375: 100%|██████████| 1614/1614 [03:44<00:00,  7.20it/s]\n",
            "100%|██████████| 404/404 [00:47<00:00,  8.46it/s]\n",
            "  0%|          | 0/1614 [00:00<?, ?it/s]"
          ],
          "name": "stderr"
        },
        {
          "output_type": "stream",
          "text": [
            "*=*=*=*=*=*=*=*=*=*=*=*=*=*=*=*=*=*=*=*=*=*=*=*=*=*=*=*=*=*=*=*=*=*=*=*=*=*=*=*=*=*=*=*=*=*=*=*=*=*=\n",
            "fold 2 EPOCH 2: mean position error 81.90382374315126\n",
            "*=*=*=*=*=*=*=*=*=*=*=*=*=*=*=*=*=*=*=*=*=*=*=*=*=*=*=*=*=*=*=*=*=*=*=*=*=*=*=*=*=*=*=*=*=*=*=*=*=*=\n"
          ],
          "name": "stdout"
        },
        {
          "output_type": "stream",
          "text": [
            "loss:2256.374755859375: 100%|██████████| 1614/1614 [03:52<00:00,  6.95it/s]\n",
            "100%|██████████| 404/404 [00:48<00:00,  8.25it/s]\n",
            "  0%|          | 0/1614 [00:00<?, ?it/s]"
          ],
          "name": "stderr"
        },
        {
          "output_type": "stream",
          "text": [
            "*=*=*=*=*=*=*=*=*=*=*=*=*=*=*=*=*=*=*=*=*=*=*=*=*=*=*=*=*=*=*=*=*=*=*=*=*=*=*=*=*=*=*=*=*=*=*=*=*=*=\n",
            "fold 2 EPOCH 3: mean position error 75.5405467931543\n",
            "*=*=*=*=*=*=*=*=*=*=*=*=*=*=*=*=*=*=*=*=*=*=*=*=*=*=*=*=*=*=*=*=*=*=*=*=*=*=*=*=*=*=*=*=*=*=*=*=*=*=\n"
          ],
          "name": "stdout"
        },
        {
          "output_type": "stream",
          "text": [
            "loss:1979.998779296875: 100%|██████████| 1614/1614 [03:54<00:00,  6.89it/s]\n",
            "100%|██████████| 404/404 [00:49<00:00,  8.20it/s]\n",
            "  0%|          | 0/1614 [00:00<?, ?it/s]"
          ],
          "name": "stderr"
        },
        {
          "output_type": "stream",
          "text": [
            "*=*=*=*=*=*=*=*=*=*=*=*=*=*=*=*=*=*=*=*=*=*=*=*=*=*=*=*=*=*=*=*=*=*=*=*=*=*=*=*=*=*=*=*=*=*=*=*=*=*=\n",
            "fold 2 EPOCH 4: mean position error 72.5182867570912\n",
            "*=*=*=*=*=*=*=*=*=*=*=*=*=*=*=*=*=*=*=*=*=*=*=*=*=*=*=*=*=*=*=*=*=*=*=*=*=*=*=*=*=*=*=*=*=*=*=*=*=*=\n"
          ],
          "name": "stdout"
        },
        {
          "output_type": "stream",
          "text": [
            "loss:1540.78564453125: 100%|██████████| 1614/1614 [03:58<00:00,  6.78it/s]\n",
            "100%|██████████| 404/404 [00:49<00:00,  8.20it/s]\n",
            "  0%|          | 0/1614 [00:00<?, ?it/s]"
          ],
          "name": "stderr"
        },
        {
          "output_type": "stream",
          "text": [
            "*=*=*=*=*=*=*=*=*=*=*=*=*=*=*=*=*=*=*=*=*=*=*=*=*=*=*=*=*=*=*=*=*=*=*=*=*=*=*=*=*=*=*=*=*=*=*=*=*=*=\n",
            "fold 2 EPOCH 5: mean position error 56.78940869284181\n",
            "*=*=*=*=*=*=*=*=*=*=*=*=*=*=*=*=*=*=*=*=*=*=*=*=*=*=*=*=*=*=*=*=*=*=*=*=*=*=*=*=*=*=*=*=*=*=*=*=*=*=\n"
          ],
          "name": "stdout"
        },
        {
          "output_type": "stream",
          "text": [
            "loss:717.82666015625: 100%|██████████| 1614/1614 [03:57<00:00,  6.81it/s]\n",
            "100%|██████████| 404/404 [00:48<00:00,  8.26it/s]\n",
            "  0%|          | 0/1614 [00:00<?, ?it/s]"
          ],
          "name": "stderr"
        },
        {
          "output_type": "stream",
          "text": [
            "*=*=*=*=*=*=*=*=*=*=*=*=*=*=*=*=*=*=*=*=*=*=*=*=*=*=*=*=*=*=*=*=*=*=*=*=*=*=*=*=*=*=*=*=*=*=*=*=*=*=\n",
            "fold 2 EPOCH 6: mean position error 44.17589678666995\n",
            "*=*=*=*=*=*=*=*=*=*=*=*=*=*=*=*=*=*=*=*=*=*=*=*=*=*=*=*=*=*=*=*=*=*=*=*=*=*=*=*=*=*=*=*=*=*=*=*=*=*=\n"
          ],
          "name": "stdout"
        },
        {
          "output_type": "stream",
          "text": [
            "loss:371.7783508300781: 100%|██████████| 1614/1614 [04:04<00:00,  6.61it/s]\n",
            "100%|██████████| 404/404 [00:49<00:00,  8.08it/s]\n",
            "  0%|          | 0/1614 [00:00<?, ?it/s]"
          ],
          "name": "stderr"
        },
        {
          "output_type": "stream",
          "text": [
            "*=*=*=*=*=*=*=*=*=*=*=*=*=*=*=*=*=*=*=*=*=*=*=*=*=*=*=*=*=*=*=*=*=*=*=*=*=*=*=*=*=*=*=*=*=*=*=*=*=*=\n",
            "fold 2 EPOCH 7: mean position error 38.99205461159341\n",
            "*=*=*=*=*=*=*=*=*=*=*=*=*=*=*=*=*=*=*=*=*=*=*=*=*=*=*=*=*=*=*=*=*=*=*=*=*=*=*=*=*=*=*=*=*=*=*=*=*=*=\n"
          ],
          "name": "stdout"
        },
        {
          "output_type": "stream",
          "text": [
            "loss:225.0804443359375: 100%|██████████| 1614/1614 [04:09<00:00,  6.48it/s]\n",
            "100%|██████████| 404/404 [00:50<00:00,  8.07it/s]\n",
            "  0%|          | 0/1614 [00:00<?, ?it/s]"
          ],
          "name": "stderr"
        },
        {
          "output_type": "stream",
          "text": [
            "*=*=*=*=*=*=*=*=*=*=*=*=*=*=*=*=*=*=*=*=*=*=*=*=*=*=*=*=*=*=*=*=*=*=*=*=*=*=*=*=*=*=*=*=*=*=*=*=*=*=\n",
            "fold 2 EPOCH 8: mean position error 36.40538456139481\n",
            "*=*=*=*=*=*=*=*=*=*=*=*=*=*=*=*=*=*=*=*=*=*=*=*=*=*=*=*=*=*=*=*=*=*=*=*=*=*=*=*=*=*=*=*=*=*=*=*=*=*=\n"
          ],
          "name": "stdout"
        },
        {
          "output_type": "stream",
          "text": [
            "loss:152.44215393066406: 100%|██████████| 1614/1614 [04:07<00:00,  6.53it/s]\n",
            "100%|██████████| 404/404 [00:49<00:00,  8.23it/s]\n",
            "  0%|          | 0/1614 [00:00<?, ?it/s]"
          ],
          "name": "stderr"
        },
        {
          "output_type": "stream",
          "text": [
            "*=*=*=*=*=*=*=*=*=*=*=*=*=*=*=*=*=*=*=*=*=*=*=*=*=*=*=*=*=*=*=*=*=*=*=*=*=*=*=*=*=*=*=*=*=*=*=*=*=*=\n",
            "fold 2 EPOCH 9: mean position error 34.690769959420834\n",
            "*=*=*=*=*=*=*=*=*=*=*=*=*=*=*=*=*=*=*=*=*=*=*=*=*=*=*=*=*=*=*=*=*=*=*=*=*=*=*=*=*=*=*=*=*=*=*=*=*=*=\n"
          ],
          "name": "stdout"
        },
        {
          "output_type": "stream",
          "text": [
            "loss:107.5768051147461: 100%|██████████| 1614/1614 [04:10<00:00,  6.44it/s]\n",
            "100%|██████████| 404/404 [00:50<00:00,  8.02it/s]\n",
            "  0%|          | 0/1614 [00:00<?, ?it/s]"
          ],
          "name": "stderr"
        },
        {
          "output_type": "stream",
          "text": [
            "*=*=*=*=*=*=*=*=*=*=*=*=*=*=*=*=*=*=*=*=*=*=*=*=*=*=*=*=*=*=*=*=*=*=*=*=*=*=*=*=*=*=*=*=*=*=*=*=*=*=\n",
            "fold 2 EPOCH 10: mean position error 33.75066040891019\n",
            "*=*=*=*=*=*=*=*=*=*=*=*=*=*=*=*=*=*=*=*=*=*=*=*=*=*=*=*=*=*=*=*=*=*=*=*=*=*=*=*=*=*=*=*=*=*=*=*=*=*=\n"
          ],
          "name": "stdout"
        },
        {
          "output_type": "stream",
          "text": [
            "loss:79.41162872314453: 100%|██████████| 1614/1614 [04:11<00:00,  6.43it/s]\n",
            "100%|██████████| 404/404 [00:50<00:00,  8.05it/s]\n",
            "  0%|          | 0/1614 [00:00<?, ?it/s]"
          ],
          "name": "stderr"
        },
        {
          "output_type": "stream",
          "text": [
            "*=*=*=*=*=*=*=*=*=*=*=*=*=*=*=*=*=*=*=*=*=*=*=*=*=*=*=*=*=*=*=*=*=*=*=*=*=*=*=*=*=*=*=*=*=*=*=*=*=*=\n",
            "fold 2 EPOCH 11: mean position error 32.86444705869539\n",
            "*=*=*=*=*=*=*=*=*=*=*=*=*=*=*=*=*=*=*=*=*=*=*=*=*=*=*=*=*=*=*=*=*=*=*=*=*=*=*=*=*=*=*=*=*=*=*=*=*=*=\n"
          ],
          "name": "stdout"
        },
        {
          "output_type": "stream",
          "text": [
            "loss:61.861541748046875: 100%|██████████| 1614/1614 [04:10<00:00,  6.43it/s]\n",
            "100%|██████████| 404/404 [00:49<00:00,  8.08it/s]\n",
            "  0%|          | 0/1614 [00:00<?, ?it/s]"
          ],
          "name": "stderr"
        },
        {
          "output_type": "stream",
          "text": [
            "*=*=*=*=*=*=*=*=*=*=*=*=*=*=*=*=*=*=*=*=*=*=*=*=*=*=*=*=*=*=*=*=*=*=*=*=*=*=*=*=*=*=*=*=*=*=*=*=*=*=\n",
            "fold 2 EPOCH 12: mean position error 32.42684752720248\n",
            "*=*=*=*=*=*=*=*=*=*=*=*=*=*=*=*=*=*=*=*=*=*=*=*=*=*=*=*=*=*=*=*=*=*=*=*=*=*=*=*=*=*=*=*=*=*=*=*=*=*=\n"
          ],
          "name": "stdout"
        },
        {
          "output_type": "stream",
          "text": [
            "loss:50.93075180053711: 100%|██████████| 1614/1614 [04:09<00:00,  6.47it/s]\n",
            "100%|██████████| 404/404 [00:49<00:00,  8.13it/s]\n",
            "  0%|          | 0/1614 [00:00<?, ?it/s]"
          ],
          "name": "stderr"
        },
        {
          "output_type": "stream",
          "text": [
            "*=*=*=*=*=*=*=*=*=*=*=*=*=*=*=*=*=*=*=*=*=*=*=*=*=*=*=*=*=*=*=*=*=*=*=*=*=*=*=*=*=*=*=*=*=*=*=*=*=*=\n",
            "fold 2 EPOCH 13: mean position error 32.11856905150767\n",
            "*=*=*=*=*=*=*=*=*=*=*=*=*=*=*=*=*=*=*=*=*=*=*=*=*=*=*=*=*=*=*=*=*=*=*=*=*=*=*=*=*=*=*=*=*=*=*=*=*=*=\n"
          ],
          "name": "stdout"
        },
        {
          "output_type": "stream",
          "text": [
            "loss:44.82150650024414: 100%|██████████| 1614/1614 [04:03<00:00,  6.62it/s]\n",
            "100%|██████████| 404/404 [00:49<00:00,  8.19it/s]\n",
            "  0%|          | 0/80 [00:00<?, ?it/s]"
          ],
          "name": "stderr"
        },
        {
          "output_type": "stream",
          "text": [
            "*=*=*=*=*=*=*=*=*=*=*=*=*=*=*=*=*=*=*=*=*=*=*=*=*=*=*=*=*=*=*=*=*=*=*=*=*=*=*=*=*=*=*=*=*=*=*=*=*=*=\n",
            "fold 2 EPOCH 14: mean position error 31.92470166188767\n",
            "*=*=*=*=*=*=*=*=*=*=*=*=*=*=*=*=*=*=*=*=*=*=*=*=*=*=*=*=*=*=*=*=*=*=*=*=*=*=*=*=*=*=*=*=*=*=*=*=*=*=\n"
          ],
          "name": "stdout"
        },
        {
          "output_type": "stream",
          "text": [
            "100%|██████████| 80/80 [00:08<00:00,  8.96it/s]\n",
            "loss:10699.3349609375: 100%|██████████| 1614/1614 [04:06<00:00,  6.56it/s]\n",
            "100%|██████████| 404/404 [00:50<00:00,  8.08it/s]\n",
            "  0%|          | 0/1614 [00:00<?, ?it/s]"
          ],
          "name": "stderr"
        },
        {
          "output_type": "stream",
          "text": [
            "*=*=*=*=*=*=*=*=*=*=*=*=*=*=*=*=*=*=*=*=*=*=*=*=*=*=*=*=*=*=*=*=*=*=*=*=*=*=*=*=*=*=*=*=*=*=*=*=*=*=\n",
            "fold 3 EPOCH 0: mean position error 123.35757341018399\n",
            "*=*=*=*=*=*=*=*=*=*=*=*=*=*=*=*=*=*=*=*=*=*=*=*=*=*=*=*=*=*=*=*=*=*=*=*=*=*=*=*=*=*=*=*=*=*=*=*=*=*=\n"
          ],
          "name": "stdout"
        },
        {
          "output_type": "stream",
          "text": [
            "loss:5224.74853515625: 100%|██████████| 1614/1614 [04:06<00:00,  6.56it/s]\n",
            "100%|██████████| 404/404 [00:49<00:00,  8.09it/s]\n",
            "  0%|          | 0/1614 [00:00<?, ?it/s]"
          ],
          "name": "stderr"
        },
        {
          "output_type": "stream",
          "text": [
            "*=*=*=*=*=*=*=*=*=*=*=*=*=*=*=*=*=*=*=*=*=*=*=*=*=*=*=*=*=*=*=*=*=*=*=*=*=*=*=*=*=*=*=*=*=*=*=*=*=*=\n",
            "fold 3 EPOCH 1: mean position error 106.48153414531136\n",
            "*=*=*=*=*=*=*=*=*=*=*=*=*=*=*=*=*=*=*=*=*=*=*=*=*=*=*=*=*=*=*=*=*=*=*=*=*=*=*=*=*=*=*=*=*=*=*=*=*=*=\n"
          ],
          "name": "stdout"
        },
        {
          "output_type": "stream",
          "text": [
            "loss:4216.7587890625: 100%|██████████| 1614/1614 [04:05<00:00,  6.57it/s]\n",
            "100%|██████████| 404/404 [00:49<00:00,  8.16it/s]\n",
            "  0%|          | 0/1614 [00:00<?, ?it/s]"
          ],
          "name": "stderr"
        },
        {
          "output_type": "stream",
          "text": [
            "*=*=*=*=*=*=*=*=*=*=*=*=*=*=*=*=*=*=*=*=*=*=*=*=*=*=*=*=*=*=*=*=*=*=*=*=*=*=*=*=*=*=*=*=*=*=*=*=*=*=\n",
            "fold 3 EPOCH 2: mean position error 106.39971158074755\n",
            "*=*=*=*=*=*=*=*=*=*=*=*=*=*=*=*=*=*=*=*=*=*=*=*=*=*=*=*=*=*=*=*=*=*=*=*=*=*=*=*=*=*=*=*=*=*=*=*=*=*=\n"
          ],
          "name": "stdout"
        },
        {
          "output_type": "stream",
          "text": [
            "loss:3598.45751953125: 100%|██████████| 1614/1614 [04:05<00:00,  6.57it/s]\n",
            "100%|██████████| 404/404 [00:49<00:00,  8.15it/s]\n",
            "  0%|          | 0/1614 [00:00<?, ?it/s]"
          ],
          "name": "stderr"
        },
        {
          "output_type": "stream",
          "text": [
            "*=*=*=*=*=*=*=*=*=*=*=*=*=*=*=*=*=*=*=*=*=*=*=*=*=*=*=*=*=*=*=*=*=*=*=*=*=*=*=*=*=*=*=*=*=*=*=*=*=*=\n",
            "fold 3 EPOCH 3: mean position error 79.43776648424223\n",
            "*=*=*=*=*=*=*=*=*=*=*=*=*=*=*=*=*=*=*=*=*=*=*=*=*=*=*=*=*=*=*=*=*=*=*=*=*=*=*=*=*=*=*=*=*=*=*=*=*=*=\n"
          ],
          "name": "stdout"
        },
        {
          "output_type": "stream",
          "text": [
            "loss:2047.4468994140625: 100%|██████████| 1614/1614 [04:02<00:00,  6.67it/s]\n",
            "100%|██████████| 404/404 [00:49<00:00,  8.11it/s]\n",
            "  0%|          | 0/1614 [00:00<?, ?it/s]"
          ],
          "name": "stderr"
        },
        {
          "output_type": "stream",
          "text": [
            "*=*=*=*=*=*=*=*=*=*=*=*=*=*=*=*=*=*=*=*=*=*=*=*=*=*=*=*=*=*=*=*=*=*=*=*=*=*=*=*=*=*=*=*=*=*=*=*=*=*=\n",
            "fold 3 EPOCH 4: mean position error 72.635699953676\n",
            "*=*=*=*=*=*=*=*=*=*=*=*=*=*=*=*=*=*=*=*=*=*=*=*=*=*=*=*=*=*=*=*=*=*=*=*=*=*=*=*=*=*=*=*=*=*=*=*=*=*=\n"
          ],
          "name": "stdout"
        },
        {
          "output_type": "stream",
          "text": [
            "loss:1466.3330078125: 100%|██████████| 1614/1614 [04:06<00:00,  6.54it/s]\n",
            "100%|██████████| 404/404 [00:49<00:00,  8.13it/s]\n",
            "  0%|          | 0/1614 [00:00<?, ?it/s]"
          ],
          "name": "stderr"
        },
        {
          "output_type": "stream",
          "text": [
            "*=*=*=*=*=*=*=*=*=*=*=*=*=*=*=*=*=*=*=*=*=*=*=*=*=*=*=*=*=*=*=*=*=*=*=*=*=*=*=*=*=*=*=*=*=*=*=*=*=*=\n",
            "fold 3 EPOCH 5: mean position error 54.851090287474904\n",
            "*=*=*=*=*=*=*=*=*=*=*=*=*=*=*=*=*=*=*=*=*=*=*=*=*=*=*=*=*=*=*=*=*=*=*=*=*=*=*=*=*=*=*=*=*=*=*=*=*=*=\n"
          ],
          "name": "stdout"
        },
        {
          "output_type": "stream",
          "text": [
            "loss:690.8379516601562: 100%|██████████| 1614/1614 [04:07<00:00,  6.53it/s]\n",
            "100%|██████████| 404/404 [00:49<00:00,  8.11it/s]\n",
            "  0%|          | 0/1614 [00:00<?, ?it/s]"
          ],
          "name": "stderr"
        },
        {
          "output_type": "stream",
          "text": [
            "*=*=*=*=*=*=*=*=*=*=*=*=*=*=*=*=*=*=*=*=*=*=*=*=*=*=*=*=*=*=*=*=*=*=*=*=*=*=*=*=*=*=*=*=*=*=*=*=*=*=\n",
            "fold 3 EPOCH 6: mean position error 43.808218331580264\n",
            "*=*=*=*=*=*=*=*=*=*=*=*=*=*=*=*=*=*=*=*=*=*=*=*=*=*=*=*=*=*=*=*=*=*=*=*=*=*=*=*=*=*=*=*=*=*=*=*=*=*=\n"
          ],
          "name": "stdout"
        },
        {
          "output_type": "stream",
          "text": [
            "loss:367.17108154296875: 100%|██████████| 1614/1614 [04:07<00:00,  6.52it/s]\n",
            "100%|██████████| 404/404 [00:50<00:00,  8.08it/s]\n",
            "  0%|          | 0/1614 [00:00<?, ?it/s]"
          ],
          "name": "stderr"
        },
        {
          "output_type": "stream",
          "text": [
            "*=*=*=*=*=*=*=*=*=*=*=*=*=*=*=*=*=*=*=*=*=*=*=*=*=*=*=*=*=*=*=*=*=*=*=*=*=*=*=*=*=*=*=*=*=*=*=*=*=*=\n",
            "fold 3 EPOCH 7: mean position error 38.66201499452213\n",
            "*=*=*=*=*=*=*=*=*=*=*=*=*=*=*=*=*=*=*=*=*=*=*=*=*=*=*=*=*=*=*=*=*=*=*=*=*=*=*=*=*=*=*=*=*=*=*=*=*=*=\n"
          ],
          "name": "stdout"
        },
        {
          "output_type": "stream",
          "text": [
            "loss:221.56056213378906: 100%|██████████| 1614/1614 [04:08<00:00,  6.49it/s]\n",
            "100%|██████████| 404/404 [00:50<00:00,  8.04it/s]\n",
            "  0%|          | 0/1614 [00:00<?, ?it/s]"
          ],
          "name": "stderr"
        },
        {
          "output_type": "stream",
          "text": [
            "*=*=*=*=*=*=*=*=*=*=*=*=*=*=*=*=*=*=*=*=*=*=*=*=*=*=*=*=*=*=*=*=*=*=*=*=*=*=*=*=*=*=*=*=*=*=*=*=*=*=\n",
            "fold 3 EPOCH 8: mean position error 35.668366576125344\n",
            "*=*=*=*=*=*=*=*=*=*=*=*=*=*=*=*=*=*=*=*=*=*=*=*=*=*=*=*=*=*=*=*=*=*=*=*=*=*=*=*=*=*=*=*=*=*=*=*=*=*=\n"
          ],
          "name": "stdout"
        },
        {
          "output_type": "stream",
          "text": [
            "loss:148.7327423095703: 100%|██████████| 1614/1614 [04:08<00:00,  6.50it/s]\n",
            "100%|██████████| 404/404 [00:50<00:00,  8.07it/s]\n",
            "  0%|          | 0/1614 [00:00<?, ?it/s]"
          ],
          "name": "stderr"
        },
        {
          "output_type": "stream",
          "text": [
            "*=*=*=*=*=*=*=*=*=*=*=*=*=*=*=*=*=*=*=*=*=*=*=*=*=*=*=*=*=*=*=*=*=*=*=*=*=*=*=*=*=*=*=*=*=*=*=*=*=*=\n",
            "fold 3 EPOCH 9: mean position error 33.934665685207015\n",
            "*=*=*=*=*=*=*=*=*=*=*=*=*=*=*=*=*=*=*=*=*=*=*=*=*=*=*=*=*=*=*=*=*=*=*=*=*=*=*=*=*=*=*=*=*=*=*=*=*=*=\n"
          ],
          "name": "stdout"
        },
        {
          "output_type": "stream",
          "text": [
            "loss:104.59144592285156: 100%|██████████| 1614/1614 [04:07<00:00,  6.52it/s]\n",
            "100%|██████████| 404/404 [00:50<00:00,  8.07it/s]\n",
            "  0%|          | 0/1614 [00:00<?, ?it/s]"
          ],
          "name": "stderr"
        },
        {
          "output_type": "stream",
          "text": [
            "*=*=*=*=*=*=*=*=*=*=*=*=*=*=*=*=*=*=*=*=*=*=*=*=*=*=*=*=*=*=*=*=*=*=*=*=*=*=*=*=*=*=*=*=*=*=*=*=*=*=\n",
            "fold 3 EPOCH 10: mean position error 32.898486787868904\n",
            "*=*=*=*=*=*=*=*=*=*=*=*=*=*=*=*=*=*=*=*=*=*=*=*=*=*=*=*=*=*=*=*=*=*=*=*=*=*=*=*=*=*=*=*=*=*=*=*=*=*=\n"
          ],
          "name": "stdout"
        },
        {
          "output_type": "stream",
          "text": [
            "loss:77.31887817382812: 100%|██████████| 1614/1614 [04:08<00:00,  6.50it/s]\n",
            "100%|██████████| 404/404 [00:50<00:00,  8.04it/s]\n",
            "  0%|          | 0/1614 [00:00<?, ?it/s]"
          ],
          "name": "stderr"
        },
        {
          "output_type": "stream",
          "text": [
            "*=*=*=*=*=*=*=*=*=*=*=*=*=*=*=*=*=*=*=*=*=*=*=*=*=*=*=*=*=*=*=*=*=*=*=*=*=*=*=*=*=*=*=*=*=*=*=*=*=*=\n",
            "fold 3 EPOCH 11: mean position error 32.146625778205745\n",
            "*=*=*=*=*=*=*=*=*=*=*=*=*=*=*=*=*=*=*=*=*=*=*=*=*=*=*=*=*=*=*=*=*=*=*=*=*=*=*=*=*=*=*=*=*=*=*=*=*=*=\n"
          ],
          "name": "stdout"
        },
        {
          "output_type": "stream",
          "text": [
            "loss:60.021995544433594: 100%|██████████| 1614/1614 [04:06<00:00,  6.54it/s]\n",
            "100%|██████████| 404/404 [00:50<00:00,  8.07it/s]\n",
            "  0%|          | 0/1614 [00:00<?, ?it/s]"
          ],
          "name": "stderr"
        },
        {
          "output_type": "stream",
          "text": [
            "*=*=*=*=*=*=*=*=*=*=*=*=*=*=*=*=*=*=*=*=*=*=*=*=*=*=*=*=*=*=*=*=*=*=*=*=*=*=*=*=*=*=*=*=*=*=*=*=*=*=\n",
            "fold 3 EPOCH 12: mean position error 32.08572812100877\n",
            "*=*=*=*=*=*=*=*=*=*=*=*=*=*=*=*=*=*=*=*=*=*=*=*=*=*=*=*=*=*=*=*=*=*=*=*=*=*=*=*=*=*=*=*=*=*=*=*=*=*=\n"
          ],
          "name": "stdout"
        },
        {
          "output_type": "stream",
          "text": [
            "loss:48.21564865112305: 100%|██████████| 1614/1614 [04:08<00:00,  6.50it/s]\n",
            "100%|██████████| 404/404 [00:50<00:00,  8.04it/s]\n",
            "  0%|          | 0/1614 [00:00<?, ?it/s]"
          ],
          "name": "stderr"
        },
        {
          "output_type": "stream",
          "text": [
            "*=*=*=*=*=*=*=*=*=*=*=*=*=*=*=*=*=*=*=*=*=*=*=*=*=*=*=*=*=*=*=*=*=*=*=*=*=*=*=*=*=*=*=*=*=*=*=*=*=*=\n",
            "fold 3 EPOCH 13: mean position error 31.66145778187287\n",
            "*=*=*=*=*=*=*=*=*=*=*=*=*=*=*=*=*=*=*=*=*=*=*=*=*=*=*=*=*=*=*=*=*=*=*=*=*=*=*=*=*=*=*=*=*=*=*=*=*=*=\n"
          ],
          "name": "stdout"
        },
        {
          "output_type": "stream",
          "text": [
            "loss:40.604530334472656: 100%|██████████| 1614/1614 [04:08<00:00,  6.49it/s]\n",
            "100%|██████████| 404/404 [00:49<00:00,  8.14it/s]\n",
            "  0%|          | 0/80 [00:00<?, ?it/s]"
          ],
          "name": "stderr"
        },
        {
          "output_type": "stream",
          "text": [
            "*=*=*=*=*=*=*=*=*=*=*=*=*=*=*=*=*=*=*=*=*=*=*=*=*=*=*=*=*=*=*=*=*=*=*=*=*=*=*=*=*=*=*=*=*=*=*=*=*=*=\n",
            "fold 3 EPOCH 14: mean position error 31.285068559389895\n",
            "*=*=*=*=*=*=*=*=*=*=*=*=*=*=*=*=*=*=*=*=*=*=*=*=*=*=*=*=*=*=*=*=*=*=*=*=*=*=*=*=*=*=*=*=*=*=*=*=*=*=\n"
          ],
          "name": "stdout"
        },
        {
          "output_type": "stream",
          "text": [
            "100%|██████████| 80/80 [00:09<00:00,  8.83it/s]\n",
            "loss:11042.525390625: 100%|██████████| 1614/1614 [04:08<00:00,  6.51it/s]\n",
            "100%|██████████| 404/404 [00:50<00:00,  8.05it/s]\n",
            "  0%|          | 0/1614 [00:00<?, ?it/s]"
          ],
          "name": "stderr"
        },
        {
          "output_type": "stream",
          "text": [
            "*=*=*=*=*=*=*=*=*=*=*=*=*=*=*=*=*=*=*=*=*=*=*=*=*=*=*=*=*=*=*=*=*=*=*=*=*=*=*=*=*=*=*=*=*=*=*=*=*=*=\n",
            "fold 4 EPOCH 0: mean position error 124.79008050274763\n",
            "*=*=*=*=*=*=*=*=*=*=*=*=*=*=*=*=*=*=*=*=*=*=*=*=*=*=*=*=*=*=*=*=*=*=*=*=*=*=*=*=*=*=*=*=*=*=*=*=*=*=\n"
          ],
          "name": "stdout"
        },
        {
          "output_type": "stream",
          "text": [
            "loss:5524.2578125: 100%|██████████| 1614/1614 [04:04<00:00,  6.60it/s]\n",
            "100%|██████████| 404/404 [00:49<00:00,  8.12it/s]\n",
            "  0%|          | 0/1614 [00:00<?, ?it/s]"
          ],
          "name": "stderr"
        },
        {
          "output_type": "stream",
          "text": [
            "*=*=*=*=*=*=*=*=*=*=*=*=*=*=*=*=*=*=*=*=*=*=*=*=*=*=*=*=*=*=*=*=*=*=*=*=*=*=*=*=*=*=*=*=*=*=*=*=*=*=\n",
            "fold 4 EPOCH 1: mean position error 105.10459801298077\n",
            "*=*=*=*=*=*=*=*=*=*=*=*=*=*=*=*=*=*=*=*=*=*=*=*=*=*=*=*=*=*=*=*=*=*=*=*=*=*=*=*=*=*=*=*=*=*=*=*=*=*=\n"
          ],
          "name": "stdout"
        },
        {
          "output_type": "stream",
          "text": [
            "loss:4265.3623046875: 100%|██████████| 1614/1614 [04:10<00:00,  6.43it/s]\n",
            "100%|██████████| 404/404 [00:50<00:00,  8.02it/s]\n",
            "  0%|          | 0/1614 [00:00<?, ?it/s]"
          ],
          "name": "stderr"
        },
        {
          "output_type": "stream",
          "text": [
            "*=*=*=*=*=*=*=*=*=*=*=*=*=*=*=*=*=*=*=*=*=*=*=*=*=*=*=*=*=*=*=*=*=*=*=*=*=*=*=*=*=*=*=*=*=*=*=*=*=*=\n",
            "fold 4 EPOCH 2: mean position error 104.29229740910581\n",
            "*=*=*=*=*=*=*=*=*=*=*=*=*=*=*=*=*=*=*=*=*=*=*=*=*=*=*=*=*=*=*=*=*=*=*=*=*=*=*=*=*=*=*=*=*=*=*=*=*=*=\n"
          ],
          "name": "stdout"
        },
        {
          "output_type": "stream",
          "text": [
            "loss:3292.40087890625: 100%|██████████| 1614/1614 [04:11<00:00,  6.43it/s]\n",
            "100%|██████████| 404/404 [00:50<00:00,  8.05it/s]\n",
            "  0%|          | 0/1614 [00:00<?, ?it/s]"
          ],
          "name": "stderr"
        },
        {
          "output_type": "stream",
          "text": [
            "*=*=*=*=*=*=*=*=*=*=*=*=*=*=*=*=*=*=*=*=*=*=*=*=*=*=*=*=*=*=*=*=*=*=*=*=*=*=*=*=*=*=*=*=*=*=*=*=*=*=\n",
            "fold 4 EPOCH 3: mean position error 78.34838099329566\n",
            "*=*=*=*=*=*=*=*=*=*=*=*=*=*=*=*=*=*=*=*=*=*=*=*=*=*=*=*=*=*=*=*=*=*=*=*=*=*=*=*=*=*=*=*=*=*=*=*=*=*=\n"
          ],
          "name": "stdout"
        },
        {
          "output_type": "stream",
          "text": [
            "loss:2133.102294921875: 100%|██████████| 1614/1614 [04:11<00:00,  6.42it/s]\n",
            "100%|██████████| 404/404 [00:50<00:00,  8.02it/s]\n",
            "  0%|          | 0/1614 [00:00<?, ?it/s]"
          ],
          "name": "stderr"
        },
        {
          "output_type": "stream",
          "text": [
            "*=*=*=*=*=*=*=*=*=*=*=*=*=*=*=*=*=*=*=*=*=*=*=*=*=*=*=*=*=*=*=*=*=*=*=*=*=*=*=*=*=*=*=*=*=*=*=*=*=*=\n",
            "fold 4 EPOCH 4: mean position error 74.16114994128318\n",
            "*=*=*=*=*=*=*=*=*=*=*=*=*=*=*=*=*=*=*=*=*=*=*=*=*=*=*=*=*=*=*=*=*=*=*=*=*=*=*=*=*=*=*=*=*=*=*=*=*=*=\n"
          ],
          "name": "stdout"
        },
        {
          "output_type": "stream",
          "text": [
            "loss:1925.05859375: 100%|██████████| 1614/1614 [04:11<00:00,  6.42it/s]\n",
            "100%|██████████| 404/404 [00:49<00:00,  8.10it/s]\n",
            "  0%|          | 0/1614 [00:00<?, ?it/s]"
          ],
          "name": "stderr"
        },
        {
          "output_type": "stream",
          "text": [
            "*=*=*=*=*=*=*=*=*=*=*=*=*=*=*=*=*=*=*=*=*=*=*=*=*=*=*=*=*=*=*=*=*=*=*=*=*=*=*=*=*=*=*=*=*=*=*=*=*=*=\n",
            "fold 4 EPOCH 5: mean position error 71.88535744884949\n",
            "*=*=*=*=*=*=*=*=*=*=*=*=*=*=*=*=*=*=*=*=*=*=*=*=*=*=*=*=*=*=*=*=*=*=*=*=*=*=*=*=*=*=*=*=*=*=*=*=*=*=\n"
          ],
          "name": "stdout"
        },
        {
          "output_type": "stream",
          "text": [
            "loss:1623.031005859375: 100%|██████████| 1614/1614 [04:12<00:00,  6.40it/s]\n",
            "100%|██████████| 404/404 [00:50<00:00,  8.06it/s]\n",
            "  0%|          | 0/1614 [00:00<?, ?it/s]"
          ],
          "name": "stderr"
        },
        {
          "output_type": "stream",
          "text": [
            "*=*=*=*=*=*=*=*=*=*=*=*=*=*=*=*=*=*=*=*=*=*=*=*=*=*=*=*=*=*=*=*=*=*=*=*=*=*=*=*=*=*=*=*=*=*=*=*=*=*=\n",
            "fold 4 EPOCH 6: mean position error 57.61737476669212\n",
            "*=*=*=*=*=*=*=*=*=*=*=*=*=*=*=*=*=*=*=*=*=*=*=*=*=*=*=*=*=*=*=*=*=*=*=*=*=*=*=*=*=*=*=*=*=*=*=*=*=*=\n"
          ],
          "name": "stdout"
        },
        {
          "output_type": "stream",
          "text": [
            "loss:793.8807373046875: 100%|██████████| 1614/1614 [04:11<00:00,  6.41it/s]\n",
            "100%|██████████| 404/404 [00:50<00:00,  8.06it/s]\n",
            "  0%|          | 0/1614 [00:00<?, ?it/s]"
          ],
          "name": "stderr"
        },
        {
          "output_type": "stream",
          "text": [
            "*=*=*=*=*=*=*=*=*=*=*=*=*=*=*=*=*=*=*=*=*=*=*=*=*=*=*=*=*=*=*=*=*=*=*=*=*=*=*=*=*=*=*=*=*=*=*=*=*=*=\n",
            "fold 4 EPOCH 7: mean position error 45.109456845776435\n",
            "*=*=*=*=*=*=*=*=*=*=*=*=*=*=*=*=*=*=*=*=*=*=*=*=*=*=*=*=*=*=*=*=*=*=*=*=*=*=*=*=*=*=*=*=*=*=*=*=*=*=\n"
          ],
          "name": "stdout"
        },
        {
          "output_type": "stream",
          "text": [
            "loss:423.9193420410156: 100%|██████████| 1614/1614 [04:11<00:00,  6.43it/s]\n",
            "100%|██████████| 404/404 [00:50<00:00,  8.07it/s]\n",
            "  0%|          | 0/1614 [00:00<?, ?it/s]"
          ],
          "name": "stderr"
        },
        {
          "output_type": "stream",
          "text": [
            "*=*=*=*=*=*=*=*=*=*=*=*=*=*=*=*=*=*=*=*=*=*=*=*=*=*=*=*=*=*=*=*=*=*=*=*=*=*=*=*=*=*=*=*=*=*=*=*=*=*=\n",
            "fold 4 EPOCH 8: mean position error 39.189449994154764\n",
            "*=*=*=*=*=*=*=*=*=*=*=*=*=*=*=*=*=*=*=*=*=*=*=*=*=*=*=*=*=*=*=*=*=*=*=*=*=*=*=*=*=*=*=*=*=*=*=*=*=*=\n"
          ],
          "name": "stdout"
        },
        {
          "output_type": "stream",
          "text": [
            "loss:263.799072265625: 100%|██████████| 1614/1614 [04:09<00:00,  6.46it/s]\n",
            "100%|██████████| 404/404 [00:50<00:00,  8.04it/s]\n",
            "  0%|          | 0/1614 [00:00<?, ?it/s]"
          ],
          "name": "stderr"
        },
        {
          "output_type": "stream",
          "text": [
            "*=*=*=*=*=*=*=*=*=*=*=*=*=*=*=*=*=*=*=*=*=*=*=*=*=*=*=*=*=*=*=*=*=*=*=*=*=*=*=*=*=*=*=*=*=*=*=*=*=*=\n",
            "fold 4 EPOCH 9: mean position error 35.92887765573488\n",
            "*=*=*=*=*=*=*=*=*=*=*=*=*=*=*=*=*=*=*=*=*=*=*=*=*=*=*=*=*=*=*=*=*=*=*=*=*=*=*=*=*=*=*=*=*=*=*=*=*=*=\n"
          ],
          "name": "stdout"
        },
        {
          "output_type": "stream",
          "text": [
            "loss:181.4266815185547: 100%|██████████| 1614/1614 [04:12<00:00,  6.40it/s]\n",
            "100%|██████████| 404/404 [00:50<00:00,  8.05it/s]\n",
            "  0%|          | 0/1614 [00:00<?, ?it/s]"
          ],
          "name": "stderr"
        },
        {
          "output_type": "stream",
          "text": [
            "*=*=*=*=*=*=*=*=*=*=*=*=*=*=*=*=*=*=*=*=*=*=*=*=*=*=*=*=*=*=*=*=*=*=*=*=*=*=*=*=*=*=*=*=*=*=*=*=*=*=\n",
            "fold 4 EPOCH 10: mean position error 34.11004683437373\n",
            "*=*=*=*=*=*=*=*=*=*=*=*=*=*=*=*=*=*=*=*=*=*=*=*=*=*=*=*=*=*=*=*=*=*=*=*=*=*=*=*=*=*=*=*=*=*=*=*=*=*=\n"
          ],
          "name": "stdout"
        },
        {
          "output_type": "stream",
          "text": [
            "loss:131.43060302734375: 100%|██████████| 1614/1614 [04:15<00:00,  6.31it/s]\n",
            "100%|██████████| 404/404 [00:50<00:00,  8.01it/s]\n",
            "  0%|          | 0/1614 [00:00<?, ?it/s]"
          ],
          "name": "stderr"
        },
        {
          "output_type": "stream",
          "text": [
            "*=*=*=*=*=*=*=*=*=*=*=*=*=*=*=*=*=*=*=*=*=*=*=*=*=*=*=*=*=*=*=*=*=*=*=*=*=*=*=*=*=*=*=*=*=*=*=*=*=*=\n",
            "fold 4 EPOCH 11: mean position error 33.14419376877928\n",
            "*=*=*=*=*=*=*=*=*=*=*=*=*=*=*=*=*=*=*=*=*=*=*=*=*=*=*=*=*=*=*=*=*=*=*=*=*=*=*=*=*=*=*=*=*=*=*=*=*=*=\n"
          ],
          "name": "stdout"
        },
        {
          "output_type": "stream",
          "text": [
            "loss:100.43680572509766: 100%|██████████| 1614/1614 [04:13<00:00,  6.37it/s]\n",
            "100%|██████████| 404/404 [00:50<00:00,  8.05it/s]\n",
            "  0%|          | 0/1614 [00:00<?, ?it/s]"
          ],
          "name": "stderr"
        },
        {
          "output_type": "stream",
          "text": [
            "*=*=*=*=*=*=*=*=*=*=*=*=*=*=*=*=*=*=*=*=*=*=*=*=*=*=*=*=*=*=*=*=*=*=*=*=*=*=*=*=*=*=*=*=*=*=*=*=*=*=\n",
            "fold 4 EPOCH 12: mean position error 32.41727367187568\n",
            "*=*=*=*=*=*=*=*=*=*=*=*=*=*=*=*=*=*=*=*=*=*=*=*=*=*=*=*=*=*=*=*=*=*=*=*=*=*=*=*=*=*=*=*=*=*=*=*=*=*=\n"
          ],
          "name": "stdout"
        },
        {
          "output_type": "stream",
          "text": [
            "loss:79.07003021240234: 100%|██████████| 1614/1614 [04:09<00:00,  6.48it/s]\n",
            "100%|██████████| 404/404 [00:50<00:00,  8.00it/s]\n",
            "  0%|          | 0/1614 [00:00<?, ?it/s]"
          ],
          "name": "stderr"
        },
        {
          "output_type": "stream",
          "text": [
            "*=*=*=*=*=*=*=*=*=*=*=*=*=*=*=*=*=*=*=*=*=*=*=*=*=*=*=*=*=*=*=*=*=*=*=*=*=*=*=*=*=*=*=*=*=*=*=*=*=*=\n",
            "fold 4 EPOCH 13: mean position error 31.963135911421755\n",
            "*=*=*=*=*=*=*=*=*=*=*=*=*=*=*=*=*=*=*=*=*=*=*=*=*=*=*=*=*=*=*=*=*=*=*=*=*=*=*=*=*=*=*=*=*=*=*=*=*=*=\n"
          ],
          "name": "stdout"
        },
        {
          "output_type": "stream",
          "text": [
            "loss:64.64217376708984: 100%|██████████| 1614/1614 [04:13<00:00,  6.36it/s]\n",
            "100%|██████████| 404/404 [00:50<00:00,  8.05it/s]\n",
            "  0%|          | 0/80 [00:00<?, ?it/s]"
          ],
          "name": "stderr"
        },
        {
          "output_type": "stream",
          "text": [
            "*=*=*=*=*=*=*=*=*=*=*=*=*=*=*=*=*=*=*=*=*=*=*=*=*=*=*=*=*=*=*=*=*=*=*=*=*=*=*=*=*=*=*=*=*=*=*=*=*=*=\n",
            "fold 4 EPOCH 14: mean position error 31.56452147766356\n",
            "*=*=*=*=*=*=*=*=*=*=*=*=*=*=*=*=*=*=*=*=*=*=*=*=*=*=*=*=*=*=*=*=*=*=*=*=*=*=*=*=*=*=*=*=*=*=*=*=*=*=\n"
          ],
          "name": "stdout"
        },
        {
          "output_type": "stream",
          "text": [
            "100%|██████████| 80/80 [00:08<00:00,  9.03it/s]\n"
          ],
          "name": "stderr"
        }
      ]
    },
    {
      "cell_type": "code",
      "metadata": {
        "id": "FzEs4cXZklyu",
        "colab": {
          "base_uri": "https://localhost:8080/"
        },
        "outputId": "7fcbbf03-ac65-4751-8b46-d8549ed77092"
      },
      "source": [
        "subm = pd.read_csv('sample_submission.csv', index_col=0)\n",
        "\n",
        "test_x = preds_x / (fold + 1) \n",
        "test_y = preds_y /(fold + 1)\n",
        "print(\"*+\"*40)\n",
        "# as it breaks in the middle of cross-validation, the score is not accurate at all.\n",
        "score = comp_metric(oof_x, oof_y, oof_f, data.iloc[:, -5].to_numpy(), data.iloc[:, -4].to_numpy(), data.iloc[:, -3].to_numpy())\n",
        "oof.append(score)\n",
        "print(f\"mean position error {score}\")\n",
        "print(\"*+\"*40)\n",
        "preds_f_mode = stats.mode(preds_f_arr, axis=1)\n",
        "preds_f = preds_f_mode[0].astype(int).reshape(-1)\n",
        "test_preds = pd.DataFrame(np.stack((preds_f, test_x, test_y))).T\n",
        "test_preds.columns = subm.columns\n",
        "test_preds.index = test_data[\"site_path_timestamp\"]\n",
        "test_preds[\"floor\"] = test_preds[\"floor\"].astype(int)\n",
        "predictions.append(test_preds)"
      ],
      "execution_count": 24,
      "outputs": [
        {
          "output_type": "stream",
          "text": [
            "*+*+*+*+*+*+*+*+*+*+*+*+*+*+*+*+*+*+*+*+*+*+*+*+*+*+*+*+*+*+*+*+*+*+*+*+*+*+*+*+\n",
            "mean position error 192.2107121781046\n",
            "*+*+*+*+*+*+*+*+*+*+*+*+*+*+*+*+*+*+*+*+*+*+*+*+*+*+*+*+*+*+*+*+*+*+*+*+*+*+*+*+\n"
          ],
          "name": "stdout"
        }
      ]
    },
    {
      "cell_type": "code",
      "metadata": {
        "id": "_fPSMy46mId4"
      },
      "source": [
        "all_preds = pd.concat(predictions)\n",
        "all_preds = all_preds.reindex(subm.index)"
      ],
      "execution_count": 25,
      "outputs": []
    },
    {
      "cell_type": "code",
      "metadata": {
        "id": "zEzo_Jt6mPLf"
      },
      "source": [
        "simple_accurate_99 = pd.read_csv('submission_99.csv')\n",
        "all_preds['floor'] = simple_accurate_99['floor'].values"
      ],
      "execution_count": 26,
      "outputs": []
    },
    {
      "cell_type": "code",
      "metadata": {
        "id": "hkcrlhzxmuDS"
      },
      "source": [
        "all_preds.to_csv('submission.csv')"
      ],
      "execution_count": 27,
      "outputs": []
    },
    {
      "cell_type": "markdown",
      "metadata": {
        "id": "oZORMkFh9HdY"
      },
      "source": [
        "## Post Processing"
      ]
    },
    {
      "cell_type": "code",
      "metadata": {
        "colab": {
          "base_uri": "https://localhost:8080/"
        },
        "id": "rKWoK1Qj9msY",
        "outputId": "c88f0f56-6dac-41a4-a476-f18b5f7034ea"
      },
      "source": [
        "!git clone --depth 1 https://github.com/location-competition/indoor-location-competition-20 indoor_location_competition_20 > /dev/null\n",
        "!rm -rf indoor_location_competition_20/data > /dev/null"
      ],
      "execution_count": 29,
      "outputs": [
        {
          "output_type": "stream",
          "text": [
            "Cloning into 'indoor_location_competition_20'...\n",
            "remote: Enumerating objects: 1169, done.\u001b[K\n",
            "remote: Counting objects: 100% (1169/1169), done.\u001b[K\n",
            "remote: Compressing objects: 100% (1131/1131), done.\u001b[K\n",
            "remote: Total 1169 (delta 38), reused 1167 (delta 38), pack-reused 0\u001b[K\n",
            "Receiving objects: 100% (1169/1169), 411.37 MiB | 18.03 MiB/s, done.\n",
            "Resolving deltas: 100% (38/38), done.\n",
            "Checking out files: 100% (1145/1145), done.\n"
          ],
          "name": "stdout"
        }
      ]
    },
    {
      "cell_type": "code",
      "metadata": {
        "colab": {
          "base_uri": "https://localhost:8080/"
        },
        "id": "fZc1fczv-8Cq",
        "outputId": "407609c0-23c4-40b1-cfe8-00243a10f24a"
      },
      "source": [
        "!pip install --upgrade kaggle\n",
        "!mkdir indoor_dataset\n",
        "!kaggle competitions download -c indoor-location-navigation -p indoor_dataset > /dev/null\n",
        "!unzip indoor_dataset/indoor-location-navigation.zip > /dev/null"
      ],
      "execution_count": 36,
      "outputs": [
        {
          "output_type": "stream",
          "text": [
            "Collecting kaggle\n",
            "\u001b[?25l  Downloading https://files.pythonhosted.org/packages/3a/e7/3bac01547d2ed3d308ac92a0878fbdb0ed0f3d41fb1906c319ccbba1bfbc/kaggle-1.5.12.tar.gz (58kB)\n",
            "\r\u001b[K     |█████▋                          | 10kB 19.2MB/s eta 0:00:01\r\u001b[K     |███████████▏                    | 20kB 9.6MB/s eta 0:00:01\r\u001b[K     |████████████████▊               | 30kB 7.4MB/s eta 0:00:01\r\u001b[K     |██████████████████████▎         | 40kB 6.5MB/s eta 0:00:01\r\u001b[K     |███████████████████████████▉    | 51kB 4.7MB/s eta 0:00:01\r\u001b[K     |████████████████████████████████| 61kB 3.1MB/s \n",
            "\u001b[?25hRequirement already satisfied, skipping upgrade: six>=1.10 in /usr/local/lib/python3.7/dist-packages (from kaggle) (1.15.0)\n",
            "Requirement already satisfied, skipping upgrade: certifi in /usr/local/lib/python3.7/dist-packages (from kaggle) (2020.12.5)\n",
            "Requirement already satisfied, skipping upgrade: python-dateutil in /usr/local/lib/python3.7/dist-packages (from kaggle) (2.8.1)\n",
            "Requirement already satisfied, skipping upgrade: requests in /usr/local/lib/python3.7/dist-packages (from kaggle) (2.23.0)\n",
            "Requirement already satisfied, skipping upgrade: tqdm in /usr/local/lib/python3.7/dist-packages (from kaggle) (4.41.1)\n",
            "Requirement already satisfied, skipping upgrade: python-slugify in /usr/local/lib/python3.7/dist-packages (from kaggle) (4.0.1)\n",
            "Requirement already satisfied, skipping upgrade: urllib3 in /usr/local/lib/python3.7/dist-packages (from kaggle) (1.24.3)\n",
            "Requirement already satisfied, skipping upgrade: chardet<4,>=3.0.2 in /usr/local/lib/python3.7/dist-packages (from requests->kaggle) (3.0.4)\n",
            "Requirement already satisfied, skipping upgrade: idna<3,>=2.5 in /usr/local/lib/python3.7/dist-packages (from requests->kaggle) (2.10)\n",
            "Requirement already satisfied, skipping upgrade: text-unidecode>=1.3 in /usr/local/lib/python3.7/dist-packages (from python-slugify->kaggle) (1.3)\n",
            "Building wheels for collected packages: kaggle\n",
            "  Building wheel for kaggle (setup.py) ... \u001b[?25l\u001b[?25hdone\n",
            "  Created wheel for kaggle: filename=kaggle-1.5.12-cp37-none-any.whl size=73053 sha256=aaab3af6a4db14168e6ee12031389216a43061c883485305a52d71a557860ed4\n",
            "  Stored in directory: /root/.cache/pip/wheels/a1/6a/26/d30b7499ff85a4a4593377a87ecf55f7d08af42f0de9b60303\n",
            "Successfully built kaggle\n",
            "Installing collected packages: kaggle\n",
            "  Found existing installation: kaggle 1.5.10\n",
            "    Uninstalling kaggle-1.5.10:\n",
            "      Successfully uninstalled kaggle-1.5.10\n",
            "Successfully installed kaggle-1.5.12\n",
            "100% 12.7G/12.7G [02:31<00:00, 89.7MB/s]\n",
            "replace sample_submission.csv? [y]es, [n]o, [A]ll, [N]one, [r]ename: n\n",
            "n\n",
            "n\n",
            "no\n",
            "no\n",
            "\n",
            "None\n",
            "All\n",
            "n\n",
            "n\n",
            "exit\n"
          ],
          "name": "stdout"
        }
      ]
    },
    {
      "cell_type": "code",
      "metadata": {
        "id": "Qb01vv2T90M2"
      },
      "source": [
        "import multiprocessing\n",
        "import numpy as np\n",
        "import pandas as pd\n",
        "import scipy.interpolate\n",
        "import scipy.sparse\n",
        "from tqdm import tqdm\n",
        "\n",
        "from indoor_location_competition_20.io_f import read_data_file\n",
        "import indoor_location_competition_20.compute_f as compute_f"
      ],
      "execution_count": 30,
      "outputs": []
    },
    {
      "cell_type": "code",
      "metadata": {
        "id": "HMpNB_vD9GFR"
      },
      "source": [
        "def compute_rel_positions(acce_datas, ahrs_datas):\n",
        "    step_timestamps, step_indexs, step_acce_max_mins = compute_f.compute_steps(acce_datas)\n",
        "    headings = compute_f.compute_headings(ahrs_datas)\n",
        "    stride_lengths = compute_f.compute_stride_length(step_acce_max_mins)\n",
        "    step_headings = compute_f.compute_step_heading(step_timestamps, headings)\n",
        "    rel_positions = compute_f.compute_rel_positions(stride_lengths, step_headings)\n",
        "    return rel_positions\n",
        "\n",
        "def correct_path(args):\n",
        "    path, path_df = args\n",
        "    \n",
        "    T_ref  = path_df['timestamp'].values\n",
        "    xy_hat = path_df[['x', 'y']].values\n",
        "    \n",
        "    example = read_data_file(f'{INPUT_PATH}/test/{path}.txt')\n",
        "    rel_positions = compute_rel_positions(example.acce, example.ahrs)\n",
        "    if T_ref[-1] > rel_positions[-1, 0]:\n",
        "        rel_positions = [np.array([[0, 0, 0]]), rel_positions, np.array([[T_ref[-1], 0, 0]])]\n",
        "    else:\n",
        "        rel_positions = [np.array([[0, 0, 0]]), rel_positions]\n",
        "    rel_positions = np.concatenate(rel_positions)\n",
        "    \n",
        "    T_rel = rel_positions[:, 0]\n",
        "    delta_xy_hat = np.diff(scipy.interpolate.interp1d(T_rel, np.cumsum(rel_positions[:, 1:3], axis=0), axis=0)(T_ref), axis=0)\n",
        "\n",
        "    N = xy_hat.shape[0]\n",
        "    delta_t = np.diff(T_ref)\n",
        "    alpha = (8.1)**(-2) * np.ones(N)\n",
        "    beta  = (0.3 + 0.3 * 1e-3 * delta_t)**(-2)\n",
        "    A = scipy.sparse.spdiags(alpha, [0], N, N)\n",
        "    B = scipy.sparse.spdiags( beta, [0], N-1, N-1)\n",
        "    D = scipy.sparse.spdiags(np.stack([-np.ones(N), np.ones(N)]), [0, 1], N-1, N)\n",
        "\n",
        "    Q = A + (D.T @ B @ D)\n",
        "    c = (A @ xy_hat) + (D.T @ (B @ delta_xy_hat))\n",
        "    xy_star = scipy.sparse.linalg.spsolve(Q, c)\n",
        "\n",
        "    return pd.DataFrame({\n",
        "        'site_path_timestamp' : path_df['site_path_timestamp'],\n",
        "        'floor' : path_df['floor'],\n",
        "        'x' : xy_star[:, 0],\n",
        "        'y' : xy_star[:, 1],\n",
        "    })"
      ],
      "execution_count": 31,
      "outputs": []
    },
    {
      "cell_type": "code",
      "metadata": {
        "colab": {
          "base_uri": "https://localhost:8080/"
        },
        "id": "anranW9E9KBq",
        "outputId": "e5fcd178-cdbb-4f05-df00-63811292bd2b"
      },
      "source": [
        "INPUT_PATH = './indoor_dataset'\n",
        "\n",
        "sub = pd.read_csv('submission.csv')\n",
        "tmp = sub['site_path_timestamp'].apply(lambda s : pd.Series(s.split('_')))\n",
        "sub['site'] = tmp[0]\n",
        "sub['path'] = tmp[1]\n",
        "sub['timestamp'] = tmp[2].astype(float)\n",
        "\n",
        "processes = multiprocessing.cpu_count()\n",
        "with multiprocessing.Pool(processes=processes) as pool:\n",
        "    dfs = pool.imap_unordered(correct_path, sub.groupby('path'))\n",
        "    dfs = tqdm(dfs)\n",
        "    dfs = list(dfs)\n",
        "sub = pd.concat(dfs).sort_values('site_path_timestamp')\n",
        "sub.to_csv('submission_post.csv', index=False)"
      ],
      "execution_count": 37,
      "outputs": [
        {
          "output_type": "stream",
          "text": [
            "\n",
            "\n",
            "0it [00:00, ?it/s]\u001b[A\u001b[A\n",
            "\n",
            "1it [00:01,  1.98s/it]\u001b[A\u001b[A\n",
            "\n",
            "3it [00:02,  1.41s/it]\u001b[A\u001b[A\n",
            "\n",
            "4it [00:02,  1.24s/it]\u001b[A\u001b[A\n",
            "\n",
            "5it [00:03,  1.07s/it]\u001b[A\u001b[A\n",
            "\n",
            "6it [00:03,  1.21it/s]\u001b[A\u001b[A\n",
            "\n",
            "7it [00:04,  1.27it/s]\u001b[A\u001b[A\n",
            "\n",
            "9it [00:05,  1.48it/s]\u001b[A\u001b[A\n",
            "\n",
            "10it [00:06,  1.50it/s]\u001b[A\u001b[A\n",
            "\n",
            "11it [00:06,  1.45it/s]\u001b[A\u001b[A\n",
            "\n",
            "12it [00:07,  1.60it/s]\u001b[A\u001b[A\n",
            "\n",
            "13it [00:09,  1.18s/it]\u001b[A\u001b[A\n",
            "\n",
            "14it [00:10,  1.11it/s]\u001b[A\u001b[A\n",
            "\n",
            "15it [00:10,  1.26it/s]\u001b[A\u001b[A\n",
            "\n",
            "16it [00:12,  1.06s/it]\u001b[A\u001b[A\n",
            "\n",
            "18it [00:13,  1.03it/s]\u001b[A\u001b[A\n",
            "\n",
            "19it [00:13,  1.39it/s]\u001b[A\u001b[A\n",
            "\n",
            "20it [00:14,  1.50it/s]\u001b[A\u001b[A\n",
            "\n",
            "21it [00:14,  2.00it/s]\u001b[A\u001b[A\n",
            "\n",
            "22it [00:15,  1.32it/s]\u001b[A\u001b[A\n",
            "\n",
            "23it [00:16,  1.66it/s]\u001b[A\u001b[A\n",
            "\n",
            "24it [00:17,  1.06it/s]\u001b[A\u001b[A\n",
            "\n",
            "26it [00:18,  1.34it/s]\u001b[A\u001b[A\n",
            "\n",
            "27it [00:20,  1.18s/it]\u001b[A\u001b[A\n",
            "\n",
            "28it [00:21,  1.08it/s]\u001b[A\u001b[A\n",
            "\n",
            "30it [00:22,  1.10it/s]\u001b[A\u001b[A\n",
            "\n",
            "32it [00:23,  1.41it/s]\u001b[A\u001b[A\n",
            "\n",
            "33it [00:23,  1.68it/s]\u001b[A\u001b[A\n",
            "\n",
            "34it [00:24,  1.44it/s]\u001b[A\u001b[A\n",
            "\n",
            "35it [00:25,  1.38it/s]\u001b[A\u001b[A\n",
            "\n",
            "37it [00:25,  1.70it/s]\u001b[A\u001b[A\n",
            "\n",
            "38it [00:26,  1.77it/s]\u001b[A\u001b[A\n",
            "\n",
            "39it [00:26,  1.92it/s]\u001b[A\u001b[A\n",
            "\n",
            "40it [00:27,  2.25it/s]\u001b[A\u001b[A\n",
            "\n",
            "41it [00:27,  2.32it/s]\u001b[A\u001b[A\n",
            "\n",
            "42it [00:28,  1.72it/s]\u001b[A\u001b[A\n",
            "\n",
            "44it [00:28,  2.07it/s]\u001b[A\u001b[A\n",
            "\n",
            "45it [00:30,  1.07it/s]\u001b[A\u001b[A\n",
            "\n",
            "46it [00:31,  1.44it/s]\u001b[A\u001b[A\n",
            "\n",
            "47it [00:31,  1.29it/s]\u001b[A\u001b[A\n",
            "\n",
            "48it [00:32,  1.34it/s]\u001b[A\u001b[A\n",
            "\n",
            "50it [00:33,  1.59it/s]\u001b[A\u001b[A\n",
            "\n",
            "51it [00:34,  1.41it/s]\u001b[A\u001b[A\n",
            "\n",
            "52it [00:34,  1.43it/s]\u001b[A\u001b[A\n",
            "\n",
            "53it [00:35,  1.57it/s]\u001b[A\u001b[A\n",
            "\n",
            "54it [00:35,  1.83it/s]\u001b[A\u001b[A\n",
            "\n",
            "55it [00:38,  1.21s/it]\u001b[A\u001b[A\n",
            "\n",
            "56it [00:38,  1.06it/s]\u001b[A\u001b[A\n",
            "\n",
            "57it [00:39,  1.03it/s]\u001b[A\u001b[A\n",
            "\n",
            "58it [00:40,  1.34it/s]\u001b[A\u001b[A\n",
            "\n",
            "59it [00:40,  1.66it/s]\u001b[A\u001b[A\n",
            "\n",
            "60it [00:41,  1.13it/s]\u001b[A\u001b[A\n",
            "\n",
            "61it [00:42,  1.50it/s]\u001b[A\u001b[A\n",
            "\n",
            "62it [00:43,  1.16it/s]\u001b[A\u001b[A\n",
            "\n",
            "63it [00:45,  1.10s/it]\u001b[A\u001b[A\n",
            "\n",
            "64it [00:45,  1.13it/s]\u001b[A\u001b[A\n",
            "\n",
            "65it [00:46,  1.06it/s]\u001b[A\u001b[A\n",
            "\n",
            "66it [00:46,  1.40it/s]\u001b[A\u001b[A\n",
            "\n",
            "67it [00:47,  1.29it/s]\u001b[A\u001b[A\n",
            "\n",
            "68it [00:48,  1.50it/s]\u001b[A\u001b[A\n",
            "\n",
            "69it [00:49,  1.07it/s]\u001b[A\u001b[A\n",
            "\n",
            "70it [00:50,  1.01s/it]\u001b[A\u001b[A\n",
            "\n",
            "71it [00:51,  1.12it/s]\u001b[A\u001b[A\n",
            "\n",
            "72it [00:51,  1.28it/s]\u001b[A\u001b[A\n",
            "\n",
            "73it [00:52,  1.29it/s]\u001b[A\u001b[A\n",
            "\n",
            "74it [00:53,  1.31it/s]\u001b[A\u001b[A\n",
            "\n",
            "75it [00:54,  1.18it/s]\u001b[A\u001b[A\n",
            "\n",
            "77it [00:54,  1.54it/s]\u001b[A\u001b[A\n",
            "\n",
            "78it [00:55,  1.95it/s]\u001b[A\u001b[A\n",
            "\n",
            "79it [00:56,  1.21it/s]\u001b[A\u001b[A\n",
            "\n",
            "80it [00:56,  1.52it/s]\u001b[A\u001b[A\n",
            "\n",
            "81it [00:57,  1.79it/s]\u001b[A\u001b[A\n",
            "\n",
            "82it [00:57,  1.91it/s]\u001b[A\u001b[A\n",
            "\n",
            "83it [00:59,  1.23it/s]\u001b[A\u001b[A\n",
            "\n",
            "85it [00:59,  1.53it/s]\u001b[A\u001b[A\n",
            "\n",
            "86it [01:01,  1.14it/s]\u001b[A\u001b[A\n",
            "\n",
            "87it [01:01,  1.43it/s]\u001b[A\u001b[A\n",
            "\n",
            "88it [01:02,  1.13it/s]\u001b[A\u001b[A\n",
            "\n",
            "90it [01:02,  1.53it/s]\u001b[A\u001b[A\n",
            "\n",
            "92it [01:04,  1.46it/s]\u001b[A\u001b[A\n",
            "\n",
            "93it [01:06,  1.06s/it]\u001b[A\u001b[A\n",
            "\n",
            "94it [01:07,  1.06it/s]\u001b[A\u001b[A\n",
            "\n",
            "95it [01:08,  1.02it/s]\u001b[A\u001b[A\n",
            "\n",
            "96it [01:10,  1.29s/it]\u001b[A\u001b[A\n",
            "\n",
            "98it [01:12,  1.22s/it]\u001b[A\u001b[A\n",
            "\n",
            "99it [01:12,  1.04it/s]\u001b[A\u001b[A\n",
            "\n",
            "100it [01:14,  1.13s/it]\u001b[A\u001b[A\n",
            "\n",
            "101it [01:14,  1.00it/s]\u001b[A\u001b[A\n",
            "\n",
            "102it [01:16,  1.11s/it]\u001b[A\u001b[A\n",
            "\n",
            "103it [01:16,  1.10it/s]\u001b[A\u001b[A\n",
            "\n",
            "104it [01:17,  1.01it/s]\u001b[A\u001b[A\n",
            "\n",
            "105it [01:17,  1.34it/s]\u001b[A\u001b[A\n",
            "\n",
            "106it [01:19,  1.08s/it]\u001b[A\u001b[A\n",
            "\n",
            "107it [01:20,  1.08it/s]\u001b[A\u001b[A\n",
            "\n",
            "108it [01:20,  1.35it/s]\u001b[A\u001b[A\n",
            "\n",
            "109it [01:22,  1.06it/s]\u001b[A\u001b[A\n",
            "\n",
            "110it [01:22,  1.19it/s]\u001b[A\u001b[A\n",
            "\n",
            "111it [01:23,  1.31it/s]\u001b[A\u001b[A\n",
            "\n",
            "112it [01:24,  1.01s/it]\u001b[A\u001b[A\n",
            "\n",
            "114it [01:26,  1.00it/s]\u001b[A\u001b[A\n",
            "\n",
            "116it [01:27,  1.35it/s]\u001b[A\u001b[A\n",
            "\n",
            "117it [01:28,  1.07s/it]\u001b[A\u001b[A\n",
            "\n",
            "118it [01:29,  1.21it/s]\u001b[A\u001b[A\n",
            "\n",
            "119it [01:30,  1.03it/s]\u001b[A\u001b[A\n",
            "\n",
            "120it [01:31,  1.01s/it]\u001b[A\u001b[A\n",
            "\n",
            "121it [01:31,  1.27it/s]\u001b[A\u001b[A\n",
            "\n",
            "122it [01:32,  1.38it/s]\u001b[A\u001b[A\n",
            "\n",
            "123it [01:33,  1.17it/s]\u001b[A\u001b[A\n",
            "\n",
            "124it [01:34,  1.33it/s]\u001b[A\u001b[A\n",
            "\n",
            "125it [01:34,  1.43it/s]\u001b[A\u001b[A\n",
            "\n",
            "126it [01:35,  1.32it/s]\u001b[A\u001b[A\n",
            "\n",
            "127it [01:36,  1.45it/s]\u001b[A\u001b[A\n",
            "\n",
            "128it [01:37,  1.10it/s]\u001b[A\u001b[A\n",
            "\n",
            "129it [01:37,  1.44it/s]\u001b[A\u001b[A\n",
            "\n",
            "130it [01:37,  1.84it/s]\u001b[A\u001b[A\n",
            "\n",
            "131it [01:38,  1.96it/s]\u001b[A\u001b[A\n",
            "\n",
            "132it [01:39,  1.52it/s]\u001b[A\u001b[A\n",
            "\n",
            "134it [01:40,  1.48it/s]\u001b[A\u001b[A\n",
            "\n",
            "135it [01:41,  1.71it/s]\u001b[A\u001b[A\n",
            "\n",
            "136it [01:41,  1.87it/s]\u001b[A\u001b[A\n",
            "\n",
            "137it [01:41,  2.07it/s]\u001b[A\u001b[A\n",
            "\n",
            "138it [01:42,  1.96it/s]\u001b[A\u001b[A\n",
            "\n",
            "139it [01:43,  1.38it/s]\u001b[A\u001b[A\n",
            "\n",
            "140it [01:43,  1.83it/s]\u001b[A\u001b[A\n",
            "\n",
            "141it [01:44,  1.85it/s]\u001b[A\u001b[A\n",
            "\n",
            "142it [01:45,  1.24it/s]\u001b[A\u001b[A\n",
            "\n",
            "143it [01:46,  1.63it/s]\u001b[A\u001b[A\n",
            "\n",
            "144it [01:46,  2.06it/s]\u001b[A\u001b[A\n",
            "\n",
            "145it [01:46,  2.20it/s]\u001b[A\u001b[A\n",
            "\n",
            "146it [01:48,  1.21it/s]\u001b[A\u001b[A\n",
            "\n",
            "148it [01:49,  1.29it/s]\u001b[A\u001b[A\n",
            "\n",
            "149it [01:50,  1.46it/s]\u001b[A\u001b[A\n",
            "\n",
            "150it [01:50,  1.82it/s]\u001b[A\u001b[A\n",
            "\n",
            "151it [01:51,  1.43it/s]\u001b[A\u001b[A\n",
            "\n",
            "152it [01:51,  1.70it/s]\u001b[A\u001b[A\n",
            "\n",
            "153it [01:53,  1.20it/s]\u001b[A\u001b[A\n",
            "\n",
            "154it [01:53,  1.33it/s]\u001b[A\u001b[A\n",
            "\n",
            "155it [01:53,  1.70it/s]\u001b[A\u001b[A\n",
            "\n",
            "156it [01:54,  1.38it/s]\u001b[A\u001b[A\n",
            "\n",
            "157it [01:55,  1.55it/s]\u001b[A\u001b[A\n",
            "\n",
            "158it [01:55,  1.80it/s]\u001b[A\u001b[A\n",
            "\n",
            "159it [01:55,  2.13it/s]\u001b[A\u001b[A\n",
            "\n",
            "160it [01:56,  1.77it/s]\u001b[A\u001b[A\n",
            "\n",
            "161it [01:57,  1.79it/s]\u001b[A\u001b[A\n",
            "\n",
            "162it [01:57,  2.28it/s]\u001b[A\u001b[A\n",
            "\n",
            "163it [01:57,  2.30it/s]\u001b[A\u001b[A\n",
            "\n",
            "164it [01:58,  1.80it/s]\u001b[A\u001b[A\n",
            "\n",
            "166it [01:59,  1.81it/s]\u001b[A\u001b[A\n",
            "\n",
            "167it [02:00,  1.61it/s]\u001b[A\u001b[A\n",
            "\n",
            "168it [02:00,  1.82it/s]\u001b[A\u001b[A\n",
            "\n",
            "169it [02:01,  1.69it/s]\u001b[A\u001b[A\n",
            "\n",
            "170it [02:01,  1.98it/s]\u001b[A\u001b[A\n",
            "\n",
            "171it [02:02,  1.79it/s]\u001b[A\u001b[A\n",
            "\n",
            "172it [02:03,  1.34it/s]\u001b[A\u001b[A\n",
            "\n",
            "173it [02:04,  1.50it/s]\u001b[A\u001b[A\n",
            "\n",
            "174it [02:05,  1.25it/s]\u001b[A\u001b[A\n",
            "\n",
            "175it [02:05,  1.54it/s]\u001b[A\u001b[A\n",
            "\n",
            "176it [02:07,  1.01it/s]\u001b[A\u001b[A\n",
            "\n",
            "177it [02:08,  1.18it/s]\u001b[A\u001b[A\n",
            "\n",
            "178it [02:09,  1.11s/it]\u001b[A\u001b[A\n",
            "\n",
            "179it [02:09,  1.18it/s]\u001b[A\u001b[A\n",
            "\n",
            "180it [02:11,  1.05s/it]\u001b[A\u001b[A\n",
            "\n",
            "181it [02:12,  1.05s/it]\u001b[A\u001b[A\n",
            "\n",
            "182it [02:12,  1.25it/s]\u001b[A\u001b[A\n",
            "\n",
            "183it [02:12,  1.62it/s]\u001b[A\u001b[A\n",
            "\n",
            "184it [02:13,  2.08it/s]\u001b[A\u001b[A\n",
            "\n",
            "185it [02:14,  1.17it/s]\u001b[A\u001b[A\n",
            "\n",
            "186it [02:15,  1.17it/s]\u001b[A\u001b[A\n",
            "\n",
            "187it [02:16,  1.28it/s]\u001b[A\u001b[A\n",
            "\n",
            "188it [02:17,  1.00s/it]\u001b[A\u001b[A\n",
            "\n",
            "190it [02:17,  1.38it/s]\u001b[A\u001b[A\n",
            "\n",
            "191it [02:19,  1.06s/it]\u001b[A\u001b[A\n",
            "\n",
            "192it [02:20,  1.14it/s]\u001b[A\u001b[A\n",
            "\n",
            "194it [02:20,  1.56it/s]\u001b[A\u001b[A\n",
            "\n",
            "195it [02:22,  1.08it/s]\u001b[A\u001b[A\n",
            "\n",
            "198it [02:23,  1.25it/s]\u001b[A\u001b[A\n",
            "\n",
            "199it [02:23,  1.49it/s]\u001b[A\u001b[A\n",
            "\n",
            "200it [02:24,  1.82it/s]\u001b[A\u001b[A\n",
            "\n",
            "201it [02:25,  1.58it/s]\u001b[A\u001b[A\n",
            "\n",
            "202it [02:25,  2.06it/s]\u001b[A\u001b[A\n",
            "\n",
            "203it [02:26,  1.23it/s]\u001b[A\u001b[A\n",
            "\n",
            "204it [02:27,  1.43it/s]\u001b[A\u001b[A\n",
            "\n",
            "205it [02:27,  1.81it/s]\u001b[A\u001b[A\n",
            "\n",
            "206it [02:28,  1.59it/s]\u001b[A\u001b[A\n",
            "\n",
            "208it [02:29,  1.56it/s]\u001b[A\u001b[A\n",
            "\n",
            "209it [02:30,  1.64it/s]\u001b[A\u001b[A\n",
            "\n",
            "210it [02:30,  1.55it/s]\u001b[A\u001b[A\n",
            "\n",
            "211it [02:31,  1.37it/s]\u001b[A\u001b[A\n",
            "\n",
            "212it [02:32,  1.47it/s]\u001b[A\u001b[A\n",
            "\n",
            "213it [02:32,  1.57it/s]\u001b[A\u001b[A\n",
            "\n",
            "214it [02:33,  1.74it/s]\u001b[A\u001b[A\n",
            "\n",
            "215it [02:34,  1.43it/s]\u001b[A\u001b[A\n",
            "\n",
            "216it [02:35,  1.12it/s]\u001b[A\u001b[A\n",
            "\n",
            "217it [02:35,  1.37it/s]\u001b[A\u001b[A\n",
            "\n",
            "219it [02:36,  1.70it/s]\u001b[A\u001b[A\n",
            "\n",
            "220it [02:37,  1.17it/s]\u001b[A\u001b[A\n",
            "\n",
            "222it [02:39,  1.24it/s]\u001b[A\u001b[A\n",
            "\n",
            "223it [02:39,  1.41it/s]\u001b[A\u001b[A\n",
            "\n",
            "224it [02:40,  1.22it/s]\u001b[A\u001b[A\n",
            "\n",
            "225it [02:41,  1.47it/s]\u001b[A\u001b[A\n",
            "\n",
            "227it [02:41,  1.92it/s]\u001b[A\u001b[A\n",
            "\n",
            "228it [02:43,  1.25it/s]\u001b[A\u001b[A\n",
            "\n",
            "229it [02:43,  1.34it/s]\u001b[A\u001b[A\n",
            "\n",
            "230it [02:44,  1.28it/s]\u001b[A\u001b[A\n",
            "\n",
            "231it [02:45,  1.35it/s]\u001b[A\u001b[A\n",
            "\n",
            "232it [02:45,  1.81it/s]\u001b[A\u001b[A\n",
            "\n",
            "233it [02:46,  1.15it/s]\u001b[A\u001b[A\n",
            "\n",
            "234it [02:47,  1.54it/s]\u001b[A\u001b[A\n",
            "\n",
            "235it [02:48,  1.25it/s]\u001b[A\u001b[A\n",
            "\n",
            "236it [02:48,  1.47it/s]\u001b[A\u001b[A\n",
            "\n",
            "237it [02:49,  1.17it/s]\u001b[A\u001b[A\n",
            "\n",
            "239it [02:51,  1.09it/s]\u001b[A\u001b[A\n",
            "\n",
            "240it [02:52,  1.12it/s]\u001b[A\u001b[A\n",
            "\n",
            "241it [02:53,  1.12it/s]\u001b[A\u001b[A\n",
            "\n",
            "242it [02:54,  1.06it/s]\u001b[A\u001b[A\n",
            "\n",
            "244it [02:55,  1.40it/s]\u001b[A\u001b[A\n",
            "\n",
            "246it [02:56,  1.41it/s]\u001b[A\u001b[A\n",
            "\n",
            "247it [02:57,  1.26it/s]\u001b[A\u001b[A\n",
            "\n",
            "248it [02:57,  1.53it/s]\u001b[A\u001b[A\n",
            "\n",
            "249it [02:58,  1.76it/s]\u001b[A\u001b[A\n",
            "\n",
            "250it [02:58,  2.24it/s]\u001b[A\u001b[A\n",
            "\n",
            "251it [02:59,  1.38it/s]\u001b[A\u001b[A\n",
            "\n",
            "252it [02:59,  1.86it/s]\u001b[A\u001b[A\n",
            "\n",
            "253it [03:00,  1.84it/s]\u001b[A\u001b[A\n",
            "\n",
            "254it [03:00,  2.10it/s]\u001b[A\u001b[A\n",
            "\n",
            "255it [03:01,  1.65it/s]\u001b[A\u001b[A\n",
            "\n",
            "256it [03:02,  1.57it/s]\u001b[A\u001b[A\n",
            "\n",
            "257it [03:02,  1.57it/s]\u001b[A\u001b[A\n",
            "\n",
            "258it [03:03,  1.51it/s]\u001b[A\u001b[A\n",
            "\n",
            "259it [03:04,  1.77it/s]\u001b[A\u001b[A\n",
            "\n",
            "260it [03:05,  1.20it/s]\u001b[A\u001b[A\n",
            "\n",
            "261it [03:05,  1.47it/s]\u001b[A\u001b[A\n",
            "\n",
            "262it [03:06,  1.57it/s]\u001b[A\u001b[A\n",
            "\n",
            "263it [03:07,  1.39it/s]\u001b[A\u001b[A\n",
            "\n",
            "264it [03:07,  1.49it/s]\u001b[A\u001b[A\n",
            "\n",
            "265it [03:09,  1.07it/s]\u001b[A\u001b[A\n",
            "\n",
            "266it [03:09,  1.40it/s]\u001b[A\u001b[A\n",
            "\n",
            "267it [03:10,  1.35it/s]\u001b[A\u001b[A\n",
            "\n",
            "268it [03:10,  1.49it/s]\u001b[A\u001b[A\n",
            "\n",
            "269it [03:11,  1.83it/s]\u001b[A\u001b[A\n",
            "\n",
            "270it [03:12,  1.32it/s]\u001b[A\u001b[A\n",
            "\n",
            "271it [03:12,  1.60it/s]\u001b[A\u001b[A\n",
            "\n",
            "272it [03:13,  1.82it/s]\u001b[A\u001b[A\n",
            "\n",
            "273it [03:14,  1.49it/s]\u001b[A\u001b[A\n",
            "\n",
            "275it [03:15,  1.31it/s]\u001b[A\u001b[A\n",
            "\n",
            "276it [03:16,  1.54it/s]\u001b[A\u001b[A\n",
            "\n",
            "277it [03:16,  1.72it/s]\u001b[A\u001b[A\n",
            "\n",
            "278it [03:17,  1.50it/s]\u001b[A\u001b[A\n",
            "\n",
            "279it [03:18,  1.70it/s]\u001b[A\u001b[A\n",
            "\n",
            "280it [03:18,  1.45it/s]\u001b[A\u001b[A\n",
            "\n",
            "281it [03:19,  1.75it/s]\u001b[A\u001b[A\n",
            "\n",
            "282it [03:19,  2.08it/s]\u001b[A\u001b[A\n",
            "\n",
            "283it [03:19,  2.63it/s]\u001b[A\u001b[A\n",
            "\n",
            "284it [03:20,  1.57it/s]\u001b[A\u001b[A\n",
            "\n",
            "285it [03:21,  1.61it/s]\u001b[A\u001b[A\n",
            "\n",
            "286it [03:22,  1.63it/s]\u001b[A\u001b[A\n",
            "\n",
            "288it [03:23,  1.66it/s]\u001b[A\u001b[A\n",
            "\n",
            "289it [03:23,  1.66it/s]\u001b[A\u001b[A\n",
            "\n",
            "290it [03:24,  1.67it/s]\u001b[A\u001b[A\n",
            "\n",
            "291it [03:25,  1.52it/s]\u001b[A\u001b[A\n",
            "\n",
            "292it [03:25,  1.81it/s]\u001b[A\u001b[A\n",
            "\n",
            "293it [03:26,  1.36it/s]\u001b[A\u001b[A\n",
            "\n",
            "295it [03:27,  1.62it/s]\u001b[A\u001b[A\n",
            "\n",
            "296it [03:28,  1.61it/s]\u001b[A\u001b[A\n",
            "\n",
            "297it [03:29,  1.32it/s]\u001b[A\u001b[A\n",
            "\n",
            "298it [03:29,  1.42it/s]\u001b[A\u001b[A\n",
            "\n",
            "300it [03:29,  1.96it/s]\u001b[A\u001b[A\n",
            "\n",
            "301it [03:31,  1.27it/s]\u001b[A\u001b[A\n",
            "\n",
            "303it [03:31,  1.69it/s]\u001b[A\u001b[A\n",
            "\n",
            "304it [03:33,  1.11it/s]\u001b[A\u001b[A\n",
            "\n",
            "305it [03:33,  1.27it/s]\u001b[A\u001b[A\n",
            "\n",
            "306it [03:35,  1.12s/it]\u001b[A\u001b[A\n",
            "\n",
            "307it [03:36,  1.04it/s]\u001b[A\u001b[A\n",
            "\n",
            "308it [03:36,  1.21it/s]\u001b[A\u001b[A\n",
            "\n",
            "310it [03:37,  1.55it/s]\u001b[A\u001b[A\n",
            "\n",
            "311it [03:39,  1.17s/it]\u001b[A\u001b[A\n",
            "\n",
            "312it [03:40,  1.19s/it]\u001b[A\u001b[A\n",
            "\n",
            "313it [03:41,  1.02s/it]\u001b[A\u001b[A\n",
            "\n",
            "314it [03:41,  1.34it/s]\u001b[A\u001b[A\n",
            "\n",
            "315it [03:42,  1.13it/s]\u001b[A\u001b[A\n",
            "\n",
            "316it [03:43,  1.38it/s]\u001b[A\u001b[A\n",
            "\n",
            "318it [03:44,  1.35it/s]\u001b[A\u001b[A\n",
            "\n",
            "319it [03:45,  1.44it/s]\u001b[A\u001b[A\n",
            "\n",
            "320it [03:46,  1.01it/s]\u001b[A\u001b[A\n",
            "\n",
            "321it [03:48,  1.10s/it]\u001b[A\u001b[A\n",
            "\n",
            "322it [03:49,  1.03s/it]\u001b[A\u001b[A\n",
            "\n",
            "323it [03:49,  1.03it/s]\u001b[A\u001b[A\n",
            "\n",
            "324it [03:51,  1.20s/it]\u001b[A\u001b[A\n",
            "\n",
            "326it [03:53,  1.11s/it]\u001b[A\u001b[A\n",
            "\n",
            "327it [03:53,  1.15it/s]\u001b[A\u001b[A\n",
            "\n",
            "328it [03:54,  1.05it/s]\u001b[A\u001b[A\n",
            "\n",
            "330it [03:55,  1.41it/s]\u001b[A\u001b[A\n",
            "\n",
            "331it [03:56,  1.24it/s]\u001b[A\u001b[A\n",
            "\n",
            "332it [03:57,  1.13it/s]\u001b[A\u001b[A\n",
            "\n",
            "333it [03:57,  1.37it/s]\u001b[A\u001b[A\n",
            "\n",
            "334it [03:57,  1.67it/s]\u001b[A\u001b[A\n",
            "\n",
            "335it [03:59,  1.03s/it]\u001b[A\u001b[A\n",
            "\n",
            "336it [04:01,  1.04s/it]\u001b[A\u001b[A\n",
            "\n",
            "337it [04:01,  1.25it/s]\u001b[A\u001b[A\n",
            "\n",
            "338it [04:01,  1.58it/s]\u001b[A\u001b[A\n",
            "\n",
            "339it [04:02,  1.60it/s]\u001b[A\u001b[A\n",
            "\n",
            "340it [04:02,  1.63it/s]\u001b[A\u001b[A\n",
            "\n",
            "341it [04:03,  1.51it/s]\u001b[A\u001b[A\n",
            "\n",
            "342it [04:03,  2.02it/s]\u001b[A\u001b[A\n",
            "\n",
            "343it [04:04,  1.35it/s]\u001b[A\u001b[A\n",
            "\n",
            "344it [04:05,  1.71it/s]\u001b[A\u001b[A\n",
            "\n",
            "345it [04:06,  1.09it/s]\u001b[A\u001b[A\n",
            "\n",
            "346it [04:08,  1.02s/it]\u001b[A\u001b[A\n",
            "\n",
            "347it [04:08,  1.14it/s]\u001b[A\u001b[A\n",
            "\n",
            "348it [04:08,  1.51it/s]\u001b[A\u001b[A\n",
            "\n",
            "349it [04:10,  1.05it/s]\u001b[A\u001b[A\n",
            "\n",
            "350it [04:10,  1.43it/s]\u001b[A\u001b[A\n",
            "\n",
            "351it [04:10,  1.86it/s]\u001b[A\u001b[A\n",
            "\n",
            "352it [04:10,  2.22it/s]\u001b[A\u001b[A\n",
            "\n",
            "353it [04:12,  1.11it/s]\u001b[A\u001b[A\n",
            "\n",
            "354it [04:13,  1.41it/s]\u001b[A\u001b[A\n",
            "\n",
            "355it [04:14,  1.02it/s]\u001b[A\u001b[A\n",
            "\n",
            "358it [04:16,  1.18it/s]\u001b[A\u001b[A\n",
            "\n",
            "360it [04:18,  1.15it/s]\u001b[A\u001b[A\n",
            "\n",
            "361it [04:18,  1.23it/s]\u001b[A\u001b[A\n",
            "\n",
            "362it [04:19,  1.42it/s]\u001b[A\u001b[A\n",
            "\n",
            "364it [04:19,  1.72it/s]\u001b[A\u001b[A\n",
            "\n",
            "365it [04:21,  1.02s/it]\u001b[A\u001b[A\n",
            "\n",
            "366it [04:22,  1.34it/s]\u001b[A\u001b[A\n",
            "\n",
            "367it [04:22,  1.65it/s]\u001b[A\u001b[A\n",
            "\n",
            "368it [04:23,  1.18it/s]\u001b[A\u001b[A\n",
            "\n",
            "369it [04:25,  1.01it/s]\u001b[A\u001b[A\n",
            "\n",
            "370it [04:25,  1.34it/s]\u001b[A\u001b[A\n",
            "\n",
            "371it [04:26,  1.18it/s]\u001b[A\u001b[A\n",
            "\n",
            "372it [04:26,  1.51it/s]\u001b[A\u001b[A\n",
            "\n",
            "373it [04:27,  1.27it/s]\u001b[A\u001b[A\n",
            "\n",
            "374it [04:27,  1.65it/s]\u001b[A\u001b[A\n",
            "\n",
            "375it [04:28,  1.68it/s]\u001b[A\u001b[A\n",
            "\n",
            "376it [04:28,  2.12it/s]\u001b[A\u001b[A\n",
            "\n",
            "377it [04:29,  1.75it/s]\u001b[A\u001b[A\n",
            "\n",
            "378it [04:31,  1.13it/s]\u001b[A\u001b[A\n",
            "\n",
            "380it [04:31,  1.31it/s]\u001b[A\u001b[A\n",
            "\n",
            "381it [04:33,  1.09s/it]\u001b[A\u001b[A\n",
            "\n",
            "383it [04:34,  1.19it/s]\u001b[A\u001b[A\n",
            "\n",
            "384it [04:34,  1.52it/s]\u001b[A\u001b[A\n",
            "\n",
            "385it [04:35,  1.19it/s]\u001b[A\u001b[A\n",
            "\n",
            "386it [04:36,  1.29it/s]\u001b[A\u001b[A\n",
            "\n",
            "387it [04:36,  1.70it/s]\u001b[A\u001b[A\n",
            "\n",
            "388it [04:37,  1.85it/s]\u001b[A\u001b[A\n",
            "\n",
            "389it [04:38,  1.35it/s]\u001b[A\u001b[A\n",
            "\n",
            "390it [04:38,  1.60it/s]\u001b[A\u001b[A\n",
            "\n",
            "391it [04:38,  2.02it/s]\u001b[A\u001b[A\n",
            "\n",
            "392it [04:39,  1.45it/s]\u001b[A\u001b[A\n",
            "\n",
            "393it [04:41,  1.04s/it]\u001b[A\u001b[A\n",
            "\n",
            "394it [04:43,  1.33s/it]\u001b[A\u001b[A\n",
            "\n",
            "395it [04:44,  1.20s/it]\u001b[A\u001b[A\n",
            "\n",
            "396it [04:45,  1.10s/it]\u001b[A\u001b[A\n",
            "\n",
            "397it [04:47,  1.21s/it]\u001b[A\u001b[A\n",
            "\n",
            "398it [04:47,  1.01s/it]\u001b[A\u001b[A\n",
            "\n",
            "399it [04:49,  1.20s/it]\u001b[A\u001b[A\n",
            "\n",
            "400it [04:49,  1.03it/s]\u001b[A\u001b[A\n",
            "\n",
            "401it [04:51,  1.12s/it]\u001b[A\u001b[A\n",
            "\n",
            "402it [04:51,  1.14it/s]\u001b[A\u001b[A\n",
            "\n",
            "403it [04:51,  1.34it/s]\u001b[A\u001b[A\n",
            "\n",
            "404it [04:52,  1.78it/s]\u001b[A\u001b[A\n",
            "\n",
            "405it [04:52,  1.72it/s]\u001b[A\u001b[A\n",
            "\n",
            "406it [04:54,  1.16it/s]\u001b[A\u001b[A\n",
            "\n",
            "407it [04:54,  1.45it/s]\u001b[A\u001b[A\n",
            "\n",
            "408it [04:55,  1.10it/s]\u001b[A\u001b[A\n",
            "\n",
            "409it [04:56,  1.44it/s]\u001b[A\u001b[A\n",
            "\n",
            "410it [04:56,  1.56it/s]\u001b[A\u001b[A\n",
            "\n",
            "411it [04:57,  1.37it/s]\u001b[A\u001b[A\n",
            "\n",
            "412it [04:58,  1.38it/s]\u001b[A\u001b[A\n",
            "\n",
            "413it [04:58,  1.47it/s]\u001b[A\u001b[A\n",
            "\n",
            "414it [04:59,  1.63it/s]\u001b[A\u001b[A\n",
            "\n",
            "415it [05:00,  1.17it/s]\u001b[A\u001b[A\n",
            "\n",
            "416it [05:00,  1.47it/s]\u001b[A\u001b[A\n",
            "\n",
            "417it [05:01,  1.32it/s]\u001b[A\u001b[A\n",
            "\n",
            "418it [05:02,  1.42it/s]\u001b[A\u001b[A\n",
            "\n",
            "419it [05:03,  1.24it/s]\u001b[A\u001b[A\n",
            "\n",
            "420it [05:03,  1.42it/s]\u001b[A\u001b[A\n",
            "\n",
            "422it [05:05,  1.42it/s]\u001b[A\u001b[A\n",
            "\n",
            "423it [05:05,  1.88it/s]\u001b[A\u001b[A\n",
            "\n",
            "424it [05:07,  1.13it/s]\u001b[A\u001b[A\n",
            "\n",
            "425it [05:07,  1.26it/s]\u001b[A\u001b[A\n",
            "\n",
            "426it [05:09,  1.05it/s]\u001b[A\u001b[A\n",
            "\n",
            "427it [05:09,  1.41it/s]\u001b[A\u001b[A\n",
            "\n",
            "428it [05:11,  1.07s/it]\u001b[A\u001b[A\n",
            "\n",
            "429it [05:11,  1.23it/s]\u001b[A\u001b[A\n",
            "\n",
            "430it [05:11,  1.43it/s]\u001b[A\u001b[A\n",
            "\n",
            "431it [05:13,  1.17it/s]\u001b[A\u001b[A\n",
            "\n",
            "432it [05:13,  1.57it/s]\u001b[A\u001b[A\n",
            "\n",
            "433it [05:13,  1.99it/s]\u001b[A\u001b[A\n",
            "\n",
            "434it [05:14,  1.37it/s]\u001b[A\u001b[A\n",
            "\n",
            "436it [05:14,  1.90it/s]\u001b[A\u001b[A\n",
            "\n",
            "437it [05:15,  1.40it/s]\u001b[A\u001b[A\n",
            "\n",
            "438it [05:17,  1.12it/s]\u001b[A\u001b[A\n",
            "\n",
            "439it [05:17,  1.32it/s]\u001b[A\u001b[A\n",
            "\n",
            "440it [05:19,  1.01it/s]\u001b[A\u001b[A\n",
            "\n",
            "441it [05:20,  1.03s/it]\u001b[A\u001b[A\n",
            "\n",
            "443it [05:20,  1.32it/s]\u001b[A\u001b[A\n",
            "\n",
            "444it [05:20,  1.75it/s]\u001b[A\u001b[A\n",
            "\n",
            "445it [05:21,  1.28it/s]\u001b[A\u001b[A\n",
            "\n",
            "446it [05:22,  1.72it/s]\u001b[A\u001b[A\n",
            "\n",
            "447it [05:22,  1.63it/s]\u001b[A\u001b[A\n",
            "\n",
            "448it [05:23,  1.35it/s]\u001b[A\u001b[A\n",
            "\n",
            "449it [05:24,  1.56it/s]\u001b[A\u001b[A\n",
            "\n",
            "450it [05:25,  1.35it/s]\u001b[A\u001b[A\n",
            "\n",
            "451it [05:25,  1.61it/s]\u001b[A\u001b[A\n",
            "\n",
            "453it [05:25,  2.04it/s]\u001b[A\u001b[A\n",
            "\n",
            "454it [05:27,  1.39it/s]\u001b[A\u001b[A\n",
            "\n",
            "455it [05:27,  1.38it/s]\u001b[A\u001b[A\n",
            "\n",
            "456it [05:28,  1.51it/s]\u001b[A\u001b[A\n",
            "\n",
            "457it [05:28,  1.64it/s]\u001b[A\u001b[A\n",
            "\n",
            "458it [05:29,  1.90it/s]\u001b[A\u001b[A\n",
            "\n",
            "459it [05:30,  1.49it/s]\u001b[A\u001b[A\n",
            "\n",
            "461it [05:30,  1.87it/s]\u001b[A\u001b[A\n",
            "\n",
            "462it [05:31,  1.67it/s]\u001b[A\u001b[A\n",
            "\n",
            "463it [05:32,  1.66it/s]\u001b[A\u001b[A\n",
            "\n",
            "464it [05:32,  1.60it/s]\u001b[A\u001b[A\n",
            "\n",
            "465it [05:33,  1.69it/s]\u001b[A\u001b[A\n",
            "\n",
            "466it [05:33,  2.19it/s]\u001b[A\u001b[A\n",
            "\n",
            "467it [05:33,  2.48it/s]\u001b[A\u001b[A\n",
            "\n",
            "468it [05:34,  2.09it/s]\u001b[A\u001b[A\n",
            "\n",
            "469it [05:35,  1.69it/s]\u001b[A\u001b[A\n",
            "\n",
            "470it [05:35,  1.59it/s]\u001b[A\u001b[A\n",
            "\n",
            "471it [05:35,  2.09it/s]\u001b[A\u001b[A\n",
            "\n",
            "472it [05:36,  2.05it/s]\u001b[A\u001b[A\n",
            "\n",
            "473it [05:38,  1.09it/s]\u001b[A\u001b[A\n",
            "\n",
            "475it [05:39,  1.36it/s]\u001b[A\u001b[A\n",
            "\n",
            "476it [05:40,  1.06s/it]\u001b[A\u001b[A\n",
            "\n",
            "477it [05:42,  1.09s/it]\u001b[A\u001b[A\n",
            "\n",
            "478it [05:42,  1.08it/s]\u001b[A\u001b[A\n",
            "\n",
            "479it [05:43,  1.09it/s]\u001b[A\u001b[A\n",
            "\n",
            "481it [05:44,  1.34it/s]\u001b[A\u001b[A\n",
            "\n",
            "482it [05:44,  1.64it/s]\u001b[A\u001b[A\n",
            "\n",
            "483it [05:45,  1.42it/s]\u001b[A\u001b[A\n",
            "\n",
            "484it [05:46,  1.15it/s]\u001b[A\u001b[A\n",
            "\n",
            "485it [05:46,  1.52it/s]\u001b[A\u001b[A\n",
            "\n",
            "486it [05:48,  1.07it/s]\u001b[A\u001b[A\n",
            "\n",
            "487it [05:49,  1.11s/it]\u001b[A\u001b[A\n",
            "\n",
            "489it [05:50,  1.19it/s]\u001b[A\u001b[A\n",
            "\n",
            "490it [05:52,  1.17s/it]\u001b[A\u001b[A\n",
            "\n",
            "491it [05:53,  1.23s/it]\u001b[A\u001b[A\n",
            "\n",
            "492it [05:54,  1.05s/it]\u001b[A\u001b[A\n",
            "\n",
            "494it [05:54,  1.23it/s]\u001b[A\u001b[A\n",
            "\n",
            "495it [05:55,  1.41it/s]\u001b[A\u001b[A\n",
            "\n",
            "496it [05:56,  1.37it/s]\u001b[A\u001b[A\n",
            "\n",
            "497it [05:56,  1.41it/s]\u001b[A\u001b[A\n",
            "\n",
            "498it [05:56,  1.77it/s]\u001b[A\u001b[A\n",
            "\n",
            "499it [05:58,  1.36it/s]\u001b[A\u001b[A\n",
            "\n",
            "500it [05:58,  1.71it/s]\u001b[A\u001b[A\n",
            "\n",
            "501it [05:58,  1.89it/s]\u001b[A\u001b[A\n",
            "\n",
            "502it [06:00,  1.28it/s]\u001b[A\u001b[A\n",
            "\n",
            "503it [06:00,  1.29it/s]\u001b[A\u001b[A\n",
            "\n",
            "504it [06:01,  1.63it/s]\u001b[A\u001b[A\n",
            "\n",
            "505it [06:01,  1.85it/s]\u001b[A\u001b[A\n",
            "\n",
            "506it [06:02,  1.32it/s]\u001b[A\u001b[A\n",
            "\n",
            "507it [06:02,  1.61it/s]\u001b[A\u001b[A\n",
            "\n",
            "508it [06:04,  1.25it/s]\u001b[A\u001b[A\n",
            "\n",
            "509it [06:04,  1.35it/s]\u001b[A\u001b[A\n",
            "\n",
            "510it [06:05,  1.29it/s]\u001b[A\u001b[A\n",
            "\n",
            "513it [06:06,  1.66it/s]\u001b[A\u001b[A\n",
            "\n",
            "514it [06:08,  1.01it/s]\u001b[A\u001b[A\n",
            "\n",
            "515it [06:08,  1.31it/s]\u001b[A\u001b[A\n",
            "\n",
            "516it [06:10,  1.18s/it]\u001b[A\u001b[A\n",
            "\n",
            "517it [06:11,  1.13s/it]\u001b[A\u001b[A\n",
            "\n",
            "518it [06:13,  1.52s/it]\u001b[A\u001b[A\n",
            "\n",
            "519it [06:15,  1.48s/it]\u001b[A\u001b[A\n",
            "\n",
            "520it [06:17,  1.58s/it]\u001b[A\u001b[A\n",
            "\n",
            "521it [06:19,  1.86s/it]\u001b[A\u001b[A\n",
            "\n",
            "523it [06:21,  1.50s/it]\u001b[A\u001b[A\n",
            "\n",
            "524it [06:21,  1.13s/it]\u001b[A\u001b[A\n",
            "\n",
            "525it [06:22,  1.21s/it]\u001b[A\u001b[A\n",
            "\n",
            "526it [06:23,  1.08s/it]\u001b[A\u001b[A\n",
            "\n",
            "527it [06:25,  1.24s/it]\u001b[A\u001b[A\n",
            "\n",
            "528it [06:25,  1.12s/it]\u001b[A\u001b[A\n",
            "\n",
            "529it [06:26,  1.21it/s]\u001b[A\u001b[A\n",
            "\n",
            "530it [06:26,  1.29it/s]\u001b[A\u001b[A\n",
            "\n",
            "531it [06:26,  1.65it/s]\u001b[A\u001b[A\n",
            "\n",
            "532it [06:27,  1.42it/s]\u001b[A\u001b[A\n",
            "\n",
            "533it [06:28,  1.68it/s]\u001b[A\u001b[A\n",
            "\n",
            "534it [06:29,  1.20it/s]\u001b[A\u001b[A\n",
            "\n",
            "535it [06:30,  1.11it/s]\u001b[A\u001b[A\n",
            "\n",
            "536it [06:31,  1.19it/s]\u001b[A\u001b[A\n",
            "\n",
            "537it [06:32,  1.24it/s]\u001b[A\u001b[A\n",
            "\n",
            "538it [06:33,  1.12it/s]\u001b[A\u001b[A\n",
            "\n",
            "539it [06:34,  1.09s/it]\u001b[A\u001b[A\n",
            "\n",
            "540it [06:34,  1.26it/s]\u001b[A\u001b[A\n",
            "\n",
            "541it [06:35,  1.56it/s]\u001b[A\u001b[A\n",
            "\n",
            "543it [06:36,  1.59it/s]\u001b[A\u001b[A\n",
            "\n",
            "544it [06:36,  1.83it/s]\u001b[A\u001b[A\n",
            "\n",
            "545it [06:38,  1.23it/s]\u001b[A\u001b[A\n",
            "\n",
            "546it [06:38,  1.64it/s]\u001b[A\u001b[A\n",
            "\n",
            "548it [06:39,  1.60it/s]\u001b[A\u001b[A\n",
            "\n",
            "549it [06:40,  1.20it/s]\u001b[A\u001b[A\n",
            "\n",
            "550it [06:41,  1.37it/s]\u001b[A\u001b[A\n",
            "\n",
            "551it [06:42,  1.17it/s]\u001b[A\u001b[A\n",
            "\n",
            "552it [06:43,  1.24it/s]\u001b[A\u001b[A\n",
            "\n",
            "553it [06:43,  1.53it/s]\u001b[A\u001b[A\n",
            "\n",
            "554it [06:43,  1.72it/s]\u001b[A\u001b[A\n",
            "\n",
            "556it [06:45,  1.53it/s]\u001b[A\u001b[A\n",
            "\n",
            "557it [06:46,  1.56it/s]\u001b[A\u001b[A\n",
            "\n",
            "558it [06:47,  1.00it/s]\u001b[A\u001b[A\n",
            "\n",
            "559it [06:48,  1.29it/s]\u001b[A\u001b[A\n",
            "\n",
            "560it [06:48,  1.62it/s]\u001b[A\u001b[A\n",
            "\n",
            "561it [06:49,  1.22it/s]\u001b[A\u001b[A\n",
            "\n",
            "563it [06:50,  1.54it/s]\u001b[A\u001b[A\n",
            "\n",
            "564it [06:50,  1.52it/s]\u001b[A\u001b[A\n",
            "\n",
            "565it [06:51,  1.36it/s]\u001b[A\u001b[A\n",
            "\n",
            "566it [06:51,  1.82it/s]\u001b[A\u001b[A\n",
            "\n",
            "567it [06:52,  2.38it/s]\u001b[A\u001b[A\n",
            "\n",
            "568it [06:52,  2.11it/s]\u001b[A\u001b[A\n",
            "\n",
            "569it [06:53,  1.75it/s]\u001b[A\u001b[A\n",
            "\n",
            "570it [06:55,  1.08it/s]\u001b[A\u001b[A\n",
            "\n",
            "571it [06:55,  1.27it/s]\u001b[A\u001b[A\n",
            "\n",
            "572it [06:55,  1.69it/s]\u001b[A\u001b[A\n",
            "\n",
            "573it [06:55,  2.19it/s]\u001b[A\u001b[A\n",
            "\n",
            "574it [06:57,  1.49it/s]\u001b[A\u001b[A\n",
            "\n",
            "575it [06:57,  1.71it/s]\u001b[A\u001b[A\n",
            "\n",
            "576it [06:57,  2.15it/s]\u001b[A\u001b[A\n",
            "\n",
            "577it [06:58,  1.63it/s]\u001b[A\u001b[A\n",
            "\n",
            "578it [06:59,  1.64it/s]\u001b[A\u001b[A\n",
            "\n",
            "579it [06:59,  1.69it/s]\u001b[A\u001b[A\n",
            "\n",
            "580it [07:00,  1.50it/s]\u001b[A\u001b[A\n",
            "\n",
            "581it [07:00,  1.85it/s]\u001b[A\u001b[A\n",
            "\n",
            "582it [07:01,  2.16it/s]\u001b[A\u001b[A\n",
            "\n",
            "583it [07:03,  1.06it/s]\u001b[A\u001b[A\n",
            "\n",
            "584it [07:03,  1.39it/s]\u001b[A\u001b[A\n",
            "\n",
            "585it [07:04,  1.48it/s]\u001b[A\u001b[A\n",
            "\n",
            "586it [07:05,  1.21it/s]\u001b[A\u001b[A\n",
            "\n",
            "587it [07:06,  1.14it/s]\u001b[A\u001b[A\n",
            "\n",
            "589it [07:07,  1.28it/s]\u001b[A\u001b[A\n",
            "\n",
            "590it [07:08,  1.29it/s]\u001b[A\u001b[A\n",
            "\n",
            "591it [07:08,  1.69it/s]\u001b[A\u001b[A\n",
            "\n",
            "592it [07:08,  2.18it/s]\u001b[A\u001b[A\n",
            "\n",
            "593it [07:08,  2.01it/s]\u001b[A\u001b[A\n",
            "\n",
            "594it [07:09,  1.64it/s]\u001b[A\u001b[A\n",
            "\n",
            "595it [07:10,  1.86it/s]\u001b[A\u001b[A\n",
            "\n",
            "596it [07:11,  1.29it/s]\u001b[A\u001b[A\n",
            "\n",
            "597it [07:11,  1.63it/s]\u001b[A\u001b[A\n",
            "\n",
            "598it [07:12,  1.44it/s]\u001b[A\u001b[A\n",
            "\n",
            "599it [07:14,  1.00s/it]\u001b[A\u001b[A\n",
            "\n",
            "601it [07:15,  1.08it/s]\u001b[A\u001b[A\n",
            "\n",
            "602it [07:16,  1.33it/s]\u001b[A\u001b[A\n",
            "\n",
            "603it [07:16,  1.34it/s]\u001b[A\u001b[A\n",
            "\n",
            "604it [07:19,  1.38s/it]\u001b[A\u001b[A\n",
            "\n",
            "605it [07:19,  1.00it/s]\u001b[A\u001b[A\n",
            "\n",
            "606it [07:20,  1.21it/s]\u001b[A\u001b[A\n",
            "\n",
            "607it [07:21,  1.01it/s]\u001b[A\u001b[A\n",
            "\n",
            "608it [07:22,  1.22it/s]\u001b[A\u001b[A\n",
            "\n",
            "609it [07:23,  1.08it/s]\u001b[A\u001b[A\n",
            "\n",
            "610it [07:24,  1.04it/s]\u001b[A\u001b[A\n",
            "\n",
            "611it [07:24,  1.18it/s]\u001b[A\u001b[A\n",
            "\n",
            "612it [07:25,  1.11it/s]\u001b[A\u001b[A\n",
            "\n",
            "613it [07:26,  1.30it/s]\u001b[A\u001b[A\n",
            "\n",
            "615it [07:27,  1.58it/s]\u001b[A\u001b[A\n",
            "\n",
            "616it [07:27,  1.77it/s]\u001b[A\u001b[A\n",
            "\n",
            "617it [07:28,  1.81it/s]\u001b[A\u001b[A\n",
            "\n",
            "618it [07:28,  1.49it/s]\u001b[A\u001b[A\n",
            "\n",
            "619it [07:29,  1.73it/s]\u001b[A\u001b[A\n",
            "\n",
            "620it [07:29,  1.74it/s]\u001b[A\u001b[A\n",
            "\n",
            "621it [07:30,  1.64it/s]\u001b[A\u001b[A\n",
            "\n",
            "622it [07:31,  1.59it/s]\u001b[A\u001b[A\n",
            "\n",
            "623it [07:31,  1.96it/s]\u001b[A\u001b[A\n",
            "\n",
            "624it [07:32,  1.67it/s]\u001b[A\u001b[A\n",
            "\n",
            "625it [07:33,  1.58it/s]\u001b[A\u001b[A\n",
            "\n",
            "626it [07:33,  1.38it/s]\n"
          ],
          "name": "stderr"
        }
      ]
    },
    {
      "cell_type": "markdown",
      "metadata": {
        "id": "oBedrYYkkciP"
      },
      "source": [
        "## Check Tensor Shapes"
      ]
    },
    {
      "cell_type": "code",
      "metadata": {
        "id": "stpqo-9DVDs-",
        "colab": {
          "base_uri": "https://localhost:8080/",
          "height": 236
        },
        "outputId": "386385f1-2ea0-46bc-be8c-add5f29bcdeb"
      },
      "source": [
        "tmp = data.loc[:9,BSSID_FEATS]\n",
        "tmp_ids = []\n",
        "for i in range(20):\n",
        "    tmp_ids.extend(tmp.iloc[:,i].values.tolist())\n",
        "tmp_ids = len(list(set(tmp_ids)))\n",
        "_emb = nn.Embedding(wifi_bssids_size, 64)\n",
        "_res = _emb(torch.tensor(tmp.values.astype(float)).long())\n",
        "_res = torch.flatten(_res, start_dim=-2)\n",
        "#torch.tensor(tmp.values).size()\n",
        "\n",
        "tmp2 = data.loc[:9,RSSI_FEATS]\n",
        "tmp2_ids = []\n",
        "for i in range(20):\n",
        "    tmp2_ids.extend(tmp2.iloc[:,i].values.tolist())\n",
        "tmp2_ids = len(list(set(tmp2_ids)))\n",
        "lr = nn.Linear(20, 1280)\n",
        "_res2 = lr(torch.tensor(tmp2.values.astype(float)).float())\n",
        "\n",
        "tmp3 = data.loc[:9,\"site_id\"]\n",
        "_emb2 = nn.Embedding(site_count, 2)\n",
        "_res3 = _emb2(torch.tensor(tmp3.values.astype(float)).long())\n",
        "_res3 = torch.flatten(_res3, start_dim=-1)"
      ],
      "execution_count": 2,
      "outputs": [
        {
          "output_type": "error",
          "ename": "NameError",
          "evalue": "ignored",
          "traceback": [
            "\u001b[0;31m---------------------------------------------------------------------------\u001b[0m",
            "\u001b[0;31mNameError\u001b[0m                                 Traceback (most recent call last)",
            "\u001b[0;32m<ipython-input-2-f29e858e2531>\u001b[0m in \u001b[0;36m<module>\u001b[0;34m()\u001b[0m\n\u001b[0;32m----> 1\u001b[0;31m \u001b[0mtmp\u001b[0m \u001b[0;34m=\u001b[0m \u001b[0mdata\u001b[0m\u001b[0;34m.\u001b[0m\u001b[0mloc\u001b[0m\u001b[0;34m[\u001b[0m\u001b[0;34m:\u001b[0m\u001b[0;36m9\u001b[0m\u001b[0;34m,\u001b[0m\u001b[0mBSSID_FEATS\u001b[0m\u001b[0;34m]\u001b[0m\u001b[0;34m\u001b[0m\u001b[0;34m\u001b[0m\u001b[0m\n\u001b[0m\u001b[1;32m      2\u001b[0m \u001b[0mtmp_ids\u001b[0m \u001b[0;34m=\u001b[0m \u001b[0;34m[\u001b[0m\u001b[0;34m]\u001b[0m\u001b[0;34m\u001b[0m\u001b[0;34m\u001b[0m\u001b[0m\n\u001b[1;32m      3\u001b[0m \u001b[0;32mfor\u001b[0m \u001b[0mi\u001b[0m \u001b[0;32min\u001b[0m \u001b[0mrange\u001b[0m\u001b[0;34m(\u001b[0m\u001b[0;36m20\u001b[0m\u001b[0;34m)\u001b[0m\u001b[0;34m:\u001b[0m\u001b[0;34m\u001b[0m\u001b[0;34m\u001b[0m\u001b[0m\n\u001b[1;32m      4\u001b[0m     \u001b[0mtmp_ids\u001b[0m\u001b[0;34m.\u001b[0m\u001b[0mextend\u001b[0m\u001b[0;34m(\u001b[0m\u001b[0mtmp\u001b[0m\u001b[0;34m.\u001b[0m\u001b[0miloc\u001b[0m\u001b[0;34m[\u001b[0m\u001b[0;34m:\u001b[0m\u001b[0;34m,\u001b[0m\u001b[0mi\u001b[0m\u001b[0;34m]\u001b[0m\u001b[0;34m.\u001b[0m\u001b[0mvalues\u001b[0m\u001b[0;34m.\u001b[0m\u001b[0mtolist\u001b[0m\u001b[0;34m(\u001b[0m\u001b[0;34m)\u001b[0m\u001b[0;34m)\u001b[0m\u001b[0;34m\u001b[0m\u001b[0;34m\u001b[0m\u001b[0m\n\u001b[1;32m      5\u001b[0m \u001b[0mtmp_ids\u001b[0m \u001b[0;34m=\u001b[0m \u001b[0mlen\u001b[0m\u001b[0;34m(\u001b[0m\u001b[0mlist\u001b[0m\u001b[0;34m(\u001b[0m\u001b[0mset\u001b[0m\u001b[0;34m(\u001b[0m\u001b[0mtmp_ids\u001b[0m\u001b[0;34m)\u001b[0m\u001b[0;34m)\u001b[0m\u001b[0;34m)\u001b[0m\u001b[0;34m\u001b[0m\u001b[0;34m\u001b[0m\u001b[0m\n",
            "\u001b[0;31mNameError\u001b[0m: name 'data' is not defined"
          ]
        }
      ]
    },
    {
      "cell_type": "code",
      "metadata": {
        "id": "mXT4mIq2VU4g"
      },
      "source": [
        "_res.size(), _res2.size(), _res3.size()"
      ],
      "execution_count": null,
      "outputs": []
    },
    {
      "cell_type": "code",
      "metadata": {
        "id": "1krRsdrxZrca"
      },
      "source": [
        "_all = torch.cat([_res, _res2, _res3], dim=-1)\n",
        "_all = nn.Linear(2562, 256)(_all)"
      ],
      "execution_count": null,
      "outputs": []
    },
    {
      "cell_type": "code",
      "metadata": {
        "id": "6zB61jo8btzQ"
      },
      "source": [
        "_all.size()"
      ],
      "execution_count": null,
      "outputs": []
    },
    {
      "cell_type": "code",
      "metadata": {
        "id": "GW-xJQ7Qcr86"
      },
      "source": [
        "_un = _all.unsqueeze(-2)\n",
        "_un.size()"
      ],
      "execution_count": null,
      "outputs": []
    },
    {
      "cell_type": "code",
      "metadata": {
        "id": "aUPdtfyTfPPD"
      },
      "source": [
        "_tr = _un.transpose(0, 1)\n",
        "_tr.size()"
      ],
      "execution_count": null,
      "outputs": []
    },
    {
      "cell_type": "code",
      "metadata": {
        "id": "SgQBw3x0fbOv"
      },
      "source": [
        "_lstm1 = nn.LSTM(input_size=256,hidden_size=128, dropout=0.3, bidirectional=False)\n",
        "_ls1, _ = _lstm1(_tr)\n",
        "_ls1.size()"
      ],
      "execution_count": null,
      "outputs": []
    },
    {
      "cell_type": "code",
      "metadata": {
        "id": "uQBxHWDVgKZj"
      },
      "source": [
        "_xy = _ls1.transpose(0, 1)\n",
        "_xy = nn.Linear(128,2)(_xy)\n",
        "_xy.size()"
      ],
      "execution_count": null,
      "outputs": []
    },
    {
      "cell_type": "code",
      "metadata": {
        "id": "OzbiAEwJn2_o"
      },
      "source": [
        "_xy.squeeze(-2).size()"
      ],
      "execution_count": null,
      "outputs": []
    },
    {
      "cell_type": "code",
      "metadata": {
        "id": "IXPhtXcZoA5N"
      },
      "source": [
        ""
      ],
      "execution_count": null,
      "outputs": []
    }
  ]
}