{
  "nbformat": 4,
  "nbformat_minor": 0,
  "metadata": {
    "colab": {
      "name": "Indoor_001_baseline.ipynb",
      "provenance": [],
      "collapsed_sections": [],
      "mount_file_id": "1BvR8HA789V1HCAAyMyi5cODGRAI0dADN",
      "authorship_tag": "ABX9TyNjk/K943sEdRGdzkzX0gka",
      "include_colab_link": true
    },
    "kernelspec": {
      "name": "python3",
      "display_name": "Python 3"
    },
    "accelerator": "GPU"
  },
  "cells": [
    {
      "cell_type": "markdown",
      "metadata": {
        "id": "view-in-github",
        "colab_type": "text"
      },
      "source": [
        "<a href=\"https://colab.research.google.com/github/mixidota2/kaggle-indoor/blob/main/notebook/Indoor_001_baseline.ipynb\" target=\"_parent\"><img src=\"https://colab.research.google.com/assets/colab-badge.svg\" alt=\"Open In Colab\"/></a>"
      ]
    },
    {
      "cell_type": "markdown",
      "metadata": {
        "id": "iByMsYwExpm5"
      },
      "source": [
        "## Overview\n",
        "- Baselineを構築するためのnotebook\n",
        "- とりあえずデータ読んで最低限のsubをするだけを目的とする"
      ]
    },
    {
      "cell_type": "code",
      "metadata": {
        "colab": {
          "base_uri": "https://localhost:8080/"
        },
        "id": "sfydvjf5tZRS",
        "outputId": "196691c7-3778-47b6-dfab-43a986a1787a"
      },
      "source": [
        "!nvidia-smi"
      ],
      "execution_count": null,
      "outputs": [
        {
          "output_type": "stream",
          "text": [
            "Sat Mar 20 09:49:08 2021       \n",
            "+-----------------------------------------------------------------------------+\n",
            "| NVIDIA-SMI 460.56       Driver Version: 460.32.03    CUDA Version: 11.2     |\n",
            "|-------------------------------+----------------------+----------------------+\n",
            "| GPU  Name        Persistence-M| Bus-Id        Disp.A | Volatile Uncorr. ECC |\n",
            "| Fan  Temp  Perf  Pwr:Usage/Cap|         Memory-Usage | GPU-Util  Compute M. |\n",
            "|                               |                      |               MIG M. |\n",
            "|===============================+======================+======================|\n",
            "|   0  Tesla P100-PCIE...  Off  | 00000000:00:04.0 Off |                    0 |\n",
            "| N/A   50C    P0    34W / 250W |      0MiB / 16280MiB |      0%      Default |\n",
            "|                               |                      |                  N/A |\n",
            "+-------------------------------+----------------------+----------------------+\n",
            "                                                                               \n",
            "+-----------------------------------------------------------------------------+\n",
            "| Processes:                                                                  |\n",
            "|  GPU   GI   CI        PID   Type   Process name                  GPU Memory |\n",
            "|        ID   ID                                                   Usage      |\n",
            "|=============================================================================|\n",
            "|  No running processes found                                                 |\n",
            "+-----------------------------------------------------------------------------+\n"
          ],
          "name": "stdout"
        }
      ]
    },
    {
      "cell_type": "code",
      "metadata": {
        "colab": {
          "base_uri": "https://localhost:8080/"
        },
        "id": "O7J6POqLv2X0",
        "outputId": "6ad55f22-9eca-4701-d6bf-9335678eb906"
      },
      "source": [
        "from googleapiclient.discovery import build\n",
        "import io, os\n",
        "from googleapiclient.http import MediaIoBaseDownload\n",
        "from google.colab import auth\n",
        "\n",
        "\n",
        "auth.authenticate_user()\n",
        "\n",
        "drive_service = build('drive', 'v3')\n",
        "results = drive_service.files().list(\n",
        "        q=\"name = 'kaggle.json'\", fields=\"files(id)\").execute()\n",
        "kaggle_api_key = results.get('files', [])\n",
        "\n",
        "filename = \"/root/.kaggle/kaggle.json\"\n",
        "os.makedirs(os.path.dirname(filename), exist_ok=True)\n",
        "\n",
        "request = drive_service.files().get_media(fileId=kaggle_api_key[0]['id'])\n",
        "fh = io.FileIO(filename, 'wb')\n",
        "downloader = MediaIoBaseDownload(fh, request)\n",
        "done = False\n",
        "while done is False:\n",
        "    status, done = downloader.next_chunk()\n",
        "    print(\"Download %d%%.\" % int(status.progress() * 100))\n",
        "\n",
        "!mkdir -p ~/.kaggle\n",
        "!mv kaggle.json ~/.kaggle/\n",
        "os.chmod(filename, 600)"
      ],
      "execution_count": null,
      "outputs": [
        {
          "output_type": "stream",
          "text": [
            "Download 100%.\n",
            "mv: cannot stat 'kaggle.json': No such file or directory\n"
          ],
          "name": "stdout"
        }
      ]
    },
    {
      "cell_type": "code",
      "metadata": {
        "id": "Qv6OXDKnC4_C"
      },
      "source": [
        "filename = \"/root/.kaggle/kaggle.json\"\n",
        "os.makedirs(os.path.dirname(filename), exist_ok=True)\n",
        "!mkdir -p ~/.kaggle\n",
        "!mv kaggle.json ~/.kaggle/\n",
        "os.chmod(filename, 600)"
      ],
      "execution_count": null,
      "outputs": []
    },
    {
      "cell_type": "code",
      "metadata": {
        "colab": {
          "base_uri": "https://localhost:8080/"
        },
        "id": "OpzXfheXz8pn",
        "outputId": "2f9eeb29-f2a7-4dab-996c-72513afb4f5b"
      },
      "source": [
        "!kaggle datasets download -d kokitanisaka/indoorunifiedwifids\n",
        "!unzip indoorunifiedwifids.zip"
      ],
      "execution_count": null,
      "outputs": [
        {
          "output_type": "stream",
          "text": [
            "Downloading indoorunifiedwifids.zip to /content\n",
            " 99% 457M/463M [00:19<00:00, 21.9MB/s]\n",
            "100% 463M/463M [00:19<00:00, 24.5MB/s]\n",
            "Archive:  indoorunifiedwifids.zip\n",
            "  inflating: 5a0546857ecc773753327266_test.csv  \n",
            "  inflating: 5a0546857ecc773753327266_train.csv  \n",
            "  inflating: 5c3c44b80379370013e0fd2b_test.csv  \n",
            "  inflating: 5c3c44b80379370013e0fd2b_train.csv  \n",
            "  inflating: 5d27075f03f801723c2e360f_test.csv  \n",
            "  inflating: 5d27075f03f801723c2e360f_train.csv  \n",
            "  inflating: 5d27096c03f801723c31e5e0_test.csv  \n",
            "  inflating: 5d27096c03f801723c31e5e0_train.csv  \n",
            "  inflating: 5d27097f03f801723c320d97_test.csv  \n",
            "  inflating: 5d27097f03f801723c320d97_train.csv  \n",
            "  inflating: 5d27099f03f801723c32511d_test.csv  \n",
            "  inflating: 5d27099f03f801723c32511d_train.csv  \n",
            "  inflating: 5d2709a003f801723c3251bf_test.csv  \n",
            "  inflating: 5d2709a003f801723c3251bf_train.csv  \n",
            "  inflating: 5d2709b303f801723c327472_test.csv  \n",
            "  inflating: 5d2709b303f801723c327472_train.csv  \n",
            "  inflating: 5d2709bb03f801723c32852c_test.csv  \n",
            "  inflating: 5d2709bb03f801723c32852c_train.csv  \n",
            "  inflating: 5d2709c303f801723c3299ee_test.csv  \n",
            "  inflating: 5d2709c303f801723c3299ee_train.csv  \n",
            "  inflating: 5d2709d403f801723c32bd39_test.csv  \n",
            "  inflating: 5d2709d403f801723c32bd39_train.csv  \n",
            "  inflating: 5d2709e003f801723c32d896_test.csv  \n",
            "  inflating: 5d2709e003f801723c32d896_train.csv  \n",
            "  inflating: 5da138274db8ce0c98bbd3d2_test.csv  \n",
            "  inflating: 5da138274db8ce0c98bbd3d2_train.csv  \n",
            "  inflating: 5da1382d4db8ce0c98bbe92e_test.csv  \n",
            "  inflating: 5da1382d4db8ce0c98bbe92e_train.csv  \n",
            "  inflating: 5da138314db8ce0c98bbf3a0_test.csv  \n",
            "  inflating: 5da138314db8ce0c98bbf3a0_train.csv  \n",
            "  inflating: 5da138364db8ce0c98bc00f1_test.csv  \n",
            "  inflating: 5da138364db8ce0c98bc00f1_train.csv  \n",
            "  inflating: 5da1383b4db8ce0c98bc11ab_test.csv  \n",
            "  inflating: 5da1383b4db8ce0c98bc11ab_train.csv  \n",
            "  inflating: 5da138754db8ce0c98bca82f_test.csv  \n",
            "  inflating: 5da138754db8ce0c98bca82f_train.csv  \n",
            "  inflating: 5da138764db8ce0c98bcaa46_test.csv  \n",
            "  inflating: 5da138764db8ce0c98bcaa46_train.csv  \n",
            "  inflating: 5da1389e4db8ce0c98bd0547_test.csv  \n",
            "  inflating: 5da1389e4db8ce0c98bd0547_train.csv  \n",
            "  inflating: 5da138b74db8ce0c98bd4774_test.csv  \n",
            "  inflating: 5da138b74db8ce0c98bd4774_train.csv  \n",
            "  inflating: 5da958dd46f8266d0737457b_test.csv  \n",
            "  inflating: 5da958dd46f8266d0737457b_train.csv  \n",
            "  inflating: 5dbc1d84c1eb61796cf7c010_test.csv  \n",
            "  inflating: 5dbc1d84c1eb61796cf7c010_train.csv  \n",
            "  inflating: 5dc8cea7659e181adb076a3f_test.csv  \n",
            "  inflating: 5dc8cea7659e181adb076a3f_train.csv  \n",
            "  inflating: test_all.csv            \n",
            "  inflating: test_all.pkl            \n",
            "  inflating: train_all.csv           \n",
            "  inflating: train_all.pkl           \n"
          ],
          "name": "stdout"
        }
      ]
    },
    {
      "cell_type": "code",
      "metadata": {
        "colab": {
          "base_uri": "https://localhost:8080/"
        },
        "id": "Xwcwo-NOq8wu",
        "outputId": "e7520b00-647b-4c91-a74d-30f67a0ef8ff"
      },
      "source": [
        "import os\n",
        "import glob \n",
        "import pickle\n",
        "import random\n",
        "\n",
        "import pandas as pd\n",
        "import numpy as np\n",
        "\n",
        "import yaml\n",
        "from tqdm import tqdm\n",
        "from joblib import Parallel, delayed\n",
        "\n",
        "import seaborn as sns\n",
        "import matplotlib.pyplot as plt\n",
        "\n",
        "import cv2\n",
        "\n",
        "import scipy.stats as stats\n",
        "\n",
        "from sklearn.model_selection import StratifiedKFold\n",
        "from sklearn.preprocessing import StandardScaler, LabelEncoder\n",
        "from sklearn.metrics import mean_squared_error\n",
        "from sklearn.decomposition import TruncatedSVD\n",
        "\n",
        "import torch\n",
        "import torch.nn as nn \n",
        "import torch.nn.functional as F\n",
        "from torch.utils.data import Dataset, DataLoader\n",
        "\n",
        "tqdm.pandas(position=0, leave=True)"
      ],
      "execution_count": null,
      "outputs": [
        {
          "output_type": "stream",
          "text": [
            "/usr/local/lib/python3.7/dist-packages/tqdm/std.py:658: FutureWarning: The Panel class is removed from pandas. Accessing it from the top-level namespace will also be removed in the next version\n",
            "  from pandas import Panel\n"
          ],
          "name": "stderr"
        }
      ]
    },
    {
      "cell_type": "code",
      "metadata": {
        "id": "PLKBfnyNE_Wq"
      },
      "source": [
        "# consts\n",
        "N_SPLITS = 10\n",
        "\n",
        "SEED = 42\n",
        "\n",
        "NUM_FEATS = 20"
      ],
      "execution_count": null,
      "outputs": []
    },
    {
      "cell_type": "code",
      "metadata": {
        "id": "2I9gH31gFKty"
      },
      "source": [
        "def seed_everything(seed=42):\n",
        "    random.seed(seed)\n",
        "    os.environ['PYTHONHASHSEED'] = str(seed)\n",
        "    np.random.seed(seed)\n",
        "    torch.backends.cudnn.deterministic = True\n",
        "    torch.backends.cudnn.benchmark = False\n",
        "    torch.manual_seed(seed)\n",
        "    torch.cuda.manual_seed_all(seed)\n",
        "def get_timestamp():\n",
        "    import time\n",
        "    timestamp = ''\n",
        "    for i, d in enumerate(time.localtime()):\n",
        "        if i == 3:\n",
        "            d += 8\n",
        "        timestamp += str(d) + '-'\n",
        "        if i == 4:\n",
        "            break\n",
        "    return timestamp[:-1]\n",
        "def comp_metric(xhat, yhat, fhat, x, y, f):\n",
        "    intermediate = np.sqrt((xhat-x)**2 + (yhat-y)**2) + 15 * np.abs(fhat-f)\n",
        "#     intermediate = np.sqrt((xhat-x)**2 + (yhat-y)**2)\n",
        "    return intermediate.sum()/xhat.shape[0]"
      ],
      "execution_count": null,
      "outputs": []
    },
    {
      "cell_type": "markdown",
      "metadata": {
        "id": "LnJEEwLyIg_S"
      },
      "source": [
        "## Preprocess"
      ]
    },
    {
      "cell_type": "code",
      "metadata": {
        "id": "jS_j1O-QtYHr"
      },
      "source": [
        "with open(f'train_all.pkl', 'rb') as f:\n",
        "  data = pickle.load( f)\n",
        "with open(f'test_all.pkl', 'rb') as f:\n",
        "  test_data = pickle.load(f)"
      ],
      "execution_count": null,
      "outputs": []
    },
    {
      "cell_type": "code",
      "metadata": {
        "id": "G4iftOvO25wE"
      },
      "source": [
        "# count n features\n",
        "BSSID_FEATS = [f'bssid_{i}' for i in range(NUM_FEATS)]\n",
        "RSSI_FEATS  = [f'rssi_{i}' for i in range(NUM_FEATS)]"
      ],
      "execution_count": null,
      "outputs": []
    },
    {
      "cell_type": "code",
      "metadata": {
        "colab": {
          "base_uri": "https://localhost:8080/"
        },
        "id": "c5VgTOkLFUrZ",
        "outputId": "8525290c-9e3f-4d0a-f652-753a78d1b312"
      },
      "source": [
        "# get unique wifi bssids\n",
        "wifi_bssids = []\n",
        "for i in range(100):\n",
        "    wifi_bssids.extend(data.iloc[:,i].values.tolist())\n",
        "wifi_bssids = list(set(wifi_bssids))\n",
        "\n",
        "wifi_bssids_size = len(wifi_bssids)\n",
        "print(f'BSSID TYPES: {wifi_bssids_size}')\n",
        "\n",
        "wifi_bssids_test = []\n",
        "for i in range(100):\n",
        "    wifi_bssids_test.extend(test_data.iloc[:,i].values.tolist())\n",
        "wifi_bssids_test = list(set(wifi_bssids_test))\n",
        "\n",
        "wifi_bssids_size = len(wifi_bssids_test)\n",
        "print(f'BSSID TYPES: {wifi_bssids_size}')\n",
        "\n",
        "wifi_bssids.extend(wifi_bssids_test)\n",
        "wifi_bssids_size = len(wifi_bssids)"
      ],
      "execution_count": null,
      "outputs": [
        {
          "output_type": "stream",
          "text": [
            "BSSID TYPES: 61206\n",
            "BSSID TYPES: 33042\n"
          ],
          "name": "stdout"
        }
      ]
    },
    {
      "cell_type": "code",
      "metadata": {
        "colab": {
          "base_uri": "https://localhost:8080/"
        },
        "id": "mhmlcJ-CF0hb",
        "outputId": "cd58fc8c-1518-4417-a3e1-68fc42dd48ba"
      },
      "source": [
        "# preprocess\n",
        "\n",
        "le = LabelEncoder()\n",
        "le.fit(wifi_bssids)\n",
        "le_site = LabelEncoder()\n",
        "le_site.fit(data['site_id'])\n",
        "\n",
        "ss = StandardScaler()\n",
        "ss.fit(data.loc[:,RSSI_FEATS])"
      ],
      "execution_count": null,
      "outputs": [
        {
          "output_type": "execute_result",
          "data": {
            "text/plain": [
              "StandardScaler(copy=True, with_mean=True, with_std=True)"
            ]
          },
          "metadata": {
            "tags": []
          },
          "execution_count": 27
        }
      ]
    },
    {
      "cell_type": "code",
      "metadata": {
        "id": "xdBSEoUuG8no"
      },
      "source": [
        "# apply transforms\n",
        "\n",
        "data.loc[:,RSSI_FEATS] = ss.transform(data.loc[:,RSSI_FEATS])\n",
        "for i in BSSID_FEATS:\n",
        "    data.loc[:,i] = le.transform(data.loc[:,i])\n",
        "    data.loc[:,i] = data.loc[:,i] + 1\n",
        "    \n",
        "data.loc[:, 'site_id'] = le_site.transform(data.loc[:, 'site_id'])\n",
        "\n",
        "data.loc[:,RSSI_FEATS] = ss.transform(data.loc[:,RSSI_FEATS])"
      ],
      "execution_count": null,
      "outputs": []
    },
    {
      "cell_type": "code",
      "metadata": {
        "id": "4nawWBptHyXp"
      },
      "source": [
        "test_data.loc[:,RSSI_FEATS] = ss.transform(test_data.loc[:,RSSI_FEATS])\n",
        "for i in BSSID_FEATS:\n",
        "    test_data.loc[:,i] = le.transform(test_data.loc[:,i])\n",
        "    test_data.loc[:,i] = test_data.loc[:,i] + 1\n",
        "    \n",
        "test_data.loc[:, 'site_id'] = le_site.transform(test_data.loc[:, 'site_id'])\n",
        "\n",
        "test_data.loc[:,RSSI_FEATS] = ss.transform(test_data.loc[:,RSSI_FEATS])"
      ],
      "execution_count": null,
      "outputs": []
    },
    {
      "cell_type": "code",
      "metadata": {
        "id": "Hz-7Nk_FH_5d"
      },
      "source": [
        "site_count = len(data['site_id'].unique())\n",
        "data.reset_index(drop=True, inplace=True)"
      ],
      "execution_count": null,
      "outputs": []
    },
    {
      "cell_type": "code",
      "metadata": {
        "id": "JefQyLY7IDdG"
      },
      "source": [
        "seed_everything(SEED)"
      ],
      "execution_count": null,
      "outputs": []
    },
    {
      "cell_type": "code",
      "metadata": {
        "id": "xCTLpK1CIE7t"
      },
      "source": [
        ""
      ],
      "execution_count": null,
      "outputs": []
    },
    {
      "cell_type": "markdown",
      "metadata": {
        "id": "-1erbGwIJnH7"
      },
      "source": [
        "## Some EDA"
      ]
    },
    {
      "cell_type": "code",
      "metadata": {
        "colab": {
          "base_uri": "https://localhost:8080/",
          "height": 599
        },
        "id": "Li-SHH9WKsQx",
        "outputId": "05f80bc4-da00-4f6a-b009-ff797b1a062a"
      },
      "source": [
        "plt.figure(figsize=(10,3))\n",
        "max_iter = 10\n",
        "for i, (name, group) in enumerate(data.groupby(\"path\")):\n",
        "    sns.lineplot(data=group, y=RSSI_FEATS[0], x=range(group.shape[0]))\n",
        "    if i > max_iter:\n",
        "        break\n",
        "plt.figure(figsize=(10,3))\n",
        "for i, (name, group) in enumerate(data.groupby(\"path\")):\n",
        "    sns.lineplot(data=group, y=\"x\", x=range(group.shape[0]))\n",
        "    if i > max_iter:\n",
        "        break\n",
        "plt.figure(figsize=(10,3))\n",
        "for i, (name, group) in enumerate(data.groupby(\"path\")):\n",
        "    sns.lineplot(data=group, y=\"y\", x=range(group.shape[0]))\n",
        "    if i > max_iter:\n",
        "        break"
      ],
      "execution_count": null,
      "outputs": [
        {
          "output_type": "display_data",
          "data": {
            "image/png": "[encoded data removed]",
            "text/plain": [
              "<Figure size 720x216 with 1 Axes>"
            ]
          },
          "metadata": {
            "tags": [],
            "needs_background": "light"
          }
        },
        {
          "output_type": "display_data",
          "data": {
            "image/png": "[encoded data removed]",
            "text/plain": [
              "<Figure size 720x216 with 1 Axes>"
            ]
          },
          "metadata": {
            "tags": [],
            "needs_background": "light"
          }
        },
        {
          "output_type": "display_data",
          "data": {
            "image/png": "[encoded data removed]",
            "text/plain": [
              "<Figure size 720x216 with 1 Axes>"
            ]
          },
          "metadata": {
            "tags": [],
            "needs_background": "light"
          }
        }
      ]
    },
    {
      "cell_type": "code",
      "metadata": {
        "colab": {
          "base_uri": "https://localhost:8080/",
          "height": 379
        },
        "id": "MkIaf4r-JnfM",
        "outputId": "4428e203-abe3-4567-cdbf-376050c5c0c3"
      },
      "source": [
        "tmp = data.loc[:,RSSI_FEATS]\n",
        "tmp.head(10)"
      ],
      "execution_count": null,
      "outputs": [
        {
          "output_type": "execute_result",
          "data": {
            "text/html": [
              "<div>\n",
              "<style scoped>\n",
              "    .dataframe tbody tr th:only-of-type {\n",
              "        vertical-align: middle;\n",
              "    }\n",
              "\n",
              "    .dataframe tbody tr th {\n",
              "        vertical-align: top;\n",
              "    }\n",
              "\n",
              "    .dataframe thead th {\n",
              "        text-align: right;\n",
              "    }\n",
              "</style>\n",
              "<table border=\"1\" class=\"dataframe\">\n",
              "  <thead>\n",
              "    <tr style=\"text-align: right;\">\n",
              "      <th></th>\n",
              "      <th>rssi_0</th>\n",
              "      <th>rssi_1</th>\n",
              "      <th>rssi_2</th>\n",
              "      <th>rssi_3</th>\n",
              "      <th>rssi_4</th>\n",
              "      <th>rssi_5</th>\n",
              "      <th>rssi_6</th>\n",
              "      <th>rssi_7</th>\n",
              "      <th>rssi_8</th>\n",
              "      <th>rssi_9</th>\n",
              "      <th>rssi_10</th>\n",
              "      <th>rssi_11</th>\n",
              "      <th>rssi_12</th>\n",
              "      <th>rssi_13</th>\n",
              "      <th>rssi_14</th>\n",
              "      <th>rssi_15</th>\n",
              "      <th>rssi_16</th>\n",
              "      <th>rssi_17</th>\n",
              "      <th>rssi_18</th>\n",
              "      <th>rssi_19</th>\n",
              "    </tr>\n",
              "  </thead>\n",
              "  <tbody>\n",
              "    <tr>\n",
              "      <th>0</th>\n",
              "      <td>5.841757</td>\n",
              "      <td>3.247589</td>\n",
              "      <td>2.577025</td>\n",
              "      <td>2.084538</td>\n",
              "      <td>1.833881</td>\n",
              "      <td>1.544942</td>\n",
              "      <td>1.388919</td>\n",
              "      <td>1.232740</td>\n",
              "      <td>1.118094</td>\n",
              "      <td>1.040804</td>\n",
              "      <td>0.975546</td>\n",
              "      <td>0.923306</td>\n",
              "      <td>0.883314</td>\n",
              "      <td>0.846874</td>\n",
              "      <td>0.820342</td>\n",
              "      <td>0.794867</td>\n",
              "      <td>0.769514</td>\n",
              "      <td>0.749619</td>\n",
              "      <td>0.728706</td>\n",
              "      <td>0.707716</td>\n",
              "    </tr>\n",
              "    <tr>\n",
              "      <th>1</th>\n",
              "      <td>5.880813</td>\n",
              "      <td>3.266062</td>\n",
              "      <td>2.577025</td>\n",
              "      <td>2.084538</td>\n",
              "      <td>1.833881</td>\n",
              "      <td>1.544942</td>\n",
              "      <td>1.388420</td>\n",
              "      <td>1.232740</td>\n",
              "      <td>1.118679</td>\n",
              "      <td>1.041533</td>\n",
              "      <td>0.976361</td>\n",
              "      <td>0.924179</td>\n",
              "      <td>0.883928</td>\n",
              "      <td>0.847415</td>\n",
              "      <td>0.820587</td>\n",
              "      <td>0.795088</td>\n",
              "      <td>0.769613</td>\n",
              "      <td>0.749710</td>\n",
              "      <td>0.728872</td>\n",
              "      <td>0.707791</td>\n",
              "    </tr>\n",
              "    <tr>\n",
              "      <th>2</th>\n",
              "      <td>5.828739</td>\n",
              "      <td>3.247589</td>\n",
              "      <td>2.574858</td>\n",
              "      <td>2.084538</td>\n",
              "      <td>1.832911</td>\n",
              "      <td>1.542993</td>\n",
              "      <td>1.387422</td>\n",
              "      <td>1.231619</td>\n",
              "      <td>1.117801</td>\n",
              "      <td>1.041047</td>\n",
              "      <td>0.975953</td>\n",
              "      <td>0.923830</td>\n",
              "      <td>0.883775</td>\n",
              "      <td>0.847145</td>\n",
              "      <td>0.820709</td>\n",
              "      <td>0.795199</td>\n",
              "      <td>0.769813</td>\n",
              "      <td>0.749892</td>\n",
              "      <td>0.729037</td>\n",
              "      <td>0.708014</td>\n",
              "    </tr>\n",
              "    <tr>\n",
              "      <th>3</th>\n",
              "      <td>5.659497</td>\n",
              "      <td>3.214339</td>\n",
              "      <td>2.572690</td>\n",
              "      <td>2.081890</td>\n",
              "      <td>1.830973</td>\n",
              "      <td>1.542993</td>\n",
              "      <td>1.387422</td>\n",
              "      <td>1.231245</td>\n",
              "      <td>1.117215</td>\n",
              "      <td>1.040561</td>\n",
              "      <td>0.975546</td>\n",
              "      <td>0.923480</td>\n",
              "      <td>0.883468</td>\n",
              "      <td>0.847009</td>\n",
              "      <td>0.820587</td>\n",
              "      <td>0.794978</td>\n",
              "      <td>0.769613</td>\n",
              "      <td>0.749710</td>\n",
              "      <td>0.728789</td>\n",
              "      <td>0.707791</td>\n",
              "    </tr>\n",
              "    <tr>\n",
              "      <th>4</th>\n",
              "      <td>5.711572</td>\n",
              "      <td>3.210645</td>\n",
              "      <td>2.568355</td>\n",
              "      <td>2.080566</td>\n",
              "      <td>1.830003</td>\n",
              "      <td>1.542343</td>\n",
              "      <td>1.387422</td>\n",
              "      <td>1.231619</td>\n",
              "      <td>1.117801</td>\n",
              "      <td>1.041047</td>\n",
              "      <td>0.975953</td>\n",
              "      <td>0.923655</td>\n",
              "      <td>0.883621</td>\n",
              "      <td>0.847009</td>\n",
              "      <td>0.820587</td>\n",
              "      <td>0.795088</td>\n",
              "      <td>0.769713</td>\n",
              "      <td>0.749801</td>\n",
              "      <td>0.728954</td>\n",
              "      <td>0.707940</td>\n",
              "    </tr>\n",
              "    <tr>\n",
              "      <th>5</th>\n",
              "      <td>5.659497</td>\n",
              "      <td>3.221728</td>\n",
              "      <td>2.579193</td>\n",
              "      <td>2.087186</td>\n",
              "      <td>1.835820</td>\n",
              "      <td>1.546242</td>\n",
              "      <td>1.388420</td>\n",
              "      <td>1.232740</td>\n",
              "      <td>1.118679</td>\n",
              "      <td>1.041776</td>\n",
              "      <td>0.976564</td>\n",
              "      <td>0.924179</td>\n",
              "      <td>0.883928</td>\n",
              "      <td>0.846874</td>\n",
              "      <td>0.820342</td>\n",
              "      <td>0.794867</td>\n",
              "      <td>0.769514</td>\n",
              "      <td>0.749619</td>\n",
              "      <td>0.728706</td>\n",
              "      <td>0.707716</td>\n",
              "    </tr>\n",
              "    <tr>\n",
              "      <th>6</th>\n",
              "      <td>5.672516</td>\n",
              "      <td>3.225422</td>\n",
              "      <td>2.581360</td>\n",
              "      <td>2.088510</td>\n",
              "      <td>1.836789</td>\n",
              "      <td>1.546892</td>\n",
              "      <td>1.387921</td>\n",
              "      <td>1.231993</td>\n",
              "      <td>1.117801</td>\n",
              "      <td>1.041047</td>\n",
              "      <td>0.975953</td>\n",
              "      <td>0.923830</td>\n",
              "      <td>0.883621</td>\n",
              "      <td>0.846874</td>\n",
              "      <td>0.820219</td>\n",
              "      <td>0.794756</td>\n",
              "      <td>0.769314</td>\n",
              "      <td>0.749436</td>\n",
              "      <td>0.728624</td>\n",
              "      <td>0.707642</td>\n",
              "    </tr>\n",
              "    <tr>\n",
              "      <th>7</th>\n",
              "      <td>5.659497</td>\n",
              "      <td>3.218033</td>\n",
              "      <td>2.577025</td>\n",
              "      <td>2.085862</td>\n",
              "      <td>1.834850</td>\n",
              "      <td>1.545592</td>\n",
              "      <td>1.388420</td>\n",
              "      <td>1.232740</td>\n",
              "      <td>1.118679</td>\n",
              "      <td>1.041533</td>\n",
              "      <td>0.976361</td>\n",
              "      <td>0.924179</td>\n",
              "      <td>0.883621</td>\n",
              "      <td>0.846738</td>\n",
              "      <td>0.820219</td>\n",
              "      <td>0.794646</td>\n",
              "      <td>0.769314</td>\n",
              "      <td>0.749436</td>\n",
              "      <td>0.728624</td>\n",
              "      <td>0.707642</td>\n",
              "    </tr>\n",
              "    <tr>\n",
              "      <th>8</th>\n",
              "      <td>5.659497</td>\n",
              "      <td>3.192172</td>\n",
              "      <td>2.557518</td>\n",
              "      <td>2.073946</td>\n",
              "      <td>1.826126</td>\n",
              "      <td>1.540394</td>\n",
              "      <td>1.385925</td>\n",
              "      <td>1.230497</td>\n",
              "      <td>1.116922</td>\n",
              "      <td>1.040318</td>\n",
              "      <td>0.975342</td>\n",
              "      <td>0.923131</td>\n",
              "      <td>0.883161</td>\n",
              "      <td>0.846738</td>\n",
              "      <td>0.820342</td>\n",
              "      <td>0.794867</td>\n",
              "      <td>0.769414</td>\n",
              "      <td>0.749436</td>\n",
              "      <td>0.728624</td>\n",
              "      <td>0.707642</td>\n",
              "    </tr>\n",
              "    <tr>\n",
              "      <th>9</th>\n",
              "      <td>5.659497</td>\n",
              "      <td>3.188478</td>\n",
              "      <td>2.559685</td>\n",
              "      <td>2.075270</td>\n",
              "      <td>1.827095</td>\n",
              "      <td>1.541044</td>\n",
              "      <td>1.386923</td>\n",
              "      <td>1.231245</td>\n",
              "      <td>1.116922</td>\n",
              "      <td>1.040318</td>\n",
              "      <td>0.975139</td>\n",
              "      <td>0.923131</td>\n",
              "      <td>0.883161</td>\n",
              "      <td>0.846738</td>\n",
              "      <td>0.820219</td>\n",
              "      <td>0.794756</td>\n",
              "      <td>0.769414</td>\n",
              "      <td>0.749527</td>\n",
              "      <td>0.728706</td>\n",
              "      <td>0.707716</td>\n",
              "    </tr>\n",
              "  </tbody>\n",
              "</table>\n",
              "</div>"
            ],
            "text/plain": [
              "     rssi_0    rssi_1    rssi_2  ...   rssi_17   rssi_18   rssi_19\n",
              "0  5.841757  3.247589  2.577025  ...  0.749619  0.728706  0.707716\n",
              "1  5.880813  3.266062  2.577025  ...  0.749710  0.728872  0.707791\n",
              "2  5.828739  3.247589  2.574858  ...  0.749892  0.729037  0.708014\n",
              "3  5.659497  3.214339  2.572690  ...  0.749710  0.728789  0.707791\n",
              "4  5.711572  3.210645  2.568355  ...  0.749801  0.728954  0.707940\n",
              "5  5.659497  3.221728  2.579193  ...  0.749619  0.728706  0.707716\n",
              "6  5.672516  3.225422  2.581360  ...  0.749436  0.728624  0.707642\n",
              "7  5.659497  3.218033  2.577025  ...  0.749436  0.728624  0.707642\n",
              "8  5.659497  3.192172  2.557518  ...  0.749436  0.728624  0.707642\n",
              "9  5.659497  3.188478  2.559685  ...  0.749527  0.728706  0.707716\n",
              "\n",
              "[10 rows x 20 columns]"
            ]
          },
          "metadata": {
            "tags": []
          },
          "execution_count": 53
        }
      ]
    },
    {
      "cell_type": "markdown",
      "metadata": {
        "id": "k3ltakG5IpS3"
      },
      "source": [
        "## modeling"
      ]
    },
    {
      "cell_type": "code",
      "metadata": {
        "id": "FTU96LMIIqrJ"
      },
      "source": [
        "class IndoorDataset(Dataset):\n",
        "    def __init__(self, data, flag='TRAIN'):\n",
        "        self.data = data\n",
        "        self.flag = flag\n",
        "    def __len__(self):\n",
        "        return self.data.shape[0]\n",
        "    def __getitem__(self, index):\n",
        "        tmp_data = self.data.iloc[index]\n",
        "        if self.flag == 'TRAIN':\n",
        "            return {\n",
        "                'BSSID_FEATS':tmp_data[BSSID_FEATS].values.astype(float),\n",
        "                'RSSI_FEATS':tmp_data[RSSI_FEATS].values.astype(float),\n",
        "                'site_id':tmp_data['site_id'].astype(int),\n",
        "                'x':tmp_data['x'],\n",
        "                'y':tmp_data['y'],\n",
        "                'floor':tmp_data['floor'],\n",
        "            }\n",
        "        else:\n",
        "            return {\n",
        "                'BSSID_FEATS':tmp_data[BSSID_FEATS].values.astype(float),\n",
        "                'RSSI_FEATS':tmp_data[RSSI_FEATS].values.astype(float),\n",
        "                'site_id':tmp_data['site_id'].astype(int)\n",
        "            }"
      ],
      "execution_count": null,
      "outputs": []
    },
    {
      "cell_type": "code",
      "metadata": {
        "id": "-ehQOeMKI2mJ"
      },
      "source": [
        "class SimpleLSTM(nn.Module):\n",
        "    def __init__(self, embedding_dim = 64, seq_len=20):\n",
        "        super(simpleLSTM, self).__init__()\n",
        "        self.emb_BSSID_FEATS = nn.Embedding(wifi_bssids_size, embedding_dim)\n",
        "        self.emb_site_id = nn.Embedding(site_count, 2)\n",
        "        self.lstm1 = nn.LSTM(input_size=256,hidden_size=128, dropout=0.3, bidirectional=False)\n",
        "        self.lstm2 = nn.LSTM(input_size=128,hidden_size=16, dropout=0.1, bidirectional=False)\n",
        "        self.lr = nn.Linear(NUM_FEATS, NUM_FEATS * embedding_dim)\n",
        "        self.lr1 = nn.Linear(2562, 256)\n",
        "        self.lr_xy = nn.Linear(16, 2)\n",
        "        self.lr_floor = nn.Linear(16, 1)\n",
        "        self.batch_norm1 = nn.BatchNorm1d(NUM_FEATS)\n",
        "        self.batch_norm2 = nn.BatchNorm1d(2562)\n",
        "        self.batch_norm3 = nn.BatchNorm1d(1)\n",
        "        self.dropout = nn.Dropout(0.3)\n",
        "    def forward(self, x):\n",
        "        \n",
        "        x_bssid = self.emb_BSSID_FEATS(x['BSSID_FEATS'])\n",
        "        x_bssid = torch.flatten(x_bssid, start_dim=-2)\n",
        "        \n",
        "        x_site_id = self.emb_site_id(x['site_id'])\n",
        "        x_site_id = torch.flatten(x_site_id, start_dim=-1)\n",
        "        x_rssi = self.batch_norm1(x['RSSI_FEATS'])\n",
        "        x_rssi = self.lr(x_rssi)\n",
        "        x_rssi = torch.relu(x_rssi)\n",
        "        \n",
        "        x = torch.cat([x_bssid, x_site_id, x_rssi], dim=-1)\n",
        "        x = self.batch_norm2(x)\n",
        "        x = self.dropout(x)\n",
        "        x = torch.relu(self.lr1(x))\n",
        "\n",
        "        x = x.unsqueeze(-2)\n",
        "        x = self.batch_norm3(x)\n",
        "        x = x.transpose(0, 1)\n",
        "        x, _ = self.lstm1(x)\n",
        "        x = x.transpose(0, 1)\n",
        "        x = torch.relu(x)\n",
        "        x = x.transpose(0, 1)\n",
        "        x, _ = self.lstm2(x)\n",
        "        x = x.transpose(0, 1)\n",
        "        x = torch.relu(x)\n",
        "        xy = self.lr_xy(x)\n",
        "        floor = self.lr_floor(x)\n",
        "        floor = torch.relu(floor)\n",
        "        return xy.squeeze(-2), floor.squeeze(-2)"
      ],
      "execution_count": null,
      "outputs": []
    },
    {
      "cell_type": "code",
      "metadata": {
        "id": "stpqo-9DVDs-"
      },
      "source": [
        "tmp = data.loc[:9,BSSID_FEATS]\n",
        "tmp_ids = []\n",
        "for i in range(20):\n",
        "    tmp_ids.extend(tmp.iloc[:,i].values.tolist())\n",
        "tmp_ids = len(list(set(tmp_ids)))\n",
        "_emb = nn.Embedding(wifi_bssids_size, 64)\n",
        "_res = _emb(torch.tensor(tmp.values.astype(float)).long())\n",
        "_res = torch.flatten(_res, start_dim=-2)\n",
        "#torch.tensor(tmp.values).size()\n",
        "\n",
        "tmp2 = data.loc[:9,RSSI_FEATS]\n",
        "tmp2_ids = []\n",
        "for i in range(20):\n",
        "    tmp2_ids.extend(tmp2.iloc[:,i].values.tolist())\n",
        "tmp2_ids = len(list(set(tmp2_ids)))\n",
        "lr = nn.Linear(20, 1280)\n",
        "_res2 = lr(torch.tensor(tmp2.values.astype(float)).float())\n",
        "\n",
        "tmp3 = data.loc[:9,\"site_id\"]\n",
        "_emb2 = nn.Embedding(site_count, 2)\n",
        "_res3 = _emb2(torch.tensor(tmp3.values.astype(float)).long())\n",
        "_res3 = torch.flatten(_res3, start_dim=-1)"
      ],
      "execution_count": null,
      "outputs": []
    },
    {
      "cell_type": "code",
      "metadata": {
        "colab": {
          "base_uri": "https://localhost:8080/"
        },
        "id": "mXT4mIq2VU4g",
        "outputId": "cc9b30c1-4882-4a93-f3d4-b4d7b4e79ded"
      },
      "source": [
        "_res.size(), _res2.size(), _res3.size()"
      ],
      "execution_count": null,
      "outputs": [
        {
          "output_type": "execute_result",
          "data": {
            "text/plain": [
              "(torch.Size([10, 1280]), torch.Size([10, 1280]), torch.Size([10, 2]))"
            ]
          },
          "metadata": {
            "tags": []
          },
          "execution_count": 114
        }
      ]
    },
    {
      "cell_type": "code",
      "metadata": {
        "id": "1krRsdrxZrca"
      },
      "source": [
        "_all = torch.cat([_res, _res2, _res3], dim=-1)\n",
        "_all = nn.Linear(2562, 256)(_all)"
      ],
      "execution_count": null,
      "outputs": []
    },
    {
      "cell_type": "code",
      "metadata": {
        "colab": {
          "base_uri": "https://localhost:8080/"
        },
        "id": "6zB61jo8btzQ",
        "outputId": "d798817b-3669-4480-c84b-64c8579f9b3e"
      },
      "source": [
        "_all.size()"
      ],
      "execution_count": null,
      "outputs": [
        {
          "output_type": "execute_result",
          "data": {
            "text/plain": [
              "torch.Size([10, 256])"
            ]
          },
          "metadata": {
            "tags": []
          },
          "execution_count": 116
        }
      ]
    },
    {
      "cell_type": "code",
      "metadata": {
        "colab": {
          "base_uri": "https://localhost:8080/"
        },
        "id": "GW-xJQ7Qcr86",
        "outputId": "2e52188a-bab0-4f9b-dfcd-53b03115f26d"
      },
      "source": [
        "_un = _all.unsqueeze(-2)\n",
        "_un.size()"
      ],
      "execution_count": null,
      "outputs": [
        {
          "output_type": "execute_result",
          "data": {
            "text/plain": [
              "torch.Size([10, 1, 256])"
            ]
          },
          "metadata": {
            "tags": []
          },
          "execution_count": 117
        }
      ]
    },
    {
      "cell_type": "code",
      "metadata": {
        "colab": {
          "base_uri": "https://localhost:8080/"
        },
        "id": "aUPdtfyTfPPD",
        "outputId": "83d9c5c1-4740-4f3c-d599-7a26359784ec"
      },
      "source": [
        "_tr = _un.transpose(0, 1)\n",
        "_tr.size()"
      ],
      "execution_count": null,
      "outputs": [
        {
          "output_type": "execute_result",
          "data": {
            "text/plain": [
              "torch.Size([1, 10, 256])"
            ]
          },
          "metadata": {
            "tags": []
          },
          "execution_count": 118
        }
      ]
    },
    {
      "cell_type": "code",
      "metadata": {
        "colab": {
          "base_uri": "https://localhost:8080/"
        },
        "id": "SgQBw3x0fbOv",
        "outputId": "c40652be-aa84-4c44-db4c-ecf4cfb08d1b"
      },
      "source": [
        "_lstm1 = nn.LSTM(input_size=256,hidden_size=128, dropout=0.3, bidirectional=False)\n",
        "_ls1, _ = _lstm1(_tr)\n",
        "_ls1.size()"
      ],
      "execution_count": null,
      "outputs": [
        {
          "output_type": "stream",
          "text": [
            "/usr/local/lib/python3.7/dist-packages/torch/nn/modules/rnn.py:63: UserWarning: dropout option adds dropout after all but last recurrent layer, so non-zero dropout expects num_layers greater than 1, but got dropout=0.3 and num_layers=1\n",
            "  \"num_layers={}\".format(dropout, num_layers))\n"
          ],
          "name": "stderr"
        },
        {
          "output_type": "execute_result",
          "data": {
            "text/plain": [
              "torch.Size([1, 10, 128])"
            ]
          },
          "metadata": {
            "tags": []
          },
          "execution_count": 119
        }
      ]
    },
    {
      "cell_type": "code",
      "metadata": {
        "colab": {
          "base_uri": "https://localhost:8080/"
        },
        "id": "uQBxHWDVgKZj",
        "outputId": "ae92d8cf-9246-4c9c-c601-2ef2acee927d"
      },
      "source": [
        "_xy = _ls1.transpose(0, 1)\n",
        "_xy = nn.Linear(128,2)(_xy)\n",
        "_xy.size()"
      ],
      "execution_count": null,
      "outputs": [
        {
          "output_type": "execute_result",
          "data": {
            "text/plain": [
              "torch.Size([10, 1, 2])"
            ]
          },
          "metadata": {
            "tags": []
          },
          "execution_count": 122
        }
      ]
    },
    {
      "cell_type": "code",
      "metadata": {
        "colab": {
          "base_uri": "https://localhost:8080/"
        },
        "id": "OzbiAEwJn2_o",
        "outputId": "7dea7537-0c7a-4882-c540-7c883f05d4c1"
      },
      "source": [
        "_xy.squeeze(-2).size()"
      ],
      "execution_count": null,
      "outputs": [
        {
          "output_type": "execute_result",
          "data": {
            "text/plain": [
              "torch.Size([10, 2])"
            ]
          },
          "metadata": {
            "tags": []
          },
          "execution_count": 123
        }
      ]
    },
    {
      "cell_type": "code",
      "metadata": {
        "id": "IXPhtXcZoA5N"
      },
      "source": [
        ""
      ],
      "execution_count": null,
      "outputs": []
    }
  ]
}