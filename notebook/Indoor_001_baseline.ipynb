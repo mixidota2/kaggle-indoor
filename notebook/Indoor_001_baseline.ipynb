{
  "nbformat": 4,
  "nbformat_minor": 0,
  "metadata": {
    "colab": {
      "name": "Indoor_001_baseline.ipynb",
      "provenance": [],
      "toc_visible": true,
      "mount_file_id": "1BvR8HA789V1HCAAyMyi5cODGRAI0dADN",
      "authorship_tag": "ABX9TyMrotK96BjW+bffYf6F6lyC",
      "include_colab_link": true
    },
    "kernelspec": {
      "name": "python3",
      "display_name": "Python 3"
    }
  },
  "cells": [
    {
      "cell_type": "markdown",
      "metadata": {
        "id": "view-in-github",
        "colab_type": "text"
      },
      "source": [
        "<a href=\"https://colab.research.google.com/github/mixidota2/kaggle-indoor/blob/main/notebook/Indoor_001_baseline.ipynb\" target=\"_parent\"><img src=\"https://colab.research.google.com/assets/colab-badge.svg\" alt=\"Open In Colab\"/></a>"
      ]
    },
    {
      "cell_type": "code",
      "metadata": {
        "id": "bt9wbO1c-3JO"
      },
      "source": [
        "%cd drive/MyDrive/kaggle/indoor"
      ],
      "execution_count": null,
      "outputs": []
    },
    {
      "cell_type": "code",
      "metadata": {
        "id": "lzXwJvvjqqOt"
      },
      "source": [
        "!git config --global user.email \"takuwanrocks@gmail.com\"\r\n",
        "!git config --global user.name \"mixidota2\""
      ],
      "execution_count": null,
      "outputs": []
    },
    {
      "cell_type": "code",
      "metadata": {
        "id": "Xwcwo-NOq8wu"
      },
      "source": [
        "!"
      ],
      "execution_count": null,
      "outputs": []
    }
  ]
}